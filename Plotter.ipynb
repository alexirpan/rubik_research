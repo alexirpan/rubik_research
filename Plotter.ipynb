{
 "cells": [
  {
   "cell_type": "code",
   "execution_count": 1,
   "metadata": {
    "collapsed": false
   },
   "outputs": [],
   "source": [
    "require 'rnn'\n",
    "require 'itorch.Plot'"
   ]
  },
  {
   "cell_type": "code",
   "execution_count": 2,
   "metadata": {
    "collapsed": false
   },
   "outputs": [
    {
     "data": {
      "text/plain": [
       "models_2_full/rubiks_best\tloaded\t\n"
      ]
     },
     "execution_count": 2,
     "metadata": {},
     "output_type": "execute_result"
    },
    {
     "data": {
      "text/plain": [
       "models_2_lstm/rubiks_best\tloaded\t\n"
      ]
     },
     "execution_count": 2,
     "metadata": {},
     "output_type": "execute_result"
    },
    {
     "data": {
      "text/plain": [
       "models_2_rnn/rubiks_best\tloaded\t\n"
      ]
     },
     "execution_count": 2,
     "metadata": {},
     "output_type": "execute_result"
    },
    {
     "data": {
      "text/plain": [
       "models_2_fulltwo/rubiks_best\tloaded\t\n"
      ]
     },
     "execution_count": 2,
     "metadata": {},
     "output_type": "execute_result"
    },
    {
     "data": {
      "text/plain": [
       "models_3_full/rubiks_best\tloaded\t\n"
      ]
     },
     "execution_count": 2,
     "metadata": {},
     "output_type": "execute_result"
    },
    {
     "data": {
      "text/plain": [
       "models_3_lstm/rubiks_best\tloaded\t\n"
      ]
     },
     "execution_count": 2,
     "metadata": {},
     "output_type": "execute_result"
    },
    {
     "data": {
      "text/plain": [
       "models_3_rnn/rubiks_best\tloaded\t\n"
      ]
     },
     "execution_count": 2,
     "metadata": {},
     "output_type": "execute_result"
    },
    {
     "data": {
      "text/plain": [
       "models_3_fulltwo/rubiks_best\tloaded\t\n"
      ]
     },
     "execution_count": 2,
     "metadata": {},
     "output_type": "execute_result"
    },
    {
     "data": {
      "text/plain": [
       "models_4_full/rubiks_best\tloaded\t\n"
      ]
     },
     "execution_count": 2,
     "metadata": {},
     "output_type": "execute_result"
    },
    {
     "data": {
      "text/plain": [
       "models_4_lstm/rubiks_best\tloaded\t\n"
      ]
     },
     "execution_count": 2,
     "metadata": {},
     "output_type": "execute_result"
    },
    {
     "data": {
      "text/plain": [
       "models_4_rnn/rubiks_best\tloaded\t\n"
      ]
     },
     "execution_count": 2,
     "metadata": {},
     "output_type": "execute_result"
    },
    {
     "data": {
      "text/plain": [
       "models_4_fulltwo/rubiks_best\tloaded\t\n"
      ]
     },
     "execution_count": 2,
     "metadata": {},
     "output_type": "execute_result"
    },
    {
     "data": {
      "text/plain": [
       "models_5_full/rubiks_best\tloaded\t\n"
      ]
     },
     "execution_count": 2,
     "metadata": {},
     "output_type": "execute_result"
    },
    {
     "data": {
      "text/plain": [
       "models_5_lstm/rubiks_best\tloaded\t\n"
      ]
     },
     "execution_count": 2,
     "metadata": {},
     "output_type": "execute_result"
    },
    {
     "data": {
      "text/plain": [
       "models_5_rnn/rubiks_best\tloaded\t\n"
      ]
     },
     "execution_count": 2,
     "metadata": {},
     "output_type": "execute_result"
    },
    {
     "data": {
      "text/plain": [
       "models_5_fulltwo/rubiks_best\tloaded\t\n"
      ]
     },
     "execution_count": 2,
     "metadata": {},
     "output_type": "execute_result"
    },
    {
     "data": {
      "text/plain": [
       "models_6_full/rubiks_best\tloaded\t\n"
      ]
     },
     "execution_count": 2,
     "metadata": {},
     "output_type": "execute_result"
    },
    {
     "data": {
      "text/plain": [
       "models_6_lstm/rubiks_best\tloaded\t\n"
      ]
     },
     "execution_count": 2,
     "metadata": {},
     "output_type": "execute_result"
    },
    {
     "data": {
      "text/plain": [
       "models_6_rnn/rubiks_best\tloaded\t\n"
      ]
     },
     "execution_count": 2,
     "metadata": {},
     "output_type": "execute_result"
    },
    {
     "data": {
      "text/plain": [
       "models_6_fulltwo/rubiks_best\tloaded\t\n"
      ]
     },
     "execution_count": 2,
     "metadata": {},
     "output_type": "execute_result"
    },
    {
     "data": {
      "text/plain": [
       "models_7_full/rubiks_best\tloaded\t\n"
      ]
     },
     "execution_count": 2,
     "metadata": {},
     "output_type": "execute_result"
    },
    {
     "data": {
      "text/plain": [
       "models_7_lstm/rubiks_best\tloaded\t\n"
      ]
     },
     "execution_count": 2,
     "metadata": {},
     "output_type": "execute_result"
    },
    {
     "data": {
      "text/plain": [
       "models_7_rnn/rubiks_best\tloaded\t\n"
      ]
     },
     "execution_count": 2,
     "metadata": {},
     "output_type": "execute_result"
    },
    {
     "data": {
      "text/plain": [
       "models_7_fulltwo/rubiks_best\tloaded\t\n"
      ]
     },
     "execution_count": 2,
     "metadata": {},
     "output_type": "execute_result"
    },
    {
     "data": {
      "text/plain": [
       "models_8_full/rubiks_best\tloaded\t\n"
      ]
     },
     "execution_count": 2,
     "metadata": {},
     "output_type": "execute_result"
    },
    {
     "data": {
      "text/plain": [
       "models_8_lstm/rubiks_best\tloaded\t\n"
      ]
     },
     "execution_count": 2,
     "metadata": {},
     "output_type": "execute_result"
    },
    {
     "data": {
      "text/plain": [
       "models_8_rnn/rubiks_best\tloaded\t\n"
      ]
     },
     "execution_count": 2,
     "metadata": {},
     "output_type": "execute_result"
    },
    {
     "data": {
      "text/plain": [
       "models_8_fulltwo/rubiks_best\tloaded\t\n"
      ]
     },
     "execution_count": 2,
     "metadata": {},
     "output_type": "execute_result"
    },
    {
     "data": {
      "text/plain": [
       "models_9_full/rubiks_best\tloaded\t\n"
      ]
     },
     "execution_count": 2,
     "metadata": {},
     "output_type": "execute_result"
    },
    {
     "data": {
      "text/plain": [
       "models_9_lstm/rubiks_best\tloaded\t\n"
      ]
     },
     "execution_count": 2,
     "metadata": {},
     "output_type": "execute_result"
    },
    {
     "data": {
      "text/plain": [
       "models_9_rnn/rubiks_best\tloaded\t\n"
      ]
     },
     "execution_count": 2,
     "metadata": {},
     "output_type": "execute_result"
    },
    {
     "data": {
      "text/plain": [
       "models_9_fulltwo/rubiks_best\tloaded\t\n"
      ]
     },
     "execution_count": 2,
     "metadata": {},
     "output_type": "execute_result"
    }
   ],
   "source": [
    "-- TODO something less hardcoded\n",
    "filenames = {}\n",
    "for i=2,9 do\n",
    "    for _, typ in ipairs({'full', 'lstm', 'rnn', 'fulltwo'}) do\n",
    "        table.insert(filenames, string.format('models_%d_%s/rubiks_best', i, typ))\n",
    "    end\n",
    "end\n",
    "\n",
    "best_results = {}\n",
    "for _, name in ipairs(filenames) do\n",
    "    best_results[name] = torch.load(name, 'ascii')\n",
    "    print(name, 'loaded')\n",
    "end"
   ]
  },
  {
   "cell_type": "code",
   "execution_count": 4,
   "metadata": {
    "collapsed": false
   },
   "outputs": [
    {
     "data": {
      "text/html": [
       "<script type=\"text/javascript\">\n",
       "$(function() {\n",
       "    if (typeof (window._bokeh_onload_callbacks) === \"undefined\"){\n",
       "  window._bokeh_onload_callbacks = [];\n",
       "    }\n",
       "    function load_lib(url, callback){\n",
       "  window._bokeh_onload_callbacks.push(callback);\n",
       "  if (window._bokeh_is_loading){\n",
       "      console.log(\"Bokeh: BokehJS is being loaded, scheduling callback at\", new Date());\n",
       "      return null;\n",
       "  }\n",
       "  console.log(\"Bokeh: BokehJS not loaded, scheduling load and callback at\", new Date());\n",
       "  window._bokeh_is_loading = true;\n",
       "  var s = document.createElement('script');\n",
       "  s.src = url;\n",
       "  s.async = true;\n",
       "  s.onreadystatechange = s.onload = function(){\n",
       "      Bokeh.embed.inject_css(\"http://cdn.pydata.org/bokeh-0.7.0.min.css\");\n",
       "      window._bokeh_onload_callbacks.forEach(function(callback){callback()});\n",
       "  };\n",
       "  s.onerror = function(){\n",
       "      console.warn(\"failed to load library \" + url);\n",
       "  };\n",
       "  document.getElementsByTagName(\"head\")[0].appendChild(s);\n",
       "    }\n",
       "\n",
       "    bokehjs_url = \"http://cdn.pydata.org/bokeh-0.7.0.min.js\"\n",
       "\n",
       "    var elt = document.getElementById(\"bb1614d0-945b-49bc-c939-478134e839e5\");\n",
       "    if(elt==null) {\n",
       "  console.log(\"Bokeh: ERROR: autoload.js configured with elementid 'bb1614d0-945b-49bc-c939-478134e839e5'\"\n",
       "        + \"but no matching script tag was found. \")\n",
       "  return false;\n",
       "    }\n",
       "\n",
       "    if(typeof(Bokeh) !== \"undefined\") {\n",
       "  console.log(\"Bokeh: BokehJS loaded, going straight to plotting\");\n",
       "  var modelid = \"3341b4ae-cbb7-4b06-cb09-af6b68284b67\";\n",
       "  var modeltype = \"Plot\";\n",
       "  var all_models = [{\"id\":\"4790005a-184c-44cd-c430-d44d8e4487c9\",\"type\":\"ColumnDataSource\",\"attributes\":{\"data\":{\"y\":[90.034,86.182,84.4405,82.2324,78.751666666667,74.732285714286,71.179,66.468888888889],\"x\":[2,3,4,5,6,7,8,9]},\"column_names\":[\"y\",\"x\"],\"cont_ranges\":{},\"discrete_ranges\":{},\"selected\":[],\"id\":\"4790005a-184c-44cd-c430-d44d8e4487c9\",\"doc\":null,\"tags\":[]}},{\"id\":\"851d1b8b-11ef-4d4f-cd56-15c4c5291a50\",\"type\":\"Line\",\"attributes\":{\"fill_alpha\":{\"units\":\"data\",\"value\":0.2},\"line_alpha\":{\"units\":\"data\",\"value\":1},\"doc\":null,\"size\":{\"units\":\"screen\",\"value\":10},\"fill_color\":{\"value\":\"red\"},\"line_color\":{\"value\":\"red\"},\"x\":{\"units\":\"data\",\"field\":\"x\"},\"id\":\"851d1b8b-11ef-4d4f-cd56-15c4c5291a50\",\"y\":{\"units\":\"data\",\"field\":\"y\"},\"tags\":[]}},{\"id\":\"edb83bf6-05e3-44b6-c4a2-4de8e78dc2eb\",\"type\":\"Line\",\"attributes\":{\"fill_alpha\":{\"units\":\"data\",\"value\":0.2},\"line_alpha\":{\"units\":\"data\",\"value\":1},\"doc\":null,\"size\":{\"units\":\"screen\",\"value\":10},\"fill_color\":{\"value\":\"red\"},\"line_color\":{\"value\":\"red\"},\"x\":{\"units\":\"data\",\"field\":\"x\"},\"id\":\"edb83bf6-05e3-44b6-c4a2-4de8e78dc2eb\",\"y\":{\"units\":\"data\",\"field\":\"y\"},\"tags\":[]}},{\"id\":\"9ad64c8d-0dc1-490d-c9da-0dd82bac1e91\",\"type\":\"GlyphRenderer\",\"attributes\":{\"name\":null,\"nonselection_glyph\":{\"type\":\"Line\",\"id\":\"edb83bf6-05e3-44b6-c4a2-4de8e78dc2eb\"},\"doc\":null,\"server_data_source\":null,\"data_source\":{\"type\":\"ColumnDataSource\",\"id\":\"4790005a-184c-44cd-c430-d44d8e4487c9\"},\"glyph\":{\"type\":\"Line\",\"id\":\"851d1b8b-11ef-4d4f-cd56-15c4c5291a50\"},\"selection_glyph\":null,\"id\":\"9ad64c8d-0dc1-490d-c9da-0dd82bac1e91\",\"tags\":[]}},{\"id\":\"88fe02b4-c305-4443-c4bc-51a48e8ab53c\",\"type\":\"ColumnDataSource\",\"attributes\":{\"data\":{\"y\":[89.861,86.428,84.497,83.028,79.319333333333,75.696,70.903,67.666666666667],\"x\":[2,3,4,5,6,7,8,9]},\"column_names\":[\"y\",\"x\"],\"cont_ranges\":{},\"discrete_ranges\":{},\"selected\":[],\"id\":\"88fe02b4-c305-4443-c4bc-51a48e8ab53c\",\"doc\":null,\"tags\":[]}},{\"id\":\"3de3aa81-2bc2-4514-c55b-552a597be5ee\",\"type\":\"Line\",\"attributes\":{\"fill_alpha\":{\"units\":\"data\",\"value\":0.2},\"line_alpha\":{\"units\":\"data\",\"value\":1},\"doc\":null,\"size\":{\"units\":\"screen\",\"value\":10},\"fill_color\":{\"value\":\"pink\"},\"line_color\":{\"value\":\"pink\"},\"x\":{\"units\":\"data\",\"field\":\"x\"},\"id\":\"3de3aa81-2bc2-4514-c55b-552a597be5ee\",\"y\":{\"units\":\"data\",\"field\":\"y\"},\"tags\":[]}},{\"id\":\"30478146-1415-43bc-c354-2f11b7f63741\",\"type\":\"Line\",\"attributes\":{\"fill_alpha\":{\"units\":\"data\",\"value\":0.2},\"line_alpha\":{\"units\":\"data\",\"value\":1},\"doc\":null,\"size\":{\"units\":\"screen\",\"value\":10},\"fill_color\":{\"value\":\"pink\"},\"line_color\":{\"value\":\"pink\"},\"x\":{\"units\":\"data\",\"field\":\"x\"},\"id\":\"30478146-1415-43bc-c354-2f11b7f63741\",\"y\":{\"units\":\"data\",\"field\":\"y\"},\"tags\":[]}},{\"id\":\"67fedde7-77f3-4be4-cbee-f8d7e302e1f3\",\"type\":\"GlyphRenderer\",\"attributes\":{\"name\":null,\"nonselection_glyph\":{\"type\":\"Line\",\"id\":\"30478146-1415-43bc-c354-2f11b7f63741\"},\"doc\":null,\"server_data_source\":null,\"data_source\":{\"type\":\"ColumnDataSource\",\"id\":\"88fe02b4-c305-4443-c4bc-51a48e8ab53c\"},\"glyph\":{\"type\":\"Line\",\"id\":\"3de3aa81-2bc2-4514-c55b-552a597be5ee\"},\"selection_glyph\":null,\"id\":\"67fedde7-77f3-4be4-cbee-f8d7e302e1f3\",\"tags\":[]}},{\"id\":\"bf1c741c-5060-4927-c9b9-07391de6e8a4\",\"type\":\"ColumnDataSource\",\"attributes\":{\"data\":{\"y\":[89.956,86.15,84.2055,80.6276,76.277666666667,71.184857142857,65.6965,60.323555555556],\"x\":[2,3,4,5,6,7,8,9]},\"column_names\":[\"y\",\"x\"],\"cont_ranges\":{},\"discrete_ranges\":{},\"selected\":[],\"id\":\"bf1c741c-5060-4927-c9b9-07391de6e8a4\",\"doc\":null,\"tags\":[]}},{\"id\":\"e4375cef-c895-46d0-c6a9-fab205519e72\",\"type\":\"Line\",\"attributes\":{\"fill_alpha\":{\"units\":\"data\",\"value\":0.2},\"line_alpha\":{\"units\":\"data\",\"value\":1},\"doc\":null,\"size\":{\"units\":\"screen\",\"value\":10},\"fill_color\":{\"value\":\"blue\"},\"line_color\":{\"value\":\"blue\"},\"x\":{\"units\":\"data\",\"field\":\"x\"},\"id\":\"e4375cef-c895-46d0-c6a9-fab205519e72\",\"y\":{\"units\":\"data\",\"field\":\"y\"},\"tags\":[]}},{\"id\":\"648b2e60-e405-4c40-cc5b-fff61141078a\",\"type\":\"Line\",\"attributes\":{\"fill_alpha\":{\"units\":\"data\",\"value\":0.2},\"line_alpha\":{\"units\":\"data\",\"value\":1},\"doc\":null,\"size\":{\"units\":\"screen\",\"value\":10},\"fill_color\":{\"value\":\"blue\"},\"line_color\":{\"value\":\"blue\"},\"x\":{\"units\":\"data\",\"field\":\"x\"},\"id\":\"648b2e60-e405-4c40-cc5b-fff61141078a\",\"y\":{\"units\":\"data\",\"field\":\"y\"},\"tags\":[]}},{\"id\":\"489e075e-014c-4ef5-ce93-ac111bcdfad3\",\"type\":\"GlyphRenderer\",\"attributes\":{\"name\":null,\"nonselection_glyph\":{\"type\":\"Line\",\"id\":\"648b2e60-e405-4c40-cc5b-fff61141078a\"},\"doc\":null,\"server_data_source\":null,\"data_source\":{\"type\":\"ColumnDataSource\",\"id\":\"bf1c741c-5060-4927-c9b9-07391de6e8a4\"},\"glyph\":{\"type\":\"Line\",\"id\":\"e4375cef-c895-46d0-c6a9-fab205519e72\"},\"selection_glyph\":null,\"id\":\"489e075e-014c-4ef5-ce93-ac111bcdfad3\",\"tags\":[]}},{\"id\":\"4323d333-fe4b-47ae-c720-624cf01f3eae\",\"type\":\"ColumnDataSource\",\"attributes\":{\"data\":{\"y\":[89.902,86.501333333333,85.161,83.6448,80.889,78.911714285714,76.08375,72.237555555556],\"x\":[2,3,4,5,6,7,8,9]},\"column_names\":[\"y\",\"x\"],\"cont_ranges\":{},\"discrete_ranges\":{},\"selected\":[],\"id\":\"4323d333-fe4b-47ae-c720-624cf01f3eae\",\"doc\":null,\"tags\":[]}},{\"id\":\"1aa638fb-0aeb-4e45-cebe-45eea8d8a6e4\",\"type\":\"Line\",\"attributes\":{\"fill_alpha\":{\"units\":\"data\",\"value\":0.2},\"line_alpha\":{\"units\":\"data\",\"value\":1},\"doc\":null,\"size\":{\"units\":\"screen\",\"value\":10},\"fill_color\":{\"value\":\"green\"},\"line_color\":{\"value\":\"green\"},\"x\":{\"units\":\"data\",\"field\":\"x\"},\"id\":\"1aa638fb-0aeb-4e45-cebe-45eea8d8a6e4\",\"y\":{\"units\":\"data\",\"field\":\"y\"},\"tags\":[]}},{\"id\":\"a5b6de1d-d2b3-4e39-ce5e-d76a30234d47\",\"type\":\"Line\",\"attributes\":{\"fill_alpha\":{\"units\":\"data\",\"value\":0.2},\"line_alpha\":{\"units\":\"data\",\"value\":1},\"doc\":null,\"size\":{\"units\":\"screen\",\"value\":10},\"fill_color\":{\"value\":\"green\"},\"line_color\":{\"value\":\"green\"},\"x\":{\"units\":\"data\",\"field\":\"x\"},\"id\":\"a5b6de1d-d2b3-4e39-ce5e-d76a30234d47\",\"y\":{\"units\":\"data\",\"field\":\"y\"},\"tags\":[]}},{\"id\":\"d8769ff3-60c1-4be2-cbef-3376017c54e6\",\"type\":\"GlyphRenderer\",\"attributes\":{\"name\":null,\"nonselection_glyph\":{\"type\":\"Line\",\"id\":\"a5b6de1d-d2b3-4e39-ce5e-d76a30234d47\"},\"doc\":null,\"server_data_source\":null,\"data_source\":{\"type\":\"ColumnDataSource\",\"id\":\"4323d333-fe4b-47ae-c720-624cf01f3eae\"},\"glyph\":{\"type\":\"Line\",\"id\":\"1aa638fb-0aeb-4e45-cebe-45eea8d8a6e4\"},\"selection_glyph\":null,\"id\":\"d8769ff3-60c1-4be2-cbef-3376017c54e6\",\"tags\":[]}},{\"id\":\"5cff97a7-73c3-432a-c325-b8d3f3c8984a\",\"type\":\"DataRange1d\",\"attributes\":{\"sources\":[{\"columns\":[\"x\"],\"source\":{\"type\":\"ColumnDataSource\",\"id\":\"4790005a-184c-44cd-c430-d44d8e4487c9\"}},{\"columns\":[\"x\"],\"source\":{\"type\":\"ColumnDataSource\",\"id\":\"88fe02b4-c305-4443-c4bc-51a48e8ab53c\"}},{\"columns\":[\"x\"],\"source\":{\"type\":\"ColumnDataSource\",\"id\":\"bf1c741c-5060-4927-c9b9-07391de6e8a4\"}},{\"columns\":[\"x\"],\"source\":{\"type\":\"ColumnDataSource\",\"id\":\"4323d333-fe4b-47ae-c720-624cf01f3eae\"}}],\"id\":\"5cff97a7-73c3-432a-c325-b8d3f3c8984a\",\"tags\":[],\"doc\":null}},{\"id\":\"8fece7b3-34f4-4a7d-ca00-df339eec392a\",\"type\":\"DataRange1d\",\"attributes\":{\"sources\":[{\"columns\":[\"y\"],\"source\":{\"type\":\"ColumnDataSource\",\"id\":\"4790005a-184c-44cd-c430-d44d8e4487c9\"}},{\"columns\":[\"y\"],\"source\":{\"type\":\"ColumnDataSource\",\"id\":\"88fe02b4-c305-4443-c4bc-51a48e8ab53c\"}},{\"columns\":[\"y\"],\"source\":{\"type\":\"ColumnDataSource\",\"id\":\"bf1c741c-5060-4927-c9b9-07391de6e8a4\"}},{\"columns\":[\"y\"],\"source\":{\"type\":\"ColumnDataSource\",\"id\":\"4323d333-fe4b-47ae-c720-624cf01f3eae\"}}],\"id\":\"8fece7b3-34f4-4a7d-ca00-df339eec392a\",\"tags\":[],\"doc\":null}},{\"id\":\"51b3bdeb-9054-46ac-c68b-ae4a6f851315\",\"type\":\"ToolEvents\",\"attributes\":{\"tags\":[],\"id\":\"51b3bdeb-9054-46ac-c68b-ae4a6f851315\",\"geometries\":[],\"doc\":null}},{\"id\":\"4e5f4750-9a88-4fca-cf9f-cd4ce3b7a203\",\"type\":\"BasicTickFormatter\",\"attributes\":{\"id\":\"4e5f4750-9a88-4fca-cf9f-cd4ce3b7a203\",\"tags\":[],\"doc\":null}},{\"id\":\"49fd7e0a-99e4-42c9-c230-569e198fd904\",\"type\":\"BasicTicker\",\"attributes\":{\"num_minor_ticks\":5,\"id\":\"49fd7e0a-99e4-42c9-c230-569e198fd904\",\"tags\":[],\"doc\":null}},{\"id\":\"71c762a4-7339-4c46-cc34-a9cde1830045\",\"type\":\"LinearAxis\",\"attributes\":{\"formatter\":{\"type\":\"BasicTickFormatter\",\"id\":\"4e5f4750-9a88-4fca-cf9f-cd4ce3b7a203\"},\"ticker\":{\"type\":\"BasicTicker\",\"id\":\"49fd7e0a-99e4-42c9-c230-569e198fd904\"},\"plot\":{\"id\":\"3341b4ae-cbb7-4b06-cb09-af6b68284b67\",\"type\":\"Plot\",\"subtype\":\"Figure\"},\"axis_label\":\"Episode Length\",\"id\":\"71c762a4-7339-4c46-cc34-a9cde1830045\",\"doc\":null,\"tags\":[]}},{\"id\":\"c743e878-2950-4f7e-cfc8-7835840a558a\",\"type\":\"Grid\",\"attributes\":{\"dimension\":0,\"plot\":{\"id\":\"3341b4ae-cbb7-4b06-cb09-af6b68284b67\",\"type\":\"Plot\",\"subtype\":\"Figure\"},\"ticker\":{\"type\":\"BasicTicker\",\"id\":\"49fd7e0a-99e4-42c9-c230-569e198fd904\"},\"id\":\"c743e878-2950-4f7e-cfc8-7835840a558a\",\"doc\":null,\"tags\":[]}},{\"id\":\"80916607-4ec3-4111-c1ce-45221464354c\",\"type\":\"BasicTickFormatter\",\"attributes\":{\"id\":\"80916607-4ec3-4111-c1ce-45221464354c\",\"tags\":[],\"doc\":null}},{\"id\":\"38bd9b0b-8d2c-432c-c33c-6353b5ddd497\",\"type\":\"BasicTicker\",\"attributes\":{\"num_minor_ticks\":5,\"id\":\"38bd9b0b-8d2c-432c-c33c-6353b5ddd497\",\"tags\":[],\"doc\":null}},{\"id\":\"38e71985-908a-4f41-cfdb-a4f2127a8589\",\"type\":\"LinearAxis\",\"attributes\":{\"formatter\":{\"type\":\"BasicTickFormatter\",\"id\":\"80916607-4ec3-4111-c1ce-45221464354c\"},\"ticker\":{\"type\":\"BasicTicker\",\"id\":\"38bd9b0b-8d2c-432c-c33c-6353b5ddd497\"},\"plot\":{\"id\":\"3341b4ae-cbb7-4b06-cb09-af6b68284b67\",\"type\":\"Plot\",\"subtype\":\"Figure\"},\"axis_label\":\"Training Accuracy\",\"id\":\"38e71985-908a-4f41-cfdb-a4f2127a8589\",\"doc\":null,\"tags\":[]}},{\"id\":\"fb1c0a8c-3974-4ba7-cb54-d027d9fce98f\",\"type\":\"Grid\",\"attributes\":{\"dimension\":1,\"plot\":{\"id\":\"3341b4ae-cbb7-4b06-cb09-af6b68284b67\",\"type\":\"Plot\",\"subtype\":\"Figure\"},\"ticker\":{\"type\":\"BasicTicker\",\"id\":\"38bd9b0b-8d2c-432c-c33c-6353b5ddd497\"},\"id\":\"fb1c0a8c-3974-4ba7-cb54-d027d9fce98f\",\"doc\":null,\"tags\":[]}},{\"id\":\"3d45818a-b5bc-48e0-c871-129881dfe385\",\"type\":\"PanTool\",\"attributes\":{\"plot\":{\"id\":\"3341b4ae-cbb7-4b06-cb09-af6b68284b67\",\"type\":\"Plot\",\"subtype\":\"Figure\"},\"dimensions\":[\"width\",\"height\"],\"id\":\"3d45818a-b5bc-48e0-c871-129881dfe385\",\"doc\":null,\"tags\":[]}},{\"id\":\"bb20367c-45be-4187-c160-91a65e1b87ee\",\"type\":\"WheelZoomTool\",\"attributes\":{\"plot\":{\"id\":\"3341b4ae-cbb7-4b06-cb09-af6b68284b67\",\"type\":\"Plot\",\"subtype\":\"Figure\"},\"dimensions\":[\"width\",\"height\"],\"id\":\"bb20367c-45be-4187-c160-91a65e1b87ee\",\"doc\":null,\"tags\":[]}},{\"id\":\"75deb4e1-de4b-4277-c2b6-03402a290f7d\",\"type\":\"BoxZoomTool\",\"attributes\":{\"plot\":{\"id\":\"3341b4ae-cbb7-4b06-cb09-af6b68284b67\",\"type\":\"Plot\",\"subtype\":\"Figure\"},\"id\":\"75deb4e1-de4b-4277-c2b6-03402a290f7d\",\"tags\":[],\"doc\":null}},{\"id\":\"c77fc70e-c027-4bdd-cb74-9efe64b30c3f\",\"type\":\"PreviewSaveTool\",\"attributes\":{\"plot\":{\"id\":\"3341b4ae-cbb7-4b06-cb09-af6b68284b67\",\"type\":\"Plot\",\"subtype\":\"Figure\"},\"id\":\"c77fc70e-c027-4bdd-cb74-9efe64b30c3f\",\"tags\":[],\"doc\":null}},{\"id\":\"6761a806-b16f-4d65-cdfb-ac8a32d052d3\",\"type\":\"ResizeTool\",\"attributes\":{\"plot\":{\"id\":\"3341b4ae-cbb7-4b06-cb09-af6b68284b67\",\"type\":\"Plot\",\"subtype\":\"Figure\"},\"id\":\"6761a806-b16f-4d65-cdfb-ac8a32d052d3\",\"tags\":[],\"doc\":null}},{\"id\":\"94195310-aa19-4ca4-ccff-ddd71d30ae2e\",\"type\":\"ResetTool\",\"attributes\":{\"plot\":{\"id\":\"3341b4ae-cbb7-4b06-cb09-af6b68284b67\",\"type\":\"Plot\",\"subtype\":\"Figure\"},\"id\":\"94195310-aa19-4ca4-ccff-ddd71d30ae2e\",\"tags\":[],\"doc\":null}},{\"id\":\"1a51a132-5544-45d0-c517-c7413397c262\",\"type\":\"Legend\",\"attributes\":{\"plot\":{\"id\":\"3341b4ae-cbb7-4b06-cb09-af6b68284b67\",\"type\":\"Plot\",\"subtype\":\"Figure\"},\"legends\":[[\"Fully Connected\",[{\"type\":\"GlyphRenderer\",\"id\":\"9ad64c8d-0dc1-490d-c9da-0dd82bac1e91\"}]],[\"Fully Connected 2\",[{\"type\":\"GlyphRenderer\",\"id\":\"67fedde7-77f3-4be4-cbee-f8d7e302e1f3\"}]],[\"RNN\",[{\"type\":\"GlyphRenderer\",\"id\":\"489e075e-014c-4ef5-ce93-ac111bcdfad3\"}]],[\"LSTM\",[{\"type\":\"GlyphRenderer\",\"id\":\"d8769ff3-60c1-4be2-cbef-3376017c54e6\"}]]],\"id\":\"1a51a132-5544-45d0-c517-c7413397c262\",\"doc\":null,\"tags\":[]}},{\"id\":\"3341b4ae-cbb7-4b06-cb09-af6b68284b67\",\"type\":\"Plot\",\"attributes\":{\"x_range\":{\"type\":\"DataRange1d\",\"id\":\"5cff97a7-73c3-432a-c325-b8d3f3c8984a\"},\"tool_events\":{\"type\":\"ToolEvents\",\"id\":\"51b3bdeb-9054-46ac-c68b-ae4a6f851315\"},\"below\":[{\"type\":\"LinearAxis\",\"id\":\"71c762a4-7339-4c46-cc34-a9cde1830045\"}],\"renderers\":[{\"type\":\"GlyphRenderer\",\"id\":\"9ad64c8d-0dc1-490d-c9da-0dd82bac1e91\"},{\"type\":\"GlyphRenderer\",\"id\":\"67fedde7-77f3-4be4-cbee-f8d7e302e1f3\"},{\"type\":\"GlyphRenderer\",\"id\":\"489e075e-014c-4ef5-ce93-ac111bcdfad3\"},{\"type\":\"GlyphRenderer\",\"id\":\"d8769ff3-60c1-4be2-cbef-3376017c54e6\"},{\"type\":\"LinearAxis\",\"id\":\"71c762a4-7339-4c46-cc34-a9cde1830045\"},{\"type\":\"Grid\",\"id\":\"c743e878-2950-4f7e-cfc8-7835840a558a\"},{\"type\":\"LinearAxis\",\"id\":\"38e71985-908a-4f41-cfdb-a4f2127a8589\"},{\"type\":\"Grid\",\"id\":\"fb1c0a8c-3974-4ba7-cb54-d027d9fce98f\"},{\"type\":\"Legend\",\"id\":\"1a51a132-5544-45d0-c517-c7413397c262\"}],\"above\":[],\"tools\":[{\"type\":\"PanTool\",\"id\":\"3d45818a-b5bc-48e0-c871-129881dfe385\"},{\"type\":\"WheelZoomTool\",\"id\":\"bb20367c-45be-4187-c160-91a65e1b87ee\"},{\"type\":\"BoxZoomTool\",\"id\":\"75deb4e1-de4b-4277-c2b6-03402a290f7d\"},{\"type\":\"PreviewSaveTool\",\"id\":\"c77fc70e-c027-4bdd-cb74-9efe64b30c3f\"},{\"type\":\"ResizeTool\",\"id\":\"6761a806-b16f-4d65-cdfb-ac8a32d052d3\"},{\"type\":\"ResetTool\",\"id\":\"94195310-aa19-4ca4-ccff-ddd71d30ae2e\"}],\"doc\":null,\"right\":[],\"title\":\"Training accuracy (50000 episodes)\",\"extra_x_ranges\":{},\"left\":[{\"type\":\"LinearAxis\",\"id\":\"38e71985-908a-4f41-cfdb-a4f2127a8589\"}],\"y_range\":{\"type\":\"DataRange1d\",\"id\":\"8fece7b3-34f4-4a7d-ca00-df339eec392a\"},\"id\":\"3341b4ae-cbb7-4b06-cb09-af6b68284b67\",\"extra_y_ranges\":{},\"tags\":[]}}];\n",
       "  Bokeh.load_models(all_models);\n",
       "  var model = Bokeh.Collections(modeltype).get(modelid);\n",
       "  $(\"#bb1614d0-945b-49bc-c939-478134e839e5\").html(''); // clear any previous plot in window_id\n",
       "  var view = new model.default_view({model: model, el: \"#bb1614d0-945b-49bc-c939-478134e839e5\"});\n",
       "    } else {\n",
       "  load_lib(bokehjs_url, function() {\n",
       "      console.log(\"Bokeh: BokehJS plotting callback run at\", new Date())\n",
       "      var modelid = \"3341b4ae-cbb7-4b06-cb09-af6b68284b67\";\n",
       "      var modeltype = \"Plot\";\n",
       "      var all_models = [{\"id\":\"4790005a-184c-44cd-c430-d44d8e4487c9\",\"type\":\"ColumnDataSource\",\"attributes\":{\"data\":{\"y\":[90.034,86.182,84.4405,82.2324,78.751666666667,74.732285714286,71.179,66.468888888889],\"x\":[2,3,4,5,6,7,8,9]},\"column_names\":[\"y\",\"x\"],\"cont_ranges\":{},\"discrete_ranges\":{},\"selected\":[],\"id\":\"4790005a-184c-44cd-c430-d44d8e4487c9\",\"doc\":null,\"tags\":[]}},{\"id\":\"851d1b8b-11ef-4d4f-cd56-15c4c5291a50\",\"type\":\"Line\",\"attributes\":{\"fill_alpha\":{\"units\":\"data\",\"value\":0.2},\"line_alpha\":{\"units\":\"data\",\"value\":1},\"doc\":null,\"size\":{\"units\":\"screen\",\"value\":10},\"fill_color\":{\"value\":\"red\"},\"line_color\":{\"value\":\"red\"},\"x\":{\"units\":\"data\",\"field\":\"x\"},\"id\":\"851d1b8b-11ef-4d4f-cd56-15c4c5291a50\",\"y\":{\"units\":\"data\",\"field\":\"y\"},\"tags\":[]}},{\"id\":\"edb83bf6-05e3-44b6-c4a2-4de8e78dc2eb\",\"type\":\"Line\",\"attributes\":{\"fill_alpha\":{\"units\":\"data\",\"value\":0.2},\"line_alpha\":{\"units\":\"data\",\"value\":1},\"doc\":null,\"size\":{\"units\":\"screen\",\"value\":10},\"fill_color\":{\"value\":\"red\"},\"line_color\":{\"value\":\"red\"},\"x\":{\"units\":\"data\",\"field\":\"x\"},\"id\":\"edb83bf6-05e3-44b6-c4a2-4de8e78dc2eb\",\"y\":{\"units\":\"data\",\"field\":\"y\"},\"tags\":[]}},{\"id\":\"9ad64c8d-0dc1-490d-c9da-0dd82bac1e91\",\"type\":\"GlyphRenderer\",\"attributes\":{\"name\":null,\"nonselection_glyph\":{\"type\":\"Line\",\"id\":\"edb83bf6-05e3-44b6-c4a2-4de8e78dc2eb\"},\"doc\":null,\"server_data_source\":null,\"data_source\":{\"type\":\"ColumnDataSource\",\"id\":\"4790005a-184c-44cd-c430-d44d8e4487c9\"},\"glyph\":{\"type\":\"Line\",\"id\":\"851d1b8b-11ef-4d4f-cd56-15c4c5291a50\"},\"selection_glyph\":null,\"id\":\"9ad64c8d-0dc1-490d-c9da-0dd82bac1e91\",\"tags\":[]}},{\"id\":\"88fe02b4-c305-4443-c4bc-51a48e8ab53c\",\"type\":\"ColumnDataSource\",\"attributes\":{\"data\":{\"y\":[89.861,86.428,84.497,83.028,79.319333333333,75.696,70.903,67.666666666667],\"x\":[2,3,4,5,6,7,8,9]},\"column_names\":[\"y\",\"x\"],\"cont_ranges\":{},\"discrete_ranges\":{},\"selected\":[],\"id\":\"88fe02b4-c305-4443-c4bc-51a48e8ab53c\",\"doc\":null,\"tags\":[]}},{\"id\":\"3de3aa81-2bc2-4514-c55b-552a597be5ee\",\"type\":\"Line\",\"attributes\":{\"fill_alpha\":{\"units\":\"data\",\"value\":0.2},\"line_alpha\":{\"units\":\"data\",\"value\":1},\"doc\":null,\"size\":{\"units\":\"screen\",\"value\":10},\"fill_color\":{\"value\":\"pink\"},\"line_color\":{\"value\":\"pink\"},\"x\":{\"units\":\"data\",\"field\":\"x\"},\"id\":\"3de3aa81-2bc2-4514-c55b-552a597be5ee\",\"y\":{\"units\":\"data\",\"field\":\"y\"},\"tags\":[]}},{\"id\":\"30478146-1415-43bc-c354-2f11b7f63741\",\"type\":\"Line\",\"attributes\":{\"fill_alpha\":{\"units\":\"data\",\"value\":0.2},\"line_alpha\":{\"units\":\"data\",\"value\":1},\"doc\":null,\"size\":{\"units\":\"screen\",\"value\":10},\"fill_color\":{\"value\":\"pink\"},\"line_color\":{\"value\":\"pink\"},\"x\":{\"units\":\"data\",\"field\":\"x\"},\"id\":\"30478146-1415-43bc-c354-2f11b7f63741\",\"y\":{\"units\":\"data\",\"field\":\"y\"},\"tags\":[]}},{\"id\":\"67fedde7-77f3-4be4-cbee-f8d7e302e1f3\",\"type\":\"GlyphRenderer\",\"attributes\":{\"name\":null,\"nonselection_glyph\":{\"type\":\"Line\",\"id\":\"30478146-1415-43bc-c354-2f11b7f63741\"},\"doc\":null,\"server_data_source\":null,\"data_source\":{\"type\":\"ColumnDataSource\",\"id\":\"88fe02b4-c305-4443-c4bc-51a48e8ab53c\"},\"glyph\":{\"type\":\"Line\",\"id\":\"3de3aa81-2bc2-4514-c55b-552a597be5ee\"},\"selection_glyph\":null,\"id\":\"67fedde7-77f3-4be4-cbee-f8d7e302e1f3\",\"tags\":[]}},{\"id\":\"bf1c741c-5060-4927-c9b9-07391de6e8a4\",\"type\":\"ColumnDataSource\",\"attributes\":{\"data\":{\"y\":[89.956,86.15,84.2055,80.6276,76.277666666667,71.184857142857,65.6965,60.323555555556],\"x\":[2,3,4,5,6,7,8,9]},\"column_names\":[\"y\",\"x\"],\"cont_ranges\":{},\"discrete_ranges\":{},\"selected\":[],\"id\":\"bf1c741c-5060-4927-c9b9-07391de6e8a4\",\"doc\":null,\"tags\":[]}},{\"id\":\"e4375cef-c895-46d0-c6a9-fab205519e72\",\"type\":\"Line\",\"attributes\":{\"fill_alpha\":{\"units\":\"data\",\"value\":0.2},\"line_alpha\":{\"units\":\"data\",\"value\":1},\"doc\":null,\"size\":{\"units\":\"screen\",\"value\":10},\"fill_color\":{\"value\":\"blue\"},\"line_color\":{\"value\":\"blue\"},\"x\":{\"units\":\"data\",\"field\":\"x\"},\"id\":\"e4375cef-c895-46d0-c6a9-fab205519e72\",\"y\":{\"units\":\"data\",\"field\":\"y\"},\"tags\":[]}},{\"id\":\"648b2e60-e405-4c40-cc5b-fff61141078a\",\"type\":\"Line\",\"attributes\":{\"fill_alpha\":{\"units\":\"data\",\"value\":0.2},\"line_alpha\":{\"units\":\"data\",\"value\":1},\"doc\":null,\"size\":{\"units\":\"screen\",\"value\":10},\"fill_color\":{\"value\":\"blue\"},\"line_color\":{\"value\":\"blue\"},\"x\":{\"units\":\"data\",\"field\":\"x\"},\"id\":\"648b2e60-e405-4c40-cc5b-fff61141078a\",\"y\":{\"units\":\"data\",\"field\":\"y\"},\"tags\":[]}},{\"id\":\"489e075e-014c-4ef5-ce93-ac111bcdfad3\",\"type\":\"GlyphRenderer\",\"attributes\":{\"name\":null,\"nonselection_glyph\":{\"type\":\"Line\",\"id\":\"648b2e60-e405-4c40-cc5b-fff61141078a\"},\"doc\":null,\"server_data_source\":null,\"data_source\":{\"type\":\"ColumnDataSource\",\"id\":\"bf1c741c-5060-4927-c9b9-07391de6e8a4\"},\"glyph\":{\"type\":\"Line\",\"id\":\"e4375cef-c895-46d0-c6a9-fab205519e72\"},\"selection_glyph\":null,\"id\":\"489e075e-014c-4ef5-ce93-ac111bcdfad3\",\"tags\":[]}},{\"id\":\"4323d333-fe4b-47ae-c720-624cf01f3eae\",\"type\":\"ColumnDataSource\",\"attributes\":{\"data\":{\"y\":[89.902,86.501333333333,85.161,83.6448,80.889,78.911714285714,76.08375,72.237555555556],\"x\":[2,3,4,5,6,7,8,9]},\"column_names\":[\"y\",\"x\"],\"cont_ranges\":{},\"discrete_ranges\":{},\"selected\":[],\"id\":\"4323d333-fe4b-47ae-c720-624cf01f3eae\",\"doc\":null,\"tags\":[]}},{\"id\":\"1aa638fb-0aeb-4e45-cebe-45eea8d8a6e4\",\"type\":\"Line\",\"attributes\":{\"fill_alpha\":{\"units\":\"data\",\"value\":0.2},\"line_alpha\":{\"units\":\"data\",\"value\":1},\"doc\":null,\"size\":{\"units\":\"screen\",\"value\":10},\"fill_color\":{\"value\":\"green\"},\"line_color\":{\"value\":\"green\"},\"x\":{\"units\":\"data\",\"field\":\"x\"},\"id\":\"1aa638fb-0aeb-4e45-cebe-45eea8d8a6e4\",\"y\":{\"units\":\"data\",\"field\":\"y\"},\"tags\":[]}},{\"id\":\"a5b6de1d-d2b3-4e39-ce5e-d76a30234d47\",\"type\":\"Line\",\"attributes\":{\"fill_alpha\":{\"units\":\"data\",\"value\":0.2},\"line_alpha\":{\"units\":\"data\",\"value\":1},\"doc\":null,\"size\":{\"units\":\"screen\",\"value\":10},\"fill_color\":{\"value\":\"green\"},\"line_color\":{\"value\":\"green\"},\"x\":{\"units\":\"data\",\"field\":\"x\"},\"id\":\"a5b6de1d-d2b3-4e39-ce5e-d76a30234d47\",\"y\":{\"units\":\"data\",\"field\":\"y\"},\"tags\":[]}},{\"id\":\"d8769ff3-60c1-4be2-cbef-3376017c54e6\",\"type\":\"GlyphRenderer\",\"attributes\":{\"name\":null,\"nonselection_glyph\":{\"type\":\"Line\",\"id\":\"a5b6de1d-d2b3-4e39-ce5e-d76a30234d47\"},\"doc\":null,\"server_data_source\":null,\"data_source\":{\"type\":\"ColumnDataSource\",\"id\":\"4323d333-fe4b-47ae-c720-624cf01f3eae\"},\"glyph\":{\"type\":\"Line\",\"id\":\"1aa638fb-0aeb-4e45-cebe-45eea8d8a6e4\"},\"selection_glyph\":null,\"id\":\"d8769ff3-60c1-4be2-cbef-3376017c54e6\",\"tags\":[]}},{\"id\":\"5cff97a7-73c3-432a-c325-b8d3f3c8984a\",\"type\":\"DataRange1d\",\"attributes\":{\"sources\":[{\"columns\":[\"x\"],\"source\":{\"type\":\"ColumnDataSource\",\"id\":\"4790005a-184c-44cd-c430-d44d8e4487c9\"}},{\"columns\":[\"x\"],\"source\":{\"type\":\"ColumnDataSource\",\"id\":\"88fe02b4-c305-4443-c4bc-51a48e8ab53c\"}},{\"columns\":[\"x\"],\"source\":{\"type\":\"ColumnDataSource\",\"id\":\"bf1c741c-5060-4927-c9b9-07391de6e8a4\"}},{\"columns\":[\"x\"],\"source\":{\"type\":\"ColumnDataSource\",\"id\":\"4323d333-fe4b-47ae-c720-624cf01f3eae\"}}],\"id\":\"5cff97a7-73c3-432a-c325-b8d3f3c8984a\",\"tags\":[],\"doc\":null}},{\"id\":\"8fece7b3-34f4-4a7d-ca00-df339eec392a\",\"type\":\"DataRange1d\",\"attributes\":{\"sources\":[{\"columns\":[\"y\"],\"source\":{\"type\":\"ColumnDataSource\",\"id\":\"4790005a-184c-44cd-c430-d44d8e4487c9\"}},{\"columns\":[\"y\"],\"source\":{\"type\":\"ColumnDataSource\",\"id\":\"88fe02b4-c305-4443-c4bc-51a48e8ab53c\"}},{\"columns\":[\"y\"],\"source\":{\"type\":\"ColumnDataSource\",\"id\":\"bf1c741c-5060-4927-c9b9-07391de6e8a4\"}},{\"columns\":[\"y\"],\"source\":{\"type\":\"ColumnDataSource\",\"id\":\"4323d333-fe4b-47ae-c720-624cf01f3eae\"}}],\"id\":\"8fece7b3-34f4-4a7d-ca00-df339eec392a\",\"tags\":[],\"doc\":null}},{\"id\":\"51b3bdeb-9054-46ac-c68b-ae4a6f851315\",\"type\":\"ToolEvents\",\"attributes\":{\"tags\":[],\"id\":\"51b3bdeb-9054-46ac-c68b-ae4a6f851315\",\"geometries\":[],\"doc\":null}},{\"id\":\"4e5f4750-9a88-4fca-cf9f-cd4ce3b7a203\",\"type\":\"BasicTickFormatter\",\"attributes\":{\"id\":\"4e5f4750-9a88-4fca-cf9f-cd4ce3b7a203\",\"tags\":[],\"doc\":null}},{\"id\":\"49fd7e0a-99e4-42c9-c230-569e198fd904\",\"type\":\"BasicTicker\",\"attributes\":{\"num_minor_ticks\":5,\"id\":\"49fd7e0a-99e4-42c9-c230-569e198fd904\",\"tags\":[],\"doc\":null}},{\"id\":\"71c762a4-7339-4c46-cc34-a9cde1830045\",\"type\":\"LinearAxis\",\"attributes\":{\"formatter\":{\"type\":\"BasicTickFormatter\",\"id\":\"4e5f4750-9a88-4fca-cf9f-cd4ce3b7a203\"},\"ticker\":{\"type\":\"BasicTicker\",\"id\":\"49fd7e0a-99e4-42c9-c230-569e198fd904\"},\"plot\":{\"id\":\"3341b4ae-cbb7-4b06-cb09-af6b68284b67\",\"type\":\"Plot\",\"subtype\":\"Figure\"},\"axis_label\":\"Episode Length\",\"id\":\"71c762a4-7339-4c46-cc34-a9cde1830045\",\"doc\":null,\"tags\":[]}},{\"id\":\"c743e878-2950-4f7e-cfc8-7835840a558a\",\"type\":\"Grid\",\"attributes\":{\"dimension\":0,\"plot\":{\"id\":\"3341b4ae-cbb7-4b06-cb09-af6b68284b67\",\"type\":\"Plot\",\"subtype\":\"Figure\"},\"ticker\":{\"type\":\"BasicTicker\",\"id\":\"49fd7e0a-99e4-42c9-c230-569e198fd904\"},\"id\":\"c743e878-2950-4f7e-cfc8-7835840a558a\",\"doc\":null,\"tags\":[]}},{\"id\":\"80916607-4ec3-4111-c1ce-45221464354c\",\"type\":\"BasicTickFormatter\",\"attributes\":{\"id\":\"80916607-4ec3-4111-c1ce-45221464354c\",\"tags\":[],\"doc\":null}},{\"id\":\"38bd9b0b-8d2c-432c-c33c-6353b5ddd497\",\"type\":\"BasicTicker\",\"attributes\":{\"num_minor_ticks\":5,\"id\":\"38bd9b0b-8d2c-432c-c33c-6353b5ddd497\",\"tags\":[],\"doc\":null}},{\"id\":\"38e71985-908a-4f41-cfdb-a4f2127a8589\",\"type\":\"LinearAxis\",\"attributes\":{\"formatter\":{\"type\":\"BasicTickFormatter\",\"id\":\"80916607-4ec3-4111-c1ce-45221464354c\"},\"ticker\":{\"type\":\"BasicTicker\",\"id\":\"38bd9b0b-8d2c-432c-c33c-6353b5ddd497\"},\"plot\":{\"id\":\"3341b4ae-cbb7-4b06-cb09-af6b68284b67\",\"type\":\"Plot\",\"subtype\":\"Figure\"},\"axis_label\":\"Training Accuracy\",\"id\":\"38e71985-908a-4f41-cfdb-a4f2127a8589\",\"doc\":null,\"tags\":[]}},{\"id\":\"fb1c0a8c-3974-4ba7-cb54-d027d9fce98f\",\"type\":\"Grid\",\"attributes\":{\"dimension\":1,\"plot\":{\"id\":\"3341b4ae-cbb7-4b06-cb09-af6b68284b67\",\"type\":\"Plot\",\"subtype\":\"Figure\"},\"ticker\":{\"type\":\"BasicTicker\",\"id\":\"38bd9b0b-8d2c-432c-c33c-6353b5ddd497\"},\"id\":\"fb1c0a8c-3974-4ba7-cb54-d027d9fce98f\",\"doc\":null,\"tags\":[]}},{\"id\":\"3d45818a-b5bc-48e0-c871-129881dfe385\",\"type\":\"PanTool\",\"attributes\":{\"plot\":{\"id\":\"3341b4ae-cbb7-4b06-cb09-af6b68284b67\",\"type\":\"Plot\",\"subtype\":\"Figure\"},\"dimensions\":[\"width\",\"height\"],\"id\":\"3d45818a-b5bc-48e0-c871-129881dfe385\",\"doc\":null,\"tags\":[]}},{\"id\":\"bb20367c-45be-4187-c160-91a65e1b87ee\",\"type\":\"WheelZoomTool\",\"attributes\":{\"plot\":{\"id\":\"3341b4ae-cbb7-4b06-cb09-af6b68284b67\",\"type\":\"Plot\",\"subtype\":\"Figure\"},\"dimensions\":[\"width\",\"height\"],\"id\":\"bb20367c-45be-4187-c160-91a65e1b87ee\",\"doc\":null,\"tags\":[]}},{\"id\":\"75deb4e1-de4b-4277-c2b6-03402a290f7d\",\"type\":\"BoxZoomTool\",\"attributes\":{\"plot\":{\"id\":\"3341b4ae-cbb7-4b06-cb09-af6b68284b67\",\"type\":\"Plot\",\"subtype\":\"Figure\"},\"id\":\"75deb4e1-de4b-4277-c2b6-03402a290f7d\",\"tags\":[],\"doc\":null}},{\"id\":\"c77fc70e-c027-4bdd-cb74-9efe64b30c3f\",\"type\":\"PreviewSaveTool\",\"attributes\":{\"plot\":{\"id\":\"3341b4ae-cbb7-4b06-cb09-af6b68284b67\",\"type\":\"Plot\",\"subtype\":\"Figure\"},\"id\":\"c77fc70e-c027-4bdd-cb74-9efe64b30c3f\",\"tags\":[],\"doc\":null}},{\"id\":\"6761a806-b16f-4d65-cdfb-ac8a32d052d3\",\"type\":\"ResizeTool\",\"attributes\":{\"plot\":{\"id\":\"3341b4ae-cbb7-4b06-cb09-af6b68284b67\",\"type\":\"Plot\",\"subtype\":\"Figure\"},\"id\":\"6761a806-b16f-4d65-cdfb-ac8a32d052d3\",\"tags\":[],\"doc\":null}},{\"id\":\"94195310-aa19-4ca4-ccff-ddd71d30ae2e\",\"type\":\"ResetTool\",\"attributes\":{\"plot\":{\"id\":\"3341b4ae-cbb7-4b06-cb09-af6b68284b67\",\"type\":\"Plot\",\"subtype\":\"Figure\"},\"id\":\"94195310-aa19-4ca4-ccff-ddd71d30ae2e\",\"tags\":[],\"doc\":null}},{\"id\":\"1a51a132-5544-45d0-c517-c7413397c262\",\"type\":\"Legend\",\"attributes\":{\"plot\":{\"id\":\"3341b4ae-cbb7-4b06-cb09-af6b68284b67\",\"type\":\"Plot\",\"subtype\":\"Figure\"},\"legends\":[[\"Fully Connected\",[{\"type\":\"GlyphRenderer\",\"id\":\"9ad64c8d-0dc1-490d-c9da-0dd82bac1e91\"}]],[\"Fully Connected 2\",[{\"type\":\"GlyphRenderer\",\"id\":\"67fedde7-77f3-4be4-cbee-f8d7e302e1f3\"}]],[\"RNN\",[{\"type\":\"GlyphRenderer\",\"id\":\"489e075e-014c-4ef5-ce93-ac111bcdfad3\"}]],[\"LSTM\",[{\"type\":\"GlyphRenderer\",\"id\":\"d8769ff3-60c1-4be2-cbef-3376017c54e6\"}]]],\"id\":\"1a51a132-5544-45d0-c517-c7413397c262\",\"doc\":null,\"tags\":[]}},{\"id\":\"3341b4ae-cbb7-4b06-cb09-af6b68284b67\",\"type\":\"Plot\",\"attributes\":{\"x_range\":{\"type\":\"DataRange1d\",\"id\":\"5cff97a7-73c3-432a-c325-b8d3f3c8984a\"},\"tool_events\":{\"type\":\"ToolEvents\",\"id\":\"51b3bdeb-9054-46ac-c68b-ae4a6f851315\"},\"below\":[{\"type\":\"LinearAxis\",\"id\":\"71c762a4-7339-4c46-cc34-a9cde1830045\"}],\"renderers\":[{\"type\":\"GlyphRenderer\",\"id\":\"9ad64c8d-0dc1-490d-c9da-0dd82bac1e91\"},{\"type\":\"GlyphRenderer\",\"id\":\"67fedde7-77f3-4be4-cbee-f8d7e302e1f3\"},{\"type\":\"GlyphRenderer\",\"id\":\"489e075e-014c-4ef5-ce93-ac111bcdfad3\"},{\"type\":\"GlyphRenderer\",\"id\":\"d8769ff3-60c1-4be2-cbef-3376017c54e6\"},{\"type\":\"LinearAxis\",\"id\":\"71c762a4-7339-4c46-cc34-a9cde1830045\"},{\"type\":\"Grid\",\"id\":\"c743e878-2950-4f7e-cfc8-7835840a558a\"},{\"type\":\"LinearAxis\",\"id\":\"38e71985-908a-4f41-cfdb-a4f2127a8589\"},{\"type\":\"Grid\",\"id\":\"fb1c0a8c-3974-4ba7-cb54-d027d9fce98f\"},{\"type\":\"Legend\",\"id\":\"1a51a132-5544-45d0-c517-c7413397c262\"}],\"above\":[],\"tools\":[{\"type\":\"PanTool\",\"id\":\"3d45818a-b5bc-48e0-c871-129881dfe385\"},{\"type\":\"WheelZoomTool\",\"id\":\"bb20367c-45be-4187-c160-91a65e1b87ee\"},{\"type\":\"BoxZoomTool\",\"id\":\"75deb4e1-de4b-4277-c2b6-03402a290f7d\"},{\"type\":\"PreviewSaveTool\",\"id\":\"c77fc70e-c027-4bdd-cb74-9efe64b30c3f\"},{\"type\":\"ResizeTool\",\"id\":\"6761a806-b16f-4d65-cdfb-ac8a32d052d3\"},{\"type\":\"ResetTool\",\"id\":\"94195310-aa19-4ca4-ccff-ddd71d30ae2e\"}],\"doc\":null,\"right\":[],\"title\":\"Training accuracy (50000 episodes)\",\"extra_x_ranges\":{},\"left\":[{\"type\":\"LinearAxis\",\"id\":\"38e71985-908a-4f41-cfdb-a4f2127a8589\"}],\"y_range\":{\"type\":\"DataRange1d\",\"id\":\"8fece7b3-34f4-4a7d-ca00-df339eec392a\"},\"id\":\"3341b4ae-cbb7-4b06-cb09-af6b68284b67\",\"extra_y_ranges\":{},\"tags\":[]}}];\n",
       "      Bokeh.load_models(all_models);\n",
       "      var model = Bokeh.Collections(modeltype).get(modelid);\n",
       "      $(\"#bb1614d0-945b-49bc-c939-478134e839e5\").html(''); // clear any previous plot in window_id\n",
       "      var view = new model.default_view({model: model, el: \"#bb1614d0-945b-49bc-c939-478134e839e5\"});\n",
       "  });\n",
       "    }\n",
       "});\n",
       "</script>\n",
       "<div class=\"plotdiv\" id=\"bb1614d0-945b-49bc-c939-478134e839e5\"></div>\n"
      ]
     },
     "metadata": {},
     "output_type": "display_data"
    }
   ],
   "source": [
    "-- Training accuracy plot\n",
    "plot = itorch.Plot()\n",
    "x = torch.range(2, 9)\n",
    "full_y = torch.Tensor(8)\n",
    "full2_y = torch.Tensor(8)\n",
    "rnn_y = torch.Tensor(8)\n",
    "lstm_y = torch.Tensor(8)\n",
    "for i=2,9 do\n",
    "    name = string.format('models_%d_full/rubiks_best', i)\n",
    "    full_y[i-1] = best_results[name].train_acc\n",
    "    name = string.format('models_%d_fulltwo/rubiks_best', i)\n",
    "    full2_y[i-1] = best_results[name].train_acc\n",
    "    name = string.format('models_%d_rnn/rubiks_best', i)\n",
    "    rnn_y[i-1] = best_results[name].train_acc\n",
    "    name = string.format('models_%d_lstm/rubiks_best', i)\n",
    "    lstm_y[i-1] = best_results[name].train_acc\n",
    "end\n",
    "\n",
    "plot:xaxis('Episode Length'):yaxis('Training Accuracy')\n",
    "plot:title('Training accuracy (50000 episodes)')\n",
    "plot:line(x, full_y, 'red', 'Fully Connected')\n",
    "plot:line(x, full2_y, 'pink', 'Fully Connected 2')\n",
    "plot:line(x, rnn_y, 'blue', 'RNN')\n",
    "plot:line(x, lstm_y, 'green', 'LSTM')\n",
    "plot:legend(true)\n",
    "plot:draw()"
   ]
  },
  {
   "cell_type": "code",
   "execution_count": 5,
   "metadata": {
    "collapsed": false
   },
   "outputs": [
    {
     "data": {
      "text/html": [
       "<script type=\"text/javascript\">\n",
       "$(function() {\n",
       "    if (typeof (window._bokeh_onload_callbacks) === \"undefined\"){\n",
       "  window._bokeh_onload_callbacks = [];\n",
       "    }\n",
       "    function load_lib(url, callback){\n",
       "  window._bokeh_onload_callbacks.push(callback);\n",
       "  if (window._bokeh_is_loading){\n",
       "      console.log(\"Bokeh: BokehJS is being loaded, scheduling callback at\", new Date());\n",
       "      return null;\n",
       "  }\n",
       "  console.log(\"Bokeh: BokehJS not loaded, scheduling load and callback at\", new Date());\n",
       "  window._bokeh_is_loading = true;\n",
       "  var s = document.createElement('script');\n",
       "  s.src = url;\n",
       "  s.async = true;\n",
       "  s.onreadystatechange = s.onload = function(){\n",
       "      Bokeh.embed.inject_css(\"http://cdn.pydata.org/bokeh-0.7.0.min.css\");\n",
       "      window._bokeh_onload_callbacks.forEach(function(callback){callback()});\n",
       "  };\n",
       "  s.onerror = function(){\n",
       "      console.warn(\"failed to load library \" + url);\n",
       "  };\n",
       "  document.getElementsByTagName(\"head\")[0].appendChild(s);\n",
       "    }\n",
       "\n",
       "    bokehjs_url = \"http://cdn.pydata.org/bokeh-0.7.0.min.js\"\n",
       "\n",
       "    var elt = document.getElementById(\"859ec279-368f-4bd5-cbfe-edc6559df4c5\");\n",
       "    if(elt==null) {\n",
       "  console.log(\"Bokeh: ERROR: autoload.js configured with elementid '859ec279-368f-4bd5-cbfe-edc6559df4c5'\"\n",
       "        + \"but no matching script tag was found. \")\n",
       "  return false;\n",
       "    }\n",
       "\n",
       "    if(typeof(Bokeh) !== \"undefined\") {\n",
       "  console.log(\"Bokeh: BokehJS loaded, going straight to plotting\");\n",
       "  var modelid = \"78b1c040-27e8-48fc-c89a-a00850c8fc2e\";\n",
       "  var modeltype = \"Plot\";\n",
       "  var all_models = [{\"id\":\"58a0b646-0879-4622-c6ba-6be7f1680868\",\"type\":\"ColumnDataSource\",\"attributes\":{\"data\":{\"y\":[90,86.493333333333,84.1175,80.652,77.433333333333,73.925714285714,70.03,66.526666666667],\"x\":[2,3,4,5,6,7,8,9]},\"column_names\":[\"y\",\"x\"],\"cont_ranges\":{},\"discrete_ranges\":{},\"selected\":[],\"id\":\"58a0b646-0879-4622-c6ba-6be7f1680868\",\"doc\":null,\"tags\":[]}},{\"id\":\"90cd3bab-7862-4102-c12a-1a4193098f73\",\"type\":\"Line\",\"attributes\":{\"fill_alpha\":{\"units\":\"data\",\"value\":0.2},\"line_alpha\":{\"units\":\"data\",\"value\":1},\"doc\":null,\"size\":{\"units\":\"screen\",\"value\":10},\"fill_color\":{\"value\":\"red\"},\"line_color\":{\"value\":\"red\"},\"x\":{\"units\":\"data\",\"field\":\"x\"},\"id\":\"90cd3bab-7862-4102-c12a-1a4193098f73\",\"y\":{\"units\":\"data\",\"field\":\"y\"},\"tags\":[]}},{\"id\":\"7d2b0a47-170c-4ac1-ca4a-6685398c9c2b\",\"type\":\"Line\",\"attributes\":{\"fill_alpha\":{\"units\":\"data\",\"value\":0.2},\"line_alpha\":{\"units\":\"data\",\"value\":1},\"doc\":null,\"size\":{\"units\":\"screen\",\"value\":10},\"fill_color\":{\"value\":\"red\"},\"line_color\":{\"value\":\"red\"},\"x\":{\"units\":\"data\",\"field\":\"x\"},\"id\":\"7d2b0a47-170c-4ac1-ca4a-6685398c9c2b\",\"y\":{\"units\":\"data\",\"field\":\"y\"},\"tags\":[]}},{\"id\":\"79655b13-5385-4dc0-cd9f-9c4590daca1a\",\"type\":\"GlyphRenderer\",\"attributes\":{\"name\":null,\"nonselection_glyph\":{\"type\":\"Line\",\"id\":\"7d2b0a47-170c-4ac1-ca4a-6685398c9c2b\"},\"doc\":null,\"server_data_source\":null,\"data_source\":{\"type\":\"ColumnDataSource\",\"id\":\"58a0b646-0879-4622-c6ba-6be7f1680868\"},\"glyph\":{\"type\":\"Line\",\"id\":\"90cd3bab-7862-4102-c12a-1a4193098f73\"},\"selection_glyph\":null,\"id\":\"79655b13-5385-4dc0-cd9f-9c4590daca1a\",\"tags\":[]}},{\"id\":\"49639db4-a51b-49a2-c935-bff03b70d736\",\"type\":\"ColumnDataSource\",\"attributes\":{\"data\":{\"y\":[90.21,86.5,84.0425,81.17,77.956666666667,74.225714285714,70.4975,66.324444444444],\"x\":[2,3,4,5,6,7,8,9]},\"column_names\":[\"y\",\"x\"],\"cont_ranges\":{},\"discrete_ranges\":{},\"selected\":[],\"id\":\"49639db4-a51b-49a2-c935-bff03b70d736\",\"doc\":null,\"tags\":[]}},{\"id\":\"ae0cac3b-e2e6-4604-c6ee-599419a12508\",\"type\":\"Line\",\"attributes\":{\"fill_alpha\":{\"units\":\"data\",\"value\":0.2},\"line_alpha\":{\"units\":\"data\",\"value\":1},\"doc\":null,\"size\":{\"units\":\"screen\",\"value\":10},\"fill_color\":{\"value\":\"pink\"},\"line_color\":{\"value\":\"pink\"},\"x\":{\"units\":\"data\",\"field\":\"x\"},\"id\":\"ae0cac3b-e2e6-4604-c6ee-599419a12508\",\"y\":{\"units\":\"data\",\"field\":\"y\"},\"tags\":[]}},{\"id\":\"68582311-abde-4789-c715-78a4d0c0d2cc\",\"type\":\"Line\",\"attributes\":{\"fill_alpha\":{\"units\":\"data\",\"value\":0.2},\"line_alpha\":{\"units\":\"data\",\"value\":1},\"doc\":null,\"size\":{\"units\":\"screen\",\"value\":10},\"fill_color\":{\"value\":\"pink\"},\"line_color\":{\"value\":\"pink\"},\"x\":{\"units\":\"data\",\"field\":\"x\"},\"id\":\"68582311-abde-4789-c715-78a4d0c0d2cc\",\"y\":{\"units\":\"data\",\"field\":\"y\"},\"tags\":[]}},{\"id\":\"54fb40ed-43a2-470e-c73d-0ef9f3665fbd\",\"type\":\"GlyphRenderer\",\"attributes\":{\"name\":null,\"nonselection_glyph\":{\"type\":\"Line\",\"id\":\"68582311-abde-4789-c715-78a4d0c0d2cc\"},\"doc\":null,\"server_data_source\":null,\"data_source\":{\"type\":\"ColumnDataSource\",\"id\":\"49639db4-a51b-49a2-c935-bff03b70d736\"},\"glyph\":{\"type\":\"Line\",\"id\":\"ae0cac3b-e2e6-4604-c6ee-599419a12508\"},\"selection_glyph\":null,\"id\":\"54fb40ed-43a2-470e-c73d-0ef9f3665fbd\",\"tags\":[]}},{\"id\":\"238a02b3-e1bd-462f-c61c-130de7b273f2\",\"type\":\"ColumnDataSource\",\"attributes\":{\"data\":{\"y\":[90.155,86.506666666667,83.91,79.778,75.396666666667,71.328571428571,66.24125,60.996666666667],\"x\":[2,3,4,5,6,7,8,9]},\"column_names\":[\"y\",\"x\"],\"cont_ranges\":{},\"discrete_ranges\":{},\"selected\":[],\"id\":\"238a02b3-e1bd-462f-c61c-130de7b273f2\",\"doc\":null,\"tags\":[]}},{\"id\":\"1f4bd097-4ffe-4fdd-cf4e-0f2c2a6b99f4\",\"type\":\"Line\",\"attributes\":{\"fill_alpha\":{\"units\":\"data\",\"value\":0.2},\"line_alpha\":{\"units\":\"data\",\"value\":1},\"doc\":null,\"size\":{\"units\":\"screen\",\"value\":10},\"fill_color\":{\"value\":\"blue\"},\"line_color\":{\"value\":\"blue\"},\"x\":{\"units\":\"data\",\"field\":\"x\"},\"id\":\"1f4bd097-4ffe-4fdd-cf4e-0f2c2a6b99f4\",\"y\":{\"units\":\"data\",\"field\":\"y\"},\"tags\":[]}},{\"id\":\"1f07709c-9180-46ad-c656-0a5c28549279\",\"type\":\"Line\",\"attributes\":{\"fill_alpha\":{\"units\":\"data\",\"value\":0.2},\"line_alpha\":{\"units\":\"data\",\"value\":1},\"doc\":null,\"size\":{\"units\":\"screen\",\"value\":10},\"fill_color\":{\"value\":\"blue\"},\"line_color\":{\"value\":\"blue\"},\"x\":{\"units\":\"data\",\"field\":\"x\"},\"id\":\"1f07709c-9180-46ad-c656-0a5c28549279\",\"y\":{\"units\":\"data\",\"field\":\"y\"},\"tags\":[]}},{\"id\":\"c9ad566e-7db4-47e1-c7e4-45f268caa4b7\",\"type\":\"GlyphRenderer\",\"attributes\":{\"name\":null,\"nonselection_glyph\":{\"type\":\"Line\",\"id\":\"1f07709c-9180-46ad-c656-0a5c28549279\"},\"doc\":null,\"server_data_source\":null,\"data_source\":{\"type\":\"ColumnDataSource\",\"id\":\"238a02b3-e1bd-462f-c61c-130de7b273f2\"},\"glyph\":{\"type\":\"Line\",\"id\":\"1f4bd097-4ffe-4fdd-cf4e-0f2c2a6b99f4\"},\"selection_glyph\":null,\"id\":\"c9ad566e-7db4-47e1-c7e4-45f268caa4b7\",\"tags\":[]}},{\"id\":\"726d9651-26a7-4dbc-cde2-0196622ddb44\",\"type\":\"ColumnDataSource\",\"attributes\":{\"data\":{\"y\":[89.89,86.503333333333,83.8175,81.914,78.996666666667,76.324285714286,73.16125,70.3],\"x\":[2,3,4,5,6,7,8,9]},\"column_names\":[\"y\",\"x\"],\"cont_ranges\":{},\"discrete_ranges\":{},\"selected\":[],\"id\":\"726d9651-26a7-4dbc-cde2-0196622ddb44\",\"doc\":null,\"tags\":[]}},{\"id\":\"86917684-608d-4f6b-cff3-146a5c5197c7\",\"type\":\"Line\",\"attributes\":{\"fill_alpha\":{\"units\":\"data\",\"value\":0.2},\"line_alpha\":{\"units\":\"data\",\"value\":1},\"doc\":null,\"size\":{\"units\":\"screen\",\"value\":10},\"fill_color\":{\"value\":\"green\"},\"line_color\":{\"value\":\"green\"},\"x\":{\"units\":\"data\",\"field\":\"x\"},\"id\":\"86917684-608d-4f6b-cff3-146a5c5197c7\",\"y\":{\"units\":\"data\",\"field\":\"y\"},\"tags\":[]}},{\"id\":\"c63eef67-c46d-48fa-c885-6d2dba752924\",\"type\":\"Line\",\"attributes\":{\"fill_alpha\":{\"units\":\"data\",\"value\":0.2},\"line_alpha\":{\"units\":\"data\",\"value\":1},\"doc\":null,\"size\":{\"units\":\"screen\",\"value\":10},\"fill_color\":{\"value\":\"green\"},\"line_color\":{\"value\":\"green\"},\"x\":{\"units\":\"data\",\"field\":\"x\"},\"id\":\"c63eef67-c46d-48fa-c885-6d2dba752924\",\"y\":{\"units\":\"data\",\"field\":\"y\"},\"tags\":[]}},{\"id\":\"fa53e8bb-63ea-4b35-cbbb-060d9521a3d0\",\"type\":\"GlyphRenderer\",\"attributes\":{\"name\":null,\"nonselection_glyph\":{\"type\":\"Line\",\"id\":\"c63eef67-c46d-48fa-c885-6d2dba752924\"},\"doc\":null,\"server_data_source\":null,\"data_source\":{\"type\":\"ColumnDataSource\",\"id\":\"726d9651-26a7-4dbc-cde2-0196622ddb44\"},\"glyph\":{\"type\":\"Line\",\"id\":\"86917684-608d-4f6b-cff3-146a5c5197c7\"},\"selection_glyph\":null,\"id\":\"fa53e8bb-63ea-4b35-cbbb-060d9521a3d0\",\"tags\":[]}},{\"id\":\"26b910f7-7142-4da8-cdf7-b9d847846dc8\",\"type\":\"DataRange1d\",\"attributes\":{\"sources\":[{\"columns\":[\"x\"],\"source\":{\"type\":\"ColumnDataSource\",\"id\":\"58a0b646-0879-4622-c6ba-6be7f1680868\"}},{\"columns\":[\"x\"],\"source\":{\"type\":\"ColumnDataSource\",\"id\":\"49639db4-a51b-49a2-c935-bff03b70d736\"}},{\"columns\":[\"x\"],\"source\":{\"type\":\"ColumnDataSource\",\"id\":\"238a02b3-e1bd-462f-c61c-130de7b273f2\"}},{\"columns\":[\"x\"],\"source\":{\"type\":\"ColumnDataSource\",\"id\":\"726d9651-26a7-4dbc-cde2-0196622ddb44\"}}],\"id\":\"26b910f7-7142-4da8-cdf7-b9d847846dc8\",\"tags\":[],\"doc\":null}},{\"id\":\"7e53a95b-08ef-4339-c32e-16902ef9f67f\",\"type\":\"DataRange1d\",\"attributes\":{\"sources\":[{\"columns\":[\"y\"],\"source\":{\"type\":\"ColumnDataSource\",\"id\":\"58a0b646-0879-4622-c6ba-6be7f1680868\"}},{\"columns\":[\"y\"],\"source\":{\"type\":\"ColumnDataSource\",\"id\":\"49639db4-a51b-49a2-c935-bff03b70d736\"}},{\"columns\":[\"y\"],\"source\":{\"type\":\"ColumnDataSource\",\"id\":\"238a02b3-e1bd-462f-c61c-130de7b273f2\"}},{\"columns\":[\"y\"],\"source\":{\"type\":\"ColumnDataSource\",\"id\":\"726d9651-26a7-4dbc-cde2-0196622ddb44\"}}],\"id\":\"7e53a95b-08ef-4339-c32e-16902ef9f67f\",\"tags\":[],\"doc\":null}},{\"id\":\"7c1c3b2b-9737-4c82-cc53-e49f48d9a50e\",\"type\":\"ToolEvents\",\"attributes\":{\"tags\":[],\"id\":\"7c1c3b2b-9737-4c82-cc53-e49f48d9a50e\",\"geometries\":[],\"doc\":null}},{\"id\":\"9afa655f-a39a-4528-c531-0b258e1aed23\",\"type\":\"BasicTickFormatter\",\"attributes\":{\"id\":\"9afa655f-a39a-4528-c531-0b258e1aed23\",\"tags\":[],\"doc\":null}},{\"id\":\"d0d4b845-1e1d-4bba-cbfe-d0a02a0f6a0b\",\"type\":\"BasicTicker\",\"attributes\":{\"num_minor_ticks\":5,\"id\":\"d0d4b845-1e1d-4bba-cbfe-d0a02a0f6a0b\",\"tags\":[],\"doc\":null}},{\"id\":\"b3fb7d0d-10e3-4e01-ce5f-102b01eb5a09\",\"type\":\"LinearAxis\",\"attributes\":{\"formatter\":{\"type\":\"BasicTickFormatter\",\"id\":\"9afa655f-a39a-4528-c531-0b258e1aed23\"},\"ticker\":{\"type\":\"BasicTicker\",\"id\":\"d0d4b845-1e1d-4bba-cbfe-d0a02a0f6a0b\"},\"plot\":{\"id\":\"78b1c040-27e8-48fc-c89a-a00850c8fc2e\",\"type\":\"Plot\",\"subtype\":\"Figure\"},\"axis_label\":\"Episode Length\",\"id\":\"b3fb7d0d-10e3-4e01-ce5f-102b01eb5a09\",\"doc\":null,\"tags\":[]}},{\"id\":\"170864b3-51c1-48bb-c8b5-822ee5016f7f\",\"type\":\"Grid\",\"attributes\":{\"dimension\":0,\"plot\":{\"id\":\"78b1c040-27e8-48fc-c89a-a00850c8fc2e\",\"type\":\"Plot\",\"subtype\":\"Figure\"},\"ticker\":{\"type\":\"BasicTicker\",\"id\":\"d0d4b845-1e1d-4bba-cbfe-d0a02a0f6a0b\"},\"id\":\"170864b3-51c1-48bb-c8b5-822ee5016f7f\",\"doc\":null,\"tags\":[]}},{\"id\":\"4687fd86-8de1-480a-c815-083767da76ca\",\"type\":\"BasicTickFormatter\",\"attributes\":{\"id\":\"4687fd86-8de1-480a-c815-083767da76ca\",\"tags\":[],\"doc\":null}},{\"id\":\"f4cb1888-616c-45a0-c59e-109620a30fc8\",\"type\":\"BasicTicker\",\"attributes\":{\"num_minor_ticks\":5,\"id\":\"f4cb1888-616c-45a0-c59e-109620a30fc8\",\"tags\":[],\"doc\":null}},{\"id\":\"3dd3c44c-19a3-495b-c93f-c480dbfd62f0\",\"type\":\"LinearAxis\",\"attributes\":{\"formatter\":{\"type\":\"BasicTickFormatter\",\"id\":\"4687fd86-8de1-480a-c815-083767da76ca\"},\"ticker\":{\"type\":\"BasicTicker\",\"id\":\"f4cb1888-616c-45a0-c59e-109620a30fc8\"},\"plot\":{\"id\":\"78b1c040-27e8-48fc-c89a-a00850c8fc2e\",\"type\":\"Plot\",\"subtype\":\"Figure\"},\"axis_label\":\"Test Accuracy\",\"id\":\"3dd3c44c-19a3-495b-c93f-c480dbfd62f0\",\"doc\":null,\"tags\":[]}},{\"id\":\"aa79834e-62fe-4931-c97a-215505fb245f\",\"type\":\"Grid\",\"attributes\":{\"dimension\":1,\"plot\":{\"id\":\"78b1c040-27e8-48fc-c89a-a00850c8fc2e\",\"type\":\"Plot\",\"subtype\":\"Figure\"},\"ticker\":{\"type\":\"BasicTicker\",\"id\":\"f4cb1888-616c-45a0-c59e-109620a30fc8\"},\"id\":\"aa79834e-62fe-4931-c97a-215505fb245f\",\"doc\":null,\"tags\":[]}},{\"id\":\"305b746c-3634-4deb-cd6a-06ee12c7e68c\",\"type\":\"PanTool\",\"attributes\":{\"plot\":{\"id\":\"78b1c040-27e8-48fc-c89a-a00850c8fc2e\",\"type\":\"Plot\",\"subtype\":\"Figure\"},\"dimensions\":[\"width\",\"height\"],\"id\":\"305b746c-3634-4deb-cd6a-06ee12c7e68c\",\"doc\":null,\"tags\":[]}},{\"id\":\"0e95a6a2-8d86-410c-c12b-7da8a7372f42\",\"type\":\"WheelZoomTool\",\"attributes\":{\"plot\":{\"id\":\"78b1c040-27e8-48fc-c89a-a00850c8fc2e\",\"type\":\"Plot\",\"subtype\":\"Figure\"},\"dimensions\":[\"width\",\"height\"],\"id\":\"0e95a6a2-8d86-410c-c12b-7da8a7372f42\",\"doc\":null,\"tags\":[]}},{\"id\":\"646beeb2-f4a7-41fc-c111-cf6af0eff6d8\",\"type\":\"BoxZoomTool\",\"attributes\":{\"plot\":{\"id\":\"78b1c040-27e8-48fc-c89a-a00850c8fc2e\",\"type\":\"Plot\",\"subtype\":\"Figure\"},\"id\":\"646beeb2-f4a7-41fc-c111-cf6af0eff6d8\",\"tags\":[],\"doc\":null}},{\"id\":\"4f4d10f5-e388-4b9b-cbf9-c9449d93716f\",\"type\":\"PreviewSaveTool\",\"attributes\":{\"plot\":{\"id\":\"78b1c040-27e8-48fc-c89a-a00850c8fc2e\",\"type\":\"Plot\",\"subtype\":\"Figure\"},\"id\":\"4f4d10f5-e388-4b9b-cbf9-c9449d93716f\",\"tags\":[],\"doc\":null}},{\"id\":\"640a6289-e4fe-4237-c22a-04d575afa26a\",\"type\":\"ResizeTool\",\"attributes\":{\"plot\":{\"id\":\"78b1c040-27e8-48fc-c89a-a00850c8fc2e\",\"type\":\"Plot\",\"subtype\":\"Figure\"},\"id\":\"640a6289-e4fe-4237-c22a-04d575afa26a\",\"tags\":[],\"doc\":null}},{\"id\":\"23a6007e-c94b-4abe-ca14-4511e4e7105c\",\"type\":\"ResetTool\",\"attributes\":{\"plot\":{\"id\":\"78b1c040-27e8-48fc-c89a-a00850c8fc2e\",\"type\":\"Plot\",\"subtype\":\"Figure\"},\"id\":\"23a6007e-c94b-4abe-ca14-4511e4e7105c\",\"tags\":[],\"doc\":null}},{\"id\":\"6df259df-00d6-4c1d-cc95-9a45b54cc3c1\",\"type\":\"Legend\",\"attributes\":{\"plot\":{\"id\":\"78b1c040-27e8-48fc-c89a-a00850c8fc2e\",\"type\":\"Plot\",\"subtype\":\"Figure\"},\"legends\":[[\"Fully Connected\",[{\"type\":\"GlyphRenderer\",\"id\":\"79655b13-5385-4dc0-cd9f-9c4590daca1a\"}]],[\"Fully Connected 2\",[{\"type\":\"GlyphRenderer\",\"id\":\"54fb40ed-43a2-470e-c73d-0ef9f3665fbd\"}]],[\"RNN\",[{\"type\":\"GlyphRenderer\",\"id\":\"c9ad566e-7db4-47e1-c7e4-45f268caa4b7\"}]],[\"LSTM\",[{\"type\":\"GlyphRenderer\",\"id\":\"fa53e8bb-63ea-4b35-cbbb-060d9521a3d0\"}]]],\"id\":\"6df259df-00d6-4c1d-cc95-9a45b54cc3c1\",\"doc\":null,\"tags\":[]}},{\"id\":\"78b1c040-27e8-48fc-c89a-a00850c8fc2e\",\"type\":\"Plot\",\"attributes\":{\"x_range\":{\"type\":\"DataRange1d\",\"id\":\"26b910f7-7142-4da8-cdf7-b9d847846dc8\"},\"tool_events\":{\"type\":\"ToolEvents\",\"id\":\"7c1c3b2b-9737-4c82-cc53-e49f48d9a50e\"},\"below\":[{\"type\":\"LinearAxis\",\"id\":\"b3fb7d0d-10e3-4e01-ce5f-102b01eb5a09\"}],\"renderers\":[{\"type\":\"GlyphRenderer\",\"id\":\"79655b13-5385-4dc0-cd9f-9c4590daca1a\"},{\"type\":\"GlyphRenderer\",\"id\":\"54fb40ed-43a2-470e-c73d-0ef9f3665fbd\"},{\"type\":\"GlyphRenderer\",\"id\":\"c9ad566e-7db4-47e1-c7e4-45f268caa4b7\"},{\"type\":\"GlyphRenderer\",\"id\":\"fa53e8bb-63ea-4b35-cbbb-060d9521a3d0\"},{\"type\":\"LinearAxis\",\"id\":\"b3fb7d0d-10e3-4e01-ce5f-102b01eb5a09\"},{\"type\":\"Grid\",\"id\":\"170864b3-51c1-48bb-c8b5-822ee5016f7f\"},{\"type\":\"LinearAxis\",\"id\":\"3dd3c44c-19a3-495b-c93f-c480dbfd62f0\"},{\"type\":\"Grid\",\"id\":\"aa79834e-62fe-4931-c97a-215505fb245f\"},{\"type\":\"Legend\",\"id\":\"6df259df-00d6-4c1d-cc95-9a45b54cc3c1\"}],\"above\":[],\"tools\":[{\"type\":\"PanTool\",\"id\":\"305b746c-3634-4deb-cd6a-06ee12c7e68c\"},{\"type\":\"WheelZoomTool\",\"id\":\"0e95a6a2-8d86-410c-c12b-7da8a7372f42\"},{\"type\":\"BoxZoomTool\",\"id\":\"646beeb2-f4a7-41fc-c111-cf6af0eff6d8\"},{\"type\":\"PreviewSaveTool\",\"id\":\"4f4d10f5-e388-4b9b-cbf9-c9449d93716f\"},{\"type\":\"ResizeTool\",\"id\":\"640a6289-e4fe-4237-c22a-04d575afa26a\"},{\"type\":\"ResetTool\",\"id\":\"23a6007e-c94b-4abe-ca14-4511e4e7105c\"}],\"doc\":null,\"right\":[],\"title\":\"Test accuracy (50000 episodes)\",\"extra_x_ranges\":{},\"left\":[{\"type\":\"LinearAxis\",\"id\":\"3dd3c44c-19a3-495b-c93f-c480dbfd62f0\"}],\"y_range\":{\"type\":\"DataRange1d\",\"id\":\"7e53a95b-08ef-4339-c32e-16902ef9f67f\"},\"id\":\"78b1c040-27e8-48fc-c89a-a00850c8fc2e\",\"extra_y_ranges\":{},\"tags\":[]}}];\n",
       "  Bokeh.load_models(all_models);\n",
       "  var model = Bokeh.Collections(modeltype).get(modelid);\n",
       "  $(\"#859ec279-368f-4bd5-cbfe-edc6559df4c5\").html(''); // clear any previous plot in window_id\n",
       "  var view = new model.default_view({model: model, el: \"#859ec279-368f-4bd5-cbfe-edc6559df4c5\"});\n",
       "    } else {\n",
       "  load_lib(bokehjs_url, function() {\n",
       "      console.log(\"Bokeh: BokehJS plotting callback run at\", new Date())\n",
       "      var modelid = \"78b1c040-27e8-48fc-c89a-a00850c8fc2e\";\n",
       "      var modeltype = \"Plot\";\n",
       "      var all_models = [{\"id\":\"58a0b646-0879-4622-c6ba-6be7f1680868\",\"type\":\"ColumnDataSource\",\"attributes\":{\"data\":{\"y\":[90,86.493333333333,84.1175,80.652,77.433333333333,73.925714285714,70.03,66.526666666667],\"x\":[2,3,4,5,6,7,8,9]},\"column_names\":[\"y\",\"x\"],\"cont_ranges\":{},\"discrete_ranges\":{},\"selected\":[],\"id\":\"58a0b646-0879-4622-c6ba-6be7f1680868\",\"doc\":null,\"tags\":[]}},{\"id\":\"90cd3bab-7862-4102-c12a-1a4193098f73\",\"type\":\"Line\",\"attributes\":{\"fill_alpha\":{\"units\":\"data\",\"value\":0.2},\"line_alpha\":{\"units\":\"data\",\"value\":1},\"doc\":null,\"size\":{\"units\":\"screen\",\"value\":10},\"fill_color\":{\"value\":\"red\"},\"line_color\":{\"value\":\"red\"},\"x\":{\"units\":\"data\",\"field\":\"x\"},\"id\":\"90cd3bab-7862-4102-c12a-1a4193098f73\",\"y\":{\"units\":\"data\",\"field\":\"y\"},\"tags\":[]}},{\"id\":\"7d2b0a47-170c-4ac1-ca4a-6685398c9c2b\",\"type\":\"Line\",\"attributes\":{\"fill_alpha\":{\"units\":\"data\",\"value\":0.2},\"line_alpha\":{\"units\":\"data\",\"value\":1},\"doc\":null,\"size\":{\"units\":\"screen\",\"value\":10},\"fill_color\":{\"value\":\"red\"},\"line_color\":{\"value\":\"red\"},\"x\":{\"units\":\"data\",\"field\":\"x\"},\"id\":\"7d2b0a47-170c-4ac1-ca4a-6685398c9c2b\",\"y\":{\"units\":\"data\",\"field\":\"y\"},\"tags\":[]}},{\"id\":\"79655b13-5385-4dc0-cd9f-9c4590daca1a\",\"type\":\"GlyphRenderer\",\"attributes\":{\"name\":null,\"nonselection_glyph\":{\"type\":\"Line\",\"id\":\"7d2b0a47-170c-4ac1-ca4a-6685398c9c2b\"},\"doc\":null,\"server_data_source\":null,\"data_source\":{\"type\":\"ColumnDataSource\",\"id\":\"58a0b646-0879-4622-c6ba-6be7f1680868\"},\"glyph\":{\"type\":\"Line\",\"id\":\"90cd3bab-7862-4102-c12a-1a4193098f73\"},\"selection_glyph\":null,\"id\":\"79655b13-5385-4dc0-cd9f-9c4590daca1a\",\"tags\":[]}},{\"id\":\"49639db4-a51b-49a2-c935-bff03b70d736\",\"type\":\"ColumnDataSource\",\"attributes\":{\"data\":{\"y\":[90.21,86.5,84.0425,81.17,77.956666666667,74.225714285714,70.4975,66.324444444444],\"x\":[2,3,4,5,6,7,8,9]},\"column_names\":[\"y\",\"x\"],\"cont_ranges\":{},\"discrete_ranges\":{},\"selected\":[],\"id\":\"49639db4-a51b-49a2-c935-bff03b70d736\",\"doc\":null,\"tags\":[]}},{\"id\":\"ae0cac3b-e2e6-4604-c6ee-599419a12508\",\"type\":\"Line\",\"attributes\":{\"fill_alpha\":{\"units\":\"data\",\"value\":0.2},\"line_alpha\":{\"units\":\"data\",\"value\":1},\"doc\":null,\"size\":{\"units\":\"screen\",\"value\":10},\"fill_color\":{\"value\":\"pink\"},\"line_color\":{\"value\":\"pink\"},\"x\":{\"units\":\"data\",\"field\":\"x\"},\"id\":\"ae0cac3b-e2e6-4604-c6ee-599419a12508\",\"y\":{\"units\":\"data\",\"field\":\"y\"},\"tags\":[]}},{\"id\":\"68582311-abde-4789-c715-78a4d0c0d2cc\",\"type\":\"Line\",\"attributes\":{\"fill_alpha\":{\"units\":\"data\",\"value\":0.2},\"line_alpha\":{\"units\":\"data\",\"value\":1},\"doc\":null,\"size\":{\"units\":\"screen\",\"value\":10},\"fill_color\":{\"value\":\"pink\"},\"line_color\":{\"value\":\"pink\"},\"x\":{\"units\":\"data\",\"field\":\"x\"},\"id\":\"68582311-abde-4789-c715-78a4d0c0d2cc\",\"y\":{\"units\":\"data\",\"field\":\"y\"},\"tags\":[]}},{\"id\":\"54fb40ed-43a2-470e-c73d-0ef9f3665fbd\",\"type\":\"GlyphRenderer\",\"attributes\":{\"name\":null,\"nonselection_glyph\":{\"type\":\"Line\",\"id\":\"68582311-abde-4789-c715-78a4d0c0d2cc\"},\"doc\":null,\"server_data_source\":null,\"data_source\":{\"type\":\"ColumnDataSource\",\"id\":\"49639db4-a51b-49a2-c935-bff03b70d736\"},\"glyph\":{\"type\":\"Line\",\"id\":\"ae0cac3b-e2e6-4604-c6ee-599419a12508\"},\"selection_glyph\":null,\"id\":\"54fb40ed-43a2-470e-c73d-0ef9f3665fbd\",\"tags\":[]}},{\"id\":\"238a02b3-e1bd-462f-c61c-130de7b273f2\",\"type\":\"ColumnDataSource\",\"attributes\":{\"data\":{\"y\":[90.155,86.506666666667,83.91,79.778,75.396666666667,71.328571428571,66.24125,60.996666666667],\"x\":[2,3,4,5,6,7,8,9]},\"column_names\":[\"y\",\"x\"],\"cont_ranges\":{},\"discrete_ranges\":{},\"selected\":[],\"id\":\"238a02b3-e1bd-462f-c61c-130de7b273f2\",\"doc\":null,\"tags\":[]}},{\"id\":\"1f4bd097-4ffe-4fdd-cf4e-0f2c2a6b99f4\",\"type\":\"Line\",\"attributes\":{\"fill_alpha\":{\"units\":\"data\",\"value\":0.2},\"line_alpha\":{\"units\":\"data\",\"value\":1},\"doc\":null,\"size\":{\"units\":\"screen\",\"value\":10},\"fill_color\":{\"value\":\"blue\"},\"line_color\":{\"value\":\"blue\"},\"x\":{\"units\":\"data\",\"field\":\"x\"},\"id\":\"1f4bd097-4ffe-4fdd-cf4e-0f2c2a6b99f4\",\"y\":{\"units\":\"data\",\"field\":\"y\"},\"tags\":[]}},{\"id\":\"1f07709c-9180-46ad-c656-0a5c28549279\",\"type\":\"Line\",\"attributes\":{\"fill_alpha\":{\"units\":\"data\",\"value\":0.2},\"line_alpha\":{\"units\":\"data\",\"value\":1},\"doc\":null,\"size\":{\"units\":\"screen\",\"value\":10},\"fill_color\":{\"value\":\"blue\"},\"line_color\":{\"value\":\"blue\"},\"x\":{\"units\":\"data\",\"field\":\"x\"},\"id\":\"1f07709c-9180-46ad-c656-0a5c28549279\",\"y\":{\"units\":\"data\",\"field\":\"y\"},\"tags\":[]}},{\"id\":\"c9ad566e-7db4-47e1-c7e4-45f268caa4b7\",\"type\":\"GlyphRenderer\",\"attributes\":{\"name\":null,\"nonselection_glyph\":{\"type\":\"Line\",\"id\":\"1f07709c-9180-46ad-c656-0a5c28549279\"},\"doc\":null,\"server_data_source\":null,\"data_source\":{\"type\":\"ColumnDataSource\",\"id\":\"238a02b3-e1bd-462f-c61c-130de7b273f2\"},\"glyph\":{\"type\":\"Line\",\"id\":\"1f4bd097-4ffe-4fdd-cf4e-0f2c2a6b99f4\"},\"selection_glyph\":null,\"id\":\"c9ad566e-7db4-47e1-c7e4-45f268caa4b7\",\"tags\":[]}},{\"id\":\"726d9651-26a7-4dbc-cde2-0196622ddb44\",\"type\":\"ColumnDataSource\",\"attributes\":{\"data\":{\"y\":[89.89,86.503333333333,83.8175,81.914,78.996666666667,76.324285714286,73.16125,70.3],\"x\":[2,3,4,5,6,7,8,9]},\"column_names\":[\"y\",\"x\"],\"cont_ranges\":{},\"discrete_ranges\":{},\"selected\":[],\"id\":\"726d9651-26a7-4dbc-cde2-0196622ddb44\",\"doc\":null,\"tags\":[]}},{\"id\":\"86917684-608d-4f6b-cff3-146a5c5197c7\",\"type\":\"Line\",\"attributes\":{\"fill_alpha\":{\"units\":\"data\",\"value\":0.2},\"line_alpha\":{\"units\":\"data\",\"value\":1},\"doc\":null,\"size\":{\"units\":\"screen\",\"value\":10},\"fill_color\":{\"value\":\"green\"},\"line_color\":{\"value\":\"green\"},\"x\":{\"units\":\"data\",\"field\":\"x\"},\"id\":\"86917684-608d-4f6b-cff3-146a5c5197c7\",\"y\":{\"units\":\"data\",\"field\":\"y\"},\"tags\":[]}},{\"id\":\"c63eef67-c46d-48fa-c885-6d2dba752924\",\"type\":\"Line\",\"attributes\":{\"fill_alpha\":{\"units\":\"data\",\"value\":0.2},\"line_alpha\":{\"units\":\"data\",\"value\":1},\"doc\":null,\"size\":{\"units\":\"screen\",\"value\":10},\"fill_color\":{\"value\":\"green\"},\"line_color\":{\"value\":\"green\"},\"x\":{\"units\":\"data\",\"field\":\"x\"},\"id\":\"c63eef67-c46d-48fa-c885-6d2dba752924\",\"y\":{\"units\":\"data\",\"field\":\"y\"},\"tags\":[]}},{\"id\":\"fa53e8bb-63ea-4b35-cbbb-060d9521a3d0\",\"type\":\"GlyphRenderer\",\"attributes\":{\"name\":null,\"nonselection_glyph\":{\"type\":\"Line\",\"id\":\"c63eef67-c46d-48fa-c885-6d2dba752924\"},\"doc\":null,\"server_data_source\":null,\"data_source\":{\"type\":\"ColumnDataSource\",\"id\":\"726d9651-26a7-4dbc-cde2-0196622ddb44\"},\"glyph\":{\"type\":\"Line\",\"id\":\"86917684-608d-4f6b-cff3-146a5c5197c7\"},\"selection_glyph\":null,\"id\":\"fa53e8bb-63ea-4b35-cbbb-060d9521a3d0\",\"tags\":[]}},{\"id\":\"26b910f7-7142-4da8-cdf7-b9d847846dc8\",\"type\":\"DataRange1d\",\"attributes\":{\"sources\":[{\"columns\":[\"x\"],\"source\":{\"type\":\"ColumnDataSource\",\"id\":\"58a0b646-0879-4622-c6ba-6be7f1680868\"}},{\"columns\":[\"x\"],\"source\":{\"type\":\"ColumnDataSource\",\"id\":\"49639db4-a51b-49a2-c935-bff03b70d736\"}},{\"columns\":[\"x\"],\"source\":{\"type\":\"ColumnDataSource\",\"id\":\"238a02b3-e1bd-462f-c61c-130de7b273f2\"}},{\"columns\":[\"x\"],\"source\":{\"type\":\"ColumnDataSource\",\"id\":\"726d9651-26a7-4dbc-cde2-0196622ddb44\"}}],\"id\":\"26b910f7-7142-4da8-cdf7-b9d847846dc8\",\"tags\":[],\"doc\":null}},{\"id\":\"7e53a95b-08ef-4339-c32e-16902ef9f67f\",\"type\":\"DataRange1d\",\"attributes\":{\"sources\":[{\"columns\":[\"y\"],\"source\":{\"type\":\"ColumnDataSource\",\"id\":\"58a0b646-0879-4622-c6ba-6be7f1680868\"}},{\"columns\":[\"y\"],\"source\":{\"type\":\"ColumnDataSource\",\"id\":\"49639db4-a51b-49a2-c935-bff03b70d736\"}},{\"columns\":[\"y\"],\"source\":{\"type\":\"ColumnDataSource\",\"id\":\"238a02b3-e1bd-462f-c61c-130de7b273f2\"}},{\"columns\":[\"y\"],\"source\":{\"type\":\"ColumnDataSource\",\"id\":\"726d9651-26a7-4dbc-cde2-0196622ddb44\"}}],\"id\":\"7e53a95b-08ef-4339-c32e-16902ef9f67f\",\"tags\":[],\"doc\":null}},{\"id\":\"7c1c3b2b-9737-4c82-cc53-e49f48d9a50e\",\"type\":\"ToolEvents\",\"attributes\":{\"tags\":[],\"id\":\"7c1c3b2b-9737-4c82-cc53-e49f48d9a50e\",\"geometries\":[],\"doc\":null}},{\"id\":\"9afa655f-a39a-4528-c531-0b258e1aed23\",\"type\":\"BasicTickFormatter\",\"attributes\":{\"id\":\"9afa655f-a39a-4528-c531-0b258e1aed23\",\"tags\":[],\"doc\":null}},{\"id\":\"d0d4b845-1e1d-4bba-cbfe-d0a02a0f6a0b\",\"type\":\"BasicTicker\",\"attributes\":{\"num_minor_ticks\":5,\"id\":\"d0d4b845-1e1d-4bba-cbfe-d0a02a0f6a0b\",\"tags\":[],\"doc\":null}},{\"id\":\"b3fb7d0d-10e3-4e01-ce5f-102b01eb5a09\",\"type\":\"LinearAxis\",\"attributes\":{\"formatter\":{\"type\":\"BasicTickFormatter\",\"id\":\"9afa655f-a39a-4528-c531-0b258e1aed23\"},\"ticker\":{\"type\":\"BasicTicker\",\"id\":\"d0d4b845-1e1d-4bba-cbfe-d0a02a0f6a0b\"},\"plot\":{\"id\":\"78b1c040-27e8-48fc-c89a-a00850c8fc2e\",\"type\":\"Plot\",\"subtype\":\"Figure\"},\"axis_label\":\"Episode Length\",\"id\":\"b3fb7d0d-10e3-4e01-ce5f-102b01eb5a09\",\"doc\":null,\"tags\":[]}},{\"id\":\"170864b3-51c1-48bb-c8b5-822ee5016f7f\",\"type\":\"Grid\",\"attributes\":{\"dimension\":0,\"plot\":{\"id\":\"78b1c040-27e8-48fc-c89a-a00850c8fc2e\",\"type\":\"Plot\",\"subtype\":\"Figure\"},\"ticker\":{\"type\":\"BasicTicker\",\"id\":\"d0d4b845-1e1d-4bba-cbfe-d0a02a0f6a0b\"},\"id\":\"170864b3-51c1-48bb-c8b5-822ee5016f7f\",\"doc\":null,\"tags\":[]}},{\"id\":\"4687fd86-8de1-480a-c815-083767da76ca\",\"type\":\"BasicTickFormatter\",\"attributes\":{\"id\":\"4687fd86-8de1-480a-c815-083767da76ca\",\"tags\":[],\"doc\":null}},{\"id\":\"f4cb1888-616c-45a0-c59e-109620a30fc8\",\"type\":\"BasicTicker\",\"attributes\":{\"num_minor_ticks\":5,\"id\":\"f4cb1888-616c-45a0-c59e-109620a30fc8\",\"tags\":[],\"doc\":null}},{\"id\":\"3dd3c44c-19a3-495b-c93f-c480dbfd62f0\",\"type\":\"LinearAxis\",\"attributes\":{\"formatter\":{\"type\":\"BasicTickFormatter\",\"id\":\"4687fd86-8de1-480a-c815-083767da76ca\"},\"ticker\":{\"type\":\"BasicTicker\",\"id\":\"f4cb1888-616c-45a0-c59e-109620a30fc8\"},\"plot\":{\"id\":\"78b1c040-27e8-48fc-c89a-a00850c8fc2e\",\"type\":\"Plot\",\"subtype\":\"Figure\"},\"axis_label\":\"Test Accuracy\",\"id\":\"3dd3c44c-19a3-495b-c93f-c480dbfd62f0\",\"doc\":null,\"tags\":[]}},{\"id\":\"aa79834e-62fe-4931-c97a-215505fb245f\",\"type\":\"Grid\",\"attributes\":{\"dimension\":1,\"plot\":{\"id\":\"78b1c040-27e8-48fc-c89a-a00850c8fc2e\",\"type\":\"Plot\",\"subtype\":\"Figure\"},\"ticker\":{\"type\":\"BasicTicker\",\"id\":\"f4cb1888-616c-45a0-c59e-109620a30fc8\"},\"id\":\"aa79834e-62fe-4931-c97a-215505fb245f\",\"doc\":null,\"tags\":[]}},{\"id\":\"305b746c-3634-4deb-cd6a-06ee12c7e68c\",\"type\":\"PanTool\",\"attributes\":{\"plot\":{\"id\":\"78b1c040-27e8-48fc-c89a-a00850c8fc2e\",\"type\":\"Plot\",\"subtype\":\"Figure\"},\"dimensions\":[\"width\",\"height\"],\"id\":\"305b746c-3634-4deb-cd6a-06ee12c7e68c\",\"doc\":null,\"tags\":[]}},{\"id\":\"0e95a6a2-8d86-410c-c12b-7da8a7372f42\",\"type\":\"WheelZoomTool\",\"attributes\":{\"plot\":{\"id\":\"78b1c040-27e8-48fc-c89a-a00850c8fc2e\",\"type\":\"Plot\",\"subtype\":\"Figure\"},\"dimensions\":[\"width\",\"height\"],\"id\":\"0e95a6a2-8d86-410c-c12b-7da8a7372f42\",\"doc\":null,\"tags\":[]}},{\"id\":\"646beeb2-f4a7-41fc-c111-cf6af0eff6d8\",\"type\":\"BoxZoomTool\",\"attributes\":{\"plot\":{\"id\":\"78b1c040-27e8-48fc-c89a-a00850c8fc2e\",\"type\":\"Plot\",\"subtype\":\"Figure\"},\"id\":\"646beeb2-f4a7-41fc-c111-cf6af0eff6d8\",\"tags\":[],\"doc\":null}},{\"id\":\"4f4d10f5-e388-4b9b-cbf9-c9449d93716f\",\"type\":\"PreviewSaveTool\",\"attributes\":{\"plot\":{\"id\":\"78b1c040-27e8-48fc-c89a-a00850c8fc2e\",\"type\":\"Plot\",\"subtype\":\"Figure\"},\"id\":\"4f4d10f5-e388-4b9b-cbf9-c9449d93716f\",\"tags\":[],\"doc\":null}},{\"id\":\"640a6289-e4fe-4237-c22a-04d575afa26a\",\"type\":\"ResizeTool\",\"attributes\":{\"plot\":{\"id\":\"78b1c040-27e8-48fc-c89a-a00850c8fc2e\",\"type\":\"Plot\",\"subtype\":\"Figure\"},\"id\":\"640a6289-e4fe-4237-c22a-04d575afa26a\",\"tags\":[],\"doc\":null}},{\"id\":\"23a6007e-c94b-4abe-ca14-4511e4e7105c\",\"type\":\"ResetTool\",\"attributes\":{\"plot\":{\"id\":\"78b1c040-27e8-48fc-c89a-a00850c8fc2e\",\"type\":\"Plot\",\"subtype\":\"Figure\"},\"id\":\"23a6007e-c94b-4abe-ca14-4511e4e7105c\",\"tags\":[],\"doc\":null}},{\"id\":\"6df259df-00d6-4c1d-cc95-9a45b54cc3c1\",\"type\":\"Legend\",\"attributes\":{\"plot\":{\"id\":\"78b1c040-27e8-48fc-c89a-a00850c8fc2e\",\"type\":\"Plot\",\"subtype\":\"Figure\"},\"legends\":[[\"Fully Connected\",[{\"type\":\"GlyphRenderer\",\"id\":\"79655b13-5385-4dc0-cd9f-9c4590daca1a\"}]],[\"Fully Connected 2\",[{\"type\":\"GlyphRenderer\",\"id\":\"54fb40ed-43a2-470e-c73d-0ef9f3665fbd\"}]],[\"RNN\",[{\"type\":\"GlyphRenderer\",\"id\":\"c9ad566e-7db4-47e1-c7e4-45f268caa4b7\"}]],[\"LSTM\",[{\"type\":\"GlyphRenderer\",\"id\":\"fa53e8bb-63ea-4b35-cbbb-060d9521a3d0\"}]]],\"id\":\"6df259df-00d6-4c1d-cc95-9a45b54cc3c1\",\"doc\":null,\"tags\":[]}},{\"id\":\"78b1c040-27e8-48fc-c89a-a00850c8fc2e\",\"type\":\"Plot\",\"attributes\":{\"x_range\":{\"type\":\"DataRange1d\",\"id\":\"26b910f7-7142-4da8-cdf7-b9d847846dc8\"},\"tool_events\":{\"type\":\"ToolEvents\",\"id\":\"7c1c3b2b-9737-4c82-cc53-e49f48d9a50e\"},\"below\":[{\"type\":\"LinearAxis\",\"id\":\"b3fb7d0d-10e3-4e01-ce5f-102b01eb5a09\"}],\"renderers\":[{\"type\":\"GlyphRenderer\",\"id\":\"79655b13-5385-4dc0-cd9f-9c4590daca1a\"},{\"type\":\"GlyphRenderer\",\"id\":\"54fb40ed-43a2-470e-c73d-0ef9f3665fbd\"},{\"type\":\"GlyphRenderer\",\"id\":\"c9ad566e-7db4-47e1-c7e4-45f268caa4b7\"},{\"type\":\"GlyphRenderer\",\"id\":\"fa53e8bb-63ea-4b35-cbbb-060d9521a3d0\"},{\"type\":\"LinearAxis\",\"id\":\"b3fb7d0d-10e3-4e01-ce5f-102b01eb5a09\"},{\"type\":\"Grid\",\"id\":\"170864b3-51c1-48bb-c8b5-822ee5016f7f\"},{\"type\":\"LinearAxis\",\"id\":\"3dd3c44c-19a3-495b-c93f-c480dbfd62f0\"},{\"type\":\"Grid\",\"id\":\"aa79834e-62fe-4931-c97a-215505fb245f\"},{\"type\":\"Legend\",\"id\":\"6df259df-00d6-4c1d-cc95-9a45b54cc3c1\"}],\"above\":[],\"tools\":[{\"type\":\"PanTool\",\"id\":\"305b746c-3634-4deb-cd6a-06ee12c7e68c\"},{\"type\":\"WheelZoomTool\",\"id\":\"0e95a6a2-8d86-410c-c12b-7da8a7372f42\"},{\"type\":\"BoxZoomTool\",\"id\":\"646beeb2-f4a7-41fc-c111-cf6af0eff6d8\"},{\"type\":\"PreviewSaveTool\",\"id\":\"4f4d10f5-e388-4b9b-cbf9-c9449d93716f\"},{\"type\":\"ResizeTool\",\"id\":\"640a6289-e4fe-4237-c22a-04d575afa26a\"},{\"type\":\"ResetTool\",\"id\":\"23a6007e-c94b-4abe-ca14-4511e4e7105c\"}],\"doc\":null,\"right\":[],\"title\":\"Test accuracy (50000 episodes)\",\"extra_x_ranges\":{},\"left\":[{\"type\":\"LinearAxis\",\"id\":\"3dd3c44c-19a3-495b-c93f-c480dbfd62f0\"}],\"y_range\":{\"type\":\"DataRange1d\",\"id\":\"7e53a95b-08ef-4339-c32e-16902ef9f67f\"},\"id\":\"78b1c040-27e8-48fc-c89a-a00850c8fc2e\",\"extra_y_ranges\":{},\"tags\":[]}}];\n",
       "      Bokeh.load_models(all_models);\n",
       "      var model = Bokeh.Collections(modeltype).get(modelid);\n",
       "      $(\"#859ec279-368f-4bd5-cbfe-edc6559df4c5\").html(''); // clear any previous plot in window_id\n",
       "      var view = new model.default_view({model: model, el: \"#859ec279-368f-4bd5-cbfe-edc6559df4c5\"});\n",
       "  });\n",
       "    }\n",
       "});\n",
       "</script>\n",
       "<div class=\"plotdiv\" id=\"859ec279-368f-4bd5-cbfe-edc6559df4c5\"></div>\n"
      ]
     },
     "metadata": {},
     "output_type": "display_data"
    }
   ],
   "source": [
    "-- Test accuracy plot\n",
    "plot = itorch.Plot()\n",
    "x = torch.range(2, 9)\n",
    "full_y = torch.Tensor(8)\n",
    "rnn_y = torch.Tensor(8)\n",
    "lstm_y = torch.Tensor(8)\n",
    "for i=2,9 do\n",
    "    name = string.format('models_%d_full/rubiks_best', i)\n",
    "    full_y[i-1] = best_results[name].test_acc\n",
    "    name = string.format('models_%d_fulltwo/rubiks_best', i)\n",
    "    full2_y[i-1] = best_results[name].test_acc\n",
    "    name = string.format('models_%d_rnn/rubiks_best', i)\n",
    "    rnn_y[i-1] = best_results[name].test_acc\n",
    "    name = string.format('models_%d_lstm/rubiks_best', i)\n",
    "    lstm_y[i-1] = best_results[name].test_acc\n",
    "end\n",
    "\n",
    "plot:xaxis('Episode Length'):yaxis('Test Accuracy')\n",
    "plot:title('Test accuracy (50000 episodes)')\n",
    "plot:line(x, full_y, 'red', 'Fully Connected')\n",
    "plot:line(x, full2_y, 'pink', 'Fully Connected 2')\n",
    "plot:line(x, rnn_y, 'blue', 'RNN')\n",
    "plot:line(x, lstm_y, 'green', 'LSTM')\n",
    "plot:legend(true)\n",
    "plot:draw()"
   ]
  },
  {
   "cell_type": "code",
   "execution_count": 6,
   "metadata": {
    "collapsed": false
   },
   "outputs": [
    {
     "data": {
      "text/plain": [
       "<csv>\tparsing file: test_results/scores.csv\t\n",
       "<csv>\ttidying up entries\t\n",
       "<csv>\treturning tidy table\t\n"
      ]
     },
     "execution_count": 6,
     "metadata": {},
     "output_type": "execute_result"
    },
    {
     "data": {
      "text/html": [
       "<script type=\"text/javascript\">\n",
       "$(function() {\n",
       "    if (typeof (window._bokeh_onload_callbacks) === \"undefined\"){\n",
       "  window._bokeh_onload_callbacks = [];\n",
       "    }\n",
       "    function load_lib(url, callback){\n",
       "  window._bokeh_onload_callbacks.push(callback);\n",
       "  if (window._bokeh_is_loading){\n",
       "      console.log(\"Bokeh: BokehJS is being loaded, scheduling callback at\", new Date());\n",
       "      return null;\n",
       "  }\n",
       "  console.log(\"Bokeh: BokehJS not loaded, scheduling load and callback at\", new Date());\n",
       "  window._bokeh_is_loading = true;\n",
       "  var s = document.createElement('script');\n",
       "  s.src = url;\n",
       "  s.async = true;\n",
       "  s.onreadystatechange = s.onload = function(){\n",
       "      Bokeh.embed.inject_css(\"http://cdn.pydata.org/bokeh-0.7.0.min.css\");\n",
       "      window._bokeh_onload_callbacks.forEach(function(callback){callback()});\n",
       "  };\n",
       "  s.onerror = function(){\n",
       "      console.warn(\"failed to load library \" + url);\n",
       "  };\n",
       "  document.getElementsByTagName(\"head\")[0].appendChild(s);\n",
       "    }\n",
       "\n",
       "    bokehjs_url = \"http://cdn.pydata.org/bokeh-0.7.0.min.js\"\n",
       "\n",
       "    var elt = document.getElementById(\"6f897ac0-ff26-4519-c5f3-08c00d0b87cd\");\n",
       "    if(elt==null) {\n",
       "  console.log(\"Bokeh: ERROR: autoload.js configured with elementid '6f897ac0-ff26-4519-c5f3-08c00d0b87cd'\"\n",
       "        + \"but no matching script tag was found. \")\n",
       "  return false;\n",
       "    }\n",
       "\n",
       "    if(typeof(Bokeh) !== \"undefined\") {\n",
       "  console.log(\"Bokeh: BokehJS loaded, going straight to plotting\");\n",
       "  var modelid = \"595acf0b-a9ae-4013-c05d-28642b4958df\";\n",
       "  var modeltype = \"Plot\";\n",
       "  var all_models = [{\"id\":\"e9c556fc-44be-4b94-cb22-6242330a5b29\",\"type\":\"ColumnDataSource\",\"attributes\":{\"data\":{\"y\":[79.65,86.9,80.4,72.69,58.01,42.79,31.19,21.77],\"x\":[2,3,4,5,6,7,8,9]},\"column_names\":[\"y\",\"x\"],\"cont_ranges\":{},\"discrete_ranges\":{},\"selected\":[],\"id\":\"e9c556fc-44be-4b94-cb22-6242330a5b29\",\"doc\":null,\"tags\":[]}},{\"id\":\"63cdae29-d8e5-4d25-cd6f-c002c1bdd632\",\"type\":\"Line\",\"attributes\":{\"fill_alpha\":{\"units\":\"data\",\"value\":0.2},\"line_alpha\":{\"units\":\"data\",\"value\":1},\"doc\":null,\"size\":{\"units\":\"screen\",\"value\":10},\"fill_color\":{\"value\":\"red\"},\"line_color\":{\"value\":\"red\"},\"x\":{\"units\":\"data\",\"field\":\"x\"},\"id\":\"63cdae29-d8e5-4d25-cd6f-c002c1bdd632\",\"y\":{\"units\":\"data\",\"field\":\"y\"},\"tags\":[]}},{\"id\":\"879eedd4-3204-4e47-ce4f-e4eee7874098\",\"type\":\"Line\",\"attributes\":{\"fill_alpha\":{\"units\":\"data\",\"value\":0.2},\"line_alpha\":{\"units\":\"data\",\"value\":1},\"doc\":null,\"size\":{\"units\":\"screen\",\"value\":10},\"fill_color\":{\"value\":\"red\"},\"line_color\":{\"value\":\"red\"},\"x\":{\"units\":\"data\",\"field\":\"x\"},\"id\":\"879eedd4-3204-4e47-ce4f-e4eee7874098\",\"y\":{\"units\":\"data\",\"field\":\"y\"},\"tags\":[]}},{\"id\":\"d912b050-9b49-47dd-c708-a95a55d6bb2b\",\"type\":\"GlyphRenderer\",\"attributes\":{\"name\":null,\"nonselection_glyph\":{\"type\":\"Line\",\"id\":\"879eedd4-3204-4e47-ce4f-e4eee7874098\"},\"doc\":null,\"server_data_source\":null,\"data_source\":{\"type\":\"ColumnDataSource\",\"id\":\"e9c556fc-44be-4b94-cb22-6242330a5b29\"},\"glyph\":{\"type\":\"Line\",\"id\":\"63cdae29-d8e5-4d25-cd6f-c002c1bdd632\"},\"selection_glyph\":null,\"id\":\"d912b050-9b49-47dd-c708-a95a55d6bb2b\",\"tags\":[]}},{\"id\":\"83cf6174-83d8-4560-c54d-eeb4c0590d89\",\"type\":\"ColumnDataSource\",\"attributes\":{\"data\":{\"y\":[80.5,84.74,83.85,76.1,60.99,46.05,32.24,21.92],\"x\":[2,3,4,5,6,7,8,9]},\"column_names\":[\"y\",\"x\"],\"cont_ranges\":{},\"discrete_ranges\":{},\"selected\":[],\"id\":\"83cf6174-83d8-4560-c54d-eeb4c0590d89\",\"doc\":null,\"tags\":[]}},{\"id\":\"c3e338b3-6705-46a9-c67d-b37158e63e27\",\"type\":\"Line\",\"attributes\":{\"fill_alpha\":{\"units\":\"data\",\"value\":0.2},\"line_alpha\":{\"units\":\"data\",\"value\":1},\"doc\":null,\"size\":{\"units\":\"screen\",\"value\":10},\"fill_color\":{\"value\":\"pink\"},\"line_color\":{\"value\":\"pink\"},\"x\":{\"units\":\"data\",\"field\":\"x\"},\"id\":\"c3e338b3-6705-46a9-c67d-b37158e63e27\",\"y\":{\"units\":\"data\",\"field\":\"y\"},\"tags\":[]}},{\"id\":\"84082131-4e92-4dae-cd99-46d07a0861bd\",\"type\":\"Line\",\"attributes\":{\"fill_alpha\":{\"units\":\"data\",\"value\":0.2},\"line_alpha\":{\"units\":\"data\",\"value\":1},\"doc\":null,\"size\":{\"units\":\"screen\",\"value\":10},\"fill_color\":{\"value\":\"pink\"},\"line_color\":{\"value\":\"pink\"},\"x\":{\"units\":\"data\",\"field\":\"x\"},\"id\":\"84082131-4e92-4dae-cd99-46d07a0861bd\",\"y\":{\"units\":\"data\",\"field\":\"y\"},\"tags\":[]}},{\"id\":\"3b2ab9be-6086-4d96-cd0b-29e168a85086\",\"type\":\"GlyphRenderer\",\"attributes\":{\"name\":null,\"nonselection_glyph\":{\"type\":\"Line\",\"id\":\"84082131-4e92-4dae-cd99-46d07a0861bd\"},\"doc\":null,\"server_data_source\":null,\"data_source\":{\"type\":\"ColumnDataSource\",\"id\":\"83cf6174-83d8-4560-c54d-eeb4c0590d89\"},\"glyph\":{\"type\":\"Line\",\"id\":\"c3e338b3-6705-46a9-c67d-b37158e63e27\"},\"selection_glyph\":null,\"id\":\"3b2ab9be-6086-4d96-cd0b-29e168a85086\",\"tags\":[]}},{\"id\":\"d5b747fd-daeb-4556-c591-a030e515e25b\",\"type\":\"ColumnDataSource\",\"attributes\":{\"data\":{\"y\":[78.38,80.03,64.22,55.62,46.81,35.17,22.97,12.69],\"x\":[2,3,4,5,6,7,8,9]},\"column_names\":[\"y\",\"x\"],\"cont_ranges\":{},\"discrete_ranges\":{},\"selected\":[],\"id\":\"d5b747fd-daeb-4556-c591-a030e515e25b\",\"doc\":null,\"tags\":[]}},{\"id\":\"69164ef6-6c17-4715-c721-37c02b62bef0\",\"type\":\"Line\",\"attributes\":{\"fill_alpha\":{\"units\":\"data\",\"value\":0.2},\"line_alpha\":{\"units\":\"data\",\"value\":1},\"doc\":null,\"size\":{\"units\":\"screen\",\"value\":10},\"fill_color\":{\"value\":\"blue\"},\"line_color\":{\"value\":\"blue\"},\"x\":{\"units\":\"data\",\"field\":\"x\"},\"id\":\"69164ef6-6c17-4715-c721-37c02b62bef0\",\"y\":{\"units\":\"data\",\"field\":\"y\"},\"tags\":[]}},{\"id\":\"5ca795bb-e696-4f46-cf25-a9f5564f16c4\",\"type\":\"Line\",\"attributes\":{\"fill_alpha\":{\"units\":\"data\",\"value\":0.2},\"line_alpha\":{\"units\":\"data\",\"value\":1},\"doc\":null,\"size\":{\"units\":\"screen\",\"value\":10},\"fill_color\":{\"value\":\"blue\"},\"line_color\":{\"value\":\"blue\"},\"x\":{\"units\":\"data\",\"field\":\"x\"},\"id\":\"5ca795bb-e696-4f46-cf25-a9f5564f16c4\",\"y\":{\"units\":\"data\",\"field\":\"y\"},\"tags\":[]}},{\"id\":\"dead1311-a44a-466b-c6df-2e448c3ddfb8\",\"type\":\"GlyphRenderer\",\"attributes\":{\"name\":null,\"nonselection_glyph\":{\"type\":\"Line\",\"id\":\"5ca795bb-e696-4f46-cf25-a9f5564f16c4\"},\"doc\":null,\"server_data_source\":null,\"data_source\":{\"type\":\"ColumnDataSource\",\"id\":\"d5b747fd-daeb-4556-c591-a030e515e25b\"},\"glyph\":{\"type\":\"Line\",\"id\":\"69164ef6-6c17-4715-c721-37c02b62bef0\"},\"selection_glyph\":null,\"id\":\"dead1311-a44a-466b-c6df-2e448c3ddfb8\",\"tags\":[]}},{\"id\":\"68f2fcf8-32da-40e7-c0d0-7a2a27313279\",\"type\":\"ColumnDataSource\",\"attributes\":{\"data\":{\"y\":[78.93,81.66,77.42,71.87,63.33,53.13,41.61,30.57],\"x\":[2,3,4,5,6,7,8,9]},\"column_names\":[\"y\",\"x\"],\"cont_ranges\":{},\"discrete_ranges\":{},\"selected\":[],\"id\":\"68f2fcf8-32da-40e7-c0d0-7a2a27313279\",\"doc\":null,\"tags\":[]}},{\"id\":\"5a378944-7b3c-4520-c586-07b43985377b\",\"type\":\"Line\",\"attributes\":{\"fill_alpha\":{\"units\":\"data\",\"value\":0.2},\"line_alpha\":{\"units\":\"data\",\"value\":1},\"doc\":null,\"size\":{\"units\":\"screen\",\"value\":10},\"fill_color\":{\"value\":\"green\"},\"line_color\":{\"value\":\"green\"},\"x\":{\"units\":\"data\",\"field\":\"x\"},\"id\":\"5a378944-7b3c-4520-c586-07b43985377b\",\"y\":{\"units\":\"data\",\"field\":\"y\"},\"tags\":[]}},{\"id\":\"374867bb-f5ed-4c03-cc94-c879f6a8e7fd\",\"type\":\"Line\",\"attributes\":{\"fill_alpha\":{\"units\":\"data\",\"value\":0.2},\"line_alpha\":{\"units\":\"data\",\"value\":1},\"doc\":null,\"size\":{\"units\":\"screen\",\"value\":10},\"fill_color\":{\"value\":\"green\"},\"line_color\":{\"value\":\"green\"},\"x\":{\"units\":\"data\",\"field\":\"x\"},\"id\":\"374867bb-f5ed-4c03-cc94-c879f6a8e7fd\",\"y\":{\"units\":\"data\",\"field\":\"y\"},\"tags\":[]}},{\"id\":\"e25517cd-3e4d-4ec9-ce13-b140731388c2\",\"type\":\"GlyphRenderer\",\"attributes\":{\"name\":null,\"nonselection_glyph\":{\"type\":\"Line\",\"id\":\"374867bb-f5ed-4c03-cc94-c879f6a8e7fd\"},\"doc\":null,\"server_data_source\":null,\"data_source\":{\"type\":\"ColumnDataSource\",\"id\":\"68f2fcf8-32da-40e7-c0d0-7a2a27313279\"},\"glyph\":{\"type\":\"Line\",\"id\":\"5a378944-7b3c-4520-c586-07b43985377b\"},\"selection_glyph\":null,\"id\":\"e25517cd-3e4d-4ec9-ce13-b140731388c2\",\"tags\":[]}},{\"id\":\"621fe168-14ef-4273-c28b-8b87a11b42a0\",\"type\":\"DataRange1d\",\"attributes\":{\"sources\":[{\"columns\":[\"x\"],\"source\":{\"type\":\"ColumnDataSource\",\"id\":\"e9c556fc-44be-4b94-cb22-6242330a5b29\"}},{\"columns\":[\"x\"],\"source\":{\"type\":\"ColumnDataSource\",\"id\":\"83cf6174-83d8-4560-c54d-eeb4c0590d89\"}},{\"columns\":[\"x\"],\"source\":{\"type\":\"ColumnDataSource\",\"id\":\"d5b747fd-daeb-4556-c591-a030e515e25b\"}},{\"columns\":[\"x\"],\"source\":{\"type\":\"ColumnDataSource\",\"id\":\"68f2fcf8-32da-40e7-c0d0-7a2a27313279\"}}],\"id\":\"621fe168-14ef-4273-c28b-8b87a11b42a0\",\"tags\":[],\"doc\":null}},{\"id\":\"38328263-8a7c-46bb-c6f9-c44451eaef01\",\"type\":\"DataRange1d\",\"attributes\":{\"sources\":[{\"columns\":[\"y\"],\"source\":{\"type\":\"ColumnDataSource\",\"id\":\"e9c556fc-44be-4b94-cb22-6242330a5b29\"}},{\"columns\":[\"y\"],\"source\":{\"type\":\"ColumnDataSource\",\"id\":\"83cf6174-83d8-4560-c54d-eeb4c0590d89\"}},{\"columns\":[\"y\"],\"source\":{\"type\":\"ColumnDataSource\",\"id\":\"d5b747fd-daeb-4556-c591-a030e515e25b\"}},{\"columns\":[\"y\"],\"source\":{\"type\":\"ColumnDataSource\",\"id\":\"68f2fcf8-32da-40e7-c0d0-7a2a27313279\"}}],\"id\":\"38328263-8a7c-46bb-c6f9-c44451eaef01\",\"tags\":[],\"doc\":null}},{\"id\":\"77dff367-a034-4c70-cc05-f6348dfc3182\",\"type\":\"ToolEvents\",\"attributes\":{\"tags\":[],\"id\":\"77dff367-a034-4c70-cc05-f6348dfc3182\",\"geometries\":[],\"doc\":null}},{\"id\":\"720ce3f4-adbd-4759-c74d-6d1c03a579fa\",\"type\":\"BasicTickFormatter\",\"attributes\":{\"id\":\"720ce3f4-adbd-4759-c74d-6d1c03a579fa\",\"tags\":[],\"doc\":null}},{\"id\":\"1ca17190-8551-4779-c7cb-80a9f4e2a7df\",\"type\":\"BasicTicker\",\"attributes\":{\"num_minor_ticks\":5,\"id\":\"1ca17190-8551-4779-c7cb-80a9f4e2a7df\",\"tags\":[],\"doc\":null}},{\"id\":\"2f86fe8e-949c-4a13-caa9-3e5857977ae1\",\"type\":\"LinearAxis\",\"attributes\":{\"formatter\":{\"type\":\"BasicTickFormatter\",\"id\":\"720ce3f4-adbd-4759-c74d-6d1c03a579fa\"},\"ticker\":{\"type\":\"BasicTicker\",\"id\":\"1ca17190-8551-4779-c7cb-80a9f4e2a7df\"},\"plot\":{\"id\":\"595acf0b-a9ae-4013-c05d-28642b4958df\",\"type\":\"Plot\",\"subtype\":\"Figure\"},\"axis_label\":\"Episode Length Trained On\",\"id\":\"2f86fe8e-949c-4a13-caa9-3e5857977ae1\",\"doc\":null,\"tags\":[]}},{\"id\":\"09dfa364-055c-4f2d-cfeb-3c05cb99a532\",\"type\":\"Grid\",\"attributes\":{\"dimension\":0,\"plot\":{\"id\":\"595acf0b-a9ae-4013-c05d-28642b4958df\",\"type\":\"Plot\",\"subtype\":\"Figure\"},\"ticker\":{\"type\":\"BasicTicker\",\"id\":\"1ca17190-8551-4779-c7cb-80a9f4e2a7df\"},\"id\":\"09dfa364-055c-4f2d-cfeb-3c05cb99a532\",\"doc\":null,\"tags\":[]}},{\"id\":\"852ef399-86af-4f40-cff6-91572f09d876\",\"type\":\"BasicTickFormatter\",\"attributes\":{\"id\":\"852ef399-86af-4f40-cff6-91572f09d876\",\"tags\":[],\"doc\":null}},{\"id\":\"c7484057-4e31-4147-c105-8a831a95b851\",\"type\":\"BasicTicker\",\"attributes\":{\"num_minor_ticks\":5,\"id\":\"c7484057-4e31-4147-c105-8a831a95b851\",\"tags\":[],\"doc\":null}},{\"id\":\"7ca36d43-9f1c-4602-c6f8-e30d7fb8cc4f\",\"type\":\"LinearAxis\",\"attributes\":{\"formatter\":{\"type\":\"BasicTickFormatter\",\"id\":\"852ef399-86af-4f40-cff6-91572f09d876\"},\"ticker\":{\"type\":\"BasicTicker\",\"id\":\"c7484057-4e31-4147-c105-8a831a95b851\"},\"plot\":{\"id\":\"595acf0b-a9ae-4013-c05d-28642b4958df\",\"type\":\"Plot\",\"subtype\":\"Figure\"},\"axis_label\":\"Solve Percentage\",\"id\":\"7ca36d43-9f1c-4602-c6f8-e30d7fb8cc4f\",\"doc\":null,\"tags\":[]}},{\"id\":\"f6d71c74-7cfb-4362-c349-3a585482f586\",\"type\":\"Grid\",\"attributes\":{\"dimension\":1,\"plot\":{\"id\":\"595acf0b-a9ae-4013-c05d-28642b4958df\",\"type\":\"Plot\",\"subtype\":\"Figure\"},\"ticker\":{\"type\":\"BasicTicker\",\"id\":\"c7484057-4e31-4147-c105-8a831a95b851\"},\"id\":\"f6d71c74-7cfb-4362-c349-3a585482f586\",\"doc\":null,\"tags\":[]}},{\"id\":\"351ac447-c818-4f0b-cf4b-2ef056d2039a\",\"type\":\"PanTool\",\"attributes\":{\"plot\":{\"id\":\"595acf0b-a9ae-4013-c05d-28642b4958df\",\"type\":\"Plot\",\"subtype\":\"Figure\"},\"dimensions\":[\"width\",\"height\"],\"id\":\"351ac447-c818-4f0b-cf4b-2ef056d2039a\",\"doc\":null,\"tags\":[]}},{\"id\":\"68469f62-13e4-4d27-cda5-3d3e095dc96f\",\"type\":\"WheelZoomTool\",\"attributes\":{\"plot\":{\"id\":\"595acf0b-a9ae-4013-c05d-28642b4958df\",\"type\":\"Plot\",\"subtype\":\"Figure\"},\"dimensions\":[\"width\",\"height\"],\"id\":\"68469f62-13e4-4d27-cda5-3d3e095dc96f\",\"doc\":null,\"tags\":[]}},{\"id\":\"5555784c-21ae-4b1e-cbe6-692d6625e94c\",\"type\":\"BoxZoomTool\",\"attributes\":{\"plot\":{\"id\":\"595acf0b-a9ae-4013-c05d-28642b4958df\",\"type\":\"Plot\",\"subtype\":\"Figure\"},\"id\":\"5555784c-21ae-4b1e-cbe6-692d6625e94c\",\"tags\":[],\"doc\":null}},{\"id\":\"8e06e78b-290c-40ab-c0e2-f20a21239b49\",\"type\":\"PreviewSaveTool\",\"attributes\":{\"plot\":{\"id\":\"595acf0b-a9ae-4013-c05d-28642b4958df\",\"type\":\"Plot\",\"subtype\":\"Figure\"},\"id\":\"8e06e78b-290c-40ab-c0e2-f20a21239b49\",\"tags\":[],\"doc\":null}},{\"id\":\"889063d5-6197-4825-c801-0943a9477086\",\"type\":\"ResizeTool\",\"attributes\":{\"plot\":{\"id\":\"595acf0b-a9ae-4013-c05d-28642b4958df\",\"type\":\"Plot\",\"subtype\":\"Figure\"},\"id\":\"889063d5-6197-4825-c801-0943a9477086\",\"tags\":[],\"doc\":null}},{\"id\":\"003a2821-2281-4bb6-cb26-fed19c8bdf36\",\"type\":\"ResetTool\",\"attributes\":{\"plot\":{\"id\":\"595acf0b-a9ae-4013-c05d-28642b4958df\",\"type\":\"Plot\",\"subtype\":\"Figure\"},\"id\":\"003a2821-2281-4bb6-cb26-fed19c8bdf36\",\"tags\":[],\"doc\":null}},{\"id\":\"3b6f28be-87f8-41e7-c1f7-4faf32e3fce3\",\"type\":\"Legend\",\"attributes\":{\"plot\":{\"id\":\"595acf0b-a9ae-4013-c05d-28642b4958df\",\"type\":\"Plot\",\"subtype\":\"Figure\"},\"legends\":[[\"Fully Connected\",[{\"type\":\"GlyphRenderer\",\"id\":\"d912b050-9b49-47dd-c708-a95a55d6bb2b\"}]],[\"Fully Connected 2\",[{\"type\":\"GlyphRenderer\",\"id\":\"3b2ab9be-6086-4d96-cd0b-29e168a85086\"}]],[\"RNN\",[{\"type\":\"GlyphRenderer\",\"id\":\"dead1311-a44a-466b-c6df-2e448c3ddfb8\"}]],[\"LSTM\",[{\"type\":\"GlyphRenderer\",\"id\":\"e25517cd-3e4d-4ec9-ce13-b140731388c2\"}]]],\"id\":\"3b6f28be-87f8-41e7-c1f7-4faf32e3fce3\",\"doc\":null,\"tags\":[]}},{\"id\":\"595acf0b-a9ae-4013-c05d-28642b4958df\",\"type\":\"Plot\",\"attributes\":{\"x_range\":{\"type\":\"DataRange1d\",\"id\":\"621fe168-14ef-4273-c28b-8b87a11b42a0\"},\"tool_events\":{\"type\":\"ToolEvents\",\"id\":\"77dff367-a034-4c70-cc05-f6348dfc3182\"},\"below\":[{\"type\":\"LinearAxis\",\"id\":\"2f86fe8e-949c-4a13-caa9-3e5857977ae1\"}],\"renderers\":[{\"type\":\"GlyphRenderer\",\"id\":\"d912b050-9b49-47dd-c708-a95a55d6bb2b\"},{\"type\":\"GlyphRenderer\",\"id\":\"3b2ab9be-6086-4d96-cd0b-29e168a85086\"},{\"type\":\"GlyphRenderer\",\"id\":\"dead1311-a44a-466b-c6df-2e448c3ddfb8\"},{\"type\":\"GlyphRenderer\",\"id\":\"e25517cd-3e4d-4ec9-ce13-b140731388c2\"},{\"type\":\"LinearAxis\",\"id\":\"2f86fe8e-949c-4a13-caa9-3e5857977ae1\"},{\"type\":\"Grid\",\"id\":\"09dfa364-055c-4f2d-cfeb-3c05cb99a532\"},{\"type\":\"LinearAxis\",\"id\":\"7ca36d43-9f1c-4602-c6f8-e30d7fb8cc4f\"},{\"type\":\"Grid\",\"id\":\"f6d71c74-7cfb-4362-c349-3a585482f586\"},{\"type\":\"Legend\",\"id\":\"3b6f28be-87f8-41e7-c1f7-4faf32e3fce3\"}],\"above\":[],\"tools\":[{\"type\":\"PanTool\",\"id\":\"351ac447-c818-4f0b-cf4b-2ef056d2039a\"},{\"type\":\"WheelZoomTool\",\"id\":\"68469f62-13e4-4d27-cda5-3d3e095dc96f\"},{\"type\":\"BoxZoomTool\",\"id\":\"5555784c-21ae-4b1e-cbe6-692d6625e94c\"},{\"type\":\"PreviewSaveTool\",\"id\":\"8e06e78b-290c-40ab-c0e2-f20a21239b49\"},{\"type\":\"ResizeTool\",\"id\":\"889063d5-6197-4825-c801-0943a9477086\"},{\"type\":\"ResetTool\",\"id\":\"003a2821-2281-4bb6-cb26-fed19c8bdf36\"}],\"doc\":null,\"right\":[],\"title\":\"Solve Percentage in Real World Tests\",\"extra_x_ranges\":{},\"left\":[{\"type\":\"LinearAxis\",\"id\":\"7ca36d43-9f1c-4602-c6f8-e30d7fb8cc4f\"}],\"y_range\":{\"type\":\"DataRange1d\",\"id\":\"38328263-8a7c-46bb-c6f9-c44451eaef01\"},\"id\":\"595acf0b-a9ae-4013-c05d-28642b4958df\",\"extra_y_ranges\":{},\"tags\":[]}}];\n",
       "  Bokeh.load_models(all_models);\n",
       "  var model = Bokeh.Collections(modeltype).get(modelid);\n",
       "  $(\"#6f897ac0-ff26-4519-c5f3-08c00d0b87cd\").html(''); // clear any previous plot in window_id\n",
       "  var view = new model.default_view({model: model, el: \"#6f897ac0-ff26-4519-c5f3-08c00d0b87cd\"});\n",
       "    } else {\n",
       "  load_lib(bokehjs_url, function() {\n",
       "      console.log(\"Bokeh: BokehJS plotting callback run at\", new Date())\n",
       "      var modelid = \"595acf0b-a9ae-4013-c05d-28642b4958df\";\n",
       "      var modeltype = \"Plot\";\n",
       "      var all_models = [{\"id\":\"e9c556fc-44be-4b94-cb22-6242330a5b29\",\"type\":\"ColumnDataSource\",\"attributes\":{\"data\":{\"y\":[79.65,86.9,80.4,72.69,58.01,42.79,31.19,21.77],\"x\":[2,3,4,5,6,7,8,9]},\"column_names\":[\"y\",\"x\"],\"cont_ranges\":{},\"discrete_ranges\":{},\"selected\":[],\"id\":\"e9c556fc-44be-4b94-cb22-6242330a5b29\",\"doc\":null,\"tags\":[]}},{\"id\":\"63cdae29-d8e5-4d25-cd6f-c002c1bdd632\",\"type\":\"Line\",\"attributes\":{\"fill_alpha\":{\"units\":\"data\",\"value\":0.2},\"line_alpha\":{\"units\":\"data\",\"value\":1},\"doc\":null,\"size\":{\"units\":\"screen\",\"value\":10},\"fill_color\":{\"value\":\"red\"},\"line_color\":{\"value\":\"red\"},\"x\":{\"units\":\"data\",\"field\":\"x\"},\"id\":\"63cdae29-d8e5-4d25-cd6f-c002c1bdd632\",\"y\":{\"units\":\"data\",\"field\":\"y\"},\"tags\":[]}},{\"id\":\"879eedd4-3204-4e47-ce4f-e4eee7874098\",\"type\":\"Line\",\"attributes\":{\"fill_alpha\":{\"units\":\"data\",\"value\":0.2},\"line_alpha\":{\"units\":\"data\",\"value\":1},\"doc\":null,\"size\":{\"units\":\"screen\",\"value\":10},\"fill_color\":{\"value\":\"red\"},\"line_color\":{\"value\":\"red\"},\"x\":{\"units\":\"data\",\"field\":\"x\"},\"id\":\"879eedd4-3204-4e47-ce4f-e4eee7874098\",\"y\":{\"units\":\"data\",\"field\":\"y\"},\"tags\":[]}},{\"id\":\"d912b050-9b49-47dd-c708-a95a55d6bb2b\",\"type\":\"GlyphRenderer\",\"attributes\":{\"name\":null,\"nonselection_glyph\":{\"type\":\"Line\",\"id\":\"879eedd4-3204-4e47-ce4f-e4eee7874098\"},\"doc\":null,\"server_data_source\":null,\"data_source\":{\"type\":\"ColumnDataSource\",\"id\":\"e9c556fc-44be-4b94-cb22-6242330a5b29\"},\"glyph\":{\"type\":\"Line\",\"id\":\"63cdae29-d8e5-4d25-cd6f-c002c1bdd632\"},\"selection_glyph\":null,\"id\":\"d912b050-9b49-47dd-c708-a95a55d6bb2b\",\"tags\":[]}},{\"id\":\"83cf6174-83d8-4560-c54d-eeb4c0590d89\",\"type\":\"ColumnDataSource\",\"attributes\":{\"data\":{\"y\":[80.5,84.74,83.85,76.1,60.99,46.05,32.24,21.92],\"x\":[2,3,4,5,6,7,8,9]},\"column_names\":[\"y\",\"x\"],\"cont_ranges\":{},\"discrete_ranges\":{},\"selected\":[],\"id\":\"83cf6174-83d8-4560-c54d-eeb4c0590d89\",\"doc\":null,\"tags\":[]}},{\"id\":\"c3e338b3-6705-46a9-c67d-b37158e63e27\",\"type\":\"Line\",\"attributes\":{\"fill_alpha\":{\"units\":\"data\",\"value\":0.2},\"line_alpha\":{\"units\":\"data\",\"value\":1},\"doc\":null,\"size\":{\"units\":\"screen\",\"value\":10},\"fill_color\":{\"value\":\"pink\"},\"line_color\":{\"value\":\"pink\"},\"x\":{\"units\":\"data\",\"field\":\"x\"},\"id\":\"c3e338b3-6705-46a9-c67d-b37158e63e27\",\"y\":{\"units\":\"data\",\"field\":\"y\"},\"tags\":[]}},{\"id\":\"84082131-4e92-4dae-cd99-46d07a0861bd\",\"type\":\"Line\",\"attributes\":{\"fill_alpha\":{\"units\":\"data\",\"value\":0.2},\"line_alpha\":{\"units\":\"data\",\"value\":1},\"doc\":null,\"size\":{\"units\":\"screen\",\"value\":10},\"fill_color\":{\"value\":\"pink\"},\"line_color\":{\"value\":\"pink\"},\"x\":{\"units\":\"data\",\"field\":\"x\"},\"id\":\"84082131-4e92-4dae-cd99-46d07a0861bd\",\"y\":{\"units\":\"data\",\"field\":\"y\"},\"tags\":[]}},{\"id\":\"3b2ab9be-6086-4d96-cd0b-29e168a85086\",\"type\":\"GlyphRenderer\",\"attributes\":{\"name\":null,\"nonselection_glyph\":{\"type\":\"Line\",\"id\":\"84082131-4e92-4dae-cd99-46d07a0861bd\"},\"doc\":null,\"server_data_source\":null,\"data_source\":{\"type\":\"ColumnDataSource\",\"id\":\"83cf6174-83d8-4560-c54d-eeb4c0590d89\"},\"glyph\":{\"type\":\"Line\",\"id\":\"c3e338b3-6705-46a9-c67d-b37158e63e27\"},\"selection_glyph\":null,\"id\":\"3b2ab9be-6086-4d96-cd0b-29e168a85086\",\"tags\":[]}},{\"id\":\"d5b747fd-daeb-4556-c591-a030e515e25b\",\"type\":\"ColumnDataSource\",\"attributes\":{\"data\":{\"y\":[78.38,80.03,64.22,55.62,46.81,35.17,22.97,12.69],\"x\":[2,3,4,5,6,7,8,9]},\"column_names\":[\"y\",\"x\"],\"cont_ranges\":{},\"discrete_ranges\":{},\"selected\":[],\"id\":\"d5b747fd-daeb-4556-c591-a030e515e25b\",\"doc\":null,\"tags\":[]}},{\"id\":\"69164ef6-6c17-4715-c721-37c02b62bef0\",\"type\":\"Line\",\"attributes\":{\"fill_alpha\":{\"units\":\"data\",\"value\":0.2},\"line_alpha\":{\"units\":\"data\",\"value\":1},\"doc\":null,\"size\":{\"units\":\"screen\",\"value\":10},\"fill_color\":{\"value\":\"blue\"},\"line_color\":{\"value\":\"blue\"},\"x\":{\"units\":\"data\",\"field\":\"x\"},\"id\":\"69164ef6-6c17-4715-c721-37c02b62bef0\",\"y\":{\"units\":\"data\",\"field\":\"y\"},\"tags\":[]}},{\"id\":\"5ca795bb-e696-4f46-cf25-a9f5564f16c4\",\"type\":\"Line\",\"attributes\":{\"fill_alpha\":{\"units\":\"data\",\"value\":0.2},\"line_alpha\":{\"units\":\"data\",\"value\":1},\"doc\":null,\"size\":{\"units\":\"screen\",\"value\":10},\"fill_color\":{\"value\":\"blue\"},\"line_color\":{\"value\":\"blue\"},\"x\":{\"units\":\"data\",\"field\":\"x\"},\"id\":\"5ca795bb-e696-4f46-cf25-a9f5564f16c4\",\"y\":{\"units\":\"data\",\"field\":\"y\"},\"tags\":[]}},{\"id\":\"dead1311-a44a-466b-c6df-2e448c3ddfb8\",\"type\":\"GlyphRenderer\",\"attributes\":{\"name\":null,\"nonselection_glyph\":{\"type\":\"Line\",\"id\":\"5ca795bb-e696-4f46-cf25-a9f5564f16c4\"},\"doc\":null,\"server_data_source\":null,\"data_source\":{\"type\":\"ColumnDataSource\",\"id\":\"d5b747fd-daeb-4556-c591-a030e515e25b\"},\"glyph\":{\"type\":\"Line\",\"id\":\"69164ef6-6c17-4715-c721-37c02b62bef0\"},\"selection_glyph\":null,\"id\":\"dead1311-a44a-466b-c6df-2e448c3ddfb8\",\"tags\":[]}},{\"id\":\"68f2fcf8-32da-40e7-c0d0-7a2a27313279\",\"type\":\"ColumnDataSource\",\"attributes\":{\"data\":{\"y\":[78.93,81.66,77.42,71.87,63.33,53.13,41.61,30.57],\"x\":[2,3,4,5,6,7,8,9]},\"column_names\":[\"y\",\"x\"],\"cont_ranges\":{},\"discrete_ranges\":{},\"selected\":[],\"id\":\"68f2fcf8-32da-40e7-c0d0-7a2a27313279\",\"doc\":null,\"tags\":[]}},{\"id\":\"5a378944-7b3c-4520-c586-07b43985377b\",\"type\":\"Line\",\"attributes\":{\"fill_alpha\":{\"units\":\"data\",\"value\":0.2},\"line_alpha\":{\"units\":\"data\",\"value\":1},\"doc\":null,\"size\":{\"units\":\"screen\",\"value\":10},\"fill_color\":{\"value\":\"green\"},\"line_color\":{\"value\":\"green\"},\"x\":{\"units\":\"data\",\"field\":\"x\"},\"id\":\"5a378944-7b3c-4520-c586-07b43985377b\",\"y\":{\"units\":\"data\",\"field\":\"y\"},\"tags\":[]}},{\"id\":\"374867bb-f5ed-4c03-cc94-c879f6a8e7fd\",\"type\":\"Line\",\"attributes\":{\"fill_alpha\":{\"units\":\"data\",\"value\":0.2},\"line_alpha\":{\"units\":\"data\",\"value\":1},\"doc\":null,\"size\":{\"units\":\"screen\",\"value\":10},\"fill_color\":{\"value\":\"green\"},\"line_color\":{\"value\":\"green\"},\"x\":{\"units\":\"data\",\"field\":\"x\"},\"id\":\"374867bb-f5ed-4c03-cc94-c879f6a8e7fd\",\"y\":{\"units\":\"data\",\"field\":\"y\"},\"tags\":[]}},{\"id\":\"e25517cd-3e4d-4ec9-ce13-b140731388c2\",\"type\":\"GlyphRenderer\",\"attributes\":{\"name\":null,\"nonselection_glyph\":{\"type\":\"Line\",\"id\":\"374867bb-f5ed-4c03-cc94-c879f6a8e7fd\"},\"doc\":null,\"server_data_source\":null,\"data_source\":{\"type\":\"ColumnDataSource\",\"id\":\"68f2fcf8-32da-40e7-c0d0-7a2a27313279\"},\"glyph\":{\"type\":\"Line\",\"id\":\"5a378944-7b3c-4520-c586-07b43985377b\"},\"selection_glyph\":null,\"id\":\"e25517cd-3e4d-4ec9-ce13-b140731388c2\",\"tags\":[]}},{\"id\":\"621fe168-14ef-4273-c28b-8b87a11b42a0\",\"type\":\"DataRange1d\",\"attributes\":{\"sources\":[{\"columns\":[\"x\"],\"source\":{\"type\":\"ColumnDataSource\",\"id\":\"e9c556fc-44be-4b94-cb22-6242330a5b29\"}},{\"columns\":[\"x\"],\"source\":{\"type\":\"ColumnDataSource\",\"id\":\"83cf6174-83d8-4560-c54d-eeb4c0590d89\"}},{\"columns\":[\"x\"],\"source\":{\"type\":\"ColumnDataSource\",\"id\":\"d5b747fd-daeb-4556-c591-a030e515e25b\"}},{\"columns\":[\"x\"],\"source\":{\"type\":\"ColumnDataSource\",\"id\":\"68f2fcf8-32da-40e7-c0d0-7a2a27313279\"}}],\"id\":\"621fe168-14ef-4273-c28b-8b87a11b42a0\",\"tags\":[],\"doc\":null}},{\"id\":\"38328263-8a7c-46bb-c6f9-c44451eaef01\",\"type\":\"DataRange1d\",\"attributes\":{\"sources\":[{\"columns\":[\"y\"],\"source\":{\"type\":\"ColumnDataSource\",\"id\":\"e9c556fc-44be-4b94-cb22-6242330a5b29\"}},{\"columns\":[\"y\"],\"source\":{\"type\":\"ColumnDataSource\",\"id\":\"83cf6174-83d8-4560-c54d-eeb4c0590d89\"}},{\"columns\":[\"y\"],\"source\":{\"type\":\"ColumnDataSource\",\"id\":\"d5b747fd-daeb-4556-c591-a030e515e25b\"}},{\"columns\":[\"y\"],\"source\":{\"type\":\"ColumnDataSource\",\"id\":\"68f2fcf8-32da-40e7-c0d0-7a2a27313279\"}}],\"id\":\"38328263-8a7c-46bb-c6f9-c44451eaef01\",\"tags\":[],\"doc\":null}},{\"id\":\"77dff367-a034-4c70-cc05-f6348dfc3182\",\"type\":\"ToolEvents\",\"attributes\":{\"tags\":[],\"id\":\"77dff367-a034-4c70-cc05-f6348dfc3182\",\"geometries\":[],\"doc\":null}},{\"id\":\"720ce3f4-adbd-4759-c74d-6d1c03a579fa\",\"type\":\"BasicTickFormatter\",\"attributes\":{\"id\":\"720ce3f4-adbd-4759-c74d-6d1c03a579fa\",\"tags\":[],\"doc\":null}},{\"id\":\"1ca17190-8551-4779-c7cb-80a9f4e2a7df\",\"type\":\"BasicTicker\",\"attributes\":{\"num_minor_ticks\":5,\"id\":\"1ca17190-8551-4779-c7cb-80a9f4e2a7df\",\"tags\":[],\"doc\":null}},{\"id\":\"2f86fe8e-949c-4a13-caa9-3e5857977ae1\",\"type\":\"LinearAxis\",\"attributes\":{\"formatter\":{\"type\":\"BasicTickFormatter\",\"id\":\"720ce3f4-adbd-4759-c74d-6d1c03a579fa\"},\"ticker\":{\"type\":\"BasicTicker\",\"id\":\"1ca17190-8551-4779-c7cb-80a9f4e2a7df\"},\"plot\":{\"id\":\"595acf0b-a9ae-4013-c05d-28642b4958df\",\"type\":\"Plot\",\"subtype\":\"Figure\"},\"axis_label\":\"Episode Length Trained On\",\"id\":\"2f86fe8e-949c-4a13-caa9-3e5857977ae1\",\"doc\":null,\"tags\":[]}},{\"id\":\"09dfa364-055c-4f2d-cfeb-3c05cb99a532\",\"type\":\"Grid\",\"attributes\":{\"dimension\":0,\"plot\":{\"id\":\"595acf0b-a9ae-4013-c05d-28642b4958df\",\"type\":\"Plot\",\"subtype\":\"Figure\"},\"ticker\":{\"type\":\"BasicTicker\",\"id\":\"1ca17190-8551-4779-c7cb-80a9f4e2a7df\"},\"id\":\"09dfa364-055c-4f2d-cfeb-3c05cb99a532\",\"doc\":null,\"tags\":[]}},{\"id\":\"852ef399-86af-4f40-cff6-91572f09d876\",\"type\":\"BasicTickFormatter\",\"attributes\":{\"id\":\"852ef399-86af-4f40-cff6-91572f09d876\",\"tags\":[],\"doc\":null}},{\"id\":\"c7484057-4e31-4147-c105-8a831a95b851\",\"type\":\"BasicTicker\",\"attributes\":{\"num_minor_ticks\":5,\"id\":\"c7484057-4e31-4147-c105-8a831a95b851\",\"tags\":[],\"doc\":null}},{\"id\":\"7ca36d43-9f1c-4602-c6f8-e30d7fb8cc4f\",\"type\":\"LinearAxis\",\"attributes\":{\"formatter\":{\"type\":\"BasicTickFormatter\",\"id\":\"852ef399-86af-4f40-cff6-91572f09d876\"},\"ticker\":{\"type\":\"BasicTicker\",\"id\":\"c7484057-4e31-4147-c105-8a831a95b851\"},\"plot\":{\"id\":\"595acf0b-a9ae-4013-c05d-28642b4958df\",\"type\":\"Plot\",\"subtype\":\"Figure\"},\"axis_label\":\"Solve Percentage\",\"id\":\"7ca36d43-9f1c-4602-c6f8-e30d7fb8cc4f\",\"doc\":null,\"tags\":[]}},{\"id\":\"f6d71c74-7cfb-4362-c349-3a585482f586\",\"type\":\"Grid\",\"attributes\":{\"dimension\":1,\"plot\":{\"id\":\"595acf0b-a9ae-4013-c05d-28642b4958df\",\"type\":\"Plot\",\"subtype\":\"Figure\"},\"ticker\":{\"type\":\"BasicTicker\",\"id\":\"c7484057-4e31-4147-c105-8a831a95b851\"},\"id\":\"f6d71c74-7cfb-4362-c349-3a585482f586\",\"doc\":null,\"tags\":[]}},{\"id\":\"351ac447-c818-4f0b-cf4b-2ef056d2039a\",\"type\":\"PanTool\",\"attributes\":{\"plot\":{\"id\":\"595acf0b-a9ae-4013-c05d-28642b4958df\",\"type\":\"Plot\",\"subtype\":\"Figure\"},\"dimensions\":[\"width\",\"height\"],\"id\":\"351ac447-c818-4f0b-cf4b-2ef056d2039a\",\"doc\":null,\"tags\":[]}},{\"id\":\"68469f62-13e4-4d27-cda5-3d3e095dc96f\",\"type\":\"WheelZoomTool\",\"attributes\":{\"plot\":{\"id\":\"595acf0b-a9ae-4013-c05d-28642b4958df\",\"type\":\"Plot\",\"subtype\":\"Figure\"},\"dimensions\":[\"width\",\"height\"],\"id\":\"68469f62-13e4-4d27-cda5-3d3e095dc96f\",\"doc\":null,\"tags\":[]}},{\"id\":\"5555784c-21ae-4b1e-cbe6-692d6625e94c\",\"type\":\"BoxZoomTool\",\"attributes\":{\"plot\":{\"id\":\"595acf0b-a9ae-4013-c05d-28642b4958df\",\"type\":\"Plot\",\"subtype\":\"Figure\"},\"id\":\"5555784c-21ae-4b1e-cbe6-692d6625e94c\",\"tags\":[],\"doc\":null}},{\"id\":\"8e06e78b-290c-40ab-c0e2-f20a21239b49\",\"type\":\"PreviewSaveTool\",\"attributes\":{\"plot\":{\"id\":\"595acf0b-a9ae-4013-c05d-28642b4958df\",\"type\":\"Plot\",\"subtype\":\"Figure\"},\"id\":\"8e06e78b-290c-40ab-c0e2-f20a21239b49\",\"tags\":[],\"doc\":null}},{\"id\":\"889063d5-6197-4825-c801-0943a9477086\",\"type\":\"ResizeTool\",\"attributes\":{\"plot\":{\"id\":\"595acf0b-a9ae-4013-c05d-28642b4958df\",\"type\":\"Plot\",\"subtype\":\"Figure\"},\"id\":\"889063d5-6197-4825-c801-0943a9477086\",\"tags\":[],\"doc\":null}},{\"id\":\"003a2821-2281-4bb6-cb26-fed19c8bdf36\",\"type\":\"ResetTool\",\"attributes\":{\"plot\":{\"id\":\"595acf0b-a9ae-4013-c05d-28642b4958df\",\"type\":\"Plot\",\"subtype\":\"Figure\"},\"id\":\"003a2821-2281-4bb6-cb26-fed19c8bdf36\",\"tags\":[],\"doc\":null}},{\"id\":\"3b6f28be-87f8-41e7-c1f7-4faf32e3fce3\",\"type\":\"Legend\",\"attributes\":{\"plot\":{\"id\":\"595acf0b-a9ae-4013-c05d-28642b4958df\",\"type\":\"Plot\",\"subtype\":\"Figure\"},\"legends\":[[\"Fully Connected\",[{\"type\":\"GlyphRenderer\",\"id\":\"d912b050-9b49-47dd-c708-a95a55d6bb2b\"}]],[\"Fully Connected 2\",[{\"type\":\"GlyphRenderer\",\"id\":\"3b2ab9be-6086-4d96-cd0b-29e168a85086\"}]],[\"RNN\",[{\"type\":\"GlyphRenderer\",\"id\":\"dead1311-a44a-466b-c6df-2e448c3ddfb8\"}]],[\"LSTM\",[{\"type\":\"GlyphRenderer\",\"id\":\"e25517cd-3e4d-4ec9-ce13-b140731388c2\"}]]],\"id\":\"3b6f28be-87f8-41e7-c1f7-4faf32e3fce3\",\"doc\":null,\"tags\":[]}},{\"id\":\"595acf0b-a9ae-4013-c05d-28642b4958df\",\"type\":\"Plot\",\"attributes\":{\"x_range\":{\"type\":\"DataRange1d\",\"id\":\"621fe168-14ef-4273-c28b-8b87a11b42a0\"},\"tool_events\":{\"type\":\"ToolEvents\",\"id\":\"77dff367-a034-4c70-cc05-f6348dfc3182\"},\"below\":[{\"type\":\"LinearAxis\",\"id\":\"2f86fe8e-949c-4a13-caa9-3e5857977ae1\"}],\"renderers\":[{\"type\":\"GlyphRenderer\",\"id\":\"d912b050-9b49-47dd-c708-a95a55d6bb2b\"},{\"type\":\"GlyphRenderer\",\"id\":\"3b2ab9be-6086-4d96-cd0b-29e168a85086\"},{\"type\":\"GlyphRenderer\",\"id\":\"dead1311-a44a-466b-c6df-2e448c3ddfb8\"},{\"type\":\"GlyphRenderer\",\"id\":\"e25517cd-3e4d-4ec9-ce13-b140731388c2\"},{\"type\":\"LinearAxis\",\"id\":\"2f86fe8e-949c-4a13-caa9-3e5857977ae1\"},{\"type\":\"Grid\",\"id\":\"09dfa364-055c-4f2d-cfeb-3c05cb99a532\"},{\"type\":\"LinearAxis\",\"id\":\"7ca36d43-9f1c-4602-c6f8-e30d7fb8cc4f\"},{\"type\":\"Grid\",\"id\":\"f6d71c74-7cfb-4362-c349-3a585482f586\"},{\"type\":\"Legend\",\"id\":\"3b6f28be-87f8-41e7-c1f7-4faf32e3fce3\"}],\"above\":[],\"tools\":[{\"type\":\"PanTool\",\"id\":\"351ac447-c818-4f0b-cf4b-2ef056d2039a\"},{\"type\":\"WheelZoomTool\",\"id\":\"68469f62-13e4-4d27-cda5-3d3e095dc96f\"},{\"type\":\"BoxZoomTool\",\"id\":\"5555784c-21ae-4b1e-cbe6-692d6625e94c\"},{\"type\":\"PreviewSaveTool\",\"id\":\"8e06e78b-290c-40ab-c0e2-f20a21239b49\"},{\"type\":\"ResizeTool\",\"id\":\"889063d5-6197-4825-c801-0943a9477086\"},{\"type\":\"ResetTool\",\"id\":\"003a2821-2281-4bb6-cb26-fed19c8bdf36\"}],\"doc\":null,\"right\":[],\"title\":\"Solve Percentage in Real World Tests\",\"extra_x_ranges\":{},\"left\":[{\"type\":\"LinearAxis\",\"id\":\"7ca36d43-9f1c-4602-c6f8-e30d7fb8cc4f\"}],\"y_range\":{\"type\":\"DataRange1d\",\"id\":\"38328263-8a7c-46bb-c6f9-c44451eaef01\"},\"id\":\"595acf0b-a9ae-4013-c05d-28642b4958df\",\"extra_y_ranges\":{},\"tags\":[]}}];\n",
       "      Bokeh.load_models(all_models);\n",
       "      var model = Bokeh.Collections(modeltype).get(modelid);\n",
       "      $(\"#6f897ac0-ff26-4519-c5f3-08c00d0b87cd\").html(''); // clear any previous plot in window_id\n",
       "      var view = new model.default_view({model: model, el: \"#6f897ac0-ff26-4519-c5f3-08c00d0b87cd\"});\n",
       "  });\n",
       "    }\n",
       "});\n",
       "</script>\n",
       "<div class=\"plotdiv\" id=\"6f897ac0-ff26-4519-c5f3-08c00d0b87cd\"></div>\n"
      ]
     },
     "metadata": {},
     "output_type": "display_data"
    }
   ],
   "source": [
    "require 'csvigo'\n",
    "data = csvigo.load('test_results/scores.csv')\n",
    "-- Divide into the ones for each model type\n",
    "-- This assumes the model names are sorted by episode length, then by type\n",
    "-- in alphabetical order\n",
    "percents = torch.Tensor(data.percent)\n",
    "inds = torch.range(1, 4 * 8, 4):type('torch.LongTensor')\n",
    "\n",
    "x = torch.range(2,9)\n",
    "full_y = percents:index(1, inds)\n",
    "full2_y = percents:index(1, inds + 1)\n",
    "lstm_y = percents:index(1, inds + 2)\n",
    "rnn_y = percents:index(1, inds + 3)\n",
    "\n",
    "-- TODO describe this graph more\n",
    "-- for episode length i, tested on length i + 1.\n",
    "plot = itorch.Plot()\n",
    "plot:xaxis('Episode Length Trained On'):yaxis('Solve Percentage')\n",
    "plot:title('Solve Percentage in Real World Tests')\n",
    "plot:line(x, full_y, 'red', 'Fully Connected')\n",
    "plot:line(x, full2_y, 'pink', 'Fully Connected 2')\n",
    "plot:line(x, rnn_y, 'blue', 'RNN')\n",
    "plot:line(x, lstm_y, 'green', 'LSTM')\n",
    "plot:legend(true)\n",
    "plot:draw()"
   ]
  },
  {
   "cell_type": "code",
   "execution_count": 7,
   "metadata": {
    "collapsed": false
   },
   "outputs": [
    {
     "data": {
      "text/plain": [
       "<csv>\tparsing file: models_26_lstm_tests/scores.csv\t\n",
       "<csv>\ttidying up entries\t\n",
       "<csv>\treturning tidy table\t\n"
      ]
     },
     "execution_count": 7,
     "metadata": {},
     "output_type": "execute_result"
    },
    {
     "data": {
      "text/html": [
       "<script type=\"text/javascript\">\n",
       "$(function() {\n",
       "    if (typeof (window._bokeh_onload_callbacks) === \"undefined\"){\n",
       "  window._bokeh_onload_callbacks = [];\n",
       "    }\n",
       "    function load_lib(url, callback){\n",
       "  window._bokeh_onload_callbacks.push(callback);\n",
       "  if (window._bokeh_is_loading){\n",
       "      console.log(\"Bokeh: BokehJS is being loaded, scheduling callback at\", new Date());\n",
       "      return null;\n",
       "  }\n",
       "  console.log(\"Bokeh: BokehJS not loaded, scheduling load and callback at\", new Date());\n",
       "  window._bokeh_is_loading = true;\n",
       "  var s = document.createElement('script');\n",
       "  s.src = url;\n",
       "  s.async = true;\n",
       "  s.onreadystatechange = s.onload = function(){\n",
       "      Bokeh.embed.inject_css(\"http://cdn.pydata.org/bokeh-0.7.0.min.css\");\n",
       "      window._bokeh_onload_callbacks.forEach(function(callback){callback()});\n",
       "  };\n",
       "  s.onerror = function(){\n",
       "      console.warn(\"failed to load library \" + url);\n",
       "  };\n",
       "  document.getElementsByTagName(\"head\")[0].appendChild(s);\n",
       "    }\n",
       "\n",
       "    bokehjs_url = \"http://cdn.pydata.org/bokeh-0.7.0.min.js\"\n",
       "\n",
       "    var elt = document.getElementById(\"54fb40ed-43a2-470e-c73d-0ef9f3665fbd\");\n",
       "    if(elt==null) {\n",
       "  console.log(\"Bokeh: ERROR: autoload.js configured with elementid '54fb40ed-43a2-470e-c73d-0ef9f3665fbd'\"\n",
       "        + \"but no matching script tag was found. \")\n",
       "  return false;\n",
       "    }\n",
       "\n",
       "    if(typeof(Bokeh) !== \"undefined\") {\n",
       "  console.log(\"Bokeh: BokehJS loaded, going straight to plotting\");\n",
       "  var modelid = \"38e71985-908a-4f41-cfdb-a4f2127a8589\";\n",
       "  var modeltype = \"Plot\";\n",
       "  var all_models = [{\"id\":\"fb1c0a8c-3974-4ba7-cb54-d027d9fce98f\",\"type\":\"ColumnDataSource\",\"attributes\":{\"data\":{\"y\":[100,100,100,99.62,95.69,85.71,72.56,55.59,43.09,31.86,22.22,14.79,10.8,6.71,4.67,3.01,2.1,1.18,0.96,0.53,0.32,0.22,0.11,0.1,0.07,0.06],\"x\":[1,2,3,4,5,6,7,8,9,10,11,12,13,14,15,16,17,18,19,20,21,22,23,24,25,26]},\"column_names\":[\"y\",\"x\"],\"cont_ranges\":{},\"discrete_ranges\":{},\"selected\":[],\"id\":\"fb1c0a8c-3974-4ba7-cb54-d027d9fce98f\",\"doc\":null,\"tags\":[]}},{\"id\":\"3d45818a-b5bc-48e0-c871-129881dfe385\",\"type\":\"Line\",\"attributes\":{\"fill_alpha\":{\"units\":\"data\",\"value\":0.2},\"line_alpha\":{\"units\":\"data\",\"value\":1},\"doc\":null,\"size\":{\"units\":\"screen\",\"value\":10},\"fill_color\":{\"value\":\"red\"},\"line_color\":{\"value\":\"red\"},\"x\":{\"units\":\"data\",\"field\":\"x\"},\"id\":\"3d45818a-b5bc-48e0-c871-129881dfe385\",\"y\":{\"units\":\"data\",\"field\":\"y\"},\"tags\":[]}},{\"id\":\"bb20367c-45be-4187-c160-91a65e1b87ee\",\"type\":\"Line\",\"attributes\":{\"fill_alpha\":{\"units\":\"data\",\"value\":0.2},\"line_alpha\":{\"units\":\"data\",\"value\":1},\"doc\":null,\"size\":{\"units\":\"screen\",\"value\":10},\"fill_color\":{\"value\":\"red\"},\"line_color\":{\"value\":\"red\"},\"x\":{\"units\":\"data\",\"field\":\"x\"},\"id\":\"bb20367c-45be-4187-c160-91a65e1b87ee\",\"y\":{\"units\":\"data\",\"field\":\"y\"},\"tags\":[]}},{\"id\":\"75deb4e1-de4b-4277-c2b6-03402a290f7d\",\"type\":\"GlyphRenderer\",\"attributes\":{\"name\":null,\"nonselection_glyph\":{\"type\":\"Line\",\"id\":\"bb20367c-45be-4187-c160-91a65e1b87ee\"},\"doc\":null,\"server_data_source\":null,\"data_source\":{\"type\":\"ColumnDataSource\",\"id\":\"fb1c0a8c-3974-4ba7-cb54-d027d9fce98f\"},\"glyph\":{\"type\":\"Line\",\"id\":\"3d45818a-b5bc-48e0-c871-129881dfe385\"},\"selection_glyph\":null,\"id\":\"75deb4e1-de4b-4277-c2b6-03402a290f7d\",\"tags\":[]}},{\"id\":\"c77fc70e-c027-4bdd-cb74-9efe64b30c3f\",\"type\":\"DataRange1d\",\"attributes\":{\"sources\":[{\"columns\":[\"x\"],\"source\":{\"type\":\"ColumnDataSource\",\"id\":\"fb1c0a8c-3974-4ba7-cb54-d027d9fce98f\"}}],\"id\":\"c77fc70e-c027-4bdd-cb74-9efe64b30c3f\",\"tags\":[],\"doc\":null}},{\"id\":\"6761a806-b16f-4d65-cdfb-ac8a32d052d3\",\"type\":\"DataRange1d\",\"attributes\":{\"sources\":[{\"columns\":[\"y\"],\"source\":{\"type\":\"ColumnDataSource\",\"id\":\"fb1c0a8c-3974-4ba7-cb54-d027d9fce98f\"}}],\"id\":\"6761a806-b16f-4d65-cdfb-ac8a32d052d3\",\"tags\":[],\"doc\":null}},{\"id\":\"94195310-aa19-4ca4-ccff-ddd71d30ae2e\",\"type\":\"ToolEvents\",\"attributes\":{\"tags\":[],\"id\":\"94195310-aa19-4ca4-ccff-ddd71d30ae2e\",\"geometries\":[],\"doc\":null}},{\"id\":\"1a51a132-5544-45d0-c517-c7413397c262\",\"type\":\"BasicTickFormatter\",\"attributes\":{\"id\":\"1a51a132-5544-45d0-c517-c7413397c262\",\"tags\":[],\"doc\":null}},{\"id\":\"bb1614d0-945b-49bc-c939-478134e839e5\",\"type\":\"BasicTicker\",\"attributes\":{\"num_minor_ticks\":5,\"id\":\"bb1614d0-945b-49bc-c939-478134e839e5\",\"tags\":[],\"doc\":null}},{\"id\":\"ba89f1af-8906-4b2e-cb32-cc24feeefc78\",\"type\":\"LinearAxis\",\"attributes\":{\"formatter\":{\"type\":\"BasicTickFormatter\",\"id\":\"1a51a132-5544-45d0-c517-c7413397c262\"},\"ticker\":{\"type\":\"BasicTicker\",\"id\":\"bb1614d0-945b-49bc-c939-478134e839e5\"},\"plot\":{\"id\":\"38e71985-908a-4f41-cfdb-a4f2127a8589\",\"type\":\"Plot\",\"subtype\":\"Figure\"},\"axis_label\":\"Scramble Length\",\"id\":\"ba89f1af-8906-4b2e-cb32-cc24feeefc78\",\"doc\":null,\"tags\":[]}},{\"id\":\"6a3bde1f-0946-44d8-c4ae-464b440e8a88\",\"type\":\"Grid\",\"attributes\":{\"dimension\":0,\"plot\":{\"id\":\"38e71985-908a-4f41-cfdb-a4f2127a8589\",\"type\":\"Plot\",\"subtype\":\"Figure\"},\"ticker\":{\"type\":\"BasicTicker\",\"id\":\"bb1614d0-945b-49bc-c939-478134e839e5\"},\"id\":\"6a3bde1f-0946-44d8-c4ae-464b440e8a88\",\"doc\":null,\"tags\":[]}},{\"id\":\"c2b03050-7182-4818-c81f-517947bf8a35\",\"type\":\"BasicTickFormatter\",\"attributes\":{\"id\":\"c2b03050-7182-4818-c81f-517947bf8a35\",\"tags\":[],\"doc\":null}},{\"id\":\"70af5f75-a406-4cb3-ccd2-c2d320ffe43a\",\"type\":\"BasicTicker\",\"attributes\":{\"num_minor_ticks\":5,\"id\":\"70af5f75-a406-4cb3-ccd2-c2d320ffe43a\",\"tags\":[],\"doc\":null}},{\"id\":\"d8f84276-0c60-46a2-c679-e3d3417d7849\",\"type\":\"LinearAxis\",\"attributes\":{\"formatter\":{\"type\":\"BasicTickFormatter\",\"id\":\"c2b03050-7182-4818-c81f-517947bf8a35\"},\"ticker\":{\"type\":\"BasicTicker\",\"id\":\"70af5f75-a406-4cb3-ccd2-c2d320ffe43a\"},\"plot\":{\"id\":\"38e71985-908a-4f41-cfdb-a4f2127a8589\",\"type\":\"Plot\",\"subtype\":\"Figure\"},\"axis_label\":\"Solve Percentage\",\"id\":\"d8f84276-0c60-46a2-c679-e3d3417d7849\",\"doc\":null,\"tags\":[]}},{\"id\":\"78b1c040-27e8-48fc-c89a-a00850c8fc2e\",\"type\":\"Grid\",\"attributes\":{\"dimension\":1,\"plot\":{\"id\":\"38e71985-908a-4f41-cfdb-a4f2127a8589\",\"type\":\"Plot\",\"subtype\":\"Figure\"},\"ticker\":{\"type\":\"BasicTicker\",\"id\":\"70af5f75-a406-4cb3-ccd2-c2d320ffe43a\"},\"id\":\"78b1c040-27e8-48fc-c89a-a00850c8fc2e\",\"doc\":null,\"tags\":[]}},{\"id\":\"58a0b646-0879-4622-c6ba-6be7f1680868\",\"type\":\"PanTool\",\"attributes\":{\"plot\":{\"id\":\"38e71985-908a-4f41-cfdb-a4f2127a8589\",\"type\":\"Plot\",\"subtype\":\"Figure\"},\"dimensions\":[\"width\",\"height\"],\"id\":\"58a0b646-0879-4622-c6ba-6be7f1680868\",\"doc\":null,\"tags\":[]}},{\"id\":\"90cd3bab-7862-4102-c12a-1a4193098f73\",\"type\":\"WheelZoomTool\",\"attributes\":{\"plot\":{\"id\":\"38e71985-908a-4f41-cfdb-a4f2127a8589\",\"type\":\"Plot\",\"subtype\":\"Figure\"},\"dimensions\":[\"width\",\"height\"],\"id\":\"90cd3bab-7862-4102-c12a-1a4193098f73\",\"doc\":null,\"tags\":[]}},{\"id\":\"7d2b0a47-170c-4ac1-ca4a-6685398c9c2b\",\"type\":\"BoxZoomTool\",\"attributes\":{\"plot\":{\"id\":\"38e71985-908a-4f41-cfdb-a4f2127a8589\",\"type\":\"Plot\",\"subtype\":\"Figure\"},\"id\":\"7d2b0a47-170c-4ac1-ca4a-6685398c9c2b\",\"tags\":[],\"doc\":null}},{\"id\":\"79655b13-5385-4dc0-cd9f-9c4590daca1a\",\"type\":\"PreviewSaveTool\",\"attributes\":{\"plot\":{\"id\":\"38e71985-908a-4f41-cfdb-a4f2127a8589\",\"type\":\"Plot\",\"subtype\":\"Figure\"},\"id\":\"79655b13-5385-4dc0-cd9f-9c4590daca1a\",\"tags\":[],\"doc\":null}},{\"id\":\"49639db4-a51b-49a2-c935-bff03b70d736\",\"type\":\"ResizeTool\",\"attributes\":{\"plot\":{\"id\":\"38e71985-908a-4f41-cfdb-a4f2127a8589\",\"type\":\"Plot\",\"subtype\":\"Figure\"},\"id\":\"49639db4-a51b-49a2-c935-bff03b70d736\",\"tags\":[],\"doc\":null}},{\"id\":\"ae0cac3b-e2e6-4604-c6ee-599419a12508\",\"type\":\"ResetTool\",\"attributes\":{\"plot\":{\"id\":\"38e71985-908a-4f41-cfdb-a4f2127a8589\",\"type\":\"Plot\",\"subtype\":\"Figure\"},\"id\":\"ae0cac3b-e2e6-4604-c6ee-599419a12508\",\"tags\":[],\"doc\":null}},{\"id\":\"68582311-abde-4789-c715-78a4d0c0d2cc\",\"type\":\"Legend\",\"attributes\":{\"plot\":{\"id\":\"38e71985-908a-4f41-cfdb-a4f2127a8589\",\"type\":\"Plot\",\"subtype\":\"Figure\"},\"legends\":[[\"LSTM (26)\",[{\"type\":\"GlyphRenderer\",\"id\":\"75deb4e1-de4b-4277-c2b6-03402a290f7d\"}]]],\"id\":\"68582311-abde-4789-c715-78a4d0c0d2cc\",\"doc\":null,\"tags\":[]}},{\"id\":\"38e71985-908a-4f41-cfdb-a4f2127a8589\",\"type\":\"Plot\",\"attributes\":{\"x_range\":{\"type\":\"DataRange1d\",\"id\":\"c77fc70e-c027-4bdd-cb74-9efe64b30c3f\"},\"tool_events\":{\"type\":\"ToolEvents\",\"id\":\"94195310-aa19-4ca4-ccff-ddd71d30ae2e\"},\"below\":[{\"type\":\"LinearAxis\",\"id\":\"ba89f1af-8906-4b2e-cb32-cc24feeefc78\"}],\"renderers\":[{\"type\":\"GlyphRenderer\",\"id\":\"75deb4e1-de4b-4277-c2b6-03402a290f7d\"},{\"type\":\"LinearAxis\",\"id\":\"ba89f1af-8906-4b2e-cb32-cc24feeefc78\"},{\"type\":\"Grid\",\"id\":\"6a3bde1f-0946-44d8-c4ae-464b440e8a88\"},{\"type\":\"LinearAxis\",\"id\":\"d8f84276-0c60-46a2-c679-e3d3417d7849\"},{\"type\":\"Grid\",\"id\":\"78b1c040-27e8-48fc-c89a-a00850c8fc2e\"},{\"type\":\"Legend\",\"id\":\"68582311-abde-4789-c715-78a4d0c0d2cc\"}],\"above\":[],\"tools\":[{\"type\":\"PanTool\",\"id\":\"58a0b646-0879-4622-c6ba-6be7f1680868\"},{\"type\":\"WheelZoomTool\",\"id\":\"90cd3bab-7862-4102-c12a-1a4193098f73\"},{\"type\":\"BoxZoomTool\",\"id\":\"7d2b0a47-170c-4ac1-ca4a-6685398c9c2b\"},{\"type\":\"PreviewSaveTool\",\"id\":\"79655b13-5385-4dc0-cd9f-9c4590daca1a\"},{\"type\":\"ResizeTool\",\"id\":\"49639db4-a51b-49a2-c935-bff03b70d736\"},{\"type\":\"ResetTool\",\"id\":\"ae0cac3b-e2e6-4604-c6ee-599419a12508\"}],\"doc\":null,\"right\":[],\"title\":\"Solve Percentages On Random Scrambles\",\"extra_x_ranges\":{},\"left\":[{\"type\":\"LinearAxis\",\"id\":\"d8f84276-0c60-46a2-c679-e3d3417d7849\"}],\"y_range\":{\"type\":\"DataRange1d\",\"id\":\"6761a806-b16f-4d65-cdfb-ac8a32d052d3\"},\"id\":\"38e71985-908a-4f41-cfdb-a4f2127a8589\",\"extra_y_ranges\":{},\"tags\":[]}}];\n",
       "  Bokeh.load_models(all_models);\n",
       "  var model = Bokeh.Collections(modeltype).get(modelid);\n",
       "  $(\"#54fb40ed-43a2-470e-c73d-0ef9f3665fbd\").html(''); // clear any previous plot in window_id\n",
       "  var view = new model.default_view({model: model, el: \"#54fb40ed-43a2-470e-c73d-0ef9f3665fbd\"});\n",
       "    } else {\n",
       "  load_lib(bokehjs_url, function() {\n",
       "      console.log(\"Bokeh: BokehJS plotting callback run at\", new Date())\n",
       "      var modelid = \"38e71985-908a-4f41-cfdb-a4f2127a8589\";\n",
       "      var modeltype = \"Plot\";\n",
       "      var all_models = [{\"id\":\"fb1c0a8c-3974-4ba7-cb54-d027d9fce98f\",\"type\":\"ColumnDataSource\",\"attributes\":{\"data\":{\"y\":[100,100,100,99.62,95.69,85.71,72.56,55.59,43.09,31.86,22.22,14.79,10.8,6.71,4.67,3.01,2.1,1.18,0.96,0.53,0.32,0.22,0.11,0.1,0.07,0.06],\"x\":[1,2,3,4,5,6,7,8,9,10,11,12,13,14,15,16,17,18,19,20,21,22,23,24,25,26]},\"column_names\":[\"y\",\"x\"],\"cont_ranges\":{},\"discrete_ranges\":{},\"selected\":[],\"id\":\"fb1c0a8c-3974-4ba7-cb54-d027d9fce98f\",\"doc\":null,\"tags\":[]}},{\"id\":\"3d45818a-b5bc-48e0-c871-129881dfe385\",\"type\":\"Line\",\"attributes\":{\"fill_alpha\":{\"units\":\"data\",\"value\":0.2},\"line_alpha\":{\"units\":\"data\",\"value\":1},\"doc\":null,\"size\":{\"units\":\"screen\",\"value\":10},\"fill_color\":{\"value\":\"red\"},\"line_color\":{\"value\":\"red\"},\"x\":{\"units\":\"data\",\"field\":\"x\"},\"id\":\"3d45818a-b5bc-48e0-c871-129881dfe385\",\"y\":{\"units\":\"data\",\"field\":\"y\"},\"tags\":[]}},{\"id\":\"bb20367c-45be-4187-c160-91a65e1b87ee\",\"type\":\"Line\",\"attributes\":{\"fill_alpha\":{\"units\":\"data\",\"value\":0.2},\"line_alpha\":{\"units\":\"data\",\"value\":1},\"doc\":null,\"size\":{\"units\":\"screen\",\"value\":10},\"fill_color\":{\"value\":\"red\"},\"line_color\":{\"value\":\"red\"},\"x\":{\"units\":\"data\",\"field\":\"x\"},\"id\":\"bb20367c-45be-4187-c160-91a65e1b87ee\",\"y\":{\"units\":\"data\",\"field\":\"y\"},\"tags\":[]}},{\"id\":\"75deb4e1-de4b-4277-c2b6-03402a290f7d\",\"type\":\"GlyphRenderer\",\"attributes\":{\"name\":null,\"nonselection_glyph\":{\"type\":\"Line\",\"id\":\"bb20367c-45be-4187-c160-91a65e1b87ee\"},\"doc\":null,\"server_data_source\":null,\"data_source\":{\"type\":\"ColumnDataSource\",\"id\":\"fb1c0a8c-3974-4ba7-cb54-d027d9fce98f\"},\"glyph\":{\"type\":\"Line\",\"id\":\"3d45818a-b5bc-48e0-c871-129881dfe385\"},\"selection_glyph\":null,\"id\":\"75deb4e1-de4b-4277-c2b6-03402a290f7d\",\"tags\":[]}},{\"id\":\"c77fc70e-c027-4bdd-cb74-9efe64b30c3f\",\"type\":\"DataRange1d\",\"attributes\":{\"sources\":[{\"columns\":[\"x\"],\"source\":{\"type\":\"ColumnDataSource\",\"id\":\"fb1c0a8c-3974-4ba7-cb54-d027d9fce98f\"}}],\"id\":\"c77fc70e-c027-4bdd-cb74-9efe64b30c3f\",\"tags\":[],\"doc\":null}},{\"id\":\"6761a806-b16f-4d65-cdfb-ac8a32d052d3\",\"type\":\"DataRange1d\",\"attributes\":{\"sources\":[{\"columns\":[\"y\"],\"source\":{\"type\":\"ColumnDataSource\",\"id\":\"fb1c0a8c-3974-4ba7-cb54-d027d9fce98f\"}}],\"id\":\"6761a806-b16f-4d65-cdfb-ac8a32d052d3\",\"tags\":[],\"doc\":null}},{\"id\":\"94195310-aa19-4ca4-ccff-ddd71d30ae2e\",\"type\":\"ToolEvents\",\"attributes\":{\"tags\":[],\"id\":\"94195310-aa19-4ca4-ccff-ddd71d30ae2e\",\"geometries\":[],\"doc\":null}},{\"id\":\"1a51a132-5544-45d0-c517-c7413397c262\",\"type\":\"BasicTickFormatter\",\"attributes\":{\"id\":\"1a51a132-5544-45d0-c517-c7413397c262\",\"tags\":[],\"doc\":null}},{\"id\":\"bb1614d0-945b-49bc-c939-478134e839e5\",\"type\":\"BasicTicker\",\"attributes\":{\"num_minor_ticks\":5,\"id\":\"bb1614d0-945b-49bc-c939-478134e839e5\",\"tags\":[],\"doc\":null}},{\"id\":\"ba89f1af-8906-4b2e-cb32-cc24feeefc78\",\"type\":\"LinearAxis\",\"attributes\":{\"formatter\":{\"type\":\"BasicTickFormatter\",\"id\":\"1a51a132-5544-45d0-c517-c7413397c262\"},\"ticker\":{\"type\":\"BasicTicker\",\"id\":\"bb1614d0-945b-49bc-c939-478134e839e5\"},\"plot\":{\"id\":\"38e71985-908a-4f41-cfdb-a4f2127a8589\",\"type\":\"Plot\",\"subtype\":\"Figure\"},\"axis_label\":\"Scramble Length\",\"id\":\"ba89f1af-8906-4b2e-cb32-cc24feeefc78\",\"doc\":null,\"tags\":[]}},{\"id\":\"6a3bde1f-0946-44d8-c4ae-464b440e8a88\",\"type\":\"Grid\",\"attributes\":{\"dimension\":0,\"plot\":{\"id\":\"38e71985-908a-4f41-cfdb-a4f2127a8589\",\"type\":\"Plot\",\"subtype\":\"Figure\"},\"ticker\":{\"type\":\"BasicTicker\",\"id\":\"bb1614d0-945b-49bc-c939-478134e839e5\"},\"id\":\"6a3bde1f-0946-44d8-c4ae-464b440e8a88\",\"doc\":null,\"tags\":[]}},{\"id\":\"c2b03050-7182-4818-c81f-517947bf8a35\",\"type\":\"BasicTickFormatter\",\"attributes\":{\"id\":\"c2b03050-7182-4818-c81f-517947bf8a35\",\"tags\":[],\"doc\":null}},{\"id\":\"70af5f75-a406-4cb3-ccd2-c2d320ffe43a\",\"type\":\"BasicTicker\",\"attributes\":{\"num_minor_ticks\":5,\"id\":\"70af5f75-a406-4cb3-ccd2-c2d320ffe43a\",\"tags\":[],\"doc\":null}},{\"id\":\"d8f84276-0c60-46a2-c679-e3d3417d7849\",\"type\":\"LinearAxis\",\"attributes\":{\"formatter\":{\"type\":\"BasicTickFormatter\",\"id\":\"c2b03050-7182-4818-c81f-517947bf8a35\"},\"ticker\":{\"type\":\"BasicTicker\",\"id\":\"70af5f75-a406-4cb3-ccd2-c2d320ffe43a\"},\"plot\":{\"id\":\"38e71985-908a-4f41-cfdb-a4f2127a8589\",\"type\":\"Plot\",\"subtype\":\"Figure\"},\"axis_label\":\"Solve Percentage\",\"id\":\"d8f84276-0c60-46a2-c679-e3d3417d7849\",\"doc\":null,\"tags\":[]}},{\"id\":\"78b1c040-27e8-48fc-c89a-a00850c8fc2e\",\"type\":\"Grid\",\"attributes\":{\"dimension\":1,\"plot\":{\"id\":\"38e71985-908a-4f41-cfdb-a4f2127a8589\",\"type\":\"Plot\",\"subtype\":\"Figure\"},\"ticker\":{\"type\":\"BasicTicker\",\"id\":\"70af5f75-a406-4cb3-ccd2-c2d320ffe43a\"},\"id\":\"78b1c040-27e8-48fc-c89a-a00850c8fc2e\",\"doc\":null,\"tags\":[]}},{\"id\":\"58a0b646-0879-4622-c6ba-6be7f1680868\",\"type\":\"PanTool\",\"attributes\":{\"plot\":{\"id\":\"38e71985-908a-4f41-cfdb-a4f2127a8589\",\"type\":\"Plot\",\"subtype\":\"Figure\"},\"dimensions\":[\"width\",\"height\"],\"id\":\"58a0b646-0879-4622-c6ba-6be7f1680868\",\"doc\":null,\"tags\":[]}},{\"id\":\"90cd3bab-7862-4102-c12a-1a4193098f73\",\"type\":\"WheelZoomTool\",\"attributes\":{\"plot\":{\"id\":\"38e71985-908a-4f41-cfdb-a4f2127a8589\",\"type\":\"Plot\",\"subtype\":\"Figure\"},\"dimensions\":[\"width\",\"height\"],\"id\":\"90cd3bab-7862-4102-c12a-1a4193098f73\",\"doc\":null,\"tags\":[]}},{\"id\":\"7d2b0a47-170c-4ac1-ca4a-6685398c9c2b\",\"type\":\"BoxZoomTool\",\"attributes\":{\"plot\":{\"id\":\"38e71985-908a-4f41-cfdb-a4f2127a8589\",\"type\":\"Plot\",\"subtype\":\"Figure\"},\"id\":\"7d2b0a47-170c-4ac1-ca4a-6685398c9c2b\",\"tags\":[],\"doc\":null}},{\"id\":\"79655b13-5385-4dc0-cd9f-9c4590daca1a\",\"type\":\"PreviewSaveTool\",\"attributes\":{\"plot\":{\"id\":\"38e71985-908a-4f41-cfdb-a4f2127a8589\",\"type\":\"Plot\",\"subtype\":\"Figure\"},\"id\":\"79655b13-5385-4dc0-cd9f-9c4590daca1a\",\"tags\":[],\"doc\":null}},{\"id\":\"49639db4-a51b-49a2-c935-bff03b70d736\",\"type\":\"ResizeTool\",\"attributes\":{\"plot\":{\"id\":\"38e71985-908a-4f41-cfdb-a4f2127a8589\",\"type\":\"Plot\",\"subtype\":\"Figure\"},\"id\":\"49639db4-a51b-49a2-c935-bff03b70d736\",\"tags\":[],\"doc\":null}},{\"id\":\"ae0cac3b-e2e6-4604-c6ee-599419a12508\",\"type\":\"ResetTool\",\"attributes\":{\"plot\":{\"id\":\"38e71985-908a-4f41-cfdb-a4f2127a8589\",\"type\":\"Plot\",\"subtype\":\"Figure\"},\"id\":\"ae0cac3b-e2e6-4604-c6ee-599419a12508\",\"tags\":[],\"doc\":null}},{\"id\":\"68582311-abde-4789-c715-78a4d0c0d2cc\",\"type\":\"Legend\",\"attributes\":{\"plot\":{\"id\":\"38e71985-908a-4f41-cfdb-a4f2127a8589\",\"type\":\"Plot\",\"subtype\":\"Figure\"},\"legends\":[[\"LSTM (26)\",[{\"type\":\"GlyphRenderer\",\"id\":\"75deb4e1-de4b-4277-c2b6-03402a290f7d\"}]]],\"id\":\"68582311-abde-4789-c715-78a4d0c0d2cc\",\"doc\":null,\"tags\":[]}},{\"id\":\"38e71985-908a-4f41-cfdb-a4f2127a8589\",\"type\":\"Plot\",\"attributes\":{\"x_range\":{\"type\":\"DataRange1d\",\"id\":\"c77fc70e-c027-4bdd-cb74-9efe64b30c3f\"},\"tool_events\":{\"type\":\"ToolEvents\",\"id\":\"94195310-aa19-4ca4-ccff-ddd71d30ae2e\"},\"below\":[{\"type\":\"LinearAxis\",\"id\":\"ba89f1af-8906-4b2e-cb32-cc24feeefc78\"}],\"renderers\":[{\"type\":\"GlyphRenderer\",\"id\":\"75deb4e1-de4b-4277-c2b6-03402a290f7d\"},{\"type\":\"LinearAxis\",\"id\":\"ba89f1af-8906-4b2e-cb32-cc24feeefc78\"},{\"type\":\"Grid\",\"id\":\"6a3bde1f-0946-44d8-c4ae-464b440e8a88\"},{\"type\":\"LinearAxis\",\"id\":\"d8f84276-0c60-46a2-c679-e3d3417d7849\"},{\"type\":\"Grid\",\"id\":\"78b1c040-27e8-48fc-c89a-a00850c8fc2e\"},{\"type\":\"Legend\",\"id\":\"68582311-abde-4789-c715-78a4d0c0d2cc\"}],\"above\":[],\"tools\":[{\"type\":\"PanTool\",\"id\":\"58a0b646-0879-4622-c6ba-6be7f1680868\"},{\"type\":\"WheelZoomTool\",\"id\":\"90cd3bab-7862-4102-c12a-1a4193098f73\"},{\"type\":\"BoxZoomTool\",\"id\":\"7d2b0a47-170c-4ac1-ca4a-6685398c9c2b\"},{\"type\":\"PreviewSaveTool\",\"id\":\"79655b13-5385-4dc0-cd9f-9c4590daca1a\"},{\"type\":\"ResizeTool\",\"id\":\"49639db4-a51b-49a2-c935-bff03b70d736\"},{\"type\":\"ResetTool\",\"id\":\"ae0cac3b-e2e6-4604-c6ee-599419a12508\"}],\"doc\":null,\"right\":[],\"title\":\"Solve Percentages On Random Scrambles\",\"extra_x_ranges\":{},\"left\":[{\"type\":\"LinearAxis\",\"id\":\"d8f84276-0c60-46a2-c679-e3d3417d7849\"}],\"y_range\":{\"type\":\"DataRange1d\",\"id\":\"6761a806-b16f-4d65-cdfb-ac8a32d052d3\"},\"id\":\"38e71985-908a-4f41-cfdb-a4f2127a8589\",\"extra_y_ranges\":{},\"tags\":[]}}];\n",
       "      Bokeh.load_models(all_models);\n",
       "      var model = Bokeh.Collections(modeltype).get(modelid);\n",
       "      $(\"#54fb40ed-43a2-470e-c73d-0ef9f3665fbd\").html(''); // clear any previous plot in window_id\n",
       "      var view = new model.default_view({model: model, el: \"#54fb40ed-43a2-470e-c73d-0ef9f3665fbd\"});\n",
       "  });\n",
       "    }\n",
       "});\n",
       "</script>\n",
       "<div class=\"plotdiv\" id=\"54fb40ed-43a2-470e-c73d-0ef9f3665fbd\"></div>\n"
      ]
     },
     "metadata": {},
     "output_type": "display_data"
    }
   ],
   "source": [
    "require 'csvigo'\n",
    "data = csvigo.load('models_26_lstm_tests/scores.csv')\n",
    "percents = torch.Tensor(data.percent)\n",
    "x = torch.range(1, 26)\n",
    "\n",
    "plot = itorch.Plot()\n",
    "plot:xaxis('Scramble Length'):yaxis('Solve Percentage')\n",
    "plot:title('Solve Percentages On Random Scrambles')\n",
    "plot:line(x, percents, 'red', 'LSTM (26)')\n",
    "plot:legend(true)\n",
    "plot:draw()"
   ]
  },
  {
   "cell_type": "code",
   "execution_count": 28,
   "metadata": {
    "collapsed": false
   },
   "outputs": [
    {
     "data": {
      "text/plain": [
       "<csv>\tparsing file: models_2_lstm_tests/scores.csv\t\n"
      ]
     },
     "execution_count": 28,
     "metadata": {},
     "output_type": "execute_result"
    },
    {
     "data": {
      "text/plain": [
       "<csv>\ttidying up entries\t\n"
      ]
     },
     "execution_count": 28,
     "metadata": {},
     "output_type": "execute_result"
    },
    {
     "data": {
      "text/plain": [
       "<csv>\treturning tidy table\t\n",
       "<csv>\tparsing file: models_3_lstm_tests/scores.csv\t\n"
      ]
     },
     "execution_count": 28,
     "metadata": {},
     "output_type": "execute_result"
    },
    {
     "data": {
      "text/plain": [
       "<csv>\ttidying up entries\t\n",
       "<csv>\treturning tidy table\t\n",
       "<csv>\tparsing file: models_4_lstm_tests/scores.csv\t\n",
       "<csv>\ttidying up entries\t\n",
       "<csv>\treturning tidy table\t\n",
       "<csv>\tparsing file: models_5_lstm_tests/scores.csv\t\n"
      ]
     },
     "execution_count": 28,
     "metadata": {},
     "output_type": "execute_result"
    },
    {
     "data": {
      "text/plain": [
       "<csv>\ttidying up entries\t\n",
       "<csv>\treturning tidy table\t\n",
       "<csv>\tparsing file: models_6_lstm_tests/scores.csv\t\n"
      ]
     },
     "execution_count": 28,
     "metadata": {},
     "output_type": "execute_result"
    },
    {
     "data": {
      "text/plain": [
       "<csv>\ttidying up entries\t\n",
       "<csv>\treturning tidy table\t\n",
       "<csv>\tparsing file: models_7_lstm_tests/scores.csv\t\n"
      ]
     },
     "execution_count": 28,
     "metadata": {},
     "output_type": "execute_result"
    },
    {
     "data": {
      "text/plain": [
       "<csv>\ttidying up entries\t\n",
       "<csv>\treturning tidy table\t\n",
       "<csv>\tparsing file: models_8_lstm_tests/scores.csv\t\n"
      ]
     },
     "execution_count": 28,
     "metadata": {},
     "output_type": "execute_result"
    },
    {
     "data": {
      "text/plain": [
       "<csv>\ttidying up entries\t\n",
       "<csv>\treturning tidy table\t\n",
       "<csv>\tparsing file: models_9_lstm_tests/scores.csv\t\n"
      ]
     },
     "execution_count": 28,
     "metadata": {},
     "output_type": "execute_result"
    },
    {
     "data": {
      "text/plain": [
       "<csv>\ttidying up entries\t\n",
       "<csv>\treturning tidy table\t\n",
       "<csv>\tparsing file: models_26_lstm_tests/scores.csv\t\n"
      ]
     },
     "execution_count": 28,
     "metadata": {},
     "output_type": "execute_result"
    },
    {
     "data": {
      "text/plain": [
       "<csv>\ttidying up entries\t\n",
       "<csv>\treturning tidy table\t\n"
      ]
     },
     "execution_count": 28,
     "metadata": {},
     "output_type": "execute_result"
    },
    {
     "data": {
      "text/html": [
       "<script type=\"text/javascript\">\n",
       "$(function() {\n",
       "    if (typeof (window._bokeh_onload_callbacks) === \"undefined\"){\n",
       "  window._bokeh_onload_callbacks = [];\n",
       "    }\n",
       "    function load_lib(url, callback){\n",
       "  window._bokeh_onload_callbacks.push(callback);\n",
       "  if (window._bokeh_is_loading){\n",
       "      console.log(\"Bokeh: BokehJS is being loaded, scheduling callback at\", new Date());\n",
       "      return null;\n",
       "  }\n",
       "  console.log(\"Bokeh: BokehJS not loaded, scheduling load and callback at\", new Date());\n",
       "  window._bokeh_is_loading = true;\n",
       "  var s = document.createElement('script');\n",
       "  s.src = url;\n",
       "  s.async = true;\n",
       "  s.onreadystatechange = s.onload = function(){\n",
       "      Bokeh.embed.inject_css(\"https://cdn.pydata.org/bokeh-0.7.0.min.css\");\n",
       "      window._bokeh_onload_callbacks.forEach(function(callback){callback()});\n",
       "  };\n",
       "  s.onerror = function(){\n",
       "      console.warn(\"failed to load library \" + url);\n",
       "  };\n",
       "  document.getElementsByTagName(\"head\")[0].appendChild(s);\n",
       "    }\n",
       "\n",
       "    bokehjs_url = \"https://cdn.pydata.org/bokeh-0.7.0.min.js\"\n",
       "\n",
       "    var elt = document.getElementById(\"825a12fb-f61b-476c-c719-7814249767ff\");\n",
       "    if(elt==null) {\n",
       "  console.log(\"Bokeh: ERROR: autoload.js configured with elementid '825a12fb-f61b-476c-c719-7814249767ff'\"\n",
       "        + \"but no matching script tag was found. \")\n",
       "  return false;\n",
       "    }\n",
       "\n",
       "    if(typeof(Bokeh) !== \"undefined\") {\n",
       "  console.log(\"Bokeh: BokehJS loaded, going straight to plotting\");\n",
       "  var modelid = \"6c4d2cb8-7353-4110-c165-33a85a820b8a\";\n",
       "  var modeltype = \"Plot\";\n",
       "  var all_models = [{\"id\":\"521e3de1-c9db-4fd2-cfe6-9972a994c6e8\",\"type\":\"ColumnDataSource\",\"attributes\":{\"data\":{\"y\":[100,100,79.23,55.23,35.04,21.81,12.86,8.36,4.64,2.99,1.68,0.97,0.57,0.34,0.13,0.11,0.03,0.03,0.02,0.01,0.02,0.01,0,0,0,0],\"x\":[1,2,3,4,5,6,7,8,9,10,11,12,13,14,15,16,17,18,19,20,21,22,23,24,25,26]},\"column_names\":[\"y\",\"x\"],\"cont_ranges\":{},\"discrete_ranges\":{},\"selected\":[],\"id\":\"521e3de1-c9db-4fd2-cfe6-9972a994c6e8\",\"doc\":null,\"tags\":[]}},{\"id\":\"8c88004d-bcb8-4b55-cb4c-4c4f00751d6c\",\"type\":\"Line\",\"attributes\":{\"fill_alpha\":{\"units\":\"data\",\"value\":0.2},\"line_alpha\":{\"units\":\"data\",\"value\":1},\"doc\":null,\"size\":{\"units\":\"screen\",\"value\":10},\"fill_color\":{\"value\":\"red\"},\"line_color\":{\"value\":\"red\"},\"x\":{\"units\":\"data\",\"field\":\"x\"},\"id\":\"8c88004d-bcb8-4b55-cb4c-4c4f00751d6c\",\"y\":{\"units\":\"data\",\"field\":\"y\"},\"tags\":[]}},{\"id\":\"cd96aae3-103d-44fc-c401-f6d66cafe264\",\"type\":\"Line\",\"attributes\":{\"fill_alpha\":{\"units\":\"data\",\"value\":0.2},\"line_alpha\":{\"units\":\"data\",\"value\":1},\"doc\":null,\"size\":{\"units\":\"screen\",\"value\":10},\"fill_color\":{\"value\":\"red\"},\"line_color\":{\"value\":\"red\"},\"x\":{\"units\":\"data\",\"field\":\"x\"},\"id\":\"cd96aae3-103d-44fc-c401-f6d66cafe264\",\"y\":{\"units\":\"data\",\"field\":\"y\"},\"tags\":[]}},{\"id\":\"ba8838a8-5f12-411f-c1ee-476fe71f6ae9\",\"type\":\"GlyphRenderer\",\"attributes\":{\"name\":null,\"nonselection_glyph\":{\"type\":\"Line\",\"id\":\"cd96aae3-103d-44fc-c401-f6d66cafe264\"},\"doc\":null,\"server_data_source\":null,\"data_source\":{\"type\":\"ColumnDataSource\",\"id\":\"521e3de1-c9db-4fd2-cfe6-9972a994c6e8\"},\"glyph\":{\"type\":\"Line\",\"id\":\"8c88004d-bcb8-4b55-cb4c-4c4f00751d6c\"},\"selection_glyph\":null,\"id\":\"ba8838a8-5f12-411f-c1ee-476fe71f6ae9\",\"tags\":[]}},{\"id\":\"cd02371a-0cae-4382-c35c-74991a1cfb73\",\"type\":\"ColumnDataSource\",\"attributes\":{\"data\":{\"y\":[100,100,100,82.07,57.08,39.96,24.84,16.75,10.45,6.32,3.63,2.35,1.63,0.72,0.43,0.31,0.25,0.21,0.09,0.06,0.01,0,0,0.01,0,0],\"x\":[1,2,3,4,5,6,7,8,9,10,11,12,13,14,15,16,17,18,19,20,21,22,23,24,25,26]},\"column_names\":[\"y\",\"x\"],\"cont_ranges\":{},\"discrete_ranges\":{},\"selected\":[],\"id\":\"cd02371a-0cae-4382-c35c-74991a1cfb73\",\"doc\":null,\"tags\":[]}},{\"id\":\"c3695698-debd-4c25-cc13-ca065cf2fb5e\",\"type\":\"Line\",\"attributes\":{\"fill_alpha\":{\"units\":\"data\",\"value\":0.2},\"line_alpha\":{\"units\":\"data\",\"value\":1},\"doc\":null,\"size\":{\"units\":\"screen\",\"value\":10},\"fill_color\":{\"value\":\"orange\"},\"line_color\":{\"value\":\"orange\"},\"x\":{\"units\":\"data\",\"field\":\"x\"},\"id\":\"c3695698-debd-4c25-cc13-ca065cf2fb5e\",\"y\":{\"units\":\"data\",\"field\":\"y\"},\"tags\":[]}},{\"id\":\"affae9af-3900-4608-c6fd-d70a37da5dbd\",\"type\":\"Line\",\"attributes\":{\"fill_alpha\":{\"units\":\"data\",\"value\":0.2},\"line_alpha\":{\"units\":\"data\",\"value\":1},\"doc\":null,\"size\":{\"units\":\"screen\",\"value\":10},\"fill_color\":{\"value\":\"orange\"},\"line_color\":{\"value\":\"orange\"},\"x\":{\"units\":\"data\",\"field\":\"x\"},\"id\":\"affae9af-3900-4608-c6fd-d70a37da5dbd\",\"y\":{\"units\":\"data\",\"field\":\"y\"},\"tags\":[]}},{\"id\":\"038cf6ff-2ba8-414c-c135-d31353e807a8\",\"type\":\"GlyphRenderer\",\"attributes\":{\"name\":null,\"nonselection_glyph\":{\"type\":\"Line\",\"id\":\"affae9af-3900-4608-c6fd-d70a37da5dbd\"},\"doc\":null,\"server_data_source\":null,\"data_source\":{\"type\":\"ColumnDataSource\",\"id\":\"cd02371a-0cae-4382-c35c-74991a1cfb73\"},\"glyph\":{\"type\":\"Line\",\"id\":\"c3695698-debd-4c25-cc13-ca065cf2fb5e\"},\"selection_glyph\":null,\"id\":\"038cf6ff-2ba8-414c-c135-d31353e807a8\",\"tags\":[]}},{\"id\":\"4229ca69-01e8-49d5-c9ec-c27aae772468\",\"type\":\"ColumnDataSource\",\"attributes\":{\"data\":{\"y\":[100,100,100,99.66,77.47,55.59,38.41,24.32,15.69,9.38,6.34,3.97,2.19,1.73,0.77,0.48,0.29,0.23,0.11,0.07,0.03,0.01,0.02,0.01,0,0],\"x\":[1,2,3,4,5,6,7,8,9,10,11,12,13,14,15,16,17,18,19,20,21,22,23,24,25,26]},\"column_names\":[\"y\",\"x\"],\"cont_ranges\":{},\"discrete_ranges\":{},\"selected\":[],\"id\":\"4229ca69-01e8-49d5-c9ec-c27aae772468\",\"doc\":null,\"tags\":[]}},{\"id\":\"b2810013-6307-4818-c811-4501971cdd96\",\"type\":\"Line\",\"attributes\":{\"fill_alpha\":{\"units\":\"data\",\"value\":0.2},\"line_alpha\":{\"units\":\"data\",\"value\":1},\"doc\":null,\"size\":{\"units\":\"screen\",\"value\":10},\"fill_color\":{\"value\":\"yellow\"},\"line_color\":{\"value\":\"yellow\"},\"x\":{\"units\":\"data\",\"field\":\"x\"},\"id\":\"b2810013-6307-4818-c811-4501971cdd96\",\"y\":{\"units\":\"data\",\"field\":\"y\"},\"tags\":[]}},{\"id\":\"d6793c57-f34b-4a09-ca35-9d64fad174d9\",\"type\":\"Line\",\"attributes\":{\"fill_alpha\":{\"units\":\"data\",\"value\":0.2},\"line_alpha\":{\"units\":\"data\",\"value\":1},\"doc\":null,\"size\":{\"units\":\"screen\",\"value\":10},\"fill_color\":{\"value\":\"yellow\"},\"line_color\":{\"value\":\"yellow\"},\"x\":{\"units\":\"data\",\"field\":\"x\"},\"id\":\"d6793c57-f34b-4a09-ca35-9d64fad174d9\",\"y\":{\"units\":\"data\",\"field\":\"y\"},\"tags\":[]}},{\"id\":\"95f8c9b8-6f4f-4452-c401-638c46466ddd\",\"type\":\"GlyphRenderer\",\"attributes\":{\"name\":null,\"nonselection_glyph\":{\"type\":\"Line\",\"id\":\"d6793c57-f34b-4a09-ca35-9d64fad174d9\"},\"doc\":null,\"server_data_source\":null,\"data_source\":{\"type\":\"ColumnDataSource\",\"id\":\"4229ca69-01e8-49d5-c9ec-c27aae772468\"},\"glyph\":{\"type\":\"Line\",\"id\":\"b2810013-6307-4818-c811-4501971cdd96\"},\"selection_glyph\":null,\"id\":\"95f8c9b8-6f4f-4452-c401-638c46466ddd\",\"tags\":[]}},{\"id\":\"d2c96562-e781-4fb3-cf0c-cab3ab10fd3b\",\"type\":\"ColumnDataSource\",\"attributes\":{\"data\":{\"y\":[100,100,100,99.22,93.57,71.62,51.51,37.06,24.65,16.1,9.71,6.2,4.02,2.73,1.29,0.99,0.68,0.33,0.1,0.1,0.08,0.06,0.05,0.04,0.02,0.01],\"x\":[1,2,3,4,5,6,7,8,9,10,11,12,13,14,15,16,17,18,19,20,21,22,23,24,25,26]},\"column_names\":[\"y\",\"x\"],\"cont_ranges\":{},\"discrete_ranges\":{},\"selected\":[],\"id\":\"d2c96562-e781-4fb3-cf0c-cab3ab10fd3b\",\"doc\":null,\"tags\":[]}},{\"id\":\"41f7443f-7a38-4d11-cd6c-ea0d9f43b95d\",\"type\":\"Line\",\"attributes\":{\"fill_alpha\":{\"units\":\"data\",\"value\":0.2},\"line_alpha\":{\"units\":\"data\",\"value\":1},\"doc\":null,\"size\":{\"units\":\"screen\",\"value\":10},\"fill_color\":{\"value\":\"green\"},\"line_color\":{\"value\":\"green\"},\"x\":{\"units\":\"data\",\"field\":\"x\"},\"id\":\"41f7443f-7a38-4d11-cd6c-ea0d9f43b95d\",\"y\":{\"units\":\"data\",\"field\":\"y\"},\"tags\":[]}},{\"id\":\"9a83d2e2-7a8d-4f32-cf58-c0acdba2e19e\",\"type\":\"Line\",\"attributes\":{\"fill_alpha\":{\"units\":\"data\",\"value\":0.2},\"line_alpha\":{\"units\":\"data\",\"value\":1},\"doc\":null,\"size\":{\"units\":\"screen\",\"value\":10},\"fill_color\":{\"value\":\"green\"},\"line_color\":{\"value\":\"green\"},\"x\":{\"units\":\"data\",\"field\":\"x\"},\"id\":\"9a83d2e2-7a8d-4f32-cf58-c0acdba2e19e\",\"y\":{\"units\":\"data\",\"field\":\"y\"},\"tags\":[]}},{\"id\":\"a8a30ef4-7caf-4795-c7ad-6196a2b3027c\",\"type\":\"GlyphRenderer\",\"attributes\":{\"name\":null,\"nonselection_glyph\":{\"type\":\"Line\",\"id\":\"9a83d2e2-7a8d-4f32-cf58-c0acdba2e19e\"},\"doc\":null,\"server_data_source\":null,\"data_source\":{\"type\":\"ColumnDataSource\",\"id\":\"d2c96562-e781-4fb3-cf0c-cab3ab10fd3b\"},\"glyph\":{\"type\":\"Line\",\"id\":\"41f7443f-7a38-4d11-cd6c-ea0d9f43b95d\"},\"selection_glyph\":null,\"id\":\"a8a30ef4-7caf-4795-c7ad-6196a2b3027c\",\"tags\":[]}},{\"id\":\"a1b01d92-d3d4-4525-c556-3e770152a0d5\",\"type\":\"ColumnDataSource\",\"attributes\":{\"data\":{\"y\":[100,100,100,99.3,95.07,83.17,63.88,47.28,32.55,22.27,14.65,9.65,6.09,3.85,2.46,1.46,0.94,0.67,0.35,0.25,0.21,0.1,0.09,0.03,0.02,0.01],\"x\":[1,2,3,4,5,6,7,8,9,10,11,12,13,14,15,16,17,18,19,20,21,22,23,24,25,26]},\"column_names\":[\"y\",\"x\"],\"cont_ranges\":{},\"discrete_ranges\":{},\"selected\":[],\"id\":\"a1b01d92-d3d4-4525-c556-3e770152a0d5\",\"doc\":null,\"tags\":[]}},{\"id\":\"f77b8998-58b3-4761-c78b-1d1b561606a7\",\"type\":\"Line\",\"attributes\":{\"fill_alpha\":{\"units\":\"data\",\"value\":0.2},\"line_alpha\":{\"units\":\"data\",\"value\":1},\"doc\":null,\"size\":{\"units\":\"screen\",\"value\":10},\"fill_color\":{\"value\":\"blue\"},\"line_color\":{\"value\":\"blue\"},\"x\":{\"units\":\"data\",\"field\":\"x\"},\"id\":\"f77b8998-58b3-4761-c78b-1d1b561606a7\",\"y\":{\"units\":\"data\",\"field\":\"y\"},\"tags\":[]}},{\"id\":\"d6bd2f10-6429-4f2e-cf2f-da34f45564db\",\"type\":\"Line\",\"attributes\":{\"fill_alpha\":{\"units\":\"data\",\"value\":0.2},\"line_alpha\":{\"units\":\"data\",\"value\":1},\"doc\":null,\"size\":{\"units\":\"screen\",\"value\":10},\"fill_color\":{\"value\":\"blue\"},\"line_color\":{\"value\":\"blue\"},\"x\":{\"units\":\"data\",\"field\":\"x\"},\"id\":\"d6bd2f10-6429-4f2e-cf2f-da34f45564db\",\"y\":{\"units\":\"data\",\"field\":\"y\"},\"tags\":[]}},{\"id\":\"2e0ed964-c4d1-499c-c9b6-caa662a22cb6\",\"type\":\"GlyphRenderer\",\"attributes\":{\"name\":null,\"nonselection_glyph\":{\"type\":\"Line\",\"id\":\"d6bd2f10-6429-4f2e-cf2f-da34f45564db\"},\"doc\":null,\"server_data_source\":null,\"data_source\":{\"type\":\"ColumnDataSource\",\"id\":\"a1b01d92-d3d4-4525-c556-3e770152a0d5\"},\"glyph\":{\"type\":\"Line\",\"id\":\"f77b8998-58b3-4761-c78b-1d1b561606a7\"},\"selection_glyph\":null,\"id\":\"2e0ed964-c4d1-499c-c9b6-caa662a22cb6\",\"tags\":[]}},{\"id\":\"5fe84d0e-69dd-4310-c34e-d6277bc11087\",\"type\":\"ColumnDataSource\",\"attributes\":{\"data\":{\"y\":[100,100,100,99.6,96.02,85.35,69.52,53.55,38.57,27.1,18.16,12.48,8.4,4.89,3.15,2.19,1.21,1.02,0.59,0.42,0.22,0.12,0.11,0.07,0,0],\"x\":[1,2,3,4,5,6,7,8,9,10,11,12,13,14,15,16,17,18,19,20,21,22,23,24,25,26]},\"column_names\":[\"y\",\"x\"],\"cont_ranges\":{},\"discrete_ranges\":{},\"selected\":[],\"id\":\"5fe84d0e-69dd-4310-c34e-d6277bc11087\",\"doc\":null,\"tags\":[]}},{\"id\":\"f8fb441e-3b73-47da-c7e2-d6fab99ced77\",\"type\":\"Line\",\"attributes\":{\"fill_alpha\":{\"units\":\"data\",\"value\":0.2},\"line_alpha\":{\"units\":\"data\",\"value\":1},\"doc\":null,\"size\":{\"units\":\"screen\",\"value\":10},\"fill_color\":{\"value\":\"purple\"},\"line_color\":{\"value\":\"purple\"},\"x\":{\"units\":\"data\",\"field\":\"x\"},\"id\":\"f8fb441e-3b73-47da-c7e2-d6fab99ced77\",\"y\":{\"units\":\"data\",\"field\":\"y\"},\"tags\":[]}},{\"id\":\"620d3be2-2d2b-4f45-cf76-8b95f7c2608a\",\"type\":\"Line\",\"attributes\":{\"fill_alpha\":{\"units\":\"data\",\"value\":0.2},\"line_alpha\":{\"units\":\"data\",\"value\":1},\"doc\":null,\"size\":{\"units\":\"screen\",\"value\":10},\"fill_color\":{\"value\":\"purple\"},\"line_color\":{\"value\":\"purple\"},\"x\":{\"units\":\"data\",\"field\":\"x\"},\"id\":\"620d3be2-2d2b-4f45-cf76-8b95f7c2608a\",\"y\":{\"units\":\"data\",\"field\":\"y\"},\"tags\":[]}},{\"id\":\"a1efa204-07e2-4912-c9ff-dbfcf2b6e694\",\"type\":\"GlyphRenderer\",\"attributes\":{\"name\":null,\"nonselection_glyph\":{\"type\":\"Line\",\"id\":\"620d3be2-2d2b-4f45-cf76-8b95f7c2608a\"},\"doc\":null,\"server_data_source\":null,\"data_source\":{\"type\":\"ColumnDataSource\",\"id\":\"5fe84d0e-69dd-4310-c34e-d6277bc11087\"},\"glyph\":{\"type\":\"Line\",\"id\":\"f8fb441e-3b73-47da-c7e2-d6fab99ced77\"},\"selection_glyph\":null,\"id\":\"a1efa204-07e2-4912-c9ff-dbfcf2b6e694\",\"tags\":[]}},{\"id\":\"8b746a83-0d4e-4060-c07f-bca6d516a1ff\",\"type\":\"ColumnDataSource\",\"attributes\":{\"data\":{\"y\":[100,100,100,99.62,96.1,87.05,72.05,55.55,41.31,29.7,20.7,13.75,9.1,6.25,4.07,2.47,1.61,1.07,0.49,0.45,0.31,0.27,0.11,0.08,0.07,0.03],\"x\":[1,2,3,4,5,6,7,8,9,10,11,12,13,14,15,16,17,18,19,20,21,22,23,24,25,26]},\"column_names\":[\"y\",\"x\"],\"cont_ranges\":{},\"discrete_ranges\":{},\"selected\":[],\"id\":\"8b746a83-0d4e-4060-c07f-bca6d516a1ff\",\"doc\":null,\"tags\":[]}},{\"id\":\"5a6505d1-955d-452e-c553-e6bbe05ca689\",\"type\":\"Line\",\"attributes\":{\"fill_alpha\":{\"units\":\"data\",\"value\":0.2},\"line_alpha\":{\"units\":\"data\",\"value\":1},\"doc\":null,\"size\":{\"units\":\"screen\",\"value\":10},\"fill_color\":{\"value\":\"pink\"},\"line_color\":{\"value\":\"pink\"},\"x\":{\"units\":\"data\",\"field\":\"x\"},\"id\":\"5a6505d1-955d-452e-c553-e6bbe05ca689\",\"y\":{\"units\":\"data\",\"field\":\"y\"},\"tags\":[]}},{\"id\":\"44ef4baf-dfee-4b59-cb1a-cf0f17c89f0f\",\"type\":\"Line\",\"attributes\":{\"fill_alpha\":{\"units\":\"data\",\"value\":0.2},\"line_alpha\":{\"units\":\"data\",\"value\":1},\"doc\":null,\"size\":{\"units\":\"screen\",\"value\":10},\"fill_color\":{\"value\":\"pink\"},\"line_color\":{\"value\":\"pink\"},\"x\":{\"units\":\"data\",\"field\":\"x\"},\"id\":\"44ef4baf-dfee-4b59-cb1a-cf0f17c89f0f\",\"y\":{\"units\":\"data\",\"field\":\"y\"},\"tags\":[]}},{\"id\":\"b3027bd6-4513-4a3f-ca27-b8c9698de598\",\"type\":\"GlyphRenderer\",\"attributes\":{\"name\":null,\"nonselection_glyph\":{\"type\":\"Line\",\"id\":\"44ef4baf-dfee-4b59-cb1a-cf0f17c89f0f\"},\"doc\":null,\"server_data_source\":null,\"data_source\":{\"type\":\"ColumnDataSource\",\"id\":\"8b746a83-0d4e-4060-c07f-bca6d516a1ff\"},\"glyph\":{\"type\":\"Line\",\"id\":\"5a6505d1-955d-452e-c553-e6bbe05ca689\"},\"selection_glyph\":null,\"id\":\"b3027bd6-4513-4a3f-ca27-b8c9698de598\",\"tags\":[]}},{\"id\":\"574cb259-25b6-457d-c557-2302fcbb2e92\",\"type\":\"ColumnDataSource\",\"attributes\":{\"data\":{\"y\":[100,100,100,99.74,96.12,87.6,71.87,58,42.21,31.18,20.96,15.03,9.83,6.61,4.23,2.9,1.87,1.06,0.76,0.39,0.31,0.18,0.14,0.06,0.05,0.01],\"x\":[1,2,3,4,5,6,7,8,9,10,11,12,13,14,15,16,17,18,19,20,21,22,23,24,25,26]},\"column_names\":[\"y\",\"x\"],\"cont_ranges\":{},\"discrete_ranges\":{},\"selected\":[],\"id\":\"574cb259-25b6-457d-c557-2302fcbb2e92\",\"doc\":null,\"tags\":[]}},{\"id\":\"db2c8118-6f72-4b6c-cb33-2d3e65ba2cb2\",\"type\":\"Line\",\"attributes\":{\"fill_alpha\":{\"units\":\"data\",\"value\":0.2},\"line_alpha\":{\"units\":\"data\",\"value\":1},\"doc\":null,\"size\":{\"units\":\"screen\",\"value\":10},\"fill_color\":{\"value\":\"gray\"},\"line_color\":{\"value\":\"gray\"},\"x\":{\"units\":\"data\",\"field\":\"x\"},\"id\":\"db2c8118-6f72-4b6c-cb33-2d3e65ba2cb2\",\"y\":{\"units\":\"data\",\"field\":\"y\"},\"tags\":[]}},{\"id\":\"8b68100f-0fd3-4400-c43f-8eb511c8153a\",\"type\":\"Line\",\"attributes\":{\"fill_alpha\":{\"units\":\"data\",\"value\":0.2},\"line_alpha\":{\"units\":\"data\",\"value\":1},\"doc\":null,\"size\":{\"units\":\"screen\",\"value\":10},\"fill_color\":{\"value\":\"gray\"},\"line_color\":{\"value\":\"gray\"},\"x\":{\"units\":\"data\",\"field\":\"x\"},\"id\":\"8b68100f-0fd3-4400-c43f-8eb511c8153a\",\"y\":{\"units\":\"data\",\"field\":\"y\"},\"tags\":[]}},{\"id\":\"20905c53-4614-4a88-ca7d-84b898051211\",\"type\":\"GlyphRenderer\",\"attributes\":{\"name\":null,\"nonselection_glyph\":{\"type\":\"Line\",\"id\":\"8b68100f-0fd3-4400-c43f-8eb511c8153a\"},\"doc\":null,\"server_data_source\":null,\"data_source\":{\"type\":\"ColumnDataSource\",\"id\":\"574cb259-25b6-457d-c557-2302fcbb2e92\"},\"glyph\":{\"type\":\"Line\",\"id\":\"db2c8118-6f72-4b6c-cb33-2d3e65ba2cb2\"},\"selection_glyph\":null,\"id\":\"20905c53-4614-4a88-ca7d-84b898051211\",\"tags\":[]}},{\"id\":\"088f0318-5f28-47bf-c7a3-21282b3c1767\",\"type\":\"ColumnDataSource\",\"attributes\":{\"data\":{\"y\":[100,100,100,99.62,95.69,85.71,72.56,55.59,43.09,31.86,22.22,14.79,10.8,6.71,4.67,3.01,2.1,1.18,0.96,0.53,0.32,0.22,0.11,0.1,0.07,0.06],\"x\":[1,2,3,4,5,6,7,8,9,10,11,12,13,14,15,16,17,18,19,20,21,22,23,24,25,26]},\"column_names\":[\"y\",\"x\"],\"cont_ranges\":{},\"discrete_ranges\":{},\"selected\":[],\"id\":\"088f0318-5f28-47bf-c7a3-21282b3c1767\",\"doc\":null,\"tags\":[]}},{\"id\":\"afd207f6-5fef-49ee-c931-801654a09e75\",\"type\":\"Line\",\"attributes\":{\"fill_alpha\":{\"units\":\"data\",\"value\":0.2},\"line_alpha\":{\"units\":\"data\",\"value\":1},\"doc\":null,\"size\":{\"units\":\"screen\",\"value\":10},\"fill_color\":{\"value\":\"black\"},\"line_color\":{\"value\":\"black\"},\"x\":{\"units\":\"data\",\"field\":\"x\"},\"id\":\"afd207f6-5fef-49ee-c931-801654a09e75\",\"y\":{\"units\":\"data\",\"field\":\"y\"},\"tags\":[]}},{\"id\":\"a2ce4f98-354f-47bd-c7ea-27a81d2f5ff4\",\"type\":\"Line\",\"attributes\":{\"fill_alpha\":{\"units\":\"data\",\"value\":0.2},\"line_alpha\":{\"units\":\"data\",\"value\":1},\"doc\":null,\"size\":{\"units\":\"screen\",\"value\":10},\"fill_color\":{\"value\":\"black\"},\"line_color\":{\"value\":\"black\"},\"x\":{\"units\":\"data\",\"field\":\"x\"},\"id\":\"a2ce4f98-354f-47bd-c7ea-27a81d2f5ff4\",\"y\":{\"units\":\"data\",\"field\":\"y\"},\"tags\":[]}},{\"id\":\"5885a1a8-0f52-476e-c786-122cfc3a799e\",\"type\":\"GlyphRenderer\",\"attributes\":{\"name\":null,\"nonselection_glyph\":{\"type\":\"Line\",\"id\":\"a2ce4f98-354f-47bd-c7ea-27a81d2f5ff4\"},\"doc\":null,\"server_data_source\":null,\"data_source\":{\"type\":\"ColumnDataSource\",\"id\":\"088f0318-5f28-47bf-c7a3-21282b3c1767\"},\"glyph\":{\"type\":\"Line\",\"id\":\"afd207f6-5fef-49ee-c931-801654a09e75\"},\"selection_glyph\":null,\"id\":\"5885a1a8-0f52-476e-c786-122cfc3a799e\",\"tags\":[]}},{\"id\":\"ab505dbf-dc04-4918-c927-21544c2e6e1c\",\"type\":\"DataRange1d\",\"attributes\":{\"sources\":[{\"columns\":[\"x\"],\"source\":{\"type\":\"ColumnDataSource\",\"id\":\"521e3de1-c9db-4fd2-cfe6-9972a994c6e8\"}},{\"columns\":[\"x\"],\"source\":{\"type\":\"ColumnDataSource\",\"id\":\"cd02371a-0cae-4382-c35c-74991a1cfb73\"}},{\"columns\":[\"x\"],\"source\":{\"type\":\"ColumnDataSource\",\"id\":\"4229ca69-01e8-49d5-c9ec-c27aae772468\"}},{\"columns\":[\"x\"],\"source\":{\"type\":\"ColumnDataSource\",\"id\":\"d2c96562-e781-4fb3-cf0c-cab3ab10fd3b\"}},{\"columns\":[\"x\"],\"source\":{\"type\":\"ColumnDataSource\",\"id\":\"a1b01d92-d3d4-4525-c556-3e770152a0d5\"}},{\"columns\":[\"x\"],\"source\":{\"type\":\"ColumnDataSource\",\"id\":\"5fe84d0e-69dd-4310-c34e-d6277bc11087\"}},{\"columns\":[\"x\"],\"source\":{\"type\":\"ColumnDataSource\",\"id\":\"8b746a83-0d4e-4060-c07f-bca6d516a1ff\"}},{\"columns\":[\"x\"],\"source\":{\"type\":\"ColumnDataSource\",\"id\":\"574cb259-25b6-457d-c557-2302fcbb2e92\"}},{\"columns\":[\"x\"],\"source\":{\"type\":\"ColumnDataSource\",\"id\":\"088f0318-5f28-47bf-c7a3-21282b3c1767\"}}],\"id\":\"ab505dbf-dc04-4918-c927-21544c2e6e1c\",\"tags\":[],\"doc\":null}},{\"id\":\"0dfbfb7e-3a19-45ac-c541-4494c15d8b14\",\"type\":\"DataRange1d\",\"attributes\":{\"sources\":[{\"columns\":[\"y\"],\"source\":{\"type\":\"ColumnDataSource\",\"id\":\"521e3de1-c9db-4fd2-cfe6-9972a994c6e8\"}},{\"columns\":[\"y\"],\"source\":{\"type\":\"ColumnDataSource\",\"id\":\"cd02371a-0cae-4382-c35c-74991a1cfb73\"}},{\"columns\":[\"y\"],\"source\":{\"type\":\"ColumnDataSource\",\"id\":\"4229ca69-01e8-49d5-c9ec-c27aae772468\"}},{\"columns\":[\"y\"],\"source\":{\"type\":\"ColumnDataSource\",\"id\":\"d2c96562-e781-4fb3-cf0c-cab3ab10fd3b\"}},{\"columns\":[\"y\"],\"source\":{\"type\":\"ColumnDataSource\",\"id\":\"a1b01d92-d3d4-4525-c556-3e770152a0d5\"}},{\"columns\":[\"y\"],\"source\":{\"type\":\"ColumnDataSource\",\"id\":\"5fe84d0e-69dd-4310-c34e-d6277bc11087\"}},{\"columns\":[\"y\"],\"source\":{\"type\":\"ColumnDataSource\",\"id\":\"8b746a83-0d4e-4060-c07f-bca6d516a1ff\"}},{\"columns\":[\"y\"],\"source\":{\"type\":\"ColumnDataSource\",\"id\":\"574cb259-25b6-457d-c557-2302fcbb2e92\"}},{\"columns\":[\"y\"],\"source\":{\"type\":\"ColumnDataSource\",\"id\":\"088f0318-5f28-47bf-c7a3-21282b3c1767\"}}],\"id\":\"0dfbfb7e-3a19-45ac-c541-4494c15d8b14\",\"tags\":[],\"doc\":null}},{\"id\":\"bcaf01a3-f410-45b6-c54c-8390123e87a4\",\"type\":\"ToolEvents\",\"attributes\":{\"tags\":[],\"id\":\"bcaf01a3-f410-45b6-c54c-8390123e87a4\",\"geometries\":[],\"doc\":null}},{\"id\":\"10a7b924-b6b5-4340-c332-92e50abbc041\",\"type\":\"BasicTickFormatter\",\"attributes\":{\"id\":\"10a7b924-b6b5-4340-c332-92e50abbc041\",\"tags\":[],\"doc\":null}},{\"id\":\"097a8f0e-ff4b-4541-c5aa-19c81514ea0d\",\"type\":\"BasicTicker\",\"attributes\":{\"num_minor_ticks\":5,\"id\":\"097a8f0e-ff4b-4541-c5aa-19c81514ea0d\",\"tags\":[],\"doc\":null}},{\"id\":\"b939cc00-c750-4fa1-cfeb-1a9b68e4a535\",\"type\":\"LinearAxis\",\"attributes\":{\"formatter\":{\"type\":\"BasicTickFormatter\",\"id\":\"10a7b924-b6b5-4340-c332-92e50abbc041\"},\"ticker\":{\"type\":\"BasicTicker\",\"id\":\"097a8f0e-ff4b-4541-c5aa-19c81514ea0d\"},\"plot\":{\"id\":\"6c4d2cb8-7353-4110-c165-33a85a820b8a\",\"type\":\"Plot\",\"subtype\":\"Figure\"},\"axis_label\":\"Scramble Length\",\"id\":\"b939cc00-c750-4fa1-cfeb-1a9b68e4a535\",\"doc\":null,\"tags\":[]}},{\"id\":\"e00e4214-37f2-494e-c9f1-b37479082941\",\"type\":\"Grid\",\"attributes\":{\"dimension\":0,\"plot\":{\"id\":\"6c4d2cb8-7353-4110-c165-33a85a820b8a\",\"type\":\"Plot\",\"subtype\":\"Figure\"},\"ticker\":{\"type\":\"BasicTicker\",\"id\":\"097a8f0e-ff4b-4541-c5aa-19c81514ea0d\"},\"id\":\"e00e4214-37f2-494e-c9f1-b37479082941\",\"doc\":null,\"tags\":[]}},{\"id\":\"e5fea5ac-ce5c-460f-c6a5-bb18e937ac78\",\"type\":\"BasicTickFormatter\",\"attributes\":{\"id\":\"e5fea5ac-ce5c-460f-c6a5-bb18e937ac78\",\"tags\":[],\"doc\":null}},{\"id\":\"2efc34d0-62d0-4e4a-ce4f-682112a04426\",\"type\":\"BasicTicker\",\"attributes\":{\"num_minor_ticks\":5,\"id\":\"2efc34d0-62d0-4e4a-ce4f-682112a04426\",\"tags\":[],\"doc\":null}},{\"id\":\"857f6605-c7db-42d8-c2a4-106d1e1cf705\",\"type\":\"LinearAxis\",\"attributes\":{\"formatter\":{\"type\":\"BasicTickFormatter\",\"id\":\"e5fea5ac-ce5c-460f-c6a5-bb18e937ac78\"},\"ticker\":{\"type\":\"BasicTicker\",\"id\":\"2efc34d0-62d0-4e4a-ce4f-682112a04426\"},\"plot\":{\"id\":\"6c4d2cb8-7353-4110-c165-33a85a820b8a\",\"type\":\"Plot\",\"subtype\":\"Figure\"},\"axis_label\":\"Solve Percentage\",\"id\":\"857f6605-c7db-42d8-c2a4-106d1e1cf705\",\"doc\":null,\"tags\":[]}},{\"id\":\"93e2b222-8a85-4516-c516-c22138dc3c57\",\"type\":\"Grid\",\"attributes\":{\"dimension\":1,\"plot\":{\"id\":\"6c4d2cb8-7353-4110-c165-33a85a820b8a\",\"type\":\"Plot\",\"subtype\":\"Figure\"},\"ticker\":{\"type\":\"BasicTicker\",\"id\":\"2efc34d0-62d0-4e4a-ce4f-682112a04426\"},\"id\":\"93e2b222-8a85-4516-c516-c22138dc3c57\",\"doc\":null,\"tags\":[]}},{\"id\":\"79e63ca9-9f7b-4008-c04f-522204333f60\",\"type\":\"PanTool\",\"attributes\":{\"plot\":{\"id\":\"6c4d2cb8-7353-4110-c165-33a85a820b8a\",\"type\":\"Plot\",\"subtype\":\"Figure\"},\"dimensions\":[\"width\",\"height\"],\"id\":\"79e63ca9-9f7b-4008-c04f-522204333f60\",\"doc\":null,\"tags\":[]}},{\"id\":\"8d59473f-a539-4764-c755-7f3c9e6c25ea\",\"type\":\"WheelZoomTool\",\"attributes\":{\"plot\":{\"id\":\"6c4d2cb8-7353-4110-c165-33a85a820b8a\",\"type\":\"Plot\",\"subtype\":\"Figure\"},\"dimensions\":[\"width\",\"height\"],\"id\":\"8d59473f-a539-4764-c755-7f3c9e6c25ea\",\"doc\":null,\"tags\":[]}},{\"id\":\"d9515054-3c5f-41e2-c16c-66c7cf43a72d\",\"type\":\"BoxZoomTool\",\"attributes\":{\"plot\":{\"id\":\"6c4d2cb8-7353-4110-c165-33a85a820b8a\",\"type\":\"Plot\",\"subtype\":\"Figure\"},\"id\":\"d9515054-3c5f-41e2-c16c-66c7cf43a72d\",\"tags\":[],\"doc\":null}},{\"id\":\"cfddc6cb-9060-4317-c3fd-e8f55e91995a\",\"type\":\"PreviewSaveTool\",\"attributes\":{\"plot\":{\"id\":\"6c4d2cb8-7353-4110-c165-33a85a820b8a\",\"type\":\"Plot\",\"subtype\":\"Figure\"},\"id\":\"cfddc6cb-9060-4317-c3fd-e8f55e91995a\",\"tags\":[],\"doc\":null}},{\"id\":\"6e5bc643-67f2-4650-c691-0c22bfc8d0c7\",\"type\":\"ResizeTool\",\"attributes\":{\"plot\":{\"id\":\"6c4d2cb8-7353-4110-c165-33a85a820b8a\",\"type\":\"Plot\",\"subtype\":\"Figure\"},\"id\":\"6e5bc643-67f2-4650-c691-0c22bfc8d0c7\",\"tags\":[],\"doc\":null}},{\"id\":\"3400df7f-51c9-4237-c26a-313306e5833c\",\"type\":\"ResetTool\",\"attributes\":{\"plot\":{\"id\":\"6c4d2cb8-7353-4110-c165-33a85a820b8a\",\"type\":\"Plot\",\"subtype\":\"Figure\"},\"id\":\"3400df7f-51c9-4237-c26a-313306e5833c\",\"tags\":[],\"doc\":null}},{\"id\":\"c87097b7-98ab-4adc-ca08-314062534dd2\",\"type\":\"Legend\",\"attributes\":{\"plot\":{\"id\":\"6c4d2cb8-7353-4110-c165-33a85a820b8a\",\"type\":\"Plot\",\"subtype\":\"Figure\"},\"legends\":[[\"LSTM (2)\",[{\"type\":\"GlyphRenderer\",\"id\":\"ba8838a8-5f12-411f-c1ee-476fe71f6ae9\"}]],[\"LSTM (3)\",[{\"type\":\"GlyphRenderer\",\"id\":\"038cf6ff-2ba8-414c-c135-d31353e807a8\"}]],[\"LSTM (4)\",[{\"type\":\"GlyphRenderer\",\"id\":\"95f8c9b8-6f4f-4452-c401-638c46466ddd\"}]],[\"LSTM (5)\",[{\"type\":\"GlyphRenderer\",\"id\":\"a8a30ef4-7caf-4795-c7ad-6196a2b3027c\"}]],[\"LSTM (6)\",[{\"type\":\"GlyphRenderer\",\"id\":\"2e0ed964-c4d1-499c-c9b6-caa662a22cb6\"}]],[\"LSTM (7)\",[{\"type\":\"GlyphRenderer\",\"id\":\"a1efa204-07e2-4912-c9ff-dbfcf2b6e694\"}]],[\"LSTM (8)\",[{\"type\":\"GlyphRenderer\",\"id\":\"b3027bd6-4513-4a3f-ca27-b8c9698de598\"}]],[\"LSTM (9)\",[{\"type\":\"GlyphRenderer\",\"id\":\"20905c53-4614-4a88-ca7d-84b898051211\"}]],[\"LSTM (26)\",[{\"type\":\"GlyphRenderer\",\"id\":\"5885a1a8-0f52-476e-c786-122cfc3a799e\"}]]],\"id\":\"c87097b7-98ab-4adc-ca08-314062534dd2\",\"doc\":null,\"tags\":[]}},{\"id\":\"6c4d2cb8-7353-4110-c165-33a85a820b8a\",\"type\":\"Plot\",\"attributes\":{\"x_range\":{\"type\":\"DataRange1d\",\"id\":\"ab505dbf-dc04-4918-c927-21544c2e6e1c\"},\"tool_events\":{\"type\":\"ToolEvents\",\"id\":\"bcaf01a3-f410-45b6-c54c-8390123e87a4\"},\"below\":[{\"type\":\"LinearAxis\",\"id\":\"b939cc00-c750-4fa1-cfeb-1a9b68e4a535\"}],\"renderers\":[{\"type\":\"GlyphRenderer\",\"id\":\"ba8838a8-5f12-411f-c1ee-476fe71f6ae9\"},{\"type\":\"GlyphRenderer\",\"id\":\"038cf6ff-2ba8-414c-c135-d31353e807a8\"},{\"type\":\"GlyphRenderer\",\"id\":\"95f8c9b8-6f4f-4452-c401-638c46466ddd\"},{\"type\":\"GlyphRenderer\",\"id\":\"a8a30ef4-7caf-4795-c7ad-6196a2b3027c\"},{\"type\":\"GlyphRenderer\",\"id\":\"2e0ed964-c4d1-499c-c9b6-caa662a22cb6\"},{\"type\":\"GlyphRenderer\",\"id\":\"a1efa204-07e2-4912-c9ff-dbfcf2b6e694\"},{\"type\":\"GlyphRenderer\",\"id\":\"b3027bd6-4513-4a3f-ca27-b8c9698de598\"},{\"type\":\"GlyphRenderer\",\"id\":\"20905c53-4614-4a88-ca7d-84b898051211\"},{\"type\":\"GlyphRenderer\",\"id\":\"5885a1a8-0f52-476e-c786-122cfc3a799e\"},{\"type\":\"LinearAxis\",\"id\":\"b939cc00-c750-4fa1-cfeb-1a9b68e4a535\"},{\"type\":\"Grid\",\"id\":\"e00e4214-37f2-494e-c9f1-b37479082941\"},{\"type\":\"LinearAxis\",\"id\":\"857f6605-c7db-42d8-c2a4-106d1e1cf705\"},{\"type\":\"Grid\",\"id\":\"93e2b222-8a85-4516-c516-c22138dc3c57\"},{\"type\":\"Legend\",\"id\":\"c87097b7-98ab-4adc-ca08-314062534dd2\"}],\"above\":[],\"tools\":[{\"type\":\"PanTool\",\"id\":\"79e63ca9-9f7b-4008-c04f-522204333f60\"},{\"type\":\"WheelZoomTool\",\"id\":\"8d59473f-a539-4764-c755-7f3c9e6c25ea\"},{\"type\":\"BoxZoomTool\",\"id\":\"d9515054-3c5f-41e2-c16c-66c7cf43a72d\"},{\"type\":\"PreviewSaveTool\",\"id\":\"cfddc6cb-9060-4317-c3fd-e8f55e91995a\"},{\"type\":\"ResizeTool\",\"id\":\"6e5bc643-67f2-4650-c691-0c22bfc8d0c7\"},{\"type\":\"ResetTool\",\"id\":\"3400df7f-51c9-4237-c26a-313306e5833c\"}],\"doc\":null,\"right\":[],\"title\":\"Solve Percentages On Random Scrambles\",\"extra_x_ranges\":{},\"left\":[{\"type\":\"LinearAxis\",\"id\":\"857f6605-c7db-42d8-c2a4-106d1e1cf705\"}],\"y_range\":{\"type\":\"DataRange1d\",\"id\":\"0dfbfb7e-3a19-45ac-c541-4494c15d8b14\"},\"id\":\"6c4d2cb8-7353-4110-c165-33a85a820b8a\",\"extra_y_ranges\":{},\"tags\":[]}}];\n",
       "  Bokeh.load_models(all_models);\n",
       "  var model = Bokeh.Collections(modeltype).get(modelid);\n",
       "  $(\"#825a12fb-f61b-476c-c719-7814249767ff\").html(''); // clear any previous plot in window_id\n",
       "  var view = new model.default_view({model: model, el: \"#825a12fb-f61b-476c-c719-7814249767ff\"});\n",
       "    } else {\n",
       "  load_lib(bokehjs_url, function() {\n",
       "      console.log(\"Bokeh: BokehJS plotting callback run at\", new Date())\n",
       "      var modelid = \"6c4d2cb8-7353-4110-c165-33a85a820b8a\";\n",
       "      var modeltype = \"Plot\";\n",
       "      var all_models = [{\"id\":\"521e3de1-c9db-4fd2-cfe6-9972a994c6e8\",\"type\":\"ColumnDataSource\",\"attributes\":{\"data\":{\"y\":[100,100,79.23,55.23,35.04,21.81,12.86,8.36,4.64,2.99,1.68,0.97,0.57,0.34,0.13,0.11,0.03,0.03,0.02,0.01,0.02,0.01,0,0,0,0],\"x\":[1,2,3,4,5,6,7,8,9,10,11,12,13,14,15,16,17,18,19,20,21,22,23,24,25,26]},\"column_names\":[\"y\",\"x\"],\"cont_ranges\":{},\"discrete_ranges\":{},\"selected\":[],\"id\":\"521e3de1-c9db-4fd2-cfe6-9972a994c6e8\",\"doc\":null,\"tags\":[]}},{\"id\":\"8c88004d-bcb8-4b55-cb4c-4c4f00751d6c\",\"type\":\"Line\",\"attributes\":{\"fill_alpha\":{\"units\":\"data\",\"value\":0.2},\"line_alpha\":{\"units\":\"data\",\"value\":1},\"doc\":null,\"size\":{\"units\":\"screen\",\"value\":10},\"fill_color\":{\"value\":\"red\"},\"line_color\":{\"value\":\"red\"},\"x\":{\"units\":\"data\",\"field\":\"x\"},\"id\":\"8c88004d-bcb8-4b55-cb4c-4c4f00751d6c\",\"y\":{\"units\":\"data\",\"field\":\"y\"},\"tags\":[]}},{\"id\":\"cd96aae3-103d-44fc-c401-f6d66cafe264\",\"type\":\"Line\",\"attributes\":{\"fill_alpha\":{\"units\":\"data\",\"value\":0.2},\"line_alpha\":{\"units\":\"data\",\"value\":1},\"doc\":null,\"size\":{\"units\":\"screen\",\"value\":10},\"fill_color\":{\"value\":\"red\"},\"line_color\":{\"value\":\"red\"},\"x\":{\"units\":\"data\",\"field\":\"x\"},\"id\":\"cd96aae3-103d-44fc-c401-f6d66cafe264\",\"y\":{\"units\":\"data\",\"field\":\"y\"},\"tags\":[]}},{\"id\":\"ba8838a8-5f12-411f-c1ee-476fe71f6ae9\",\"type\":\"GlyphRenderer\",\"attributes\":{\"name\":null,\"nonselection_glyph\":{\"type\":\"Line\",\"id\":\"cd96aae3-103d-44fc-c401-f6d66cafe264\"},\"doc\":null,\"server_data_source\":null,\"data_source\":{\"type\":\"ColumnDataSource\",\"id\":\"521e3de1-c9db-4fd2-cfe6-9972a994c6e8\"},\"glyph\":{\"type\":\"Line\",\"id\":\"8c88004d-bcb8-4b55-cb4c-4c4f00751d6c\"},\"selection_glyph\":null,\"id\":\"ba8838a8-5f12-411f-c1ee-476fe71f6ae9\",\"tags\":[]}},{\"id\":\"cd02371a-0cae-4382-c35c-74991a1cfb73\",\"type\":\"ColumnDataSource\",\"attributes\":{\"data\":{\"y\":[100,100,100,82.07,57.08,39.96,24.84,16.75,10.45,6.32,3.63,2.35,1.63,0.72,0.43,0.31,0.25,0.21,0.09,0.06,0.01,0,0,0.01,0,0],\"x\":[1,2,3,4,5,6,7,8,9,10,11,12,13,14,15,16,17,18,19,20,21,22,23,24,25,26]},\"column_names\":[\"y\",\"x\"],\"cont_ranges\":{},\"discrete_ranges\":{},\"selected\":[],\"id\":\"cd02371a-0cae-4382-c35c-74991a1cfb73\",\"doc\":null,\"tags\":[]}},{\"id\":\"c3695698-debd-4c25-cc13-ca065cf2fb5e\",\"type\":\"Line\",\"attributes\":{\"fill_alpha\":{\"units\":\"data\",\"value\":0.2},\"line_alpha\":{\"units\":\"data\",\"value\":1},\"doc\":null,\"size\":{\"units\":\"screen\",\"value\":10},\"fill_color\":{\"value\":\"orange\"},\"line_color\":{\"value\":\"orange\"},\"x\":{\"units\":\"data\",\"field\":\"x\"},\"id\":\"c3695698-debd-4c25-cc13-ca065cf2fb5e\",\"y\":{\"units\":\"data\",\"field\":\"y\"},\"tags\":[]}},{\"id\":\"affae9af-3900-4608-c6fd-d70a37da5dbd\",\"type\":\"Line\",\"attributes\":{\"fill_alpha\":{\"units\":\"data\",\"value\":0.2},\"line_alpha\":{\"units\":\"data\",\"value\":1},\"doc\":null,\"size\":{\"units\":\"screen\",\"value\":10},\"fill_color\":{\"value\":\"orange\"},\"line_color\":{\"value\":\"orange\"},\"x\":{\"units\":\"data\",\"field\":\"x\"},\"id\":\"affae9af-3900-4608-c6fd-d70a37da5dbd\",\"y\":{\"units\":\"data\",\"field\":\"y\"},\"tags\":[]}},{\"id\":\"038cf6ff-2ba8-414c-c135-d31353e807a8\",\"type\":\"GlyphRenderer\",\"attributes\":{\"name\":null,\"nonselection_glyph\":{\"type\":\"Line\",\"id\":\"affae9af-3900-4608-c6fd-d70a37da5dbd\"},\"doc\":null,\"server_data_source\":null,\"data_source\":{\"type\":\"ColumnDataSource\",\"id\":\"cd02371a-0cae-4382-c35c-74991a1cfb73\"},\"glyph\":{\"type\":\"Line\",\"id\":\"c3695698-debd-4c25-cc13-ca065cf2fb5e\"},\"selection_glyph\":null,\"id\":\"038cf6ff-2ba8-414c-c135-d31353e807a8\",\"tags\":[]}},{\"id\":\"4229ca69-01e8-49d5-c9ec-c27aae772468\",\"type\":\"ColumnDataSource\",\"attributes\":{\"data\":{\"y\":[100,100,100,99.66,77.47,55.59,38.41,24.32,15.69,9.38,6.34,3.97,2.19,1.73,0.77,0.48,0.29,0.23,0.11,0.07,0.03,0.01,0.02,0.01,0,0],\"x\":[1,2,3,4,5,6,7,8,9,10,11,12,13,14,15,16,17,18,19,20,21,22,23,24,25,26]},\"column_names\":[\"y\",\"x\"],\"cont_ranges\":{},\"discrete_ranges\":{},\"selected\":[],\"id\":\"4229ca69-01e8-49d5-c9ec-c27aae772468\",\"doc\":null,\"tags\":[]}},{\"id\":\"b2810013-6307-4818-c811-4501971cdd96\",\"type\":\"Line\",\"attributes\":{\"fill_alpha\":{\"units\":\"data\",\"value\":0.2},\"line_alpha\":{\"units\":\"data\",\"value\":1},\"doc\":null,\"size\":{\"units\":\"screen\",\"value\":10},\"fill_color\":{\"value\":\"yellow\"},\"line_color\":{\"value\":\"yellow\"},\"x\":{\"units\":\"data\",\"field\":\"x\"},\"id\":\"b2810013-6307-4818-c811-4501971cdd96\",\"y\":{\"units\":\"data\",\"field\":\"y\"},\"tags\":[]}},{\"id\":\"d6793c57-f34b-4a09-ca35-9d64fad174d9\",\"type\":\"Line\",\"attributes\":{\"fill_alpha\":{\"units\":\"data\",\"value\":0.2},\"line_alpha\":{\"units\":\"data\",\"value\":1},\"doc\":null,\"size\":{\"units\":\"screen\",\"value\":10},\"fill_color\":{\"value\":\"yellow\"},\"line_color\":{\"value\":\"yellow\"},\"x\":{\"units\":\"data\",\"field\":\"x\"},\"id\":\"d6793c57-f34b-4a09-ca35-9d64fad174d9\",\"y\":{\"units\":\"data\",\"field\":\"y\"},\"tags\":[]}},{\"id\":\"95f8c9b8-6f4f-4452-c401-638c46466ddd\",\"type\":\"GlyphRenderer\",\"attributes\":{\"name\":null,\"nonselection_glyph\":{\"type\":\"Line\",\"id\":\"d6793c57-f34b-4a09-ca35-9d64fad174d9\"},\"doc\":null,\"server_data_source\":null,\"data_source\":{\"type\":\"ColumnDataSource\",\"id\":\"4229ca69-01e8-49d5-c9ec-c27aae772468\"},\"glyph\":{\"type\":\"Line\",\"id\":\"b2810013-6307-4818-c811-4501971cdd96\"},\"selection_glyph\":null,\"id\":\"95f8c9b8-6f4f-4452-c401-638c46466ddd\",\"tags\":[]}},{\"id\":\"d2c96562-e781-4fb3-cf0c-cab3ab10fd3b\",\"type\":\"ColumnDataSource\",\"attributes\":{\"data\":{\"y\":[100,100,100,99.22,93.57,71.62,51.51,37.06,24.65,16.1,9.71,6.2,4.02,2.73,1.29,0.99,0.68,0.33,0.1,0.1,0.08,0.06,0.05,0.04,0.02,0.01],\"x\":[1,2,3,4,5,6,7,8,9,10,11,12,13,14,15,16,17,18,19,20,21,22,23,24,25,26]},\"column_names\":[\"y\",\"x\"],\"cont_ranges\":{},\"discrete_ranges\":{},\"selected\":[],\"id\":\"d2c96562-e781-4fb3-cf0c-cab3ab10fd3b\",\"doc\":null,\"tags\":[]}},{\"id\":\"41f7443f-7a38-4d11-cd6c-ea0d9f43b95d\",\"type\":\"Line\",\"attributes\":{\"fill_alpha\":{\"units\":\"data\",\"value\":0.2},\"line_alpha\":{\"units\":\"data\",\"value\":1},\"doc\":null,\"size\":{\"units\":\"screen\",\"value\":10},\"fill_color\":{\"value\":\"green\"},\"line_color\":{\"value\":\"green\"},\"x\":{\"units\":\"data\",\"field\":\"x\"},\"id\":\"41f7443f-7a38-4d11-cd6c-ea0d9f43b95d\",\"y\":{\"units\":\"data\",\"field\":\"y\"},\"tags\":[]}},{\"id\":\"9a83d2e2-7a8d-4f32-cf58-c0acdba2e19e\",\"type\":\"Line\",\"attributes\":{\"fill_alpha\":{\"units\":\"data\",\"value\":0.2},\"line_alpha\":{\"units\":\"data\",\"value\":1},\"doc\":null,\"size\":{\"units\":\"screen\",\"value\":10},\"fill_color\":{\"value\":\"green\"},\"line_color\":{\"value\":\"green\"},\"x\":{\"units\":\"data\",\"field\":\"x\"},\"id\":\"9a83d2e2-7a8d-4f32-cf58-c0acdba2e19e\",\"y\":{\"units\":\"data\",\"field\":\"y\"},\"tags\":[]}},{\"id\":\"a8a30ef4-7caf-4795-c7ad-6196a2b3027c\",\"type\":\"GlyphRenderer\",\"attributes\":{\"name\":null,\"nonselection_glyph\":{\"type\":\"Line\",\"id\":\"9a83d2e2-7a8d-4f32-cf58-c0acdba2e19e\"},\"doc\":null,\"server_data_source\":null,\"data_source\":{\"type\":\"ColumnDataSource\",\"id\":\"d2c96562-e781-4fb3-cf0c-cab3ab10fd3b\"},\"glyph\":{\"type\":\"Line\",\"id\":\"41f7443f-7a38-4d11-cd6c-ea0d9f43b95d\"},\"selection_glyph\":null,\"id\":\"a8a30ef4-7caf-4795-c7ad-6196a2b3027c\",\"tags\":[]}},{\"id\":\"a1b01d92-d3d4-4525-c556-3e770152a0d5\",\"type\":\"ColumnDataSource\",\"attributes\":{\"data\":{\"y\":[100,100,100,99.3,95.07,83.17,63.88,47.28,32.55,22.27,14.65,9.65,6.09,3.85,2.46,1.46,0.94,0.67,0.35,0.25,0.21,0.1,0.09,0.03,0.02,0.01],\"x\":[1,2,3,4,5,6,7,8,9,10,11,12,13,14,15,16,17,18,19,20,21,22,23,24,25,26]},\"column_names\":[\"y\",\"x\"],\"cont_ranges\":{},\"discrete_ranges\":{},\"selected\":[],\"id\":\"a1b01d92-d3d4-4525-c556-3e770152a0d5\",\"doc\":null,\"tags\":[]}},{\"id\":\"f77b8998-58b3-4761-c78b-1d1b561606a7\",\"type\":\"Line\",\"attributes\":{\"fill_alpha\":{\"units\":\"data\",\"value\":0.2},\"line_alpha\":{\"units\":\"data\",\"value\":1},\"doc\":null,\"size\":{\"units\":\"screen\",\"value\":10},\"fill_color\":{\"value\":\"blue\"},\"line_color\":{\"value\":\"blue\"},\"x\":{\"units\":\"data\",\"field\":\"x\"},\"id\":\"f77b8998-58b3-4761-c78b-1d1b561606a7\",\"y\":{\"units\":\"data\",\"field\":\"y\"},\"tags\":[]}},{\"id\":\"d6bd2f10-6429-4f2e-cf2f-da34f45564db\",\"type\":\"Line\",\"attributes\":{\"fill_alpha\":{\"units\":\"data\",\"value\":0.2},\"line_alpha\":{\"units\":\"data\",\"value\":1},\"doc\":null,\"size\":{\"units\":\"screen\",\"value\":10},\"fill_color\":{\"value\":\"blue\"},\"line_color\":{\"value\":\"blue\"},\"x\":{\"units\":\"data\",\"field\":\"x\"},\"id\":\"d6bd2f10-6429-4f2e-cf2f-da34f45564db\",\"y\":{\"units\":\"data\",\"field\":\"y\"},\"tags\":[]}},{\"id\":\"2e0ed964-c4d1-499c-c9b6-caa662a22cb6\",\"type\":\"GlyphRenderer\",\"attributes\":{\"name\":null,\"nonselection_glyph\":{\"type\":\"Line\",\"id\":\"d6bd2f10-6429-4f2e-cf2f-da34f45564db\"},\"doc\":null,\"server_data_source\":null,\"data_source\":{\"type\":\"ColumnDataSource\",\"id\":\"a1b01d92-d3d4-4525-c556-3e770152a0d5\"},\"glyph\":{\"type\":\"Line\",\"id\":\"f77b8998-58b3-4761-c78b-1d1b561606a7\"},\"selection_glyph\":null,\"id\":\"2e0ed964-c4d1-499c-c9b6-caa662a22cb6\",\"tags\":[]}},{\"id\":\"5fe84d0e-69dd-4310-c34e-d6277bc11087\",\"type\":\"ColumnDataSource\",\"attributes\":{\"data\":{\"y\":[100,100,100,99.6,96.02,85.35,69.52,53.55,38.57,27.1,18.16,12.48,8.4,4.89,3.15,2.19,1.21,1.02,0.59,0.42,0.22,0.12,0.11,0.07,0,0],\"x\":[1,2,3,4,5,6,7,8,9,10,11,12,13,14,15,16,17,18,19,20,21,22,23,24,25,26]},\"column_names\":[\"y\",\"x\"],\"cont_ranges\":{},\"discrete_ranges\":{},\"selected\":[],\"id\":\"5fe84d0e-69dd-4310-c34e-d6277bc11087\",\"doc\":null,\"tags\":[]}},{\"id\":\"f8fb441e-3b73-47da-c7e2-d6fab99ced77\",\"type\":\"Line\",\"attributes\":{\"fill_alpha\":{\"units\":\"data\",\"value\":0.2},\"line_alpha\":{\"units\":\"data\",\"value\":1},\"doc\":null,\"size\":{\"units\":\"screen\",\"value\":10},\"fill_color\":{\"value\":\"purple\"},\"line_color\":{\"value\":\"purple\"},\"x\":{\"units\":\"data\",\"field\":\"x\"},\"id\":\"f8fb441e-3b73-47da-c7e2-d6fab99ced77\",\"y\":{\"units\":\"data\",\"field\":\"y\"},\"tags\":[]}},{\"id\":\"620d3be2-2d2b-4f45-cf76-8b95f7c2608a\",\"type\":\"Line\",\"attributes\":{\"fill_alpha\":{\"units\":\"data\",\"value\":0.2},\"line_alpha\":{\"units\":\"data\",\"value\":1},\"doc\":null,\"size\":{\"units\":\"screen\",\"value\":10},\"fill_color\":{\"value\":\"purple\"},\"line_color\":{\"value\":\"purple\"},\"x\":{\"units\":\"data\",\"field\":\"x\"},\"id\":\"620d3be2-2d2b-4f45-cf76-8b95f7c2608a\",\"y\":{\"units\":\"data\",\"field\":\"y\"},\"tags\":[]}},{\"id\":\"a1efa204-07e2-4912-c9ff-dbfcf2b6e694\",\"type\":\"GlyphRenderer\",\"attributes\":{\"name\":null,\"nonselection_glyph\":{\"type\":\"Line\",\"id\":\"620d3be2-2d2b-4f45-cf76-8b95f7c2608a\"},\"doc\":null,\"server_data_source\":null,\"data_source\":{\"type\":\"ColumnDataSource\",\"id\":\"5fe84d0e-69dd-4310-c34e-d6277bc11087\"},\"glyph\":{\"type\":\"Line\",\"id\":\"f8fb441e-3b73-47da-c7e2-d6fab99ced77\"},\"selection_glyph\":null,\"id\":\"a1efa204-07e2-4912-c9ff-dbfcf2b6e694\",\"tags\":[]}},{\"id\":\"8b746a83-0d4e-4060-c07f-bca6d516a1ff\",\"type\":\"ColumnDataSource\",\"attributes\":{\"data\":{\"y\":[100,100,100,99.62,96.1,87.05,72.05,55.55,41.31,29.7,20.7,13.75,9.1,6.25,4.07,2.47,1.61,1.07,0.49,0.45,0.31,0.27,0.11,0.08,0.07,0.03],\"x\":[1,2,3,4,5,6,7,8,9,10,11,12,13,14,15,16,17,18,19,20,21,22,23,24,25,26]},\"column_names\":[\"y\",\"x\"],\"cont_ranges\":{},\"discrete_ranges\":{},\"selected\":[],\"id\":\"8b746a83-0d4e-4060-c07f-bca6d516a1ff\",\"doc\":null,\"tags\":[]}},{\"id\":\"5a6505d1-955d-452e-c553-e6bbe05ca689\",\"type\":\"Line\",\"attributes\":{\"fill_alpha\":{\"units\":\"data\",\"value\":0.2},\"line_alpha\":{\"units\":\"data\",\"value\":1},\"doc\":null,\"size\":{\"units\":\"screen\",\"value\":10},\"fill_color\":{\"value\":\"pink\"},\"line_color\":{\"value\":\"pink\"},\"x\":{\"units\":\"data\",\"field\":\"x\"},\"id\":\"5a6505d1-955d-452e-c553-e6bbe05ca689\",\"y\":{\"units\":\"data\",\"field\":\"y\"},\"tags\":[]}},{\"id\":\"44ef4baf-dfee-4b59-cb1a-cf0f17c89f0f\",\"type\":\"Line\",\"attributes\":{\"fill_alpha\":{\"units\":\"data\",\"value\":0.2},\"line_alpha\":{\"units\":\"data\",\"value\":1},\"doc\":null,\"size\":{\"units\":\"screen\",\"value\":10},\"fill_color\":{\"value\":\"pink\"},\"line_color\":{\"value\":\"pink\"},\"x\":{\"units\":\"data\",\"field\":\"x\"},\"id\":\"44ef4baf-dfee-4b59-cb1a-cf0f17c89f0f\",\"y\":{\"units\":\"data\",\"field\":\"y\"},\"tags\":[]}},{\"id\":\"b3027bd6-4513-4a3f-ca27-b8c9698de598\",\"type\":\"GlyphRenderer\",\"attributes\":{\"name\":null,\"nonselection_glyph\":{\"type\":\"Line\",\"id\":\"44ef4baf-dfee-4b59-cb1a-cf0f17c89f0f\"},\"doc\":null,\"server_data_source\":null,\"data_source\":{\"type\":\"ColumnDataSource\",\"id\":\"8b746a83-0d4e-4060-c07f-bca6d516a1ff\"},\"glyph\":{\"type\":\"Line\",\"id\":\"5a6505d1-955d-452e-c553-e6bbe05ca689\"},\"selection_glyph\":null,\"id\":\"b3027bd6-4513-4a3f-ca27-b8c9698de598\",\"tags\":[]}},{\"id\":\"574cb259-25b6-457d-c557-2302fcbb2e92\",\"type\":\"ColumnDataSource\",\"attributes\":{\"data\":{\"y\":[100,100,100,99.74,96.12,87.6,71.87,58,42.21,31.18,20.96,15.03,9.83,6.61,4.23,2.9,1.87,1.06,0.76,0.39,0.31,0.18,0.14,0.06,0.05,0.01],\"x\":[1,2,3,4,5,6,7,8,9,10,11,12,13,14,15,16,17,18,19,20,21,22,23,24,25,26]},\"column_names\":[\"y\",\"x\"],\"cont_ranges\":{},\"discrete_ranges\":{},\"selected\":[],\"id\":\"574cb259-25b6-457d-c557-2302fcbb2e92\",\"doc\":null,\"tags\":[]}},{\"id\":\"db2c8118-6f72-4b6c-cb33-2d3e65ba2cb2\",\"type\":\"Line\",\"attributes\":{\"fill_alpha\":{\"units\":\"data\",\"value\":0.2},\"line_alpha\":{\"units\":\"data\",\"value\":1},\"doc\":null,\"size\":{\"units\":\"screen\",\"value\":10},\"fill_color\":{\"value\":\"gray\"},\"line_color\":{\"value\":\"gray\"},\"x\":{\"units\":\"data\",\"field\":\"x\"},\"id\":\"db2c8118-6f72-4b6c-cb33-2d3e65ba2cb2\",\"y\":{\"units\":\"data\",\"field\":\"y\"},\"tags\":[]}},{\"id\":\"8b68100f-0fd3-4400-c43f-8eb511c8153a\",\"type\":\"Line\",\"attributes\":{\"fill_alpha\":{\"units\":\"data\",\"value\":0.2},\"line_alpha\":{\"units\":\"data\",\"value\":1},\"doc\":null,\"size\":{\"units\":\"screen\",\"value\":10},\"fill_color\":{\"value\":\"gray\"},\"line_color\":{\"value\":\"gray\"},\"x\":{\"units\":\"data\",\"field\":\"x\"},\"id\":\"8b68100f-0fd3-4400-c43f-8eb511c8153a\",\"y\":{\"units\":\"data\",\"field\":\"y\"},\"tags\":[]}},{\"id\":\"20905c53-4614-4a88-ca7d-84b898051211\",\"type\":\"GlyphRenderer\",\"attributes\":{\"name\":null,\"nonselection_glyph\":{\"type\":\"Line\",\"id\":\"8b68100f-0fd3-4400-c43f-8eb511c8153a\"},\"doc\":null,\"server_data_source\":null,\"data_source\":{\"type\":\"ColumnDataSource\",\"id\":\"574cb259-25b6-457d-c557-2302fcbb2e92\"},\"glyph\":{\"type\":\"Line\",\"id\":\"db2c8118-6f72-4b6c-cb33-2d3e65ba2cb2\"},\"selection_glyph\":null,\"id\":\"20905c53-4614-4a88-ca7d-84b898051211\",\"tags\":[]}},{\"id\":\"088f0318-5f28-47bf-c7a3-21282b3c1767\",\"type\":\"ColumnDataSource\",\"attributes\":{\"data\":{\"y\":[100,100,100,99.62,95.69,85.71,72.56,55.59,43.09,31.86,22.22,14.79,10.8,6.71,4.67,3.01,2.1,1.18,0.96,0.53,0.32,0.22,0.11,0.1,0.07,0.06],\"x\":[1,2,3,4,5,6,7,8,9,10,11,12,13,14,15,16,17,18,19,20,21,22,23,24,25,26]},\"column_names\":[\"y\",\"x\"],\"cont_ranges\":{},\"discrete_ranges\":{},\"selected\":[],\"id\":\"088f0318-5f28-47bf-c7a3-21282b3c1767\",\"doc\":null,\"tags\":[]}},{\"id\":\"afd207f6-5fef-49ee-c931-801654a09e75\",\"type\":\"Line\",\"attributes\":{\"fill_alpha\":{\"units\":\"data\",\"value\":0.2},\"line_alpha\":{\"units\":\"data\",\"value\":1},\"doc\":null,\"size\":{\"units\":\"screen\",\"value\":10},\"fill_color\":{\"value\":\"black\"},\"line_color\":{\"value\":\"black\"},\"x\":{\"units\":\"data\",\"field\":\"x\"},\"id\":\"afd207f6-5fef-49ee-c931-801654a09e75\",\"y\":{\"units\":\"data\",\"field\":\"y\"},\"tags\":[]}},{\"id\":\"a2ce4f98-354f-47bd-c7ea-27a81d2f5ff4\",\"type\":\"Line\",\"attributes\":{\"fill_alpha\":{\"units\":\"data\",\"value\":0.2},\"line_alpha\":{\"units\":\"data\",\"value\":1},\"doc\":null,\"size\":{\"units\":\"screen\",\"value\":10},\"fill_color\":{\"value\":\"black\"},\"line_color\":{\"value\":\"black\"},\"x\":{\"units\":\"data\",\"field\":\"x\"},\"id\":\"a2ce4f98-354f-47bd-c7ea-27a81d2f5ff4\",\"y\":{\"units\":\"data\",\"field\":\"y\"},\"tags\":[]}},{\"id\":\"5885a1a8-0f52-476e-c786-122cfc3a799e\",\"type\":\"GlyphRenderer\",\"attributes\":{\"name\":null,\"nonselection_glyph\":{\"type\":\"Line\",\"id\":\"a2ce4f98-354f-47bd-c7ea-27a81d2f5ff4\"},\"doc\":null,\"server_data_source\":null,\"data_source\":{\"type\":\"ColumnDataSource\",\"id\":\"088f0318-5f28-47bf-c7a3-21282b3c1767\"},\"glyph\":{\"type\":\"Line\",\"id\":\"afd207f6-5fef-49ee-c931-801654a09e75\"},\"selection_glyph\":null,\"id\":\"5885a1a8-0f52-476e-c786-122cfc3a799e\",\"tags\":[]}},{\"id\":\"ab505dbf-dc04-4918-c927-21544c2e6e1c\",\"type\":\"DataRange1d\",\"attributes\":{\"sources\":[{\"columns\":[\"x\"],\"source\":{\"type\":\"ColumnDataSource\",\"id\":\"521e3de1-c9db-4fd2-cfe6-9972a994c6e8\"}},{\"columns\":[\"x\"],\"source\":{\"type\":\"ColumnDataSource\",\"id\":\"cd02371a-0cae-4382-c35c-74991a1cfb73\"}},{\"columns\":[\"x\"],\"source\":{\"type\":\"ColumnDataSource\",\"id\":\"4229ca69-01e8-49d5-c9ec-c27aae772468\"}},{\"columns\":[\"x\"],\"source\":{\"type\":\"ColumnDataSource\",\"id\":\"d2c96562-e781-4fb3-cf0c-cab3ab10fd3b\"}},{\"columns\":[\"x\"],\"source\":{\"type\":\"ColumnDataSource\",\"id\":\"a1b01d92-d3d4-4525-c556-3e770152a0d5\"}},{\"columns\":[\"x\"],\"source\":{\"type\":\"ColumnDataSource\",\"id\":\"5fe84d0e-69dd-4310-c34e-d6277bc11087\"}},{\"columns\":[\"x\"],\"source\":{\"type\":\"ColumnDataSource\",\"id\":\"8b746a83-0d4e-4060-c07f-bca6d516a1ff\"}},{\"columns\":[\"x\"],\"source\":{\"type\":\"ColumnDataSource\",\"id\":\"574cb259-25b6-457d-c557-2302fcbb2e92\"}},{\"columns\":[\"x\"],\"source\":{\"type\":\"ColumnDataSource\",\"id\":\"088f0318-5f28-47bf-c7a3-21282b3c1767\"}}],\"id\":\"ab505dbf-dc04-4918-c927-21544c2e6e1c\",\"tags\":[],\"doc\":null}},{\"id\":\"0dfbfb7e-3a19-45ac-c541-4494c15d8b14\",\"type\":\"DataRange1d\",\"attributes\":{\"sources\":[{\"columns\":[\"y\"],\"source\":{\"type\":\"ColumnDataSource\",\"id\":\"521e3de1-c9db-4fd2-cfe6-9972a994c6e8\"}},{\"columns\":[\"y\"],\"source\":{\"type\":\"ColumnDataSource\",\"id\":\"cd02371a-0cae-4382-c35c-74991a1cfb73\"}},{\"columns\":[\"y\"],\"source\":{\"type\":\"ColumnDataSource\",\"id\":\"4229ca69-01e8-49d5-c9ec-c27aae772468\"}},{\"columns\":[\"y\"],\"source\":{\"type\":\"ColumnDataSource\",\"id\":\"d2c96562-e781-4fb3-cf0c-cab3ab10fd3b\"}},{\"columns\":[\"y\"],\"source\":{\"type\":\"ColumnDataSource\",\"id\":\"a1b01d92-d3d4-4525-c556-3e770152a0d5\"}},{\"columns\":[\"y\"],\"source\":{\"type\":\"ColumnDataSource\",\"id\":\"5fe84d0e-69dd-4310-c34e-d6277bc11087\"}},{\"columns\":[\"y\"],\"source\":{\"type\":\"ColumnDataSource\",\"id\":\"8b746a83-0d4e-4060-c07f-bca6d516a1ff\"}},{\"columns\":[\"y\"],\"source\":{\"type\":\"ColumnDataSource\",\"id\":\"574cb259-25b6-457d-c557-2302fcbb2e92\"}},{\"columns\":[\"y\"],\"source\":{\"type\":\"ColumnDataSource\",\"id\":\"088f0318-5f28-47bf-c7a3-21282b3c1767\"}}],\"id\":\"0dfbfb7e-3a19-45ac-c541-4494c15d8b14\",\"tags\":[],\"doc\":null}},{\"id\":\"bcaf01a3-f410-45b6-c54c-8390123e87a4\",\"type\":\"ToolEvents\",\"attributes\":{\"tags\":[],\"id\":\"bcaf01a3-f410-45b6-c54c-8390123e87a4\",\"geometries\":[],\"doc\":null}},{\"id\":\"10a7b924-b6b5-4340-c332-92e50abbc041\",\"type\":\"BasicTickFormatter\",\"attributes\":{\"id\":\"10a7b924-b6b5-4340-c332-92e50abbc041\",\"tags\":[],\"doc\":null}},{\"id\":\"097a8f0e-ff4b-4541-c5aa-19c81514ea0d\",\"type\":\"BasicTicker\",\"attributes\":{\"num_minor_ticks\":5,\"id\":\"097a8f0e-ff4b-4541-c5aa-19c81514ea0d\",\"tags\":[],\"doc\":null}},{\"id\":\"b939cc00-c750-4fa1-cfeb-1a9b68e4a535\",\"type\":\"LinearAxis\",\"attributes\":{\"formatter\":{\"type\":\"BasicTickFormatter\",\"id\":\"10a7b924-b6b5-4340-c332-92e50abbc041\"},\"ticker\":{\"type\":\"BasicTicker\",\"id\":\"097a8f0e-ff4b-4541-c5aa-19c81514ea0d\"},\"plot\":{\"id\":\"6c4d2cb8-7353-4110-c165-33a85a820b8a\",\"type\":\"Plot\",\"subtype\":\"Figure\"},\"axis_label\":\"Scramble Length\",\"id\":\"b939cc00-c750-4fa1-cfeb-1a9b68e4a535\",\"doc\":null,\"tags\":[]}},{\"id\":\"e00e4214-37f2-494e-c9f1-b37479082941\",\"type\":\"Grid\",\"attributes\":{\"dimension\":0,\"plot\":{\"id\":\"6c4d2cb8-7353-4110-c165-33a85a820b8a\",\"type\":\"Plot\",\"subtype\":\"Figure\"},\"ticker\":{\"type\":\"BasicTicker\",\"id\":\"097a8f0e-ff4b-4541-c5aa-19c81514ea0d\"},\"id\":\"e00e4214-37f2-494e-c9f1-b37479082941\",\"doc\":null,\"tags\":[]}},{\"id\":\"e5fea5ac-ce5c-460f-c6a5-bb18e937ac78\",\"type\":\"BasicTickFormatter\",\"attributes\":{\"id\":\"e5fea5ac-ce5c-460f-c6a5-bb18e937ac78\",\"tags\":[],\"doc\":null}},{\"id\":\"2efc34d0-62d0-4e4a-ce4f-682112a04426\",\"type\":\"BasicTicker\",\"attributes\":{\"num_minor_ticks\":5,\"id\":\"2efc34d0-62d0-4e4a-ce4f-682112a04426\",\"tags\":[],\"doc\":null}},{\"id\":\"857f6605-c7db-42d8-c2a4-106d1e1cf705\",\"type\":\"LinearAxis\",\"attributes\":{\"formatter\":{\"type\":\"BasicTickFormatter\",\"id\":\"e5fea5ac-ce5c-460f-c6a5-bb18e937ac78\"},\"ticker\":{\"type\":\"BasicTicker\",\"id\":\"2efc34d0-62d0-4e4a-ce4f-682112a04426\"},\"plot\":{\"id\":\"6c4d2cb8-7353-4110-c165-33a85a820b8a\",\"type\":\"Plot\",\"subtype\":\"Figure\"},\"axis_label\":\"Solve Percentage\",\"id\":\"857f6605-c7db-42d8-c2a4-106d1e1cf705\",\"doc\":null,\"tags\":[]}},{\"id\":\"93e2b222-8a85-4516-c516-c22138dc3c57\",\"type\":\"Grid\",\"attributes\":{\"dimension\":1,\"plot\":{\"id\":\"6c4d2cb8-7353-4110-c165-33a85a820b8a\",\"type\":\"Plot\",\"subtype\":\"Figure\"},\"ticker\":{\"type\":\"BasicTicker\",\"id\":\"2efc34d0-62d0-4e4a-ce4f-682112a04426\"},\"id\":\"93e2b222-8a85-4516-c516-c22138dc3c57\",\"doc\":null,\"tags\":[]}},{\"id\":\"79e63ca9-9f7b-4008-c04f-522204333f60\",\"type\":\"PanTool\",\"attributes\":{\"plot\":{\"id\":\"6c4d2cb8-7353-4110-c165-33a85a820b8a\",\"type\":\"Plot\",\"subtype\":\"Figure\"},\"dimensions\":[\"width\",\"height\"],\"id\":\"79e63ca9-9f7b-4008-c04f-522204333f60\",\"doc\":null,\"tags\":[]}},{\"id\":\"8d59473f-a539-4764-c755-7f3c9e6c25ea\",\"type\":\"WheelZoomTool\",\"attributes\":{\"plot\":{\"id\":\"6c4d2cb8-7353-4110-c165-33a85a820b8a\",\"type\":\"Plot\",\"subtype\":\"Figure\"},\"dimensions\":[\"width\",\"height\"],\"id\":\"8d59473f-a539-4764-c755-7f3c9e6c25ea\",\"doc\":null,\"tags\":[]}},{\"id\":\"d9515054-3c5f-41e2-c16c-66c7cf43a72d\",\"type\":\"BoxZoomTool\",\"attributes\":{\"plot\":{\"id\":\"6c4d2cb8-7353-4110-c165-33a85a820b8a\",\"type\":\"Plot\",\"subtype\":\"Figure\"},\"id\":\"d9515054-3c5f-41e2-c16c-66c7cf43a72d\",\"tags\":[],\"doc\":null}},{\"id\":\"cfddc6cb-9060-4317-c3fd-e8f55e91995a\",\"type\":\"PreviewSaveTool\",\"attributes\":{\"plot\":{\"id\":\"6c4d2cb8-7353-4110-c165-33a85a820b8a\",\"type\":\"Plot\",\"subtype\":\"Figure\"},\"id\":\"cfddc6cb-9060-4317-c3fd-e8f55e91995a\",\"tags\":[],\"doc\":null}},{\"id\":\"6e5bc643-67f2-4650-c691-0c22bfc8d0c7\",\"type\":\"ResizeTool\",\"attributes\":{\"plot\":{\"id\":\"6c4d2cb8-7353-4110-c165-33a85a820b8a\",\"type\":\"Plot\",\"subtype\":\"Figure\"},\"id\":\"6e5bc643-67f2-4650-c691-0c22bfc8d0c7\",\"tags\":[],\"doc\":null}},{\"id\":\"3400df7f-51c9-4237-c26a-313306e5833c\",\"type\":\"ResetTool\",\"attributes\":{\"plot\":{\"id\":\"6c4d2cb8-7353-4110-c165-33a85a820b8a\",\"type\":\"Plot\",\"subtype\":\"Figure\"},\"id\":\"3400df7f-51c9-4237-c26a-313306e5833c\",\"tags\":[],\"doc\":null}},{\"id\":\"c87097b7-98ab-4adc-ca08-314062534dd2\",\"type\":\"Legend\",\"attributes\":{\"plot\":{\"id\":\"6c4d2cb8-7353-4110-c165-33a85a820b8a\",\"type\":\"Plot\",\"subtype\":\"Figure\"},\"legends\":[[\"LSTM (2)\",[{\"type\":\"GlyphRenderer\",\"id\":\"ba8838a8-5f12-411f-c1ee-476fe71f6ae9\"}]],[\"LSTM (3)\",[{\"type\":\"GlyphRenderer\",\"id\":\"038cf6ff-2ba8-414c-c135-d31353e807a8\"}]],[\"LSTM (4)\",[{\"type\":\"GlyphRenderer\",\"id\":\"95f8c9b8-6f4f-4452-c401-638c46466ddd\"}]],[\"LSTM (5)\",[{\"type\":\"GlyphRenderer\",\"id\":\"a8a30ef4-7caf-4795-c7ad-6196a2b3027c\"}]],[\"LSTM (6)\",[{\"type\":\"GlyphRenderer\",\"id\":\"2e0ed964-c4d1-499c-c9b6-caa662a22cb6\"}]],[\"LSTM (7)\",[{\"type\":\"GlyphRenderer\",\"id\":\"a1efa204-07e2-4912-c9ff-dbfcf2b6e694\"}]],[\"LSTM (8)\",[{\"type\":\"GlyphRenderer\",\"id\":\"b3027bd6-4513-4a3f-ca27-b8c9698de598\"}]],[\"LSTM (9)\",[{\"type\":\"GlyphRenderer\",\"id\":\"20905c53-4614-4a88-ca7d-84b898051211\"}]],[\"LSTM (26)\",[{\"type\":\"GlyphRenderer\",\"id\":\"5885a1a8-0f52-476e-c786-122cfc3a799e\"}]]],\"id\":\"c87097b7-98ab-4adc-ca08-314062534dd2\",\"doc\":null,\"tags\":[]}},{\"id\":\"6c4d2cb8-7353-4110-c165-33a85a820b8a\",\"type\":\"Plot\",\"attributes\":{\"x_range\":{\"type\":\"DataRange1d\",\"id\":\"ab505dbf-dc04-4918-c927-21544c2e6e1c\"},\"tool_events\":{\"type\":\"ToolEvents\",\"id\":\"bcaf01a3-f410-45b6-c54c-8390123e87a4\"},\"below\":[{\"type\":\"LinearAxis\",\"id\":\"b939cc00-c750-4fa1-cfeb-1a9b68e4a535\"}],\"renderers\":[{\"type\":\"GlyphRenderer\",\"id\":\"ba8838a8-5f12-411f-c1ee-476fe71f6ae9\"},{\"type\":\"GlyphRenderer\",\"id\":\"038cf6ff-2ba8-414c-c135-d31353e807a8\"},{\"type\":\"GlyphRenderer\",\"id\":\"95f8c9b8-6f4f-4452-c401-638c46466ddd\"},{\"type\":\"GlyphRenderer\",\"id\":\"a8a30ef4-7caf-4795-c7ad-6196a2b3027c\"},{\"type\":\"GlyphRenderer\",\"id\":\"2e0ed964-c4d1-499c-c9b6-caa662a22cb6\"},{\"type\":\"GlyphRenderer\",\"id\":\"a1efa204-07e2-4912-c9ff-dbfcf2b6e694\"},{\"type\":\"GlyphRenderer\",\"id\":\"b3027bd6-4513-4a3f-ca27-b8c9698de598\"},{\"type\":\"GlyphRenderer\",\"id\":\"20905c53-4614-4a88-ca7d-84b898051211\"},{\"type\":\"GlyphRenderer\",\"id\":\"5885a1a8-0f52-476e-c786-122cfc3a799e\"},{\"type\":\"LinearAxis\",\"id\":\"b939cc00-c750-4fa1-cfeb-1a9b68e4a535\"},{\"type\":\"Grid\",\"id\":\"e00e4214-37f2-494e-c9f1-b37479082941\"},{\"type\":\"LinearAxis\",\"id\":\"857f6605-c7db-42d8-c2a4-106d1e1cf705\"},{\"type\":\"Grid\",\"id\":\"93e2b222-8a85-4516-c516-c22138dc3c57\"},{\"type\":\"Legend\",\"id\":\"c87097b7-98ab-4adc-ca08-314062534dd2\"}],\"above\":[],\"tools\":[{\"type\":\"PanTool\",\"id\":\"79e63ca9-9f7b-4008-c04f-522204333f60\"},{\"type\":\"WheelZoomTool\",\"id\":\"8d59473f-a539-4764-c755-7f3c9e6c25ea\"},{\"type\":\"BoxZoomTool\",\"id\":\"d9515054-3c5f-41e2-c16c-66c7cf43a72d\"},{\"type\":\"PreviewSaveTool\",\"id\":\"cfddc6cb-9060-4317-c3fd-e8f55e91995a\"},{\"type\":\"ResizeTool\",\"id\":\"6e5bc643-67f2-4650-c691-0c22bfc8d0c7\"},{\"type\":\"ResetTool\",\"id\":\"3400df7f-51c9-4237-c26a-313306e5833c\"}],\"doc\":null,\"right\":[],\"title\":\"Solve Percentages On Random Scrambles\",\"extra_x_ranges\":{},\"left\":[{\"type\":\"LinearAxis\",\"id\":\"857f6605-c7db-42d8-c2a4-106d1e1cf705\"}],\"y_range\":{\"type\":\"DataRange1d\",\"id\":\"0dfbfb7e-3a19-45ac-c541-4494c15d8b14\"},\"id\":\"6c4d2cb8-7353-4110-c165-33a85a820b8a\",\"extra_y_ranges\":{},\"tags\":[]}}];\n",
       "      Bokeh.load_models(all_models);\n",
       "      var model = Bokeh.Collections(modeltype).get(modelid);\n",
       "      $(\"#825a12fb-f61b-476c-c719-7814249767ff\").html(''); // clear any previous plot in window_id\n",
       "      var view = new model.default_view({model: model, el: \"#825a12fb-f61b-476c-c719-7814249767ff\"});\n",
       "  });\n",
       "    }\n",
       "});\n",
       "</script>\n",
       "<div class=\"plotdiv\" id=\"825a12fb-f61b-476c-c719-7814249767ff\"></div>\n"
      ]
     },
     "metadata": {},
     "output_type": "display_data"
    }
   ],
   "source": [
    "-- Comparing models with the same structure trained on different scramble lengths\n",
    "require 'csvigo'\n",
    "-- I know 'data' is already plural. Whatever\n",
    "datas = {}\n",
    "percs = {}\n",
    "for i = 2,9 do\n",
    "    datas[i] = csvigo.load(string.format('models_%d_lstm_tests/scores.csv', i))\n",
    "    percs[i] = torch.Tensor(datas[i].percent)\n",
    "end\n",
    "datas[10] = csvigo.load('models_26_lstm_tests/scores.csv', i)\n",
    "percs[10] = torch.Tensor(datas[10].percent)\n",
    "\n",
    "x = torch.range(1, 26)\n",
    "\n",
    "plot = itorch.Plot()\n",
    "plot:xaxis('Scramble Length'):yaxis('Solve Percentage')\n",
    "plot:title('Solve Percentages On Random Scrambles')\n",
    "colors = {\n",
    "    'red', 'orange', 'yellow', 'green', 'blue', 'purple', 'pink', 'gray', 'black'\n",
    "}\n",
    "for i = 2,9 do\n",
    "    plot:line(x, percs[i], colors[i-1], string.format('LSTM (%d)', i))\n",
    "end\n",
    "plot:line(x, percs[10], colors[9], 'LSTM (26)')\n",
    "plot:legend(true)\n",
    "plot:draw()"
   ]
  },
  {
   "cell_type": "code",
   "execution_count": 1,
   "metadata": {
    "collapsed": true
   },
   "outputs": [],
   "source": [
    "-- General learning curve data loader\n",
    "require 'lfs'\n",
    "function find_names(dir)\n",
    "    -- Finds all output files. Returns (table of names, max epoch)\n",
    "    iter, dir_obj = lfs.dir(dir)\n",
    "    pattern = 'rubiks_epoch(%d+)'\n",
    "    name = iter(dir_obj)\n",
    "    names = {}\n",
    "    max = -1\n",
    "    while name ~= nil do\n",
    "        num = string.match(name, pattern)\n",
    "        if num ~= nil then\n",
    "            num = tonumber(num)\n",
    "            names[num] = dir .. '/' .. name\n",
    "            if num > max then\n",
    "                max = num\n",
    "            end\n",
    "        end\n",
    "        name = iter(dir_obj)\n",
    "    end\n",
    "    return names, max\n",
    "end"
   ]
  },
  {
   "cell_type": "code",
   "execution_count": 2,
   "metadata": {
    "collapsed": false
   },
   "outputs": [],
   "source": [
    "function data_loader(names, epoch_max, attr_names)\n",
    "    -- Loads data from each filename given, fetches the attribute names, and\n",
    "    -- puts it into a Tensor\n",
    "    local data = {}\n",
    "    for i = 1, #attr_names do\n",
    "        data[attr_names[i]] = torch.Tensor(epoch_max)\n",
    "    end\n",
    "    for i = 1, epoch_max do\n",
    "        local dat = torch.load(names[i], 'ascii')\n",
    "        for j = 1, #attr_names do\n",
    "           data[attr_names[j]][i] = dat[attr_names[j]] \n",
    "        end\n",
    "    end\n",
    "    return data\n",
    "end"
   ]
  },
  {
   "cell_type": "code",
   "execution_count": 3,
   "metadata": {
    "collapsed": false
   },
   "outputs": [
    {
     "data": {
      "text/plain": [
       "finished 5\t\n"
      ]
     },
     "execution_count": 3,
     "metadata": {},
     "output_type": "execute_result"
    },
    {
     "data": {
      "text/plain": [
       "finished 6\t\n"
      ]
     },
     "execution_count": 3,
     "metadata": {},
     "output_type": "execute_result"
    },
    {
     "data": {
      "text/plain": [
       "finished 7\t\n"
      ]
     },
     "execution_count": 3,
     "metadata": {},
     "output_type": "execute_result"
    },
    {
     "data": {
      "text/plain": [
       "finished 8\t\n"
      ]
     },
     "execution_count": 3,
     "metadata": {},
     "output_type": "execute_result"
    },
    {
     "data": {
      "text/plain": [
       "finished 9\t\n"
      ]
     },
     "execution_count": 3,
     "metadata": {},
     "output_type": "execute_result"
    }
   ],
   "source": [
    "-- PRETTY SLOW\n",
    "require 'rnn'\n",
    "\n",
    "lstm_data = {}\n",
    "for i = 5, 9 do\n",
    "    lstm_data[i] = {}\n",
    "    names, max = find_names('models_more_data/' .. i .. '_lstm')\n",
    "    lstm_data[i] = data_loader(names, max, {'train_acc', 'train_err', 'test_acc', 'test_err'})\n",
    "    print('finished ' .. i)\n",
    "end\n",
    "--save so I don't have to do that junk again\n",
    "torch.save('lstm_more_data', lstm_data, 'ascii')"
   ]
  },
  {
   "cell_type": "code",
   "execution_count": 8,
   "metadata": {
    "collapsed": false
   },
   "outputs": [
    {
     "data": {
      "text/html": [
       "<script type=\"text/javascript\">\n",
       "$(function() {\n",
       "    if (typeof (window._bokeh_onload_callbacks) === \"undefined\"){\n",
       "  window._bokeh_onload_callbacks = [];\n",
       "    }\n",
       "    function load_lib(url, callback){\n",
       "  window._bokeh_onload_callbacks.push(callback);\n",
       "  if (window._bokeh_is_loading){\n",
       "      console.log(\"Bokeh: BokehJS is being loaded, scheduling callback at\", new Date());\n",
       "      return null;\n",
       "  }\n",
       "  console.log(\"Bokeh: BokehJS not loaded, scheduling load and callback at\", new Date());\n",
       "  window._bokeh_is_loading = true;\n",
       "  var s = document.createElement('script');\n",
       "  s.src = url;\n",
       "  s.async = true;\n",
       "  s.onreadystatechange = s.onload = function(){\n",
       "      Bokeh.embed.inject_css(\"https://cdn.pydata.org/bokeh-0.7.0.min.css\");\n",
       "      window._bokeh_onload_callbacks.forEach(function(callback){callback()});\n",
       "  };\n",
       "  s.onerror = function(){\n",
       "      console.warn(\"failed to load library \" + url);\n",
       "  };\n",
       "  document.getElementsByTagName(\"head\")[0].appendChild(s);\n",
       "    }\n",
       "\n",
       "    bokehjs_url = \"https://cdn.pydata.org/bokeh-0.7.0.min.js\"\n",
       "\n",
       "    var elt = document.getElementById(\"dead1311-a44a-466b-c6df-2e448c3ddfb8\");\n",
       "    if(elt==null) {\n",
       "  console.log(\"Bokeh: ERROR: autoload.js configured with elementid 'dead1311-a44a-466b-c6df-2e448c3ddfb8'\"\n",
       "        + \"but no matching script tag was found. \")\n",
       "  return false;\n",
       "    }\n",
       "\n",
       "    if(typeof(Bokeh) !== \"undefined\") {\n",
       "  console.log(\"Bokeh: BokehJS loaded, going straight to plotting\");\n",
       "  var modelid = \"3dd3c44c-19a3-495b-c93f-c480dbfd62f0\";\n",
       "  var modeltype = \"Plot\";\n",
       "  var all_models = [{\"id\":\"aa79834e-62fe-4931-c97a-215505fb245f\",\"type\":\"ColumnDataSource\",\"attributes\":{\"data\":{\"y\":[66.551777777778,70.536111111111,71.561555555556,72.142777777778,72.518,72.875333333333,73.147888888889,73.383222222222,73.617888888889,73.744222222222,73.905,74.064888888889,74.187777777778,74.309222222222,74.450555555556,74.560444444444,74.611555555556,74.756444444444,74.853888888889,74.914,74.978666666667,75.072555555556,75.182777777778,75.223666666667,75.336444444444,75.337888888889,75.422,75.511444444444,75.551666666667,75.608222222222,75.658555555556,75.669888888889,75.736,75.770333333333,75.882111111111,75.920777777778,75.952,75.992222222222,76.053666666667,76.042111111111],\"x\":[1,2,3,4,5,6,7,8,9,10,11,12,13,14,15,16,17,18,19,20,21,22,23,24,25,26,27,28,29,30,31,32,33,34,35,36,37,38,39,40]},\"column_names\":[\"y\",\"x\"],\"cont_ranges\":{},\"discrete_ranges\":{},\"selected\":[],\"id\":\"aa79834e-62fe-4931-c97a-215505fb245f\",\"doc\":null,\"tags\":[]}},{\"id\":\"305b746c-3634-4deb-cd6a-06ee12c7e68c\",\"type\":\"Line\",\"attributes\":{\"fill_alpha\":{\"units\":\"data\",\"value\":0.2},\"line_alpha\":{\"units\":\"data\",\"value\":1},\"doc\":null,\"size\":{\"units\":\"screen\",\"value\":10},\"fill_color\":{\"value\":\"red\"},\"line_color\":{\"value\":\"red\"},\"x\":{\"units\":\"data\",\"field\":\"x\"},\"id\":\"305b746c-3634-4deb-cd6a-06ee12c7e68c\",\"y\":{\"units\":\"data\",\"field\":\"y\"},\"tags\":[]}},{\"id\":\"0e95a6a2-8d86-410c-c12b-7da8a7372f42\",\"type\":\"Line\",\"attributes\":{\"fill_alpha\":{\"units\":\"data\",\"value\":0.2},\"line_alpha\":{\"units\":\"data\",\"value\":1},\"doc\":null,\"size\":{\"units\":\"screen\",\"value\":10},\"fill_color\":{\"value\":\"red\"},\"line_color\":{\"value\":\"red\"},\"x\":{\"units\":\"data\",\"field\":\"x\"},\"id\":\"0e95a6a2-8d86-410c-c12b-7da8a7372f42\",\"y\":{\"units\":\"data\",\"field\":\"y\"},\"tags\":[]}},{\"id\":\"646beeb2-f4a7-41fc-c111-cf6af0eff6d8\",\"type\":\"GlyphRenderer\",\"attributes\":{\"name\":null,\"nonselection_glyph\":{\"type\":\"Line\",\"id\":\"0e95a6a2-8d86-410c-c12b-7da8a7372f42\"},\"doc\":null,\"server_data_source\":null,\"data_source\":{\"type\":\"ColumnDataSource\",\"id\":\"aa79834e-62fe-4931-c97a-215505fb245f\"},\"glyph\":{\"type\":\"Line\",\"id\":\"305b746c-3634-4deb-cd6a-06ee12c7e68c\"},\"selection_glyph\":null,\"id\":\"646beeb2-f4a7-41fc-c111-cf6af0eff6d8\",\"tags\":[]}},{\"id\":\"4f4d10f5-e388-4b9b-cbf9-c9449d93716f\",\"type\":\"ColumnDataSource\",\"attributes\":{\"data\":{\"y\":[69.244444444444,70.402777777778,70.794444444444,70.997777777778,70.980555555556,71.111111111111,71.162777777778,71.113333333333,71.010555555556,70.965555555556,70.958333333333,70.876111111111,70.733333333333,70.737777777778,70.663888888889,70.685555555556,70.688333333333,70.542222222222,70.532777777778,70.551666666667,70.392777777778,70.366666666667,70.282777777778,70.180555555556,70.241666666667,70.151666666667,70.166666666667,70.095555555556,70.111666666667,70.071666666667,69.924444444444,69.866666666667,69.966666666667,69.845555555556,69.86,69.771666666667,69.788333333333,69.706111111111,69.67,69.658888888889],\"x\":[1,2,3,4,5,6,7,8,9,10,11,12,13,14,15,16,17,18,19,20,21,22,23,24,25,26,27,28,29,30,31,32,33,34,35,36,37,38,39,40]},\"column_names\":[\"y\",\"x\"],\"cont_ranges\":{},\"discrete_ranges\":{},\"selected\":[],\"id\":\"4f4d10f5-e388-4b9b-cbf9-c9449d93716f\",\"doc\":null,\"tags\":[]}},{\"id\":\"640a6289-e4fe-4237-c22a-04d575afa26a\",\"type\":\"Line\",\"attributes\":{\"fill_alpha\":{\"units\":\"data\",\"value\":0.2},\"line_alpha\":{\"units\":\"data\",\"value\":1},\"doc\":null,\"size\":{\"units\":\"screen\",\"value\":10},\"fill_color\":{\"value\":\"blue\"},\"line_color\":{\"value\":\"blue\"},\"x\":{\"units\":\"data\",\"field\":\"x\"},\"id\":\"640a6289-e4fe-4237-c22a-04d575afa26a\",\"y\":{\"units\":\"data\",\"field\":\"y\"},\"tags\":[]}},{\"id\":\"23a6007e-c94b-4abe-ca14-4511e4e7105c\",\"type\":\"Line\",\"attributes\":{\"fill_alpha\":{\"units\":\"data\",\"value\":0.2},\"line_alpha\":{\"units\":\"data\",\"value\":1},\"doc\":null,\"size\":{\"units\":\"screen\",\"value\":10},\"fill_color\":{\"value\":\"blue\"},\"line_color\":{\"value\":\"blue\"},\"x\":{\"units\":\"data\",\"field\":\"x\"},\"id\":\"23a6007e-c94b-4abe-ca14-4511e4e7105c\",\"y\":{\"units\":\"data\",\"field\":\"y\"},\"tags\":[]}},{\"id\":\"6df259df-00d6-4c1d-cc95-9a45b54cc3c1\",\"type\":\"GlyphRenderer\",\"attributes\":{\"name\":null,\"nonselection_glyph\":{\"type\":\"Line\",\"id\":\"23a6007e-c94b-4abe-ca14-4511e4e7105c\"},\"doc\":null,\"server_data_source\":null,\"data_source\":{\"type\":\"ColumnDataSource\",\"id\":\"4f4d10f5-e388-4b9b-cbf9-c9449d93716f\"},\"glyph\":{\"type\":\"Line\",\"id\":\"640a6289-e4fe-4237-c22a-04d575afa26a\"},\"selection_glyph\":null,\"id\":\"6df259df-00d6-4c1d-cc95-9a45b54cc3c1\",\"tags\":[]}},{\"id\":\"859ec279-368f-4bd5-cbfe-edc6559df4c5\",\"type\":\"DataRange1d\",\"attributes\":{\"sources\":[{\"columns\":[\"x\"],\"source\":{\"type\":\"ColumnDataSource\",\"id\":\"aa79834e-62fe-4931-c97a-215505fb245f\"}},{\"columns\":[\"x\"],\"source\":{\"type\":\"ColumnDataSource\",\"id\":\"4f4d10f5-e388-4b9b-cbf9-c9449d93716f\"}}],\"id\":\"859ec279-368f-4bd5-cbfe-edc6559df4c5\",\"tags\":[],\"doc\":null}},{\"id\":\"3efc495f-e3c2-448d-c46e-43fafc3c538e\",\"type\":\"DataRange1d\",\"attributes\":{\"sources\":[{\"columns\":[\"y\"],\"source\":{\"type\":\"ColumnDataSource\",\"id\":\"aa79834e-62fe-4931-c97a-215505fb245f\"}},{\"columns\":[\"y\"],\"source\":{\"type\":\"ColumnDataSource\",\"id\":\"4f4d10f5-e388-4b9b-cbf9-c9449d93716f\"}}],\"id\":\"3efc495f-e3c2-448d-c46e-43fafc3c538e\",\"tags\":[],\"doc\":null}},{\"id\":\"a2845367-8bc9-4a0d-cab4-c2a59b2b0972\",\"type\":\"ToolEvents\",\"attributes\":{\"tags\":[],\"id\":\"a2845367-8bc9-4a0d-cab4-c2a59b2b0972\",\"geometries\":[],\"doc\":null}},{\"id\":\"a04ed1b4-3c62-4b65-cbb4-c3d180329b66\",\"type\":\"BasicTickFormatter\",\"attributes\":{\"id\":\"a04ed1b4-3c62-4b65-cbb4-c3d180329b66\",\"tags\":[],\"doc\":null}},{\"id\":\"77eec186-0054-431c-c372-a14b085461d5\",\"type\":\"BasicTicker\",\"attributes\":{\"num_minor_ticks\":5,\"id\":\"77eec186-0054-431c-c372-a14b085461d5\",\"tags\":[],\"doc\":null}},{\"id\":\"5a5b9abf-c699-4165-c113-4182642f97d5\",\"type\":\"LinearAxis\",\"attributes\":{\"formatter\":{\"type\":\"BasicTickFormatter\",\"id\":\"a04ed1b4-3c62-4b65-cbb4-c3d180329b66\"},\"ticker\":{\"type\":\"BasicTicker\",\"id\":\"77eec186-0054-431c-c372-a14b085461d5\"},\"plot\":{\"id\":\"3dd3c44c-19a3-495b-c93f-c480dbfd62f0\",\"type\":\"Plot\",\"subtype\":\"Figure\"},\"axis_label\":null,\"id\":\"5a5b9abf-c699-4165-c113-4182642f97d5\",\"doc\":null,\"tags\":[]}},{\"id\":\"595acf0b-a9ae-4013-c05d-28642b4958df\",\"type\":\"Grid\",\"attributes\":{\"dimension\":0,\"plot\":{\"id\":\"3dd3c44c-19a3-495b-c93f-c480dbfd62f0\",\"type\":\"Plot\",\"subtype\":\"Figure\"},\"ticker\":{\"type\":\"BasicTicker\",\"id\":\"77eec186-0054-431c-c372-a14b085461d5\"},\"id\":\"595acf0b-a9ae-4013-c05d-28642b4958df\",\"doc\":null,\"tags\":[]}},{\"id\":\"e9c556fc-44be-4b94-cb22-6242330a5b29\",\"type\":\"BasicTickFormatter\",\"attributes\":{\"id\":\"e9c556fc-44be-4b94-cb22-6242330a5b29\",\"tags\":[],\"doc\":null}},{\"id\":\"63cdae29-d8e5-4d25-cd6f-c002c1bdd632\",\"type\":\"BasicTicker\",\"attributes\":{\"num_minor_ticks\":5,\"id\":\"63cdae29-d8e5-4d25-cd6f-c002c1bdd632\",\"tags\":[],\"doc\":null}},{\"id\":\"879eedd4-3204-4e47-ce4f-e4eee7874098\",\"type\":\"LinearAxis\",\"attributes\":{\"formatter\":{\"type\":\"BasicTickFormatter\",\"id\":\"e9c556fc-44be-4b94-cb22-6242330a5b29\"},\"ticker\":{\"type\":\"BasicTicker\",\"id\":\"63cdae29-d8e5-4d25-cd6f-c002c1bdd632\"},\"plot\":{\"id\":\"3dd3c44c-19a3-495b-c93f-c480dbfd62f0\",\"type\":\"Plot\",\"subtype\":\"Figure\"},\"axis_label\":null,\"id\":\"879eedd4-3204-4e47-ce4f-e4eee7874098\",\"doc\":null,\"tags\":[]}},{\"id\":\"d912b050-9b49-47dd-c708-a95a55d6bb2b\",\"type\":\"Grid\",\"attributes\":{\"dimension\":1,\"plot\":{\"id\":\"3dd3c44c-19a3-495b-c93f-c480dbfd62f0\",\"type\":\"Plot\",\"subtype\":\"Figure\"},\"ticker\":{\"type\":\"BasicTicker\",\"id\":\"63cdae29-d8e5-4d25-cd6f-c002c1bdd632\"},\"id\":\"d912b050-9b49-47dd-c708-a95a55d6bb2b\",\"doc\":null,\"tags\":[]}},{\"id\":\"83cf6174-83d8-4560-c54d-eeb4c0590d89\",\"type\":\"PanTool\",\"attributes\":{\"plot\":{\"id\":\"3dd3c44c-19a3-495b-c93f-c480dbfd62f0\",\"type\":\"Plot\",\"subtype\":\"Figure\"},\"dimensions\":[\"width\",\"height\"],\"id\":\"83cf6174-83d8-4560-c54d-eeb4c0590d89\",\"doc\":null,\"tags\":[]}},{\"id\":\"c3e338b3-6705-46a9-c67d-b37158e63e27\",\"type\":\"WheelZoomTool\",\"attributes\":{\"plot\":{\"id\":\"3dd3c44c-19a3-495b-c93f-c480dbfd62f0\",\"type\":\"Plot\",\"subtype\":\"Figure\"},\"dimensions\":[\"width\",\"height\"],\"id\":\"c3e338b3-6705-46a9-c67d-b37158e63e27\",\"doc\":null,\"tags\":[]}},{\"id\":\"84082131-4e92-4dae-cd99-46d07a0861bd\",\"type\":\"BoxZoomTool\",\"attributes\":{\"plot\":{\"id\":\"3dd3c44c-19a3-495b-c93f-c480dbfd62f0\",\"type\":\"Plot\",\"subtype\":\"Figure\"},\"id\":\"84082131-4e92-4dae-cd99-46d07a0861bd\",\"tags\":[],\"doc\":null}},{\"id\":\"3b2ab9be-6086-4d96-cd0b-29e168a85086\",\"type\":\"PreviewSaveTool\",\"attributes\":{\"plot\":{\"id\":\"3dd3c44c-19a3-495b-c93f-c480dbfd62f0\",\"type\":\"Plot\",\"subtype\":\"Figure\"},\"id\":\"3b2ab9be-6086-4d96-cd0b-29e168a85086\",\"tags\":[],\"doc\":null}},{\"id\":\"d5b747fd-daeb-4556-c591-a030e515e25b\",\"type\":\"ResizeTool\",\"attributes\":{\"plot\":{\"id\":\"3dd3c44c-19a3-495b-c93f-c480dbfd62f0\",\"type\":\"Plot\",\"subtype\":\"Figure\"},\"id\":\"d5b747fd-daeb-4556-c591-a030e515e25b\",\"tags\":[],\"doc\":null}},{\"id\":\"69164ef6-6c17-4715-c721-37c02b62bef0\",\"type\":\"ResetTool\",\"attributes\":{\"plot\":{\"id\":\"3dd3c44c-19a3-495b-c93f-c480dbfd62f0\",\"type\":\"Plot\",\"subtype\":\"Figure\"},\"id\":\"69164ef6-6c17-4715-c721-37c02b62bef0\",\"tags\":[],\"doc\":null}},{\"id\":\"5ca795bb-e696-4f46-cf25-a9f5564f16c4\",\"type\":\"Legend\",\"attributes\":{\"plot\":{\"id\":\"3dd3c44c-19a3-495b-c93f-c480dbfd62f0\",\"type\":\"Plot\",\"subtype\":\"Figure\"},\"legends\":[[\"Train Acc\",[{\"type\":\"GlyphRenderer\",\"id\":\"646beeb2-f4a7-41fc-c111-cf6af0eff6d8\"}]],[\"Validation Acc\",[{\"type\":\"GlyphRenderer\",\"id\":\"6df259df-00d6-4c1d-cc95-9a45b54cc3c1\"}]]],\"id\":\"5ca795bb-e696-4f46-cf25-a9f5564f16c4\",\"doc\":null,\"tags\":[]}},{\"id\":\"3dd3c44c-19a3-495b-c93f-c480dbfd62f0\",\"type\":\"Plot\",\"attributes\":{\"x_range\":{\"type\":\"DataRange1d\",\"id\":\"859ec279-368f-4bd5-cbfe-edc6559df4c5\"},\"tool_events\":{\"type\":\"ToolEvents\",\"id\":\"a2845367-8bc9-4a0d-cab4-c2a59b2b0972\"},\"below\":[{\"type\":\"LinearAxis\",\"id\":\"5a5b9abf-c699-4165-c113-4182642f97d5\"}],\"renderers\":[{\"type\":\"GlyphRenderer\",\"id\":\"646beeb2-f4a7-41fc-c111-cf6af0eff6d8\"},{\"type\":\"GlyphRenderer\",\"id\":\"6df259df-00d6-4c1d-cc95-9a45b54cc3c1\"},{\"type\":\"LinearAxis\",\"id\":\"5a5b9abf-c699-4165-c113-4182642f97d5\"},{\"type\":\"Grid\",\"id\":\"595acf0b-a9ae-4013-c05d-28642b4958df\"},{\"type\":\"LinearAxis\",\"id\":\"879eedd4-3204-4e47-ce4f-e4eee7874098\"},{\"type\":\"Grid\",\"id\":\"d912b050-9b49-47dd-c708-a95a55d6bb2b\"},{\"type\":\"Legend\",\"id\":\"5ca795bb-e696-4f46-cf25-a9f5564f16c4\"}],\"above\":[],\"tools\":[{\"type\":\"PanTool\",\"id\":\"83cf6174-83d8-4560-c54d-eeb4c0590d89\"},{\"type\":\"WheelZoomTool\",\"id\":\"c3e338b3-6705-46a9-c67d-b37158e63e27\"},{\"type\":\"BoxZoomTool\",\"id\":\"84082131-4e92-4dae-cd99-46d07a0861bd\"},{\"type\":\"PreviewSaveTool\",\"id\":\"3b2ab9be-6086-4d96-cd0b-29e168a85086\"},{\"type\":\"ResizeTool\",\"id\":\"d5b747fd-daeb-4556-c591-a030e515e25b\"},{\"type\":\"ResetTool\",\"id\":\"69164ef6-6c17-4715-c721-37c02b62bef0\"}],\"doc\":null,\"right\":[],\"title\":\"Accuracy for LSTM Trained On 9-Long Episodes\",\"extra_x_ranges\":{},\"left\":[{\"type\":\"LinearAxis\",\"id\":\"879eedd4-3204-4e47-ce4f-e4eee7874098\"}],\"y_range\":{\"type\":\"DataRange1d\",\"id\":\"3efc495f-e3c2-448d-c46e-43fafc3c538e\"},\"id\":\"3dd3c44c-19a3-495b-c93f-c480dbfd62f0\",\"extra_y_ranges\":{},\"tags\":[]}}];\n",
       "  Bokeh.load_models(all_models);\n",
       "  var model = Bokeh.Collections(modeltype).get(modelid);\n",
       "  $(\"#dead1311-a44a-466b-c6df-2e448c3ddfb8\").html(''); // clear any previous plot in window_id\n",
       "  var view = new model.default_view({model: model, el: \"#dead1311-a44a-466b-c6df-2e448c3ddfb8\"});\n",
       "    } else {\n",
       "  load_lib(bokehjs_url, function() {\n",
       "      console.log(\"Bokeh: BokehJS plotting callback run at\", new Date())\n",
       "      var modelid = \"3dd3c44c-19a3-495b-c93f-c480dbfd62f0\";\n",
       "      var modeltype = \"Plot\";\n",
       "      var all_models = [{\"id\":\"aa79834e-62fe-4931-c97a-215505fb245f\",\"type\":\"ColumnDataSource\",\"attributes\":{\"data\":{\"y\":[66.551777777778,70.536111111111,71.561555555556,72.142777777778,72.518,72.875333333333,73.147888888889,73.383222222222,73.617888888889,73.744222222222,73.905,74.064888888889,74.187777777778,74.309222222222,74.450555555556,74.560444444444,74.611555555556,74.756444444444,74.853888888889,74.914,74.978666666667,75.072555555556,75.182777777778,75.223666666667,75.336444444444,75.337888888889,75.422,75.511444444444,75.551666666667,75.608222222222,75.658555555556,75.669888888889,75.736,75.770333333333,75.882111111111,75.920777777778,75.952,75.992222222222,76.053666666667,76.042111111111],\"x\":[1,2,3,4,5,6,7,8,9,10,11,12,13,14,15,16,17,18,19,20,21,22,23,24,25,26,27,28,29,30,31,32,33,34,35,36,37,38,39,40]},\"column_names\":[\"y\",\"x\"],\"cont_ranges\":{},\"discrete_ranges\":{},\"selected\":[],\"id\":\"aa79834e-62fe-4931-c97a-215505fb245f\",\"doc\":null,\"tags\":[]}},{\"id\":\"305b746c-3634-4deb-cd6a-06ee12c7e68c\",\"type\":\"Line\",\"attributes\":{\"fill_alpha\":{\"units\":\"data\",\"value\":0.2},\"line_alpha\":{\"units\":\"data\",\"value\":1},\"doc\":null,\"size\":{\"units\":\"screen\",\"value\":10},\"fill_color\":{\"value\":\"red\"},\"line_color\":{\"value\":\"red\"},\"x\":{\"units\":\"data\",\"field\":\"x\"},\"id\":\"305b746c-3634-4deb-cd6a-06ee12c7e68c\",\"y\":{\"units\":\"data\",\"field\":\"y\"},\"tags\":[]}},{\"id\":\"0e95a6a2-8d86-410c-c12b-7da8a7372f42\",\"type\":\"Line\",\"attributes\":{\"fill_alpha\":{\"units\":\"data\",\"value\":0.2},\"line_alpha\":{\"units\":\"data\",\"value\":1},\"doc\":null,\"size\":{\"units\":\"screen\",\"value\":10},\"fill_color\":{\"value\":\"red\"},\"line_color\":{\"value\":\"red\"},\"x\":{\"units\":\"data\",\"field\":\"x\"},\"id\":\"0e95a6a2-8d86-410c-c12b-7da8a7372f42\",\"y\":{\"units\":\"data\",\"field\":\"y\"},\"tags\":[]}},{\"id\":\"646beeb2-f4a7-41fc-c111-cf6af0eff6d8\",\"type\":\"GlyphRenderer\",\"attributes\":{\"name\":null,\"nonselection_glyph\":{\"type\":\"Line\",\"id\":\"0e95a6a2-8d86-410c-c12b-7da8a7372f42\"},\"doc\":null,\"server_data_source\":null,\"data_source\":{\"type\":\"ColumnDataSource\",\"id\":\"aa79834e-62fe-4931-c97a-215505fb245f\"},\"glyph\":{\"type\":\"Line\",\"id\":\"305b746c-3634-4deb-cd6a-06ee12c7e68c\"},\"selection_glyph\":null,\"id\":\"646beeb2-f4a7-41fc-c111-cf6af0eff6d8\",\"tags\":[]}},{\"id\":\"4f4d10f5-e388-4b9b-cbf9-c9449d93716f\",\"type\":\"ColumnDataSource\",\"attributes\":{\"data\":{\"y\":[69.244444444444,70.402777777778,70.794444444444,70.997777777778,70.980555555556,71.111111111111,71.162777777778,71.113333333333,71.010555555556,70.965555555556,70.958333333333,70.876111111111,70.733333333333,70.737777777778,70.663888888889,70.685555555556,70.688333333333,70.542222222222,70.532777777778,70.551666666667,70.392777777778,70.366666666667,70.282777777778,70.180555555556,70.241666666667,70.151666666667,70.166666666667,70.095555555556,70.111666666667,70.071666666667,69.924444444444,69.866666666667,69.966666666667,69.845555555556,69.86,69.771666666667,69.788333333333,69.706111111111,69.67,69.658888888889],\"x\":[1,2,3,4,5,6,7,8,9,10,11,12,13,14,15,16,17,18,19,20,21,22,23,24,25,26,27,28,29,30,31,32,33,34,35,36,37,38,39,40]},\"column_names\":[\"y\",\"x\"],\"cont_ranges\":{},\"discrete_ranges\":{},\"selected\":[],\"id\":\"4f4d10f5-e388-4b9b-cbf9-c9449d93716f\",\"doc\":null,\"tags\":[]}},{\"id\":\"640a6289-e4fe-4237-c22a-04d575afa26a\",\"type\":\"Line\",\"attributes\":{\"fill_alpha\":{\"units\":\"data\",\"value\":0.2},\"line_alpha\":{\"units\":\"data\",\"value\":1},\"doc\":null,\"size\":{\"units\":\"screen\",\"value\":10},\"fill_color\":{\"value\":\"blue\"},\"line_color\":{\"value\":\"blue\"},\"x\":{\"units\":\"data\",\"field\":\"x\"},\"id\":\"640a6289-e4fe-4237-c22a-04d575afa26a\",\"y\":{\"units\":\"data\",\"field\":\"y\"},\"tags\":[]}},{\"id\":\"23a6007e-c94b-4abe-ca14-4511e4e7105c\",\"type\":\"Line\",\"attributes\":{\"fill_alpha\":{\"units\":\"data\",\"value\":0.2},\"line_alpha\":{\"units\":\"data\",\"value\":1},\"doc\":null,\"size\":{\"units\":\"screen\",\"value\":10},\"fill_color\":{\"value\":\"blue\"},\"line_color\":{\"value\":\"blue\"},\"x\":{\"units\":\"data\",\"field\":\"x\"},\"id\":\"23a6007e-c94b-4abe-ca14-4511e4e7105c\",\"y\":{\"units\":\"data\",\"field\":\"y\"},\"tags\":[]}},{\"id\":\"6df259df-00d6-4c1d-cc95-9a45b54cc3c1\",\"type\":\"GlyphRenderer\",\"attributes\":{\"name\":null,\"nonselection_glyph\":{\"type\":\"Line\",\"id\":\"23a6007e-c94b-4abe-ca14-4511e4e7105c\"},\"doc\":null,\"server_data_source\":null,\"data_source\":{\"type\":\"ColumnDataSource\",\"id\":\"4f4d10f5-e388-4b9b-cbf9-c9449d93716f\"},\"glyph\":{\"type\":\"Line\",\"id\":\"640a6289-e4fe-4237-c22a-04d575afa26a\"},\"selection_glyph\":null,\"id\":\"6df259df-00d6-4c1d-cc95-9a45b54cc3c1\",\"tags\":[]}},{\"id\":\"859ec279-368f-4bd5-cbfe-edc6559df4c5\",\"type\":\"DataRange1d\",\"attributes\":{\"sources\":[{\"columns\":[\"x\"],\"source\":{\"type\":\"ColumnDataSource\",\"id\":\"aa79834e-62fe-4931-c97a-215505fb245f\"}},{\"columns\":[\"x\"],\"source\":{\"type\":\"ColumnDataSource\",\"id\":\"4f4d10f5-e388-4b9b-cbf9-c9449d93716f\"}}],\"id\":\"859ec279-368f-4bd5-cbfe-edc6559df4c5\",\"tags\":[],\"doc\":null}},{\"id\":\"3efc495f-e3c2-448d-c46e-43fafc3c538e\",\"type\":\"DataRange1d\",\"attributes\":{\"sources\":[{\"columns\":[\"y\"],\"source\":{\"type\":\"ColumnDataSource\",\"id\":\"aa79834e-62fe-4931-c97a-215505fb245f\"}},{\"columns\":[\"y\"],\"source\":{\"type\":\"ColumnDataSource\",\"id\":\"4f4d10f5-e388-4b9b-cbf9-c9449d93716f\"}}],\"id\":\"3efc495f-e3c2-448d-c46e-43fafc3c538e\",\"tags\":[],\"doc\":null}},{\"id\":\"a2845367-8bc9-4a0d-cab4-c2a59b2b0972\",\"type\":\"ToolEvents\",\"attributes\":{\"tags\":[],\"id\":\"a2845367-8bc9-4a0d-cab4-c2a59b2b0972\",\"geometries\":[],\"doc\":null}},{\"id\":\"a04ed1b4-3c62-4b65-cbb4-c3d180329b66\",\"type\":\"BasicTickFormatter\",\"attributes\":{\"id\":\"a04ed1b4-3c62-4b65-cbb4-c3d180329b66\",\"tags\":[],\"doc\":null}},{\"id\":\"77eec186-0054-431c-c372-a14b085461d5\",\"type\":\"BasicTicker\",\"attributes\":{\"num_minor_ticks\":5,\"id\":\"77eec186-0054-431c-c372-a14b085461d5\",\"tags\":[],\"doc\":null}},{\"id\":\"5a5b9abf-c699-4165-c113-4182642f97d5\",\"type\":\"LinearAxis\",\"attributes\":{\"formatter\":{\"type\":\"BasicTickFormatter\",\"id\":\"a04ed1b4-3c62-4b65-cbb4-c3d180329b66\"},\"ticker\":{\"type\":\"BasicTicker\",\"id\":\"77eec186-0054-431c-c372-a14b085461d5\"},\"plot\":{\"id\":\"3dd3c44c-19a3-495b-c93f-c480dbfd62f0\",\"type\":\"Plot\",\"subtype\":\"Figure\"},\"axis_label\":null,\"id\":\"5a5b9abf-c699-4165-c113-4182642f97d5\",\"doc\":null,\"tags\":[]}},{\"id\":\"595acf0b-a9ae-4013-c05d-28642b4958df\",\"type\":\"Grid\",\"attributes\":{\"dimension\":0,\"plot\":{\"id\":\"3dd3c44c-19a3-495b-c93f-c480dbfd62f0\",\"type\":\"Plot\",\"subtype\":\"Figure\"},\"ticker\":{\"type\":\"BasicTicker\",\"id\":\"77eec186-0054-431c-c372-a14b085461d5\"},\"id\":\"595acf0b-a9ae-4013-c05d-28642b4958df\",\"doc\":null,\"tags\":[]}},{\"id\":\"e9c556fc-44be-4b94-cb22-6242330a5b29\",\"type\":\"BasicTickFormatter\",\"attributes\":{\"id\":\"e9c556fc-44be-4b94-cb22-6242330a5b29\",\"tags\":[],\"doc\":null}},{\"id\":\"63cdae29-d8e5-4d25-cd6f-c002c1bdd632\",\"type\":\"BasicTicker\",\"attributes\":{\"num_minor_ticks\":5,\"id\":\"63cdae29-d8e5-4d25-cd6f-c002c1bdd632\",\"tags\":[],\"doc\":null}},{\"id\":\"879eedd4-3204-4e47-ce4f-e4eee7874098\",\"type\":\"LinearAxis\",\"attributes\":{\"formatter\":{\"type\":\"BasicTickFormatter\",\"id\":\"e9c556fc-44be-4b94-cb22-6242330a5b29\"},\"ticker\":{\"type\":\"BasicTicker\",\"id\":\"63cdae29-d8e5-4d25-cd6f-c002c1bdd632\"},\"plot\":{\"id\":\"3dd3c44c-19a3-495b-c93f-c480dbfd62f0\",\"type\":\"Plot\",\"subtype\":\"Figure\"},\"axis_label\":null,\"id\":\"879eedd4-3204-4e47-ce4f-e4eee7874098\",\"doc\":null,\"tags\":[]}},{\"id\":\"d912b050-9b49-47dd-c708-a95a55d6bb2b\",\"type\":\"Grid\",\"attributes\":{\"dimension\":1,\"plot\":{\"id\":\"3dd3c44c-19a3-495b-c93f-c480dbfd62f0\",\"type\":\"Plot\",\"subtype\":\"Figure\"},\"ticker\":{\"type\":\"BasicTicker\",\"id\":\"63cdae29-d8e5-4d25-cd6f-c002c1bdd632\"},\"id\":\"d912b050-9b49-47dd-c708-a95a55d6bb2b\",\"doc\":null,\"tags\":[]}},{\"id\":\"83cf6174-83d8-4560-c54d-eeb4c0590d89\",\"type\":\"PanTool\",\"attributes\":{\"plot\":{\"id\":\"3dd3c44c-19a3-495b-c93f-c480dbfd62f0\",\"type\":\"Plot\",\"subtype\":\"Figure\"},\"dimensions\":[\"width\",\"height\"],\"id\":\"83cf6174-83d8-4560-c54d-eeb4c0590d89\",\"doc\":null,\"tags\":[]}},{\"id\":\"c3e338b3-6705-46a9-c67d-b37158e63e27\",\"type\":\"WheelZoomTool\",\"attributes\":{\"plot\":{\"id\":\"3dd3c44c-19a3-495b-c93f-c480dbfd62f0\",\"type\":\"Plot\",\"subtype\":\"Figure\"},\"dimensions\":[\"width\",\"height\"],\"id\":\"c3e338b3-6705-46a9-c67d-b37158e63e27\",\"doc\":null,\"tags\":[]}},{\"id\":\"84082131-4e92-4dae-cd99-46d07a0861bd\",\"type\":\"BoxZoomTool\",\"attributes\":{\"plot\":{\"id\":\"3dd3c44c-19a3-495b-c93f-c480dbfd62f0\",\"type\":\"Plot\",\"subtype\":\"Figure\"},\"id\":\"84082131-4e92-4dae-cd99-46d07a0861bd\",\"tags\":[],\"doc\":null}},{\"id\":\"3b2ab9be-6086-4d96-cd0b-29e168a85086\",\"type\":\"PreviewSaveTool\",\"attributes\":{\"plot\":{\"id\":\"3dd3c44c-19a3-495b-c93f-c480dbfd62f0\",\"type\":\"Plot\",\"subtype\":\"Figure\"},\"id\":\"3b2ab9be-6086-4d96-cd0b-29e168a85086\",\"tags\":[],\"doc\":null}},{\"id\":\"d5b747fd-daeb-4556-c591-a030e515e25b\",\"type\":\"ResizeTool\",\"attributes\":{\"plot\":{\"id\":\"3dd3c44c-19a3-495b-c93f-c480dbfd62f0\",\"type\":\"Plot\",\"subtype\":\"Figure\"},\"id\":\"d5b747fd-daeb-4556-c591-a030e515e25b\",\"tags\":[],\"doc\":null}},{\"id\":\"69164ef6-6c17-4715-c721-37c02b62bef0\",\"type\":\"ResetTool\",\"attributes\":{\"plot\":{\"id\":\"3dd3c44c-19a3-495b-c93f-c480dbfd62f0\",\"type\":\"Plot\",\"subtype\":\"Figure\"},\"id\":\"69164ef6-6c17-4715-c721-37c02b62bef0\",\"tags\":[],\"doc\":null}},{\"id\":\"5ca795bb-e696-4f46-cf25-a9f5564f16c4\",\"type\":\"Legend\",\"attributes\":{\"plot\":{\"id\":\"3dd3c44c-19a3-495b-c93f-c480dbfd62f0\",\"type\":\"Plot\",\"subtype\":\"Figure\"},\"legends\":[[\"Train Acc\",[{\"type\":\"GlyphRenderer\",\"id\":\"646beeb2-f4a7-41fc-c111-cf6af0eff6d8\"}]],[\"Validation Acc\",[{\"type\":\"GlyphRenderer\",\"id\":\"6df259df-00d6-4c1d-cc95-9a45b54cc3c1\"}]]],\"id\":\"5ca795bb-e696-4f46-cf25-a9f5564f16c4\",\"doc\":null,\"tags\":[]}},{\"id\":\"3dd3c44c-19a3-495b-c93f-c480dbfd62f0\",\"type\":\"Plot\",\"attributes\":{\"x_range\":{\"type\":\"DataRange1d\",\"id\":\"859ec279-368f-4bd5-cbfe-edc6559df4c5\"},\"tool_events\":{\"type\":\"ToolEvents\",\"id\":\"a2845367-8bc9-4a0d-cab4-c2a59b2b0972\"},\"below\":[{\"type\":\"LinearAxis\",\"id\":\"5a5b9abf-c699-4165-c113-4182642f97d5\"}],\"renderers\":[{\"type\":\"GlyphRenderer\",\"id\":\"646beeb2-f4a7-41fc-c111-cf6af0eff6d8\"},{\"type\":\"GlyphRenderer\",\"id\":\"6df259df-00d6-4c1d-cc95-9a45b54cc3c1\"},{\"type\":\"LinearAxis\",\"id\":\"5a5b9abf-c699-4165-c113-4182642f97d5\"},{\"type\":\"Grid\",\"id\":\"595acf0b-a9ae-4013-c05d-28642b4958df\"},{\"type\":\"LinearAxis\",\"id\":\"879eedd4-3204-4e47-ce4f-e4eee7874098\"},{\"type\":\"Grid\",\"id\":\"d912b050-9b49-47dd-c708-a95a55d6bb2b\"},{\"type\":\"Legend\",\"id\":\"5ca795bb-e696-4f46-cf25-a9f5564f16c4\"}],\"above\":[],\"tools\":[{\"type\":\"PanTool\",\"id\":\"83cf6174-83d8-4560-c54d-eeb4c0590d89\"},{\"type\":\"WheelZoomTool\",\"id\":\"c3e338b3-6705-46a9-c67d-b37158e63e27\"},{\"type\":\"BoxZoomTool\",\"id\":\"84082131-4e92-4dae-cd99-46d07a0861bd\"},{\"type\":\"PreviewSaveTool\",\"id\":\"3b2ab9be-6086-4d96-cd0b-29e168a85086\"},{\"type\":\"ResizeTool\",\"id\":\"d5b747fd-daeb-4556-c591-a030e515e25b\"},{\"type\":\"ResetTool\",\"id\":\"69164ef6-6c17-4715-c721-37c02b62bef0\"}],\"doc\":null,\"right\":[],\"title\":\"Accuracy for LSTM Trained On 9-Long Episodes\",\"extra_x_ranges\":{},\"left\":[{\"type\":\"LinearAxis\",\"id\":\"879eedd4-3204-4e47-ce4f-e4eee7874098\"}],\"y_range\":{\"type\":\"DataRange1d\",\"id\":\"3efc495f-e3c2-448d-c46e-43fafc3c538e\"},\"id\":\"3dd3c44c-19a3-495b-c93f-c480dbfd62f0\",\"extra_y_ranges\":{},\"tags\":[]}}];\n",
       "      Bokeh.load_models(all_models);\n",
       "      var model = Bokeh.Collections(modeltype).get(modelid);\n",
       "      $(\"#dead1311-a44a-466b-c6df-2e448c3ddfb8\").html(''); // clear any previous plot in window_id\n",
       "      var view = new model.default_view({model: model, el: \"#dead1311-a44a-466b-c6df-2e448c3ddfb8\"});\n",
       "  });\n",
       "    }\n",
       "});\n",
       "</script>\n",
       "<div class=\"plotdiv\" id=\"dead1311-a44a-466b-c6df-2e448c3ddfb8\"></div>\n"
      ]
     },
     "metadata": {},
     "output_type": "display_data"
    }
   ],
   "source": [
    "plot = itorch.Plot()\n",
    "x = torch.range(1,40)\n",
    "y = lstm_data[9].train_acc\n",
    "plot:line(x, y, 'red', 'Train Acc')\n",
    "y2 = lstm_data[9].test_acc\n",
    "plot:line(x, y2, 'blue', 'Validation Acc')\n",
    "plot:title('Accuracy for LSTM Trained On 9-Long Episodes')\n",
    "plot:legend(true)\n",
    "plot:draw()"
   ]
  },
  {
   "cell_type": "code",
   "execution_count": 18,
   "metadata": {
    "collapsed": false
   },
   "outputs": [],
   "source": [
    "--Converts dumped Tensors into CSV\n",
    "lstm_data = torch.load('lstm_data', 'ascii')\n",
    "lstm_more_data = torch.load('lstm_more_data', 'ascii')\n",
    "\n",
    "function save_csv(data, out)\n",
    "    csv = torch.DiskFile(out, 'w')\n",
    "    header = 'epoch,train_err,train_acc,test_err,test_acc\\n'\n",
    "    csv:writeString(header)\n",
    "    len = (#data.train_acc)[1]\n",
    "    for i = 1, len do\n",
    "        csv:writeString(\n",
    "            string.format(\"%d,%f,%f,%f,%f\\n\",\n",
    "                i,\n",
    "                data.train_err[i],\n",
    "                data.train_acc[i],\n",
    "                data.test_err[i],\n",
    "                data.test_acc[i]\n",
    "            )\n",
    "        )\n",
    "    end\n",
    "    csv:close()\n",
    "end\n",
    "\n",
    "--lstm_data\n",
    "for i = 2,9 do\n",
    "    save_csv(lstm_data[i], 'models_' .. i .. '_lstm/trainingdata.csv')\n",
    "end\n",
    "\n",
    "--lstm_more_data\n",
    "for i = 5,9 do\n",
    "    save_csv(lstm_more_data[i], 'models_more_data/' .. i .. '_lstm/trainingdata.csv')\n",
    "end"
   ]
  },
  {
   "cell_type": "code",
   "execution_count": 21,
   "metadata": {
    "collapsed": false
   },
   "outputs": [
    {
     "data": {
      "text/plain": [
       "<csv>\tparsing file: models_9_lstm/trainingdata.csv\t\n",
       "<csv>\ttidying up entries\t\n",
       "<csv>\treturning tidy table\t\n",
       "<csv>\tparsing file: models_more_data/9_lstm/trainingdata.csv\t\n",
       "<csv>\ttidying up entries\t\n",
       "<csv>\treturning tidy table\t\n",
       "<csv>\tparsing file: models_streaming/9_lstm/trainingdata.csv\t\n",
       "<csv>\ttidying up entries\t\n",
       "<csv>\treturning tidy table\t\n"
      ]
     },
     "execution_count": 21,
     "metadata": {},
     "output_type": "execute_result"
    },
    {
     "data": {
      "text/html": [
       "<script type=\"text/javascript\">\n",
       "$(function() {\n",
       "    if (typeof (window._bokeh_onload_callbacks) === \"undefined\"){\n",
       "  window._bokeh_onload_callbacks = [];\n",
       "    }\n",
       "    function load_lib(url, callback){\n",
       "  window._bokeh_onload_callbacks.push(callback);\n",
       "  if (window._bokeh_is_loading){\n",
       "      console.log(\"Bokeh: BokehJS is being loaded, scheduling callback at\", new Date());\n",
       "      return null;\n",
       "  }\n",
       "  console.log(\"Bokeh: BokehJS not loaded, scheduling load and callback at\", new Date());\n",
       "  window._bokeh_is_loading = true;\n",
       "  var s = document.createElement('script');\n",
       "  s.src = url;\n",
       "  s.async = true;\n",
       "  s.onreadystatechange = s.onload = function(){\n",
       "      Bokeh.embed.inject_css(\"https://cdn.pydata.org/bokeh-0.7.0.min.css\");\n",
       "      window._bokeh_onload_callbacks.forEach(function(callback){callback()});\n",
       "  };\n",
       "  s.onerror = function(){\n",
       "      console.warn(\"failed to load library \" + url);\n",
       "  };\n",
       "  document.getElementsByTagName(\"head\")[0].appendChild(s);\n",
       "    }\n",
       "\n",
       "    bokehjs_url = \"https://cdn.pydata.org/bokeh-0.7.0.min.js\"\n",
       "\n",
       "    var elt = document.getElementById(\"213c2c49-a925-45f6-c520-a222f5a0770e\");\n",
       "    if(elt==null) {\n",
       "  console.log(\"Bokeh: ERROR: autoload.js configured with elementid '213c2c49-a925-45f6-c520-a222f5a0770e'\"\n",
       "        + \"but no matching script tag was found. \")\n",
       "  return false;\n",
       "    }\n",
       "\n",
       "    if(typeof(Bokeh) !== \"undefined\") {\n",
       "  console.log(\"Bokeh: BokehJS loaded, going straight to plotting\");\n",
       "  var modelid = \"22a0af10-dc51-48d6-c8af-c0428286a515\";\n",
       "  var modeltype = \"Plot\";\n",
       "  var all_models = [{\"id\":\"dbe35bdd-f4f1-453e-c5f3-387a765229e8\",\"type\":\"ColumnDataSource\",\"attributes\":{\"data\":{\"y\":[67.882222,69.477778,69.843333,70.131111,70.3,70.296667,70.242222,70.243333,70.11,70.061111,70.022222,70.02,69.728889,69.758889,69.532222,69.643333,69.296667,69.438889,69.098889,69.11,69.126667,68.921111,69.041111,68.84,68.665556,68.548889,68.456667,68.36,68.267778,68.174444,68.066667,68.024444,67.87,67.841111,67.81,67.741111,67.603333,67.446667,67.617778],\"x\":[1,2,3,4,5,6,7,8,9,10,11,12,13,14,15,16,17,18,19,20,21,22,23,24,25,26,27,28,29,30,31,32,33,34,35,36,37,38,39]},\"column_names\":[\"y\",\"x\"],\"cont_ranges\":{},\"discrete_ranges\":{},\"selected\":[],\"id\":\"dbe35bdd-f4f1-453e-c5f3-387a765229e8\",\"doc\":null,\"tags\":[]}},{\"id\":\"7bbe68dd-c0ac-4601-c690-b6a17007e869\",\"type\":\"Line\",\"attributes\":{\"fill_alpha\":{\"units\":\"data\",\"value\":0.2},\"line_alpha\":{\"units\":\"data\",\"value\":1},\"doc\":null,\"size\":{\"units\":\"screen\",\"value\":10},\"fill_color\":{\"value\":\"red\"},\"line_color\":{\"value\":\"red\"},\"x\":{\"units\":\"data\",\"field\":\"x\"},\"id\":\"7bbe68dd-c0ac-4601-c690-b6a17007e869\",\"y\":{\"units\":\"data\",\"field\":\"y\"},\"tags\":[]}},{\"id\":\"14fa8eac-f8f7-4366-c3e5-5f7646066f34\",\"type\":\"Line\",\"attributes\":{\"fill_alpha\":{\"units\":\"data\",\"value\":0.2},\"line_alpha\":{\"units\":\"data\",\"value\":1},\"doc\":null,\"size\":{\"units\":\"screen\",\"value\":10},\"fill_color\":{\"value\":\"red\"},\"line_color\":{\"value\":\"red\"},\"x\":{\"units\":\"data\",\"field\":\"x\"},\"id\":\"14fa8eac-f8f7-4366-c3e5-5f7646066f34\",\"y\":{\"units\":\"data\",\"field\":\"y\"},\"tags\":[]}},{\"id\":\"042700f1-5140-4818-c8ef-4a59310a917a\",\"type\":\"GlyphRenderer\",\"attributes\":{\"name\":null,\"nonselection_glyph\":{\"type\":\"Line\",\"id\":\"14fa8eac-f8f7-4366-c3e5-5f7646066f34\"},\"doc\":null,\"server_data_source\":null,\"data_source\":{\"type\":\"ColumnDataSource\",\"id\":\"dbe35bdd-f4f1-453e-c5f3-387a765229e8\"},\"glyph\":{\"type\":\"Line\",\"id\":\"7bbe68dd-c0ac-4601-c690-b6a17007e869\"},\"selection_glyph\":null,\"id\":\"042700f1-5140-4818-c8ef-4a59310a917a\",\"tags\":[]}},{\"id\":\"12e6d30f-f429-4fcd-cf96-5bab9578bfcc\",\"type\":\"ColumnDataSource\",\"attributes\":{\"data\":{\"y\":[69.244444,70.402778,70.794444,70.997778,70.980556,71.111111,71.162778,71.113333,71.010556,70.965556,70.958333,70.876111,70.733333,70.737778,70.663889,70.685556,70.688333,70.542222,70.532778,70.551667,70.392778,70.366667,70.282778,70.180556,70.241667,70.151667,70.166667,70.095556,70.111667,70.071667,69.924444,69.866667,69.966667,69.845556,69.86,69.771667,69.788333,69.706111,69.67],\"x\":[1,2,3,4,5,6,7,8,9,10,11,12,13,14,15,16,17,18,19,20,21,22,23,24,25,26,27,28,29,30,31,32,33,34,35,36,37,38,39]},\"column_names\":[\"y\",\"x\"],\"cont_ranges\":{},\"discrete_ranges\":{},\"selected\":[],\"id\":\"12e6d30f-f429-4fcd-cf96-5bab9578bfcc\",\"doc\":null,\"tags\":[]}},{\"id\":\"8d023e15-7372-48e5-c830-3a7001776575\",\"type\":\"Line\",\"attributes\":{\"fill_alpha\":{\"units\":\"data\",\"value\":0.2},\"line_alpha\":{\"units\":\"data\",\"value\":1},\"doc\":null,\"size\":{\"units\":\"screen\",\"value\":10},\"fill_color\":{\"value\":\"blue\"},\"line_color\":{\"value\":\"blue\"},\"x\":{\"units\":\"data\",\"field\":\"x\"},\"id\":\"8d023e15-7372-48e5-c830-3a7001776575\",\"y\":{\"units\":\"data\",\"field\":\"y\"},\"tags\":[]}},{\"id\":\"42c1fb1d-76cd-4619-c6c3-be5473d9c219\",\"type\":\"Line\",\"attributes\":{\"fill_alpha\":{\"units\":\"data\",\"value\":0.2},\"line_alpha\":{\"units\":\"data\",\"value\":1},\"doc\":null,\"size\":{\"units\":\"screen\",\"value\":10},\"fill_color\":{\"value\":\"blue\"},\"line_color\":{\"value\":\"blue\"},\"x\":{\"units\":\"data\",\"field\":\"x\"},\"id\":\"42c1fb1d-76cd-4619-c6c3-be5473d9c219\",\"y\":{\"units\":\"data\",\"field\":\"y\"},\"tags\":[]}},{\"id\":\"1ce97f20-55b2-42f3-c27d-d8df55e6fe33\",\"type\":\"GlyphRenderer\",\"attributes\":{\"name\":null,\"nonselection_glyph\":{\"type\":\"Line\",\"id\":\"42c1fb1d-76cd-4619-c6c3-be5473d9c219\"},\"doc\":null,\"server_data_source\":null,\"data_source\":{\"type\":\"ColumnDataSource\",\"id\":\"12e6d30f-f429-4fcd-cf96-5bab9578bfcc\"},\"glyph\":{\"type\":\"Line\",\"id\":\"8d023e15-7372-48e5-c830-3a7001776575\"},\"selection_glyph\":null,\"id\":\"1ce97f20-55b2-42f3-c27d-d8df55e6fe33\",\"tags\":[]}},{\"id\":\"14a5a30c-4dfe-4108-c11d-c4fe72f427fb\",\"type\":\"ColumnDataSource\",\"attributes\":{\"data\":{\"y\":[67.863333,69.418889,70.498889,70.735556,70.844444,71.147778,71.462222,71.528889,71.656667,71.624444,72.052222,71.701111,71.872222,72.107778,72.135556,72.005556,72.148889,72.121111,72.261111,72.202222,72.1,72.28,72.308889,72.587778,72.337778,72.583333,72.408889,72.334444,72.421111,72.381111,72.657778,72.65,72.504444,72.611111,72.548889,72.961111,72.744444,72.915556,72.732222],\"x\":[1,2,3,4,5,6,7,8,9,10,11,12,13,14,15,16,17,18,19,20,21,22,23,24,25,26,27,28,29,30,31,32,33,34,35,36,37,38,39]},\"column_names\":[\"y\",\"x\"],\"cont_ranges\":{},\"discrete_ranges\":{},\"selected\":[],\"id\":\"14a5a30c-4dfe-4108-c11d-c4fe72f427fb\",\"doc\":null,\"tags\":[]}},{\"id\":\"e59ebcbd-048b-4f35-cf35-b33d0e10ba2f\",\"type\":\"Line\",\"attributes\":{\"fill_alpha\":{\"units\":\"data\",\"value\":0.2},\"line_alpha\":{\"units\":\"data\",\"value\":1},\"doc\":null,\"size\":{\"units\":\"screen\",\"value\":10},\"fill_color\":{\"value\":\"green\"},\"line_color\":{\"value\":\"green\"},\"x\":{\"units\":\"data\",\"field\":\"x\"},\"id\":\"e59ebcbd-048b-4f35-cf35-b33d0e10ba2f\",\"y\":{\"units\":\"data\",\"field\":\"y\"},\"tags\":[]}},{\"id\":\"e6d74480-15da-42c7-c2e2-f977a5907f7a\",\"type\":\"Line\",\"attributes\":{\"fill_alpha\":{\"units\":\"data\",\"value\":0.2},\"line_alpha\":{\"units\":\"data\",\"value\":1},\"doc\":null,\"size\":{\"units\":\"screen\",\"value\":10},\"fill_color\":{\"value\":\"green\"},\"line_color\":{\"value\":\"green\"},\"x\":{\"units\":\"data\",\"field\":\"x\"},\"id\":\"e6d74480-15da-42c7-c2e2-f977a5907f7a\",\"y\":{\"units\":\"data\",\"field\":\"y\"},\"tags\":[]}},{\"id\":\"dc3f086d-8493-4463-c446-bfa51d91ece3\",\"type\":\"GlyphRenderer\",\"attributes\":{\"name\":null,\"nonselection_glyph\":{\"type\":\"Line\",\"id\":\"e6d74480-15da-42c7-c2e2-f977a5907f7a\"},\"doc\":null,\"server_data_source\":null,\"data_source\":{\"type\":\"ColumnDataSource\",\"id\":\"14a5a30c-4dfe-4108-c11d-c4fe72f427fb\"},\"glyph\":{\"type\":\"Line\",\"id\":\"e59ebcbd-048b-4f35-cf35-b33d0e10ba2f\"},\"selection_glyph\":null,\"id\":\"dc3f086d-8493-4463-c446-bfa51d91ece3\",\"tags\":[]}},{\"id\":\"4efe6906-7f6e-4b7a-cbb6-c9581ae09565\",\"type\":\"DataRange1d\",\"attributes\":{\"sources\":[{\"columns\":[\"x\"],\"source\":{\"type\":\"ColumnDataSource\",\"id\":\"dbe35bdd-f4f1-453e-c5f3-387a765229e8\"}},{\"columns\":[\"x\"],\"source\":{\"type\":\"ColumnDataSource\",\"id\":\"12e6d30f-f429-4fcd-cf96-5bab9578bfcc\"}},{\"columns\":[\"x\"],\"source\":{\"type\":\"ColumnDataSource\",\"id\":\"14a5a30c-4dfe-4108-c11d-c4fe72f427fb\"}}],\"id\":\"4efe6906-7f6e-4b7a-cbb6-c9581ae09565\",\"tags\":[],\"doc\":null}},{\"id\":\"b31786bf-6ee1-49e7-c97e-44a5707a150b\",\"type\":\"DataRange1d\",\"attributes\":{\"sources\":[{\"columns\":[\"y\"],\"source\":{\"type\":\"ColumnDataSource\",\"id\":\"dbe35bdd-f4f1-453e-c5f3-387a765229e8\"}},{\"columns\":[\"y\"],\"source\":{\"type\":\"ColumnDataSource\",\"id\":\"12e6d30f-f429-4fcd-cf96-5bab9578bfcc\"}},{\"columns\":[\"y\"],\"source\":{\"type\":\"ColumnDataSource\",\"id\":\"14a5a30c-4dfe-4108-c11d-c4fe72f427fb\"}}],\"id\":\"b31786bf-6ee1-49e7-c97e-44a5707a150b\",\"tags\":[],\"doc\":null}},{\"id\":\"d98a3ad8-b633-4d21-cdd0-efbbece20df6\",\"type\":\"ToolEvents\",\"attributes\":{\"tags\":[],\"id\":\"d98a3ad8-b633-4d21-cdd0-efbbece20df6\",\"geometries\":[],\"doc\":null}},{\"id\":\"6489fd83-016d-405e-c085-2bd377825077\",\"type\":\"BasicTickFormatter\",\"attributes\":{\"id\":\"6489fd83-016d-405e-c085-2bd377825077\",\"tags\":[],\"doc\":null}},{\"id\":\"9922e825-0443-475d-c72f-8c762696bc10\",\"type\":\"BasicTicker\",\"attributes\":{\"num_minor_ticks\":5,\"id\":\"9922e825-0443-475d-c72f-8c762696bc10\",\"tags\":[],\"doc\":null}},{\"id\":\"84a6df1f-9e7e-46d3-c6f7-ab19c296731d\",\"type\":\"LinearAxis\",\"attributes\":{\"formatter\":{\"type\":\"BasicTickFormatter\",\"id\":\"6489fd83-016d-405e-c085-2bd377825077\"},\"ticker\":{\"type\":\"BasicTicker\",\"id\":\"9922e825-0443-475d-c72f-8c762696bc10\"},\"plot\":{\"id\":\"22a0af10-dc51-48d6-c8af-c0428286a515\",\"type\":\"Plot\",\"subtype\":\"Figure\"},\"axis_label\":\"Epoch\",\"id\":\"84a6df1f-9e7e-46d3-c6f7-ab19c296731d\",\"doc\":null,\"tags\":[]}},{\"id\":\"769f8b92-aaae-4d8b-cd41-83186b96a017\",\"type\":\"Grid\",\"attributes\":{\"dimension\":0,\"plot\":{\"id\":\"22a0af10-dc51-48d6-c8af-c0428286a515\",\"type\":\"Plot\",\"subtype\":\"Figure\"},\"ticker\":{\"type\":\"BasicTicker\",\"id\":\"9922e825-0443-475d-c72f-8c762696bc10\"},\"id\":\"769f8b92-aaae-4d8b-cd41-83186b96a017\",\"doc\":null,\"tags\":[]}},{\"id\":\"1c06e864-2c5f-4804-c80b-f55d23fa588a\",\"type\":\"BasicTickFormatter\",\"attributes\":{\"id\":\"1c06e864-2c5f-4804-c80b-f55d23fa588a\",\"tags\":[],\"doc\":null}},{\"id\":\"7fca70fd-9d1c-4648-c6e6-a30ccb24f472\",\"type\":\"BasicTicker\",\"attributes\":{\"num_minor_ticks\":5,\"id\":\"7fca70fd-9d1c-4648-c6e6-a30ccb24f472\",\"tags\":[],\"doc\":null}},{\"id\":\"fab3f2f3-127e-4ce6-cc19-1c6b840c9daf\",\"type\":\"LinearAxis\",\"attributes\":{\"formatter\":{\"type\":\"BasicTickFormatter\",\"id\":\"1c06e864-2c5f-4804-c80b-f55d23fa588a\"},\"ticker\":{\"type\":\"BasicTicker\",\"id\":\"7fca70fd-9d1c-4648-c6e6-a30ccb24f472\"},\"plot\":{\"id\":\"22a0af10-dc51-48d6-c8af-c0428286a515\",\"type\":\"Plot\",\"subtype\":\"Figure\"},\"axis_label\":\"Validation Acc\",\"id\":\"fab3f2f3-127e-4ce6-cc19-1c6b840c9daf\",\"doc\":null,\"tags\":[]}},{\"id\":\"6e62bc0a-56ae-4232-c209-a5db6d912972\",\"type\":\"Grid\",\"attributes\":{\"dimension\":1,\"plot\":{\"id\":\"22a0af10-dc51-48d6-c8af-c0428286a515\",\"type\":\"Plot\",\"subtype\":\"Figure\"},\"ticker\":{\"type\":\"BasicTicker\",\"id\":\"7fca70fd-9d1c-4648-c6e6-a30ccb24f472\"},\"id\":\"6e62bc0a-56ae-4232-c209-a5db6d912972\",\"doc\":null,\"tags\":[]}},{\"id\":\"443ee65b-aa1c-44a1-c417-d1ee952f8f98\",\"type\":\"PanTool\",\"attributes\":{\"plot\":{\"id\":\"22a0af10-dc51-48d6-c8af-c0428286a515\",\"type\":\"Plot\",\"subtype\":\"Figure\"},\"dimensions\":[\"width\",\"height\"],\"id\":\"443ee65b-aa1c-44a1-c417-d1ee952f8f98\",\"doc\":null,\"tags\":[]}},{\"id\":\"97a491b3-49f5-4930-c940-b34d6b49548e\",\"type\":\"WheelZoomTool\",\"attributes\":{\"plot\":{\"id\":\"22a0af10-dc51-48d6-c8af-c0428286a515\",\"type\":\"Plot\",\"subtype\":\"Figure\"},\"dimensions\":[\"width\",\"height\"],\"id\":\"97a491b3-49f5-4930-c940-b34d6b49548e\",\"doc\":null,\"tags\":[]}},{\"id\":\"8e7838f9-dd46-409d-c0de-21ad05adb457\",\"type\":\"BoxZoomTool\",\"attributes\":{\"plot\":{\"id\":\"22a0af10-dc51-48d6-c8af-c0428286a515\",\"type\":\"Plot\",\"subtype\":\"Figure\"},\"id\":\"8e7838f9-dd46-409d-c0de-21ad05adb457\",\"tags\":[],\"doc\":null}},{\"id\":\"3e85d1b1-efcf-44a6-c432-359a926ea8cb\",\"type\":\"PreviewSaveTool\",\"attributes\":{\"plot\":{\"id\":\"22a0af10-dc51-48d6-c8af-c0428286a515\",\"type\":\"Plot\",\"subtype\":\"Figure\"},\"id\":\"3e85d1b1-efcf-44a6-c432-359a926ea8cb\",\"tags\":[],\"doc\":null}},{\"id\":\"5a4559ea-1634-4afd-cada-430cd60c6e61\",\"type\":\"ResizeTool\",\"attributes\":{\"plot\":{\"id\":\"22a0af10-dc51-48d6-c8af-c0428286a515\",\"type\":\"Plot\",\"subtype\":\"Figure\"},\"id\":\"5a4559ea-1634-4afd-cada-430cd60c6e61\",\"tags\":[],\"doc\":null}},{\"id\":\"78216913-fc81-4161-c192-59a726c87eb2\",\"type\":\"ResetTool\",\"attributes\":{\"plot\":{\"id\":\"22a0af10-dc51-48d6-c8af-c0428286a515\",\"type\":\"Plot\",\"subtype\":\"Figure\"},\"id\":\"78216913-fc81-4161-c192-59a726c87eb2\",\"tags\":[],\"doc\":null}},{\"id\":\"57720d7f-cffa-47ad-c733-8132013abb40\",\"type\":\"Legend\",\"attributes\":{\"plot\":{\"id\":\"22a0af10-dc51-48d6-c8af-c0428286a515\",\"type\":\"Plot\",\"subtype\":\"Figure\"},\"legends\":[[\"LSTM (50k)\",[{\"type\":\"GlyphRenderer\",\"id\":\"042700f1-5140-4818-c8ef-4a59310a917a\"}]],[\"LSTM (100k)\",[{\"type\":\"GlyphRenderer\",\"id\":\"1ce97f20-55b2-42f3-c27d-d8df55e6fe33\"}]],[\"LSTM (stream)\",[{\"type\":\"GlyphRenderer\",\"id\":\"dc3f086d-8493-4463-c446-bfa51d91ece3\"}]]],\"id\":\"57720d7f-cffa-47ad-c733-8132013abb40\",\"doc\":null,\"tags\":[]}},{\"id\":\"22a0af10-dc51-48d6-c8af-c0428286a515\",\"type\":\"Plot\",\"attributes\":{\"x_range\":{\"type\":\"DataRange1d\",\"id\":\"4efe6906-7f6e-4b7a-cbb6-c9581ae09565\"},\"tool_events\":{\"type\":\"ToolEvents\",\"id\":\"d98a3ad8-b633-4d21-cdd0-efbbece20df6\"},\"below\":[{\"type\":\"LinearAxis\",\"id\":\"84a6df1f-9e7e-46d3-c6f7-ab19c296731d\"}],\"renderers\":[{\"type\":\"GlyphRenderer\",\"id\":\"042700f1-5140-4818-c8ef-4a59310a917a\"},{\"type\":\"GlyphRenderer\",\"id\":\"1ce97f20-55b2-42f3-c27d-d8df55e6fe33\"},{\"type\":\"GlyphRenderer\",\"id\":\"dc3f086d-8493-4463-c446-bfa51d91ece3\"},{\"type\":\"LinearAxis\",\"id\":\"84a6df1f-9e7e-46d3-c6f7-ab19c296731d\"},{\"type\":\"Grid\",\"id\":\"769f8b92-aaae-4d8b-cd41-83186b96a017\"},{\"type\":\"LinearAxis\",\"id\":\"fab3f2f3-127e-4ce6-cc19-1c6b840c9daf\"},{\"type\":\"Grid\",\"id\":\"6e62bc0a-56ae-4232-c209-a5db6d912972\"},{\"type\":\"Legend\",\"id\":\"57720d7f-cffa-47ad-c733-8132013abb40\"}],\"above\":[],\"tools\":[{\"type\":\"PanTool\",\"id\":\"443ee65b-aa1c-44a1-c417-d1ee952f8f98\"},{\"type\":\"WheelZoomTool\",\"id\":\"97a491b3-49f5-4930-c940-b34d6b49548e\"},{\"type\":\"BoxZoomTool\",\"id\":\"8e7838f9-dd46-409d-c0de-21ad05adb457\"},{\"type\":\"PreviewSaveTool\",\"id\":\"3e85d1b1-efcf-44a6-c432-359a926ea8cb\"},{\"type\":\"ResizeTool\",\"id\":\"5a4559ea-1634-4afd-cada-430cd60c6e61\"},{\"type\":\"ResetTool\",\"id\":\"78216913-fc81-4161-c192-59a726c87eb2\"}],\"doc\":null,\"right\":[],\"title\":\"Validation Accuracy For Varying Dataset Size (9-Long Episodes)\",\"extra_x_ranges\":{},\"left\":[{\"type\":\"LinearAxis\",\"id\":\"fab3f2f3-127e-4ce6-cc19-1c6b840c9daf\"}],\"y_range\":{\"type\":\"DataRange1d\",\"id\":\"b31786bf-6ee1-49e7-c97e-44a5707a150b\"},\"id\":\"22a0af10-dc51-48d6-c8af-c0428286a515\",\"extra_y_ranges\":{},\"tags\":[]}}];\n",
       "  Bokeh.load_models(all_models);\n",
       "  var model = Bokeh.Collections(modeltype).get(modelid);\n",
       "  $(\"#213c2c49-a925-45f6-c520-a222f5a0770e\").html(''); // clear any previous plot in window_id\n",
       "  var view = new model.default_view({model: model, el: \"#213c2c49-a925-45f6-c520-a222f5a0770e\"});\n",
       "    } else {\n",
       "  load_lib(bokehjs_url, function() {\n",
       "      console.log(\"Bokeh: BokehJS plotting callback run at\", new Date())\n",
       "      var modelid = \"22a0af10-dc51-48d6-c8af-c0428286a515\";\n",
       "      var modeltype = \"Plot\";\n",
       "      var all_models = [{\"id\":\"dbe35bdd-f4f1-453e-c5f3-387a765229e8\",\"type\":\"ColumnDataSource\",\"attributes\":{\"data\":{\"y\":[67.882222,69.477778,69.843333,70.131111,70.3,70.296667,70.242222,70.243333,70.11,70.061111,70.022222,70.02,69.728889,69.758889,69.532222,69.643333,69.296667,69.438889,69.098889,69.11,69.126667,68.921111,69.041111,68.84,68.665556,68.548889,68.456667,68.36,68.267778,68.174444,68.066667,68.024444,67.87,67.841111,67.81,67.741111,67.603333,67.446667,67.617778],\"x\":[1,2,3,4,5,6,7,8,9,10,11,12,13,14,15,16,17,18,19,20,21,22,23,24,25,26,27,28,29,30,31,32,33,34,35,36,37,38,39]},\"column_names\":[\"y\",\"x\"],\"cont_ranges\":{},\"discrete_ranges\":{},\"selected\":[],\"id\":\"dbe35bdd-f4f1-453e-c5f3-387a765229e8\",\"doc\":null,\"tags\":[]}},{\"id\":\"7bbe68dd-c0ac-4601-c690-b6a17007e869\",\"type\":\"Line\",\"attributes\":{\"fill_alpha\":{\"units\":\"data\",\"value\":0.2},\"line_alpha\":{\"units\":\"data\",\"value\":1},\"doc\":null,\"size\":{\"units\":\"screen\",\"value\":10},\"fill_color\":{\"value\":\"red\"},\"line_color\":{\"value\":\"red\"},\"x\":{\"units\":\"data\",\"field\":\"x\"},\"id\":\"7bbe68dd-c0ac-4601-c690-b6a17007e869\",\"y\":{\"units\":\"data\",\"field\":\"y\"},\"tags\":[]}},{\"id\":\"14fa8eac-f8f7-4366-c3e5-5f7646066f34\",\"type\":\"Line\",\"attributes\":{\"fill_alpha\":{\"units\":\"data\",\"value\":0.2},\"line_alpha\":{\"units\":\"data\",\"value\":1},\"doc\":null,\"size\":{\"units\":\"screen\",\"value\":10},\"fill_color\":{\"value\":\"red\"},\"line_color\":{\"value\":\"red\"},\"x\":{\"units\":\"data\",\"field\":\"x\"},\"id\":\"14fa8eac-f8f7-4366-c3e5-5f7646066f34\",\"y\":{\"units\":\"data\",\"field\":\"y\"},\"tags\":[]}},{\"id\":\"042700f1-5140-4818-c8ef-4a59310a917a\",\"type\":\"GlyphRenderer\",\"attributes\":{\"name\":null,\"nonselection_glyph\":{\"type\":\"Line\",\"id\":\"14fa8eac-f8f7-4366-c3e5-5f7646066f34\"},\"doc\":null,\"server_data_source\":null,\"data_source\":{\"type\":\"ColumnDataSource\",\"id\":\"dbe35bdd-f4f1-453e-c5f3-387a765229e8\"},\"glyph\":{\"type\":\"Line\",\"id\":\"7bbe68dd-c0ac-4601-c690-b6a17007e869\"},\"selection_glyph\":null,\"id\":\"042700f1-5140-4818-c8ef-4a59310a917a\",\"tags\":[]}},{\"id\":\"12e6d30f-f429-4fcd-cf96-5bab9578bfcc\",\"type\":\"ColumnDataSource\",\"attributes\":{\"data\":{\"y\":[69.244444,70.402778,70.794444,70.997778,70.980556,71.111111,71.162778,71.113333,71.010556,70.965556,70.958333,70.876111,70.733333,70.737778,70.663889,70.685556,70.688333,70.542222,70.532778,70.551667,70.392778,70.366667,70.282778,70.180556,70.241667,70.151667,70.166667,70.095556,70.111667,70.071667,69.924444,69.866667,69.966667,69.845556,69.86,69.771667,69.788333,69.706111,69.67],\"x\":[1,2,3,4,5,6,7,8,9,10,11,12,13,14,15,16,17,18,19,20,21,22,23,24,25,26,27,28,29,30,31,32,33,34,35,36,37,38,39]},\"column_names\":[\"y\",\"x\"],\"cont_ranges\":{},\"discrete_ranges\":{},\"selected\":[],\"id\":\"12e6d30f-f429-4fcd-cf96-5bab9578bfcc\",\"doc\":null,\"tags\":[]}},{\"id\":\"8d023e15-7372-48e5-c830-3a7001776575\",\"type\":\"Line\",\"attributes\":{\"fill_alpha\":{\"units\":\"data\",\"value\":0.2},\"line_alpha\":{\"units\":\"data\",\"value\":1},\"doc\":null,\"size\":{\"units\":\"screen\",\"value\":10},\"fill_color\":{\"value\":\"blue\"},\"line_color\":{\"value\":\"blue\"},\"x\":{\"units\":\"data\",\"field\":\"x\"},\"id\":\"8d023e15-7372-48e5-c830-3a7001776575\",\"y\":{\"units\":\"data\",\"field\":\"y\"},\"tags\":[]}},{\"id\":\"42c1fb1d-76cd-4619-c6c3-be5473d9c219\",\"type\":\"Line\",\"attributes\":{\"fill_alpha\":{\"units\":\"data\",\"value\":0.2},\"line_alpha\":{\"units\":\"data\",\"value\":1},\"doc\":null,\"size\":{\"units\":\"screen\",\"value\":10},\"fill_color\":{\"value\":\"blue\"},\"line_color\":{\"value\":\"blue\"},\"x\":{\"units\":\"data\",\"field\":\"x\"},\"id\":\"42c1fb1d-76cd-4619-c6c3-be5473d9c219\",\"y\":{\"units\":\"data\",\"field\":\"y\"},\"tags\":[]}},{\"id\":\"1ce97f20-55b2-42f3-c27d-d8df55e6fe33\",\"type\":\"GlyphRenderer\",\"attributes\":{\"name\":null,\"nonselection_glyph\":{\"type\":\"Line\",\"id\":\"42c1fb1d-76cd-4619-c6c3-be5473d9c219\"},\"doc\":null,\"server_data_source\":null,\"data_source\":{\"type\":\"ColumnDataSource\",\"id\":\"12e6d30f-f429-4fcd-cf96-5bab9578bfcc\"},\"glyph\":{\"type\":\"Line\",\"id\":\"8d023e15-7372-48e5-c830-3a7001776575\"},\"selection_glyph\":null,\"id\":\"1ce97f20-55b2-42f3-c27d-d8df55e6fe33\",\"tags\":[]}},{\"id\":\"14a5a30c-4dfe-4108-c11d-c4fe72f427fb\",\"type\":\"ColumnDataSource\",\"attributes\":{\"data\":{\"y\":[67.863333,69.418889,70.498889,70.735556,70.844444,71.147778,71.462222,71.528889,71.656667,71.624444,72.052222,71.701111,71.872222,72.107778,72.135556,72.005556,72.148889,72.121111,72.261111,72.202222,72.1,72.28,72.308889,72.587778,72.337778,72.583333,72.408889,72.334444,72.421111,72.381111,72.657778,72.65,72.504444,72.611111,72.548889,72.961111,72.744444,72.915556,72.732222],\"x\":[1,2,3,4,5,6,7,8,9,10,11,12,13,14,15,16,17,18,19,20,21,22,23,24,25,26,27,28,29,30,31,32,33,34,35,36,37,38,39]},\"column_names\":[\"y\",\"x\"],\"cont_ranges\":{},\"discrete_ranges\":{},\"selected\":[],\"id\":\"14a5a30c-4dfe-4108-c11d-c4fe72f427fb\",\"doc\":null,\"tags\":[]}},{\"id\":\"e59ebcbd-048b-4f35-cf35-b33d0e10ba2f\",\"type\":\"Line\",\"attributes\":{\"fill_alpha\":{\"units\":\"data\",\"value\":0.2},\"line_alpha\":{\"units\":\"data\",\"value\":1},\"doc\":null,\"size\":{\"units\":\"screen\",\"value\":10},\"fill_color\":{\"value\":\"green\"},\"line_color\":{\"value\":\"green\"},\"x\":{\"units\":\"data\",\"field\":\"x\"},\"id\":\"e59ebcbd-048b-4f35-cf35-b33d0e10ba2f\",\"y\":{\"units\":\"data\",\"field\":\"y\"},\"tags\":[]}},{\"id\":\"e6d74480-15da-42c7-c2e2-f977a5907f7a\",\"type\":\"Line\",\"attributes\":{\"fill_alpha\":{\"units\":\"data\",\"value\":0.2},\"line_alpha\":{\"units\":\"data\",\"value\":1},\"doc\":null,\"size\":{\"units\":\"screen\",\"value\":10},\"fill_color\":{\"value\":\"green\"},\"line_color\":{\"value\":\"green\"},\"x\":{\"units\":\"data\",\"field\":\"x\"},\"id\":\"e6d74480-15da-42c7-c2e2-f977a5907f7a\",\"y\":{\"units\":\"data\",\"field\":\"y\"},\"tags\":[]}},{\"id\":\"dc3f086d-8493-4463-c446-bfa51d91ece3\",\"type\":\"GlyphRenderer\",\"attributes\":{\"name\":null,\"nonselection_glyph\":{\"type\":\"Line\",\"id\":\"e6d74480-15da-42c7-c2e2-f977a5907f7a\"},\"doc\":null,\"server_data_source\":null,\"data_source\":{\"type\":\"ColumnDataSource\",\"id\":\"14a5a30c-4dfe-4108-c11d-c4fe72f427fb\"},\"glyph\":{\"type\":\"Line\",\"id\":\"e59ebcbd-048b-4f35-cf35-b33d0e10ba2f\"},\"selection_glyph\":null,\"id\":\"dc3f086d-8493-4463-c446-bfa51d91ece3\",\"tags\":[]}},{\"id\":\"4efe6906-7f6e-4b7a-cbb6-c9581ae09565\",\"type\":\"DataRange1d\",\"attributes\":{\"sources\":[{\"columns\":[\"x\"],\"source\":{\"type\":\"ColumnDataSource\",\"id\":\"dbe35bdd-f4f1-453e-c5f3-387a765229e8\"}},{\"columns\":[\"x\"],\"source\":{\"type\":\"ColumnDataSource\",\"id\":\"12e6d30f-f429-4fcd-cf96-5bab9578bfcc\"}},{\"columns\":[\"x\"],\"source\":{\"type\":\"ColumnDataSource\",\"id\":\"14a5a30c-4dfe-4108-c11d-c4fe72f427fb\"}}],\"id\":\"4efe6906-7f6e-4b7a-cbb6-c9581ae09565\",\"tags\":[],\"doc\":null}},{\"id\":\"b31786bf-6ee1-49e7-c97e-44a5707a150b\",\"type\":\"DataRange1d\",\"attributes\":{\"sources\":[{\"columns\":[\"y\"],\"source\":{\"type\":\"ColumnDataSource\",\"id\":\"dbe35bdd-f4f1-453e-c5f3-387a765229e8\"}},{\"columns\":[\"y\"],\"source\":{\"type\":\"ColumnDataSource\",\"id\":\"12e6d30f-f429-4fcd-cf96-5bab9578bfcc\"}},{\"columns\":[\"y\"],\"source\":{\"type\":\"ColumnDataSource\",\"id\":\"14a5a30c-4dfe-4108-c11d-c4fe72f427fb\"}}],\"id\":\"b31786bf-6ee1-49e7-c97e-44a5707a150b\",\"tags\":[],\"doc\":null}},{\"id\":\"d98a3ad8-b633-4d21-cdd0-efbbece20df6\",\"type\":\"ToolEvents\",\"attributes\":{\"tags\":[],\"id\":\"d98a3ad8-b633-4d21-cdd0-efbbece20df6\",\"geometries\":[],\"doc\":null}},{\"id\":\"6489fd83-016d-405e-c085-2bd377825077\",\"type\":\"BasicTickFormatter\",\"attributes\":{\"id\":\"6489fd83-016d-405e-c085-2bd377825077\",\"tags\":[],\"doc\":null}},{\"id\":\"9922e825-0443-475d-c72f-8c762696bc10\",\"type\":\"BasicTicker\",\"attributes\":{\"num_minor_ticks\":5,\"id\":\"9922e825-0443-475d-c72f-8c762696bc10\",\"tags\":[],\"doc\":null}},{\"id\":\"84a6df1f-9e7e-46d3-c6f7-ab19c296731d\",\"type\":\"LinearAxis\",\"attributes\":{\"formatter\":{\"type\":\"BasicTickFormatter\",\"id\":\"6489fd83-016d-405e-c085-2bd377825077\"},\"ticker\":{\"type\":\"BasicTicker\",\"id\":\"9922e825-0443-475d-c72f-8c762696bc10\"},\"plot\":{\"id\":\"22a0af10-dc51-48d6-c8af-c0428286a515\",\"type\":\"Plot\",\"subtype\":\"Figure\"},\"axis_label\":\"Epoch\",\"id\":\"84a6df1f-9e7e-46d3-c6f7-ab19c296731d\",\"doc\":null,\"tags\":[]}},{\"id\":\"769f8b92-aaae-4d8b-cd41-83186b96a017\",\"type\":\"Grid\",\"attributes\":{\"dimension\":0,\"plot\":{\"id\":\"22a0af10-dc51-48d6-c8af-c0428286a515\",\"type\":\"Plot\",\"subtype\":\"Figure\"},\"ticker\":{\"type\":\"BasicTicker\",\"id\":\"9922e825-0443-475d-c72f-8c762696bc10\"},\"id\":\"769f8b92-aaae-4d8b-cd41-83186b96a017\",\"doc\":null,\"tags\":[]}},{\"id\":\"1c06e864-2c5f-4804-c80b-f55d23fa588a\",\"type\":\"BasicTickFormatter\",\"attributes\":{\"id\":\"1c06e864-2c5f-4804-c80b-f55d23fa588a\",\"tags\":[],\"doc\":null}},{\"id\":\"7fca70fd-9d1c-4648-c6e6-a30ccb24f472\",\"type\":\"BasicTicker\",\"attributes\":{\"num_minor_ticks\":5,\"id\":\"7fca70fd-9d1c-4648-c6e6-a30ccb24f472\",\"tags\":[],\"doc\":null}},{\"id\":\"fab3f2f3-127e-4ce6-cc19-1c6b840c9daf\",\"type\":\"LinearAxis\",\"attributes\":{\"formatter\":{\"type\":\"BasicTickFormatter\",\"id\":\"1c06e864-2c5f-4804-c80b-f55d23fa588a\"},\"ticker\":{\"type\":\"BasicTicker\",\"id\":\"7fca70fd-9d1c-4648-c6e6-a30ccb24f472\"},\"plot\":{\"id\":\"22a0af10-dc51-48d6-c8af-c0428286a515\",\"type\":\"Plot\",\"subtype\":\"Figure\"},\"axis_label\":\"Validation Acc\",\"id\":\"fab3f2f3-127e-4ce6-cc19-1c6b840c9daf\",\"doc\":null,\"tags\":[]}},{\"id\":\"6e62bc0a-56ae-4232-c209-a5db6d912972\",\"type\":\"Grid\",\"attributes\":{\"dimension\":1,\"plot\":{\"id\":\"22a0af10-dc51-48d6-c8af-c0428286a515\",\"type\":\"Plot\",\"subtype\":\"Figure\"},\"ticker\":{\"type\":\"BasicTicker\",\"id\":\"7fca70fd-9d1c-4648-c6e6-a30ccb24f472\"},\"id\":\"6e62bc0a-56ae-4232-c209-a5db6d912972\",\"doc\":null,\"tags\":[]}},{\"id\":\"443ee65b-aa1c-44a1-c417-d1ee952f8f98\",\"type\":\"PanTool\",\"attributes\":{\"plot\":{\"id\":\"22a0af10-dc51-48d6-c8af-c0428286a515\",\"type\":\"Plot\",\"subtype\":\"Figure\"},\"dimensions\":[\"width\",\"height\"],\"id\":\"443ee65b-aa1c-44a1-c417-d1ee952f8f98\",\"doc\":null,\"tags\":[]}},{\"id\":\"97a491b3-49f5-4930-c940-b34d6b49548e\",\"type\":\"WheelZoomTool\",\"attributes\":{\"plot\":{\"id\":\"22a0af10-dc51-48d6-c8af-c0428286a515\",\"type\":\"Plot\",\"subtype\":\"Figure\"},\"dimensions\":[\"width\",\"height\"],\"id\":\"97a491b3-49f5-4930-c940-b34d6b49548e\",\"doc\":null,\"tags\":[]}},{\"id\":\"8e7838f9-dd46-409d-c0de-21ad05adb457\",\"type\":\"BoxZoomTool\",\"attributes\":{\"plot\":{\"id\":\"22a0af10-dc51-48d6-c8af-c0428286a515\",\"type\":\"Plot\",\"subtype\":\"Figure\"},\"id\":\"8e7838f9-dd46-409d-c0de-21ad05adb457\",\"tags\":[],\"doc\":null}},{\"id\":\"3e85d1b1-efcf-44a6-c432-359a926ea8cb\",\"type\":\"PreviewSaveTool\",\"attributes\":{\"plot\":{\"id\":\"22a0af10-dc51-48d6-c8af-c0428286a515\",\"type\":\"Plot\",\"subtype\":\"Figure\"},\"id\":\"3e85d1b1-efcf-44a6-c432-359a926ea8cb\",\"tags\":[],\"doc\":null}},{\"id\":\"5a4559ea-1634-4afd-cada-430cd60c6e61\",\"type\":\"ResizeTool\",\"attributes\":{\"plot\":{\"id\":\"22a0af10-dc51-48d6-c8af-c0428286a515\",\"type\":\"Plot\",\"subtype\":\"Figure\"},\"id\":\"5a4559ea-1634-4afd-cada-430cd60c6e61\",\"tags\":[],\"doc\":null}},{\"id\":\"78216913-fc81-4161-c192-59a726c87eb2\",\"type\":\"ResetTool\",\"attributes\":{\"plot\":{\"id\":\"22a0af10-dc51-48d6-c8af-c0428286a515\",\"type\":\"Plot\",\"subtype\":\"Figure\"},\"id\":\"78216913-fc81-4161-c192-59a726c87eb2\",\"tags\":[],\"doc\":null}},{\"id\":\"57720d7f-cffa-47ad-c733-8132013abb40\",\"type\":\"Legend\",\"attributes\":{\"plot\":{\"id\":\"22a0af10-dc51-48d6-c8af-c0428286a515\",\"type\":\"Plot\",\"subtype\":\"Figure\"},\"legends\":[[\"LSTM (50k)\",[{\"type\":\"GlyphRenderer\",\"id\":\"042700f1-5140-4818-c8ef-4a59310a917a\"}]],[\"LSTM (100k)\",[{\"type\":\"GlyphRenderer\",\"id\":\"1ce97f20-55b2-42f3-c27d-d8df55e6fe33\"}]],[\"LSTM (stream)\",[{\"type\":\"GlyphRenderer\",\"id\":\"dc3f086d-8493-4463-c446-bfa51d91ece3\"}]]],\"id\":\"57720d7f-cffa-47ad-c733-8132013abb40\",\"doc\":null,\"tags\":[]}},{\"id\":\"22a0af10-dc51-48d6-c8af-c0428286a515\",\"type\":\"Plot\",\"attributes\":{\"x_range\":{\"type\":\"DataRange1d\",\"id\":\"4efe6906-7f6e-4b7a-cbb6-c9581ae09565\"},\"tool_events\":{\"type\":\"ToolEvents\",\"id\":\"d98a3ad8-b633-4d21-cdd0-efbbece20df6\"},\"below\":[{\"type\":\"LinearAxis\",\"id\":\"84a6df1f-9e7e-46d3-c6f7-ab19c296731d\"}],\"renderers\":[{\"type\":\"GlyphRenderer\",\"id\":\"042700f1-5140-4818-c8ef-4a59310a917a\"},{\"type\":\"GlyphRenderer\",\"id\":\"1ce97f20-55b2-42f3-c27d-d8df55e6fe33\"},{\"type\":\"GlyphRenderer\",\"id\":\"dc3f086d-8493-4463-c446-bfa51d91ece3\"},{\"type\":\"LinearAxis\",\"id\":\"84a6df1f-9e7e-46d3-c6f7-ab19c296731d\"},{\"type\":\"Grid\",\"id\":\"769f8b92-aaae-4d8b-cd41-83186b96a017\"},{\"type\":\"LinearAxis\",\"id\":\"fab3f2f3-127e-4ce6-cc19-1c6b840c9daf\"},{\"type\":\"Grid\",\"id\":\"6e62bc0a-56ae-4232-c209-a5db6d912972\"},{\"type\":\"Legend\",\"id\":\"57720d7f-cffa-47ad-c733-8132013abb40\"}],\"above\":[],\"tools\":[{\"type\":\"PanTool\",\"id\":\"443ee65b-aa1c-44a1-c417-d1ee952f8f98\"},{\"type\":\"WheelZoomTool\",\"id\":\"97a491b3-49f5-4930-c940-b34d6b49548e\"},{\"type\":\"BoxZoomTool\",\"id\":\"8e7838f9-dd46-409d-c0de-21ad05adb457\"},{\"type\":\"PreviewSaveTool\",\"id\":\"3e85d1b1-efcf-44a6-c432-359a926ea8cb\"},{\"type\":\"ResizeTool\",\"id\":\"5a4559ea-1634-4afd-cada-430cd60c6e61\"},{\"type\":\"ResetTool\",\"id\":\"78216913-fc81-4161-c192-59a726c87eb2\"}],\"doc\":null,\"right\":[],\"title\":\"Validation Accuracy For Varying Dataset Size (9-Long Episodes)\",\"extra_x_ranges\":{},\"left\":[{\"type\":\"LinearAxis\",\"id\":\"fab3f2f3-127e-4ce6-cc19-1c6b840c9daf\"}],\"y_range\":{\"type\":\"DataRange1d\",\"id\":\"b31786bf-6ee1-49e7-c97e-44a5707a150b\"},\"id\":\"22a0af10-dc51-48d6-c8af-c0428286a515\",\"extra_y_ranges\":{},\"tags\":[]}}];\n",
       "      Bokeh.load_models(all_models);\n",
       "      var model = Bokeh.Collections(modeltype).get(modelid);\n",
       "      $(\"#213c2c49-a925-45f6-c520-a222f5a0770e\").html(''); // clear any previous plot in window_id\n",
       "      var view = new model.default_view({model: model, el: \"#213c2c49-a925-45f6-c520-a222f5a0770e\"});\n",
       "  });\n",
       "    }\n",
       "});\n",
       "</script>\n",
       "<div class=\"plotdiv\" id=\"213c2c49-a925-45f6-c520-a222f5a0770e\"></div>\n"
      ]
     },
     "metadata": {},
     "output_type": "display_data"
    }
   ],
   "source": [
    "--Compare streaming dataset to fixed datasets\n",
    "require 'csvigo'\n",
    "\n",
    "\n",
    "function create_plot(first_csv, second_csv, stream_csv, title)\n",
    "    fifty = csvigo.load(first_csv)\n",
    "    hund = csvigo.load(second_csv)\n",
    "    stream = csvigo.load(stream_csv)\n",
    "    \n",
    "    plot = itorch.Plot()\n",
    "    -- use just validation accuracy and error\n",
    "    -- standardize to 39 epochs (stupid off by one error)\n",
    "    acc_1 = torch.Tensor(fifty.test_acc)[{ {1,39} }]\n",
    "    acc_2 = torch.Tensor(hund.test_acc)[{ {1,39} }]\n",
    "    acc_s = torch.Tensor(stream.test_acc)[{ {1,39} }]\n",
    "    x = torch.range(1,39)\n",
    "    plot:line(x, acc_1, 'red', 'LSTM (50k)')\n",
    "    plot:line(x, acc_2, 'blue', 'LSTM (100k)')\n",
    "    plot:line(x, acc_s, 'green', 'LSTM (stream)')\n",
    "    plot:title(title)\n",
    "    plot:xaxis('Epoch'):yaxis('Validation Acc')\n",
    "    plot:legend(true)\n",
    "    plot:draw()\n",
    "end\n",
    "\n",
    "create_plot(\n",
    "    'models_9_lstm/trainingdata.csv',\n",
    "    'models_more_data/9_lstm/trainingdata.csv',\n",
    "    'models_streaming/9_lstm/trainingdata.csv',\n",
    "    'Validation Accuracy For Varying Dataset Size (9-Long Episodes)'\n",
    ")"
   ]
  },
  {
   "cell_type": "code",
   "execution_count": 30,
   "metadata": {
    "collapsed": false
   },
   "outputs": [
    {
     "data": {
      "text/plain": [
       "<csv>\tparsing file: models_more_data/9_lstm_tests/scores.csv\t\n",
       "<csv>\ttidying up entries\t\n",
       "<csv>\treturning tidy table\t\n",
       "<csv>\tparsing file: models_9_lstm_tests/scores.csv\t\n",
       "<csv>\ttidying up entries\t\n",
       "<csv>\treturning tidy table\t\n"
      ]
     },
     "execution_count": 30,
     "metadata": {},
     "output_type": "execute_result"
    },
    {
     "data": {
      "text/html": [
       "<script type=\"text/javascript\">\n",
       "$(function() {\n",
       "    if (typeof (window._bokeh_onload_callbacks) === \"undefined\"){\n",
       "  window._bokeh_onload_callbacks = [];\n",
       "    }\n",
       "    function load_lib(url, callback){\n",
       "  window._bokeh_onload_callbacks.push(callback);\n",
       "  if (window._bokeh_is_loading){\n",
       "      console.log(\"Bokeh: BokehJS is being loaded, scheduling callback at\", new Date());\n",
       "      return null;\n",
       "  }\n",
       "  console.log(\"Bokeh: BokehJS not loaded, scheduling load and callback at\", new Date());\n",
       "  window._bokeh_is_loading = true;\n",
       "  var s = document.createElement('script');\n",
       "  s.src = url;\n",
       "  s.async = true;\n",
       "  s.onreadystatechange = s.onload = function(){\n",
       "      Bokeh.embed.inject_css(\"https://cdn.pydata.org/bokeh-0.7.0.min.css\");\n",
       "      window._bokeh_onload_callbacks.forEach(function(callback){callback()});\n",
       "  };\n",
       "  s.onerror = function(){\n",
       "      console.warn(\"failed to load library \" + url);\n",
       "  };\n",
       "  document.getElementsByTagName(\"head\")[0].appendChild(s);\n",
       "    }\n",
       "\n",
       "    bokehjs_url = \"https://cdn.pydata.org/bokeh-0.7.0.min.js\"\n",
       "\n",
       "    var elt = document.getElementById(\"13cc3acd-158a-4868-c8ad-6dfb981c6d8f\");\n",
       "    if(elt==null) {\n",
       "  console.log(\"Bokeh: ERROR: autoload.js configured with elementid '13cc3acd-158a-4868-c8ad-6dfb981c6d8f'\"\n",
       "        + \"but no matching script tag was found. \")\n",
       "  return false;\n",
       "    }\n",
       "\n",
       "    if(typeof(Bokeh) !== \"undefined\") {\n",
       "  console.log(\"Bokeh: BokehJS loaded, going straight to plotting\");\n",
       "  var modelid = \"ce0837d7-ef00-4585-c527-e63789af1066\";\n",
       "  var modeltype = \"Plot\";\n",
       "  var all_models = [{\"id\":\"0ee5d3d9-158b-4209-c265-c67eb653a7b8\",\"type\":\"ColumnDataSource\",\"attributes\":{\"data\":{\"y\":[100,100,100,99.83,97.71,89.85,76.68,61.27,47.13,34.1,24.78,16.51,11.43,7.57,4.96,2.94,1.97,1.49,0.87,0.52,0.23,0.32,0.13,0.14,0.07,0.05],\"x\":[1,2,3,4,5,6,7,8,9,10,11,12,13,14,15,16,17,18,19,20,21,22,23,24,25,26]},\"column_names\":[\"y\",\"x\"],\"cont_ranges\":{},\"discrete_ranges\":{},\"selected\":[],\"id\":\"0ee5d3d9-158b-4209-c265-c67eb653a7b8\",\"doc\":null,\"tags\":[]}},{\"id\":\"9bdbe0c8-42ca-4d20-cd81-793239560613\",\"type\":\"Line\",\"attributes\":{\"fill_alpha\":{\"units\":\"data\",\"value\":0.2},\"line_alpha\":{\"units\":\"data\",\"value\":1},\"doc\":null,\"size\":{\"units\":\"screen\",\"value\":10},\"fill_color\":{\"value\":\"red\"},\"line_color\":{\"value\":\"red\"},\"x\":{\"units\":\"data\",\"field\":\"x\"},\"id\":\"9bdbe0c8-42ca-4d20-cd81-793239560613\",\"y\":{\"units\":\"data\",\"field\":\"y\"},\"tags\":[]}},{\"id\":\"4eed7424-f329-4b35-cbae-d30da29d3688\",\"type\":\"Line\",\"attributes\":{\"fill_alpha\":{\"units\":\"data\",\"value\":0.2},\"line_alpha\":{\"units\":\"data\",\"value\":1},\"doc\":null,\"size\":{\"units\":\"screen\",\"value\":10},\"fill_color\":{\"value\":\"red\"},\"line_color\":{\"value\":\"red\"},\"x\":{\"units\":\"data\",\"field\":\"x\"},\"id\":\"4eed7424-f329-4b35-cbae-d30da29d3688\",\"y\":{\"units\":\"data\",\"field\":\"y\"},\"tags\":[]}},{\"id\":\"decda9a7-5804-4219-c285-0f4f58aa7f49\",\"type\":\"GlyphRenderer\",\"attributes\":{\"name\":null,\"nonselection_glyph\":{\"type\":\"Line\",\"id\":\"4eed7424-f329-4b35-cbae-d30da29d3688\"},\"doc\":null,\"server_data_source\":null,\"data_source\":{\"type\":\"ColumnDataSource\",\"id\":\"0ee5d3d9-158b-4209-c265-c67eb653a7b8\"},\"glyph\":{\"type\":\"Line\",\"id\":\"9bdbe0c8-42ca-4d20-cd81-793239560613\"},\"selection_glyph\":null,\"id\":\"decda9a7-5804-4219-c285-0f4f58aa7f49\",\"tags\":[]}},{\"id\":\"6644b98a-a650-429b-c26a-67a6f878d194\",\"type\":\"ColumnDataSource\",\"attributes\":{\"data\":{\"y\":[100,100,100,99.74,96.12,87.6,71.87,58,42.21,31.18,20.96,15.03,9.83,6.61,4.23,2.9,1.87,1.06,0.76,0.39,0.31,0.18,0.14,0.06,0.05,0.01],\"x\":[1,2,3,4,5,6,7,8,9,10,11,12,13,14,15,16,17,18,19,20,21,22,23,24,25,26]},\"column_names\":[\"y\",\"x\"],\"cont_ranges\":{},\"discrete_ranges\":{},\"selected\":[],\"id\":\"6644b98a-a650-429b-c26a-67a6f878d194\",\"doc\":null,\"tags\":[]}},{\"id\":\"90f8e2fb-03ab-4b59-cbf9-2fe81abd339f\",\"type\":\"Line\",\"attributes\":{\"fill_alpha\":{\"units\":\"data\",\"value\":0.2},\"line_alpha\":{\"units\":\"data\",\"value\":1},\"doc\":null,\"size\":{\"units\":\"screen\",\"value\":10},\"fill_color\":{\"value\":\"blue\"},\"line_color\":{\"value\":\"blue\"},\"x\":{\"units\":\"data\",\"field\":\"x\"},\"id\":\"90f8e2fb-03ab-4b59-cbf9-2fe81abd339f\",\"y\":{\"units\":\"data\",\"field\":\"y\"},\"tags\":[]}},{\"id\":\"e53ebf22-0490-4092-c0e9-5d468432554e\",\"type\":\"Line\",\"attributes\":{\"fill_alpha\":{\"units\":\"data\",\"value\":0.2},\"line_alpha\":{\"units\":\"data\",\"value\":1},\"doc\":null,\"size\":{\"units\":\"screen\",\"value\":10},\"fill_color\":{\"value\":\"blue\"},\"line_color\":{\"value\":\"blue\"},\"x\":{\"units\":\"data\",\"field\":\"x\"},\"id\":\"e53ebf22-0490-4092-c0e9-5d468432554e\",\"y\":{\"units\":\"data\",\"field\":\"y\"},\"tags\":[]}},{\"id\":\"6535aecf-8118-4c25-cc52-cf7dc99f9d7e\",\"type\":\"GlyphRenderer\",\"attributes\":{\"name\":null,\"nonselection_glyph\":{\"type\":\"Line\",\"id\":\"e53ebf22-0490-4092-c0e9-5d468432554e\"},\"doc\":null,\"server_data_source\":null,\"data_source\":{\"type\":\"ColumnDataSource\",\"id\":\"6644b98a-a650-429b-c26a-67a6f878d194\"},\"glyph\":{\"type\":\"Line\",\"id\":\"90f8e2fb-03ab-4b59-cbf9-2fe81abd339f\"},\"selection_glyph\":null,\"id\":\"6535aecf-8118-4c25-cc52-cf7dc99f9d7e\",\"tags\":[]}},{\"id\":\"34836c02-0902-4419-c45a-f86a2d0ebc39\",\"type\":\"DataRange1d\",\"attributes\":{\"sources\":[{\"columns\":[\"x\"],\"source\":{\"type\":\"ColumnDataSource\",\"id\":\"0ee5d3d9-158b-4209-c265-c67eb653a7b8\"}},{\"columns\":[\"x\"],\"source\":{\"type\":\"ColumnDataSource\",\"id\":\"6644b98a-a650-429b-c26a-67a6f878d194\"}}],\"id\":\"34836c02-0902-4419-c45a-f86a2d0ebc39\",\"tags\":[],\"doc\":null}},{\"id\":\"5d59f8d2-cd37-4343-c33b-2083647de025\",\"type\":\"DataRange1d\",\"attributes\":{\"sources\":[{\"columns\":[\"y\"],\"source\":{\"type\":\"ColumnDataSource\",\"id\":\"0ee5d3d9-158b-4209-c265-c67eb653a7b8\"}},{\"columns\":[\"y\"],\"source\":{\"type\":\"ColumnDataSource\",\"id\":\"6644b98a-a650-429b-c26a-67a6f878d194\"}}],\"id\":\"5d59f8d2-cd37-4343-c33b-2083647de025\",\"tags\":[],\"doc\":null}},{\"id\":\"6aba9f36-a873-4c41-cccf-ee25baf691bd\",\"type\":\"ToolEvents\",\"attributes\":{\"tags\":[],\"id\":\"6aba9f36-a873-4c41-cccf-ee25baf691bd\",\"geometries\":[],\"doc\":null}},{\"id\":\"e0d500c7-b8fb-40e6-c07a-3ed870d3f85d\",\"type\":\"BasicTickFormatter\",\"attributes\":{\"id\":\"e0d500c7-b8fb-40e6-c07a-3ed870d3f85d\",\"tags\":[],\"doc\":null}},{\"id\":\"2ece7664-9345-499d-c946-d1dc98d3cb69\",\"type\":\"BasicTicker\",\"attributes\":{\"num_minor_ticks\":5,\"id\":\"2ece7664-9345-499d-c946-d1dc98d3cb69\",\"tags\":[],\"doc\":null}},{\"id\":\"b661fccf-bbc6-43aa-c35a-ed70a2a52bbf\",\"type\":\"LinearAxis\",\"attributes\":{\"formatter\":{\"type\":\"BasicTickFormatter\",\"id\":\"e0d500c7-b8fb-40e6-c07a-3ed870d3f85d\"},\"ticker\":{\"type\":\"BasicTicker\",\"id\":\"2ece7664-9345-499d-c946-d1dc98d3cb69\"},\"plot\":{\"id\":\"ce0837d7-ef00-4585-c527-e63789af1066\",\"type\":\"Plot\",\"subtype\":\"Figure\"},\"axis_label\":\"Scramble Length\",\"id\":\"b661fccf-bbc6-43aa-c35a-ed70a2a52bbf\",\"doc\":null,\"tags\":[]}},{\"id\":\"39893efc-60af-4ed8-cef2-c0c1c7c70d70\",\"type\":\"Grid\",\"attributes\":{\"dimension\":0,\"plot\":{\"id\":\"ce0837d7-ef00-4585-c527-e63789af1066\",\"type\":\"Plot\",\"subtype\":\"Figure\"},\"ticker\":{\"type\":\"BasicTicker\",\"id\":\"2ece7664-9345-499d-c946-d1dc98d3cb69\"},\"id\":\"39893efc-60af-4ed8-cef2-c0c1c7c70d70\",\"doc\":null,\"tags\":[]}},{\"id\":\"fefc02b0-0a14-47ef-c75b-871bc5d52587\",\"type\":\"BasicTickFormatter\",\"attributes\":{\"id\":\"fefc02b0-0a14-47ef-c75b-871bc5d52587\",\"tags\":[],\"doc\":null}},{\"id\":\"a25fc8b7-b1c7-4190-c1e0-68742757b7f5\",\"type\":\"BasicTicker\",\"attributes\":{\"num_minor_ticks\":5,\"id\":\"a25fc8b7-b1c7-4190-c1e0-68742757b7f5\",\"tags\":[],\"doc\":null}},{\"id\":\"2ea2d0d8-2d41-4ac3-ca41-da77966ff34b\",\"type\":\"LinearAxis\",\"attributes\":{\"formatter\":{\"type\":\"BasicTickFormatter\",\"id\":\"fefc02b0-0a14-47ef-c75b-871bc5d52587\"},\"ticker\":{\"type\":\"BasicTicker\",\"id\":\"a25fc8b7-b1c7-4190-c1e0-68742757b7f5\"},\"plot\":{\"id\":\"ce0837d7-ef00-4585-c527-e63789af1066\",\"type\":\"Plot\",\"subtype\":\"Figure\"},\"axis_label\":\"Solve Percentage\",\"id\":\"2ea2d0d8-2d41-4ac3-ca41-da77966ff34b\",\"doc\":null,\"tags\":[]}},{\"id\":\"2ce4f6a3-480a-4812-c8e5-98e3bddf6b57\",\"type\":\"Grid\",\"attributes\":{\"dimension\":1,\"plot\":{\"id\":\"ce0837d7-ef00-4585-c527-e63789af1066\",\"type\":\"Plot\",\"subtype\":\"Figure\"},\"ticker\":{\"type\":\"BasicTicker\",\"id\":\"a25fc8b7-b1c7-4190-c1e0-68742757b7f5\"},\"id\":\"2ce4f6a3-480a-4812-c8e5-98e3bddf6b57\",\"doc\":null,\"tags\":[]}},{\"id\":\"a8dc7672-83d7-4d11-cd89-0640118c11e5\",\"type\":\"PanTool\",\"attributes\":{\"plot\":{\"id\":\"ce0837d7-ef00-4585-c527-e63789af1066\",\"type\":\"Plot\",\"subtype\":\"Figure\"},\"dimensions\":[\"width\",\"height\"],\"id\":\"a8dc7672-83d7-4d11-cd89-0640118c11e5\",\"doc\":null,\"tags\":[]}},{\"id\":\"03932453-5baf-46d3-c6ef-bb9ecec54d95\",\"type\":\"WheelZoomTool\",\"attributes\":{\"plot\":{\"id\":\"ce0837d7-ef00-4585-c527-e63789af1066\",\"type\":\"Plot\",\"subtype\":\"Figure\"},\"dimensions\":[\"width\",\"height\"],\"id\":\"03932453-5baf-46d3-c6ef-bb9ecec54d95\",\"doc\":null,\"tags\":[]}},{\"id\":\"9c821914-09de-4a3c-ca8d-c39cc16325f1\",\"type\":\"BoxZoomTool\",\"attributes\":{\"plot\":{\"id\":\"ce0837d7-ef00-4585-c527-e63789af1066\",\"type\":\"Plot\",\"subtype\":\"Figure\"},\"id\":\"9c821914-09de-4a3c-ca8d-c39cc16325f1\",\"tags\":[],\"doc\":null}},{\"id\":\"f4ccbbad-0b64-49ef-c95c-20c73b51b69f\",\"type\":\"PreviewSaveTool\",\"attributes\":{\"plot\":{\"id\":\"ce0837d7-ef00-4585-c527-e63789af1066\",\"type\":\"Plot\",\"subtype\":\"Figure\"},\"id\":\"f4ccbbad-0b64-49ef-c95c-20c73b51b69f\",\"tags\":[],\"doc\":null}},{\"id\":\"cbaf8735-abe9-4a47-cab9-23b3a0c822ee\",\"type\":\"ResizeTool\",\"attributes\":{\"plot\":{\"id\":\"ce0837d7-ef00-4585-c527-e63789af1066\",\"type\":\"Plot\",\"subtype\":\"Figure\"},\"id\":\"cbaf8735-abe9-4a47-cab9-23b3a0c822ee\",\"tags\":[],\"doc\":null}},{\"id\":\"51ec30dd-eb8a-48b3-c891-348b11859120\",\"type\":\"ResetTool\",\"attributes\":{\"plot\":{\"id\":\"ce0837d7-ef00-4585-c527-e63789af1066\",\"type\":\"Plot\",\"subtype\":\"Figure\"},\"id\":\"51ec30dd-eb8a-48b3-c891-348b11859120\",\"tags\":[],\"doc\":null}},{\"id\":\"cdb405e4-ae13-4a45-cadd-ae2c778f2ea8\",\"type\":\"Legend\",\"attributes\":{\"plot\":{\"id\":\"ce0837d7-ef00-4585-c527-e63789af1066\",\"type\":\"Plot\",\"subtype\":\"Figure\"},\"legends\":[[\"LSTM (9) (10^5 eps)\",[{\"type\":\"GlyphRenderer\",\"id\":\"decda9a7-5804-4219-c285-0f4f58aa7f49\"}]],[\"LSTM (9) (50000 eps)\",[{\"type\":\"GlyphRenderer\",\"id\":\"6535aecf-8118-4c25-cc52-cf7dc99f9d7e\"}]]],\"id\":\"cdb405e4-ae13-4a45-cadd-ae2c778f2ea8\",\"doc\":null,\"tags\":[]}},{\"id\":\"ce0837d7-ef00-4585-c527-e63789af1066\",\"type\":\"Plot\",\"attributes\":{\"x_range\":{\"type\":\"DataRange1d\",\"id\":\"34836c02-0902-4419-c45a-f86a2d0ebc39\"},\"tool_events\":{\"type\":\"ToolEvents\",\"id\":\"6aba9f36-a873-4c41-cccf-ee25baf691bd\"},\"below\":[{\"type\":\"LinearAxis\",\"id\":\"b661fccf-bbc6-43aa-c35a-ed70a2a52bbf\"}],\"renderers\":[{\"type\":\"GlyphRenderer\",\"id\":\"decda9a7-5804-4219-c285-0f4f58aa7f49\"},{\"type\":\"GlyphRenderer\",\"id\":\"6535aecf-8118-4c25-cc52-cf7dc99f9d7e\"},{\"type\":\"LinearAxis\",\"id\":\"b661fccf-bbc6-43aa-c35a-ed70a2a52bbf\"},{\"type\":\"Grid\",\"id\":\"39893efc-60af-4ed8-cef2-c0c1c7c70d70\"},{\"type\":\"LinearAxis\",\"id\":\"2ea2d0d8-2d41-4ac3-ca41-da77966ff34b\"},{\"type\":\"Grid\",\"id\":\"2ce4f6a3-480a-4812-c8e5-98e3bddf6b57\"},{\"type\":\"Legend\",\"id\":\"cdb405e4-ae13-4a45-cadd-ae2c778f2ea8\"}],\"above\":[],\"tools\":[{\"type\":\"PanTool\",\"id\":\"a8dc7672-83d7-4d11-cd89-0640118c11e5\"},{\"type\":\"WheelZoomTool\",\"id\":\"03932453-5baf-46d3-c6ef-bb9ecec54d95\"},{\"type\":\"BoxZoomTool\",\"id\":\"9c821914-09de-4a3c-ca8d-c39cc16325f1\"},{\"type\":\"PreviewSaveTool\",\"id\":\"f4ccbbad-0b64-49ef-c95c-20c73b51b69f\"},{\"type\":\"ResizeTool\",\"id\":\"cbaf8735-abe9-4a47-cab9-23b3a0c822ee\"},{\"type\":\"ResetTool\",\"id\":\"51ec30dd-eb8a-48b3-c891-348b11859120\"}],\"doc\":null,\"right\":[],\"title\":\"Solve Percentages On Random Scrambles\",\"extra_x_ranges\":{},\"left\":[{\"type\":\"LinearAxis\",\"id\":\"2ea2d0d8-2d41-4ac3-ca41-da77966ff34b\"}],\"y_range\":{\"type\":\"DataRange1d\",\"id\":\"5d59f8d2-cd37-4343-c33b-2083647de025\"},\"id\":\"ce0837d7-ef00-4585-c527-e63789af1066\",\"extra_y_ranges\":{},\"tags\":[]}}];\n",
       "  Bokeh.load_models(all_models);\n",
       "  var model = Bokeh.Collections(modeltype).get(modelid);\n",
       "  $(\"#13cc3acd-158a-4868-c8ad-6dfb981c6d8f\").html(''); // clear any previous plot in window_id\n",
       "  var view = new model.default_view({model: model, el: \"#13cc3acd-158a-4868-c8ad-6dfb981c6d8f\"});\n",
       "    } else {\n",
       "  load_lib(bokehjs_url, function() {\n",
       "      console.log(\"Bokeh: BokehJS plotting callback run at\", new Date())\n",
       "      var modelid = \"ce0837d7-ef00-4585-c527-e63789af1066\";\n",
       "      var modeltype = \"Plot\";\n",
       "      var all_models = [{\"id\":\"0ee5d3d9-158b-4209-c265-c67eb653a7b8\",\"type\":\"ColumnDataSource\",\"attributes\":{\"data\":{\"y\":[100,100,100,99.83,97.71,89.85,76.68,61.27,47.13,34.1,24.78,16.51,11.43,7.57,4.96,2.94,1.97,1.49,0.87,0.52,0.23,0.32,0.13,0.14,0.07,0.05],\"x\":[1,2,3,4,5,6,7,8,9,10,11,12,13,14,15,16,17,18,19,20,21,22,23,24,25,26]},\"column_names\":[\"y\",\"x\"],\"cont_ranges\":{},\"discrete_ranges\":{},\"selected\":[],\"id\":\"0ee5d3d9-158b-4209-c265-c67eb653a7b8\",\"doc\":null,\"tags\":[]}},{\"id\":\"9bdbe0c8-42ca-4d20-cd81-793239560613\",\"type\":\"Line\",\"attributes\":{\"fill_alpha\":{\"units\":\"data\",\"value\":0.2},\"line_alpha\":{\"units\":\"data\",\"value\":1},\"doc\":null,\"size\":{\"units\":\"screen\",\"value\":10},\"fill_color\":{\"value\":\"red\"},\"line_color\":{\"value\":\"red\"},\"x\":{\"units\":\"data\",\"field\":\"x\"},\"id\":\"9bdbe0c8-42ca-4d20-cd81-793239560613\",\"y\":{\"units\":\"data\",\"field\":\"y\"},\"tags\":[]}},{\"id\":\"4eed7424-f329-4b35-cbae-d30da29d3688\",\"type\":\"Line\",\"attributes\":{\"fill_alpha\":{\"units\":\"data\",\"value\":0.2},\"line_alpha\":{\"units\":\"data\",\"value\":1},\"doc\":null,\"size\":{\"units\":\"screen\",\"value\":10},\"fill_color\":{\"value\":\"red\"},\"line_color\":{\"value\":\"red\"},\"x\":{\"units\":\"data\",\"field\":\"x\"},\"id\":\"4eed7424-f329-4b35-cbae-d30da29d3688\",\"y\":{\"units\":\"data\",\"field\":\"y\"},\"tags\":[]}},{\"id\":\"decda9a7-5804-4219-c285-0f4f58aa7f49\",\"type\":\"GlyphRenderer\",\"attributes\":{\"name\":null,\"nonselection_glyph\":{\"type\":\"Line\",\"id\":\"4eed7424-f329-4b35-cbae-d30da29d3688\"},\"doc\":null,\"server_data_source\":null,\"data_source\":{\"type\":\"ColumnDataSource\",\"id\":\"0ee5d3d9-158b-4209-c265-c67eb653a7b8\"},\"glyph\":{\"type\":\"Line\",\"id\":\"9bdbe0c8-42ca-4d20-cd81-793239560613\"},\"selection_glyph\":null,\"id\":\"decda9a7-5804-4219-c285-0f4f58aa7f49\",\"tags\":[]}},{\"id\":\"6644b98a-a650-429b-c26a-67a6f878d194\",\"type\":\"ColumnDataSource\",\"attributes\":{\"data\":{\"y\":[100,100,100,99.74,96.12,87.6,71.87,58,42.21,31.18,20.96,15.03,9.83,6.61,4.23,2.9,1.87,1.06,0.76,0.39,0.31,0.18,0.14,0.06,0.05,0.01],\"x\":[1,2,3,4,5,6,7,8,9,10,11,12,13,14,15,16,17,18,19,20,21,22,23,24,25,26]},\"column_names\":[\"y\",\"x\"],\"cont_ranges\":{},\"discrete_ranges\":{},\"selected\":[],\"id\":\"6644b98a-a650-429b-c26a-67a6f878d194\",\"doc\":null,\"tags\":[]}},{\"id\":\"90f8e2fb-03ab-4b59-cbf9-2fe81abd339f\",\"type\":\"Line\",\"attributes\":{\"fill_alpha\":{\"units\":\"data\",\"value\":0.2},\"line_alpha\":{\"units\":\"data\",\"value\":1},\"doc\":null,\"size\":{\"units\":\"screen\",\"value\":10},\"fill_color\":{\"value\":\"blue\"},\"line_color\":{\"value\":\"blue\"},\"x\":{\"units\":\"data\",\"field\":\"x\"},\"id\":\"90f8e2fb-03ab-4b59-cbf9-2fe81abd339f\",\"y\":{\"units\":\"data\",\"field\":\"y\"},\"tags\":[]}},{\"id\":\"e53ebf22-0490-4092-c0e9-5d468432554e\",\"type\":\"Line\",\"attributes\":{\"fill_alpha\":{\"units\":\"data\",\"value\":0.2},\"line_alpha\":{\"units\":\"data\",\"value\":1},\"doc\":null,\"size\":{\"units\":\"screen\",\"value\":10},\"fill_color\":{\"value\":\"blue\"},\"line_color\":{\"value\":\"blue\"},\"x\":{\"units\":\"data\",\"field\":\"x\"},\"id\":\"e53ebf22-0490-4092-c0e9-5d468432554e\",\"y\":{\"units\":\"data\",\"field\":\"y\"},\"tags\":[]}},{\"id\":\"6535aecf-8118-4c25-cc52-cf7dc99f9d7e\",\"type\":\"GlyphRenderer\",\"attributes\":{\"name\":null,\"nonselection_glyph\":{\"type\":\"Line\",\"id\":\"e53ebf22-0490-4092-c0e9-5d468432554e\"},\"doc\":null,\"server_data_source\":null,\"data_source\":{\"type\":\"ColumnDataSource\",\"id\":\"6644b98a-a650-429b-c26a-67a6f878d194\"},\"glyph\":{\"type\":\"Line\",\"id\":\"90f8e2fb-03ab-4b59-cbf9-2fe81abd339f\"},\"selection_glyph\":null,\"id\":\"6535aecf-8118-4c25-cc52-cf7dc99f9d7e\",\"tags\":[]}},{\"id\":\"34836c02-0902-4419-c45a-f86a2d0ebc39\",\"type\":\"DataRange1d\",\"attributes\":{\"sources\":[{\"columns\":[\"x\"],\"source\":{\"type\":\"ColumnDataSource\",\"id\":\"0ee5d3d9-158b-4209-c265-c67eb653a7b8\"}},{\"columns\":[\"x\"],\"source\":{\"type\":\"ColumnDataSource\",\"id\":\"6644b98a-a650-429b-c26a-67a6f878d194\"}}],\"id\":\"34836c02-0902-4419-c45a-f86a2d0ebc39\",\"tags\":[],\"doc\":null}},{\"id\":\"5d59f8d2-cd37-4343-c33b-2083647de025\",\"type\":\"DataRange1d\",\"attributes\":{\"sources\":[{\"columns\":[\"y\"],\"source\":{\"type\":\"ColumnDataSource\",\"id\":\"0ee5d3d9-158b-4209-c265-c67eb653a7b8\"}},{\"columns\":[\"y\"],\"source\":{\"type\":\"ColumnDataSource\",\"id\":\"6644b98a-a650-429b-c26a-67a6f878d194\"}}],\"id\":\"5d59f8d2-cd37-4343-c33b-2083647de025\",\"tags\":[],\"doc\":null}},{\"id\":\"6aba9f36-a873-4c41-cccf-ee25baf691bd\",\"type\":\"ToolEvents\",\"attributes\":{\"tags\":[],\"id\":\"6aba9f36-a873-4c41-cccf-ee25baf691bd\",\"geometries\":[],\"doc\":null}},{\"id\":\"e0d500c7-b8fb-40e6-c07a-3ed870d3f85d\",\"type\":\"BasicTickFormatter\",\"attributes\":{\"id\":\"e0d500c7-b8fb-40e6-c07a-3ed870d3f85d\",\"tags\":[],\"doc\":null}},{\"id\":\"2ece7664-9345-499d-c946-d1dc98d3cb69\",\"type\":\"BasicTicker\",\"attributes\":{\"num_minor_ticks\":5,\"id\":\"2ece7664-9345-499d-c946-d1dc98d3cb69\",\"tags\":[],\"doc\":null}},{\"id\":\"b661fccf-bbc6-43aa-c35a-ed70a2a52bbf\",\"type\":\"LinearAxis\",\"attributes\":{\"formatter\":{\"type\":\"BasicTickFormatter\",\"id\":\"e0d500c7-b8fb-40e6-c07a-3ed870d3f85d\"},\"ticker\":{\"type\":\"BasicTicker\",\"id\":\"2ece7664-9345-499d-c946-d1dc98d3cb69\"},\"plot\":{\"id\":\"ce0837d7-ef00-4585-c527-e63789af1066\",\"type\":\"Plot\",\"subtype\":\"Figure\"},\"axis_label\":\"Scramble Length\",\"id\":\"b661fccf-bbc6-43aa-c35a-ed70a2a52bbf\",\"doc\":null,\"tags\":[]}},{\"id\":\"39893efc-60af-4ed8-cef2-c0c1c7c70d70\",\"type\":\"Grid\",\"attributes\":{\"dimension\":0,\"plot\":{\"id\":\"ce0837d7-ef00-4585-c527-e63789af1066\",\"type\":\"Plot\",\"subtype\":\"Figure\"},\"ticker\":{\"type\":\"BasicTicker\",\"id\":\"2ece7664-9345-499d-c946-d1dc98d3cb69\"},\"id\":\"39893efc-60af-4ed8-cef2-c0c1c7c70d70\",\"doc\":null,\"tags\":[]}},{\"id\":\"fefc02b0-0a14-47ef-c75b-871bc5d52587\",\"type\":\"BasicTickFormatter\",\"attributes\":{\"id\":\"fefc02b0-0a14-47ef-c75b-871bc5d52587\",\"tags\":[],\"doc\":null}},{\"id\":\"a25fc8b7-b1c7-4190-c1e0-68742757b7f5\",\"type\":\"BasicTicker\",\"attributes\":{\"num_minor_ticks\":5,\"id\":\"a25fc8b7-b1c7-4190-c1e0-68742757b7f5\",\"tags\":[],\"doc\":null}},{\"id\":\"2ea2d0d8-2d41-4ac3-ca41-da77966ff34b\",\"type\":\"LinearAxis\",\"attributes\":{\"formatter\":{\"type\":\"BasicTickFormatter\",\"id\":\"fefc02b0-0a14-47ef-c75b-871bc5d52587\"},\"ticker\":{\"type\":\"BasicTicker\",\"id\":\"a25fc8b7-b1c7-4190-c1e0-68742757b7f5\"},\"plot\":{\"id\":\"ce0837d7-ef00-4585-c527-e63789af1066\",\"type\":\"Plot\",\"subtype\":\"Figure\"},\"axis_label\":\"Solve Percentage\",\"id\":\"2ea2d0d8-2d41-4ac3-ca41-da77966ff34b\",\"doc\":null,\"tags\":[]}},{\"id\":\"2ce4f6a3-480a-4812-c8e5-98e3bddf6b57\",\"type\":\"Grid\",\"attributes\":{\"dimension\":1,\"plot\":{\"id\":\"ce0837d7-ef00-4585-c527-e63789af1066\",\"type\":\"Plot\",\"subtype\":\"Figure\"},\"ticker\":{\"type\":\"BasicTicker\",\"id\":\"a25fc8b7-b1c7-4190-c1e0-68742757b7f5\"},\"id\":\"2ce4f6a3-480a-4812-c8e5-98e3bddf6b57\",\"doc\":null,\"tags\":[]}},{\"id\":\"a8dc7672-83d7-4d11-cd89-0640118c11e5\",\"type\":\"PanTool\",\"attributes\":{\"plot\":{\"id\":\"ce0837d7-ef00-4585-c527-e63789af1066\",\"type\":\"Plot\",\"subtype\":\"Figure\"},\"dimensions\":[\"width\",\"height\"],\"id\":\"a8dc7672-83d7-4d11-cd89-0640118c11e5\",\"doc\":null,\"tags\":[]}},{\"id\":\"03932453-5baf-46d3-c6ef-bb9ecec54d95\",\"type\":\"WheelZoomTool\",\"attributes\":{\"plot\":{\"id\":\"ce0837d7-ef00-4585-c527-e63789af1066\",\"type\":\"Plot\",\"subtype\":\"Figure\"},\"dimensions\":[\"width\",\"height\"],\"id\":\"03932453-5baf-46d3-c6ef-bb9ecec54d95\",\"doc\":null,\"tags\":[]}},{\"id\":\"9c821914-09de-4a3c-ca8d-c39cc16325f1\",\"type\":\"BoxZoomTool\",\"attributes\":{\"plot\":{\"id\":\"ce0837d7-ef00-4585-c527-e63789af1066\",\"type\":\"Plot\",\"subtype\":\"Figure\"},\"id\":\"9c821914-09de-4a3c-ca8d-c39cc16325f1\",\"tags\":[],\"doc\":null}},{\"id\":\"f4ccbbad-0b64-49ef-c95c-20c73b51b69f\",\"type\":\"PreviewSaveTool\",\"attributes\":{\"plot\":{\"id\":\"ce0837d7-ef00-4585-c527-e63789af1066\",\"type\":\"Plot\",\"subtype\":\"Figure\"},\"id\":\"f4ccbbad-0b64-49ef-c95c-20c73b51b69f\",\"tags\":[],\"doc\":null}},{\"id\":\"cbaf8735-abe9-4a47-cab9-23b3a0c822ee\",\"type\":\"ResizeTool\",\"attributes\":{\"plot\":{\"id\":\"ce0837d7-ef00-4585-c527-e63789af1066\",\"type\":\"Plot\",\"subtype\":\"Figure\"},\"id\":\"cbaf8735-abe9-4a47-cab9-23b3a0c822ee\",\"tags\":[],\"doc\":null}},{\"id\":\"51ec30dd-eb8a-48b3-c891-348b11859120\",\"type\":\"ResetTool\",\"attributes\":{\"plot\":{\"id\":\"ce0837d7-ef00-4585-c527-e63789af1066\",\"type\":\"Plot\",\"subtype\":\"Figure\"},\"id\":\"51ec30dd-eb8a-48b3-c891-348b11859120\",\"tags\":[],\"doc\":null}},{\"id\":\"cdb405e4-ae13-4a45-cadd-ae2c778f2ea8\",\"type\":\"Legend\",\"attributes\":{\"plot\":{\"id\":\"ce0837d7-ef00-4585-c527-e63789af1066\",\"type\":\"Plot\",\"subtype\":\"Figure\"},\"legends\":[[\"LSTM (9) (10^5 eps)\",[{\"type\":\"GlyphRenderer\",\"id\":\"decda9a7-5804-4219-c285-0f4f58aa7f49\"}]],[\"LSTM (9) (50000 eps)\",[{\"type\":\"GlyphRenderer\",\"id\":\"6535aecf-8118-4c25-cc52-cf7dc99f9d7e\"}]]],\"id\":\"cdb405e4-ae13-4a45-cadd-ae2c778f2ea8\",\"doc\":null,\"tags\":[]}},{\"id\":\"ce0837d7-ef00-4585-c527-e63789af1066\",\"type\":\"Plot\",\"attributes\":{\"x_range\":{\"type\":\"DataRange1d\",\"id\":\"34836c02-0902-4419-c45a-f86a2d0ebc39\"},\"tool_events\":{\"type\":\"ToolEvents\",\"id\":\"6aba9f36-a873-4c41-cccf-ee25baf691bd\"},\"below\":[{\"type\":\"LinearAxis\",\"id\":\"b661fccf-bbc6-43aa-c35a-ed70a2a52bbf\"}],\"renderers\":[{\"type\":\"GlyphRenderer\",\"id\":\"decda9a7-5804-4219-c285-0f4f58aa7f49\"},{\"type\":\"GlyphRenderer\",\"id\":\"6535aecf-8118-4c25-cc52-cf7dc99f9d7e\"},{\"type\":\"LinearAxis\",\"id\":\"b661fccf-bbc6-43aa-c35a-ed70a2a52bbf\"},{\"type\":\"Grid\",\"id\":\"39893efc-60af-4ed8-cef2-c0c1c7c70d70\"},{\"type\":\"LinearAxis\",\"id\":\"2ea2d0d8-2d41-4ac3-ca41-da77966ff34b\"},{\"type\":\"Grid\",\"id\":\"2ce4f6a3-480a-4812-c8e5-98e3bddf6b57\"},{\"type\":\"Legend\",\"id\":\"cdb405e4-ae13-4a45-cadd-ae2c778f2ea8\"}],\"above\":[],\"tools\":[{\"type\":\"PanTool\",\"id\":\"a8dc7672-83d7-4d11-cd89-0640118c11e5\"},{\"type\":\"WheelZoomTool\",\"id\":\"03932453-5baf-46d3-c6ef-bb9ecec54d95\"},{\"type\":\"BoxZoomTool\",\"id\":\"9c821914-09de-4a3c-ca8d-c39cc16325f1\"},{\"type\":\"PreviewSaveTool\",\"id\":\"f4ccbbad-0b64-49ef-c95c-20c73b51b69f\"},{\"type\":\"ResizeTool\",\"id\":\"cbaf8735-abe9-4a47-cab9-23b3a0c822ee\"},{\"type\":\"ResetTool\",\"id\":\"51ec30dd-eb8a-48b3-c891-348b11859120\"}],\"doc\":null,\"right\":[],\"title\":\"Solve Percentages On Random Scrambles\",\"extra_x_ranges\":{},\"left\":[{\"type\":\"LinearAxis\",\"id\":\"2ea2d0d8-2d41-4ac3-ca41-da77966ff34b\"}],\"y_range\":{\"type\":\"DataRange1d\",\"id\":\"5d59f8d2-cd37-4343-c33b-2083647de025\"},\"id\":\"ce0837d7-ef00-4585-c527-e63789af1066\",\"extra_y_ranges\":{},\"tags\":[]}}];\n",
       "      Bokeh.load_models(all_models);\n",
       "      var model = Bokeh.Collections(modeltype).get(modelid);\n",
       "      $(\"#13cc3acd-158a-4868-c8ad-6dfb981c6d8f\").html(''); // clear any previous plot in window_id\n",
       "      var view = new model.default_view({model: model, el: \"#13cc3acd-158a-4868-c8ad-6dfb981c6d8f\"});\n",
       "  });\n",
       "    }\n",
       "});\n",
       "</script>\n",
       "<div class=\"plotdiv\" id=\"13cc3acd-158a-4868-c8ad-6dfb981c6d8f\"></div>\n"
      ]
     },
     "metadata": {},
     "output_type": "display_data"
    }
   ],
   "source": [
    "-- Comparing models with the same structure trained on different scramble lengths\n",
    "require 'csvigo'\n",
    "-- I know 'data' is already plural. Whatever\n",
    "datas = {}\n",
    "percs = {}\n",
    "datas[1] = csvigo.load(string.format('models_more_data/9_lstm_tests/scores.csv', i))\n",
    "percs[1] = torch.Tensor(datas[1].percent)\n",
    "datas[2] = csvigo.load(string.format('models_9_lstm_tests/scores.csv'))\n",
    "percs[2] = torch.Tensor(datas[2].percent)\n",
    "\n",
    "x = torch.range(1, 26)\n",
    "\n",
    "plot = itorch.Plot()\n",
    "plot:xaxis('Scramble Length'):yaxis('Solve Percentage')\n",
    "plot:title('Solve Percentages On Random Scrambles')\n",
    "plot:line(x, percs[1], 'red', 'LSTM (9) (10^5 eps)')\n",
    "plot:line(x, percs[2], 'blue', 'LSTM (9) (50000 eps)')\n",
    "plot:legend(true)\n",
    "plot:draw()"
   ]
  },
  {
   "cell_type": "code",
   "execution_count": null,
   "metadata": {
    "collapsed": false
   },
   "outputs": [
    {
     "data": {
      "text/plain": [
       "Loaded model\t\n"
      ]
     },
     "execution_count": 1,
     "metadata": {},
     "output_type": "execute_result"
    },
    {
     "data": {
      "text/plain": [
       "Generated dataset\t\n",
       "WARNING : recurrentModule should be added to sharedClones in constructor.\t\n",
       "Adding it for you.\t\n"
      ]
     },
     "execution_count": 1,
     "metadata": {},
     "output_type": "execute_result"
    },
    {
     "data": {
      "text/plain": [
       "100 episodes done\t\n"
      ]
     },
     "execution_count": 1,
     "metadata": {},
     "output_type": "execute_result"
    },
    {
     "data": {
      "text/plain": [
       "200 episodes done\t\n"
      ]
     },
     "execution_count": 1,
     "metadata": {},
     "output_type": "execute_result"
    },
    {
     "data": {
      "text/plain": [
       "300 episodes done\t\n"
      ]
     },
     "execution_count": 1,
     "metadata": {},
     "output_type": "execute_result"
    },
    {
     "data": {
      "text/plain": [
       "400 episodes done\t\n"
      ]
     },
     "execution_count": 1,
     "metadata": {},
     "output_type": "execute_result"
    }
   ],
   "source": [
    "-- some testing code\n",
    "require 'move_accuracy'\n",
    "require 'rnn'\n",
    "\n",
    "model = torch.load('models_26_lstm/rubiks_best', 'ascii').model\n",
    "print('Loaded model')\n",
    "\n",
    "foo = generatePredictionData(model, 500, 26)\n",
    "foo = foo * 100 -- turn into percentage\n",
    "\n",
    "plot = itorch.Plot()\n",
    "plot:xaxis('Distance From Solved'):yaxis('Accuracy')\n",
    "plot:title('Classification Accuracy of LSTM (26)')\n",
    "plot:line(torch.range(1, 26), foo, 'red', 'LSTM (26)')\n",
    "plot:legend(true)\n",
    "plot:draw()"
   ]
  },
  {
   "cell_type": "code",
   "execution_count": null,
   "metadata": {
    "collapsed": true
   },
   "outputs": [],
   "source": []
  }
 ],
 "metadata": {
  "kernelspec": {
   "display_name": "iTorch",
   "language": "lua",
   "name": "itorch"
  },
  "language_info": {
   "name": "lua",
   "version": "5.1"
  }
 },
 "nbformat": 4,
 "nbformat_minor": 0
}
