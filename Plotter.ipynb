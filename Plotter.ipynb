{
 "cells": [
  {
   "cell_type": "code",
   "execution_count": 1,
   "metadata": {
    "collapsed": false
   },
   "outputs": [],
   "source": [
    "require 'rnn'\n",
    "require 'itorch.Plot'"
   ]
  },
  {
   "cell_type": "code",
   "execution_count": 2,
   "metadata": {
    "collapsed": false
   },
   "outputs": [
    {
     "data": {
      "text/plain": [
       "models_2_full/rubiks_best\tloaded\t\n"
      ]
     },
     "execution_count": 2,
     "metadata": {},
     "output_type": "execute_result"
    },
    {
     "data": {
      "text/plain": [
       "models_2_lstm/rubiks_best\tloaded\t\n"
      ]
     },
     "execution_count": 2,
     "metadata": {},
     "output_type": "execute_result"
    },
    {
     "data": {
      "text/plain": [
       "models_2_rnn/rubiks_best\t"
      ]
     },
     "execution_count": 2,
     "metadata": {},
     "output_type": "execute_result"
    },
    {
     "data": {
      "text/plain": [
       "loaded\t\n"
      ]
     },
     "execution_count": 2,
     "metadata": {},
     "output_type": "execute_result"
    },
    {
     "data": {
      "text/plain": [
       "models_2_fulltwo/rubiks_best\tloaded\t\n"
      ]
     },
     "execution_count": 2,
     "metadata": {},
     "output_type": "execute_result"
    },
    {
     "data": {
      "text/plain": [
       "models_3_full/rubiks_best\tloaded\t\n"
      ]
     },
     "execution_count": 2,
     "metadata": {},
     "output_type": "execute_result"
    },
    {
     "data": {
      "text/plain": [
       "models_3_lstm/rubiks_best\tloaded\t\n"
      ]
     },
     "execution_count": 2,
     "metadata": {},
     "output_type": "execute_result"
    },
    {
     "data": {
      "text/plain": [
       "models_3_rnn/rubiks_best\tloaded\t\n"
      ]
     },
     "execution_count": 2,
     "metadata": {},
     "output_type": "execute_result"
    },
    {
     "data": {
      "text/plain": [
       "models_3_fulltwo/rubiks_best\tloaded\t\n"
      ]
     },
     "execution_count": 2,
     "metadata": {},
     "output_type": "execute_result"
    },
    {
     "data": {
      "text/plain": [
       "models_4_full/rubiks_best\tloaded\t\n"
      ]
     },
     "execution_count": 2,
     "metadata": {},
     "output_type": "execute_result"
    },
    {
     "data": {
      "text/plain": [
       "models_4_lstm/rubiks_best\tloaded\t\n"
      ]
     },
     "execution_count": 2,
     "metadata": {},
     "output_type": "execute_result"
    },
    {
     "data": {
      "text/plain": [
       "models_4_rnn/rubiks_best\tloaded\t\n"
      ]
     },
     "execution_count": 2,
     "metadata": {},
     "output_type": "execute_result"
    },
    {
     "data": {
      "text/plain": [
       "models_4_fulltwo/rubiks_best\tloaded\t\n"
      ]
     },
     "execution_count": 2,
     "metadata": {},
     "output_type": "execute_result"
    },
    {
     "data": {
      "text/plain": [
       "models_5_full/rubiks_best\tloaded\t\n"
      ]
     },
     "execution_count": 2,
     "metadata": {},
     "output_type": "execute_result"
    },
    {
     "data": {
      "text/plain": [
       "models_5_lstm/rubiks_best\tloaded\t\n"
      ]
     },
     "execution_count": 2,
     "metadata": {},
     "output_type": "execute_result"
    },
    {
     "data": {
      "text/plain": [
       "models_5_rnn/rubiks_best\tloaded\t\n"
      ]
     },
     "execution_count": 2,
     "metadata": {},
     "output_type": "execute_result"
    },
    {
     "data": {
      "text/plain": [
       "models_5_fulltwo/rubiks_best\tloaded\t\n"
      ]
     },
     "execution_count": 2,
     "metadata": {},
     "output_type": "execute_result"
    },
    {
     "data": {
      "text/plain": [
       "models_6_full/rubiks_best\tloaded\t\n"
      ]
     },
     "execution_count": 2,
     "metadata": {},
     "output_type": "execute_result"
    },
    {
     "data": {
      "text/plain": [
       "models_6_lstm/rubiks_best\tloaded\t\n"
      ]
     },
     "execution_count": 2,
     "metadata": {},
     "output_type": "execute_result"
    },
    {
     "data": {
      "text/plain": [
       "models_6_rnn/rubiks_best\tloaded\t\n"
      ]
     },
     "execution_count": 2,
     "metadata": {},
     "output_type": "execute_result"
    },
    {
     "data": {
      "text/plain": [
       "models_6_fulltwo/rubiks_best\tloaded\t\n"
      ]
     },
     "execution_count": 2,
     "metadata": {},
     "output_type": "execute_result"
    },
    {
     "data": {
      "text/plain": [
       "models_7_full/rubiks_best\tloaded\t\n"
      ]
     },
     "execution_count": 2,
     "metadata": {},
     "output_type": "execute_result"
    },
    {
     "data": {
      "text/plain": [
       "models_7_lstm/rubiks_best\tloaded\t\n"
      ]
     },
     "execution_count": 2,
     "metadata": {},
     "output_type": "execute_result"
    },
    {
     "data": {
      "text/plain": [
       "models_7_rnn/rubiks_best\tloaded\t\n"
      ]
     },
     "execution_count": 2,
     "metadata": {},
     "output_type": "execute_result"
    },
    {
     "data": {
      "text/plain": [
       "models_7_fulltwo/rubiks_best\tloaded\t\n"
      ]
     },
     "execution_count": 2,
     "metadata": {},
     "output_type": "execute_result"
    },
    {
     "data": {
      "text/plain": [
       "models_8_full/rubiks_best\tloaded\t\n"
      ]
     },
     "execution_count": 2,
     "metadata": {},
     "output_type": "execute_result"
    },
    {
     "data": {
      "text/plain": [
       "models_8_lstm/rubiks_best\tloaded\t\n"
      ]
     },
     "execution_count": 2,
     "metadata": {},
     "output_type": "execute_result"
    },
    {
     "data": {
      "text/plain": [
       "models_8_rnn/rubiks_best\tloaded\t\n"
      ]
     },
     "execution_count": 2,
     "metadata": {},
     "output_type": "execute_result"
    },
    {
     "data": {
      "text/plain": [
       "models_8_fulltwo/rubiks_best\tloaded\t\n"
      ]
     },
     "execution_count": 2,
     "metadata": {},
     "output_type": "execute_result"
    },
    {
     "data": {
      "text/plain": [
       "models_9_full/rubiks_best\tloaded\t\n"
      ]
     },
     "execution_count": 2,
     "metadata": {},
     "output_type": "execute_result"
    },
    {
     "data": {
      "text/plain": [
       "models_9_lstm/rubiks_best\tloaded\t\n"
      ]
     },
     "execution_count": 2,
     "metadata": {},
     "output_type": "execute_result"
    },
    {
     "data": {
      "text/plain": [
       "models_9_rnn/rubiks_best\tloaded\t\n"
      ]
     },
     "execution_count": 2,
     "metadata": {},
     "output_type": "execute_result"
    },
    {
     "data": {
      "text/plain": [
       "models_9_fulltwo/rubiks_best\tloaded\t\n"
      ]
     },
     "execution_count": 2,
     "metadata": {},
     "output_type": "execute_result"
    }
   ],
   "source": [
    "-- TODO something less hardcoded\n",
    "filenames = {}\n",
    "for i=2,9 do\n",
    "    for _, typ in ipairs({'full', 'lstm', 'rnn', 'fulltwo'}) do\n",
    "        table.insert(filenames, string.format('models_%d_%s/rubiks_best', i, typ))\n",
    "    end\n",
    "end\n",
    "\n",
    "best_results = {}\n",
    "for _, name in ipairs(filenames) do\n",
    "    best_results[name] = torch.load(name, 'ascii')\n",
    "    print(name, 'loaded')\n",
    "end"
   ]
  },
  {
   "cell_type": "code",
   "execution_count": 4,
   "metadata": {
    "collapsed": false
   },
   "outputs": [
    {
     "data": {
      "text/html": [
       "<script type=\"text/javascript\">\n",
       "$(function() {\n",
       "    if (typeof (window._bokeh_onload_callbacks) === \"undefined\"){\n",
       "  window._bokeh_onload_callbacks = [];\n",
       "    }\n",
       "    function load_lib(url, callback){\n",
       "  window._bokeh_onload_callbacks.push(callback);\n",
       "  if (window._bokeh_is_loading){\n",
       "      console.log(\"Bokeh: BokehJS is being loaded, scheduling callback at\", new Date());\n",
       "      return null;\n",
       "  }\n",
       "  console.log(\"Bokeh: BokehJS not loaded, scheduling load and callback at\", new Date());\n",
       "  window._bokeh_is_loading = true;\n",
       "  var s = document.createElement('script');\n",
       "  s.src = url;\n",
       "  s.async = true;\n",
       "  s.onreadystatechange = s.onload = function(){\n",
       "      Bokeh.embed.inject_css(\"http://cdn.pydata.org/bokeh-0.7.0.min.css\");\n",
       "      window._bokeh_onload_callbacks.forEach(function(callback){callback()});\n",
       "  };\n",
       "  s.onerror = function(){\n",
       "      console.warn(\"failed to load library \" + url);\n",
       "  };\n",
       "  document.getElementsByTagName(\"head\")[0].appendChild(s);\n",
       "    }\n",
       "\n",
       "    bokehjs_url = \"http://cdn.pydata.org/bokeh-0.7.0.min.js\"\n",
       "\n",
       "    var elt = document.getElementById(\"c77fc70e-c027-4bdd-cb74-9efe64b30c3f\");\n",
       "    if(elt==null) {\n",
       "  console.log(\"Bokeh: ERROR: autoload.js configured with elementid 'c77fc70e-c027-4bdd-cb74-9efe64b30c3f'\"\n",
       "        + \"but no matching script tag was found. \")\n",
       "  return false;\n",
       "    }\n",
       "\n",
       "    if(typeof(Bokeh) !== \"undefined\") {\n",
       "  console.log(\"Bokeh: BokehJS loaded, going straight to plotting\");\n",
       "  var modelid = \"4c92973d-d7fe-41e5-c1dd-b80d028b6905\";\n",
       "  var modeltype = \"Plot\";\n",
       "  var all_models = [{\"id\":\"c1b533d8-3c18-4cdd-cc47-403647fe1018\",\"type\":\"ColumnDataSource\",\"attributes\":{\"data\":{\"y\":[90.034,86.182,84.4405,82.2324,78.751666666667,74.732285714286,71.179,66.468888888889],\"x\":[2,3,4,5,6,7,8,9]},\"column_names\":[\"y\",\"x\"],\"cont_ranges\":{},\"discrete_ranges\":{},\"selected\":[],\"id\":\"c1b533d8-3c18-4cdd-cc47-403647fe1018\",\"doc\":null,\"tags\":[]}},{\"id\":\"f7004df0-ddf7-4d03-cdb8-4fa1de6e3bcf\",\"type\":\"Line\",\"attributes\":{\"fill_alpha\":{\"units\":\"data\",\"value\":0.2},\"line_alpha\":{\"units\":\"data\",\"value\":1},\"doc\":null,\"size\":{\"units\":\"screen\",\"value\":10},\"fill_color\":{\"value\":\"red\"},\"line_color\":{\"value\":\"red\"},\"x\":{\"units\":\"data\",\"field\":\"x\"},\"id\":\"f7004df0-ddf7-4d03-cdb8-4fa1de6e3bcf\",\"y\":{\"units\":\"data\",\"field\":\"y\"},\"tags\":[]}},{\"id\":\"fc73a7e6-7404-4f02-cf0e-21bbb4c021ef\",\"type\":\"Line\",\"attributes\":{\"fill_alpha\":{\"units\":\"data\",\"value\":0.2},\"line_alpha\":{\"units\":\"data\",\"value\":1},\"doc\":null,\"size\":{\"units\":\"screen\",\"value\":10},\"fill_color\":{\"value\":\"red\"},\"line_color\":{\"value\":\"red\"},\"x\":{\"units\":\"data\",\"field\":\"x\"},\"id\":\"fc73a7e6-7404-4f02-cf0e-21bbb4c021ef\",\"y\":{\"units\":\"data\",\"field\":\"y\"},\"tags\":[]}},{\"id\":\"3341b4ae-cbb7-4b06-cb09-af6b68284b67\",\"type\":\"GlyphRenderer\",\"attributes\":{\"name\":null,\"nonselection_glyph\":{\"type\":\"Line\",\"id\":\"fc73a7e6-7404-4f02-cf0e-21bbb4c021ef\"},\"doc\":null,\"server_data_source\":null,\"data_source\":{\"type\":\"ColumnDataSource\",\"id\":\"c1b533d8-3c18-4cdd-cc47-403647fe1018\"},\"glyph\":{\"type\":\"Line\",\"id\":\"f7004df0-ddf7-4d03-cdb8-4fa1de6e3bcf\"},\"selection_glyph\":null,\"id\":\"3341b4ae-cbb7-4b06-cb09-af6b68284b67\",\"tags\":[]}},{\"id\":\"4790005a-184c-44cd-c430-d44d8e4487c9\",\"type\":\"ColumnDataSource\",\"attributes\":{\"data\":{\"y\":[89.861,86.428,84.497,83.028,79.319333333333,75.696,70.903,67.666666666667],\"x\":[2,3,4,5,6,7,8,9]},\"column_names\":[\"y\",\"x\"],\"cont_ranges\":{},\"discrete_ranges\":{},\"selected\":[],\"id\":\"4790005a-184c-44cd-c430-d44d8e4487c9\",\"doc\":null,\"tags\":[]}},{\"id\":\"851d1b8b-11ef-4d4f-cd56-15c4c5291a50\",\"type\":\"Line\",\"attributes\":{\"fill_alpha\":{\"units\":\"data\",\"value\":0.2},\"line_alpha\":{\"units\":\"data\",\"value\":1},\"doc\":null,\"size\":{\"units\":\"screen\",\"value\":10},\"fill_color\":{\"value\":\"pink\"},\"line_color\":{\"value\":\"pink\"},\"x\":{\"units\":\"data\",\"field\":\"x\"},\"id\":\"851d1b8b-11ef-4d4f-cd56-15c4c5291a50\",\"y\":{\"units\":\"data\",\"field\":\"y\"},\"tags\":[]}},{\"id\":\"edb83bf6-05e3-44b6-c4a2-4de8e78dc2eb\",\"type\":\"Line\",\"attributes\":{\"fill_alpha\":{\"units\":\"data\",\"value\":0.2},\"line_alpha\":{\"units\":\"data\",\"value\":1},\"doc\":null,\"size\":{\"units\":\"screen\",\"value\":10},\"fill_color\":{\"value\":\"pink\"},\"line_color\":{\"value\":\"pink\"},\"x\":{\"units\":\"data\",\"field\":\"x\"},\"id\":\"edb83bf6-05e3-44b6-c4a2-4de8e78dc2eb\",\"y\":{\"units\":\"data\",\"field\":\"y\"},\"tags\":[]}},{\"id\":\"9ad64c8d-0dc1-490d-c9da-0dd82bac1e91\",\"type\":\"GlyphRenderer\",\"attributes\":{\"name\":null,\"nonselection_glyph\":{\"type\":\"Line\",\"id\":\"edb83bf6-05e3-44b6-c4a2-4de8e78dc2eb\"},\"doc\":null,\"server_data_source\":null,\"data_source\":{\"type\":\"ColumnDataSource\",\"id\":\"4790005a-184c-44cd-c430-d44d8e4487c9\"},\"glyph\":{\"type\":\"Line\",\"id\":\"851d1b8b-11ef-4d4f-cd56-15c4c5291a50\"},\"selection_glyph\":null,\"id\":\"9ad64c8d-0dc1-490d-c9da-0dd82bac1e91\",\"tags\":[]}},{\"id\":\"88fe02b4-c305-4443-c4bc-51a48e8ab53c\",\"type\":\"ColumnDataSource\",\"attributes\":{\"data\":{\"y\":[89.956,86.15,84.2055,80.6276,76.277666666667,71.184857142857,65.6965,60.323555555556],\"x\":[2,3,4,5,6,7,8,9]},\"column_names\":[\"y\",\"x\"],\"cont_ranges\":{},\"discrete_ranges\":{},\"selected\":[],\"id\":\"88fe02b4-c305-4443-c4bc-51a48e8ab53c\",\"doc\":null,\"tags\":[]}},{\"id\":\"3de3aa81-2bc2-4514-c55b-552a597be5ee\",\"type\":\"Line\",\"attributes\":{\"fill_alpha\":{\"units\":\"data\",\"value\":0.2},\"line_alpha\":{\"units\":\"data\",\"value\":1},\"doc\":null,\"size\":{\"units\":\"screen\",\"value\":10},\"fill_color\":{\"value\":\"blue\"},\"line_color\":{\"value\":\"blue\"},\"x\":{\"units\":\"data\",\"field\":\"x\"},\"id\":\"3de3aa81-2bc2-4514-c55b-552a597be5ee\",\"y\":{\"units\":\"data\",\"field\":\"y\"},\"tags\":[]}},{\"id\":\"30478146-1415-43bc-c354-2f11b7f63741\",\"type\":\"Line\",\"attributes\":{\"fill_alpha\":{\"units\":\"data\",\"value\":0.2},\"line_alpha\":{\"units\":\"data\",\"value\":1},\"doc\":null,\"size\":{\"units\":\"screen\",\"value\":10},\"fill_color\":{\"value\":\"blue\"},\"line_color\":{\"value\":\"blue\"},\"x\":{\"units\":\"data\",\"field\":\"x\"},\"id\":\"30478146-1415-43bc-c354-2f11b7f63741\",\"y\":{\"units\":\"data\",\"field\":\"y\"},\"tags\":[]}},{\"id\":\"67fedde7-77f3-4be4-cbee-f8d7e302e1f3\",\"type\":\"GlyphRenderer\",\"attributes\":{\"name\":null,\"nonselection_glyph\":{\"type\":\"Line\",\"id\":\"30478146-1415-43bc-c354-2f11b7f63741\"},\"doc\":null,\"server_data_source\":null,\"data_source\":{\"type\":\"ColumnDataSource\",\"id\":\"88fe02b4-c305-4443-c4bc-51a48e8ab53c\"},\"glyph\":{\"type\":\"Line\",\"id\":\"3de3aa81-2bc2-4514-c55b-552a597be5ee\"},\"selection_glyph\":null,\"id\":\"67fedde7-77f3-4be4-cbee-f8d7e302e1f3\",\"tags\":[]}},{\"id\":\"bf1c741c-5060-4927-c9b9-07391de6e8a4\",\"type\":\"ColumnDataSource\",\"attributes\":{\"data\":{\"y\":[89.902,86.501333333333,85.161,83.6448,80.889,78.911714285714,76.08375,72.237555555556],\"x\":[2,3,4,5,6,7,8,9]},\"column_names\":[\"y\",\"x\"],\"cont_ranges\":{},\"discrete_ranges\":{},\"selected\":[],\"id\":\"bf1c741c-5060-4927-c9b9-07391de6e8a4\",\"doc\":null,\"tags\":[]}},{\"id\":\"e4375cef-c895-46d0-c6a9-fab205519e72\",\"type\":\"Line\",\"attributes\":{\"fill_alpha\":{\"units\":\"data\",\"value\":0.2},\"line_alpha\":{\"units\":\"data\",\"value\":1},\"doc\":null,\"size\":{\"units\":\"screen\",\"value\":10},\"fill_color\":{\"value\":\"green\"},\"line_color\":{\"value\":\"green\"},\"x\":{\"units\":\"data\",\"field\":\"x\"},\"id\":\"e4375cef-c895-46d0-c6a9-fab205519e72\",\"y\":{\"units\":\"data\",\"field\":\"y\"},\"tags\":[]}},{\"id\":\"648b2e60-e405-4c40-cc5b-fff61141078a\",\"type\":\"Line\",\"attributes\":{\"fill_alpha\":{\"units\":\"data\",\"value\":0.2},\"line_alpha\":{\"units\":\"data\",\"value\":1},\"doc\":null,\"size\":{\"units\":\"screen\",\"value\":10},\"fill_color\":{\"value\":\"green\"},\"line_color\":{\"value\":\"green\"},\"x\":{\"units\":\"data\",\"field\":\"x\"},\"id\":\"648b2e60-e405-4c40-cc5b-fff61141078a\",\"y\":{\"units\":\"data\",\"field\":\"y\"},\"tags\":[]}},{\"id\":\"489e075e-014c-4ef5-ce93-ac111bcdfad3\",\"type\":\"GlyphRenderer\",\"attributes\":{\"name\":null,\"nonselection_glyph\":{\"type\":\"Line\",\"id\":\"648b2e60-e405-4c40-cc5b-fff61141078a\"},\"doc\":null,\"server_data_source\":null,\"data_source\":{\"type\":\"ColumnDataSource\",\"id\":\"bf1c741c-5060-4927-c9b9-07391de6e8a4\"},\"glyph\":{\"type\":\"Line\",\"id\":\"e4375cef-c895-46d0-c6a9-fab205519e72\"},\"selection_glyph\":null,\"id\":\"489e075e-014c-4ef5-ce93-ac111bcdfad3\",\"tags\":[]}},{\"id\":\"4323d333-fe4b-47ae-c720-624cf01f3eae\",\"type\":\"DataRange1d\",\"attributes\":{\"sources\":[{\"columns\":[\"x\"],\"source\":{\"type\":\"ColumnDataSource\",\"id\":\"c1b533d8-3c18-4cdd-cc47-403647fe1018\"}},{\"columns\":[\"x\"],\"source\":{\"type\":\"ColumnDataSource\",\"id\":\"4790005a-184c-44cd-c430-d44d8e4487c9\"}},{\"columns\":[\"x\"],\"source\":{\"type\":\"ColumnDataSource\",\"id\":\"88fe02b4-c305-4443-c4bc-51a48e8ab53c\"}},{\"columns\":[\"x\"],\"source\":{\"type\":\"ColumnDataSource\",\"id\":\"bf1c741c-5060-4927-c9b9-07391de6e8a4\"}}],\"id\":\"4323d333-fe4b-47ae-c720-624cf01f3eae\",\"tags\":[],\"doc\":null}},{\"id\":\"1aa638fb-0aeb-4e45-cebe-45eea8d8a6e4\",\"type\":\"DataRange1d\",\"attributes\":{\"sources\":[{\"columns\":[\"y\"],\"source\":{\"type\":\"ColumnDataSource\",\"id\":\"c1b533d8-3c18-4cdd-cc47-403647fe1018\"}},{\"columns\":[\"y\"],\"source\":{\"type\":\"ColumnDataSource\",\"id\":\"4790005a-184c-44cd-c430-d44d8e4487c9\"}},{\"columns\":[\"y\"],\"source\":{\"type\":\"ColumnDataSource\",\"id\":\"88fe02b4-c305-4443-c4bc-51a48e8ab53c\"}},{\"columns\":[\"y\"],\"source\":{\"type\":\"ColumnDataSource\",\"id\":\"bf1c741c-5060-4927-c9b9-07391de6e8a4\"}}],\"id\":\"1aa638fb-0aeb-4e45-cebe-45eea8d8a6e4\",\"tags\":[],\"doc\":null}},{\"id\":\"a5b6de1d-d2b3-4e39-ce5e-d76a30234d47\",\"type\":\"ToolEvents\",\"attributes\":{\"tags\":[],\"id\":\"a5b6de1d-d2b3-4e39-ce5e-d76a30234d47\",\"geometries\":[],\"doc\":null}},{\"id\":\"d8769ff3-60c1-4be2-cbef-3376017c54e6\",\"type\":\"BasicTickFormatter\",\"attributes\":{\"id\":\"d8769ff3-60c1-4be2-cbef-3376017c54e6\",\"tags\":[],\"doc\":null}},{\"id\":\"5cff97a7-73c3-432a-c325-b8d3f3c8984a\",\"type\":\"BasicTicker\",\"attributes\":{\"num_minor_ticks\":5,\"id\":\"5cff97a7-73c3-432a-c325-b8d3f3c8984a\",\"tags\":[],\"doc\":null}},{\"id\":\"8fece7b3-34f4-4a7d-ca00-df339eec392a\",\"type\":\"LinearAxis\",\"attributes\":{\"formatter\":{\"type\":\"BasicTickFormatter\",\"id\":\"d8769ff3-60c1-4be2-cbef-3376017c54e6\"},\"ticker\":{\"type\":\"BasicTicker\",\"id\":\"5cff97a7-73c3-432a-c325-b8d3f3c8984a\"},\"plot\":{\"id\":\"4c92973d-d7fe-41e5-c1dd-b80d028b6905\",\"type\":\"Plot\",\"subtype\":\"Figure\"},\"axis_label\":\"Episode Length\",\"id\":\"8fece7b3-34f4-4a7d-ca00-df339eec392a\",\"doc\":null,\"tags\":[]}},{\"id\":\"51b3bdeb-9054-46ac-c68b-ae4a6f851315\",\"type\":\"Grid\",\"attributes\":{\"dimension\":0,\"plot\":{\"id\":\"4c92973d-d7fe-41e5-c1dd-b80d028b6905\",\"type\":\"Plot\",\"subtype\":\"Figure\"},\"ticker\":{\"type\":\"BasicTicker\",\"id\":\"5cff97a7-73c3-432a-c325-b8d3f3c8984a\"},\"id\":\"51b3bdeb-9054-46ac-c68b-ae4a6f851315\",\"doc\":null,\"tags\":[]}},{\"id\":\"4e5f4750-9a88-4fca-cf9f-cd4ce3b7a203\",\"type\":\"BasicTickFormatter\",\"attributes\":{\"id\":\"4e5f4750-9a88-4fca-cf9f-cd4ce3b7a203\",\"tags\":[],\"doc\":null}},{\"id\":\"49fd7e0a-99e4-42c9-c230-569e198fd904\",\"type\":\"BasicTicker\",\"attributes\":{\"num_minor_ticks\":5,\"id\":\"49fd7e0a-99e4-42c9-c230-569e198fd904\",\"tags\":[],\"doc\":null}},{\"id\":\"71c762a4-7339-4c46-cc34-a9cde1830045\",\"type\":\"LinearAxis\",\"attributes\":{\"formatter\":{\"type\":\"BasicTickFormatter\",\"id\":\"4e5f4750-9a88-4fca-cf9f-cd4ce3b7a203\"},\"ticker\":{\"type\":\"BasicTicker\",\"id\":\"49fd7e0a-99e4-42c9-c230-569e198fd904\"},\"plot\":{\"id\":\"4c92973d-d7fe-41e5-c1dd-b80d028b6905\",\"type\":\"Plot\",\"subtype\":\"Figure\"},\"axis_label\":\"Training Accuracy\",\"id\":\"71c762a4-7339-4c46-cc34-a9cde1830045\",\"doc\":null,\"tags\":[]}},{\"id\":\"c743e878-2950-4f7e-cfc8-7835840a558a\",\"type\":\"Grid\",\"attributes\":{\"dimension\":1,\"plot\":{\"id\":\"4c92973d-d7fe-41e5-c1dd-b80d028b6905\",\"type\":\"Plot\",\"subtype\":\"Figure\"},\"ticker\":{\"type\":\"BasicTicker\",\"id\":\"49fd7e0a-99e4-42c9-c230-569e198fd904\"},\"id\":\"c743e878-2950-4f7e-cfc8-7835840a558a\",\"doc\":null,\"tags\":[]}},{\"id\":\"80916607-4ec3-4111-c1ce-45221464354c\",\"type\":\"PanTool\",\"attributes\":{\"plot\":{\"id\":\"4c92973d-d7fe-41e5-c1dd-b80d028b6905\",\"type\":\"Plot\",\"subtype\":\"Figure\"},\"dimensions\":[\"width\",\"height\"],\"id\":\"80916607-4ec3-4111-c1ce-45221464354c\",\"doc\":null,\"tags\":[]}},{\"id\":\"38bd9b0b-8d2c-432c-c33c-6353b5ddd497\",\"type\":\"WheelZoomTool\",\"attributes\":{\"plot\":{\"id\":\"4c92973d-d7fe-41e5-c1dd-b80d028b6905\",\"type\":\"Plot\",\"subtype\":\"Figure\"},\"dimensions\":[\"width\",\"height\"],\"id\":\"38bd9b0b-8d2c-432c-c33c-6353b5ddd497\",\"doc\":null,\"tags\":[]}},{\"id\":\"38e71985-908a-4f41-cfdb-a4f2127a8589\",\"type\":\"BoxZoomTool\",\"attributes\":{\"plot\":{\"id\":\"4c92973d-d7fe-41e5-c1dd-b80d028b6905\",\"type\":\"Plot\",\"subtype\":\"Figure\"},\"id\":\"38e71985-908a-4f41-cfdb-a4f2127a8589\",\"tags\":[],\"doc\":null}},{\"id\":\"fb1c0a8c-3974-4ba7-cb54-d027d9fce98f\",\"type\":\"PreviewSaveTool\",\"attributes\":{\"plot\":{\"id\":\"4c92973d-d7fe-41e5-c1dd-b80d028b6905\",\"type\":\"Plot\",\"subtype\":\"Figure\"},\"id\":\"fb1c0a8c-3974-4ba7-cb54-d027d9fce98f\",\"tags\":[],\"doc\":null}},{\"id\":\"3d45818a-b5bc-48e0-c871-129881dfe385\",\"type\":\"ResizeTool\",\"attributes\":{\"plot\":{\"id\":\"4c92973d-d7fe-41e5-c1dd-b80d028b6905\",\"type\":\"Plot\",\"subtype\":\"Figure\"},\"id\":\"3d45818a-b5bc-48e0-c871-129881dfe385\",\"tags\":[],\"doc\":null}},{\"id\":\"bb20367c-45be-4187-c160-91a65e1b87ee\",\"type\":\"ResetTool\",\"attributes\":{\"plot\":{\"id\":\"4c92973d-d7fe-41e5-c1dd-b80d028b6905\",\"type\":\"Plot\",\"subtype\":\"Figure\"},\"id\":\"bb20367c-45be-4187-c160-91a65e1b87ee\",\"tags\":[],\"doc\":null}},{\"id\":\"75deb4e1-de4b-4277-c2b6-03402a290f7d\",\"type\":\"Legend\",\"attributes\":{\"plot\":{\"id\":\"4c92973d-d7fe-41e5-c1dd-b80d028b6905\",\"type\":\"Plot\",\"subtype\":\"Figure\"},\"legends\":[[\"Fully Connected\",[{\"type\":\"GlyphRenderer\",\"id\":\"3341b4ae-cbb7-4b06-cb09-af6b68284b67\"}]],[\"Fully Connected 2\",[{\"type\":\"GlyphRenderer\",\"id\":\"9ad64c8d-0dc1-490d-c9da-0dd82bac1e91\"}]],[\"RNN\",[{\"type\":\"GlyphRenderer\",\"id\":\"67fedde7-77f3-4be4-cbee-f8d7e302e1f3\"}]],[\"LSTM\",[{\"type\":\"GlyphRenderer\",\"id\":\"489e075e-014c-4ef5-ce93-ac111bcdfad3\"}]]],\"id\":\"75deb4e1-de4b-4277-c2b6-03402a290f7d\",\"doc\":null,\"tags\":[]}},{\"id\":\"4c92973d-d7fe-41e5-c1dd-b80d028b6905\",\"type\":\"Plot\",\"attributes\":{\"x_range\":{\"type\":\"DataRange1d\",\"id\":\"4323d333-fe4b-47ae-c720-624cf01f3eae\"},\"tool_events\":{\"type\":\"ToolEvents\",\"id\":\"a5b6de1d-d2b3-4e39-ce5e-d76a30234d47\"},\"below\":[{\"type\":\"LinearAxis\",\"id\":\"8fece7b3-34f4-4a7d-ca00-df339eec392a\"}],\"renderers\":[{\"type\":\"GlyphRenderer\",\"id\":\"3341b4ae-cbb7-4b06-cb09-af6b68284b67\"},{\"type\":\"GlyphRenderer\",\"id\":\"9ad64c8d-0dc1-490d-c9da-0dd82bac1e91\"},{\"type\":\"GlyphRenderer\",\"id\":\"67fedde7-77f3-4be4-cbee-f8d7e302e1f3\"},{\"type\":\"GlyphRenderer\",\"id\":\"489e075e-014c-4ef5-ce93-ac111bcdfad3\"},{\"type\":\"LinearAxis\",\"id\":\"8fece7b3-34f4-4a7d-ca00-df339eec392a\"},{\"type\":\"Grid\",\"id\":\"51b3bdeb-9054-46ac-c68b-ae4a6f851315\"},{\"type\":\"LinearAxis\",\"id\":\"71c762a4-7339-4c46-cc34-a9cde1830045\"},{\"type\":\"Grid\",\"id\":\"c743e878-2950-4f7e-cfc8-7835840a558a\"},{\"type\":\"Legend\",\"id\":\"75deb4e1-de4b-4277-c2b6-03402a290f7d\"}],\"above\":[],\"tools\":[{\"type\":\"PanTool\",\"id\":\"80916607-4ec3-4111-c1ce-45221464354c\"},{\"type\":\"WheelZoomTool\",\"id\":\"38bd9b0b-8d2c-432c-c33c-6353b5ddd497\"},{\"type\":\"BoxZoomTool\",\"id\":\"38e71985-908a-4f41-cfdb-a4f2127a8589\"},{\"type\":\"PreviewSaveTool\",\"id\":\"fb1c0a8c-3974-4ba7-cb54-d027d9fce98f\"},{\"type\":\"ResizeTool\",\"id\":\"3d45818a-b5bc-48e0-c871-129881dfe385\"},{\"type\":\"ResetTool\",\"id\":\"bb20367c-45be-4187-c160-91a65e1b87ee\"}],\"doc\":null,\"right\":[],\"title\":\"Training accuracy (50000 episodes)\",\"extra_x_ranges\":{},\"left\":[{\"type\":\"LinearAxis\",\"id\":\"71c762a4-7339-4c46-cc34-a9cde1830045\"}],\"y_range\":{\"type\":\"DataRange1d\",\"id\":\"1aa638fb-0aeb-4e45-cebe-45eea8d8a6e4\"},\"id\":\"4c92973d-d7fe-41e5-c1dd-b80d028b6905\",\"extra_y_ranges\":{},\"tags\":[]}}];\n",
       "  Bokeh.load_models(all_models);\n",
       "  var model = Bokeh.Collections(modeltype).get(modelid);\n",
       "  $(\"#c77fc70e-c027-4bdd-cb74-9efe64b30c3f\").html(''); // clear any previous plot in window_id\n",
       "  var view = new model.default_view({model: model, el: \"#c77fc70e-c027-4bdd-cb74-9efe64b30c3f\"});\n",
       "    } else {\n",
       "  load_lib(bokehjs_url, function() {\n",
       "      console.log(\"Bokeh: BokehJS plotting callback run at\", new Date())\n",
       "      var modelid = \"4c92973d-d7fe-41e5-c1dd-b80d028b6905\";\n",
       "      var modeltype = \"Plot\";\n",
       "      var all_models = [{\"id\":\"c1b533d8-3c18-4cdd-cc47-403647fe1018\",\"type\":\"ColumnDataSource\",\"attributes\":{\"data\":{\"y\":[90.034,86.182,84.4405,82.2324,78.751666666667,74.732285714286,71.179,66.468888888889],\"x\":[2,3,4,5,6,7,8,9]},\"column_names\":[\"y\",\"x\"],\"cont_ranges\":{},\"discrete_ranges\":{},\"selected\":[],\"id\":\"c1b533d8-3c18-4cdd-cc47-403647fe1018\",\"doc\":null,\"tags\":[]}},{\"id\":\"f7004df0-ddf7-4d03-cdb8-4fa1de6e3bcf\",\"type\":\"Line\",\"attributes\":{\"fill_alpha\":{\"units\":\"data\",\"value\":0.2},\"line_alpha\":{\"units\":\"data\",\"value\":1},\"doc\":null,\"size\":{\"units\":\"screen\",\"value\":10},\"fill_color\":{\"value\":\"red\"},\"line_color\":{\"value\":\"red\"},\"x\":{\"units\":\"data\",\"field\":\"x\"},\"id\":\"f7004df0-ddf7-4d03-cdb8-4fa1de6e3bcf\",\"y\":{\"units\":\"data\",\"field\":\"y\"},\"tags\":[]}},{\"id\":\"fc73a7e6-7404-4f02-cf0e-21bbb4c021ef\",\"type\":\"Line\",\"attributes\":{\"fill_alpha\":{\"units\":\"data\",\"value\":0.2},\"line_alpha\":{\"units\":\"data\",\"value\":1},\"doc\":null,\"size\":{\"units\":\"screen\",\"value\":10},\"fill_color\":{\"value\":\"red\"},\"line_color\":{\"value\":\"red\"},\"x\":{\"units\":\"data\",\"field\":\"x\"},\"id\":\"fc73a7e6-7404-4f02-cf0e-21bbb4c021ef\",\"y\":{\"units\":\"data\",\"field\":\"y\"},\"tags\":[]}},{\"id\":\"3341b4ae-cbb7-4b06-cb09-af6b68284b67\",\"type\":\"GlyphRenderer\",\"attributes\":{\"name\":null,\"nonselection_glyph\":{\"type\":\"Line\",\"id\":\"fc73a7e6-7404-4f02-cf0e-21bbb4c021ef\"},\"doc\":null,\"server_data_source\":null,\"data_source\":{\"type\":\"ColumnDataSource\",\"id\":\"c1b533d8-3c18-4cdd-cc47-403647fe1018\"},\"glyph\":{\"type\":\"Line\",\"id\":\"f7004df0-ddf7-4d03-cdb8-4fa1de6e3bcf\"},\"selection_glyph\":null,\"id\":\"3341b4ae-cbb7-4b06-cb09-af6b68284b67\",\"tags\":[]}},{\"id\":\"4790005a-184c-44cd-c430-d44d8e4487c9\",\"type\":\"ColumnDataSource\",\"attributes\":{\"data\":{\"y\":[89.861,86.428,84.497,83.028,79.319333333333,75.696,70.903,67.666666666667],\"x\":[2,3,4,5,6,7,8,9]},\"column_names\":[\"y\",\"x\"],\"cont_ranges\":{},\"discrete_ranges\":{},\"selected\":[],\"id\":\"4790005a-184c-44cd-c430-d44d8e4487c9\",\"doc\":null,\"tags\":[]}},{\"id\":\"851d1b8b-11ef-4d4f-cd56-15c4c5291a50\",\"type\":\"Line\",\"attributes\":{\"fill_alpha\":{\"units\":\"data\",\"value\":0.2},\"line_alpha\":{\"units\":\"data\",\"value\":1},\"doc\":null,\"size\":{\"units\":\"screen\",\"value\":10},\"fill_color\":{\"value\":\"pink\"},\"line_color\":{\"value\":\"pink\"},\"x\":{\"units\":\"data\",\"field\":\"x\"},\"id\":\"851d1b8b-11ef-4d4f-cd56-15c4c5291a50\",\"y\":{\"units\":\"data\",\"field\":\"y\"},\"tags\":[]}},{\"id\":\"edb83bf6-05e3-44b6-c4a2-4de8e78dc2eb\",\"type\":\"Line\",\"attributes\":{\"fill_alpha\":{\"units\":\"data\",\"value\":0.2},\"line_alpha\":{\"units\":\"data\",\"value\":1},\"doc\":null,\"size\":{\"units\":\"screen\",\"value\":10},\"fill_color\":{\"value\":\"pink\"},\"line_color\":{\"value\":\"pink\"},\"x\":{\"units\":\"data\",\"field\":\"x\"},\"id\":\"edb83bf6-05e3-44b6-c4a2-4de8e78dc2eb\",\"y\":{\"units\":\"data\",\"field\":\"y\"},\"tags\":[]}},{\"id\":\"9ad64c8d-0dc1-490d-c9da-0dd82bac1e91\",\"type\":\"GlyphRenderer\",\"attributes\":{\"name\":null,\"nonselection_glyph\":{\"type\":\"Line\",\"id\":\"edb83bf6-05e3-44b6-c4a2-4de8e78dc2eb\"},\"doc\":null,\"server_data_source\":null,\"data_source\":{\"type\":\"ColumnDataSource\",\"id\":\"4790005a-184c-44cd-c430-d44d8e4487c9\"},\"glyph\":{\"type\":\"Line\",\"id\":\"851d1b8b-11ef-4d4f-cd56-15c4c5291a50\"},\"selection_glyph\":null,\"id\":\"9ad64c8d-0dc1-490d-c9da-0dd82bac1e91\",\"tags\":[]}},{\"id\":\"88fe02b4-c305-4443-c4bc-51a48e8ab53c\",\"type\":\"ColumnDataSource\",\"attributes\":{\"data\":{\"y\":[89.956,86.15,84.2055,80.6276,76.277666666667,71.184857142857,65.6965,60.323555555556],\"x\":[2,3,4,5,6,7,8,9]},\"column_names\":[\"y\",\"x\"],\"cont_ranges\":{},\"discrete_ranges\":{},\"selected\":[],\"id\":\"88fe02b4-c305-4443-c4bc-51a48e8ab53c\",\"doc\":null,\"tags\":[]}},{\"id\":\"3de3aa81-2bc2-4514-c55b-552a597be5ee\",\"type\":\"Line\",\"attributes\":{\"fill_alpha\":{\"units\":\"data\",\"value\":0.2},\"line_alpha\":{\"units\":\"data\",\"value\":1},\"doc\":null,\"size\":{\"units\":\"screen\",\"value\":10},\"fill_color\":{\"value\":\"blue\"},\"line_color\":{\"value\":\"blue\"},\"x\":{\"units\":\"data\",\"field\":\"x\"},\"id\":\"3de3aa81-2bc2-4514-c55b-552a597be5ee\",\"y\":{\"units\":\"data\",\"field\":\"y\"},\"tags\":[]}},{\"id\":\"30478146-1415-43bc-c354-2f11b7f63741\",\"type\":\"Line\",\"attributes\":{\"fill_alpha\":{\"units\":\"data\",\"value\":0.2},\"line_alpha\":{\"units\":\"data\",\"value\":1},\"doc\":null,\"size\":{\"units\":\"screen\",\"value\":10},\"fill_color\":{\"value\":\"blue\"},\"line_color\":{\"value\":\"blue\"},\"x\":{\"units\":\"data\",\"field\":\"x\"},\"id\":\"30478146-1415-43bc-c354-2f11b7f63741\",\"y\":{\"units\":\"data\",\"field\":\"y\"},\"tags\":[]}},{\"id\":\"67fedde7-77f3-4be4-cbee-f8d7e302e1f3\",\"type\":\"GlyphRenderer\",\"attributes\":{\"name\":null,\"nonselection_glyph\":{\"type\":\"Line\",\"id\":\"30478146-1415-43bc-c354-2f11b7f63741\"},\"doc\":null,\"server_data_source\":null,\"data_source\":{\"type\":\"ColumnDataSource\",\"id\":\"88fe02b4-c305-4443-c4bc-51a48e8ab53c\"},\"glyph\":{\"type\":\"Line\",\"id\":\"3de3aa81-2bc2-4514-c55b-552a597be5ee\"},\"selection_glyph\":null,\"id\":\"67fedde7-77f3-4be4-cbee-f8d7e302e1f3\",\"tags\":[]}},{\"id\":\"bf1c741c-5060-4927-c9b9-07391de6e8a4\",\"type\":\"ColumnDataSource\",\"attributes\":{\"data\":{\"y\":[89.902,86.501333333333,85.161,83.6448,80.889,78.911714285714,76.08375,72.237555555556],\"x\":[2,3,4,5,6,7,8,9]},\"column_names\":[\"y\",\"x\"],\"cont_ranges\":{},\"discrete_ranges\":{},\"selected\":[],\"id\":\"bf1c741c-5060-4927-c9b9-07391de6e8a4\",\"doc\":null,\"tags\":[]}},{\"id\":\"e4375cef-c895-46d0-c6a9-fab205519e72\",\"type\":\"Line\",\"attributes\":{\"fill_alpha\":{\"units\":\"data\",\"value\":0.2},\"line_alpha\":{\"units\":\"data\",\"value\":1},\"doc\":null,\"size\":{\"units\":\"screen\",\"value\":10},\"fill_color\":{\"value\":\"green\"},\"line_color\":{\"value\":\"green\"},\"x\":{\"units\":\"data\",\"field\":\"x\"},\"id\":\"e4375cef-c895-46d0-c6a9-fab205519e72\",\"y\":{\"units\":\"data\",\"field\":\"y\"},\"tags\":[]}},{\"id\":\"648b2e60-e405-4c40-cc5b-fff61141078a\",\"type\":\"Line\",\"attributes\":{\"fill_alpha\":{\"units\":\"data\",\"value\":0.2},\"line_alpha\":{\"units\":\"data\",\"value\":1},\"doc\":null,\"size\":{\"units\":\"screen\",\"value\":10},\"fill_color\":{\"value\":\"green\"},\"line_color\":{\"value\":\"green\"},\"x\":{\"units\":\"data\",\"field\":\"x\"},\"id\":\"648b2e60-e405-4c40-cc5b-fff61141078a\",\"y\":{\"units\":\"data\",\"field\":\"y\"},\"tags\":[]}},{\"id\":\"489e075e-014c-4ef5-ce93-ac111bcdfad3\",\"type\":\"GlyphRenderer\",\"attributes\":{\"name\":null,\"nonselection_glyph\":{\"type\":\"Line\",\"id\":\"648b2e60-e405-4c40-cc5b-fff61141078a\"},\"doc\":null,\"server_data_source\":null,\"data_source\":{\"type\":\"ColumnDataSource\",\"id\":\"bf1c741c-5060-4927-c9b9-07391de6e8a4\"},\"glyph\":{\"type\":\"Line\",\"id\":\"e4375cef-c895-46d0-c6a9-fab205519e72\"},\"selection_glyph\":null,\"id\":\"489e075e-014c-4ef5-ce93-ac111bcdfad3\",\"tags\":[]}},{\"id\":\"4323d333-fe4b-47ae-c720-624cf01f3eae\",\"type\":\"DataRange1d\",\"attributes\":{\"sources\":[{\"columns\":[\"x\"],\"source\":{\"type\":\"ColumnDataSource\",\"id\":\"c1b533d8-3c18-4cdd-cc47-403647fe1018\"}},{\"columns\":[\"x\"],\"source\":{\"type\":\"ColumnDataSource\",\"id\":\"4790005a-184c-44cd-c430-d44d8e4487c9\"}},{\"columns\":[\"x\"],\"source\":{\"type\":\"ColumnDataSource\",\"id\":\"88fe02b4-c305-4443-c4bc-51a48e8ab53c\"}},{\"columns\":[\"x\"],\"source\":{\"type\":\"ColumnDataSource\",\"id\":\"bf1c741c-5060-4927-c9b9-07391de6e8a4\"}}],\"id\":\"4323d333-fe4b-47ae-c720-624cf01f3eae\",\"tags\":[],\"doc\":null}},{\"id\":\"1aa638fb-0aeb-4e45-cebe-45eea8d8a6e4\",\"type\":\"DataRange1d\",\"attributes\":{\"sources\":[{\"columns\":[\"y\"],\"source\":{\"type\":\"ColumnDataSource\",\"id\":\"c1b533d8-3c18-4cdd-cc47-403647fe1018\"}},{\"columns\":[\"y\"],\"source\":{\"type\":\"ColumnDataSource\",\"id\":\"4790005a-184c-44cd-c430-d44d8e4487c9\"}},{\"columns\":[\"y\"],\"source\":{\"type\":\"ColumnDataSource\",\"id\":\"88fe02b4-c305-4443-c4bc-51a48e8ab53c\"}},{\"columns\":[\"y\"],\"source\":{\"type\":\"ColumnDataSource\",\"id\":\"bf1c741c-5060-4927-c9b9-07391de6e8a4\"}}],\"id\":\"1aa638fb-0aeb-4e45-cebe-45eea8d8a6e4\",\"tags\":[],\"doc\":null}},{\"id\":\"a5b6de1d-d2b3-4e39-ce5e-d76a30234d47\",\"type\":\"ToolEvents\",\"attributes\":{\"tags\":[],\"id\":\"a5b6de1d-d2b3-4e39-ce5e-d76a30234d47\",\"geometries\":[],\"doc\":null}},{\"id\":\"d8769ff3-60c1-4be2-cbef-3376017c54e6\",\"type\":\"BasicTickFormatter\",\"attributes\":{\"id\":\"d8769ff3-60c1-4be2-cbef-3376017c54e6\",\"tags\":[],\"doc\":null}},{\"id\":\"5cff97a7-73c3-432a-c325-b8d3f3c8984a\",\"type\":\"BasicTicker\",\"attributes\":{\"num_minor_ticks\":5,\"id\":\"5cff97a7-73c3-432a-c325-b8d3f3c8984a\",\"tags\":[],\"doc\":null}},{\"id\":\"8fece7b3-34f4-4a7d-ca00-df339eec392a\",\"type\":\"LinearAxis\",\"attributes\":{\"formatter\":{\"type\":\"BasicTickFormatter\",\"id\":\"d8769ff3-60c1-4be2-cbef-3376017c54e6\"},\"ticker\":{\"type\":\"BasicTicker\",\"id\":\"5cff97a7-73c3-432a-c325-b8d3f3c8984a\"},\"plot\":{\"id\":\"4c92973d-d7fe-41e5-c1dd-b80d028b6905\",\"type\":\"Plot\",\"subtype\":\"Figure\"},\"axis_label\":\"Episode Length\",\"id\":\"8fece7b3-34f4-4a7d-ca00-df339eec392a\",\"doc\":null,\"tags\":[]}},{\"id\":\"51b3bdeb-9054-46ac-c68b-ae4a6f851315\",\"type\":\"Grid\",\"attributes\":{\"dimension\":0,\"plot\":{\"id\":\"4c92973d-d7fe-41e5-c1dd-b80d028b6905\",\"type\":\"Plot\",\"subtype\":\"Figure\"},\"ticker\":{\"type\":\"BasicTicker\",\"id\":\"5cff97a7-73c3-432a-c325-b8d3f3c8984a\"},\"id\":\"51b3bdeb-9054-46ac-c68b-ae4a6f851315\",\"doc\":null,\"tags\":[]}},{\"id\":\"4e5f4750-9a88-4fca-cf9f-cd4ce3b7a203\",\"type\":\"BasicTickFormatter\",\"attributes\":{\"id\":\"4e5f4750-9a88-4fca-cf9f-cd4ce3b7a203\",\"tags\":[],\"doc\":null}},{\"id\":\"49fd7e0a-99e4-42c9-c230-569e198fd904\",\"type\":\"BasicTicker\",\"attributes\":{\"num_minor_ticks\":5,\"id\":\"49fd7e0a-99e4-42c9-c230-569e198fd904\",\"tags\":[],\"doc\":null}},{\"id\":\"71c762a4-7339-4c46-cc34-a9cde1830045\",\"type\":\"LinearAxis\",\"attributes\":{\"formatter\":{\"type\":\"BasicTickFormatter\",\"id\":\"4e5f4750-9a88-4fca-cf9f-cd4ce3b7a203\"},\"ticker\":{\"type\":\"BasicTicker\",\"id\":\"49fd7e0a-99e4-42c9-c230-569e198fd904\"},\"plot\":{\"id\":\"4c92973d-d7fe-41e5-c1dd-b80d028b6905\",\"type\":\"Plot\",\"subtype\":\"Figure\"},\"axis_label\":\"Training Accuracy\",\"id\":\"71c762a4-7339-4c46-cc34-a9cde1830045\",\"doc\":null,\"tags\":[]}},{\"id\":\"c743e878-2950-4f7e-cfc8-7835840a558a\",\"type\":\"Grid\",\"attributes\":{\"dimension\":1,\"plot\":{\"id\":\"4c92973d-d7fe-41e5-c1dd-b80d028b6905\",\"type\":\"Plot\",\"subtype\":\"Figure\"},\"ticker\":{\"type\":\"BasicTicker\",\"id\":\"49fd7e0a-99e4-42c9-c230-569e198fd904\"},\"id\":\"c743e878-2950-4f7e-cfc8-7835840a558a\",\"doc\":null,\"tags\":[]}},{\"id\":\"80916607-4ec3-4111-c1ce-45221464354c\",\"type\":\"PanTool\",\"attributes\":{\"plot\":{\"id\":\"4c92973d-d7fe-41e5-c1dd-b80d028b6905\",\"type\":\"Plot\",\"subtype\":\"Figure\"},\"dimensions\":[\"width\",\"height\"],\"id\":\"80916607-4ec3-4111-c1ce-45221464354c\",\"doc\":null,\"tags\":[]}},{\"id\":\"38bd9b0b-8d2c-432c-c33c-6353b5ddd497\",\"type\":\"WheelZoomTool\",\"attributes\":{\"plot\":{\"id\":\"4c92973d-d7fe-41e5-c1dd-b80d028b6905\",\"type\":\"Plot\",\"subtype\":\"Figure\"},\"dimensions\":[\"width\",\"height\"],\"id\":\"38bd9b0b-8d2c-432c-c33c-6353b5ddd497\",\"doc\":null,\"tags\":[]}},{\"id\":\"38e71985-908a-4f41-cfdb-a4f2127a8589\",\"type\":\"BoxZoomTool\",\"attributes\":{\"plot\":{\"id\":\"4c92973d-d7fe-41e5-c1dd-b80d028b6905\",\"type\":\"Plot\",\"subtype\":\"Figure\"},\"id\":\"38e71985-908a-4f41-cfdb-a4f2127a8589\",\"tags\":[],\"doc\":null}},{\"id\":\"fb1c0a8c-3974-4ba7-cb54-d027d9fce98f\",\"type\":\"PreviewSaveTool\",\"attributes\":{\"plot\":{\"id\":\"4c92973d-d7fe-41e5-c1dd-b80d028b6905\",\"type\":\"Plot\",\"subtype\":\"Figure\"},\"id\":\"fb1c0a8c-3974-4ba7-cb54-d027d9fce98f\",\"tags\":[],\"doc\":null}},{\"id\":\"3d45818a-b5bc-48e0-c871-129881dfe385\",\"type\":\"ResizeTool\",\"attributes\":{\"plot\":{\"id\":\"4c92973d-d7fe-41e5-c1dd-b80d028b6905\",\"type\":\"Plot\",\"subtype\":\"Figure\"},\"id\":\"3d45818a-b5bc-48e0-c871-129881dfe385\",\"tags\":[],\"doc\":null}},{\"id\":\"bb20367c-45be-4187-c160-91a65e1b87ee\",\"type\":\"ResetTool\",\"attributes\":{\"plot\":{\"id\":\"4c92973d-d7fe-41e5-c1dd-b80d028b6905\",\"type\":\"Plot\",\"subtype\":\"Figure\"},\"id\":\"bb20367c-45be-4187-c160-91a65e1b87ee\",\"tags\":[],\"doc\":null}},{\"id\":\"75deb4e1-de4b-4277-c2b6-03402a290f7d\",\"type\":\"Legend\",\"attributes\":{\"plot\":{\"id\":\"4c92973d-d7fe-41e5-c1dd-b80d028b6905\",\"type\":\"Plot\",\"subtype\":\"Figure\"},\"legends\":[[\"Fully Connected\",[{\"type\":\"GlyphRenderer\",\"id\":\"3341b4ae-cbb7-4b06-cb09-af6b68284b67\"}]],[\"Fully Connected 2\",[{\"type\":\"GlyphRenderer\",\"id\":\"9ad64c8d-0dc1-490d-c9da-0dd82bac1e91\"}]],[\"RNN\",[{\"type\":\"GlyphRenderer\",\"id\":\"67fedde7-77f3-4be4-cbee-f8d7e302e1f3\"}]],[\"LSTM\",[{\"type\":\"GlyphRenderer\",\"id\":\"489e075e-014c-4ef5-ce93-ac111bcdfad3\"}]]],\"id\":\"75deb4e1-de4b-4277-c2b6-03402a290f7d\",\"doc\":null,\"tags\":[]}},{\"id\":\"4c92973d-d7fe-41e5-c1dd-b80d028b6905\",\"type\":\"Plot\",\"attributes\":{\"x_range\":{\"type\":\"DataRange1d\",\"id\":\"4323d333-fe4b-47ae-c720-624cf01f3eae\"},\"tool_events\":{\"type\":\"ToolEvents\",\"id\":\"a5b6de1d-d2b3-4e39-ce5e-d76a30234d47\"},\"below\":[{\"type\":\"LinearAxis\",\"id\":\"8fece7b3-34f4-4a7d-ca00-df339eec392a\"}],\"renderers\":[{\"type\":\"GlyphRenderer\",\"id\":\"3341b4ae-cbb7-4b06-cb09-af6b68284b67\"},{\"type\":\"GlyphRenderer\",\"id\":\"9ad64c8d-0dc1-490d-c9da-0dd82bac1e91\"},{\"type\":\"GlyphRenderer\",\"id\":\"67fedde7-77f3-4be4-cbee-f8d7e302e1f3\"},{\"type\":\"GlyphRenderer\",\"id\":\"489e075e-014c-4ef5-ce93-ac111bcdfad3\"},{\"type\":\"LinearAxis\",\"id\":\"8fece7b3-34f4-4a7d-ca00-df339eec392a\"},{\"type\":\"Grid\",\"id\":\"51b3bdeb-9054-46ac-c68b-ae4a6f851315\"},{\"type\":\"LinearAxis\",\"id\":\"71c762a4-7339-4c46-cc34-a9cde1830045\"},{\"type\":\"Grid\",\"id\":\"c743e878-2950-4f7e-cfc8-7835840a558a\"},{\"type\":\"Legend\",\"id\":\"75deb4e1-de4b-4277-c2b6-03402a290f7d\"}],\"above\":[],\"tools\":[{\"type\":\"PanTool\",\"id\":\"80916607-4ec3-4111-c1ce-45221464354c\"},{\"type\":\"WheelZoomTool\",\"id\":\"38bd9b0b-8d2c-432c-c33c-6353b5ddd497\"},{\"type\":\"BoxZoomTool\",\"id\":\"38e71985-908a-4f41-cfdb-a4f2127a8589\"},{\"type\":\"PreviewSaveTool\",\"id\":\"fb1c0a8c-3974-4ba7-cb54-d027d9fce98f\"},{\"type\":\"ResizeTool\",\"id\":\"3d45818a-b5bc-48e0-c871-129881dfe385\"},{\"type\":\"ResetTool\",\"id\":\"bb20367c-45be-4187-c160-91a65e1b87ee\"}],\"doc\":null,\"right\":[],\"title\":\"Training accuracy (50000 episodes)\",\"extra_x_ranges\":{},\"left\":[{\"type\":\"LinearAxis\",\"id\":\"71c762a4-7339-4c46-cc34-a9cde1830045\"}],\"y_range\":{\"type\":\"DataRange1d\",\"id\":\"1aa638fb-0aeb-4e45-cebe-45eea8d8a6e4\"},\"id\":\"4c92973d-d7fe-41e5-c1dd-b80d028b6905\",\"extra_y_ranges\":{},\"tags\":[]}}];\n",
       "      Bokeh.load_models(all_models);\n",
       "      var model = Bokeh.Collections(modeltype).get(modelid);\n",
       "      $(\"#c77fc70e-c027-4bdd-cb74-9efe64b30c3f\").html(''); // clear any previous plot in window_id\n",
       "      var view = new model.default_view({model: model, el: \"#c77fc70e-c027-4bdd-cb74-9efe64b30c3f\"});\n",
       "  });\n",
       "    }\n",
       "});\n",
       "</script>\n",
       "<div class=\"plotdiv\" id=\"c77fc70e-c027-4bdd-cb74-9efe64b30c3f\"></div>\n"
      ]
     },
     "metadata": {},
     "output_type": "display_data"
    }
   ],
   "source": [
    "-- Training accuracy plot\n",
    "plot = itorch.Plot()\n",
    "x = torch.range(2, 9)\n",
    "full_y = torch.Tensor(8)\n",
    "full2_y = torch.Tensor(8)\n",
    "rnn_y = torch.Tensor(8)\n",
    "lstm_y = torch.Tensor(8)\n",
    "for i=2,9 do\n",
    "    name = string.format('models_%d_full/rubiks_best', i)\n",
    "    full_y[i-1] = best_results[name].train_acc\n",
    "    name = string.format('models_%d_fulltwo/rubiks_best', i)\n",
    "    full2_y[i-1] = best_results[name].train_acc\n",
    "    name = string.format('models_%d_rnn/rubiks_best', i)\n",
    "    rnn_y[i-1] = best_results[name].train_acc\n",
    "    name = string.format('models_%d_lstm/rubiks_best', i)\n",
    "    lstm_y[i-1] = best_results[name].train_acc\n",
    "end\n",
    "\n",
    "plot:xaxis('Episode Length'):yaxis('Training Accuracy')\n",
    "plot:title('Training accuracy (50000 episodes)')\n",
    "plot:line(x, full_y, 'red', 'Fully Connected')\n",
    "plot:line(x, full2_y, 'pink', 'Fully Connected 2')\n",
    "plot:line(x, rnn_y, 'blue', 'RNN')\n",
    "plot:line(x, lstm_y, 'green', 'LSTM')\n",
    "plot:legend(true)\n",
    "plot:draw()"
   ]
  },
  {
   "cell_type": "code",
   "execution_count": 5,
   "metadata": {
    "collapsed": false
   },
   "outputs": [
    {
     "data": {
      "text/html": [
       "<script type=\"text/javascript\">\n",
       "$(function() {\n",
       "    if (typeof (window._bokeh_onload_callbacks) === \"undefined\"){\n",
       "  window._bokeh_onload_callbacks = [];\n",
       "    }\n",
       "    function load_lib(url, callback){\n",
       "  window._bokeh_onload_callbacks.push(callback);\n",
       "  if (window._bokeh_is_loading){\n",
       "      console.log(\"Bokeh: BokehJS is being loaded, scheduling callback at\", new Date());\n",
       "      return null;\n",
       "  }\n",
       "  console.log(\"Bokeh: BokehJS not loaded, scheduling load and callback at\", new Date());\n",
       "  window._bokeh_is_loading = true;\n",
       "  var s = document.createElement('script');\n",
       "  s.src = url;\n",
       "  s.async = true;\n",
       "  s.onreadystatechange = s.onload = function(){\n",
       "      Bokeh.embed.inject_css(\"http://cdn.pydata.org/bokeh-0.7.0.min.css\");\n",
       "      window._bokeh_onload_callbacks.forEach(function(callback){callback()});\n",
       "  };\n",
       "  s.onerror = function(){\n",
       "      console.warn(\"failed to load library \" + url);\n",
       "  };\n",
       "  document.getElementsByTagName(\"head\")[0].appendChild(s);\n",
       "    }\n",
       "\n",
       "    bokehjs_url = \"http://cdn.pydata.org/bokeh-0.7.0.min.js\"\n",
       "\n",
       "    var elt = document.getElementById(\"4f4d10f5-e388-4b9b-cbf9-c9449d93716f\");\n",
       "    if(elt==null) {\n",
       "  console.log(\"Bokeh: ERROR: autoload.js configured with elementid '4f4d10f5-e388-4b9b-cbf9-c9449d93716f'\"\n",
       "        + \"but no matching script tag was found. \")\n",
       "  return false;\n",
       "    }\n",
       "\n",
       "    if(typeof(Bokeh) !== \"undefined\") {\n",
       "  console.log(\"Bokeh: BokehJS loaded, going straight to plotting\");\n",
       "  var modelid = \"6a3bde1f-0946-44d8-c4ae-464b440e8a88\";\n",
       "  var modeltype = \"Plot\";\n",
       "  var all_models = [{\"id\":\"c2b03050-7182-4818-c81f-517947bf8a35\",\"type\":\"ColumnDataSource\",\"attributes\":{\"data\":{\"y\":[90,86.493333333333,84.1175,80.652,77.433333333333,73.925714285714,70.03,66.526666666667],\"x\":[2,3,4,5,6,7,8,9]},\"column_names\":[\"y\",\"x\"],\"cont_ranges\":{},\"discrete_ranges\":{},\"selected\":[],\"id\":\"c2b03050-7182-4818-c81f-517947bf8a35\",\"doc\":null,\"tags\":[]}},{\"id\":\"70af5f75-a406-4cb3-ccd2-c2d320ffe43a\",\"type\":\"Line\",\"attributes\":{\"fill_alpha\":{\"units\":\"data\",\"value\":0.2},\"line_alpha\":{\"units\":\"data\",\"value\":1},\"doc\":null,\"size\":{\"units\":\"screen\",\"value\":10},\"fill_color\":{\"value\":\"red\"},\"line_color\":{\"value\":\"red\"},\"x\":{\"units\":\"data\",\"field\":\"x\"},\"id\":\"70af5f75-a406-4cb3-ccd2-c2d320ffe43a\",\"y\":{\"units\":\"data\",\"field\":\"y\"},\"tags\":[]}},{\"id\":\"d8f84276-0c60-46a2-c679-e3d3417d7849\",\"type\":\"Line\",\"attributes\":{\"fill_alpha\":{\"units\":\"data\",\"value\":0.2},\"line_alpha\":{\"units\":\"data\",\"value\":1},\"doc\":null,\"size\":{\"units\":\"screen\",\"value\":10},\"fill_color\":{\"value\":\"red\"},\"line_color\":{\"value\":\"red\"},\"x\":{\"units\":\"data\",\"field\":\"x\"},\"id\":\"d8f84276-0c60-46a2-c679-e3d3417d7849\",\"y\":{\"units\":\"data\",\"field\":\"y\"},\"tags\":[]}},{\"id\":\"78b1c040-27e8-48fc-c89a-a00850c8fc2e\",\"type\":\"GlyphRenderer\",\"attributes\":{\"name\":null,\"nonselection_glyph\":{\"type\":\"Line\",\"id\":\"d8f84276-0c60-46a2-c679-e3d3417d7849\"},\"doc\":null,\"server_data_source\":null,\"data_source\":{\"type\":\"ColumnDataSource\",\"id\":\"c2b03050-7182-4818-c81f-517947bf8a35\"},\"glyph\":{\"type\":\"Line\",\"id\":\"70af5f75-a406-4cb3-ccd2-c2d320ffe43a\"},\"selection_glyph\":null,\"id\":\"78b1c040-27e8-48fc-c89a-a00850c8fc2e\",\"tags\":[]}},{\"id\":\"58a0b646-0879-4622-c6ba-6be7f1680868\",\"type\":\"ColumnDataSource\",\"attributes\":{\"data\":{\"y\":[90.21,86.5,84.0425,81.17,77.956666666667,74.225714285714,70.4975,66.324444444444],\"x\":[2,3,4,5,6,7,8,9]},\"column_names\":[\"y\",\"x\"],\"cont_ranges\":{},\"discrete_ranges\":{},\"selected\":[],\"id\":\"58a0b646-0879-4622-c6ba-6be7f1680868\",\"doc\":null,\"tags\":[]}},{\"id\":\"90cd3bab-7862-4102-c12a-1a4193098f73\",\"type\":\"Line\",\"attributes\":{\"fill_alpha\":{\"units\":\"data\",\"value\":0.2},\"line_alpha\":{\"units\":\"data\",\"value\":1},\"doc\":null,\"size\":{\"units\":\"screen\",\"value\":10},\"fill_color\":{\"value\":\"pink\"},\"line_color\":{\"value\":\"pink\"},\"x\":{\"units\":\"data\",\"field\":\"x\"},\"id\":\"90cd3bab-7862-4102-c12a-1a4193098f73\",\"y\":{\"units\":\"data\",\"field\":\"y\"},\"tags\":[]}},{\"id\":\"7d2b0a47-170c-4ac1-ca4a-6685398c9c2b\",\"type\":\"Line\",\"attributes\":{\"fill_alpha\":{\"units\":\"data\",\"value\":0.2},\"line_alpha\":{\"units\":\"data\",\"value\":1},\"doc\":null,\"size\":{\"units\":\"screen\",\"value\":10},\"fill_color\":{\"value\":\"pink\"},\"line_color\":{\"value\":\"pink\"},\"x\":{\"units\":\"data\",\"field\":\"x\"},\"id\":\"7d2b0a47-170c-4ac1-ca4a-6685398c9c2b\",\"y\":{\"units\":\"data\",\"field\":\"y\"},\"tags\":[]}},{\"id\":\"79655b13-5385-4dc0-cd9f-9c4590daca1a\",\"type\":\"GlyphRenderer\",\"attributes\":{\"name\":null,\"nonselection_glyph\":{\"type\":\"Line\",\"id\":\"7d2b0a47-170c-4ac1-ca4a-6685398c9c2b\"},\"doc\":null,\"server_data_source\":null,\"data_source\":{\"type\":\"ColumnDataSource\",\"id\":\"58a0b646-0879-4622-c6ba-6be7f1680868\"},\"glyph\":{\"type\":\"Line\",\"id\":\"90cd3bab-7862-4102-c12a-1a4193098f73\"},\"selection_glyph\":null,\"id\":\"79655b13-5385-4dc0-cd9f-9c4590daca1a\",\"tags\":[]}},{\"id\":\"49639db4-a51b-49a2-c935-bff03b70d736\",\"type\":\"ColumnDataSource\",\"attributes\":{\"data\":{\"y\":[90.155,86.506666666667,83.91,79.778,75.396666666667,71.328571428571,66.24125,60.996666666667],\"x\":[2,3,4,5,6,7,8,9]},\"column_names\":[\"y\",\"x\"],\"cont_ranges\":{},\"discrete_ranges\":{},\"selected\":[],\"id\":\"49639db4-a51b-49a2-c935-bff03b70d736\",\"doc\":null,\"tags\":[]}},{\"id\":\"ae0cac3b-e2e6-4604-c6ee-599419a12508\",\"type\":\"Line\",\"attributes\":{\"fill_alpha\":{\"units\":\"data\",\"value\":0.2},\"line_alpha\":{\"units\":\"data\",\"value\":1},\"doc\":null,\"size\":{\"units\":\"screen\",\"value\":10},\"fill_color\":{\"value\":\"blue\"},\"line_color\":{\"value\":\"blue\"},\"x\":{\"units\":\"data\",\"field\":\"x\"},\"id\":\"ae0cac3b-e2e6-4604-c6ee-599419a12508\",\"y\":{\"units\":\"data\",\"field\":\"y\"},\"tags\":[]}},{\"id\":\"68582311-abde-4789-c715-78a4d0c0d2cc\",\"type\":\"Line\",\"attributes\":{\"fill_alpha\":{\"units\":\"data\",\"value\":0.2},\"line_alpha\":{\"units\":\"data\",\"value\":1},\"doc\":null,\"size\":{\"units\":\"screen\",\"value\":10},\"fill_color\":{\"value\":\"blue\"},\"line_color\":{\"value\":\"blue\"},\"x\":{\"units\":\"data\",\"field\":\"x\"},\"id\":\"68582311-abde-4789-c715-78a4d0c0d2cc\",\"y\":{\"units\":\"data\",\"field\":\"y\"},\"tags\":[]}},{\"id\":\"54fb40ed-43a2-470e-c73d-0ef9f3665fbd\",\"type\":\"GlyphRenderer\",\"attributes\":{\"name\":null,\"nonselection_glyph\":{\"type\":\"Line\",\"id\":\"68582311-abde-4789-c715-78a4d0c0d2cc\"},\"doc\":null,\"server_data_source\":null,\"data_source\":{\"type\":\"ColumnDataSource\",\"id\":\"49639db4-a51b-49a2-c935-bff03b70d736\"},\"glyph\":{\"type\":\"Line\",\"id\":\"ae0cac3b-e2e6-4604-c6ee-599419a12508\"},\"selection_glyph\":null,\"id\":\"54fb40ed-43a2-470e-c73d-0ef9f3665fbd\",\"tags\":[]}},{\"id\":\"238a02b3-e1bd-462f-c61c-130de7b273f2\",\"type\":\"ColumnDataSource\",\"attributes\":{\"data\":{\"y\":[89.89,86.503333333333,83.8175,81.914,78.996666666667,76.324285714286,73.16125,70.3],\"x\":[2,3,4,5,6,7,8,9]},\"column_names\":[\"y\",\"x\"],\"cont_ranges\":{},\"discrete_ranges\":{},\"selected\":[],\"id\":\"238a02b3-e1bd-462f-c61c-130de7b273f2\",\"doc\":null,\"tags\":[]}},{\"id\":\"1f4bd097-4ffe-4fdd-cf4e-0f2c2a6b99f4\",\"type\":\"Line\",\"attributes\":{\"fill_alpha\":{\"units\":\"data\",\"value\":0.2},\"line_alpha\":{\"units\":\"data\",\"value\":1},\"doc\":null,\"size\":{\"units\":\"screen\",\"value\":10},\"fill_color\":{\"value\":\"green\"},\"line_color\":{\"value\":\"green\"},\"x\":{\"units\":\"data\",\"field\":\"x\"},\"id\":\"1f4bd097-4ffe-4fdd-cf4e-0f2c2a6b99f4\",\"y\":{\"units\":\"data\",\"field\":\"y\"},\"tags\":[]}},{\"id\":\"1f07709c-9180-46ad-c656-0a5c28549279\",\"type\":\"Line\",\"attributes\":{\"fill_alpha\":{\"units\":\"data\",\"value\":0.2},\"line_alpha\":{\"units\":\"data\",\"value\":1},\"doc\":null,\"size\":{\"units\":\"screen\",\"value\":10},\"fill_color\":{\"value\":\"green\"},\"line_color\":{\"value\":\"green\"},\"x\":{\"units\":\"data\",\"field\":\"x\"},\"id\":\"1f07709c-9180-46ad-c656-0a5c28549279\",\"y\":{\"units\":\"data\",\"field\":\"y\"},\"tags\":[]}},{\"id\":\"c9ad566e-7db4-47e1-c7e4-45f268caa4b7\",\"type\":\"GlyphRenderer\",\"attributes\":{\"name\":null,\"nonselection_glyph\":{\"type\":\"Line\",\"id\":\"1f07709c-9180-46ad-c656-0a5c28549279\"},\"doc\":null,\"server_data_source\":null,\"data_source\":{\"type\":\"ColumnDataSource\",\"id\":\"238a02b3-e1bd-462f-c61c-130de7b273f2\"},\"glyph\":{\"type\":\"Line\",\"id\":\"1f4bd097-4ffe-4fdd-cf4e-0f2c2a6b99f4\"},\"selection_glyph\":null,\"id\":\"c9ad566e-7db4-47e1-c7e4-45f268caa4b7\",\"tags\":[]}},{\"id\":\"726d9651-26a7-4dbc-cde2-0196622ddb44\",\"type\":\"DataRange1d\",\"attributes\":{\"sources\":[{\"columns\":[\"x\"],\"source\":{\"type\":\"ColumnDataSource\",\"id\":\"c2b03050-7182-4818-c81f-517947bf8a35\"}},{\"columns\":[\"x\"],\"source\":{\"type\":\"ColumnDataSource\",\"id\":\"58a0b646-0879-4622-c6ba-6be7f1680868\"}},{\"columns\":[\"x\"],\"source\":{\"type\":\"ColumnDataSource\",\"id\":\"49639db4-a51b-49a2-c935-bff03b70d736\"}},{\"columns\":[\"x\"],\"source\":{\"type\":\"ColumnDataSource\",\"id\":\"238a02b3-e1bd-462f-c61c-130de7b273f2\"}}],\"id\":\"726d9651-26a7-4dbc-cde2-0196622ddb44\",\"tags\":[],\"doc\":null}},{\"id\":\"86917684-608d-4f6b-cff3-146a5c5197c7\",\"type\":\"DataRange1d\",\"attributes\":{\"sources\":[{\"columns\":[\"y\"],\"source\":{\"type\":\"ColumnDataSource\",\"id\":\"c2b03050-7182-4818-c81f-517947bf8a35\"}},{\"columns\":[\"y\"],\"source\":{\"type\":\"ColumnDataSource\",\"id\":\"58a0b646-0879-4622-c6ba-6be7f1680868\"}},{\"columns\":[\"y\"],\"source\":{\"type\":\"ColumnDataSource\",\"id\":\"49639db4-a51b-49a2-c935-bff03b70d736\"}},{\"columns\":[\"y\"],\"source\":{\"type\":\"ColumnDataSource\",\"id\":\"238a02b3-e1bd-462f-c61c-130de7b273f2\"}}],\"id\":\"86917684-608d-4f6b-cff3-146a5c5197c7\",\"tags\":[],\"doc\":null}},{\"id\":\"c63eef67-c46d-48fa-c885-6d2dba752924\",\"type\":\"ToolEvents\",\"attributes\":{\"tags\":[],\"id\":\"c63eef67-c46d-48fa-c885-6d2dba752924\",\"geometries\":[],\"doc\":null}},{\"id\":\"fa53e8bb-63ea-4b35-cbbb-060d9521a3d0\",\"type\":\"BasicTickFormatter\",\"attributes\":{\"id\":\"fa53e8bb-63ea-4b35-cbbb-060d9521a3d0\",\"tags\":[],\"doc\":null}},{\"id\":\"26b910f7-7142-4da8-cdf7-b9d847846dc8\",\"type\":\"BasicTicker\",\"attributes\":{\"num_minor_ticks\":5,\"id\":\"26b910f7-7142-4da8-cdf7-b9d847846dc8\",\"tags\":[],\"doc\":null}},{\"id\":\"7e53a95b-08ef-4339-c32e-16902ef9f67f\",\"type\":\"LinearAxis\",\"attributes\":{\"formatter\":{\"type\":\"BasicTickFormatter\",\"id\":\"fa53e8bb-63ea-4b35-cbbb-060d9521a3d0\"},\"ticker\":{\"type\":\"BasicTicker\",\"id\":\"26b910f7-7142-4da8-cdf7-b9d847846dc8\"},\"plot\":{\"id\":\"6a3bde1f-0946-44d8-c4ae-464b440e8a88\",\"type\":\"Plot\",\"subtype\":\"Figure\"},\"axis_label\":\"Episode Length\",\"id\":\"7e53a95b-08ef-4339-c32e-16902ef9f67f\",\"doc\":null,\"tags\":[]}},{\"id\":\"7c1c3b2b-9737-4c82-cc53-e49f48d9a50e\",\"type\":\"Grid\",\"attributes\":{\"dimension\":0,\"plot\":{\"id\":\"6a3bde1f-0946-44d8-c4ae-464b440e8a88\",\"type\":\"Plot\",\"subtype\":\"Figure\"},\"ticker\":{\"type\":\"BasicTicker\",\"id\":\"26b910f7-7142-4da8-cdf7-b9d847846dc8\"},\"id\":\"7c1c3b2b-9737-4c82-cc53-e49f48d9a50e\",\"doc\":null,\"tags\":[]}},{\"id\":\"9afa655f-a39a-4528-c531-0b258e1aed23\",\"type\":\"BasicTickFormatter\",\"attributes\":{\"id\":\"9afa655f-a39a-4528-c531-0b258e1aed23\",\"tags\":[],\"doc\":null}},{\"id\":\"d0d4b845-1e1d-4bba-cbfe-d0a02a0f6a0b\",\"type\":\"BasicTicker\",\"attributes\":{\"num_minor_ticks\":5,\"id\":\"d0d4b845-1e1d-4bba-cbfe-d0a02a0f6a0b\",\"tags\":[],\"doc\":null}},{\"id\":\"b3fb7d0d-10e3-4e01-ce5f-102b01eb5a09\",\"type\":\"LinearAxis\",\"attributes\":{\"formatter\":{\"type\":\"BasicTickFormatter\",\"id\":\"9afa655f-a39a-4528-c531-0b258e1aed23\"},\"ticker\":{\"type\":\"BasicTicker\",\"id\":\"d0d4b845-1e1d-4bba-cbfe-d0a02a0f6a0b\"},\"plot\":{\"id\":\"6a3bde1f-0946-44d8-c4ae-464b440e8a88\",\"type\":\"Plot\",\"subtype\":\"Figure\"},\"axis_label\":\"Test Accuracy\",\"id\":\"b3fb7d0d-10e3-4e01-ce5f-102b01eb5a09\",\"doc\":null,\"tags\":[]}},{\"id\":\"170864b3-51c1-48bb-c8b5-822ee5016f7f\",\"type\":\"Grid\",\"attributes\":{\"dimension\":1,\"plot\":{\"id\":\"6a3bde1f-0946-44d8-c4ae-464b440e8a88\",\"type\":\"Plot\",\"subtype\":\"Figure\"},\"ticker\":{\"type\":\"BasicTicker\",\"id\":\"d0d4b845-1e1d-4bba-cbfe-d0a02a0f6a0b\"},\"id\":\"170864b3-51c1-48bb-c8b5-822ee5016f7f\",\"doc\":null,\"tags\":[]}},{\"id\":\"4687fd86-8de1-480a-c815-083767da76ca\",\"type\":\"PanTool\",\"attributes\":{\"plot\":{\"id\":\"6a3bde1f-0946-44d8-c4ae-464b440e8a88\",\"type\":\"Plot\",\"subtype\":\"Figure\"},\"dimensions\":[\"width\",\"height\"],\"id\":\"4687fd86-8de1-480a-c815-083767da76ca\",\"doc\":null,\"tags\":[]}},{\"id\":\"f4cb1888-616c-45a0-c59e-109620a30fc8\",\"type\":\"WheelZoomTool\",\"attributes\":{\"plot\":{\"id\":\"6a3bde1f-0946-44d8-c4ae-464b440e8a88\",\"type\":\"Plot\",\"subtype\":\"Figure\"},\"dimensions\":[\"width\",\"height\"],\"id\":\"f4cb1888-616c-45a0-c59e-109620a30fc8\",\"doc\":null,\"tags\":[]}},{\"id\":\"3dd3c44c-19a3-495b-c93f-c480dbfd62f0\",\"type\":\"BoxZoomTool\",\"attributes\":{\"plot\":{\"id\":\"6a3bde1f-0946-44d8-c4ae-464b440e8a88\",\"type\":\"Plot\",\"subtype\":\"Figure\"},\"id\":\"3dd3c44c-19a3-495b-c93f-c480dbfd62f0\",\"tags\":[],\"doc\":null}},{\"id\":\"aa79834e-62fe-4931-c97a-215505fb245f\",\"type\":\"PreviewSaveTool\",\"attributes\":{\"plot\":{\"id\":\"6a3bde1f-0946-44d8-c4ae-464b440e8a88\",\"type\":\"Plot\",\"subtype\":\"Figure\"},\"id\":\"aa79834e-62fe-4931-c97a-215505fb245f\",\"tags\":[],\"doc\":null}},{\"id\":\"305b746c-3634-4deb-cd6a-06ee12c7e68c\",\"type\":\"ResizeTool\",\"attributes\":{\"plot\":{\"id\":\"6a3bde1f-0946-44d8-c4ae-464b440e8a88\",\"type\":\"Plot\",\"subtype\":\"Figure\"},\"id\":\"305b746c-3634-4deb-cd6a-06ee12c7e68c\",\"tags\":[],\"doc\":null}},{\"id\":\"0e95a6a2-8d86-410c-c12b-7da8a7372f42\",\"type\":\"ResetTool\",\"attributes\":{\"plot\":{\"id\":\"6a3bde1f-0946-44d8-c4ae-464b440e8a88\",\"type\":\"Plot\",\"subtype\":\"Figure\"},\"id\":\"0e95a6a2-8d86-410c-c12b-7da8a7372f42\",\"tags\":[],\"doc\":null}},{\"id\":\"646beeb2-f4a7-41fc-c111-cf6af0eff6d8\",\"type\":\"Legend\",\"attributes\":{\"plot\":{\"id\":\"6a3bde1f-0946-44d8-c4ae-464b440e8a88\",\"type\":\"Plot\",\"subtype\":\"Figure\"},\"legends\":[[\"Fully Connected\",[{\"type\":\"GlyphRenderer\",\"id\":\"78b1c040-27e8-48fc-c89a-a00850c8fc2e\"}]],[\"Fully Connected 2\",[{\"type\":\"GlyphRenderer\",\"id\":\"79655b13-5385-4dc0-cd9f-9c4590daca1a\"}]],[\"RNN\",[{\"type\":\"GlyphRenderer\",\"id\":\"54fb40ed-43a2-470e-c73d-0ef9f3665fbd\"}]],[\"LSTM\",[{\"type\":\"GlyphRenderer\",\"id\":\"c9ad566e-7db4-47e1-c7e4-45f268caa4b7\"}]]],\"id\":\"646beeb2-f4a7-41fc-c111-cf6af0eff6d8\",\"doc\":null,\"tags\":[]}},{\"id\":\"6a3bde1f-0946-44d8-c4ae-464b440e8a88\",\"type\":\"Plot\",\"attributes\":{\"x_range\":{\"type\":\"DataRange1d\",\"id\":\"726d9651-26a7-4dbc-cde2-0196622ddb44\"},\"tool_events\":{\"type\":\"ToolEvents\",\"id\":\"c63eef67-c46d-48fa-c885-6d2dba752924\"},\"below\":[{\"type\":\"LinearAxis\",\"id\":\"7e53a95b-08ef-4339-c32e-16902ef9f67f\"}],\"renderers\":[{\"type\":\"GlyphRenderer\",\"id\":\"78b1c040-27e8-48fc-c89a-a00850c8fc2e\"},{\"type\":\"GlyphRenderer\",\"id\":\"79655b13-5385-4dc0-cd9f-9c4590daca1a\"},{\"type\":\"GlyphRenderer\",\"id\":\"54fb40ed-43a2-470e-c73d-0ef9f3665fbd\"},{\"type\":\"GlyphRenderer\",\"id\":\"c9ad566e-7db4-47e1-c7e4-45f268caa4b7\"},{\"type\":\"LinearAxis\",\"id\":\"7e53a95b-08ef-4339-c32e-16902ef9f67f\"},{\"type\":\"Grid\",\"id\":\"7c1c3b2b-9737-4c82-cc53-e49f48d9a50e\"},{\"type\":\"LinearAxis\",\"id\":\"b3fb7d0d-10e3-4e01-ce5f-102b01eb5a09\"},{\"type\":\"Grid\",\"id\":\"170864b3-51c1-48bb-c8b5-822ee5016f7f\"},{\"type\":\"Legend\",\"id\":\"646beeb2-f4a7-41fc-c111-cf6af0eff6d8\"}],\"above\":[],\"tools\":[{\"type\":\"PanTool\",\"id\":\"4687fd86-8de1-480a-c815-083767da76ca\"},{\"type\":\"WheelZoomTool\",\"id\":\"f4cb1888-616c-45a0-c59e-109620a30fc8\"},{\"type\":\"BoxZoomTool\",\"id\":\"3dd3c44c-19a3-495b-c93f-c480dbfd62f0\"},{\"type\":\"PreviewSaveTool\",\"id\":\"aa79834e-62fe-4931-c97a-215505fb245f\"},{\"type\":\"ResizeTool\",\"id\":\"305b746c-3634-4deb-cd6a-06ee12c7e68c\"},{\"type\":\"ResetTool\",\"id\":\"0e95a6a2-8d86-410c-c12b-7da8a7372f42\"}],\"doc\":null,\"right\":[],\"title\":\"Test accuracy (50000 episodes)\",\"extra_x_ranges\":{},\"left\":[{\"type\":\"LinearAxis\",\"id\":\"b3fb7d0d-10e3-4e01-ce5f-102b01eb5a09\"}],\"y_range\":{\"type\":\"DataRange1d\",\"id\":\"86917684-608d-4f6b-cff3-146a5c5197c7\"},\"id\":\"6a3bde1f-0946-44d8-c4ae-464b440e8a88\",\"extra_y_ranges\":{},\"tags\":[]}}];\n",
       "  Bokeh.load_models(all_models);\n",
       "  var model = Bokeh.Collections(modeltype).get(modelid);\n",
       "  $(\"#4f4d10f5-e388-4b9b-cbf9-c9449d93716f\").html(''); // clear any previous plot in window_id\n",
       "  var view = new model.default_view({model: model, el: \"#4f4d10f5-e388-4b9b-cbf9-c9449d93716f\"});\n",
       "    } else {\n",
       "  load_lib(bokehjs_url, function() {\n",
       "      console.log(\"Bokeh: BokehJS plotting callback run at\", new Date())\n",
       "      var modelid = \"6a3bde1f-0946-44d8-c4ae-464b440e8a88\";\n",
       "      var modeltype = \"Plot\";\n",
       "      var all_models = [{\"id\":\"c2b03050-7182-4818-c81f-517947bf8a35\",\"type\":\"ColumnDataSource\",\"attributes\":{\"data\":{\"y\":[90,86.493333333333,84.1175,80.652,77.433333333333,73.925714285714,70.03,66.526666666667],\"x\":[2,3,4,5,6,7,8,9]},\"column_names\":[\"y\",\"x\"],\"cont_ranges\":{},\"discrete_ranges\":{},\"selected\":[],\"id\":\"c2b03050-7182-4818-c81f-517947bf8a35\",\"doc\":null,\"tags\":[]}},{\"id\":\"70af5f75-a406-4cb3-ccd2-c2d320ffe43a\",\"type\":\"Line\",\"attributes\":{\"fill_alpha\":{\"units\":\"data\",\"value\":0.2},\"line_alpha\":{\"units\":\"data\",\"value\":1},\"doc\":null,\"size\":{\"units\":\"screen\",\"value\":10},\"fill_color\":{\"value\":\"red\"},\"line_color\":{\"value\":\"red\"},\"x\":{\"units\":\"data\",\"field\":\"x\"},\"id\":\"70af5f75-a406-4cb3-ccd2-c2d320ffe43a\",\"y\":{\"units\":\"data\",\"field\":\"y\"},\"tags\":[]}},{\"id\":\"d8f84276-0c60-46a2-c679-e3d3417d7849\",\"type\":\"Line\",\"attributes\":{\"fill_alpha\":{\"units\":\"data\",\"value\":0.2},\"line_alpha\":{\"units\":\"data\",\"value\":1},\"doc\":null,\"size\":{\"units\":\"screen\",\"value\":10},\"fill_color\":{\"value\":\"red\"},\"line_color\":{\"value\":\"red\"},\"x\":{\"units\":\"data\",\"field\":\"x\"},\"id\":\"d8f84276-0c60-46a2-c679-e3d3417d7849\",\"y\":{\"units\":\"data\",\"field\":\"y\"},\"tags\":[]}},{\"id\":\"78b1c040-27e8-48fc-c89a-a00850c8fc2e\",\"type\":\"GlyphRenderer\",\"attributes\":{\"name\":null,\"nonselection_glyph\":{\"type\":\"Line\",\"id\":\"d8f84276-0c60-46a2-c679-e3d3417d7849\"},\"doc\":null,\"server_data_source\":null,\"data_source\":{\"type\":\"ColumnDataSource\",\"id\":\"c2b03050-7182-4818-c81f-517947bf8a35\"},\"glyph\":{\"type\":\"Line\",\"id\":\"70af5f75-a406-4cb3-ccd2-c2d320ffe43a\"},\"selection_glyph\":null,\"id\":\"78b1c040-27e8-48fc-c89a-a00850c8fc2e\",\"tags\":[]}},{\"id\":\"58a0b646-0879-4622-c6ba-6be7f1680868\",\"type\":\"ColumnDataSource\",\"attributes\":{\"data\":{\"y\":[90.21,86.5,84.0425,81.17,77.956666666667,74.225714285714,70.4975,66.324444444444],\"x\":[2,3,4,5,6,7,8,9]},\"column_names\":[\"y\",\"x\"],\"cont_ranges\":{},\"discrete_ranges\":{},\"selected\":[],\"id\":\"58a0b646-0879-4622-c6ba-6be7f1680868\",\"doc\":null,\"tags\":[]}},{\"id\":\"90cd3bab-7862-4102-c12a-1a4193098f73\",\"type\":\"Line\",\"attributes\":{\"fill_alpha\":{\"units\":\"data\",\"value\":0.2},\"line_alpha\":{\"units\":\"data\",\"value\":1},\"doc\":null,\"size\":{\"units\":\"screen\",\"value\":10},\"fill_color\":{\"value\":\"pink\"},\"line_color\":{\"value\":\"pink\"},\"x\":{\"units\":\"data\",\"field\":\"x\"},\"id\":\"90cd3bab-7862-4102-c12a-1a4193098f73\",\"y\":{\"units\":\"data\",\"field\":\"y\"},\"tags\":[]}},{\"id\":\"7d2b0a47-170c-4ac1-ca4a-6685398c9c2b\",\"type\":\"Line\",\"attributes\":{\"fill_alpha\":{\"units\":\"data\",\"value\":0.2},\"line_alpha\":{\"units\":\"data\",\"value\":1},\"doc\":null,\"size\":{\"units\":\"screen\",\"value\":10},\"fill_color\":{\"value\":\"pink\"},\"line_color\":{\"value\":\"pink\"},\"x\":{\"units\":\"data\",\"field\":\"x\"},\"id\":\"7d2b0a47-170c-4ac1-ca4a-6685398c9c2b\",\"y\":{\"units\":\"data\",\"field\":\"y\"},\"tags\":[]}},{\"id\":\"79655b13-5385-4dc0-cd9f-9c4590daca1a\",\"type\":\"GlyphRenderer\",\"attributes\":{\"name\":null,\"nonselection_glyph\":{\"type\":\"Line\",\"id\":\"7d2b0a47-170c-4ac1-ca4a-6685398c9c2b\"},\"doc\":null,\"server_data_source\":null,\"data_source\":{\"type\":\"ColumnDataSource\",\"id\":\"58a0b646-0879-4622-c6ba-6be7f1680868\"},\"glyph\":{\"type\":\"Line\",\"id\":\"90cd3bab-7862-4102-c12a-1a4193098f73\"},\"selection_glyph\":null,\"id\":\"79655b13-5385-4dc0-cd9f-9c4590daca1a\",\"tags\":[]}},{\"id\":\"49639db4-a51b-49a2-c935-bff03b70d736\",\"type\":\"ColumnDataSource\",\"attributes\":{\"data\":{\"y\":[90.155,86.506666666667,83.91,79.778,75.396666666667,71.328571428571,66.24125,60.996666666667],\"x\":[2,3,4,5,6,7,8,9]},\"column_names\":[\"y\",\"x\"],\"cont_ranges\":{},\"discrete_ranges\":{},\"selected\":[],\"id\":\"49639db4-a51b-49a2-c935-bff03b70d736\",\"doc\":null,\"tags\":[]}},{\"id\":\"ae0cac3b-e2e6-4604-c6ee-599419a12508\",\"type\":\"Line\",\"attributes\":{\"fill_alpha\":{\"units\":\"data\",\"value\":0.2},\"line_alpha\":{\"units\":\"data\",\"value\":1},\"doc\":null,\"size\":{\"units\":\"screen\",\"value\":10},\"fill_color\":{\"value\":\"blue\"},\"line_color\":{\"value\":\"blue\"},\"x\":{\"units\":\"data\",\"field\":\"x\"},\"id\":\"ae0cac3b-e2e6-4604-c6ee-599419a12508\",\"y\":{\"units\":\"data\",\"field\":\"y\"},\"tags\":[]}},{\"id\":\"68582311-abde-4789-c715-78a4d0c0d2cc\",\"type\":\"Line\",\"attributes\":{\"fill_alpha\":{\"units\":\"data\",\"value\":0.2},\"line_alpha\":{\"units\":\"data\",\"value\":1},\"doc\":null,\"size\":{\"units\":\"screen\",\"value\":10},\"fill_color\":{\"value\":\"blue\"},\"line_color\":{\"value\":\"blue\"},\"x\":{\"units\":\"data\",\"field\":\"x\"},\"id\":\"68582311-abde-4789-c715-78a4d0c0d2cc\",\"y\":{\"units\":\"data\",\"field\":\"y\"},\"tags\":[]}},{\"id\":\"54fb40ed-43a2-470e-c73d-0ef9f3665fbd\",\"type\":\"GlyphRenderer\",\"attributes\":{\"name\":null,\"nonselection_glyph\":{\"type\":\"Line\",\"id\":\"68582311-abde-4789-c715-78a4d0c0d2cc\"},\"doc\":null,\"server_data_source\":null,\"data_source\":{\"type\":\"ColumnDataSource\",\"id\":\"49639db4-a51b-49a2-c935-bff03b70d736\"},\"glyph\":{\"type\":\"Line\",\"id\":\"ae0cac3b-e2e6-4604-c6ee-599419a12508\"},\"selection_glyph\":null,\"id\":\"54fb40ed-43a2-470e-c73d-0ef9f3665fbd\",\"tags\":[]}},{\"id\":\"238a02b3-e1bd-462f-c61c-130de7b273f2\",\"type\":\"ColumnDataSource\",\"attributes\":{\"data\":{\"y\":[89.89,86.503333333333,83.8175,81.914,78.996666666667,76.324285714286,73.16125,70.3],\"x\":[2,3,4,5,6,7,8,9]},\"column_names\":[\"y\",\"x\"],\"cont_ranges\":{},\"discrete_ranges\":{},\"selected\":[],\"id\":\"238a02b3-e1bd-462f-c61c-130de7b273f2\",\"doc\":null,\"tags\":[]}},{\"id\":\"1f4bd097-4ffe-4fdd-cf4e-0f2c2a6b99f4\",\"type\":\"Line\",\"attributes\":{\"fill_alpha\":{\"units\":\"data\",\"value\":0.2},\"line_alpha\":{\"units\":\"data\",\"value\":1},\"doc\":null,\"size\":{\"units\":\"screen\",\"value\":10},\"fill_color\":{\"value\":\"green\"},\"line_color\":{\"value\":\"green\"},\"x\":{\"units\":\"data\",\"field\":\"x\"},\"id\":\"1f4bd097-4ffe-4fdd-cf4e-0f2c2a6b99f4\",\"y\":{\"units\":\"data\",\"field\":\"y\"},\"tags\":[]}},{\"id\":\"1f07709c-9180-46ad-c656-0a5c28549279\",\"type\":\"Line\",\"attributes\":{\"fill_alpha\":{\"units\":\"data\",\"value\":0.2},\"line_alpha\":{\"units\":\"data\",\"value\":1},\"doc\":null,\"size\":{\"units\":\"screen\",\"value\":10},\"fill_color\":{\"value\":\"green\"},\"line_color\":{\"value\":\"green\"},\"x\":{\"units\":\"data\",\"field\":\"x\"},\"id\":\"1f07709c-9180-46ad-c656-0a5c28549279\",\"y\":{\"units\":\"data\",\"field\":\"y\"},\"tags\":[]}},{\"id\":\"c9ad566e-7db4-47e1-c7e4-45f268caa4b7\",\"type\":\"GlyphRenderer\",\"attributes\":{\"name\":null,\"nonselection_glyph\":{\"type\":\"Line\",\"id\":\"1f07709c-9180-46ad-c656-0a5c28549279\"},\"doc\":null,\"server_data_source\":null,\"data_source\":{\"type\":\"ColumnDataSource\",\"id\":\"238a02b3-e1bd-462f-c61c-130de7b273f2\"},\"glyph\":{\"type\":\"Line\",\"id\":\"1f4bd097-4ffe-4fdd-cf4e-0f2c2a6b99f4\"},\"selection_glyph\":null,\"id\":\"c9ad566e-7db4-47e1-c7e4-45f268caa4b7\",\"tags\":[]}},{\"id\":\"726d9651-26a7-4dbc-cde2-0196622ddb44\",\"type\":\"DataRange1d\",\"attributes\":{\"sources\":[{\"columns\":[\"x\"],\"source\":{\"type\":\"ColumnDataSource\",\"id\":\"c2b03050-7182-4818-c81f-517947bf8a35\"}},{\"columns\":[\"x\"],\"source\":{\"type\":\"ColumnDataSource\",\"id\":\"58a0b646-0879-4622-c6ba-6be7f1680868\"}},{\"columns\":[\"x\"],\"source\":{\"type\":\"ColumnDataSource\",\"id\":\"49639db4-a51b-49a2-c935-bff03b70d736\"}},{\"columns\":[\"x\"],\"source\":{\"type\":\"ColumnDataSource\",\"id\":\"238a02b3-e1bd-462f-c61c-130de7b273f2\"}}],\"id\":\"726d9651-26a7-4dbc-cde2-0196622ddb44\",\"tags\":[],\"doc\":null}},{\"id\":\"86917684-608d-4f6b-cff3-146a5c5197c7\",\"type\":\"DataRange1d\",\"attributes\":{\"sources\":[{\"columns\":[\"y\"],\"source\":{\"type\":\"ColumnDataSource\",\"id\":\"c2b03050-7182-4818-c81f-517947bf8a35\"}},{\"columns\":[\"y\"],\"source\":{\"type\":\"ColumnDataSource\",\"id\":\"58a0b646-0879-4622-c6ba-6be7f1680868\"}},{\"columns\":[\"y\"],\"source\":{\"type\":\"ColumnDataSource\",\"id\":\"49639db4-a51b-49a2-c935-bff03b70d736\"}},{\"columns\":[\"y\"],\"source\":{\"type\":\"ColumnDataSource\",\"id\":\"238a02b3-e1bd-462f-c61c-130de7b273f2\"}}],\"id\":\"86917684-608d-4f6b-cff3-146a5c5197c7\",\"tags\":[],\"doc\":null}},{\"id\":\"c63eef67-c46d-48fa-c885-6d2dba752924\",\"type\":\"ToolEvents\",\"attributes\":{\"tags\":[],\"id\":\"c63eef67-c46d-48fa-c885-6d2dba752924\",\"geometries\":[],\"doc\":null}},{\"id\":\"fa53e8bb-63ea-4b35-cbbb-060d9521a3d0\",\"type\":\"BasicTickFormatter\",\"attributes\":{\"id\":\"fa53e8bb-63ea-4b35-cbbb-060d9521a3d0\",\"tags\":[],\"doc\":null}},{\"id\":\"26b910f7-7142-4da8-cdf7-b9d847846dc8\",\"type\":\"BasicTicker\",\"attributes\":{\"num_minor_ticks\":5,\"id\":\"26b910f7-7142-4da8-cdf7-b9d847846dc8\",\"tags\":[],\"doc\":null}},{\"id\":\"7e53a95b-08ef-4339-c32e-16902ef9f67f\",\"type\":\"LinearAxis\",\"attributes\":{\"formatter\":{\"type\":\"BasicTickFormatter\",\"id\":\"fa53e8bb-63ea-4b35-cbbb-060d9521a3d0\"},\"ticker\":{\"type\":\"BasicTicker\",\"id\":\"26b910f7-7142-4da8-cdf7-b9d847846dc8\"},\"plot\":{\"id\":\"6a3bde1f-0946-44d8-c4ae-464b440e8a88\",\"type\":\"Plot\",\"subtype\":\"Figure\"},\"axis_label\":\"Episode Length\",\"id\":\"7e53a95b-08ef-4339-c32e-16902ef9f67f\",\"doc\":null,\"tags\":[]}},{\"id\":\"7c1c3b2b-9737-4c82-cc53-e49f48d9a50e\",\"type\":\"Grid\",\"attributes\":{\"dimension\":0,\"plot\":{\"id\":\"6a3bde1f-0946-44d8-c4ae-464b440e8a88\",\"type\":\"Plot\",\"subtype\":\"Figure\"},\"ticker\":{\"type\":\"BasicTicker\",\"id\":\"26b910f7-7142-4da8-cdf7-b9d847846dc8\"},\"id\":\"7c1c3b2b-9737-4c82-cc53-e49f48d9a50e\",\"doc\":null,\"tags\":[]}},{\"id\":\"9afa655f-a39a-4528-c531-0b258e1aed23\",\"type\":\"BasicTickFormatter\",\"attributes\":{\"id\":\"9afa655f-a39a-4528-c531-0b258e1aed23\",\"tags\":[],\"doc\":null}},{\"id\":\"d0d4b845-1e1d-4bba-cbfe-d0a02a0f6a0b\",\"type\":\"BasicTicker\",\"attributes\":{\"num_minor_ticks\":5,\"id\":\"d0d4b845-1e1d-4bba-cbfe-d0a02a0f6a0b\",\"tags\":[],\"doc\":null}},{\"id\":\"b3fb7d0d-10e3-4e01-ce5f-102b01eb5a09\",\"type\":\"LinearAxis\",\"attributes\":{\"formatter\":{\"type\":\"BasicTickFormatter\",\"id\":\"9afa655f-a39a-4528-c531-0b258e1aed23\"},\"ticker\":{\"type\":\"BasicTicker\",\"id\":\"d0d4b845-1e1d-4bba-cbfe-d0a02a0f6a0b\"},\"plot\":{\"id\":\"6a3bde1f-0946-44d8-c4ae-464b440e8a88\",\"type\":\"Plot\",\"subtype\":\"Figure\"},\"axis_label\":\"Test Accuracy\",\"id\":\"b3fb7d0d-10e3-4e01-ce5f-102b01eb5a09\",\"doc\":null,\"tags\":[]}},{\"id\":\"170864b3-51c1-48bb-c8b5-822ee5016f7f\",\"type\":\"Grid\",\"attributes\":{\"dimension\":1,\"plot\":{\"id\":\"6a3bde1f-0946-44d8-c4ae-464b440e8a88\",\"type\":\"Plot\",\"subtype\":\"Figure\"},\"ticker\":{\"type\":\"BasicTicker\",\"id\":\"d0d4b845-1e1d-4bba-cbfe-d0a02a0f6a0b\"},\"id\":\"170864b3-51c1-48bb-c8b5-822ee5016f7f\",\"doc\":null,\"tags\":[]}},{\"id\":\"4687fd86-8de1-480a-c815-083767da76ca\",\"type\":\"PanTool\",\"attributes\":{\"plot\":{\"id\":\"6a3bde1f-0946-44d8-c4ae-464b440e8a88\",\"type\":\"Plot\",\"subtype\":\"Figure\"},\"dimensions\":[\"width\",\"height\"],\"id\":\"4687fd86-8de1-480a-c815-083767da76ca\",\"doc\":null,\"tags\":[]}},{\"id\":\"f4cb1888-616c-45a0-c59e-109620a30fc8\",\"type\":\"WheelZoomTool\",\"attributes\":{\"plot\":{\"id\":\"6a3bde1f-0946-44d8-c4ae-464b440e8a88\",\"type\":\"Plot\",\"subtype\":\"Figure\"},\"dimensions\":[\"width\",\"height\"],\"id\":\"f4cb1888-616c-45a0-c59e-109620a30fc8\",\"doc\":null,\"tags\":[]}},{\"id\":\"3dd3c44c-19a3-495b-c93f-c480dbfd62f0\",\"type\":\"BoxZoomTool\",\"attributes\":{\"plot\":{\"id\":\"6a3bde1f-0946-44d8-c4ae-464b440e8a88\",\"type\":\"Plot\",\"subtype\":\"Figure\"},\"id\":\"3dd3c44c-19a3-495b-c93f-c480dbfd62f0\",\"tags\":[],\"doc\":null}},{\"id\":\"aa79834e-62fe-4931-c97a-215505fb245f\",\"type\":\"PreviewSaveTool\",\"attributes\":{\"plot\":{\"id\":\"6a3bde1f-0946-44d8-c4ae-464b440e8a88\",\"type\":\"Plot\",\"subtype\":\"Figure\"},\"id\":\"aa79834e-62fe-4931-c97a-215505fb245f\",\"tags\":[],\"doc\":null}},{\"id\":\"305b746c-3634-4deb-cd6a-06ee12c7e68c\",\"type\":\"ResizeTool\",\"attributes\":{\"plot\":{\"id\":\"6a3bde1f-0946-44d8-c4ae-464b440e8a88\",\"type\":\"Plot\",\"subtype\":\"Figure\"},\"id\":\"305b746c-3634-4deb-cd6a-06ee12c7e68c\",\"tags\":[],\"doc\":null}},{\"id\":\"0e95a6a2-8d86-410c-c12b-7da8a7372f42\",\"type\":\"ResetTool\",\"attributes\":{\"plot\":{\"id\":\"6a3bde1f-0946-44d8-c4ae-464b440e8a88\",\"type\":\"Plot\",\"subtype\":\"Figure\"},\"id\":\"0e95a6a2-8d86-410c-c12b-7da8a7372f42\",\"tags\":[],\"doc\":null}},{\"id\":\"646beeb2-f4a7-41fc-c111-cf6af0eff6d8\",\"type\":\"Legend\",\"attributes\":{\"plot\":{\"id\":\"6a3bde1f-0946-44d8-c4ae-464b440e8a88\",\"type\":\"Plot\",\"subtype\":\"Figure\"},\"legends\":[[\"Fully Connected\",[{\"type\":\"GlyphRenderer\",\"id\":\"78b1c040-27e8-48fc-c89a-a00850c8fc2e\"}]],[\"Fully Connected 2\",[{\"type\":\"GlyphRenderer\",\"id\":\"79655b13-5385-4dc0-cd9f-9c4590daca1a\"}]],[\"RNN\",[{\"type\":\"GlyphRenderer\",\"id\":\"54fb40ed-43a2-470e-c73d-0ef9f3665fbd\"}]],[\"LSTM\",[{\"type\":\"GlyphRenderer\",\"id\":\"c9ad566e-7db4-47e1-c7e4-45f268caa4b7\"}]]],\"id\":\"646beeb2-f4a7-41fc-c111-cf6af0eff6d8\",\"doc\":null,\"tags\":[]}},{\"id\":\"6a3bde1f-0946-44d8-c4ae-464b440e8a88\",\"type\":\"Plot\",\"attributes\":{\"x_range\":{\"type\":\"DataRange1d\",\"id\":\"726d9651-26a7-4dbc-cde2-0196622ddb44\"},\"tool_events\":{\"type\":\"ToolEvents\",\"id\":\"c63eef67-c46d-48fa-c885-6d2dba752924\"},\"below\":[{\"type\":\"LinearAxis\",\"id\":\"7e53a95b-08ef-4339-c32e-16902ef9f67f\"}],\"renderers\":[{\"type\":\"GlyphRenderer\",\"id\":\"78b1c040-27e8-48fc-c89a-a00850c8fc2e\"},{\"type\":\"GlyphRenderer\",\"id\":\"79655b13-5385-4dc0-cd9f-9c4590daca1a\"},{\"type\":\"GlyphRenderer\",\"id\":\"54fb40ed-43a2-470e-c73d-0ef9f3665fbd\"},{\"type\":\"GlyphRenderer\",\"id\":\"c9ad566e-7db4-47e1-c7e4-45f268caa4b7\"},{\"type\":\"LinearAxis\",\"id\":\"7e53a95b-08ef-4339-c32e-16902ef9f67f\"},{\"type\":\"Grid\",\"id\":\"7c1c3b2b-9737-4c82-cc53-e49f48d9a50e\"},{\"type\":\"LinearAxis\",\"id\":\"b3fb7d0d-10e3-4e01-ce5f-102b01eb5a09\"},{\"type\":\"Grid\",\"id\":\"170864b3-51c1-48bb-c8b5-822ee5016f7f\"},{\"type\":\"Legend\",\"id\":\"646beeb2-f4a7-41fc-c111-cf6af0eff6d8\"}],\"above\":[],\"tools\":[{\"type\":\"PanTool\",\"id\":\"4687fd86-8de1-480a-c815-083767da76ca\"},{\"type\":\"WheelZoomTool\",\"id\":\"f4cb1888-616c-45a0-c59e-109620a30fc8\"},{\"type\":\"BoxZoomTool\",\"id\":\"3dd3c44c-19a3-495b-c93f-c480dbfd62f0\"},{\"type\":\"PreviewSaveTool\",\"id\":\"aa79834e-62fe-4931-c97a-215505fb245f\"},{\"type\":\"ResizeTool\",\"id\":\"305b746c-3634-4deb-cd6a-06ee12c7e68c\"},{\"type\":\"ResetTool\",\"id\":\"0e95a6a2-8d86-410c-c12b-7da8a7372f42\"}],\"doc\":null,\"right\":[],\"title\":\"Test accuracy (50000 episodes)\",\"extra_x_ranges\":{},\"left\":[{\"type\":\"LinearAxis\",\"id\":\"b3fb7d0d-10e3-4e01-ce5f-102b01eb5a09\"}],\"y_range\":{\"type\":\"DataRange1d\",\"id\":\"86917684-608d-4f6b-cff3-146a5c5197c7\"},\"id\":\"6a3bde1f-0946-44d8-c4ae-464b440e8a88\",\"extra_y_ranges\":{},\"tags\":[]}}];\n",
       "      Bokeh.load_models(all_models);\n",
       "      var model = Bokeh.Collections(modeltype).get(modelid);\n",
       "      $(\"#4f4d10f5-e388-4b9b-cbf9-c9449d93716f\").html(''); // clear any previous plot in window_id\n",
       "      var view = new model.default_view({model: model, el: \"#4f4d10f5-e388-4b9b-cbf9-c9449d93716f\"});\n",
       "  });\n",
       "    }\n",
       "});\n",
       "</script>\n",
       "<div class=\"plotdiv\" id=\"4f4d10f5-e388-4b9b-cbf9-c9449d93716f\"></div>\n"
      ]
     },
     "metadata": {},
     "output_type": "display_data"
    }
   ],
   "source": [
    "-- Test accuracy plot\n",
    "plot = itorch.Plot()\n",
    "x = torch.range(2, 9)\n",
    "full_y = torch.Tensor(8)\n",
    "rnn_y = torch.Tensor(8)\n",
    "lstm_y = torch.Tensor(8)\n",
    "for i=2,9 do\n",
    "    name = string.format('models_%d_full/rubiks_best', i)\n",
    "    full_y[i-1] = best_results[name].test_acc\n",
    "    name = string.format('models_%d_fulltwo/rubiks_best', i)\n",
    "    full2_y[i-1] = best_results[name].test_acc\n",
    "    name = string.format('models_%d_rnn/rubiks_best', i)\n",
    "    rnn_y[i-1] = best_results[name].test_acc\n",
    "    name = string.format('models_%d_lstm/rubiks_best', i)\n",
    "    lstm_y[i-1] = best_results[name].test_acc\n",
    "end\n",
    "\n",
    "plot:xaxis('Episode Length'):yaxis('Test Accuracy')\n",
    "plot:title('Test accuracy (50000 episodes)')\n",
    "plot:line(x, full_y, 'red', 'Fully Connected')\n",
    "plot:line(x, full2_y, 'pink', 'Fully Connected 2')\n",
    "plot:line(x, rnn_y, 'blue', 'RNN')\n",
    "plot:line(x, lstm_y, 'green', 'LSTM')\n",
    "plot:legend(true)\n",
    "plot:draw()"
   ]
  },
  {
   "cell_type": "code",
   "execution_count": null,
   "metadata": {
    "collapsed": true
   },
   "outputs": [],
   "source": []
  }
 ],
 "metadata": {
  "kernelspec": {
   "display_name": "iTorch",
   "language": "lua",
   "name": "itorch"
  },
  "language_info": {
   "name": "lua",
   "version": "20100"
  }
 },
 "nbformat": 4,
 "nbformat_minor": 0
}
