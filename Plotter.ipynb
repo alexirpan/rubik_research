{
 "cells": [
  {
   "cell_type": "code",
   "execution_count": 2,
   "metadata": {
    "collapsed": false
   },
   "outputs": [],
   "source": [
    "require 'rnn'\n",
    "require 'itorch.Plot'"
   ]
  },
  {
   "cell_type": "code",
   "execution_count": 3,
   "metadata": {
    "collapsed": false
   },
   "outputs": [
    {
     "data": {
      "text/plain": [
       "models_2_full/rubiks_best\tloaded\t\n"
      ]
     },
     "execution_count": 3,
     "metadata": {},
     "output_type": "execute_result"
    },
    {
     "data": {
      "text/plain": [
       "models_2_lstm/rubiks_best\tloaded\t\n"
      ]
     },
     "execution_count": 3,
     "metadata": {},
     "output_type": "execute_result"
    },
    {
     "data": {
      "text/plain": [
       "models_2_rnn/rubiks_best\tloaded\t\n"
      ]
     },
     "execution_count": 3,
     "metadata": {},
     "output_type": "execute_result"
    },
    {
     "data": {
      "text/plain": [
       "models_3_full/rubiks_best\tloaded\t\n"
      ]
     },
     "execution_count": 3,
     "metadata": {},
     "output_type": "execute_result"
    },
    {
     "data": {
      "text/plain": [
       "models_3_lstm/rubiks_best\tloaded\t\n"
      ]
     },
     "execution_count": 3,
     "metadata": {},
     "output_type": "execute_result"
    },
    {
     "data": {
      "text/plain": [
       "models_3_rnn/rubiks_best\tloaded\t\n"
      ]
     },
     "execution_count": 3,
     "metadata": {},
     "output_type": "execute_result"
    },
    {
     "data": {
      "text/plain": [
       "models_4_full/rubiks_best\tloaded\t\n"
      ]
     },
     "execution_count": 3,
     "metadata": {},
     "output_type": "execute_result"
    },
    {
     "data": {
      "text/plain": [
       "models_4_lstm/rubiks_best\tloaded\t\n"
      ]
     },
     "execution_count": 3,
     "metadata": {},
     "output_type": "execute_result"
    },
    {
     "data": {
      "text/plain": [
       "models_4_rnn/rubiks_best\tloaded\t\n"
      ]
     },
     "execution_count": 3,
     "metadata": {},
     "output_type": "execute_result"
    },
    {
     "data": {
      "text/plain": [
       "models_5_full/rubiks_best\tloaded\t\n"
      ]
     },
     "execution_count": 3,
     "metadata": {},
     "output_type": "execute_result"
    },
    {
     "data": {
      "text/plain": [
       "models_5_lstm/rubiks_best\tloaded\t\n"
      ]
     },
     "execution_count": 3,
     "metadata": {},
     "output_type": "execute_result"
    },
    {
     "data": {
      "text/plain": [
       "models_5_rnn/rubiks_best\tloaded\t\n"
      ]
     },
     "execution_count": 3,
     "metadata": {},
     "output_type": "execute_result"
    },
    {
     "data": {
      "text/plain": [
       "models_6_full/rubiks_best\tloaded\t\n"
      ]
     },
     "execution_count": 3,
     "metadata": {},
     "output_type": "execute_result"
    },
    {
     "data": {
      "text/plain": [
       "models_6_lstm/rubiks_best\tloaded\t\n"
      ]
     },
     "execution_count": 3,
     "metadata": {},
     "output_type": "execute_result"
    },
    {
     "data": {
      "text/plain": [
       "models_6_rnn/rubiks_best\tloaded\t\n"
      ]
     },
     "execution_count": 3,
     "metadata": {},
     "output_type": "execute_result"
    },
    {
     "data": {
      "text/plain": [
       "models_7_full/rubiks_best\tloaded\t"
      ]
     },
     "execution_count": 3,
     "metadata": {},
     "output_type": "execute_result"
    },
    {
     "data": {
      "text/plain": [
       "\n"
      ]
     },
     "execution_count": 3,
     "metadata": {},
     "output_type": "execute_result"
    },
    {
     "data": {
      "text/plain": [
       "models_7_lstm/rubiks_best\tloaded\t\n"
      ]
     },
     "execution_count": 3,
     "metadata": {},
     "output_type": "execute_result"
    },
    {
     "data": {
      "text/plain": [
       "models_7_rnn/rubiks_best\tloaded\t\n"
      ]
     },
     "execution_count": 3,
     "metadata": {},
     "output_type": "execute_result"
    },
    {
     "data": {
      "text/plain": [
       "models_8_full/rubiks_best\tloaded\t\n"
      ]
     },
     "execution_count": 3,
     "metadata": {},
     "output_type": "execute_result"
    },
    {
     "data": {
      "text/plain": [
       "models_8_lstm/rubiks_best\tloaded\t\n"
      ]
     },
     "execution_count": 3,
     "metadata": {},
     "output_type": "execute_result"
    },
    {
     "data": {
      "text/plain": [
       "models_8_rnn/rubiks_best\tloaded\t\n"
      ]
     },
     "execution_count": 3,
     "metadata": {},
     "output_type": "execute_result"
    },
    {
     "data": {
      "text/plain": [
       "models_9_full/rubiks_best\tloaded\t\n"
      ]
     },
     "execution_count": 3,
     "metadata": {},
     "output_type": "execute_result"
    },
    {
     "data": {
      "text/plain": [
       "models_9_lstm/rubiks_best\tloaded\t\n"
      ]
     },
     "execution_count": 3,
     "metadata": {},
     "output_type": "execute_result"
    },
    {
     "data": {
      "text/plain": [
       "models_9_rnn/rubiks_best\tloaded\t\n"
      ]
     },
     "execution_count": 3,
     "metadata": {},
     "output_type": "execute_result"
    }
   ],
   "source": [
    "-- TODO something less hardcoded\n",
    "filenames = {}\n",
    "for i=2,9 do\n",
    "    for _, typ in ipairs({'full', 'lstm', 'rnn'}) do\n",
    "        table.insert(filenames, string.format('models_%d_%s/rubiks_best', i, typ))\n",
    "    end\n",
    "end\n",
    "\n",
    "best_results = {}\n",
    "for _, name in ipairs(filenames) do\n",
    "    best_results[name] = torch.load(name, 'ascii')\n",
    "    print(name, 'loaded')\n",
    "end"
   ]
  },
  {
   "cell_type": "code",
   "execution_count": 4,
   "metadata": {
    "collapsed": false
   },
   "outputs": [
    {
     "data": {
      "text/html": [
       "<script type=\"text/javascript\">\n",
       "$(function() {\n",
       "    if (typeof (window._bokeh_onload_callbacks) === \"undefined\"){\n",
       "  window._bokeh_onload_callbacks = [];\n",
       "    }\n",
       "    function load_lib(url, callback){\n",
       "  window._bokeh_onload_callbacks.push(callback);\n",
       "  if (window._bokeh_is_loading){\n",
       "      console.log(\"Bokeh: BokehJS is being loaded, scheduling callback at\", new Date());\n",
       "      return null;\n",
       "  }\n",
       "  console.log(\"Bokeh: BokehJS not loaded, scheduling load and callback at\", new Date());\n",
       "  window._bokeh_is_loading = true;\n",
       "  var s = document.createElement('script');\n",
       "  s.src = url;\n",
       "  s.async = true;\n",
       "  s.onreadystatechange = s.onload = function(){\n",
       "      Bokeh.embed.inject_css(\"http://cdn.pydata.org/bokeh-0.7.0.min.css\");\n",
       "      window._bokeh_onload_callbacks.forEach(function(callback){callback()});\n",
       "  };\n",
       "  s.onerror = function(){\n",
       "      console.warn(\"failed to load library \" + url);\n",
       "  };\n",
       "  document.getElementsByTagName(\"head\")[0].appendChild(s);\n",
       "    }\n",
       "\n",
       "    bokehjs_url = \"http://cdn.pydata.org/bokeh-0.7.0.min.js\"\n",
       "\n",
       "    var elt = document.getElementById(\"f6d71c74-7cfb-4362-c349-3a585482f586\");\n",
       "    if(elt==null) {\n",
       "  console.log(\"Bokeh: ERROR: autoload.js configured with elementid 'f6d71c74-7cfb-4362-c349-3a585482f586'\"\n",
       "        + \"but no matching script tag was found. \")\n",
       "  return false;\n",
       "    }\n",
       "\n",
       "    if(typeof(Bokeh) !== \"undefined\") {\n",
       "  console.log(\"Bokeh: BokehJS loaded, going straight to plotting\");\n",
       "  var modelid = \"a2845367-8bc9-4a0d-cab4-c2a59b2b0972\";\n",
       "  var modeltype = \"Plot\";\n",
       "  var all_models = [{\"id\":\"a04ed1b4-3c62-4b65-cbb4-c3d180329b66\",\"type\":\"ColumnDataSource\",\"attributes\":{\"data\":{\"y\":[90.034,86.182,84.4405,82.2324,78.751666666667,74.732285714286,71.179,66.468888888889],\"x\":[2,3,4,5,6,7,8,9]},\"column_names\":[\"y\",\"x\"],\"cont_ranges\":{},\"discrete_ranges\":{},\"selected\":[],\"id\":\"a04ed1b4-3c62-4b65-cbb4-c3d180329b66\",\"doc\":null,\"tags\":[]}},{\"id\":\"77eec186-0054-431c-c372-a14b085461d5\",\"type\":\"Line\",\"attributes\":{\"fill_alpha\":{\"units\":\"data\",\"value\":0.2},\"line_alpha\":{\"units\":\"data\",\"value\":1},\"doc\":null,\"size\":{\"units\":\"screen\",\"value\":10},\"fill_color\":{\"value\":\"red\"},\"line_color\":{\"value\":\"red\"},\"x\":{\"units\":\"data\",\"field\":\"x\"},\"id\":\"77eec186-0054-431c-c372-a14b085461d5\",\"y\":{\"units\":\"data\",\"field\":\"y\"},\"tags\":[]}},{\"id\":\"5a5b9abf-c699-4165-c113-4182642f97d5\",\"type\":\"Line\",\"attributes\":{\"fill_alpha\":{\"units\":\"data\",\"value\":0.2},\"line_alpha\":{\"units\":\"data\",\"value\":1},\"doc\":null,\"size\":{\"units\":\"screen\",\"value\":10},\"fill_color\":{\"value\":\"red\"},\"line_color\":{\"value\":\"red\"},\"x\":{\"units\":\"data\",\"field\":\"x\"},\"id\":\"5a5b9abf-c699-4165-c113-4182642f97d5\",\"y\":{\"units\":\"data\",\"field\":\"y\"},\"tags\":[]}},{\"id\":\"595acf0b-a9ae-4013-c05d-28642b4958df\",\"type\":\"GlyphRenderer\",\"attributes\":{\"name\":null,\"nonselection_glyph\":{\"type\":\"Line\",\"id\":\"5a5b9abf-c699-4165-c113-4182642f97d5\"},\"doc\":null,\"server_data_source\":null,\"data_source\":{\"type\":\"ColumnDataSource\",\"id\":\"a04ed1b4-3c62-4b65-cbb4-c3d180329b66\"},\"glyph\":{\"type\":\"Line\",\"id\":\"77eec186-0054-431c-c372-a14b085461d5\"},\"selection_glyph\":null,\"id\":\"595acf0b-a9ae-4013-c05d-28642b4958df\",\"tags\":[]}},{\"id\":\"e9c556fc-44be-4b94-cb22-6242330a5b29\",\"type\":\"ColumnDataSource\",\"attributes\":{\"data\":{\"y\":[89.956,86.15,84.2055,80.6276,76.277666666667,71.184857142857,65.6965,60.323555555556],\"x\":[2,3,4,5,6,7,8,9]},\"column_names\":[\"y\",\"x\"],\"cont_ranges\":{},\"discrete_ranges\":{},\"selected\":[],\"id\":\"e9c556fc-44be-4b94-cb22-6242330a5b29\",\"doc\":null,\"tags\":[]}},{\"id\":\"63cdae29-d8e5-4d25-cd6f-c002c1bdd632\",\"type\":\"Line\",\"attributes\":{\"fill_alpha\":{\"units\":\"data\",\"value\":0.2},\"line_alpha\":{\"units\":\"data\",\"value\":1},\"doc\":null,\"size\":{\"units\":\"screen\",\"value\":10},\"fill_color\":{\"value\":\"blue\"},\"line_color\":{\"value\":\"blue\"},\"x\":{\"units\":\"data\",\"field\":\"x\"},\"id\":\"63cdae29-d8e5-4d25-cd6f-c002c1bdd632\",\"y\":{\"units\":\"data\",\"field\":\"y\"},\"tags\":[]}},{\"id\":\"879eedd4-3204-4e47-ce4f-e4eee7874098\",\"type\":\"Line\",\"attributes\":{\"fill_alpha\":{\"units\":\"data\",\"value\":0.2},\"line_alpha\":{\"units\":\"data\",\"value\":1},\"doc\":null,\"size\":{\"units\":\"screen\",\"value\":10},\"fill_color\":{\"value\":\"blue\"},\"line_color\":{\"value\":\"blue\"},\"x\":{\"units\":\"data\",\"field\":\"x\"},\"id\":\"879eedd4-3204-4e47-ce4f-e4eee7874098\",\"y\":{\"units\":\"data\",\"field\":\"y\"},\"tags\":[]}},{\"id\":\"d912b050-9b49-47dd-c708-a95a55d6bb2b\",\"type\":\"GlyphRenderer\",\"attributes\":{\"name\":null,\"nonselection_glyph\":{\"type\":\"Line\",\"id\":\"879eedd4-3204-4e47-ce4f-e4eee7874098\"},\"doc\":null,\"server_data_source\":null,\"data_source\":{\"type\":\"ColumnDataSource\",\"id\":\"e9c556fc-44be-4b94-cb22-6242330a5b29\"},\"glyph\":{\"type\":\"Line\",\"id\":\"63cdae29-d8e5-4d25-cd6f-c002c1bdd632\"},\"selection_glyph\":null,\"id\":\"d912b050-9b49-47dd-c708-a95a55d6bb2b\",\"tags\":[]}},{\"id\":\"83cf6174-83d8-4560-c54d-eeb4c0590d89\",\"type\":\"ColumnDataSource\",\"attributes\":{\"data\":{\"y\":[89.902,86.501333333333,85.161,83.6448,80.889,78.911714285714,76.08375,72.237555555556],\"x\":[2,3,4,5,6,7,8,9]},\"column_names\":[\"y\",\"x\"],\"cont_ranges\":{},\"discrete_ranges\":{},\"selected\":[],\"id\":\"83cf6174-83d8-4560-c54d-eeb4c0590d89\",\"doc\":null,\"tags\":[]}},{\"id\":\"c3e338b3-6705-46a9-c67d-b37158e63e27\",\"type\":\"Line\",\"attributes\":{\"fill_alpha\":{\"units\":\"data\",\"value\":0.2},\"line_alpha\":{\"units\":\"data\",\"value\":1},\"doc\":null,\"size\":{\"units\":\"screen\",\"value\":10},\"fill_color\":{\"value\":\"green\"},\"line_color\":{\"value\":\"green\"},\"x\":{\"units\":\"data\",\"field\":\"x\"},\"id\":\"c3e338b3-6705-46a9-c67d-b37158e63e27\",\"y\":{\"units\":\"data\",\"field\":\"y\"},\"tags\":[]}},{\"id\":\"84082131-4e92-4dae-cd99-46d07a0861bd\",\"type\":\"Line\",\"attributes\":{\"fill_alpha\":{\"units\":\"data\",\"value\":0.2},\"line_alpha\":{\"units\":\"data\",\"value\":1},\"doc\":null,\"size\":{\"units\":\"screen\",\"value\":10},\"fill_color\":{\"value\":\"green\"},\"line_color\":{\"value\":\"green\"},\"x\":{\"units\":\"data\",\"field\":\"x\"},\"id\":\"84082131-4e92-4dae-cd99-46d07a0861bd\",\"y\":{\"units\":\"data\",\"field\":\"y\"},\"tags\":[]}},{\"id\":\"3b2ab9be-6086-4d96-cd0b-29e168a85086\",\"type\":\"GlyphRenderer\",\"attributes\":{\"name\":null,\"nonselection_glyph\":{\"type\":\"Line\",\"id\":\"84082131-4e92-4dae-cd99-46d07a0861bd\"},\"doc\":null,\"server_data_source\":null,\"data_source\":{\"type\":\"ColumnDataSource\",\"id\":\"83cf6174-83d8-4560-c54d-eeb4c0590d89\"},\"glyph\":{\"type\":\"Line\",\"id\":\"c3e338b3-6705-46a9-c67d-b37158e63e27\"},\"selection_glyph\":null,\"id\":\"3b2ab9be-6086-4d96-cd0b-29e168a85086\",\"tags\":[]}},{\"id\":\"d5b747fd-daeb-4556-c591-a030e515e25b\",\"type\":\"DataRange1d\",\"attributes\":{\"sources\":[{\"columns\":[\"x\"],\"source\":{\"type\":\"ColumnDataSource\",\"id\":\"a04ed1b4-3c62-4b65-cbb4-c3d180329b66\"}},{\"columns\":[\"x\"],\"source\":{\"type\":\"ColumnDataSource\",\"id\":\"e9c556fc-44be-4b94-cb22-6242330a5b29\"}},{\"columns\":[\"x\"],\"source\":{\"type\":\"ColumnDataSource\",\"id\":\"83cf6174-83d8-4560-c54d-eeb4c0590d89\"}}],\"id\":\"d5b747fd-daeb-4556-c591-a030e515e25b\",\"tags\":[],\"doc\":null}},{\"id\":\"69164ef6-6c17-4715-c721-37c02b62bef0\",\"type\":\"DataRange1d\",\"attributes\":{\"sources\":[{\"columns\":[\"y\"],\"source\":{\"type\":\"ColumnDataSource\",\"id\":\"a04ed1b4-3c62-4b65-cbb4-c3d180329b66\"}},{\"columns\":[\"y\"],\"source\":{\"type\":\"ColumnDataSource\",\"id\":\"e9c556fc-44be-4b94-cb22-6242330a5b29\"}},{\"columns\":[\"y\"],\"source\":{\"type\":\"ColumnDataSource\",\"id\":\"83cf6174-83d8-4560-c54d-eeb4c0590d89\"}}],\"id\":\"69164ef6-6c17-4715-c721-37c02b62bef0\",\"tags\":[],\"doc\":null}},{\"id\":\"5ca795bb-e696-4f46-cf25-a9f5564f16c4\",\"type\":\"ToolEvents\",\"attributes\":{\"tags\":[],\"id\":\"5ca795bb-e696-4f46-cf25-a9f5564f16c4\",\"geometries\":[],\"doc\":null}},{\"id\":\"dead1311-a44a-466b-c6df-2e448c3ddfb8\",\"type\":\"BasicTickFormatter\",\"attributes\":{\"id\":\"dead1311-a44a-466b-c6df-2e448c3ddfb8\",\"tags\":[],\"doc\":null}},{\"id\":\"68f2fcf8-32da-40e7-c0d0-7a2a27313279\",\"type\":\"BasicTicker\",\"attributes\":{\"num_minor_ticks\":5,\"id\":\"68f2fcf8-32da-40e7-c0d0-7a2a27313279\",\"tags\":[],\"doc\":null}},{\"id\":\"5a378944-7b3c-4520-c586-07b43985377b\",\"type\":\"LinearAxis\",\"attributes\":{\"formatter\":{\"type\":\"BasicTickFormatter\",\"id\":\"dead1311-a44a-466b-c6df-2e448c3ddfb8\"},\"ticker\":{\"type\":\"BasicTicker\",\"id\":\"68f2fcf8-32da-40e7-c0d0-7a2a27313279\"},\"plot\":{\"id\":\"a2845367-8bc9-4a0d-cab4-c2a59b2b0972\",\"type\":\"Plot\",\"subtype\":\"Figure\"},\"axis_label\":\"Episode Length\",\"id\":\"5a378944-7b3c-4520-c586-07b43985377b\",\"doc\":null,\"tags\":[]}},{\"id\":\"374867bb-f5ed-4c03-cc94-c879f6a8e7fd\",\"type\":\"Grid\",\"attributes\":{\"dimension\":0,\"plot\":{\"id\":\"a2845367-8bc9-4a0d-cab4-c2a59b2b0972\",\"type\":\"Plot\",\"subtype\":\"Figure\"},\"ticker\":{\"type\":\"BasicTicker\",\"id\":\"68f2fcf8-32da-40e7-c0d0-7a2a27313279\"},\"id\":\"374867bb-f5ed-4c03-cc94-c879f6a8e7fd\",\"doc\":null,\"tags\":[]}},{\"id\":\"e25517cd-3e4d-4ec9-ce13-b140731388c2\",\"type\":\"BasicTickFormatter\",\"attributes\":{\"id\":\"e25517cd-3e4d-4ec9-ce13-b140731388c2\",\"tags\":[],\"doc\":null}},{\"id\":\"621fe168-14ef-4273-c28b-8b87a11b42a0\",\"type\":\"BasicTicker\",\"attributes\":{\"num_minor_ticks\":5,\"id\":\"621fe168-14ef-4273-c28b-8b87a11b42a0\",\"tags\":[],\"doc\":null}},{\"id\":\"38328263-8a7c-46bb-c6f9-c44451eaef01\",\"type\":\"LinearAxis\",\"attributes\":{\"formatter\":{\"type\":\"BasicTickFormatter\",\"id\":\"e25517cd-3e4d-4ec9-ce13-b140731388c2\"},\"ticker\":{\"type\":\"BasicTicker\",\"id\":\"621fe168-14ef-4273-c28b-8b87a11b42a0\"},\"plot\":{\"id\":\"a2845367-8bc9-4a0d-cab4-c2a59b2b0972\",\"type\":\"Plot\",\"subtype\":\"Figure\"},\"axis_label\":\"Training Accuracy\",\"id\":\"38328263-8a7c-46bb-c6f9-c44451eaef01\",\"doc\":null,\"tags\":[]}},{\"id\":\"77dff367-a034-4c70-cc05-f6348dfc3182\",\"type\":\"Grid\",\"attributes\":{\"dimension\":1,\"plot\":{\"id\":\"a2845367-8bc9-4a0d-cab4-c2a59b2b0972\",\"type\":\"Plot\",\"subtype\":\"Figure\"},\"ticker\":{\"type\":\"BasicTicker\",\"id\":\"621fe168-14ef-4273-c28b-8b87a11b42a0\"},\"id\":\"77dff367-a034-4c70-cc05-f6348dfc3182\",\"doc\":null,\"tags\":[]}},{\"id\":\"720ce3f4-adbd-4759-c74d-6d1c03a579fa\",\"type\":\"PanTool\",\"attributes\":{\"plot\":{\"id\":\"a2845367-8bc9-4a0d-cab4-c2a59b2b0972\",\"type\":\"Plot\",\"subtype\":\"Figure\"},\"dimensions\":[\"width\",\"height\"],\"id\":\"720ce3f4-adbd-4759-c74d-6d1c03a579fa\",\"doc\":null,\"tags\":[]}},{\"id\":\"1ca17190-8551-4779-c7cb-80a9f4e2a7df\",\"type\":\"WheelZoomTool\",\"attributes\":{\"plot\":{\"id\":\"a2845367-8bc9-4a0d-cab4-c2a59b2b0972\",\"type\":\"Plot\",\"subtype\":\"Figure\"},\"dimensions\":[\"width\",\"height\"],\"id\":\"1ca17190-8551-4779-c7cb-80a9f4e2a7df\",\"doc\":null,\"tags\":[]}},{\"id\":\"2f86fe8e-949c-4a13-caa9-3e5857977ae1\",\"type\":\"BoxZoomTool\",\"attributes\":{\"plot\":{\"id\":\"a2845367-8bc9-4a0d-cab4-c2a59b2b0972\",\"type\":\"Plot\",\"subtype\":\"Figure\"},\"id\":\"2f86fe8e-949c-4a13-caa9-3e5857977ae1\",\"tags\":[],\"doc\":null}},{\"id\":\"09dfa364-055c-4f2d-cfeb-3c05cb99a532\",\"type\":\"PreviewSaveTool\",\"attributes\":{\"plot\":{\"id\":\"a2845367-8bc9-4a0d-cab4-c2a59b2b0972\",\"type\":\"Plot\",\"subtype\":\"Figure\"},\"id\":\"09dfa364-055c-4f2d-cfeb-3c05cb99a532\",\"tags\":[],\"doc\":null}},{\"id\":\"852ef399-86af-4f40-cff6-91572f09d876\",\"type\":\"ResizeTool\",\"attributes\":{\"plot\":{\"id\":\"a2845367-8bc9-4a0d-cab4-c2a59b2b0972\",\"type\":\"Plot\",\"subtype\":\"Figure\"},\"id\":\"852ef399-86af-4f40-cff6-91572f09d876\",\"tags\":[],\"doc\":null}},{\"id\":\"c7484057-4e31-4147-c105-8a831a95b851\",\"type\":\"ResetTool\",\"attributes\":{\"plot\":{\"id\":\"a2845367-8bc9-4a0d-cab4-c2a59b2b0972\",\"type\":\"Plot\",\"subtype\":\"Figure\"},\"id\":\"c7484057-4e31-4147-c105-8a831a95b851\",\"tags\":[],\"doc\":null}},{\"id\":\"7ca36d43-9f1c-4602-c6f8-e30d7fb8cc4f\",\"type\":\"Legend\",\"attributes\":{\"plot\":{\"id\":\"a2845367-8bc9-4a0d-cab4-c2a59b2b0972\",\"type\":\"Plot\",\"subtype\":\"Figure\"},\"legends\":[[\"Fully Connected\",[{\"type\":\"GlyphRenderer\",\"id\":\"595acf0b-a9ae-4013-c05d-28642b4958df\"}]],[\"RNN\",[{\"type\":\"GlyphRenderer\",\"id\":\"d912b050-9b49-47dd-c708-a95a55d6bb2b\"}]],[\"LSTM\",[{\"type\":\"GlyphRenderer\",\"id\":\"3b2ab9be-6086-4d96-cd0b-29e168a85086\"}]]],\"id\":\"7ca36d43-9f1c-4602-c6f8-e30d7fb8cc4f\",\"doc\":null,\"tags\":[]}},{\"id\":\"a2845367-8bc9-4a0d-cab4-c2a59b2b0972\",\"type\":\"Plot\",\"attributes\":{\"x_range\":{\"type\":\"DataRange1d\",\"id\":\"d5b747fd-daeb-4556-c591-a030e515e25b\"},\"tool_events\":{\"type\":\"ToolEvents\",\"id\":\"5ca795bb-e696-4f46-cf25-a9f5564f16c4\"},\"below\":[{\"type\":\"LinearAxis\",\"id\":\"5a378944-7b3c-4520-c586-07b43985377b\"}],\"renderers\":[{\"type\":\"GlyphRenderer\",\"id\":\"595acf0b-a9ae-4013-c05d-28642b4958df\"},{\"type\":\"GlyphRenderer\",\"id\":\"d912b050-9b49-47dd-c708-a95a55d6bb2b\"},{\"type\":\"GlyphRenderer\",\"id\":\"3b2ab9be-6086-4d96-cd0b-29e168a85086\"},{\"type\":\"LinearAxis\",\"id\":\"5a378944-7b3c-4520-c586-07b43985377b\"},{\"type\":\"Grid\",\"id\":\"374867bb-f5ed-4c03-cc94-c879f6a8e7fd\"},{\"type\":\"LinearAxis\",\"id\":\"38328263-8a7c-46bb-c6f9-c44451eaef01\"},{\"type\":\"Grid\",\"id\":\"77dff367-a034-4c70-cc05-f6348dfc3182\"},{\"type\":\"Legend\",\"id\":\"7ca36d43-9f1c-4602-c6f8-e30d7fb8cc4f\"}],\"above\":[],\"tools\":[{\"type\":\"PanTool\",\"id\":\"720ce3f4-adbd-4759-c74d-6d1c03a579fa\"},{\"type\":\"WheelZoomTool\",\"id\":\"1ca17190-8551-4779-c7cb-80a9f4e2a7df\"},{\"type\":\"BoxZoomTool\",\"id\":\"2f86fe8e-949c-4a13-caa9-3e5857977ae1\"},{\"type\":\"PreviewSaveTool\",\"id\":\"09dfa364-055c-4f2d-cfeb-3c05cb99a532\"},{\"type\":\"ResizeTool\",\"id\":\"852ef399-86af-4f40-cff6-91572f09d876\"},{\"type\":\"ResetTool\",\"id\":\"c7484057-4e31-4147-c105-8a831a95b851\"}],\"doc\":null,\"right\":[],\"title\":\"Training accuracy (50000 episodes)\",\"extra_x_ranges\":{},\"left\":[{\"type\":\"LinearAxis\",\"id\":\"38328263-8a7c-46bb-c6f9-c44451eaef01\"}],\"y_range\":{\"type\":\"DataRange1d\",\"id\":\"69164ef6-6c17-4715-c721-37c02b62bef0\"},\"id\":\"a2845367-8bc9-4a0d-cab4-c2a59b2b0972\",\"extra_y_ranges\":{},\"tags\":[]}}];\n",
       "  Bokeh.load_models(all_models);\n",
       "  var model = Bokeh.Collections(modeltype).get(modelid);\n",
       "  $(\"#f6d71c74-7cfb-4362-c349-3a585482f586\").html(''); // clear any previous plot in window_id\n",
       "  var view = new model.default_view({model: model, el: \"#f6d71c74-7cfb-4362-c349-3a585482f586\"});\n",
       "    } else {\n",
       "  load_lib(bokehjs_url, function() {\n",
       "      console.log(\"Bokeh: BokehJS plotting callback run at\", new Date())\n",
       "      var modelid = \"a2845367-8bc9-4a0d-cab4-c2a59b2b0972\";\n",
       "      var modeltype = \"Plot\";\n",
       "      var all_models = [{\"id\":\"a04ed1b4-3c62-4b65-cbb4-c3d180329b66\",\"type\":\"ColumnDataSource\",\"attributes\":{\"data\":{\"y\":[90.034,86.182,84.4405,82.2324,78.751666666667,74.732285714286,71.179,66.468888888889],\"x\":[2,3,4,5,6,7,8,9]},\"column_names\":[\"y\",\"x\"],\"cont_ranges\":{},\"discrete_ranges\":{},\"selected\":[],\"id\":\"a04ed1b4-3c62-4b65-cbb4-c3d180329b66\",\"doc\":null,\"tags\":[]}},{\"id\":\"77eec186-0054-431c-c372-a14b085461d5\",\"type\":\"Line\",\"attributes\":{\"fill_alpha\":{\"units\":\"data\",\"value\":0.2},\"line_alpha\":{\"units\":\"data\",\"value\":1},\"doc\":null,\"size\":{\"units\":\"screen\",\"value\":10},\"fill_color\":{\"value\":\"red\"},\"line_color\":{\"value\":\"red\"},\"x\":{\"units\":\"data\",\"field\":\"x\"},\"id\":\"77eec186-0054-431c-c372-a14b085461d5\",\"y\":{\"units\":\"data\",\"field\":\"y\"},\"tags\":[]}},{\"id\":\"5a5b9abf-c699-4165-c113-4182642f97d5\",\"type\":\"Line\",\"attributes\":{\"fill_alpha\":{\"units\":\"data\",\"value\":0.2},\"line_alpha\":{\"units\":\"data\",\"value\":1},\"doc\":null,\"size\":{\"units\":\"screen\",\"value\":10},\"fill_color\":{\"value\":\"red\"},\"line_color\":{\"value\":\"red\"},\"x\":{\"units\":\"data\",\"field\":\"x\"},\"id\":\"5a5b9abf-c699-4165-c113-4182642f97d5\",\"y\":{\"units\":\"data\",\"field\":\"y\"},\"tags\":[]}},{\"id\":\"595acf0b-a9ae-4013-c05d-28642b4958df\",\"type\":\"GlyphRenderer\",\"attributes\":{\"name\":null,\"nonselection_glyph\":{\"type\":\"Line\",\"id\":\"5a5b9abf-c699-4165-c113-4182642f97d5\"},\"doc\":null,\"server_data_source\":null,\"data_source\":{\"type\":\"ColumnDataSource\",\"id\":\"a04ed1b4-3c62-4b65-cbb4-c3d180329b66\"},\"glyph\":{\"type\":\"Line\",\"id\":\"77eec186-0054-431c-c372-a14b085461d5\"},\"selection_glyph\":null,\"id\":\"595acf0b-a9ae-4013-c05d-28642b4958df\",\"tags\":[]}},{\"id\":\"e9c556fc-44be-4b94-cb22-6242330a5b29\",\"type\":\"ColumnDataSource\",\"attributes\":{\"data\":{\"y\":[89.956,86.15,84.2055,80.6276,76.277666666667,71.184857142857,65.6965,60.323555555556],\"x\":[2,3,4,5,6,7,8,9]},\"column_names\":[\"y\",\"x\"],\"cont_ranges\":{},\"discrete_ranges\":{},\"selected\":[],\"id\":\"e9c556fc-44be-4b94-cb22-6242330a5b29\",\"doc\":null,\"tags\":[]}},{\"id\":\"63cdae29-d8e5-4d25-cd6f-c002c1bdd632\",\"type\":\"Line\",\"attributes\":{\"fill_alpha\":{\"units\":\"data\",\"value\":0.2},\"line_alpha\":{\"units\":\"data\",\"value\":1},\"doc\":null,\"size\":{\"units\":\"screen\",\"value\":10},\"fill_color\":{\"value\":\"blue\"},\"line_color\":{\"value\":\"blue\"},\"x\":{\"units\":\"data\",\"field\":\"x\"},\"id\":\"63cdae29-d8e5-4d25-cd6f-c002c1bdd632\",\"y\":{\"units\":\"data\",\"field\":\"y\"},\"tags\":[]}},{\"id\":\"879eedd4-3204-4e47-ce4f-e4eee7874098\",\"type\":\"Line\",\"attributes\":{\"fill_alpha\":{\"units\":\"data\",\"value\":0.2},\"line_alpha\":{\"units\":\"data\",\"value\":1},\"doc\":null,\"size\":{\"units\":\"screen\",\"value\":10},\"fill_color\":{\"value\":\"blue\"},\"line_color\":{\"value\":\"blue\"},\"x\":{\"units\":\"data\",\"field\":\"x\"},\"id\":\"879eedd4-3204-4e47-ce4f-e4eee7874098\",\"y\":{\"units\":\"data\",\"field\":\"y\"},\"tags\":[]}},{\"id\":\"d912b050-9b49-47dd-c708-a95a55d6bb2b\",\"type\":\"GlyphRenderer\",\"attributes\":{\"name\":null,\"nonselection_glyph\":{\"type\":\"Line\",\"id\":\"879eedd4-3204-4e47-ce4f-e4eee7874098\"},\"doc\":null,\"server_data_source\":null,\"data_source\":{\"type\":\"ColumnDataSource\",\"id\":\"e9c556fc-44be-4b94-cb22-6242330a5b29\"},\"glyph\":{\"type\":\"Line\",\"id\":\"63cdae29-d8e5-4d25-cd6f-c002c1bdd632\"},\"selection_glyph\":null,\"id\":\"d912b050-9b49-47dd-c708-a95a55d6bb2b\",\"tags\":[]}},{\"id\":\"83cf6174-83d8-4560-c54d-eeb4c0590d89\",\"type\":\"ColumnDataSource\",\"attributes\":{\"data\":{\"y\":[89.902,86.501333333333,85.161,83.6448,80.889,78.911714285714,76.08375,72.237555555556],\"x\":[2,3,4,5,6,7,8,9]},\"column_names\":[\"y\",\"x\"],\"cont_ranges\":{},\"discrete_ranges\":{},\"selected\":[],\"id\":\"83cf6174-83d8-4560-c54d-eeb4c0590d89\",\"doc\":null,\"tags\":[]}},{\"id\":\"c3e338b3-6705-46a9-c67d-b37158e63e27\",\"type\":\"Line\",\"attributes\":{\"fill_alpha\":{\"units\":\"data\",\"value\":0.2},\"line_alpha\":{\"units\":\"data\",\"value\":1},\"doc\":null,\"size\":{\"units\":\"screen\",\"value\":10},\"fill_color\":{\"value\":\"green\"},\"line_color\":{\"value\":\"green\"},\"x\":{\"units\":\"data\",\"field\":\"x\"},\"id\":\"c3e338b3-6705-46a9-c67d-b37158e63e27\",\"y\":{\"units\":\"data\",\"field\":\"y\"},\"tags\":[]}},{\"id\":\"84082131-4e92-4dae-cd99-46d07a0861bd\",\"type\":\"Line\",\"attributes\":{\"fill_alpha\":{\"units\":\"data\",\"value\":0.2},\"line_alpha\":{\"units\":\"data\",\"value\":1},\"doc\":null,\"size\":{\"units\":\"screen\",\"value\":10},\"fill_color\":{\"value\":\"green\"},\"line_color\":{\"value\":\"green\"},\"x\":{\"units\":\"data\",\"field\":\"x\"},\"id\":\"84082131-4e92-4dae-cd99-46d07a0861bd\",\"y\":{\"units\":\"data\",\"field\":\"y\"},\"tags\":[]}},{\"id\":\"3b2ab9be-6086-4d96-cd0b-29e168a85086\",\"type\":\"GlyphRenderer\",\"attributes\":{\"name\":null,\"nonselection_glyph\":{\"type\":\"Line\",\"id\":\"84082131-4e92-4dae-cd99-46d07a0861bd\"},\"doc\":null,\"server_data_source\":null,\"data_source\":{\"type\":\"ColumnDataSource\",\"id\":\"83cf6174-83d8-4560-c54d-eeb4c0590d89\"},\"glyph\":{\"type\":\"Line\",\"id\":\"c3e338b3-6705-46a9-c67d-b37158e63e27\"},\"selection_glyph\":null,\"id\":\"3b2ab9be-6086-4d96-cd0b-29e168a85086\",\"tags\":[]}},{\"id\":\"d5b747fd-daeb-4556-c591-a030e515e25b\",\"type\":\"DataRange1d\",\"attributes\":{\"sources\":[{\"columns\":[\"x\"],\"source\":{\"type\":\"ColumnDataSource\",\"id\":\"a04ed1b4-3c62-4b65-cbb4-c3d180329b66\"}},{\"columns\":[\"x\"],\"source\":{\"type\":\"ColumnDataSource\",\"id\":\"e9c556fc-44be-4b94-cb22-6242330a5b29\"}},{\"columns\":[\"x\"],\"source\":{\"type\":\"ColumnDataSource\",\"id\":\"83cf6174-83d8-4560-c54d-eeb4c0590d89\"}}],\"id\":\"d5b747fd-daeb-4556-c591-a030e515e25b\",\"tags\":[],\"doc\":null}},{\"id\":\"69164ef6-6c17-4715-c721-37c02b62bef0\",\"type\":\"DataRange1d\",\"attributes\":{\"sources\":[{\"columns\":[\"y\"],\"source\":{\"type\":\"ColumnDataSource\",\"id\":\"a04ed1b4-3c62-4b65-cbb4-c3d180329b66\"}},{\"columns\":[\"y\"],\"source\":{\"type\":\"ColumnDataSource\",\"id\":\"e9c556fc-44be-4b94-cb22-6242330a5b29\"}},{\"columns\":[\"y\"],\"source\":{\"type\":\"ColumnDataSource\",\"id\":\"83cf6174-83d8-4560-c54d-eeb4c0590d89\"}}],\"id\":\"69164ef6-6c17-4715-c721-37c02b62bef0\",\"tags\":[],\"doc\":null}},{\"id\":\"5ca795bb-e696-4f46-cf25-a9f5564f16c4\",\"type\":\"ToolEvents\",\"attributes\":{\"tags\":[],\"id\":\"5ca795bb-e696-4f46-cf25-a9f5564f16c4\",\"geometries\":[],\"doc\":null}},{\"id\":\"dead1311-a44a-466b-c6df-2e448c3ddfb8\",\"type\":\"BasicTickFormatter\",\"attributes\":{\"id\":\"dead1311-a44a-466b-c6df-2e448c3ddfb8\",\"tags\":[],\"doc\":null}},{\"id\":\"68f2fcf8-32da-40e7-c0d0-7a2a27313279\",\"type\":\"BasicTicker\",\"attributes\":{\"num_minor_ticks\":5,\"id\":\"68f2fcf8-32da-40e7-c0d0-7a2a27313279\",\"tags\":[],\"doc\":null}},{\"id\":\"5a378944-7b3c-4520-c586-07b43985377b\",\"type\":\"LinearAxis\",\"attributes\":{\"formatter\":{\"type\":\"BasicTickFormatter\",\"id\":\"dead1311-a44a-466b-c6df-2e448c3ddfb8\"},\"ticker\":{\"type\":\"BasicTicker\",\"id\":\"68f2fcf8-32da-40e7-c0d0-7a2a27313279\"},\"plot\":{\"id\":\"a2845367-8bc9-4a0d-cab4-c2a59b2b0972\",\"type\":\"Plot\",\"subtype\":\"Figure\"},\"axis_label\":\"Episode Length\",\"id\":\"5a378944-7b3c-4520-c586-07b43985377b\",\"doc\":null,\"tags\":[]}},{\"id\":\"374867bb-f5ed-4c03-cc94-c879f6a8e7fd\",\"type\":\"Grid\",\"attributes\":{\"dimension\":0,\"plot\":{\"id\":\"a2845367-8bc9-4a0d-cab4-c2a59b2b0972\",\"type\":\"Plot\",\"subtype\":\"Figure\"},\"ticker\":{\"type\":\"BasicTicker\",\"id\":\"68f2fcf8-32da-40e7-c0d0-7a2a27313279\"},\"id\":\"374867bb-f5ed-4c03-cc94-c879f6a8e7fd\",\"doc\":null,\"tags\":[]}},{\"id\":\"e25517cd-3e4d-4ec9-ce13-b140731388c2\",\"type\":\"BasicTickFormatter\",\"attributes\":{\"id\":\"e25517cd-3e4d-4ec9-ce13-b140731388c2\",\"tags\":[],\"doc\":null}},{\"id\":\"621fe168-14ef-4273-c28b-8b87a11b42a0\",\"type\":\"BasicTicker\",\"attributes\":{\"num_minor_ticks\":5,\"id\":\"621fe168-14ef-4273-c28b-8b87a11b42a0\",\"tags\":[],\"doc\":null}},{\"id\":\"38328263-8a7c-46bb-c6f9-c44451eaef01\",\"type\":\"LinearAxis\",\"attributes\":{\"formatter\":{\"type\":\"BasicTickFormatter\",\"id\":\"e25517cd-3e4d-4ec9-ce13-b140731388c2\"},\"ticker\":{\"type\":\"BasicTicker\",\"id\":\"621fe168-14ef-4273-c28b-8b87a11b42a0\"},\"plot\":{\"id\":\"a2845367-8bc9-4a0d-cab4-c2a59b2b0972\",\"type\":\"Plot\",\"subtype\":\"Figure\"},\"axis_label\":\"Training Accuracy\",\"id\":\"38328263-8a7c-46bb-c6f9-c44451eaef01\",\"doc\":null,\"tags\":[]}},{\"id\":\"77dff367-a034-4c70-cc05-f6348dfc3182\",\"type\":\"Grid\",\"attributes\":{\"dimension\":1,\"plot\":{\"id\":\"a2845367-8bc9-4a0d-cab4-c2a59b2b0972\",\"type\":\"Plot\",\"subtype\":\"Figure\"},\"ticker\":{\"type\":\"BasicTicker\",\"id\":\"621fe168-14ef-4273-c28b-8b87a11b42a0\"},\"id\":\"77dff367-a034-4c70-cc05-f6348dfc3182\",\"doc\":null,\"tags\":[]}},{\"id\":\"720ce3f4-adbd-4759-c74d-6d1c03a579fa\",\"type\":\"PanTool\",\"attributes\":{\"plot\":{\"id\":\"a2845367-8bc9-4a0d-cab4-c2a59b2b0972\",\"type\":\"Plot\",\"subtype\":\"Figure\"},\"dimensions\":[\"width\",\"height\"],\"id\":\"720ce3f4-adbd-4759-c74d-6d1c03a579fa\",\"doc\":null,\"tags\":[]}},{\"id\":\"1ca17190-8551-4779-c7cb-80a9f4e2a7df\",\"type\":\"WheelZoomTool\",\"attributes\":{\"plot\":{\"id\":\"a2845367-8bc9-4a0d-cab4-c2a59b2b0972\",\"type\":\"Plot\",\"subtype\":\"Figure\"},\"dimensions\":[\"width\",\"height\"],\"id\":\"1ca17190-8551-4779-c7cb-80a9f4e2a7df\",\"doc\":null,\"tags\":[]}},{\"id\":\"2f86fe8e-949c-4a13-caa9-3e5857977ae1\",\"type\":\"BoxZoomTool\",\"attributes\":{\"plot\":{\"id\":\"a2845367-8bc9-4a0d-cab4-c2a59b2b0972\",\"type\":\"Plot\",\"subtype\":\"Figure\"},\"id\":\"2f86fe8e-949c-4a13-caa9-3e5857977ae1\",\"tags\":[],\"doc\":null}},{\"id\":\"09dfa364-055c-4f2d-cfeb-3c05cb99a532\",\"type\":\"PreviewSaveTool\",\"attributes\":{\"plot\":{\"id\":\"a2845367-8bc9-4a0d-cab4-c2a59b2b0972\",\"type\":\"Plot\",\"subtype\":\"Figure\"},\"id\":\"09dfa364-055c-4f2d-cfeb-3c05cb99a532\",\"tags\":[],\"doc\":null}},{\"id\":\"852ef399-86af-4f40-cff6-91572f09d876\",\"type\":\"ResizeTool\",\"attributes\":{\"plot\":{\"id\":\"a2845367-8bc9-4a0d-cab4-c2a59b2b0972\",\"type\":\"Plot\",\"subtype\":\"Figure\"},\"id\":\"852ef399-86af-4f40-cff6-91572f09d876\",\"tags\":[],\"doc\":null}},{\"id\":\"c7484057-4e31-4147-c105-8a831a95b851\",\"type\":\"ResetTool\",\"attributes\":{\"plot\":{\"id\":\"a2845367-8bc9-4a0d-cab4-c2a59b2b0972\",\"type\":\"Plot\",\"subtype\":\"Figure\"},\"id\":\"c7484057-4e31-4147-c105-8a831a95b851\",\"tags\":[],\"doc\":null}},{\"id\":\"7ca36d43-9f1c-4602-c6f8-e30d7fb8cc4f\",\"type\":\"Legend\",\"attributes\":{\"plot\":{\"id\":\"a2845367-8bc9-4a0d-cab4-c2a59b2b0972\",\"type\":\"Plot\",\"subtype\":\"Figure\"},\"legends\":[[\"Fully Connected\",[{\"type\":\"GlyphRenderer\",\"id\":\"595acf0b-a9ae-4013-c05d-28642b4958df\"}]],[\"RNN\",[{\"type\":\"GlyphRenderer\",\"id\":\"d912b050-9b49-47dd-c708-a95a55d6bb2b\"}]],[\"LSTM\",[{\"type\":\"GlyphRenderer\",\"id\":\"3b2ab9be-6086-4d96-cd0b-29e168a85086\"}]]],\"id\":\"7ca36d43-9f1c-4602-c6f8-e30d7fb8cc4f\",\"doc\":null,\"tags\":[]}},{\"id\":\"a2845367-8bc9-4a0d-cab4-c2a59b2b0972\",\"type\":\"Plot\",\"attributes\":{\"x_range\":{\"type\":\"DataRange1d\",\"id\":\"d5b747fd-daeb-4556-c591-a030e515e25b\"},\"tool_events\":{\"type\":\"ToolEvents\",\"id\":\"5ca795bb-e696-4f46-cf25-a9f5564f16c4\"},\"below\":[{\"type\":\"LinearAxis\",\"id\":\"5a378944-7b3c-4520-c586-07b43985377b\"}],\"renderers\":[{\"type\":\"GlyphRenderer\",\"id\":\"595acf0b-a9ae-4013-c05d-28642b4958df\"},{\"type\":\"GlyphRenderer\",\"id\":\"d912b050-9b49-47dd-c708-a95a55d6bb2b\"},{\"type\":\"GlyphRenderer\",\"id\":\"3b2ab9be-6086-4d96-cd0b-29e168a85086\"},{\"type\":\"LinearAxis\",\"id\":\"5a378944-7b3c-4520-c586-07b43985377b\"},{\"type\":\"Grid\",\"id\":\"374867bb-f5ed-4c03-cc94-c879f6a8e7fd\"},{\"type\":\"LinearAxis\",\"id\":\"38328263-8a7c-46bb-c6f9-c44451eaef01\"},{\"type\":\"Grid\",\"id\":\"77dff367-a034-4c70-cc05-f6348dfc3182\"},{\"type\":\"Legend\",\"id\":\"7ca36d43-9f1c-4602-c6f8-e30d7fb8cc4f\"}],\"above\":[],\"tools\":[{\"type\":\"PanTool\",\"id\":\"720ce3f4-adbd-4759-c74d-6d1c03a579fa\"},{\"type\":\"WheelZoomTool\",\"id\":\"1ca17190-8551-4779-c7cb-80a9f4e2a7df\"},{\"type\":\"BoxZoomTool\",\"id\":\"2f86fe8e-949c-4a13-caa9-3e5857977ae1\"},{\"type\":\"PreviewSaveTool\",\"id\":\"09dfa364-055c-4f2d-cfeb-3c05cb99a532\"},{\"type\":\"ResizeTool\",\"id\":\"852ef399-86af-4f40-cff6-91572f09d876\"},{\"type\":\"ResetTool\",\"id\":\"c7484057-4e31-4147-c105-8a831a95b851\"}],\"doc\":null,\"right\":[],\"title\":\"Training accuracy (50000 episodes)\",\"extra_x_ranges\":{},\"left\":[{\"type\":\"LinearAxis\",\"id\":\"38328263-8a7c-46bb-c6f9-c44451eaef01\"}],\"y_range\":{\"type\":\"DataRange1d\",\"id\":\"69164ef6-6c17-4715-c721-37c02b62bef0\"},\"id\":\"a2845367-8bc9-4a0d-cab4-c2a59b2b0972\",\"extra_y_ranges\":{},\"tags\":[]}}];\n",
       "      Bokeh.load_models(all_models);\n",
       "      var model = Bokeh.Collections(modeltype).get(modelid);\n",
       "      $(\"#f6d71c74-7cfb-4362-c349-3a585482f586\").html(''); // clear any previous plot in window_id\n",
       "      var view = new model.default_view({model: model, el: \"#f6d71c74-7cfb-4362-c349-3a585482f586\"});\n",
       "  });\n",
       "    }\n",
       "});\n",
       "</script>\n",
       "<div class=\"plotdiv\" id=\"f6d71c74-7cfb-4362-c349-3a585482f586\"></div>\n"
      ]
     },
     "metadata": {},
     "output_type": "display_data"
    }
   ],
   "source": [
    "-- Training accuracy plot\n",
    "plot = itorch.Plot()\n",
    "x = torch.range(2, 9)\n",
    "full_y = torch.Tensor(8)\n",
    "rnn_y = torch.Tensor(8)\n",
    "lstm_y = torch.Tensor(8)\n",
    "for i=2,9 do\n",
    "    name = string.format('models_%d_full/rubiks_best', i)\n",
    "    full_y[i-1] = best_results[name].train_acc\n",
    "    name = string.format('models_%d_rnn/rubiks_best', i)\n",
    "    rnn_y[i-1] = best_results[name].train_acc\n",
    "    name = string.format('models_%d_lstm/rubiks_best', i)\n",
    "    lstm_y[i-1] = best_results[name].train_acc\n",
    "end\n",
    "\n",
    "plot:xaxis('Episode Length'):yaxis('Training Accuracy')\n",
    "plot:title('Training accuracy (50000 episodes)')\n",
    "plot:line(x, full_y, 'red', 'Fully Connected')\n",
    "plot:line(x, rnn_y, 'blue', 'RNN')\n",
    "plot:line(x, lstm_y, 'green', 'LSTM')\n",
    "plot:legend(true)\n",
    "plot:draw()"
   ]
  },
  {
   "cell_type": "code",
   "execution_count": 5,
   "metadata": {
    "collapsed": false
   },
   "outputs": [
    {
     "data": {
      "text/html": [
       "<script type=\"text/javascript\">\n",
       "$(function() {\n",
       "    if (typeof (window._bokeh_onload_callbacks) === \"undefined\"){\n",
       "  window._bokeh_onload_callbacks = [];\n",
       "    }\n",
       "    function load_lib(url, callback){\n",
       "  window._bokeh_onload_callbacks.push(callback);\n",
       "  if (window._bokeh_is_loading){\n",
       "      console.log(\"Bokeh: BokehJS is being loaded, scheduling callback at\", new Date());\n",
       "      return null;\n",
       "  }\n",
       "  console.log(\"Bokeh: BokehJS not loaded, scheduling load and callback at\", new Date());\n",
       "  window._bokeh_is_loading = true;\n",
       "  var s = document.createElement('script');\n",
       "  s.src = url;\n",
       "  s.async = true;\n",
       "  s.onreadystatechange = s.onload = function(){\n",
       "      Bokeh.embed.inject_css(\"http://cdn.pydata.org/bokeh-0.7.0.min.css\");\n",
       "      window._bokeh_onload_callbacks.forEach(function(callback){callback()});\n",
       "  };\n",
       "  s.onerror = function(){\n",
       "      console.warn(\"failed to load library \" + url);\n",
       "  };\n",
       "  document.getElementsByTagName(\"head\")[0].appendChild(s);\n",
       "    }\n",
       "\n",
       "    bokehjs_url = \"http://cdn.pydata.org/bokeh-0.7.0.min.js\"\n",
       "\n",
       "    var elt = document.getElementById(\"8f197c3f-2586-4ae7-ca67-5ee7f74f9199\");\n",
       "    if(elt==null) {\n",
       "  console.log(\"Bokeh: ERROR: autoload.js configured with elementid '8f197c3f-2586-4ae7-ca67-5ee7f74f9199'\"\n",
       "        + \"but no matching script tag was found. \")\n",
       "  return false;\n",
       "    }\n",
       "\n",
       "    if(typeof(Bokeh) !== \"undefined\") {\n",
       "  console.log(\"Bokeh: BokehJS loaded, going straight to plotting\");\n",
       "  var modelid = \"003a2821-2281-4bb6-cb26-fed19c8bdf36\";\n",
       "  var modeltype = \"Plot\";\n",
       "  var all_models = [{\"id\":\"3b6f28be-87f8-41e7-c1f7-4faf32e3fce3\",\"type\":\"ColumnDataSource\",\"attributes\":{\"data\":{\"y\":[90,86.493333333333,84.1175,80.652,77.433333333333,73.925714285714,70.03,66.526666666667],\"x\":[2,3,4,5,6,7,8,9]},\"column_names\":[\"y\",\"x\"],\"cont_ranges\":{},\"discrete_ranges\":{},\"selected\":[],\"id\":\"3b6f28be-87f8-41e7-c1f7-4faf32e3fce3\",\"doc\":null,\"tags\":[]}},{\"id\":\"6f897ac0-ff26-4519-c5f3-08c00d0b87cd\",\"type\":\"Line\",\"attributes\":{\"fill_alpha\":{\"units\":\"data\",\"value\":0.2},\"line_alpha\":{\"units\":\"data\",\"value\":1},\"doc\":null,\"size\":{\"units\":\"screen\",\"value\":10},\"fill_color\":{\"value\":\"red\"},\"line_color\":{\"value\":\"red\"},\"x\":{\"units\":\"data\",\"field\":\"x\"},\"id\":\"6f897ac0-ff26-4519-c5f3-08c00d0b87cd\",\"y\":{\"units\":\"data\",\"field\":\"y\"},\"tags\":[]}},{\"id\":\"68663a4c-d5b7-41f0-c190-4f71050f6364\",\"type\":\"Line\",\"attributes\":{\"fill_alpha\":{\"units\":\"data\",\"value\":0.2},\"line_alpha\":{\"units\":\"data\",\"value\":1},\"doc\":null,\"size\":{\"units\":\"screen\",\"value\":10},\"fill_color\":{\"value\":\"red\"},\"line_color\":{\"value\":\"red\"},\"x\":{\"units\":\"data\",\"field\":\"x\"},\"id\":\"68663a4c-d5b7-41f0-c190-4f71050f6364\",\"y\":{\"units\":\"data\",\"field\":\"y\"},\"tags\":[]}},{\"id\":\"13820127-d537-41f7-c15d-06b0f3819c39\",\"type\":\"GlyphRenderer\",\"attributes\":{\"name\":null,\"nonselection_glyph\":{\"type\":\"Line\",\"id\":\"68663a4c-d5b7-41f0-c190-4f71050f6364\"},\"doc\":null,\"server_data_source\":null,\"data_source\":{\"type\":\"ColumnDataSource\",\"id\":\"3b6f28be-87f8-41e7-c1f7-4faf32e3fce3\"},\"glyph\":{\"type\":\"Line\",\"id\":\"6f897ac0-ff26-4519-c5f3-08c00d0b87cd\"},\"selection_glyph\":null,\"id\":\"13820127-d537-41f7-c15d-06b0f3819c39\",\"tags\":[]}},{\"id\":\"d161191c-007f-4c6b-cc08-aae107767589\",\"type\":\"ColumnDataSource\",\"attributes\":{\"data\":{\"y\":[90.155,86.506666666667,83.91,79.778,75.396666666667,71.328571428571,66.24125,60.996666666667],\"x\":[2,3,4,5,6,7,8,9]},\"column_names\":[\"y\",\"x\"],\"cont_ranges\":{},\"discrete_ranges\":{},\"selected\":[],\"id\":\"d161191c-007f-4c6b-cc08-aae107767589\",\"doc\":null,\"tags\":[]}},{\"id\":\"8524d7ff-26bb-47ea-c79d-84963ca7d69f\",\"type\":\"Line\",\"attributes\":{\"fill_alpha\":{\"units\":\"data\",\"value\":0.2},\"line_alpha\":{\"units\":\"data\",\"value\":1},\"doc\":null,\"size\":{\"units\":\"screen\",\"value\":10},\"fill_color\":{\"value\":\"blue\"},\"line_color\":{\"value\":\"blue\"},\"x\":{\"units\":\"data\",\"field\":\"x\"},\"id\":\"8524d7ff-26bb-47ea-c79d-84963ca7d69f\",\"y\":{\"units\":\"data\",\"field\":\"y\"},\"tags\":[]}},{\"id\":\"c1508e7a-feda-48bc-c844-99fecdf5c70f\",\"type\":\"Line\",\"attributes\":{\"fill_alpha\":{\"units\":\"data\",\"value\":0.2},\"line_alpha\":{\"units\":\"data\",\"value\":1},\"doc\":null,\"size\":{\"units\":\"screen\",\"value\":10},\"fill_color\":{\"value\":\"blue\"},\"line_color\":{\"value\":\"blue\"},\"x\":{\"units\":\"data\",\"field\":\"x\"},\"id\":\"c1508e7a-feda-48bc-c844-99fecdf5c70f\",\"y\":{\"units\":\"data\",\"field\":\"y\"},\"tags\":[]}},{\"id\":\"a4f4fb32-1312-428a-c2e8-29e420e2b269\",\"type\":\"GlyphRenderer\",\"attributes\":{\"name\":null,\"nonselection_glyph\":{\"type\":\"Line\",\"id\":\"c1508e7a-feda-48bc-c844-99fecdf5c70f\"},\"doc\":null,\"server_data_source\":null,\"data_source\":{\"type\":\"ColumnDataSource\",\"id\":\"d161191c-007f-4c6b-cc08-aae107767589\"},\"glyph\":{\"type\":\"Line\",\"id\":\"8524d7ff-26bb-47ea-c79d-84963ca7d69f\"},\"selection_glyph\":null,\"id\":\"a4f4fb32-1312-428a-c2e8-29e420e2b269\",\"tags\":[]}},{\"id\":\"dcd352b8-9937-48fe-c868-47a33fb5b08a\",\"type\":\"ColumnDataSource\",\"attributes\":{\"data\":{\"y\":[89.89,86.503333333333,83.8175,81.914,78.996666666667,76.324285714286,73.16125,70.3],\"x\":[2,3,4,5,6,7,8,9]},\"column_names\":[\"y\",\"x\"],\"cont_ranges\":{},\"discrete_ranges\":{},\"selected\":[],\"id\":\"dcd352b8-9937-48fe-c868-47a33fb5b08a\",\"doc\":null,\"tags\":[]}},{\"id\":\"e902e374-54d6-4bf9-cbd0-3c7392f8cfd2\",\"type\":\"Line\",\"attributes\":{\"fill_alpha\":{\"units\":\"data\",\"value\":0.2},\"line_alpha\":{\"units\":\"data\",\"value\":1},\"doc\":null,\"size\":{\"units\":\"screen\",\"value\":10},\"fill_color\":{\"value\":\"green\"},\"line_color\":{\"value\":\"green\"},\"x\":{\"units\":\"data\",\"field\":\"x\"},\"id\":\"e902e374-54d6-4bf9-cbd0-3c7392f8cfd2\",\"y\":{\"units\":\"data\",\"field\":\"y\"},\"tags\":[]}},{\"id\":\"81419d63-6947-4acb-caaf-63392739379b\",\"type\":\"Line\",\"attributes\":{\"fill_alpha\":{\"units\":\"data\",\"value\":0.2},\"line_alpha\":{\"units\":\"data\",\"value\":1},\"doc\":null,\"size\":{\"units\":\"screen\",\"value\":10},\"fill_color\":{\"value\":\"green\"},\"line_color\":{\"value\":\"green\"},\"x\":{\"units\":\"data\",\"field\":\"x\"},\"id\":\"81419d63-6947-4acb-caaf-63392739379b\",\"y\":{\"units\":\"data\",\"field\":\"y\"},\"tags\":[]}},{\"id\":\"9867469d-da41-4cfb-cc4e-312fe9f17017\",\"type\":\"GlyphRenderer\",\"attributes\":{\"name\":null,\"nonselection_glyph\":{\"type\":\"Line\",\"id\":\"81419d63-6947-4acb-caaf-63392739379b\"},\"doc\":null,\"server_data_source\":null,\"data_source\":{\"type\":\"ColumnDataSource\",\"id\":\"dcd352b8-9937-48fe-c868-47a33fb5b08a\"},\"glyph\":{\"type\":\"Line\",\"id\":\"e902e374-54d6-4bf9-cbd0-3c7392f8cfd2\"},\"selection_glyph\":null,\"id\":\"9867469d-da41-4cfb-cc4e-312fe9f17017\",\"tags\":[]}},{\"id\":\"d52203c1-2943-4c80-cce8-0b3e4df41f7c\",\"type\":\"DataRange1d\",\"attributes\":{\"sources\":[{\"columns\":[\"x\"],\"source\":{\"type\":\"ColumnDataSource\",\"id\":\"3b6f28be-87f8-41e7-c1f7-4faf32e3fce3\"}},{\"columns\":[\"x\"],\"source\":{\"type\":\"ColumnDataSource\",\"id\":\"d161191c-007f-4c6b-cc08-aae107767589\"}},{\"columns\":[\"x\"],\"source\":{\"type\":\"ColumnDataSource\",\"id\":\"dcd352b8-9937-48fe-c868-47a33fb5b08a\"}}],\"id\":\"d52203c1-2943-4c80-cce8-0b3e4df41f7c\",\"tags\":[],\"doc\":null}},{\"id\":\"0732af29-3486-49d8-c95d-796ef11efdd2\",\"type\":\"DataRange1d\",\"attributes\":{\"sources\":[{\"columns\":[\"y\"],\"source\":{\"type\":\"ColumnDataSource\",\"id\":\"3b6f28be-87f8-41e7-c1f7-4faf32e3fce3\"}},{\"columns\":[\"y\"],\"source\":{\"type\":\"ColumnDataSource\",\"id\":\"d161191c-007f-4c6b-cc08-aae107767589\"}},{\"columns\":[\"y\"],\"source\":{\"type\":\"ColumnDataSource\",\"id\":\"dcd352b8-9937-48fe-c868-47a33fb5b08a\"}}],\"id\":\"0732af29-3486-49d8-c95d-796ef11efdd2\",\"tags\":[],\"doc\":null}},{\"id\":\"5069d814-9de0-4e7b-ce2e-1a58addf0f3d\",\"type\":\"ToolEvents\",\"attributes\":{\"tags\":[],\"id\":\"5069d814-9de0-4e7b-ce2e-1a58addf0f3d\",\"geometries\":[],\"doc\":null}},{\"id\":\"781e61de-04f2-44ea-c4b8-660d77c0a271\",\"type\":\"BasicTickFormatter\",\"attributes\":{\"id\":\"781e61de-04f2-44ea-c4b8-660d77c0a271\",\"tags\":[],\"doc\":null}},{\"id\":\"089613ab-625d-4bba-cbe6-a7e427dc751e\",\"type\":\"BasicTicker\",\"attributes\":{\"num_minor_ticks\":5,\"id\":\"089613ab-625d-4bba-cbe6-a7e427dc751e\",\"tags\":[],\"doc\":null}},{\"id\":\"a814a037-df3e-4d85-cdc0-eb7f186fd97c\",\"type\":\"LinearAxis\",\"attributes\":{\"formatter\":{\"type\":\"BasicTickFormatter\",\"id\":\"781e61de-04f2-44ea-c4b8-660d77c0a271\"},\"ticker\":{\"type\":\"BasicTicker\",\"id\":\"089613ab-625d-4bba-cbe6-a7e427dc751e\"},\"plot\":{\"id\":\"003a2821-2281-4bb6-cb26-fed19c8bdf36\",\"type\":\"Plot\",\"subtype\":\"Figure\"},\"axis_label\":\"Episode Length\",\"id\":\"a814a037-df3e-4d85-cdc0-eb7f186fd97c\",\"doc\":null,\"tags\":[]}},{\"id\":\"7b228708-fb04-4176-c1ce-304bc3855d10\",\"type\":\"Grid\",\"attributes\":{\"dimension\":0,\"plot\":{\"id\":\"003a2821-2281-4bb6-cb26-fed19c8bdf36\",\"type\":\"Plot\",\"subtype\":\"Figure\"},\"ticker\":{\"type\":\"BasicTicker\",\"id\":\"089613ab-625d-4bba-cbe6-a7e427dc751e\"},\"id\":\"7b228708-fb04-4176-c1ce-304bc3855d10\",\"doc\":null,\"tags\":[]}},{\"id\":\"7f26662f-9866-430e-c3cb-5a97b8db7579\",\"type\":\"BasicTickFormatter\",\"attributes\":{\"id\":\"7f26662f-9866-430e-c3cb-5a97b8db7579\",\"tags\":[],\"doc\":null}},{\"id\":\"576cd5e0-b854-47c7-c7aa-6667e860a3bc\",\"type\":\"BasicTicker\",\"attributes\":{\"num_minor_ticks\":5,\"id\":\"576cd5e0-b854-47c7-c7aa-6667e860a3bc\",\"tags\":[],\"doc\":null}},{\"id\":\"3fa8ca6a-0825-414d-c166-dadcf7638543\",\"type\":\"LinearAxis\",\"attributes\":{\"formatter\":{\"type\":\"BasicTickFormatter\",\"id\":\"7f26662f-9866-430e-c3cb-5a97b8db7579\"},\"ticker\":{\"type\":\"BasicTicker\",\"id\":\"576cd5e0-b854-47c7-c7aa-6667e860a3bc\"},\"plot\":{\"id\":\"003a2821-2281-4bb6-cb26-fed19c8bdf36\",\"type\":\"Plot\",\"subtype\":\"Figure\"},\"axis_label\":\"Test Accuracy\",\"id\":\"3fa8ca6a-0825-414d-c166-dadcf7638543\",\"doc\":null,\"tags\":[]}},{\"id\":\"e2d133b7-7f3c-409d-c09f-134ef0db5ace\",\"type\":\"Grid\",\"attributes\":{\"dimension\":1,\"plot\":{\"id\":\"003a2821-2281-4bb6-cb26-fed19c8bdf36\",\"type\":\"Plot\",\"subtype\":\"Figure\"},\"ticker\":{\"type\":\"BasicTicker\",\"id\":\"576cd5e0-b854-47c7-c7aa-6667e860a3bc\"},\"id\":\"e2d133b7-7f3c-409d-c09f-134ef0db5ace\",\"doc\":null,\"tags\":[]}},{\"id\":\"e6861527-5d16-4a3c-ca77-74299ba4e55f\",\"type\":\"PanTool\",\"attributes\":{\"plot\":{\"id\":\"003a2821-2281-4bb6-cb26-fed19c8bdf36\",\"type\":\"Plot\",\"subtype\":\"Figure\"},\"dimensions\":[\"width\",\"height\"],\"id\":\"e6861527-5d16-4a3c-ca77-74299ba4e55f\",\"doc\":null,\"tags\":[]}},{\"id\":\"8dcd2416-16f4-4dd1-cd0f-ec1a0a229ed9\",\"type\":\"WheelZoomTool\",\"attributes\":{\"plot\":{\"id\":\"003a2821-2281-4bb6-cb26-fed19c8bdf36\",\"type\":\"Plot\",\"subtype\":\"Figure\"},\"dimensions\":[\"width\",\"height\"],\"id\":\"8dcd2416-16f4-4dd1-cd0f-ec1a0a229ed9\",\"doc\":null,\"tags\":[]}},{\"id\":\"c7e78af2-5429-4dab-cd62-44103d0384dd\",\"type\":\"BoxZoomTool\",\"attributes\":{\"plot\":{\"id\":\"003a2821-2281-4bb6-cb26-fed19c8bdf36\",\"type\":\"Plot\",\"subtype\":\"Figure\"},\"id\":\"c7e78af2-5429-4dab-cd62-44103d0384dd\",\"tags\":[],\"doc\":null}},{\"id\":\"cd4dc240-48a7-486b-c8d3-f41d24013f2d\",\"type\":\"PreviewSaveTool\",\"attributes\":{\"plot\":{\"id\":\"003a2821-2281-4bb6-cb26-fed19c8bdf36\",\"type\":\"Plot\",\"subtype\":\"Figure\"},\"id\":\"cd4dc240-48a7-486b-c8d3-f41d24013f2d\",\"tags\":[],\"doc\":null}},{\"id\":\"39eadd4a-b76a-4a44-caec-ddddaeaf56de\",\"type\":\"ResizeTool\",\"attributes\":{\"plot\":{\"id\":\"003a2821-2281-4bb6-cb26-fed19c8bdf36\",\"type\":\"Plot\",\"subtype\":\"Figure\"},\"id\":\"39eadd4a-b76a-4a44-caec-ddddaeaf56de\",\"tags\":[],\"doc\":null}},{\"id\":\"d9280e83-33bc-4c07-cc82-d5f4e65c802c\",\"type\":\"ResetTool\",\"attributes\":{\"plot\":{\"id\":\"003a2821-2281-4bb6-cb26-fed19c8bdf36\",\"type\":\"Plot\",\"subtype\":\"Figure\"},\"id\":\"d9280e83-33bc-4c07-cc82-d5f4e65c802c\",\"tags\":[],\"doc\":null}},{\"id\":\"3822fa51-ca21-41f1-c105-3bd1aaed4f4b\",\"type\":\"Legend\",\"attributes\":{\"plot\":{\"id\":\"003a2821-2281-4bb6-cb26-fed19c8bdf36\",\"type\":\"Plot\",\"subtype\":\"Figure\"},\"legends\":[[\"Fully Connected\",[{\"type\":\"GlyphRenderer\",\"id\":\"13820127-d537-41f7-c15d-06b0f3819c39\"}]],[\"RNN\",[{\"type\":\"GlyphRenderer\",\"id\":\"a4f4fb32-1312-428a-c2e8-29e420e2b269\"}]],[\"LSTM\",[{\"type\":\"GlyphRenderer\",\"id\":\"9867469d-da41-4cfb-cc4e-312fe9f17017\"}]]],\"id\":\"3822fa51-ca21-41f1-c105-3bd1aaed4f4b\",\"doc\":null,\"tags\":[]}},{\"id\":\"003a2821-2281-4bb6-cb26-fed19c8bdf36\",\"type\":\"Plot\",\"attributes\":{\"x_range\":{\"type\":\"DataRange1d\",\"id\":\"d52203c1-2943-4c80-cce8-0b3e4df41f7c\"},\"tool_events\":{\"type\":\"ToolEvents\",\"id\":\"5069d814-9de0-4e7b-ce2e-1a58addf0f3d\"},\"below\":[{\"type\":\"LinearAxis\",\"id\":\"a814a037-df3e-4d85-cdc0-eb7f186fd97c\"}],\"renderers\":[{\"type\":\"GlyphRenderer\",\"id\":\"13820127-d537-41f7-c15d-06b0f3819c39\"},{\"type\":\"GlyphRenderer\",\"id\":\"a4f4fb32-1312-428a-c2e8-29e420e2b269\"},{\"type\":\"GlyphRenderer\",\"id\":\"9867469d-da41-4cfb-cc4e-312fe9f17017\"},{\"type\":\"LinearAxis\",\"id\":\"a814a037-df3e-4d85-cdc0-eb7f186fd97c\"},{\"type\":\"Grid\",\"id\":\"7b228708-fb04-4176-c1ce-304bc3855d10\"},{\"type\":\"LinearAxis\",\"id\":\"3fa8ca6a-0825-414d-c166-dadcf7638543\"},{\"type\":\"Grid\",\"id\":\"e2d133b7-7f3c-409d-c09f-134ef0db5ace\"},{\"type\":\"Legend\",\"id\":\"3822fa51-ca21-41f1-c105-3bd1aaed4f4b\"}],\"above\":[],\"tools\":[{\"type\":\"PanTool\",\"id\":\"e6861527-5d16-4a3c-ca77-74299ba4e55f\"},{\"type\":\"WheelZoomTool\",\"id\":\"8dcd2416-16f4-4dd1-cd0f-ec1a0a229ed9\"},{\"type\":\"BoxZoomTool\",\"id\":\"c7e78af2-5429-4dab-cd62-44103d0384dd\"},{\"type\":\"PreviewSaveTool\",\"id\":\"cd4dc240-48a7-486b-c8d3-f41d24013f2d\"},{\"type\":\"ResizeTool\",\"id\":\"39eadd4a-b76a-4a44-caec-ddddaeaf56de\"},{\"type\":\"ResetTool\",\"id\":\"d9280e83-33bc-4c07-cc82-d5f4e65c802c\"}],\"doc\":null,\"right\":[],\"title\":\"Test accuracy (50000 episodes)\",\"extra_x_ranges\":{},\"left\":[{\"type\":\"LinearAxis\",\"id\":\"3fa8ca6a-0825-414d-c166-dadcf7638543\"}],\"y_range\":{\"type\":\"DataRange1d\",\"id\":\"0732af29-3486-49d8-c95d-796ef11efdd2\"},\"id\":\"003a2821-2281-4bb6-cb26-fed19c8bdf36\",\"extra_y_ranges\":{},\"tags\":[]}}];\n",
       "  Bokeh.load_models(all_models);\n",
       "  var model = Bokeh.Collections(modeltype).get(modelid);\n",
       "  $(\"#8f197c3f-2586-4ae7-ca67-5ee7f74f9199\").html(''); // clear any previous plot in window_id\n",
       "  var view = new model.default_view({model: model, el: \"#8f197c3f-2586-4ae7-ca67-5ee7f74f9199\"});\n",
       "    } else {\n",
       "  load_lib(bokehjs_url, function() {\n",
       "      console.log(\"Bokeh: BokehJS plotting callback run at\", new Date())\n",
       "      var modelid = \"003a2821-2281-4bb6-cb26-fed19c8bdf36\";\n",
       "      var modeltype = \"Plot\";\n",
       "      var all_models = [{\"id\":\"3b6f28be-87f8-41e7-c1f7-4faf32e3fce3\",\"type\":\"ColumnDataSource\",\"attributes\":{\"data\":{\"y\":[90,86.493333333333,84.1175,80.652,77.433333333333,73.925714285714,70.03,66.526666666667],\"x\":[2,3,4,5,6,7,8,9]},\"column_names\":[\"y\",\"x\"],\"cont_ranges\":{},\"discrete_ranges\":{},\"selected\":[],\"id\":\"3b6f28be-87f8-41e7-c1f7-4faf32e3fce3\",\"doc\":null,\"tags\":[]}},{\"id\":\"6f897ac0-ff26-4519-c5f3-08c00d0b87cd\",\"type\":\"Line\",\"attributes\":{\"fill_alpha\":{\"units\":\"data\",\"value\":0.2},\"line_alpha\":{\"units\":\"data\",\"value\":1},\"doc\":null,\"size\":{\"units\":\"screen\",\"value\":10},\"fill_color\":{\"value\":\"red\"},\"line_color\":{\"value\":\"red\"},\"x\":{\"units\":\"data\",\"field\":\"x\"},\"id\":\"6f897ac0-ff26-4519-c5f3-08c00d0b87cd\",\"y\":{\"units\":\"data\",\"field\":\"y\"},\"tags\":[]}},{\"id\":\"68663a4c-d5b7-41f0-c190-4f71050f6364\",\"type\":\"Line\",\"attributes\":{\"fill_alpha\":{\"units\":\"data\",\"value\":0.2},\"line_alpha\":{\"units\":\"data\",\"value\":1},\"doc\":null,\"size\":{\"units\":\"screen\",\"value\":10},\"fill_color\":{\"value\":\"red\"},\"line_color\":{\"value\":\"red\"},\"x\":{\"units\":\"data\",\"field\":\"x\"},\"id\":\"68663a4c-d5b7-41f0-c190-4f71050f6364\",\"y\":{\"units\":\"data\",\"field\":\"y\"},\"tags\":[]}},{\"id\":\"13820127-d537-41f7-c15d-06b0f3819c39\",\"type\":\"GlyphRenderer\",\"attributes\":{\"name\":null,\"nonselection_glyph\":{\"type\":\"Line\",\"id\":\"68663a4c-d5b7-41f0-c190-4f71050f6364\"},\"doc\":null,\"server_data_source\":null,\"data_source\":{\"type\":\"ColumnDataSource\",\"id\":\"3b6f28be-87f8-41e7-c1f7-4faf32e3fce3\"},\"glyph\":{\"type\":\"Line\",\"id\":\"6f897ac0-ff26-4519-c5f3-08c00d0b87cd\"},\"selection_glyph\":null,\"id\":\"13820127-d537-41f7-c15d-06b0f3819c39\",\"tags\":[]}},{\"id\":\"d161191c-007f-4c6b-cc08-aae107767589\",\"type\":\"ColumnDataSource\",\"attributes\":{\"data\":{\"y\":[90.155,86.506666666667,83.91,79.778,75.396666666667,71.328571428571,66.24125,60.996666666667],\"x\":[2,3,4,5,6,7,8,9]},\"column_names\":[\"y\",\"x\"],\"cont_ranges\":{},\"discrete_ranges\":{},\"selected\":[],\"id\":\"d161191c-007f-4c6b-cc08-aae107767589\",\"doc\":null,\"tags\":[]}},{\"id\":\"8524d7ff-26bb-47ea-c79d-84963ca7d69f\",\"type\":\"Line\",\"attributes\":{\"fill_alpha\":{\"units\":\"data\",\"value\":0.2},\"line_alpha\":{\"units\":\"data\",\"value\":1},\"doc\":null,\"size\":{\"units\":\"screen\",\"value\":10},\"fill_color\":{\"value\":\"blue\"},\"line_color\":{\"value\":\"blue\"},\"x\":{\"units\":\"data\",\"field\":\"x\"},\"id\":\"8524d7ff-26bb-47ea-c79d-84963ca7d69f\",\"y\":{\"units\":\"data\",\"field\":\"y\"},\"tags\":[]}},{\"id\":\"c1508e7a-feda-48bc-c844-99fecdf5c70f\",\"type\":\"Line\",\"attributes\":{\"fill_alpha\":{\"units\":\"data\",\"value\":0.2},\"line_alpha\":{\"units\":\"data\",\"value\":1},\"doc\":null,\"size\":{\"units\":\"screen\",\"value\":10},\"fill_color\":{\"value\":\"blue\"},\"line_color\":{\"value\":\"blue\"},\"x\":{\"units\":\"data\",\"field\":\"x\"},\"id\":\"c1508e7a-feda-48bc-c844-99fecdf5c70f\",\"y\":{\"units\":\"data\",\"field\":\"y\"},\"tags\":[]}},{\"id\":\"a4f4fb32-1312-428a-c2e8-29e420e2b269\",\"type\":\"GlyphRenderer\",\"attributes\":{\"name\":null,\"nonselection_glyph\":{\"type\":\"Line\",\"id\":\"c1508e7a-feda-48bc-c844-99fecdf5c70f\"},\"doc\":null,\"server_data_source\":null,\"data_source\":{\"type\":\"ColumnDataSource\",\"id\":\"d161191c-007f-4c6b-cc08-aae107767589\"},\"glyph\":{\"type\":\"Line\",\"id\":\"8524d7ff-26bb-47ea-c79d-84963ca7d69f\"},\"selection_glyph\":null,\"id\":\"a4f4fb32-1312-428a-c2e8-29e420e2b269\",\"tags\":[]}},{\"id\":\"dcd352b8-9937-48fe-c868-47a33fb5b08a\",\"type\":\"ColumnDataSource\",\"attributes\":{\"data\":{\"y\":[89.89,86.503333333333,83.8175,81.914,78.996666666667,76.324285714286,73.16125,70.3],\"x\":[2,3,4,5,6,7,8,9]},\"column_names\":[\"y\",\"x\"],\"cont_ranges\":{},\"discrete_ranges\":{},\"selected\":[],\"id\":\"dcd352b8-9937-48fe-c868-47a33fb5b08a\",\"doc\":null,\"tags\":[]}},{\"id\":\"e902e374-54d6-4bf9-cbd0-3c7392f8cfd2\",\"type\":\"Line\",\"attributes\":{\"fill_alpha\":{\"units\":\"data\",\"value\":0.2},\"line_alpha\":{\"units\":\"data\",\"value\":1},\"doc\":null,\"size\":{\"units\":\"screen\",\"value\":10},\"fill_color\":{\"value\":\"green\"},\"line_color\":{\"value\":\"green\"},\"x\":{\"units\":\"data\",\"field\":\"x\"},\"id\":\"e902e374-54d6-4bf9-cbd0-3c7392f8cfd2\",\"y\":{\"units\":\"data\",\"field\":\"y\"},\"tags\":[]}},{\"id\":\"81419d63-6947-4acb-caaf-63392739379b\",\"type\":\"Line\",\"attributes\":{\"fill_alpha\":{\"units\":\"data\",\"value\":0.2},\"line_alpha\":{\"units\":\"data\",\"value\":1},\"doc\":null,\"size\":{\"units\":\"screen\",\"value\":10},\"fill_color\":{\"value\":\"green\"},\"line_color\":{\"value\":\"green\"},\"x\":{\"units\":\"data\",\"field\":\"x\"},\"id\":\"81419d63-6947-4acb-caaf-63392739379b\",\"y\":{\"units\":\"data\",\"field\":\"y\"},\"tags\":[]}},{\"id\":\"9867469d-da41-4cfb-cc4e-312fe9f17017\",\"type\":\"GlyphRenderer\",\"attributes\":{\"name\":null,\"nonselection_glyph\":{\"type\":\"Line\",\"id\":\"81419d63-6947-4acb-caaf-63392739379b\"},\"doc\":null,\"server_data_source\":null,\"data_source\":{\"type\":\"ColumnDataSource\",\"id\":\"dcd352b8-9937-48fe-c868-47a33fb5b08a\"},\"glyph\":{\"type\":\"Line\",\"id\":\"e902e374-54d6-4bf9-cbd0-3c7392f8cfd2\"},\"selection_glyph\":null,\"id\":\"9867469d-da41-4cfb-cc4e-312fe9f17017\",\"tags\":[]}},{\"id\":\"d52203c1-2943-4c80-cce8-0b3e4df41f7c\",\"type\":\"DataRange1d\",\"attributes\":{\"sources\":[{\"columns\":[\"x\"],\"source\":{\"type\":\"ColumnDataSource\",\"id\":\"3b6f28be-87f8-41e7-c1f7-4faf32e3fce3\"}},{\"columns\":[\"x\"],\"source\":{\"type\":\"ColumnDataSource\",\"id\":\"d161191c-007f-4c6b-cc08-aae107767589\"}},{\"columns\":[\"x\"],\"source\":{\"type\":\"ColumnDataSource\",\"id\":\"dcd352b8-9937-48fe-c868-47a33fb5b08a\"}}],\"id\":\"d52203c1-2943-4c80-cce8-0b3e4df41f7c\",\"tags\":[],\"doc\":null}},{\"id\":\"0732af29-3486-49d8-c95d-796ef11efdd2\",\"type\":\"DataRange1d\",\"attributes\":{\"sources\":[{\"columns\":[\"y\"],\"source\":{\"type\":\"ColumnDataSource\",\"id\":\"3b6f28be-87f8-41e7-c1f7-4faf32e3fce3\"}},{\"columns\":[\"y\"],\"source\":{\"type\":\"ColumnDataSource\",\"id\":\"d161191c-007f-4c6b-cc08-aae107767589\"}},{\"columns\":[\"y\"],\"source\":{\"type\":\"ColumnDataSource\",\"id\":\"dcd352b8-9937-48fe-c868-47a33fb5b08a\"}}],\"id\":\"0732af29-3486-49d8-c95d-796ef11efdd2\",\"tags\":[],\"doc\":null}},{\"id\":\"5069d814-9de0-4e7b-ce2e-1a58addf0f3d\",\"type\":\"ToolEvents\",\"attributes\":{\"tags\":[],\"id\":\"5069d814-9de0-4e7b-ce2e-1a58addf0f3d\",\"geometries\":[],\"doc\":null}},{\"id\":\"781e61de-04f2-44ea-c4b8-660d77c0a271\",\"type\":\"BasicTickFormatter\",\"attributes\":{\"id\":\"781e61de-04f2-44ea-c4b8-660d77c0a271\",\"tags\":[],\"doc\":null}},{\"id\":\"089613ab-625d-4bba-cbe6-a7e427dc751e\",\"type\":\"BasicTicker\",\"attributes\":{\"num_minor_ticks\":5,\"id\":\"089613ab-625d-4bba-cbe6-a7e427dc751e\",\"tags\":[],\"doc\":null}},{\"id\":\"a814a037-df3e-4d85-cdc0-eb7f186fd97c\",\"type\":\"LinearAxis\",\"attributes\":{\"formatter\":{\"type\":\"BasicTickFormatter\",\"id\":\"781e61de-04f2-44ea-c4b8-660d77c0a271\"},\"ticker\":{\"type\":\"BasicTicker\",\"id\":\"089613ab-625d-4bba-cbe6-a7e427dc751e\"},\"plot\":{\"id\":\"003a2821-2281-4bb6-cb26-fed19c8bdf36\",\"type\":\"Plot\",\"subtype\":\"Figure\"},\"axis_label\":\"Episode Length\",\"id\":\"a814a037-df3e-4d85-cdc0-eb7f186fd97c\",\"doc\":null,\"tags\":[]}},{\"id\":\"7b228708-fb04-4176-c1ce-304bc3855d10\",\"type\":\"Grid\",\"attributes\":{\"dimension\":0,\"plot\":{\"id\":\"003a2821-2281-4bb6-cb26-fed19c8bdf36\",\"type\":\"Plot\",\"subtype\":\"Figure\"},\"ticker\":{\"type\":\"BasicTicker\",\"id\":\"089613ab-625d-4bba-cbe6-a7e427dc751e\"},\"id\":\"7b228708-fb04-4176-c1ce-304bc3855d10\",\"doc\":null,\"tags\":[]}},{\"id\":\"7f26662f-9866-430e-c3cb-5a97b8db7579\",\"type\":\"BasicTickFormatter\",\"attributes\":{\"id\":\"7f26662f-9866-430e-c3cb-5a97b8db7579\",\"tags\":[],\"doc\":null}},{\"id\":\"576cd5e0-b854-47c7-c7aa-6667e860a3bc\",\"type\":\"BasicTicker\",\"attributes\":{\"num_minor_ticks\":5,\"id\":\"576cd5e0-b854-47c7-c7aa-6667e860a3bc\",\"tags\":[],\"doc\":null}},{\"id\":\"3fa8ca6a-0825-414d-c166-dadcf7638543\",\"type\":\"LinearAxis\",\"attributes\":{\"formatter\":{\"type\":\"BasicTickFormatter\",\"id\":\"7f26662f-9866-430e-c3cb-5a97b8db7579\"},\"ticker\":{\"type\":\"BasicTicker\",\"id\":\"576cd5e0-b854-47c7-c7aa-6667e860a3bc\"},\"plot\":{\"id\":\"003a2821-2281-4bb6-cb26-fed19c8bdf36\",\"type\":\"Plot\",\"subtype\":\"Figure\"},\"axis_label\":\"Test Accuracy\",\"id\":\"3fa8ca6a-0825-414d-c166-dadcf7638543\",\"doc\":null,\"tags\":[]}},{\"id\":\"e2d133b7-7f3c-409d-c09f-134ef0db5ace\",\"type\":\"Grid\",\"attributes\":{\"dimension\":1,\"plot\":{\"id\":\"003a2821-2281-4bb6-cb26-fed19c8bdf36\",\"type\":\"Plot\",\"subtype\":\"Figure\"},\"ticker\":{\"type\":\"BasicTicker\",\"id\":\"576cd5e0-b854-47c7-c7aa-6667e860a3bc\"},\"id\":\"e2d133b7-7f3c-409d-c09f-134ef0db5ace\",\"doc\":null,\"tags\":[]}},{\"id\":\"e6861527-5d16-4a3c-ca77-74299ba4e55f\",\"type\":\"PanTool\",\"attributes\":{\"plot\":{\"id\":\"003a2821-2281-4bb6-cb26-fed19c8bdf36\",\"type\":\"Plot\",\"subtype\":\"Figure\"},\"dimensions\":[\"width\",\"height\"],\"id\":\"e6861527-5d16-4a3c-ca77-74299ba4e55f\",\"doc\":null,\"tags\":[]}},{\"id\":\"8dcd2416-16f4-4dd1-cd0f-ec1a0a229ed9\",\"type\":\"WheelZoomTool\",\"attributes\":{\"plot\":{\"id\":\"003a2821-2281-4bb6-cb26-fed19c8bdf36\",\"type\":\"Plot\",\"subtype\":\"Figure\"},\"dimensions\":[\"width\",\"height\"],\"id\":\"8dcd2416-16f4-4dd1-cd0f-ec1a0a229ed9\",\"doc\":null,\"tags\":[]}},{\"id\":\"c7e78af2-5429-4dab-cd62-44103d0384dd\",\"type\":\"BoxZoomTool\",\"attributes\":{\"plot\":{\"id\":\"003a2821-2281-4bb6-cb26-fed19c8bdf36\",\"type\":\"Plot\",\"subtype\":\"Figure\"},\"id\":\"c7e78af2-5429-4dab-cd62-44103d0384dd\",\"tags\":[],\"doc\":null}},{\"id\":\"cd4dc240-48a7-486b-c8d3-f41d24013f2d\",\"type\":\"PreviewSaveTool\",\"attributes\":{\"plot\":{\"id\":\"003a2821-2281-4bb6-cb26-fed19c8bdf36\",\"type\":\"Plot\",\"subtype\":\"Figure\"},\"id\":\"cd4dc240-48a7-486b-c8d3-f41d24013f2d\",\"tags\":[],\"doc\":null}},{\"id\":\"39eadd4a-b76a-4a44-caec-ddddaeaf56de\",\"type\":\"ResizeTool\",\"attributes\":{\"plot\":{\"id\":\"003a2821-2281-4bb6-cb26-fed19c8bdf36\",\"type\":\"Plot\",\"subtype\":\"Figure\"},\"id\":\"39eadd4a-b76a-4a44-caec-ddddaeaf56de\",\"tags\":[],\"doc\":null}},{\"id\":\"d9280e83-33bc-4c07-cc82-d5f4e65c802c\",\"type\":\"ResetTool\",\"attributes\":{\"plot\":{\"id\":\"003a2821-2281-4bb6-cb26-fed19c8bdf36\",\"type\":\"Plot\",\"subtype\":\"Figure\"},\"id\":\"d9280e83-33bc-4c07-cc82-d5f4e65c802c\",\"tags\":[],\"doc\":null}},{\"id\":\"3822fa51-ca21-41f1-c105-3bd1aaed4f4b\",\"type\":\"Legend\",\"attributes\":{\"plot\":{\"id\":\"003a2821-2281-4bb6-cb26-fed19c8bdf36\",\"type\":\"Plot\",\"subtype\":\"Figure\"},\"legends\":[[\"Fully Connected\",[{\"type\":\"GlyphRenderer\",\"id\":\"13820127-d537-41f7-c15d-06b0f3819c39\"}]],[\"RNN\",[{\"type\":\"GlyphRenderer\",\"id\":\"a4f4fb32-1312-428a-c2e8-29e420e2b269\"}]],[\"LSTM\",[{\"type\":\"GlyphRenderer\",\"id\":\"9867469d-da41-4cfb-cc4e-312fe9f17017\"}]]],\"id\":\"3822fa51-ca21-41f1-c105-3bd1aaed4f4b\",\"doc\":null,\"tags\":[]}},{\"id\":\"003a2821-2281-4bb6-cb26-fed19c8bdf36\",\"type\":\"Plot\",\"attributes\":{\"x_range\":{\"type\":\"DataRange1d\",\"id\":\"d52203c1-2943-4c80-cce8-0b3e4df41f7c\"},\"tool_events\":{\"type\":\"ToolEvents\",\"id\":\"5069d814-9de0-4e7b-ce2e-1a58addf0f3d\"},\"below\":[{\"type\":\"LinearAxis\",\"id\":\"a814a037-df3e-4d85-cdc0-eb7f186fd97c\"}],\"renderers\":[{\"type\":\"GlyphRenderer\",\"id\":\"13820127-d537-41f7-c15d-06b0f3819c39\"},{\"type\":\"GlyphRenderer\",\"id\":\"a4f4fb32-1312-428a-c2e8-29e420e2b269\"},{\"type\":\"GlyphRenderer\",\"id\":\"9867469d-da41-4cfb-cc4e-312fe9f17017\"},{\"type\":\"LinearAxis\",\"id\":\"a814a037-df3e-4d85-cdc0-eb7f186fd97c\"},{\"type\":\"Grid\",\"id\":\"7b228708-fb04-4176-c1ce-304bc3855d10\"},{\"type\":\"LinearAxis\",\"id\":\"3fa8ca6a-0825-414d-c166-dadcf7638543\"},{\"type\":\"Grid\",\"id\":\"e2d133b7-7f3c-409d-c09f-134ef0db5ace\"},{\"type\":\"Legend\",\"id\":\"3822fa51-ca21-41f1-c105-3bd1aaed4f4b\"}],\"above\":[],\"tools\":[{\"type\":\"PanTool\",\"id\":\"e6861527-5d16-4a3c-ca77-74299ba4e55f\"},{\"type\":\"WheelZoomTool\",\"id\":\"8dcd2416-16f4-4dd1-cd0f-ec1a0a229ed9\"},{\"type\":\"BoxZoomTool\",\"id\":\"c7e78af2-5429-4dab-cd62-44103d0384dd\"},{\"type\":\"PreviewSaveTool\",\"id\":\"cd4dc240-48a7-486b-c8d3-f41d24013f2d\"},{\"type\":\"ResizeTool\",\"id\":\"39eadd4a-b76a-4a44-caec-ddddaeaf56de\"},{\"type\":\"ResetTool\",\"id\":\"d9280e83-33bc-4c07-cc82-d5f4e65c802c\"}],\"doc\":null,\"right\":[],\"title\":\"Test accuracy (50000 episodes)\",\"extra_x_ranges\":{},\"left\":[{\"type\":\"LinearAxis\",\"id\":\"3fa8ca6a-0825-414d-c166-dadcf7638543\"}],\"y_range\":{\"type\":\"DataRange1d\",\"id\":\"0732af29-3486-49d8-c95d-796ef11efdd2\"},\"id\":\"003a2821-2281-4bb6-cb26-fed19c8bdf36\",\"extra_y_ranges\":{},\"tags\":[]}}];\n",
       "      Bokeh.load_models(all_models);\n",
       "      var model = Bokeh.Collections(modeltype).get(modelid);\n",
       "      $(\"#8f197c3f-2586-4ae7-ca67-5ee7f74f9199\").html(''); // clear any previous plot in window_id\n",
       "      var view = new model.default_view({model: model, el: \"#8f197c3f-2586-4ae7-ca67-5ee7f74f9199\"});\n",
       "  });\n",
       "    }\n",
       "});\n",
       "</script>\n",
       "<div class=\"plotdiv\" id=\"8f197c3f-2586-4ae7-ca67-5ee7f74f9199\"></div>\n"
      ]
     },
     "metadata": {},
     "output_type": "display_data"
    }
   ],
   "source": [
    "-- Test accuracy plot\n",
    "plot = itorch.Plot()\n",
    "x = torch.range(2, 9)\n",
    "full_y = torch.Tensor(8)\n",
    "rnn_y = torch.Tensor(8)\n",
    "lstm_y = torch.Tensor(8)\n",
    "for i=2,9 do\n",
    "    name = string.format('models_%d_full/rubiks_best', i)\n",
    "    full_y[i-1] = best_results[name].test_acc\n",
    "    name = string.format('models_%d_rnn/rubiks_best', i)\n",
    "    rnn_y[i-1] = best_results[name].test_acc\n",
    "    name = string.format('models_%d_lstm/rubiks_best', i)\n",
    "    lstm_y[i-1] = best_results[name].test_acc\n",
    "end\n",
    "\n",
    "plot:xaxis('Episode Length'):yaxis('Test Accuracy')\n",
    "plot:title('Test accuracy (50000 episodes)')\n",
    "plot:line(x, full_y, 'red', 'Fully Connected')\n",
    "plot:line(x, rnn_y, 'blue', 'RNN')\n",
    "plot:line(x, lstm_y, 'green', 'LSTM')\n",
    "plot:legend(true)\n",
    "plot:draw()"
   ]
  },
  {
   "cell_type": "code",
   "execution_count": null,
   "metadata": {
    "collapsed": true
   },
   "outputs": [],
   "source": []
  }
 ],
 "metadata": {
  "kernelspec": {
   "display_name": "iTorch",
   "language": "lua",
   "name": "itorch"
  },
  "language_info": {
   "name": "lua",
   "version": "20100"
  }
 },
 "nbformat": 4,
 "nbformat_minor": 0
}
