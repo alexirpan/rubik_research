{
 "cells": [
  {
   "cell_type": "code",
   "execution_count": 1,
   "metadata": {
    "collapsed": false
   },
   "outputs": [],
   "source": [
    "require 'rnn'\n",
    "require 'itorch.Plot'"
   ]
  },
  {
   "cell_type": "code",
   "execution_count": 2,
   "metadata": {
    "collapsed": false
   },
   "outputs": [
    {
     "data": {
      "text/plain": [
       "models_2_full/rubiks_best\tloaded\t\n"
      ]
     },
     "execution_count": 2,
     "metadata": {},
     "output_type": "execute_result"
    },
    {
     "data": {
      "text/plain": [
       "models_2_lstm/rubiks_best\tloaded\t\n"
      ]
     },
     "execution_count": 2,
     "metadata": {},
     "output_type": "execute_result"
    },
    {
     "data": {
      "text/plain": [
       "models_2_rnn/rubiks_best\tloaded\t\n"
      ]
     },
     "execution_count": 2,
     "metadata": {},
     "output_type": "execute_result"
    },
    {
     "data": {
      "text/plain": [
       "models_2_fulltwo/rubiks_best\tloaded\t\n"
      ]
     },
     "execution_count": 2,
     "metadata": {},
     "output_type": "execute_result"
    },
    {
     "data": {
      "text/plain": [
       "models_3_full/rubiks_best\tloaded\t\n"
      ]
     },
     "execution_count": 2,
     "metadata": {},
     "output_type": "execute_result"
    },
    {
     "data": {
      "text/plain": [
       "models_3_lstm/rubiks_best\tloaded\t\n"
      ]
     },
     "execution_count": 2,
     "metadata": {},
     "output_type": "execute_result"
    },
    {
     "data": {
      "text/plain": [
       "models_3_rnn/rubiks_best\tloaded\t\n"
      ]
     },
     "execution_count": 2,
     "metadata": {},
     "output_type": "execute_result"
    },
    {
     "data": {
      "text/plain": [
       "models_3_fulltwo/rubiks_best\tloaded\t\n"
      ]
     },
     "execution_count": 2,
     "metadata": {},
     "output_type": "execute_result"
    },
    {
     "data": {
      "text/plain": [
       "models_4_full/rubiks_best\tloaded\t\n"
      ]
     },
     "execution_count": 2,
     "metadata": {},
     "output_type": "execute_result"
    },
    {
     "data": {
      "text/plain": [
       "models_4_lstm/rubiks_best\tloaded\t\n"
      ]
     },
     "execution_count": 2,
     "metadata": {},
     "output_type": "execute_result"
    },
    {
     "data": {
      "text/plain": [
       "models_4_rnn/rubiks_best\tloaded\t\n"
      ]
     },
     "execution_count": 2,
     "metadata": {},
     "output_type": "execute_result"
    },
    {
     "data": {
      "text/plain": [
       "models_4_fulltwo/rubiks_best\tloaded\t\n"
      ]
     },
     "execution_count": 2,
     "metadata": {},
     "output_type": "execute_result"
    },
    {
     "data": {
      "text/plain": [
       "models_5_full/rubiks_best\tloaded\t\n"
      ]
     },
     "execution_count": 2,
     "metadata": {},
     "output_type": "execute_result"
    },
    {
     "data": {
      "text/plain": [
       "models_5_lstm/rubiks_best\tloaded\t\n"
      ]
     },
     "execution_count": 2,
     "metadata": {},
     "output_type": "execute_result"
    },
    {
     "data": {
      "text/plain": [
       "models_5_rnn/rubiks_best\tloaded\t\n"
      ]
     },
     "execution_count": 2,
     "metadata": {},
     "output_type": "execute_result"
    },
    {
     "data": {
      "text/plain": [
       "models_5_fulltwo/rubiks_best\tloaded\t\n"
      ]
     },
     "execution_count": 2,
     "metadata": {},
     "output_type": "execute_result"
    },
    {
     "data": {
      "text/plain": [
       "models_6_full/rubiks_best\tloaded\t\n"
      ]
     },
     "execution_count": 2,
     "metadata": {},
     "output_type": "execute_result"
    },
    {
     "data": {
      "text/plain": [
       "models_6_lstm/rubiks_best\tloaded\t\n"
      ]
     },
     "execution_count": 2,
     "metadata": {},
     "output_type": "execute_result"
    },
    {
     "data": {
      "text/plain": [
       "models_6_rnn/rubiks_best\tloaded\t\n"
      ]
     },
     "execution_count": 2,
     "metadata": {},
     "output_type": "execute_result"
    },
    {
     "data": {
      "text/plain": [
       "models_6_fulltwo/rubiks_best\tloaded\t\n"
      ]
     },
     "execution_count": 2,
     "metadata": {},
     "output_type": "execute_result"
    },
    {
     "data": {
      "text/plain": [
       "models_7_full/rubiks_best\tloaded\t\n"
      ]
     },
     "execution_count": 2,
     "metadata": {},
     "output_type": "execute_result"
    },
    {
     "data": {
      "text/plain": [
       "models_7_lstm/rubiks_best\tloaded\t\n"
      ]
     },
     "execution_count": 2,
     "metadata": {},
     "output_type": "execute_result"
    },
    {
     "data": {
      "text/plain": [
       "models_7_rnn/rubiks_best\tloaded\t\n"
      ]
     },
     "execution_count": 2,
     "metadata": {},
     "output_type": "execute_result"
    },
    {
     "data": {
      "text/plain": [
       "models_7_fulltwo/rubiks_best\tloaded\t\n"
      ]
     },
     "execution_count": 2,
     "metadata": {},
     "output_type": "execute_result"
    },
    {
     "data": {
      "text/plain": [
       "models_8_full/rubiks_best\tloaded\t\n"
      ]
     },
     "execution_count": 2,
     "metadata": {},
     "output_type": "execute_result"
    },
    {
     "data": {
      "text/plain": [
       "models_8_lstm/rubiks_best\tloaded\t\n"
      ]
     },
     "execution_count": 2,
     "metadata": {},
     "output_type": "execute_result"
    },
    {
     "data": {
      "text/plain": [
       "models_8_rnn/rubiks_best\tloaded\t\n"
      ]
     },
     "execution_count": 2,
     "metadata": {},
     "output_type": "execute_result"
    },
    {
     "data": {
      "text/plain": [
       "models_8_fulltwo/rubiks_best\tloaded\t\n"
      ]
     },
     "execution_count": 2,
     "metadata": {},
     "output_type": "execute_result"
    },
    {
     "data": {
      "text/plain": [
       "models_9_full/rubiks_best\tloaded\t\n"
      ]
     },
     "execution_count": 2,
     "metadata": {},
     "output_type": "execute_result"
    },
    {
     "data": {
      "text/plain": [
       "models_9_lstm/rubiks_best\tloaded\t\n"
      ]
     },
     "execution_count": 2,
     "metadata": {},
     "output_type": "execute_result"
    },
    {
     "data": {
      "text/plain": [
       "models_9_rnn/rubiks_best\tloaded\t\n"
      ]
     },
     "execution_count": 2,
     "metadata": {},
     "output_type": "execute_result"
    },
    {
     "data": {
      "text/plain": [
       "models_9_fulltwo/rubiks_best\tloaded\t\n"
      ]
     },
     "execution_count": 2,
     "metadata": {},
     "output_type": "execute_result"
    }
   ],
   "source": [
    "-- TODO something less hardcoded\n",
    "filenames = {}\n",
    "for i=2,9 do\n",
    "    for _, typ in ipairs({'full', 'lstm', 'rnn', 'fulltwo'}) do\n",
    "        table.insert(filenames, string.format('models_%d_%s/rubiks_best', i, typ))\n",
    "    end\n",
    "end\n",
    "\n",
    "best_results = {}\n",
    "for _, name in ipairs(filenames) do\n",
    "    best_results[name] = torch.load(name, 'ascii')\n",
    "    print(name, 'loaded')\n",
    "end"
   ]
  },
  {
   "cell_type": "code",
   "execution_count": 4,
   "metadata": {
    "collapsed": false
   },
   "outputs": [
    {
     "data": {
      "text/html": [
       "<script type=\"text/javascript\">\n",
       "$(function() {\n",
       "    if (typeof (window._bokeh_onload_callbacks) === \"undefined\"){\n",
       "  window._bokeh_onload_callbacks = [];\n",
       "    }\n",
       "    function load_lib(url, callback){\n",
       "  window._bokeh_onload_callbacks.push(callback);\n",
       "  if (window._bokeh_is_loading){\n",
       "      console.log(\"Bokeh: BokehJS is being loaded, scheduling callback at\", new Date());\n",
       "      return null;\n",
       "  }\n",
       "  console.log(\"Bokeh: BokehJS not loaded, scheduling load and callback at\", new Date());\n",
       "  window._bokeh_is_loading = true;\n",
       "  var s = document.createElement('script');\n",
       "  s.src = url;\n",
       "  s.async = true;\n",
       "  s.onreadystatechange = s.onload = function(){\n",
       "      Bokeh.embed.inject_css(\"http://cdn.pydata.org/bokeh-0.7.0.min.css\");\n",
       "      window._bokeh_onload_callbacks.forEach(function(callback){callback()});\n",
       "  };\n",
       "  s.onerror = function(){\n",
       "      console.warn(\"failed to load library \" + url);\n",
       "  };\n",
       "  document.getElementsByTagName(\"head\")[0].appendChild(s);\n",
       "    }\n",
       "\n",
       "    bokehjs_url = \"http://cdn.pydata.org/bokeh-0.7.0.min.js\"\n",
       "\n",
       "    var elt = document.getElementById(\"bb1614d0-945b-49bc-c939-478134e839e5\");\n",
       "    if(elt==null) {\n",
       "  console.log(\"Bokeh: ERROR: autoload.js configured with elementid 'bb1614d0-945b-49bc-c939-478134e839e5'\"\n",
       "        + \"but no matching script tag was found. \")\n",
       "  return false;\n",
       "    }\n",
       "\n",
       "    if(typeof(Bokeh) !== \"undefined\") {\n",
       "  console.log(\"Bokeh: BokehJS loaded, going straight to plotting\");\n",
       "  var modelid = \"3341b4ae-cbb7-4b06-cb09-af6b68284b67\";\n",
       "  var modeltype = \"Plot\";\n",
       "  var all_models = [{\"id\":\"4790005a-184c-44cd-c430-d44d8e4487c9\",\"type\":\"ColumnDataSource\",\"attributes\":{\"data\":{\"y\":[90.034,86.182,84.4405,82.2324,78.751666666667,74.732285714286,71.179,66.468888888889],\"x\":[2,3,4,5,6,7,8,9]},\"column_names\":[\"y\",\"x\"],\"cont_ranges\":{},\"discrete_ranges\":{},\"selected\":[],\"id\":\"4790005a-184c-44cd-c430-d44d8e4487c9\",\"doc\":null,\"tags\":[]}},{\"id\":\"851d1b8b-11ef-4d4f-cd56-15c4c5291a50\",\"type\":\"Line\",\"attributes\":{\"fill_alpha\":{\"units\":\"data\",\"value\":0.2},\"line_alpha\":{\"units\":\"data\",\"value\":1},\"doc\":null,\"size\":{\"units\":\"screen\",\"value\":10},\"fill_color\":{\"value\":\"red\"},\"line_color\":{\"value\":\"red\"},\"x\":{\"units\":\"data\",\"field\":\"x\"},\"id\":\"851d1b8b-11ef-4d4f-cd56-15c4c5291a50\",\"y\":{\"units\":\"data\",\"field\":\"y\"},\"tags\":[]}},{\"id\":\"edb83bf6-05e3-44b6-c4a2-4de8e78dc2eb\",\"type\":\"Line\",\"attributes\":{\"fill_alpha\":{\"units\":\"data\",\"value\":0.2},\"line_alpha\":{\"units\":\"data\",\"value\":1},\"doc\":null,\"size\":{\"units\":\"screen\",\"value\":10},\"fill_color\":{\"value\":\"red\"},\"line_color\":{\"value\":\"red\"},\"x\":{\"units\":\"data\",\"field\":\"x\"},\"id\":\"edb83bf6-05e3-44b6-c4a2-4de8e78dc2eb\",\"y\":{\"units\":\"data\",\"field\":\"y\"},\"tags\":[]}},{\"id\":\"9ad64c8d-0dc1-490d-c9da-0dd82bac1e91\",\"type\":\"GlyphRenderer\",\"attributes\":{\"name\":null,\"nonselection_glyph\":{\"type\":\"Line\",\"id\":\"edb83bf6-05e3-44b6-c4a2-4de8e78dc2eb\"},\"doc\":null,\"server_data_source\":null,\"data_source\":{\"type\":\"ColumnDataSource\",\"id\":\"4790005a-184c-44cd-c430-d44d8e4487c9\"},\"glyph\":{\"type\":\"Line\",\"id\":\"851d1b8b-11ef-4d4f-cd56-15c4c5291a50\"},\"selection_glyph\":null,\"id\":\"9ad64c8d-0dc1-490d-c9da-0dd82bac1e91\",\"tags\":[]}},{\"id\":\"88fe02b4-c305-4443-c4bc-51a48e8ab53c\",\"type\":\"ColumnDataSource\",\"attributes\":{\"data\":{\"y\":[89.861,86.428,84.497,83.028,79.319333333333,75.696,70.903,67.666666666667],\"x\":[2,3,4,5,6,7,8,9]},\"column_names\":[\"y\",\"x\"],\"cont_ranges\":{},\"discrete_ranges\":{},\"selected\":[],\"id\":\"88fe02b4-c305-4443-c4bc-51a48e8ab53c\",\"doc\":null,\"tags\":[]}},{\"id\":\"3de3aa81-2bc2-4514-c55b-552a597be5ee\",\"type\":\"Line\",\"attributes\":{\"fill_alpha\":{\"units\":\"data\",\"value\":0.2},\"line_alpha\":{\"units\":\"data\",\"value\":1},\"doc\":null,\"size\":{\"units\":\"screen\",\"value\":10},\"fill_color\":{\"value\":\"pink\"},\"line_color\":{\"value\":\"pink\"},\"x\":{\"units\":\"data\",\"field\":\"x\"},\"id\":\"3de3aa81-2bc2-4514-c55b-552a597be5ee\",\"y\":{\"units\":\"data\",\"field\":\"y\"},\"tags\":[]}},{\"id\":\"30478146-1415-43bc-c354-2f11b7f63741\",\"type\":\"Line\",\"attributes\":{\"fill_alpha\":{\"units\":\"data\",\"value\":0.2},\"line_alpha\":{\"units\":\"data\",\"value\":1},\"doc\":null,\"size\":{\"units\":\"screen\",\"value\":10},\"fill_color\":{\"value\":\"pink\"},\"line_color\":{\"value\":\"pink\"},\"x\":{\"units\":\"data\",\"field\":\"x\"},\"id\":\"30478146-1415-43bc-c354-2f11b7f63741\",\"y\":{\"units\":\"data\",\"field\":\"y\"},\"tags\":[]}},{\"id\":\"67fedde7-77f3-4be4-cbee-f8d7e302e1f3\",\"type\":\"GlyphRenderer\",\"attributes\":{\"name\":null,\"nonselection_glyph\":{\"type\":\"Line\",\"id\":\"30478146-1415-43bc-c354-2f11b7f63741\"},\"doc\":null,\"server_data_source\":null,\"data_source\":{\"type\":\"ColumnDataSource\",\"id\":\"88fe02b4-c305-4443-c4bc-51a48e8ab53c\"},\"glyph\":{\"type\":\"Line\",\"id\":\"3de3aa81-2bc2-4514-c55b-552a597be5ee\"},\"selection_glyph\":null,\"id\":\"67fedde7-77f3-4be4-cbee-f8d7e302e1f3\",\"tags\":[]}},{\"id\":\"bf1c741c-5060-4927-c9b9-07391de6e8a4\",\"type\":\"ColumnDataSource\",\"attributes\":{\"data\":{\"y\":[89.956,86.15,84.2055,80.6276,76.277666666667,71.184857142857,65.6965,60.323555555556],\"x\":[2,3,4,5,6,7,8,9]},\"column_names\":[\"y\",\"x\"],\"cont_ranges\":{},\"discrete_ranges\":{},\"selected\":[],\"id\":\"bf1c741c-5060-4927-c9b9-07391de6e8a4\",\"doc\":null,\"tags\":[]}},{\"id\":\"e4375cef-c895-46d0-c6a9-fab205519e72\",\"type\":\"Line\",\"attributes\":{\"fill_alpha\":{\"units\":\"data\",\"value\":0.2},\"line_alpha\":{\"units\":\"data\",\"value\":1},\"doc\":null,\"size\":{\"units\":\"screen\",\"value\":10},\"fill_color\":{\"value\":\"blue\"},\"line_color\":{\"value\":\"blue\"},\"x\":{\"units\":\"data\",\"field\":\"x\"},\"id\":\"e4375cef-c895-46d0-c6a9-fab205519e72\",\"y\":{\"units\":\"data\",\"field\":\"y\"},\"tags\":[]}},{\"id\":\"648b2e60-e405-4c40-cc5b-fff61141078a\",\"type\":\"Line\",\"attributes\":{\"fill_alpha\":{\"units\":\"data\",\"value\":0.2},\"line_alpha\":{\"units\":\"data\",\"value\":1},\"doc\":null,\"size\":{\"units\":\"screen\",\"value\":10},\"fill_color\":{\"value\":\"blue\"},\"line_color\":{\"value\":\"blue\"},\"x\":{\"units\":\"data\",\"field\":\"x\"},\"id\":\"648b2e60-e405-4c40-cc5b-fff61141078a\",\"y\":{\"units\":\"data\",\"field\":\"y\"},\"tags\":[]}},{\"id\":\"489e075e-014c-4ef5-ce93-ac111bcdfad3\",\"type\":\"GlyphRenderer\",\"attributes\":{\"name\":null,\"nonselection_glyph\":{\"type\":\"Line\",\"id\":\"648b2e60-e405-4c40-cc5b-fff61141078a\"},\"doc\":null,\"server_data_source\":null,\"data_source\":{\"type\":\"ColumnDataSource\",\"id\":\"bf1c741c-5060-4927-c9b9-07391de6e8a4\"},\"glyph\":{\"type\":\"Line\",\"id\":\"e4375cef-c895-46d0-c6a9-fab205519e72\"},\"selection_glyph\":null,\"id\":\"489e075e-014c-4ef5-ce93-ac111bcdfad3\",\"tags\":[]}},{\"id\":\"4323d333-fe4b-47ae-c720-624cf01f3eae\",\"type\":\"ColumnDataSource\",\"attributes\":{\"data\":{\"y\":[89.902,86.501333333333,85.161,83.6448,80.889,78.911714285714,76.08375,72.237555555556],\"x\":[2,3,4,5,6,7,8,9]},\"column_names\":[\"y\",\"x\"],\"cont_ranges\":{},\"discrete_ranges\":{},\"selected\":[],\"id\":\"4323d333-fe4b-47ae-c720-624cf01f3eae\",\"doc\":null,\"tags\":[]}},{\"id\":\"1aa638fb-0aeb-4e45-cebe-45eea8d8a6e4\",\"type\":\"Line\",\"attributes\":{\"fill_alpha\":{\"units\":\"data\",\"value\":0.2},\"line_alpha\":{\"units\":\"data\",\"value\":1},\"doc\":null,\"size\":{\"units\":\"screen\",\"value\":10},\"fill_color\":{\"value\":\"green\"},\"line_color\":{\"value\":\"green\"},\"x\":{\"units\":\"data\",\"field\":\"x\"},\"id\":\"1aa638fb-0aeb-4e45-cebe-45eea8d8a6e4\",\"y\":{\"units\":\"data\",\"field\":\"y\"},\"tags\":[]}},{\"id\":\"a5b6de1d-d2b3-4e39-ce5e-d76a30234d47\",\"type\":\"Line\",\"attributes\":{\"fill_alpha\":{\"units\":\"data\",\"value\":0.2},\"line_alpha\":{\"units\":\"data\",\"value\":1},\"doc\":null,\"size\":{\"units\":\"screen\",\"value\":10},\"fill_color\":{\"value\":\"green\"},\"line_color\":{\"value\":\"green\"},\"x\":{\"units\":\"data\",\"field\":\"x\"},\"id\":\"a5b6de1d-d2b3-4e39-ce5e-d76a30234d47\",\"y\":{\"units\":\"data\",\"field\":\"y\"},\"tags\":[]}},{\"id\":\"d8769ff3-60c1-4be2-cbef-3376017c54e6\",\"type\":\"GlyphRenderer\",\"attributes\":{\"name\":null,\"nonselection_glyph\":{\"type\":\"Line\",\"id\":\"a5b6de1d-d2b3-4e39-ce5e-d76a30234d47\"},\"doc\":null,\"server_data_source\":null,\"data_source\":{\"type\":\"ColumnDataSource\",\"id\":\"4323d333-fe4b-47ae-c720-624cf01f3eae\"},\"glyph\":{\"type\":\"Line\",\"id\":\"1aa638fb-0aeb-4e45-cebe-45eea8d8a6e4\"},\"selection_glyph\":null,\"id\":\"d8769ff3-60c1-4be2-cbef-3376017c54e6\",\"tags\":[]}},{\"id\":\"5cff97a7-73c3-432a-c325-b8d3f3c8984a\",\"type\":\"DataRange1d\",\"attributes\":{\"sources\":[{\"columns\":[\"x\"],\"source\":{\"type\":\"ColumnDataSource\",\"id\":\"4790005a-184c-44cd-c430-d44d8e4487c9\"}},{\"columns\":[\"x\"],\"source\":{\"type\":\"ColumnDataSource\",\"id\":\"88fe02b4-c305-4443-c4bc-51a48e8ab53c\"}},{\"columns\":[\"x\"],\"source\":{\"type\":\"ColumnDataSource\",\"id\":\"bf1c741c-5060-4927-c9b9-07391de6e8a4\"}},{\"columns\":[\"x\"],\"source\":{\"type\":\"ColumnDataSource\",\"id\":\"4323d333-fe4b-47ae-c720-624cf01f3eae\"}}],\"id\":\"5cff97a7-73c3-432a-c325-b8d3f3c8984a\",\"tags\":[],\"doc\":null}},{\"id\":\"8fece7b3-34f4-4a7d-ca00-df339eec392a\",\"type\":\"DataRange1d\",\"attributes\":{\"sources\":[{\"columns\":[\"y\"],\"source\":{\"type\":\"ColumnDataSource\",\"id\":\"4790005a-184c-44cd-c430-d44d8e4487c9\"}},{\"columns\":[\"y\"],\"source\":{\"type\":\"ColumnDataSource\",\"id\":\"88fe02b4-c305-4443-c4bc-51a48e8ab53c\"}},{\"columns\":[\"y\"],\"source\":{\"type\":\"ColumnDataSource\",\"id\":\"bf1c741c-5060-4927-c9b9-07391de6e8a4\"}},{\"columns\":[\"y\"],\"source\":{\"type\":\"ColumnDataSource\",\"id\":\"4323d333-fe4b-47ae-c720-624cf01f3eae\"}}],\"id\":\"8fece7b3-34f4-4a7d-ca00-df339eec392a\",\"tags\":[],\"doc\":null}},{\"id\":\"51b3bdeb-9054-46ac-c68b-ae4a6f851315\",\"type\":\"ToolEvents\",\"attributes\":{\"tags\":[],\"id\":\"51b3bdeb-9054-46ac-c68b-ae4a6f851315\",\"geometries\":[],\"doc\":null}},{\"id\":\"4e5f4750-9a88-4fca-cf9f-cd4ce3b7a203\",\"type\":\"BasicTickFormatter\",\"attributes\":{\"id\":\"4e5f4750-9a88-4fca-cf9f-cd4ce3b7a203\",\"tags\":[],\"doc\":null}},{\"id\":\"49fd7e0a-99e4-42c9-c230-569e198fd904\",\"type\":\"BasicTicker\",\"attributes\":{\"num_minor_ticks\":5,\"id\":\"49fd7e0a-99e4-42c9-c230-569e198fd904\",\"tags\":[],\"doc\":null}},{\"id\":\"71c762a4-7339-4c46-cc34-a9cde1830045\",\"type\":\"LinearAxis\",\"attributes\":{\"formatter\":{\"type\":\"BasicTickFormatter\",\"id\":\"4e5f4750-9a88-4fca-cf9f-cd4ce3b7a203\"},\"ticker\":{\"type\":\"BasicTicker\",\"id\":\"49fd7e0a-99e4-42c9-c230-569e198fd904\"},\"plot\":{\"id\":\"3341b4ae-cbb7-4b06-cb09-af6b68284b67\",\"type\":\"Plot\",\"subtype\":\"Figure\"},\"axis_label\":\"Episode Length\",\"id\":\"71c762a4-7339-4c46-cc34-a9cde1830045\",\"doc\":null,\"tags\":[]}},{\"id\":\"c743e878-2950-4f7e-cfc8-7835840a558a\",\"type\":\"Grid\",\"attributes\":{\"dimension\":0,\"plot\":{\"id\":\"3341b4ae-cbb7-4b06-cb09-af6b68284b67\",\"type\":\"Plot\",\"subtype\":\"Figure\"},\"ticker\":{\"type\":\"BasicTicker\",\"id\":\"49fd7e0a-99e4-42c9-c230-569e198fd904\"},\"id\":\"c743e878-2950-4f7e-cfc8-7835840a558a\",\"doc\":null,\"tags\":[]}},{\"id\":\"80916607-4ec3-4111-c1ce-45221464354c\",\"type\":\"BasicTickFormatter\",\"attributes\":{\"id\":\"80916607-4ec3-4111-c1ce-45221464354c\",\"tags\":[],\"doc\":null}},{\"id\":\"38bd9b0b-8d2c-432c-c33c-6353b5ddd497\",\"type\":\"BasicTicker\",\"attributes\":{\"num_minor_ticks\":5,\"id\":\"38bd9b0b-8d2c-432c-c33c-6353b5ddd497\",\"tags\":[],\"doc\":null}},{\"id\":\"38e71985-908a-4f41-cfdb-a4f2127a8589\",\"type\":\"LinearAxis\",\"attributes\":{\"formatter\":{\"type\":\"BasicTickFormatter\",\"id\":\"80916607-4ec3-4111-c1ce-45221464354c\"},\"ticker\":{\"type\":\"BasicTicker\",\"id\":\"38bd9b0b-8d2c-432c-c33c-6353b5ddd497\"},\"plot\":{\"id\":\"3341b4ae-cbb7-4b06-cb09-af6b68284b67\",\"type\":\"Plot\",\"subtype\":\"Figure\"},\"axis_label\":\"Training Accuracy\",\"id\":\"38e71985-908a-4f41-cfdb-a4f2127a8589\",\"doc\":null,\"tags\":[]}},{\"id\":\"fb1c0a8c-3974-4ba7-cb54-d027d9fce98f\",\"type\":\"Grid\",\"attributes\":{\"dimension\":1,\"plot\":{\"id\":\"3341b4ae-cbb7-4b06-cb09-af6b68284b67\",\"type\":\"Plot\",\"subtype\":\"Figure\"},\"ticker\":{\"type\":\"BasicTicker\",\"id\":\"38bd9b0b-8d2c-432c-c33c-6353b5ddd497\"},\"id\":\"fb1c0a8c-3974-4ba7-cb54-d027d9fce98f\",\"doc\":null,\"tags\":[]}},{\"id\":\"3d45818a-b5bc-48e0-c871-129881dfe385\",\"type\":\"PanTool\",\"attributes\":{\"plot\":{\"id\":\"3341b4ae-cbb7-4b06-cb09-af6b68284b67\",\"type\":\"Plot\",\"subtype\":\"Figure\"},\"dimensions\":[\"width\",\"height\"],\"id\":\"3d45818a-b5bc-48e0-c871-129881dfe385\",\"doc\":null,\"tags\":[]}},{\"id\":\"bb20367c-45be-4187-c160-91a65e1b87ee\",\"type\":\"WheelZoomTool\",\"attributes\":{\"plot\":{\"id\":\"3341b4ae-cbb7-4b06-cb09-af6b68284b67\",\"type\":\"Plot\",\"subtype\":\"Figure\"},\"dimensions\":[\"width\",\"height\"],\"id\":\"bb20367c-45be-4187-c160-91a65e1b87ee\",\"doc\":null,\"tags\":[]}},{\"id\":\"75deb4e1-de4b-4277-c2b6-03402a290f7d\",\"type\":\"BoxZoomTool\",\"attributes\":{\"plot\":{\"id\":\"3341b4ae-cbb7-4b06-cb09-af6b68284b67\",\"type\":\"Plot\",\"subtype\":\"Figure\"},\"id\":\"75deb4e1-de4b-4277-c2b6-03402a290f7d\",\"tags\":[],\"doc\":null}},{\"id\":\"c77fc70e-c027-4bdd-cb74-9efe64b30c3f\",\"type\":\"PreviewSaveTool\",\"attributes\":{\"plot\":{\"id\":\"3341b4ae-cbb7-4b06-cb09-af6b68284b67\",\"type\":\"Plot\",\"subtype\":\"Figure\"},\"id\":\"c77fc70e-c027-4bdd-cb74-9efe64b30c3f\",\"tags\":[],\"doc\":null}},{\"id\":\"6761a806-b16f-4d65-cdfb-ac8a32d052d3\",\"type\":\"ResizeTool\",\"attributes\":{\"plot\":{\"id\":\"3341b4ae-cbb7-4b06-cb09-af6b68284b67\",\"type\":\"Plot\",\"subtype\":\"Figure\"},\"id\":\"6761a806-b16f-4d65-cdfb-ac8a32d052d3\",\"tags\":[],\"doc\":null}},{\"id\":\"94195310-aa19-4ca4-ccff-ddd71d30ae2e\",\"type\":\"ResetTool\",\"attributes\":{\"plot\":{\"id\":\"3341b4ae-cbb7-4b06-cb09-af6b68284b67\",\"type\":\"Plot\",\"subtype\":\"Figure\"},\"id\":\"94195310-aa19-4ca4-ccff-ddd71d30ae2e\",\"tags\":[],\"doc\":null}},{\"id\":\"1a51a132-5544-45d0-c517-c7413397c262\",\"type\":\"Legend\",\"attributes\":{\"plot\":{\"id\":\"3341b4ae-cbb7-4b06-cb09-af6b68284b67\",\"type\":\"Plot\",\"subtype\":\"Figure\"},\"legends\":[[\"Fully Connected\",[{\"type\":\"GlyphRenderer\",\"id\":\"9ad64c8d-0dc1-490d-c9da-0dd82bac1e91\"}]],[\"Fully Connected 2\",[{\"type\":\"GlyphRenderer\",\"id\":\"67fedde7-77f3-4be4-cbee-f8d7e302e1f3\"}]],[\"RNN\",[{\"type\":\"GlyphRenderer\",\"id\":\"489e075e-014c-4ef5-ce93-ac111bcdfad3\"}]],[\"LSTM\",[{\"type\":\"GlyphRenderer\",\"id\":\"d8769ff3-60c1-4be2-cbef-3376017c54e6\"}]]],\"id\":\"1a51a132-5544-45d0-c517-c7413397c262\",\"doc\":null,\"tags\":[]}},{\"id\":\"3341b4ae-cbb7-4b06-cb09-af6b68284b67\",\"type\":\"Plot\",\"attributes\":{\"x_range\":{\"type\":\"DataRange1d\",\"id\":\"5cff97a7-73c3-432a-c325-b8d3f3c8984a\"},\"tool_events\":{\"type\":\"ToolEvents\",\"id\":\"51b3bdeb-9054-46ac-c68b-ae4a6f851315\"},\"below\":[{\"type\":\"LinearAxis\",\"id\":\"71c762a4-7339-4c46-cc34-a9cde1830045\"}],\"renderers\":[{\"type\":\"GlyphRenderer\",\"id\":\"9ad64c8d-0dc1-490d-c9da-0dd82bac1e91\"},{\"type\":\"GlyphRenderer\",\"id\":\"67fedde7-77f3-4be4-cbee-f8d7e302e1f3\"},{\"type\":\"GlyphRenderer\",\"id\":\"489e075e-014c-4ef5-ce93-ac111bcdfad3\"},{\"type\":\"GlyphRenderer\",\"id\":\"d8769ff3-60c1-4be2-cbef-3376017c54e6\"},{\"type\":\"LinearAxis\",\"id\":\"71c762a4-7339-4c46-cc34-a9cde1830045\"},{\"type\":\"Grid\",\"id\":\"c743e878-2950-4f7e-cfc8-7835840a558a\"},{\"type\":\"LinearAxis\",\"id\":\"38e71985-908a-4f41-cfdb-a4f2127a8589\"},{\"type\":\"Grid\",\"id\":\"fb1c0a8c-3974-4ba7-cb54-d027d9fce98f\"},{\"type\":\"Legend\",\"id\":\"1a51a132-5544-45d0-c517-c7413397c262\"}],\"above\":[],\"tools\":[{\"type\":\"PanTool\",\"id\":\"3d45818a-b5bc-48e0-c871-129881dfe385\"},{\"type\":\"WheelZoomTool\",\"id\":\"bb20367c-45be-4187-c160-91a65e1b87ee\"},{\"type\":\"BoxZoomTool\",\"id\":\"75deb4e1-de4b-4277-c2b6-03402a290f7d\"},{\"type\":\"PreviewSaveTool\",\"id\":\"c77fc70e-c027-4bdd-cb74-9efe64b30c3f\"},{\"type\":\"ResizeTool\",\"id\":\"6761a806-b16f-4d65-cdfb-ac8a32d052d3\"},{\"type\":\"ResetTool\",\"id\":\"94195310-aa19-4ca4-ccff-ddd71d30ae2e\"}],\"doc\":null,\"right\":[],\"title\":\"Training accuracy (50000 episodes)\",\"extra_x_ranges\":{},\"left\":[{\"type\":\"LinearAxis\",\"id\":\"38e71985-908a-4f41-cfdb-a4f2127a8589\"}],\"y_range\":{\"type\":\"DataRange1d\",\"id\":\"8fece7b3-34f4-4a7d-ca00-df339eec392a\"},\"id\":\"3341b4ae-cbb7-4b06-cb09-af6b68284b67\",\"extra_y_ranges\":{},\"tags\":[]}}];\n",
       "  Bokeh.load_models(all_models);\n",
       "  var model = Bokeh.Collections(modeltype).get(modelid);\n",
       "  $(\"#bb1614d0-945b-49bc-c939-478134e839e5\").html(''); // clear any previous plot in window_id\n",
       "  var view = new model.default_view({model: model, el: \"#bb1614d0-945b-49bc-c939-478134e839e5\"});\n",
       "    } else {\n",
       "  load_lib(bokehjs_url, function() {\n",
       "      console.log(\"Bokeh: BokehJS plotting callback run at\", new Date())\n",
       "      var modelid = \"3341b4ae-cbb7-4b06-cb09-af6b68284b67\";\n",
       "      var modeltype = \"Plot\";\n",
       "      var all_models = [{\"id\":\"4790005a-184c-44cd-c430-d44d8e4487c9\",\"type\":\"ColumnDataSource\",\"attributes\":{\"data\":{\"y\":[90.034,86.182,84.4405,82.2324,78.751666666667,74.732285714286,71.179,66.468888888889],\"x\":[2,3,4,5,6,7,8,9]},\"column_names\":[\"y\",\"x\"],\"cont_ranges\":{},\"discrete_ranges\":{},\"selected\":[],\"id\":\"4790005a-184c-44cd-c430-d44d8e4487c9\",\"doc\":null,\"tags\":[]}},{\"id\":\"851d1b8b-11ef-4d4f-cd56-15c4c5291a50\",\"type\":\"Line\",\"attributes\":{\"fill_alpha\":{\"units\":\"data\",\"value\":0.2},\"line_alpha\":{\"units\":\"data\",\"value\":1},\"doc\":null,\"size\":{\"units\":\"screen\",\"value\":10},\"fill_color\":{\"value\":\"red\"},\"line_color\":{\"value\":\"red\"},\"x\":{\"units\":\"data\",\"field\":\"x\"},\"id\":\"851d1b8b-11ef-4d4f-cd56-15c4c5291a50\",\"y\":{\"units\":\"data\",\"field\":\"y\"},\"tags\":[]}},{\"id\":\"edb83bf6-05e3-44b6-c4a2-4de8e78dc2eb\",\"type\":\"Line\",\"attributes\":{\"fill_alpha\":{\"units\":\"data\",\"value\":0.2},\"line_alpha\":{\"units\":\"data\",\"value\":1},\"doc\":null,\"size\":{\"units\":\"screen\",\"value\":10},\"fill_color\":{\"value\":\"red\"},\"line_color\":{\"value\":\"red\"},\"x\":{\"units\":\"data\",\"field\":\"x\"},\"id\":\"edb83bf6-05e3-44b6-c4a2-4de8e78dc2eb\",\"y\":{\"units\":\"data\",\"field\":\"y\"},\"tags\":[]}},{\"id\":\"9ad64c8d-0dc1-490d-c9da-0dd82bac1e91\",\"type\":\"GlyphRenderer\",\"attributes\":{\"name\":null,\"nonselection_glyph\":{\"type\":\"Line\",\"id\":\"edb83bf6-05e3-44b6-c4a2-4de8e78dc2eb\"},\"doc\":null,\"server_data_source\":null,\"data_source\":{\"type\":\"ColumnDataSource\",\"id\":\"4790005a-184c-44cd-c430-d44d8e4487c9\"},\"glyph\":{\"type\":\"Line\",\"id\":\"851d1b8b-11ef-4d4f-cd56-15c4c5291a50\"},\"selection_glyph\":null,\"id\":\"9ad64c8d-0dc1-490d-c9da-0dd82bac1e91\",\"tags\":[]}},{\"id\":\"88fe02b4-c305-4443-c4bc-51a48e8ab53c\",\"type\":\"ColumnDataSource\",\"attributes\":{\"data\":{\"y\":[89.861,86.428,84.497,83.028,79.319333333333,75.696,70.903,67.666666666667],\"x\":[2,3,4,5,6,7,8,9]},\"column_names\":[\"y\",\"x\"],\"cont_ranges\":{},\"discrete_ranges\":{},\"selected\":[],\"id\":\"88fe02b4-c305-4443-c4bc-51a48e8ab53c\",\"doc\":null,\"tags\":[]}},{\"id\":\"3de3aa81-2bc2-4514-c55b-552a597be5ee\",\"type\":\"Line\",\"attributes\":{\"fill_alpha\":{\"units\":\"data\",\"value\":0.2},\"line_alpha\":{\"units\":\"data\",\"value\":1},\"doc\":null,\"size\":{\"units\":\"screen\",\"value\":10},\"fill_color\":{\"value\":\"pink\"},\"line_color\":{\"value\":\"pink\"},\"x\":{\"units\":\"data\",\"field\":\"x\"},\"id\":\"3de3aa81-2bc2-4514-c55b-552a597be5ee\",\"y\":{\"units\":\"data\",\"field\":\"y\"},\"tags\":[]}},{\"id\":\"30478146-1415-43bc-c354-2f11b7f63741\",\"type\":\"Line\",\"attributes\":{\"fill_alpha\":{\"units\":\"data\",\"value\":0.2},\"line_alpha\":{\"units\":\"data\",\"value\":1},\"doc\":null,\"size\":{\"units\":\"screen\",\"value\":10},\"fill_color\":{\"value\":\"pink\"},\"line_color\":{\"value\":\"pink\"},\"x\":{\"units\":\"data\",\"field\":\"x\"},\"id\":\"30478146-1415-43bc-c354-2f11b7f63741\",\"y\":{\"units\":\"data\",\"field\":\"y\"},\"tags\":[]}},{\"id\":\"67fedde7-77f3-4be4-cbee-f8d7e302e1f3\",\"type\":\"GlyphRenderer\",\"attributes\":{\"name\":null,\"nonselection_glyph\":{\"type\":\"Line\",\"id\":\"30478146-1415-43bc-c354-2f11b7f63741\"},\"doc\":null,\"server_data_source\":null,\"data_source\":{\"type\":\"ColumnDataSource\",\"id\":\"88fe02b4-c305-4443-c4bc-51a48e8ab53c\"},\"glyph\":{\"type\":\"Line\",\"id\":\"3de3aa81-2bc2-4514-c55b-552a597be5ee\"},\"selection_glyph\":null,\"id\":\"67fedde7-77f3-4be4-cbee-f8d7e302e1f3\",\"tags\":[]}},{\"id\":\"bf1c741c-5060-4927-c9b9-07391de6e8a4\",\"type\":\"ColumnDataSource\",\"attributes\":{\"data\":{\"y\":[89.956,86.15,84.2055,80.6276,76.277666666667,71.184857142857,65.6965,60.323555555556],\"x\":[2,3,4,5,6,7,8,9]},\"column_names\":[\"y\",\"x\"],\"cont_ranges\":{},\"discrete_ranges\":{},\"selected\":[],\"id\":\"bf1c741c-5060-4927-c9b9-07391de6e8a4\",\"doc\":null,\"tags\":[]}},{\"id\":\"e4375cef-c895-46d0-c6a9-fab205519e72\",\"type\":\"Line\",\"attributes\":{\"fill_alpha\":{\"units\":\"data\",\"value\":0.2},\"line_alpha\":{\"units\":\"data\",\"value\":1},\"doc\":null,\"size\":{\"units\":\"screen\",\"value\":10},\"fill_color\":{\"value\":\"blue\"},\"line_color\":{\"value\":\"blue\"},\"x\":{\"units\":\"data\",\"field\":\"x\"},\"id\":\"e4375cef-c895-46d0-c6a9-fab205519e72\",\"y\":{\"units\":\"data\",\"field\":\"y\"},\"tags\":[]}},{\"id\":\"648b2e60-e405-4c40-cc5b-fff61141078a\",\"type\":\"Line\",\"attributes\":{\"fill_alpha\":{\"units\":\"data\",\"value\":0.2},\"line_alpha\":{\"units\":\"data\",\"value\":1},\"doc\":null,\"size\":{\"units\":\"screen\",\"value\":10},\"fill_color\":{\"value\":\"blue\"},\"line_color\":{\"value\":\"blue\"},\"x\":{\"units\":\"data\",\"field\":\"x\"},\"id\":\"648b2e60-e405-4c40-cc5b-fff61141078a\",\"y\":{\"units\":\"data\",\"field\":\"y\"},\"tags\":[]}},{\"id\":\"489e075e-014c-4ef5-ce93-ac111bcdfad3\",\"type\":\"GlyphRenderer\",\"attributes\":{\"name\":null,\"nonselection_glyph\":{\"type\":\"Line\",\"id\":\"648b2e60-e405-4c40-cc5b-fff61141078a\"},\"doc\":null,\"server_data_source\":null,\"data_source\":{\"type\":\"ColumnDataSource\",\"id\":\"bf1c741c-5060-4927-c9b9-07391de6e8a4\"},\"glyph\":{\"type\":\"Line\",\"id\":\"e4375cef-c895-46d0-c6a9-fab205519e72\"},\"selection_glyph\":null,\"id\":\"489e075e-014c-4ef5-ce93-ac111bcdfad3\",\"tags\":[]}},{\"id\":\"4323d333-fe4b-47ae-c720-624cf01f3eae\",\"type\":\"ColumnDataSource\",\"attributes\":{\"data\":{\"y\":[89.902,86.501333333333,85.161,83.6448,80.889,78.911714285714,76.08375,72.237555555556],\"x\":[2,3,4,5,6,7,8,9]},\"column_names\":[\"y\",\"x\"],\"cont_ranges\":{},\"discrete_ranges\":{},\"selected\":[],\"id\":\"4323d333-fe4b-47ae-c720-624cf01f3eae\",\"doc\":null,\"tags\":[]}},{\"id\":\"1aa638fb-0aeb-4e45-cebe-45eea8d8a6e4\",\"type\":\"Line\",\"attributes\":{\"fill_alpha\":{\"units\":\"data\",\"value\":0.2},\"line_alpha\":{\"units\":\"data\",\"value\":1},\"doc\":null,\"size\":{\"units\":\"screen\",\"value\":10},\"fill_color\":{\"value\":\"green\"},\"line_color\":{\"value\":\"green\"},\"x\":{\"units\":\"data\",\"field\":\"x\"},\"id\":\"1aa638fb-0aeb-4e45-cebe-45eea8d8a6e4\",\"y\":{\"units\":\"data\",\"field\":\"y\"},\"tags\":[]}},{\"id\":\"a5b6de1d-d2b3-4e39-ce5e-d76a30234d47\",\"type\":\"Line\",\"attributes\":{\"fill_alpha\":{\"units\":\"data\",\"value\":0.2},\"line_alpha\":{\"units\":\"data\",\"value\":1},\"doc\":null,\"size\":{\"units\":\"screen\",\"value\":10},\"fill_color\":{\"value\":\"green\"},\"line_color\":{\"value\":\"green\"},\"x\":{\"units\":\"data\",\"field\":\"x\"},\"id\":\"a5b6de1d-d2b3-4e39-ce5e-d76a30234d47\",\"y\":{\"units\":\"data\",\"field\":\"y\"},\"tags\":[]}},{\"id\":\"d8769ff3-60c1-4be2-cbef-3376017c54e6\",\"type\":\"GlyphRenderer\",\"attributes\":{\"name\":null,\"nonselection_glyph\":{\"type\":\"Line\",\"id\":\"a5b6de1d-d2b3-4e39-ce5e-d76a30234d47\"},\"doc\":null,\"server_data_source\":null,\"data_source\":{\"type\":\"ColumnDataSource\",\"id\":\"4323d333-fe4b-47ae-c720-624cf01f3eae\"},\"glyph\":{\"type\":\"Line\",\"id\":\"1aa638fb-0aeb-4e45-cebe-45eea8d8a6e4\"},\"selection_glyph\":null,\"id\":\"d8769ff3-60c1-4be2-cbef-3376017c54e6\",\"tags\":[]}},{\"id\":\"5cff97a7-73c3-432a-c325-b8d3f3c8984a\",\"type\":\"DataRange1d\",\"attributes\":{\"sources\":[{\"columns\":[\"x\"],\"source\":{\"type\":\"ColumnDataSource\",\"id\":\"4790005a-184c-44cd-c430-d44d8e4487c9\"}},{\"columns\":[\"x\"],\"source\":{\"type\":\"ColumnDataSource\",\"id\":\"88fe02b4-c305-4443-c4bc-51a48e8ab53c\"}},{\"columns\":[\"x\"],\"source\":{\"type\":\"ColumnDataSource\",\"id\":\"bf1c741c-5060-4927-c9b9-07391de6e8a4\"}},{\"columns\":[\"x\"],\"source\":{\"type\":\"ColumnDataSource\",\"id\":\"4323d333-fe4b-47ae-c720-624cf01f3eae\"}}],\"id\":\"5cff97a7-73c3-432a-c325-b8d3f3c8984a\",\"tags\":[],\"doc\":null}},{\"id\":\"8fece7b3-34f4-4a7d-ca00-df339eec392a\",\"type\":\"DataRange1d\",\"attributes\":{\"sources\":[{\"columns\":[\"y\"],\"source\":{\"type\":\"ColumnDataSource\",\"id\":\"4790005a-184c-44cd-c430-d44d8e4487c9\"}},{\"columns\":[\"y\"],\"source\":{\"type\":\"ColumnDataSource\",\"id\":\"88fe02b4-c305-4443-c4bc-51a48e8ab53c\"}},{\"columns\":[\"y\"],\"source\":{\"type\":\"ColumnDataSource\",\"id\":\"bf1c741c-5060-4927-c9b9-07391de6e8a4\"}},{\"columns\":[\"y\"],\"source\":{\"type\":\"ColumnDataSource\",\"id\":\"4323d333-fe4b-47ae-c720-624cf01f3eae\"}}],\"id\":\"8fece7b3-34f4-4a7d-ca00-df339eec392a\",\"tags\":[],\"doc\":null}},{\"id\":\"51b3bdeb-9054-46ac-c68b-ae4a6f851315\",\"type\":\"ToolEvents\",\"attributes\":{\"tags\":[],\"id\":\"51b3bdeb-9054-46ac-c68b-ae4a6f851315\",\"geometries\":[],\"doc\":null}},{\"id\":\"4e5f4750-9a88-4fca-cf9f-cd4ce3b7a203\",\"type\":\"BasicTickFormatter\",\"attributes\":{\"id\":\"4e5f4750-9a88-4fca-cf9f-cd4ce3b7a203\",\"tags\":[],\"doc\":null}},{\"id\":\"49fd7e0a-99e4-42c9-c230-569e198fd904\",\"type\":\"BasicTicker\",\"attributes\":{\"num_minor_ticks\":5,\"id\":\"49fd7e0a-99e4-42c9-c230-569e198fd904\",\"tags\":[],\"doc\":null}},{\"id\":\"71c762a4-7339-4c46-cc34-a9cde1830045\",\"type\":\"LinearAxis\",\"attributes\":{\"formatter\":{\"type\":\"BasicTickFormatter\",\"id\":\"4e5f4750-9a88-4fca-cf9f-cd4ce3b7a203\"},\"ticker\":{\"type\":\"BasicTicker\",\"id\":\"49fd7e0a-99e4-42c9-c230-569e198fd904\"},\"plot\":{\"id\":\"3341b4ae-cbb7-4b06-cb09-af6b68284b67\",\"type\":\"Plot\",\"subtype\":\"Figure\"},\"axis_label\":\"Episode Length\",\"id\":\"71c762a4-7339-4c46-cc34-a9cde1830045\",\"doc\":null,\"tags\":[]}},{\"id\":\"c743e878-2950-4f7e-cfc8-7835840a558a\",\"type\":\"Grid\",\"attributes\":{\"dimension\":0,\"plot\":{\"id\":\"3341b4ae-cbb7-4b06-cb09-af6b68284b67\",\"type\":\"Plot\",\"subtype\":\"Figure\"},\"ticker\":{\"type\":\"BasicTicker\",\"id\":\"49fd7e0a-99e4-42c9-c230-569e198fd904\"},\"id\":\"c743e878-2950-4f7e-cfc8-7835840a558a\",\"doc\":null,\"tags\":[]}},{\"id\":\"80916607-4ec3-4111-c1ce-45221464354c\",\"type\":\"BasicTickFormatter\",\"attributes\":{\"id\":\"80916607-4ec3-4111-c1ce-45221464354c\",\"tags\":[],\"doc\":null}},{\"id\":\"38bd9b0b-8d2c-432c-c33c-6353b5ddd497\",\"type\":\"BasicTicker\",\"attributes\":{\"num_minor_ticks\":5,\"id\":\"38bd9b0b-8d2c-432c-c33c-6353b5ddd497\",\"tags\":[],\"doc\":null}},{\"id\":\"38e71985-908a-4f41-cfdb-a4f2127a8589\",\"type\":\"LinearAxis\",\"attributes\":{\"formatter\":{\"type\":\"BasicTickFormatter\",\"id\":\"80916607-4ec3-4111-c1ce-45221464354c\"},\"ticker\":{\"type\":\"BasicTicker\",\"id\":\"38bd9b0b-8d2c-432c-c33c-6353b5ddd497\"},\"plot\":{\"id\":\"3341b4ae-cbb7-4b06-cb09-af6b68284b67\",\"type\":\"Plot\",\"subtype\":\"Figure\"},\"axis_label\":\"Training Accuracy\",\"id\":\"38e71985-908a-4f41-cfdb-a4f2127a8589\",\"doc\":null,\"tags\":[]}},{\"id\":\"fb1c0a8c-3974-4ba7-cb54-d027d9fce98f\",\"type\":\"Grid\",\"attributes\":{\"dimension\":1,\"plot\":{\"id\":\"3341b4ae-cbb7-4b06-cb09-af6b68284b67\",\"type\":\"Plot\",\"subtype\":\"Figure\"},\"ticker\":{\"type\":\"BasicTicker\",\"id\":\"38bd9b0b-8d2c-432c-c33c-6353b5ddd497\"},\"id\":\"fb1c0a8c-3974-4ba7-cb54-d027d9fce98f\",\"doc\":null,\"tags\":[]}},{\"id\":\"3d45818a-b5bc-48e0-c871-129881dfe385\",\"type\":\"PanTool\",\"attributes\":{\"plot\":{\"id\":\"3341b4ae-cbb7-4b06-cb09-af6b68284b67\",\"type\":\"Plot\",\"subtype\":\"Figure\"},\"dimensions\":[\"width\",\"height\"],\"id\":\"3d45818a-b5bc-48e0-c871-129881dfe385\",\"doc\":null,\"tags\":[]}},{\"id\":\"bb20367c-45be-4187-c160-91a65e1b87ee\",\"type\":\"WheelZoomTool\",\"attributes\":{\"plot\":{\"id\":\"3341b4ae-cbb7-4b06-cb09-af6b68284b67\",\"type\":\"Plot\",\"subtype\":\"Figure\"},\"dimensions\":[\"width\",\"height\"],\"id\":\"bb20367c-45be-4187-c160-91a65e1b87ee\",\"doc\":null,\"tags\":[]}},{\"id\":\"75deb4e1-de4b-4277-c2b6-03402a290f7d\",\"type\":\"BoxZoomTool\",\"attributes\":{\"plot\":{\"id\":\"3341b4ae-cbb7-4b06-cb09-af6b68284b67\",\"type\":\"Plot\",\"subtype\":\"Figure\"},\"id\":\"75deb4e1-de4b-4277-c2b6-03402a290f7d\",\"tags\":[],\"doc\":null}},{\"id\":\"c77fc70e-c027-4bdd-cb74-9efe64b30c3f\",\"type\":\"PreviewSaveTool\",\"attributes\":{\"plot\":{\"id\":\"3341b4ae-cbb7-4b06-cb09-af6b68284b67\",\"type\":\"Plot\",\"subtype\":\"Figure\"},\"id\":\"c77fc70e-c027-4bdd-cb74-9efe64b30c3f\",\"tags\":[],\"doc\":null}},{\"id\":\"6761a806-b16f-4d65-cdfb-ac8a32d052d3\",\"type\":\"ResizeTool\",\"attributes\":{\"plot\":{\"id\":\"3341b4ae-cbb7-4b06-cb09-af6b68284b67\",\"type\":\"Plot\",\"subtype\":\"Figure\"},\"id\":\"6761a806-b16f-4d65-cdfb-ac8a32d052d3\",\"tags\":[],\"doc\":null}},{\"id\":\"94195310-aa19-4ca4-ccff-ddd71d30ae2e\",\"type\":\"ResetTool\",\"attributes\":{\"plot\":{\"id\":\"3341b4ae-cbb7-4b06-cb09-af6b68284b67\",\"type\":\"Plot\",\"subtype\":\"Figure\"},\"id\":\"94195310-aa19-4ca4-ccff-ddd71d30ae2e\",\"tags\":[],\"doc\":null}},{\"id\":\"1a51a132-5544-45d0-c517-c7413397c262\",\"type\":\"Legend\",\"attributes\":{\"plot\":{\"id\":\"3341b4ae-cbb7-4b06-cb09-af6b68284b67\",\"type\":\"Plot\",\"subtype\":\"Figure\"},\"legends\":[[\"Fully Connected\",[{\"type\":\"GlyphRenderer\",\"id\":\"9ad64c8d-0dc1-490d-c9da-0dd82bac1e91\"}]],[\"Fully Connected 2\",[{\"type\":\"GlyphRenderer\",\"id\":\"67fedde7-77f3-4be4-cbee-f8d7e302e1f3\"}]],[\"RNN\",[{\"type\":\"GlyphRenderer\",\"id\":\"489e075e-014c-4ef5-ce93-ac111bcdfad3\"}]],[\"LSTM\",[{\"type\":\"GlyphRenderer\",\"id\":\"d8769ff3-60c1-4be2-cbef-3376017c54e6\"}]]],\"id\":\"1a51a132-5544-45d0-c517-c7413397c262\",\"doc\":null,\"tags\":[]}},{\"id\":\"3341b4ae-cbb7-4b06-cb09-af6b68284b67\",\"type\":\"Plot\",\"attributes\":{\"x_range\":{\"type\":\"DataRange1d\",\"id\":\"5cff97a7-73c3-432a-c325-b8d3f3c8984a\"},\"tool_events\":{\"type\":\"ToolEvents\",\"id\":\"51b3bdeb-9054-46ac-c68b-ae4a6f851315\"},\"below\":[{\"type\":\"LinearAxis\",\"id\":\"71c762a4-7339-4c46-cc34-a9cde1830045\"}],\"renderers\":[{\"type\":\"GlyphRenderer\",\"id\":\"9ad64c8d-0dc1-490d-c9da-0dd82bac1e91\"},{\"type\":\"GlyphRenderer\",\"id\":\"67fedde7-77f3-4be4-cbee-f8d7e302e1f3\"},{\"type\":\"GlyphRenderer\",\"id\":\"489e075e-014c-4ef5-ce93-ac111bcdfad3\"},{\"type\":\"GlyphRenderer\",\"id\":\"d8769ff3-60c1-4be2-cbef-3376017c54e6\"},{\"type\":\"LinearAxis\",\"id\":\"71c762a4-7339-4c46-cc34-a9cde1830045\"},{\"type\":\"Grid\",\"id\":\"c743e878-2950-4f7e-cfc8-7835840a558a\"},{\"type\":\"LinearAxis\",\"id\":\"38e71985-908a-4f41-cfdb-a4f2127a8589\"},{\"type\":\"Grid\",\"id\":\"fb1c0a8c-3974-4ba7-cb54-d027d9fce98f\"},{\"type\":\"Legend\",\"id\":\"1a51a132-5544-45d0-c517-c7413397c262\"}],\"above\":[],\"tools\":[{\"type\":\"PanTool\",\"id\":\"3d45818a-b5bc-48e0-c871-129881dfe385\"},{\"type\":\"WheelZoomTool\",\"id\":\"bb20367c-45be-4187-c160-91a65e1b87ee\"},{\"type\":\"BoxZoomTool\",\"id\":\"75deb4e1-de4b-4277-c2b6-03402a290f7d\"},{\"type\":\"PreviewSaveTool\",\"id\":\"c77fc70e-c027-4bdd-cb74-9efe64b30c3f\"},{\"type\":\"ResizeTool\",\"id\":\"6761a806-b16f-4d65-cdfb-ac8a32d052d3\"},{\"type\":\"ResetTool\",\"id\":\"94195310-aa19-4ca4-ccff-ddd71d30ae2e\"}],\"doc\":null,\"right\":[],\"title\":\"Training accuracy (50000 episodes)\",\"extra_x_ranges\":{},\"left\":[{\"type\":\"LinearAxis\",\"id\":\"38e71985-908a-4f41-cfdb-a4f2127a8589\"}],\"y_range\":{\"type\":\"DataRange1d\",\"id\":\"8fece7b3-34f4-4a7d-ca00-df339eec392a\"},\"id\":\"3341b4ae-cbb7-4b06-cb09-af6b68284b67\",\"extra_y_ranges\":{},\"tags\":[]}}];\n",
       "      Bokeh.load_models(all_models);\n",
       "      var model = Bokeh.Collections(modeltype).get(modelid);\n",
       "      $(\"#bb1614d0-945b-49bc-c939-478134e839e5\").html(''); // clear any previous plot in window_id\n",
       "      var view = new model.default_view({model: model, el: \"#bb1614d0-945b-49bc-c939-478134e839e5\"});\n",
       "  });\n",
       "    }\n",
       "});\n",
       "</script>\n",
       "<div class=\"plotdiv\" id=\"bb1614d0-945b-49bc-c939-478134e839e5\"></div>\n"
      ]
     },
     "metadata": {},
     "output_type": "display_data"
    }
   ],
   "source": [
    "-- Training accuracy plot\n",
    "plot = itorch.Plot()\n",
    "x = torch.range(2, 9)\n",
    "full_y = torch.Tensor(8)\n",
    "full2_y = torch.Tensor(8)\n",
    "rnn_y = torch.Tensor(8)\n",
    "lstm_y = torch.Tensor(8)\n",
    "for i=2,9 do\n",
    "    name = string.format('models_%d_full/rubiks_best', i)\n",
    "    full_y[i-1] = best_results[name].train_acc\n",
    "    name = string.format('models_%d_fulltwo/rubiks_best', i)\n",
    "    full2_y[i-1] = best_results[name].train_acc\n",
    "    name = string.format('models_%d_rnn/rubiks_best', i)\n",
    "    rnn_y[i-1] = best_results[name].train_acc\n",
    "    name = string.format('models_%d_lstm/rubiks_best', i)\n",
    "    lstm_y[i-1] = best_results[name].train_acc\n",
    "end\n",
    "\n",
    "plot:xaxis('Episode Length'):yaxis('Training Accuracy')\n",
    "plot:title('Training accuracy (50000 episodes)')\n",
    "plot:line(x, full_y, 'red', 'Fully Connected')\n",
    "plot:line(x, full2_y, 'pink', 'Fully Connected 2')\n",
    "plot:line(x, rnn_y, 'blue', 'RNN')\n",
    "plot:line(x, lstm_y, 'green', 'LSTM')\n",
    "plot:legend(true)\n",
    "plot:draw()"
   ]
  },
  {
   "cell_type": "code",
   "execution_count": 5,
   "metadata": {
    "collapsed": false
   },
   "outputs": [
    {
     "data": {
      "text/html": [
       "<script type=\"text/javascript\">\n",
       "$(function() {\n",
       "    if (typeof (window._bokeh_onload_callbacks) === \"undefined\"){\n",
       "  window._bokeh_onload_callbacks = [];\n",
       "    }\n",
       "    function load_lib(url, callback){\n",
       "  window._bokeh_onload_callbacks.push(callback);\n",
       "  if (window._bokeh_is_loading){\n",
       "      console.log(\"Bokeh: BokehJS is being loaded, scheduling callback at\", new Date());\n",
       "      return null;\n",
       "  }\n",
       "  console.log(\"Bokeh: BokehJS not loaded, scheduling load and callback at\", new Date());\n",
       "  window._bokeh_is_loading = true;\n",
       "  var s = document.createElement('script');\n",
       "  s.src = url;\n",
       "  s.async = true;\n",
       "  s.onreadystatechange = s.onload = function(){\n",
       "      Bokeh.embed.inject_css(\"http://cdn.pydata.org/bokeh-0.7.0.min.css\");\n",
       "      window._bokeh_onload_callbacks.forEach(function(callback){callback()});\n",
       "  };\n",
       "  s.onerror = function(){\n",
       "      console.warn(\"failed to load library \" + url);\n",
       "  };\n",
       "  document.getElementsByTagName(\"head\")[0].appendChild(s);\n",
       "    }\n",
       "\n",
       "    bokehjs_url = \"http://cdn.pydata.org/bokeh-0.7.0.min.js\"\n",
       "\n",
       "    var elt = document.getElementById(\"859ec279-368f-4bd5-cbfe-edc6559df4c5\");\n",
       "    if(elt==null) {\n",
       "  console.log(\"Bokeh: ERROR: autoload.js configured with elementid '859ec279-368f-4bd5-cbfe-edc6559df4c5'\"\n",
       "        + \"but no matching script tag was found. \")\n",
       "  return false;\n",
       "    }\n",
       "\n",
       "    if(typeof(Bokeh) !== \"undefined\") {\n",
       "  console.log(\"Bokeh: BokehJS loaded, going straight to plotting\");\n",
       "  var modelid = \"78b1c040-27e8-48fc-c89a-a00850c8fc2e\";\n",
       "  var modeltype = \"Plot\";\n",
       "  var all_models = [{\"id\":\"58a0b646-0879-4622-c6ba-6be7f1680868\",\"type\":\"ColumnDataSource\",\"attributes\":{\"data\":{\"y\":[90,86.493333333333,84.1175,80.652,77.433333333333,73.925714285714,70.03,66.526666666667],\"x\":[2,3,4,5,6,7,8,9]},\"column_names\":[\"y\",\"x\"],\"cont_ranges\":{},\"discrete_ranges\":{},\"selected\":[],\"id\":\"58a0b646-0879-4622-c6ba-6be7f1680868\",\"doc\":null,\"tags\":[]}},{\"id\":\"90cd3bab-7862-4102-c12a-1a4193098f73\",\"type\":\"Line\",\"attributes\":{\"fill_alpha\":{\"units\":\"data\",\"value\":0.2},\"line_alpha\":{\"units\":\"data\",\"value\":1},\"doc\":null,\"size\":{\"units\":\"screen\",\"value\":10},\"fill_color\":{\"value\":\"red\"},\"line_color\":{\"value\":\"red\"},\"x\":{\"units\":\"data\",\"field\":\"x\"},\"id\":\"90cd3bab-7862-4102-c12a-1a4193098f73\",\"y\":{\"units\":\"data\",\"field\":\"y\"},\"tags\":[]}},{\"id\":\"7d2b0a47-170c-4ac1-ca4a-6685398c9c2b\",\"type\":\"Line\",\"attributes\":{\"fill_alpha\":{\"units\":\"data\",\"value\":0.2},\"line_alpha\":{\"units\":\"data\",\"value\":1},\"doc\":null,\"size\":{\"units\":\"screen\",\"value\":10},\"fill_color\":{\"value\":\"red\"},\"line_color\":{\"value\":\"red\"},\"x\":{\"units\":\"data\",\"field\":\"x\"},\"id\":\"7d2b0a47-170c-4ac1-ca4a-6685398c9c2b\",\"y\":{\"units\":\"data\",\"field\":\"y\"},\"tags\":[]}},{\"id\":\"79655b13-5385-4dc0-cd9f-9c4590daca1a\",\"type\":\"GlyphRenderer\",\"attributes\":{\"name\":null,\"nonselection_glyph\":{\"type\":\"Line\",\"id\":\"7d2b0a47-170c-4ac1-ca4a-6685398c9c2b\"},\"doc\":null,\"server_data_source\":null,\"data_source\":{\"type\":\"ColumnDataSource\",\"id\":\"58a0b646-0879-4622-c6ba-6be7f1680868\"},\"glyph\":{\"type\":\"Line\",\"id\":\"90cd3bab-7862-4102-c12a-1a4193098f73\"},\"selection_glyph\":null,\"id\":\"79655b13-5385-4dc0-cd9f-9c4590daca1a\",\"tags\":[]}},{\"id\":\"49639db4-a51b-49a2-c935-bff03b70d736\",\"type\":\"ColumnDataSource\",\"attributes\":{\"data\":{\"y\":[90.21,86.5,84.0425,81.17,77.956666666667,74.225714285714,70.4975,66.324444444444],\"x\":[2,3,4,5,6,7,8,9]},\"column_names\":[\"y\",\"x\"],\"cont_ranges\":{},\"discrete_ranges\":{},\"selected\":[],\"id\":\"49639db4-a51b-49a2-c935-bff03b70d736\",\"doc\":null,\"tags\":[]}},{\"id\":\"ae0cac3b-e2e6-4604-c6ee-599419a12508\",\"type\":\"Line\",\"attributes\":{\"fill_alpha\":{\"units\":\"data\",\"value\":0.2},\"line_alpha\":{\"units\":\"data\",\"value\":1},\"doc\":null,\"size\":{\"units\":\"screen\",\"value\":10},\"fill_color\":{\"value\":\"pink\"},\"line_color\":{\"value\":\"pink\"},\"x\":{\"units\":\"data\",\"field\":\"x\"},\"id\":\"ae0cac3b-e2e6-4604-c6ee-599419a12508\",\"y\":{\"units\":\"data\",\"field\":\"y\"},\"tags\":[]}},{\"id\":\"68582311-abde-4789-c715-78a4d0c0d2cc\",\"type\":\"Line\",\"attributes\":{\"fill_alpha\":{\"units\":\"data\",\"value\":0.2},\"line_alpha\":{\"units\":\"data\",\"value\":1},\"doc\":null,\"size\":{\"units\":\"screen\",\"value\":10},\"fill_color\":{\"value\":\"pink\"},\"line_color\":{\"value\":\"pink\"},\"x\":{\"units\":\"data\",\"field\":\"x\"},\"id\":\"68582311-abde-4789-c715-78a4d0c0d2cc\",\"y\":{\"units\":\"data\",\"field\":\"y\"},\"tags\":[]}},{\"id\":\"54fb40ed-43a2-470e-c73d-0ef9f3665fbd\",\"type\":\"GlyphRenderer\",\"attributes\":{\"name\":null,\"nonselection_glyph\":{\"type\":\"Line\",\"id\":\"68582311-abde-4789-c715-78a4d0c0d2cc\"},\"doc\":null,\"server_data_source\":null,\"data_source\":{\"type\":\"ColumnDataSource\",\"id\":\"49639db4-a51b-49a2-c935-bff03b70d736\"},\"glyph\":{\"type\":\"Line\",\"id\":\"ae0cac3b-e2e6-4604-c6ee-599419a12508\"},\"selection_glyph\":null,\"id\":\"54fb40ed-43a2-470e-c73d-0ef9f3665fbd\",\"tags\":[]}},{\"id\":\"238a02b3-e1bd-462f-c61c-130de7b273f2\",\"type\":\"ColumnDataSource\",\"attributes\":{\"data\":{\"y\":[90.155,86.506666666667,83.91,79.778,75.396666666667,71.328571428571,66.24125,60.996666666667],\"x\":[2,3,4,5,6,7,8,9]},\"column_names\":[\"y\",\"x\"],\"cont_ranges\":{},\"discrete_ranges\":{},\"selected\":[],\"id\":\"238a02b3-e1bd-462f-c61c-130de7b273f2\",\"doc\":null,\"tags\":[]}},{\"id\":\"1f4bd097-4ffe-4fdd-cf4e-0f2c2a6b99f4\",\"type\":\"Line\",\"attributes\":{\"fill_alpha\":{\"units\":\"data\",\"value\":0.2},\"line_alpha\":{\"units\":\"data\",\"value\":1},\"doc\":null,\"size\":{\"units\":\"screen\",\"value\":10},\"fill_color\":{\"value\":\"blue\"},\"line_color\":{\"value\":\"blue\"},\"x\":{\"units\":\"data\",\"field\":\"x\"},\"id\":\"1f4bd097-4ffe-4fdd-cf4e-0f2c2a6b99f4\",\"y\":{\"units\":\"data\",\"field\":\"y\"},\"tags\":[]}},{\"id\":\"1f07709c-9180-46ad-c656-0a5c28549279\",\"type\":\"Line\",\"attributes\":{\"fill_alpha\":{\"units\":\"data\",\"value\":0.2},\"line_alpha\":{\"units\":\"data\",\"value\":1},\"doc\":null,\"size\":{\"units\":\"screen\",\"value\":10},\"fill_color\":{\"value\":\"blue\"},\"line_color\":{\"value\":\"blue\"},\"x\":{\"units\":\"data\",\"field\":\"x\"},\"id\":\"1f07709c-9180-46ad-c656-0a5c28549279\",\"y\":{\"units\":\"data\",\"field\":\"y\"},\"tags\":[]}},{\"id\":\"c9ad566e-7db4-47e1-c7e4-45f268caa4b7\",\"type\":\"GlyphRenderer\",\"attributes\":{\"name\":null,\"nonselection_glyph\":{\"type\":\"Line\",\"id\":\"1f07709c-9180-46ad-c656-0a5c28549279\"},\"doc\":null,\"server_data_source\":null,\"data_source\":{\"type\":\"ColumnDataSource\",\"id\":\"238a02b3-e1bd-462f-c61c-130de7b273f2\"},\"glyph\":{\"type\":\"Line\",\"id\":\"1f4bd097-4ffe-4fdd-cf4e-0f2c2a6b99f4\"},\"selection_glyph\":null,\"id\":\"c9ad566e-7db4-47e1-c7e4-45f268caa4b7\",\"tags\":[]}},{\"id\":\"726d9651-26a7-4dbc-cde2-0196622ddb44\",\"type\":\"ColumnDataSource\",\"attributes\":{\"data\":{\"y\":[89.89,86.503333333333,83.8175,81.914,78.996666666667,76.324285714286,73.16125,70.3],\"x\":[2,3,4,5,6,7,8,9]},\"column_names\":[\"y\",\"x\"],\"cont_ranges\":{},\"discrete_ranges\":{},\"selected\":[],\"id\":\"726d9651-26a7-4dbc-cde2-0196622ddb44\",\"doc\":null,\"tags\":[]}},{\"id\":\"86917684-608d-4f6b-cff3-146a5c5197c7\",\"type\":\"Line\",\"attributes\":{\"fill_alpha\":{\"units\":\"data\",\"value\":0.2},\"line_alpha\":{\"units\":\"data\",\"value\":1},\"doc\":null,\"size\":{\"units\":\"screen\",\"value\":10},\"fill_color\":{\"value\":\"green\"},\"line_color\":{\"value\":\"green\"},\"x\":{\"units\":\"data\",\"field\":\"x\"},\"id\":\"86917684-608d-4f6b-cff3-146a5c5197c7\",\"y\":{\"units\":\"data\",\"field\":\"y\"},\"tags\":[]}},{\"id\":\"c63eef67-c46d-48fa-c885-6d2dba752924\",\"type\":\"Line\",\"attributes\":{\"fill_alpha\":{\"units\":\"data\",\"value\":0.2},\"line_alpha\":{\"units\":\"data\",\"value\":1},\"doc\":null,\"size\":{\"units\":\"screen\",\"value\":10},\"fill_color\":{\"value\":\"green\"},\"line_color\":{\"value\":\"green\"},\"x\":{\"units\":\"data\",\"field\":\"x\"},\"id\":\"c63eef67-c46d-48fa-c885-6d2dba752924\",\"y\":{\"units\":\"data\",\"field\":\"y\"},\"tags\":[]}},{\"id\":\"fa53e8bb-63ea-4b35-cbbb-060d9521a3d0\",\"type\":\"GlyphRenderer\",\"attributes\":{\"name\":null,\"nonselection_glyph\":{\"type\":\"Line\",\"id\":\"c63eef67-c46d-48fa-c885-6d2dba752924\"},\"doc\":null,\"server_data_source\":null,\"data_source\":{\"type\":\"ColumnDataSource\",\"id\":\"726d9651-26a7-4dbc-cde2-0196622ddb44\"},\"glyph\":{\"type\":\"Line\",\"id\":\"86917684-608d-4f6b-cff3-146a5c5197c7\"},\"selection_glyph\":null,\"id\":\"fa53e8bb-63ea-4b35-cbbb-060d9521a3d0\",\"tags\":[]}},{\"id\":\"26b910f7-7142-4da8-cdf7-b9d847846dc8\",\"type\":\"DataRange1d\",\"attributes\":{\"sources\":[{\"columns\":[\"x\"],\"source\":{\"type\":\"ColumnDataSource\",\"id\":\"58a0b646-0879-4622-c6ba-6be7f1680868\"}},{\"columns\":[\"x\"],\"source\":{\"type\":\"ColumnDataSource\",\"id\":\"49639db4-a51b-49a2-c935-bff03b70d736\"}},{\"columns\":[\"x\"],\"source\":{\"type\":\"ColumnDataSource\",\"id\":\"238a02b3-e1bd-462f-c61c-130de7b273f2\"}},{\"columns\":[\"x\"],\"source\":{\"type\":\"ColumnDataSource\",\"id\":\"726d9651-26a7-4dbc-cde2-0196622ddb44\"}}],\"id\":\"26b910f7-7142-4da8-cdf7-b9d847846dc8\",\"tags\":[],\"doc\":null}},{\"id\":\"7e53a95b-08ef-4339-c32e-16902ef9f67f\",\"type\":\"DataRange1d\",\"attributes\":{\"sources\":[{\"columns\":[\"y\"],\"source\":{\"type\":\"ColumnDataSource\",\"id\":\"58a0b646-0879-4622-c6ba-6be7f1680868\"}},{\"columns\":[\"y\"],\"source\":{\"type\":\"ColumnDataSource\",\"id\":\"49639db4-a51b-49a2-c935-bff03b70d736\"}},{\"columns\":[\"y\"],\"source\":{\"type\":\"ColumnDataSource\",\"id\":\"238a02b3-e1bd-462f-c61c-130de7b273f2\"}},{\"columns\":[\"y\"],\"source\":{\"type\":\"ColumnDataSource\",\"id\":\"726d9651-26a7-4dbc-cde2-0196622ddb44\"}}],\"id\":\"7e53a95b-08ef-4339-c32e-16902ef9f67f\",\"tags\":[],\"doc\":null}},{\"id\":\"7c1c3b2b-9737-4c82-cc53-e49f48d9a50e\",\"type\":\"ToolEvents\",\"attributes\":{\"tags\":[],\"id\":\"7c1c3b2b-9737-4c82-cc53-e49f48d9a50e\",\"geometries\":[],\"doc\":null}},{\"id\":\"9afa655f-a39a-4528-c531-0b258e1aed23\",\"type\":\"BasicTickFormatter\",\"attributes\":{\"id\":\"9afa655f-a39a-4528-c531-0b258e1aed23\",\"tags\":[],\"doc\":null}},{\"id\":\"d0d4b845-1e1d-4bba-cbfe-d0a02a0f6a0b\",\"type\":\"BasicTicker\",\"attributes\":{\"num_minor_ticks\":5,\"id\":\"d0d4b845-1e1d-4bba-cbfe-d0a02a0f6a0b\",\"tags\":[],\"doc\":null}},{\"id\":\"b3fb7d0d-10e3-4e01-ce5f-102b01eb5a09\",\"type\":\"LinearAxis\",\"attributes\":{\"formatter\":{\"type\":\"BasicTickFormatter\",\"id\":\"9afa655f-a39a-4528-c531-0b258e1aed23\"},\"ticker\":{\"type\":\"BasicTicker\",\"id\":\"d0d4b845-1e1d-4bba-cbfe-d0a02a0f6a0b\"},\"plot\":{\"id\":\"78b1c040-27e8-48fc-c89a-a00850c8fc2e\",\"type\":\"Plot\",\"subtype\":\"Figure\"},\"axis_label\":\"Episode Length\",\"id\":\"b3fb7d0d-10e3-4e01-ce5f-102b01eb5a09\",\"doc\":null,\"tags\":[]}},{\"id\":\"170864b3-51c1-48bb-c8b5-822ee5016f7f\",\"type\":\"Grid\",\"attributes\":{\"dimension\":0,\"plot\":{\"id\":\"78b1c040-27e8-48fc-c89a-a00850c8fc2e\",\"type\":\"Plot\",\"subtype\":\"Figure\"},\"ticker\":{\"type\":\"BasicTicker\",\"id\":\"d0d4b845-1e1d-4bba-cbfe-d0a02a0f6a0b\"},\"id\":\"170864b3-51c1-48bb-c8b5-822ee5016f7f\",\"doc\":null,\"tags\":[]}},{\"id\":\"4687fd86-8de1-480a-c815-083767da76ca\",\"type\":\"BasicTickFormatter\",\"attributes\":{\"id\":\"4687fd86-8de1-480a-c815-083767da76ca\",\"tags\":[],\"doc\":null}},{\"id\":\"f4cb1888-616c-45a0-c59e-109620a30fc8\",\"type\":\"BasicTicker\",\"attributes\":{\"num_minor_ticks\":5,\"id\":\"f4cb1888-616c-45a0-c59e-109620a30fc8\",\"tags\":[],\"doc\":null}},{\"id\":\"3dd3c44c-19a3-495b-c93f-c480dbfd62f0\",\"type\":\"LinearAxis\",\"attributes\":{\"formatter\":{\"type\":\"BasicTickFormatter\",\"id\":\"4687fd86-8de1-480a-c815-083767da76ca\"},\"ticker\":{\"type\":\"BasicTicker\",\"id\":\"f4cb1888-616c-45a0-c59e-109620a30fc8\"},\"plot\":{\"id\":\"78b1c040-27e8-48fc-c89a-a00850c8fc2e\",\"type\":\"Plot\",\"subtype\":\"Figure\"},\"axis_label\":\"Test Accuracy\",\"id\":\"3dd3c44c-19a3-495b-c93f-c480dbfd62f0\",\"doc\":null,\"tags\":[]}},{\"id\":\"aa79834e-62fe-4931-c97a-215505fb245f\",\"type\":\"Grid\",\"attributes\":{\"dimension\":1,\"plot\":{\"id\":\"78b1c040-27e8-48fc-c89a-a00850c8fc2e\",\"type\":\"Plot\",\"subtype\":\"Figure\"},\"ticker\":{\"type\":\"BasicTicker\",\"id\":\"f4cb1888-616c-45a0-c59e-109620a30fc8\"},\"id\":\"aa79834e-62fe-4931-c97a-215505fb245f\",\"doc\":null,\"tags\":[]}},{\"id\":\"305b746c-3634-4deb-cd6a-06ee12c7e68c\",\"type\":\"PanTool\",\"attributes\":{\"plot\":{\"id\":\"78b1c040-27e8-48fc-c89a-a00850c8fc2e\",\"type\":\"Plot\",\"subtype\":\"Figure\"},\"dimensions\":[\"width\",\"height\"],\"id\":\"305b746c-3634-4deb-cd6a-06ee12c7e68c\",\"doc\":null,\"tags\":[]}},{\"id\":\"0e95a6a2-8d86-410c-c12b-7da8a7372f42\",\"type\":\"WheelZoomTool\",\"attributes\":{\"plot\":{\"id\":\"78b1c040-27e8-48fc-c89a-a00850c8fc2e\",\"type\":\"Plot\",\"subtype\":\"Figure\"},\"dimensions\":[\"width\",\"height\"],\"id\":\"0e95a6a2-8d86-410c-c12b-7da8a7372f42\",\"doc\":null,\"tags\":[]}},{\"id\":\"646beeb2-f4a7-41fc-c111-cf6af0eff6d8\",\"type\":\"BoxZoomTool\",\"attributes\":{\"plot\":{\"id\":\"78b1c040-27e8-48fc-c89a-a00850c8fc2e\",\"type\":\"Plot\",\"subtype\":\"Figure\"},\"id\":\"646beeb2-f4a7-41fc-c111-cf6af0eff6d8\",\"tags\":[],\"doc\":null}},{\"id\":\"4f4d10f5-e388-4b9b-cbf9-c9449d93716f\",\"type\":\"PreviewSaveTool\",\"attributes\":{\"plot\":{\"id\":\"78b1c040-27e8-48fc-c89a-a00850c8fc2e\",\"type\":\"Plot\",\"subtype\":\"Figure\"},\"id\":\"4f4d10f5-e388-4b9b-cbf9-c9449d93716f\",\"tags\":[],\"doc\":null}},{\"id\":\"640a6289-e4fe-4237-c22a-04d575afa26a\",\"type\":\"ResizeTool\",\"attributes\":{\"plot\":{\"id\":\"78b1c040-27e8-48fc-c89a-a00850c8fc2e\",\"type\":\"Plot\",\"subtype\":\"Figure\"},\"id\":\"640a6289-e4fe-4237-c22a-04d575afa26a\",\"tags\":[],\"doc\":null}},{\"id\":\"23a6007e-c94b-4abe-ca14-4511e4e7105c\",\"type\":\"ResetTool\",\"attributes\":{\"plot\":{\"id\":\"78b1c040-27e8-48fc-c89a-a00850c8fc2e\",\"type\":\"Plot\",\"subtype\":\"Figure\"},\"id\":\"23a6007e-c94b-4abe-ca14-4511e4e7105c\",\"tags\":[],\"doc\":null}},{\"id\":\"6df259df-00d6-4c1d-cc95-9a45b54cc3c1\",\"type\":\"Legend\",\"attributes\":{\"plot\":{\"id\":\"78b1c040-27e8-48fc-c89a-a00850c8fc2e\",\"type\":\"Plot\",\"subtype\":\"Figure\"},\"legends\":[[\"Fully Connected\",[{\"type\":\"GlyphRenderer\",\"id\":\"79655b13-5385-4dc0-cd9f-9c4590daca1a\"}]],[\"Fully Connected 2\",[{\"type\":\"GlyphRenderer\",\"id\":\"54fb40ed-43a2-470e-c73d-0ef9f3665fbd\"}]],[\"RNN\",[{\"type\":\"GlyphRenderer\",\"id\":\"c9ad566e-7db4-47e1-c7e4-45f268caa4b7\"}]],[\"LSTM\",[{\"type\":\"GlyphRenderer\",\"id\":\"fa53e8bb-63ea-4b35-cbbb-060d9521a3d0\"}]]],\"id\":\"6df259df-00d6-4c1d-cc95-9a45b54cc3c1\",\"doc\":null,\"tags\":[]}},{\"id\":\"78b1c040-27e8-48fc-c89a-a00850c8fc2e\",\"type\":\"Plot\",\"attributes\":{\"x_range\":{\"type\":\"DataRange1d\",\"id\":\"26b910f7-7142-4da8-cdf7-b9d847846dc8\"},\"tool_events\":{\"type\":\"ToolEvents\",\"id\":\"7c1c3b2b-9737-4c82-cc53-e49f48d9a50e\"},\"below\":[{\"type\":\"LinearAxis\",\"id\":\"b3fb7d0d-10e3-4e01-ce5f-102b01eb5a09\"}],\"renderers\":[{\"type\":\"GlyphRenderer\",\"id\":\"79655b13-5385-4dc0-cd9f-9c4590daca1a\"},{\"type\":\"GlyphRenderer\",\"id\":\"54fb40ed-43a2-470e-c73d-0ef9f3665fbd\"},{\"type\":\"GlyphRenderer\",\"id\":\"c9ad566e-7db4-47e1-c7e4-45f268caa4b7\"},{\"type\":\"GlyphRenderer\",\"id\":\"fa53e8bb-63ea-4b35-cbbb-060d9521a3d0\"},{\"type\":\"LinearAxis\",\"id\":\"b3fb7d0d-10e3-4e01-ce5f-102b01eb5a09\"},{\"type\":\"Grid\",\"id\":\"170864b3-51c1-48bb-c8b5-822ee5016f7f\"},{\"type\":\"LinearAxis\",\"id\":\"3dd3c44c-19a3-495b-c93f-c480dbfd62f0\"},{\"type\":\"Grid\",\"id\":\"aa79834e-62fe-4931-c97a-215505fb245f\"},{\"type\":\"Legend\",\"id\":\"6df259df-00d6-4c1d-cc95-9a45b54cc3c1\"}],\"above\":[],\"tools\":[{\"type\":\"PanTool\",\"id\":\"305b746c-3634-4deb-cd6a-06ee12c7e68c\"},{\"type\":\"WheelZoomTool\",\"id\":\"0e95a6a2-8d86-410c-c12b-7da8a7372f42\"},{\"type\":\"BoxZoomTool\",\"id\":\"646beeb2-f4a7-41fc-c111-cf6af0eff6d8\"},{\"type\":\"PreviewSaveTool\",\"id\":\"4f4d10f5-e388-4b9b-cbf9-c9449d93716f\"},{\"type\":\"ResizeTool\",\"id\":\"640a6289-e4fe-4237-c22a-04d575afa26a\"},{\"type\":\"ResetTool\",\"id\":\"23a6007e-c94b-4abe-ca14-4511e4e7105c\"}],\"doc\":null,\"right\":[],\"title\":\"Test accuracy (50000 episodes)\",\"extra_x_ranges\":{},\"left\":[{\"type\":\"LinearAxis\",\"id\":\"3dd3c44c-19a3-495b-c93f-c480dbfd62f0\"}],\"y_range\":{\"type\":\"DataRange1d\",\"id\":\"7e53a95b-08ef-4339-c32e-16902ef9f67f\"},\"id\":\"78b1c040-27e8-48fc-c89a-a00850c8fc2e\",\"extra_y_ranges\":{},\"tags\":[]}}];\n",
       "  Bokeh.load_models(all_models);\n",
       "  var model = Bokeh.Collections(modeltype).get(modelid);\n",
       "  $(\"#859ec279-368f-4bd5-cbfe-edc6559df4c5\").html(''); // clear any previous plot in window_id\n",
       "  var view = new model.default_view({model: model, el: \"#859ec279-368f-4bd5-cbfe-edc6559df4c5\"});\n",
       "    } else {\n",
       "  load_lib(bokehjs_url, function() {\n",
       "      console.log(\"Bokeh: BokehJS plotting callback run at\", new Date())\n",
       "      var modelid = \"78b1c040-27e8-48fc-c89a-a00850c8fc2e\";\n",
       "      var modeltype = \"Plot\";\n",
       "      var all_models = [{\"id\":\"58a0b646-0879-4622-c6ba-6be7f1680868\",\"type\":\"ColumnDataSource\",\"attributes\":{\"data\":{\"y\":[90,86.493333333333,84.1175,80.652,77.433333333333,73.925714285714,70.03,66.526666666667],\"x\":[2,3,4,5,6,7,8,9]},\"column_names\":[\"y\",\"x\"],\"cont_ranges\":{},\"discrete_ranges\":{},\"selected\":[],\"id\":\"58a0b646-0879-4622-c6ba-6be7f1680868\",\"doc\":null,\"tags\":[]}},{\"id\":\"90cd3bab-7862-4102-c12a-1a4193098f73\",\"type\":\"Line\",\"attributes\":{\"fill_alpha\":{\"units\":\"data\",\"value\":0.2},\"line_alpha\":{\"units\":\"data\",\"value\":1},\"doc\":null,\"size\":{\"units\":\"screen\",\"value\":10},\"fill_color\":{\"value\":\"red\"},\"line_color\":{\"value\":\"red\"},\"x\":{\"units\":\"data\",\"field\":\"x\"},\"id\":\"90cd3bab-7862-4102-c12a-1a4193098f73\",\"y\":{\"units\":\"data\",\"field\":\"y\"},\"tags\":[]}},{\"id\":\"7d2b0a47-170c-4ac1-ca4a-6685398c9c2b\",\"type\":\"Line\",\"attributes\":{\"fill_alpha\":{\"units\":\"data\",\"value\":0.2},\"line_alpha\":{\"units\":\"data\",\"value\":1},\"doc\":null,\"size\":{\"units\":\"screen\",\"value\":10},\"fill_color\":{\"value\":\"red\"},\"line_color\":{\"value\":\"red\"},\"x\":{\"units\":\"data\",\"field\":\"x\"},\"id\":\"7d2b0a47-170c-4ac1-ca4a-6685398c9c2b\",\"y\":{\"units\":\"data\",\"field\":\"y\"},\"tags\":[]}},{\"id\":\"79655b13-5385-4dc0-cd9f-9c4590daca1a\",\"type\":\"GlyphRenderer\",\"attributes\":{\"name\":null,\"nonselection_glyph\":{\"type\":\"Line\",\"id\":\"7d2b0a47-170c-4ac1-ca4a-6685398c9c2b\"},\"doc\":null,\"server_data_source\":null,\"data_source\":{\"type\":\"ColumnDataSource\",\"id\":\"58a0b646-0879-4622-c6ba-6be7f1680868\"},\"glyph\":{\"type\":\"Line\",\"id\":\"90cd3bab-7862-4102-c12a-1a4193098f73\"},\"selection_glyph\":null,\"id\":\"79655b13-5385-4dc0-cd9f-9c4590daca1a\",\"tags\":[]}},{\"id\":\"49639db4-a51b-49a2-c935-bff03b70d736\",\"type\":\"ColumnDataSource\",\"attributes\":{\"data\":{\"y\":[90.21,86.5,84.0425,81.17,77.956666666667,74.225714285714,70.4975,66.324444444444],\"x\":[2,3,4,5,6,7,8,9]},\"column_names\":[\"y\",\"x\"],\"cont_ranges\":{},\"discrete_ranges\":{},\"selected\":[],\"id\":\"49639db4-a51b-49a2-c935-bff03b70d736\",\"doc\":null,\"tags\":[]}},{\"id\":\"ae0cac3b-e2e6-4604-c6ee-599419a12508\",\"type\":\"Line\",\"attributes\":{\"fill_alpha\":{\"units\":\"data\",\"value\":0.2},\"line_alpha\":{\"units\":\"data\",\"value\":1},\"doc\":null,\"size\":{\"units\":\"screen\",\"value\":10},\"fill_color\":{\"value\":\"pink\"},\"line_color\":{\"value\":\"pink\"},\"x\":{\"units\":\"data\",\"field\":\"x\"},\"id\":\"ae0cac3b-e2e6-4604-c6ee-599419a12508\",\"y\":{\"units\":\"data\",\"field\":\"y\"},\"tags\":[]}},{\"id\":\"68582311-abde-4789-c715-78a4d0c0d2cc\",\"type\":\"Line\",\"attributes\":{\"fill_alpha\":{\"units\":\"data\",\"value\":0.2},\"line_alpha\":{\"units\":\"data\",\"value\":1},\"doc\":null,\"size\":{\"units\":\"screen\",\"value\":10},\"fill_color\":{\"value\":\"pink\"},\"line_color\":{\"value\":\"pink\"},\"x\":{\"units\":\"data\",\"field\":\"x\"},\"id\":\"68582311-abde-4789-c715-78a4d0c0d2cc\",\"y\":{\"units\":\"data\",\"field\":\"y\"},\"tags\":[]}},{\"id\":\"54fb40ed-43a2-470e-c73d-0ef9f3665fbd\",\"type\":\"GlyphRenderer\",\"attributes\":{\"name\":null,\"nonselection_glyph\":{\"type\":\"Line\",\"id\":\"68582311-abde-4789-c715-78a4d0c0d2cc\"},\"doc\":null,\"server_data_source\":null,\"data_source\":{\"type\":\"ColumnDataSource\",\"id\":\"49639db4-a51b-49a2-c935-bff03b70d736\"},\"glyph\":{\"type\":\"Line\",\"id\":\"ae0cac3b-e2e6-4604-c6ee-599419a12508\"},\"selection_glyph\":null,\"id\":\"54fb40ed-43a2-470e-c73d-0ef9f3665fbd\",\"tags\":[]}},{\"id\":\"238a02b3-e1bd-462f-c61c-130de7b273f2\",\"type\":\"ColumnDataSource\",\"attributes\":{\"data\":{\"y\":[90.155,86.506666666667,83.91,79.778,75.396666666667,71.328571428571,66.24125,60.996666666667],\"x\":[2,3,4,5,6,7,8,9]},\"column_names\":[\"y\",\"x\"],\"cont_ranges\":{},\"discrete_ranges\":{},\"selected\":[],\"id\":\"238a02b3-e1bd-462f-c61c-130de7b273f2\",\"doc\":null,\"tags\":[]}},{\"id\":\"1f4bd097-4ffe-4fdd-cf4e-0f2c2a6b99f4\",\"type\":\"Line\",\"attributes\":{\"fill_alpha\":{\"units\":\"data\",\"value\":0.2},\"line_alpha\":{\"units\":\"data\",\"value\":1},\"doc\":null,\"size\":{\"units\":\"screen\",\"value\":10},\"fill_color\":{\"value\":\"blue\"},\"line_color\":{\"value\":\"blue\"},\"x\":{\"units\":\"data\",\"field\":\"x\"},\"id\":\"1f4bd097-4ffe-4fdd-cf4e-0f2c2a6b99f4\",\"y\":{\"units\":\"data\",\"field\":\"y\"},\"tags\":[]}},{\"id\":\"1f07709c-9180-46ad-c656-0a5c28549279\",\"type\":\"Line\",\"attributes\":{\"fill_alpha\":{\"units\":\"data\",\"value\":0.2},\"line_alpha\":{\"units\":\"data\",\"value\":1},\"doc\":null,\"size\":{\"units\":\"screen\",\"value\":10},\"fill_color\":{\"value\":\"blue\"},\"line_color\":{\"value\":\"blue\"},\"x\":{\"units\":\"data\",\"field\":\"x\"},\"id\":\"1f07709c-9180-46ad-c656-0a5c28549279\",\"y\":{\"units\":\"data\",\"field\":\"y\"},\"tags\":[]}},{\"id\":\"c9ad566e-7db4-47e1-c7e4-45f268caa4b7\",\"type\":\"GlyphRenderer\",\"attributes\":{\"name\":null,\"nonselection_glyph\":{\"type\":\"Line\",\"id\":\"1f07709c-9180-46ad-c656-0a5c28549279\"},\"doc\":null,\"server_data_source\":null,\"data_source\":{\"type\":\"ColumnDataSource\",\"id\":\"238a02b3-e1bd-462f-c61c-130de7b273f2\"},\"glyph\":{\"type\":\"Line\",\"id\":\"1f4bd097-4ffe-4fdd-cf4e-0f2c2a6b99f4\"},\"selection_glyph\":null,\"id\":\"c9ad566e-7db4-47e1-c7e4-45f268caa4b7\",\"tags\":[]}},{\"id\":\"726d9651-26a7-4dbc-cde2-0196622ddb44\",\"type\":\"ColumnDataSource\",\"attributes\":{\"data\":{\"y\":[89.89,86.503333333333,83.8175,81.914,78.996666666667,76.324285714286,73.16125,70.3],\"x\":[2,3,4,5,6,7,8,9]},\"column_names\":[\"y\",\"x\"],\"cont_ranges\":{},\"discrete_ranges\":{},\"selected\":[],\"id\":\"726d9651-26a7-4dbc-cde2-0196622ddb44\",\"doc\":null,\"tags\":[]}},{\"id\":\"86917684-608d-4f6b-cff3-146a5c5197c7\",\"type\":\"Line\",\"attributes\":{\"fill_alpha\":{\"units\":\"data\",\"value\":0.2},\"line_alpha\":{\"units\":\"data\",\"value\":1},\"doc\":null,\"size\":{\"units\":\"screen\",\"value\":10},\"fill_color\":{\"value\":\"green\"},\"line_color\":{\"value\":\"green\"},\"x\":{\"units\":\"data\",\"field\":\"x\"},\"id\":\"86917684-608d-4f6b-cff3-146a5c5197c7\",\"y\":{\"units\":\"data\",\"field\":\"y\"},\"tags\":[]}},{\"id\":\"c63eef67-c46d-48fa-c885-6d2dba752924\",\"type\":\"Line\",\"attributes\":{\"fill_alpha\":{\"units\":\"data\",\"value\":0.2},\"line_alpha\":{\"units\":\"data\",\"value\":1},\"doc\":null,\"size\":{\"units\":\"screen\",\"value\":10},\"fill_color\":{\"value\":\"green\"},\"line_color\":{\"value\":\"green\"},\"x\":{\"units\":\"data\",\"field\":\"x\"},\"id\":\"c63eef67-c46d-48fa-c885-6d2dba752924\",\"y\":{\"units\":\"data\",\"field\":\"y\"},\"tags\":[]}},{\"id\":\"fa53e8bb-63ea-4b35-cbbb-060d9521a3d0\",\"type\":\"GlyphRenderer\",\"attributes\":{\"name\":null,\"nonselection_glyph\":{\"type\":\"Line\",\"id\":\"c63eef67-c46d-48fa-c885-6d2dba752924\"},\"doc\":null,\"server_data_source\":null,\"data_source\":{\"type\":\"ColumnDataSource\",\"id\":\"726d9651-26a7-4dbc-cde2-0196622ddb44\"},\"glyph\":{\"type\":\"Line\",\"id\":\"86917684-608d-4f6b-cff3-146a5c5197c7\"},\"selection_glyph\":null,\"id\":\"fa53e8bb-63ea-4b35-cbbb-060d9521a3d0\",\"tags\":[]}},{\"id\":\"26b910f7-7142-4da8-cdf7-b9d847846dc8\",\"type\":\"DataRange1d\",\"attributes\":{\"sources\":[{\"columns\":[\"x\"],\"source\":{\"type\":\"ColumnDataSource\",\"id\":\"58a0b646-0879-4622-c6ba-6be7f1680868\"}},{\"columns\":[\"x\"],\"source\":{\"type\":\"ColumnDataSource\",\"id\":\"49639db4-a51b-49a2-c935-bff03b70d736\"}},{\"columns\":[\"x\"],\"source\":{\"type\":\"ColumnDataSource\",\"id\":\"238a02b3-e1bd-462f-c61c-130de7b273f2\"}},{\"columns\":[\"x\"],\"source\":{\"type\":\"ColumnDataSource\",\"id\":\"726d9651-26a7-4dbc-cde2-0196622ddb44\"}}],\"id\":\"26b910f7-7142-4da8-cdf7-b9d847846dc8\",\"tags\":[],\"doc\":null}},{\"id\":\"7e53a95b-08ef-4339-c32e-16902ef9f67f\",\"type\":\"DataRange1d\",\"attributes\":{\"sources\":[{\"columns\":[\"y\"],\"source\":{\"type\":\"ColumnDataSource\",\"id\":\"58a0b646-0879-4622-c6ba-6be7f1680868\"}},{\"columns\":[\"y\"],\"source\":{\"type\":\"ColumnDataSource\",\"id\":\"49639db4-a51b-49a2-c935-bff03b70d736\"}},{\"columns\":[\"y\"],\"source\":{\"type\":\"ColumnDataSource\",\"id\":\"238a02b3-e1bd-462f-c61c-130de7b273f2\"}},{\"columns\":[\"y\"],\"source\":{\"type\":\"ColumnDataSource\",\"id\":\"726d9651-26a7-4dbc-cde2-0196622ddb44\"}}],\"id\":\"7e53a95b-08ef-4339-c32e-16902ef9f67f\",\"tags\":[],\"doc\":null}},{\"id\":\"7c1c3b2b-9737-4c82-cc53-e49f48d9a50e\",\"type\":\"ToolEvents\",\"attributes\":{\"tags\":[],\"id\":\"7c1c3b2b-9737-4c82-cc53-e49f48d9a50e\",\"geometries\":[],\"doc\":null}},{\"id\":\"9afa655f-a39a-4528-c531-0b258e1aed23\",\"type\":\"BasicTickFormatter\",\"attributes\":{\"id\":\"9afa655f-a39a-4528-c531-0b258e1aed23\",\"tags\":[],\"doc\":null}},{\"id\":\"d0d4b845-1e1d-4bba-cbfe-d0a02a0f6a0b\",\"type\":\"BasicTicker\",\"attributes\":{\"num_minor_ticks\":5,\"id\":\"d0d4b845-1e1d-4bba-cbfe-d0a02a0f6a0b\",\"tags\":[],\"doc\":null}},{\"id\":\"b3fb7d0d-10e3-4e01-ce5f-102b01eb5a09\",\"type\":\"LinearAxis\",\"attributes\":{\"formatter\":{\"type\":\"BasicTickFormatter\",\"id\":\"9afa655f-a39a-4528-c531-0b258e1aed23\"},\"ticker\":{\"type\":\"BasicTicker\",\"id\":\"d0d4b845-1e1d-4bba-cbfe-d0a02a0f6a0b\"},\"plot\":{\"id\":\"78b1c040-27e8-48fc-c89a-a00850c8fc2e\",\"type\":\"Plot\",\"subtype\":\"Figure\"},\"axis_label\":\"Episode Length\",\"id\":\"b3fb7d0d-10e3-4e01-ce5f-102b01eb5a09\",\"doc\":null,\"tags\":[]}},{\"id\":\"170864b3-51c1-48bb-c8b5-822ee5016f7f\",\"type\":\"Grid\",\"attributes\":{\"dimension\":0,\"plot\":{\"id\":\"78b1c040-27e8-48fc-c89a-a00850c8fc2e\",\"type\":\"Plot\",\"subtype\":\"Figure\"},\"ticker\":{\"type\":\"BasicTicker\",\"id\":\"d0d4b845-1e1d-4bba-cbfe-d0a02a0f6a0b\"},\"id\":\"170864b3-51c1-48bb-c8b5-822ee5016f7f\",\"doc\":null,\"tags\":[]}},{\"id\":\"4687fd86-8de1-480a-c815-083767da76ca\",\"type\":\"BasicTickFormatter\",\"attributes\":{\"id\":\"4687fd86-8de1-480a-c815-083767da76ca\",\"tags\":[],\"doc\":null}},{\"id\":\"f4cb1888-616c-45a0-c59e-109620a30fc8\",\"type\":\"BasicTicker\",\"attributes\":{\"num_minor_ticks\":5,\"id\":\"f4cb1888-616c-45a0-c59e-109620a30fc8\",\"tags\":[],\"doc\":null}},{\"id\":\"3dd3c44c-19a3-495b-c93f-c480dbfd62f0\",\"type\":\"LinearAxis\",\"attributes\":{\"formatter\":{\"type\":\"BasicTickFormatter\",\"id\":\"4687fd86-8de1-480a-c815-083767da76ca\"},\"ticker\":{\"type\":\"BasicTicker\",\"id\":\"f4cb1888-616c-45a0-c59e-109620a30fc8\"},\"plot\":{\"id\":\"78b1c040-27e8-48fc-c89a-a00850c8fc2e\",\"type\":\"Plot\",\"subtype\":\"Figure\"},\"axis_label\":\"Test Accuracy\",\"id\":\"3dd3c44c-19a3-495b-c93f-c480dbfd62f0\",\"doc\":null,\"tags\":[]}},{\"id\":\"aa79834e-62fe-4931-c97a-215505fb245f\",\"type\":\"Grid\",\"attributes\":{\"dimension\":1,\"plot\":{\"id\":\"78b1c040-27e8-48fc-c89a-a00850c8fc2e\",\"type\":\"Plot\",\"subtype\":\"Figure\"},\"ticker\":{\"type\":\"BasicTicker\",\"id\":\"f4cb1888-616c-45a0-c59e-109620a30fc8\"},\"id\":\"aa79834e-62fe-4931-c97a-215505fb245f\",\"doc\":null,\"tags\":[]}},{\"id\":\"305b746c-3634-4deb-cd6a-06ee12c7e68c\",\"type\":\"PanTool\",\"attributes\":{\"plot\":{\"id\":\"78b1c040-27e8-48fc-c89a-a00850c8fc2e\",\"type\":\"Plot\",\"subtype\":\"Figure\"},\"dimensions\":[\"width\",\"height\"],\"id\":\"305b746c-3634-4deb-cd6a-06ee12c7e68c\",\"doc\":null,\"tags\":[]}},{\"id\":\"0e95a6a2-8d86-410c-c12b-7da8a7372f42\",\"type\":\"WheelZoomTool\",\"attributes\":{\"plot\":{\"id\":\"78b1c040-27e8-48fc-c89a-a00850c8fc2e\",\"type\":\"Plot\",\"subtype\":\"Figure\"},\"dimensions\":[\"width\",\"height\"],\"id\":\"0e95a6a2-8d86-410c-c12b-7da8a7372f42\",\"doc\":null,\"tags\":[]}},{\"id\":\"646beeb2-f4a7-41fc-c111-cf6af0eff6d8\",\"type\":\"BoxZoomTool\",\"attributes\":{\"plot\":{\"id\":\"78b1c040-27e8-48fc-c89a-a00850c8fc2e\",\"type\":\"Plot\",\"subtype\":\"Figure\"},\"id\":\"646beeb2-f4a7-41fc-c111-cf6af0eff6d8\",\"tags\":[],\"doc\":null}},{\"id\":\"4f4d10f5-e388-4b9b-cbf9-c9449d93716f\",\"type\":\"PreviewSaveTool\",\"attributes\":{\"plot\":{\"id\":\"78b1c040-27e8-48fc-c89a-a00850c8fc2e\",\"type\":\"Plot\",\"subtype\":\"Figure\"},\"id\":\"4f4d10f5-e388-4b9b-cbf9-c9449d93716f\",\"tags\":[],\"doc\":null}},{\"id\":\"640a6289-e4fe-4237-c22a-04d575afa26a\",\"type\":\"ResizeTool\",\"attributes\":{\"plot\":{\"id\":\"78b1c040-27e8-48fc-c89a-a00850c8fc2e\",\"type\":\"Plot\",\"subtype\":\"Figure\"},\"id\":\"640a6289-e4fe-4237-c22a-04d575afa26a\",\"tags\":[],\"doc\":null}},{\"id\":\"23a6007e-c94b-4abe-ca14-4511e4e7105c\",\"type\":\"ResetTool\",\"attributes\":{\"plot\":{\"id\":\"78b1c040-27e8-48fc-c89a-a00850c8fc2e\",\"type\":\"Plot\",\"subtype\":\"Figure\"},\"id\":\"23a6007e-c94b-4abe-ca14-4511e4e7105c\",\"tags\":[],\"doc\":null}},{\"id\":\"6df259df-00d6-4c1d-cc95-9a45b54cc3c1\",\"type\":\"Legend\",\"attributes\":{\"plot\":{\"id\":\"78b1c040-27e8-48fc-c89a-a00850c8fc2e\",\"type\":\"Plot\",\"subtype\":\"Figure\"},\"legends\":[[\"Fully Connected\",[{\"type\":\"GlyphRenderer\",\"id\":\"79655b13-5385-4dc0-cd9f-9c4590daca1a\"}]],[\"Fully Connected 2\",[{\"type\":\"GlyphRenderer\",\"id\":\"54fb40ed-43a2-470e-c73d-0ef9f3665fbd\"}]],[\"RNN\",[{\"type\":\"GlyphRenderer\",\"id\":\"c9ad566e-7db4-47e1-c7e4-45f268caa4b7\"}]],[\"LSTM\",[{\"type\":\"GlyphRenderer\",\"id\":\"fa53e8bb-63ea-4b35-cbbb-060d9521a3d0\"}]]],\"id\":\"6df259df-00d6-4c1d-cc95-9a45b54cc3c1\",\"doc\":null,\"tags\":[]}},{\"id\":\"78b1c040-27e8-48fc-c89a-a00850c8fc2e\",\"type\":\"Plot\",\"attributes\":{\"x_range\":{\"type\":\"DataRange1d\",\"id\":\"26b910f7-7142-4da8-cdf7-b9d847846dc8\"},\"tool_events\":{\"type\":\"ToolEvents\",\"id\":\"7c1c3b2b-9737-4c82-cc53-e49f48d9a50e\"},\"below\":[{\"type\":\"LinearAxis\",\"id\":\"b3fb7d0d-10e3-4e01-ce5f-102b01eb5a09\"}],\"renderers\":[{\"type\":\"GlyphRenderer\",\"id\":\"79655b13-5385-4dc0-cd9f-9c4590daca1a\"},{\"type\":\"GlyphRenderer\",\"id\":\"54fb40ed-43a2-470e-c73d-0ef9f3665fbd\"},{\"type\":\"GlyphRenderer\",\"id\":\"c9ad566e-7db4-47e1-c7e4-45f268caa4b7\"},{\"type\":\"GlyphRenderer\",\"id\":\"fa53e8bb-63ea-4b35-cbbb-060d9521a3d0\"},{\"type\":\"LinearAxis\",\"id\":\"b3fb7d0d-10e3-4e01-ce5f-102b01eb5a09\"},{\"type\":\"Grid\",\"id\":\"170864b3-51c1-48bb-c8b5-822ee5016f7f\"},{\"type\":\"LinearAxis\",\"id\":\"3dd3c44c-19a3-495b-c93f-c480dbfd62f0\"},{\"type\":\"Grid\",\"id\":\"aa79834e-62fe-4931-c97a-215505fb245f\"},{\"type\":\"Legend\",\"id\":\"6df259df-00d6-4c1d-cc95-9a45b54cc3c1\"}],\"above\":[],\"tools\":[{\"type\":\"PanTool\",\"id\":\"305b746c-3634-4deb-cd6a-06ee12c7e68c\"},{\"type\":\"WheelZoomTool\",\"id\":\"0e95a6a2-8d86-410c-c12b-7da8a7372f42\"},{\"type\":\"BoxZoomTool\",\"id\":\"646beeb2-f4a7-41fc-c111-cf6af0eff6d8\"},{\"type\":\"PreviewSaveTool\",\"id\":\"4f4d10f5-e388-4b9b-cbf9-c9449d93716f\"},{\"type\":\"ResizeTool\",\"id\":\"640a6289-e4fe-4237-c22a-04d575afa26a\"},{\"type\":\"ResetTool\",\"id\":\"23a6007e-c94b-4abe-ca14-4511e4e7105c\"}],\"doc\":null,\"right\":[],\"title\":\"Test accuracy (50000 episodes)\",\"extra_x_ranges\":{},\"left\":[{\"type\":\"LinearAxis\",\"id\":\"3dd3c44c-19a3-495b-c93f-c480dbfd62f0\"}],\"y_range\":{\"type\":\"DataRange1d\",\"id\":\"7e53a95b-08ef-4339-c32e-16902ef9f67f\"},\"id\":\"78b1c040-27e8-48fc-c89a-a00850c8fc2e\",\"extra_y_ranges\":{},\"tags\":[]}}];\n",
       "      Bokeh.load_models(all_models);\n",
       "      var model = Bokeh.Collections(modeltype).get(modelid);\n",
       "      $(\"#859ec279-368f-4bd5-cbfe-edc6559df4c5\").html(''); // clear any previous plot in window_id\n",
       "      var view = new model.default_view({model: model, el: \"#859ec279-368f-4bd5-cbfe-edc6559df4c5\"});\n",
       "  });\n",
       "    }\n",
       "});\n",
       "</script>\n",
       "<div class=\"plotdiv\" id=\"859ec279-368f-4bd5-cbfe-edc6559df4c5\"></div>\n"
      ]
     },
     "metadata": {},
     "output_type": "display_data"
    }
   ],
   "source": [
    "-- Test accuracy plot\n",
    "plot = itorch.Plot()\n",
    "x = torch.range(2, 9)\n",
    "full_y = torch.Tensor(8)\n",
    "rnn_y = torch.Tensor(8)\n",
    "lstm_y = torch.Tensor(8)\n",
    "for i=2,9 do\n",
    "    name = string.format('models_%d_full/rubiks_best', i)\n",
    "    full_y[i-1] = best_results[name].test_acc\n",
    "    name = string.format('models_%d_fulltwo/rubiks_best', i)\n",
    "    full2_y[i-1] = best_results[name].test_acc\n",
    "    name = string.format('models_%d_rnn/rubiks_best', i)\n",
    "    rnn_y[i-1] = best_results[name].test_acc\n",
    "    name = string.format('models_%d_lstm/rubiks_best', i)\n",
    "    lstm_y[i-1] = best_results[name].test_acc\n",
    "end\n",
    "\n",
    "plot:xaxis('Episode Length'):yaxis('Test Accuracy')\n",
    "plot:title('Test accuracy (50000 episodes)')\n",
    "plot:line(x, full_y, 'red', 'Fully Connected')\n",
    "plot:line(x, full2_y, 'pink', 'Fully Connected 2')\n",
    "plot:line(x, rnn_y, 'blue', 'RNN')\n",
    "plot:line(x, lstm_y, 'green', 'LSTM')\n",
    "plot:legend(true)\n",
    "plot:draw()"
   ]
  },
  {
   "cell_type": "code",
   "execution_count": 6,
   "metadata": {
    "collapsed": false
   },
   "outputs": [
    {
     "data": {
      "text/plain": [
       "<csv>\tparsing file: test_results/scores.csv\t\n",
       "<csv>\ttidying up entries\t\n",
       "<csv>\treturning tidy table\t\n"
      ]
     },
     "execution_count": 6,
     "metadata": {},
     "output_type": "execute_result"
    },
    {
     "data": {
      "text/html": [
       "<script type=\"text/javascript\">\n",
       "$(function() {\n",
       "    if (typeof (window._bokeh_onload_callbacks) === \"undefined\"){\n",
       "  window._bokeh_onload_callbacks = [];\n",
       "    }\n",
       "    function load_lib(url, callback){\n",
       "  window._bokeh_onload_callbacks.push(callback);\n",
       "  if (window._bokeh_is_loading){\n",
       "      console.log(\"Bokeh: BokehJS is being loaded, scheduling callback at\", new Date());\n",
       "      return null;\n",
       "  }\n",
       "  console.log(\"Bokeh: BokehJS not loaded, scheduling load and callback at\", new Date());\n",
       "  window._bokeh_is_loading = true;\n",
       "  var s = document.createElement('script');\n",
       "  s.src = url;\n",
       "  s.async = true;\n",
       "  s.onreadystatechange = s.onload = function(){\n",
       "      Bokeh.embed.inject_css(\"http://cdn.pydata.org/bokeh-0.7.0.min.css\");\n",
       "      window._bokeh_onload_callbacks.forEach(function(callback){callback()});\n",
       "  };\n",
       "  s.onerror = function(){\n",
       "      console.warn(\"failed to load library \" + url);\n",
       "  };\n",
       "  document.getElementsByTagName(\"head\")[0].appendChild(s);\n",
       "    }\n",
       "\n",
       "    bokehjs_url = \"http://cdn.pydata.org/bokeh-0.7.0.min.js\"\n",
       "\n",
       "    var elt = document.getElementById(\"6f897ac0-ff26-4519-c5f3-08c00d0b87cd\");\n",
       "    if(elt==null) {\n",
       "  console.log(\"Bokeh: ERROR: autoload.js configured with elementid '6f897ac0-ff26-4519-c5f3-08c00d0b87cd'\"\n",
       "        + \"but no matching script tag was found. \")\n",
       "  return false;\n",
       "    }\n",
       "\n",
       "    if(typeof(Bokeh) !== \"undefined\") {\n",
       "  console.log(\"Bokeh: BokehJS loaded, going straight to plotting\");\n",
       "  var modelid = \"595acf0b-a9ae-4013-c05d-28642b4958df\";\n",
       "  var modeltype = \"Plot\";\n",
       "  var all_models = [{\"id\":\"e9c556fc-44be-4b94-cb22-6242330a5b29\",\"type\":\"ColumnDataSource\",\"attributes\":{\"data\":{\"y\":[79.65,86.9,80.4,72.69,58.01,42.79,31.19,21.77],\"x\":[2,3,4,5,6,7,8,9]},\"column_names\":[\"y\",\"x\"],\"cont_ranges\":{},\"discrete_ranges\":{},\"selected\":[],\"id\":\"e9c556fc-44be-4b94-cb22-6242330a5b29\",\"doc\":null,\"tags\":[]}},{\"id\":\"63cdae29-d8e5-4d25-cd6f-c002c1bdd632\",\"type\":\"Line\",\"attributes\":{\"fill_alpha\":{\"units\":\"data\",\"value\":0.2},\"line_alpha\":{\"units\":\"data\",\"value\":1},\"doc\":null,\"size\":{\"units\":\"screen\",\"value\":10},\"fill_color\":{\"value\":\"red\"},\"line_color\":{\"value\":\"red\"},\"x\":{\"units\":\"data\",\"field\":\"x\"},\"id\":\"63cdae29-d8e5-4d25-cd6f-c002c1bdd632\",\"y\":{\"units\":\"data\",\"field\":\"y\"},\"tags\":[]}},{\"id\":\"879eedd4-3204-4e47-ce4f-e4eee7874098\",\"type\":\"Line\",\"attributes\":{\"fill_alpha\":{\"units\":\"data\",\"value\":0.2},\"line_alpha\":{\"units\":\"data\",\"value\":1},\"doc\":null,\"size\":{\"units\":\"screen\",\"value\":10},\"fill_color\":{\"value\":\"red\"},\"line_color\":{\"value\":\"red\"},\"x\":{\"units\":\"data\",\"field\":\"x\"},\"id\":\"879eedd4-3204-4e47-ce4f-e4eee7874098\",\"y\":{\"units\":\"data\",\"field\":\"y\"},\"tags\":[]}},{\"id\":\"d912b050-9b49-47dd-c708-a95a55d6bb2b\",\"type\":\"GlyphRenderer\",\"attributes\":{\"name\":null,\"nonselection_glyph\":{\"type\":\"Line\",\"id\":\"879eedd4-3204-4e47-ce4f-e4eee7874098\"},\"doc\":null,\"server_data_source\":null,\"data_source\":{\"type\":\"ColumnDataSource\",\"id\":\"e9c556fc-44be-4b94-cb22-6242330a5b29\"},\"glyph\":{\"type\":\"Line\",\"id\":\"63cdae29-d8e5-4d25-cd6f-c002c1bdd632\"},\"selection_glyph\":null,\"id\":\"d912b050-9b49-47dd-c708-a95a55d6bb2b\",\"tags\":[]}},{\"id\":\"83cf6174-83d8-4560-c54d-eeb4c0590d89\",\"type\":\"ColumnDataSource\",\"attributes\":{\"data\":{\"y\":[80.5,84.74,83.85,76.1,60.99,46.05,32.24,21.92],\"x\":[2,3,4,5,6,7,8,9]},\"column_names\":[\"y\",\"x\"],\"cont_ranges\":{},\"discrete_ranges\":{},\"selected\":[],\"id\":\"83cf6174-83d8-4560-c54d-eeb4c0590d89\",\"doc\":null,\"tags\":[]}},{\"id\":\"c3e338b3-6705-46a9-c67d-b37158e63e27\",\"type\":\"Line\",\"attributes\":{\"fill_alpha\":{\"units\":\"data\",\"value\":0.2},\"line_alpha\":{\"units\":\"data\",\"value\":1},\"doc\":null,\"size\":{\"units\":\"screen\",\"value\":10},\"fill_color\":{\"value\":\"pink\"},\"line_color\":{\"value\":\"pink\"},\"x\":{\"units\":\"data\",\"field\":\"x\"},\"id\":\"c3e338b3-6705-46a9-c67d-b37158e63e27\",\"y\":{\"units\":\"data\",\"field\":\"y\"},\"tags\":[]}},{\"id\":\"84082131-4e92-4dae-cd99-46d07a0861bd\",\"type\":\"Line\",\"attributes\":{\"fill_alpha\":{\"units\":\"data\",\"value\":0.2},\"line_alpha\":{\"units\":\"data\",\"value\":1},\"doc\":null,\"size\":{\"units\":\"screen\",\"value\":10},\"fill_color\":{\"value\":\"pink\"},\"line_color\":{\"value\":\"pink\"},\"x\":{\"units\":\"data\",\"field\":\"x\"},\"id\":\"84082131-4e92-4dae-cd99-46d07a0861bd\",\"y\":{\"units\":\"data\",\"field\":\"y\"},\"tags\":[]}},{\"id\":\"3b2ab9be-6086-4d96-cd0b-29e168a85086\",\"type\":\"GlyphRenderer\",\"attributes\":{\"name\":null,\"nonselection_glyph\":{\"type\":\"Line\",\"id\":\"84082131-4e92-4dae-cd99-46d07a0861bd\"},\"doc\":null,\"server_data_source\":null,\"data_source\":{\"type\":\"ColumnDataSource\",\"id\":\"83cf6174-83d8-4560-c54d-eeb4c0590d89\"},\"glyph\":{\"type\":\"Line\",\"id\":\"c3e338b3-6705-46a9-c67d-b37158e63e27\"},\"selection_glyph\":null,\"id\":\"3b2ab9be-6086-4d96-cd0b-29e168a85086\",\"tags\":[]}},{\"id\":\"d5b747fd-daeb-4556-c591-a030e515e25b\",\"type\":\"ColumnDataSource\",\"attributes\":{\"data\":{\"y\":[78.38,80.03,64.22,55.62,46.81,35.17,22.97,12.69],\"x\":[2,3,4,5,6,7,8,9]},\"column_names\":[\"y\",\"x\"],\"cont_ranges\":{},\"discrete_ranges\":{},\"selected\":[],\"id\":\"d5b747fd-daeb-4556-c591-a030e515e25b\",\"doc\":null,\"tags\":[]}},{\"id\":\"69164ef6-6c17-4715-c721-37c02b62bef0\",\"type\":\"Line\",\"attributes\":{\"fill_alpha\":{\"units\":\"data\",\"value\":0.2},\"line_alpha\":{\"units\":\"data\",\"value\":1},\"doc\":null,\"size\":{\"units\":\"screen\",\"value\":10},\"fill_color\":{\"value\":\"blue\"},\"line_color\":{\"value\":\"blue\"},\"x\":{\"units\":\"data\",\"field\":\"x\"},\"id\":\"69164ef6-6c17-4715-c721-37c02b62bef0\",\"y\":{\"units\":\"data\",\"field\":\"y\"},\"tags\":[]}},{\"id\":\"5ca795bb-e696-4f46-cf25-a9f5564f16c4\",\"type\":\"Line\",\"attributes\":{\"fill_alpha\":{\"units\":\"data\",\"value\":0.2},\"line_alpha\":{\"units\":\"data\",\"value\":1},\"doc\":null,\"size\":{\"units\":\"screen\",\"value\":10},\"fill_color\":{\"value\":\"blue\"},\"line_color\":{\"value\":\"blue\"},\"x\":{\"units\":\"data\",\"field\":\"x\"},\"id\":\"5ca795bb-e696-4f46-cf25-a9f5564f16c4\",\"y\":{\"units\":\"data\",\"field\":\"y\"},\"tags\":[]}},{\"id\":\"dead1311-a44a-466b-c6df-2e448c3ddfb8\",\"type\":\"GlyphRenderer\",\"attributes\":{\"name\":null,\"nonselection_glyph\":{\"type\":\"Line\",\"id\":\"5ca795bb-e696-4f46-cf25-a9f5564f16c4\"},\"doc\":null,\"server_data_source\":null,\"data_source\":{\"type\":\"ColumnDataSource\",\"id\":\"d5b747fd-daeb-4556-c591-a030e515e25b\"},\"glyph\":{\"type\":\"Line\",\"id\":\"69164ef6-6c17-4715-c721-37c02b62bef0\"},\"selection_glyph\":null,\"id\":\"dead1311-a44a-466b-c6df-2e448c3ddfb8\",\"tags\":[]}},{\"id\":\"68f2fcf8-32da-40e7-c0d0-7a2a27313279\",\"type\":\"ColumnDataSource\",\"attributes\":{\"data\":{\"y\":[78.93,81.66,77.42,71.87,63.33,53.13,41.61,30.57],\"x\":[2,3,4,5,6,7,8,9]},\"column_names\":[\"y\",\"x\"],\"cont_ranges\":{},\"discrete_ranges\":{},\"selected\":[],\"id\":\"68f2fcf8-32da-40e7-c0d0-7a2a27313279\",\"doc\":null,\"tags\":[]}},{\"id\":\"5a378944-7b3c-4520-c586-07b43985377b\",\"type\":\"Line\",\"attributes\":{\"fill_alpha\":{\"units\":\"data\",\"value\":0.2},\"line_alpha\":{\"units\":\"data\",\"value\":1},\"doc\":null,\"size\":{\"units\":\"screen\",\"value\":10},\"fill_color\":{\"value\":\"green\"},\"line_color\":{\"value\":\"green\"},\"x\":{\"units\":\"data\",\"field\":\"x\"},\"id\":\"5a378944-7b3c-4520-c586-07b43985377b\",\"y\":{\"units\":\"data\",\"field\":\"y\"},\"tags\":[]}},{\"id\":\"374867bb-f5ed-4c03-cc94-c879f6a8e7fd\",\"type\":\"Line\",\"attributes\":{\"fill_alpha\":{\"units\":\"data\",\"value\":0.2},\"line_alpha\":{\"units\":\"data\",\"value\":1},\"doc\":null,\"size\":{\"units\":\"screen\",\"value\":10},\"fill_color\":{\"value\":\"green\"},\"line_color\":{\"value\":\"green\"},\"x\":{\"units\":\"data\",\"field\":\"x\"},\"id\":\"374867bb-f5ed-4c03-cc94-c879f6a8e7fd\",\"y\":{\"units\":\"data\",\"field\":\"y\"},\"tags\":[]}},{\"id\":\"e25517cd-3e4d-4ec9-ce13-b140731388c2\",\"type\":\"GlyphRenderer\",\"attributes\":{\"name\":null,\"nonselection_glyph\":{\"type\":\"Line\",\"id\":\"374867bb-f5ed-4c03-cc94-c879f6a8e7fd\"},\"doc\":null,\"server_data_source\":null,\"data_source\":{\"type\":\"ColumnDataSource\",\"id\":\"68f2fcf8-32da-40e7-c0d0-7a2a27313279\"},\"glyph\":{\"type\":\"Line\",\"id\":\"5a378944-7b3c-4520-c586-07b43985377b\"},\"selection_glyph\":null,\"id\":\"e25517cd-3e4d-4ec9-ce13-b140731388c2\",\"tags\":[]}},{\"id\":\"621fe168-14ef-4273-c28b-8b87a11b42a0\",\"type\":\"DataRange1d\",\"attributes\":{\"sources\":[{\"columns\":[\"x\"],\"source\":{\"type\":\"ColumnDataSource\",\"id\":\"e9c556fc-44be-4b94-cb22-6242330a5b29\"}},{\"columns\":[\"x\"],\"source\":{\"type\":\"ColumnDataSource\",\"id\":\"83cf6174-83d8-4560-c54d-eeb4c0590d89\"}},{\"columns\":[\"x\"],\"source\":{\"type\":\"ColumnDataSource\",\"id\":\"d5b747fd-daeb-4556-c591-a030e515e25b\"}},{\"columns\":[\"x\"],\"source\":{\"type\":\"ColumnDataSource\",\"id\":\"68f2fcf8-32da-40e7-c0d0-7a2a27313279\"}}],\"id\":\"621fe168-14ef-4273-c28b-8b87a11b42a0\",\"tags\":[],\"doc\":null}},{\"id\":\"38328263-8a7c-46bb-c6f9-c44451eaef01\",\"type\":\"DataRange1d\",\"attributes\":{\"sources\":[{\"columns\":[\"y\"],\"source\":{\"type\":\"ColumnDataSource\",\"id\":\"e9c556fc-44be-4b94-cb22-6242330a5b29\"}},{\"columns\":[\"y\"],\"source\":{\"type\":\"ColumnDataSource\",\"id\":\"83cf6174-83d8-4560-c54d-eeb4c0590d89\"}},{\"columns\":[\"y\"],\"source\":{\"type\":\"ColumnDataSource\",\"id\":\"d5b747fd-daeb-4556-c591-a030e515e25b\"}},{\"columns\":[\"y\"],\"source\":{\"type\":\"ColumnDataSource\",\"id\":\"68f2fcf8-32da-40e7-c0d0-7a2a27313279\"}}],\"id\":\"38328263-8a7c-46bb-c6f9-c44451eaef01\",\"tags\":[],\"doc\":null}},{\"id\":\"77dff367-a034-4c70-cc05-f6348dfc3182\",\"type\":\"ToolEvents\",\"attributes\":{\"tags\":[],\"id\":\"77dff367-a034-4c70-cc05-f6348dfc3182\",\"geometries\":[],\"doc\":null}},{\"id\":\"720ce3f4-adbd-4759-c74d-6d1c03a579fa\",\"type\":\"BasicTickFormatter\",\"attributes\":{\"id\":\"720ce3f4-adbd-4759-c74d-6d1c03a579fa\",\"tags\":[],\"doc\":null}},{\"id\":\"1ca17190-8551-4779-c7cb-80a9f4e2a7df\",\"type\":\"BasicTicker\",\"attributes\":{\"num_minor_ticks\":5,\"id\":\"1ca17190-8551-4779-c7cb-80a9f4e2a7df\",\"tags\":[],\"doc\":null}},{\"id\":\"2f86fe8e-949c-4a13-caa9-3e5857977ae1\",\"type\":\"LinearAxis\",\"attributes\":{\"formatter\":{\"type\":\"BasicTickFormatter\",\"id\":\"720ce3f4-adbd-4759-c74d-6d1c03a579fa\"},\"ticker\":{\"type\":\"BasicTicker\",\"id\":\"1ca17190-8551-4779-c7cb-80a9f4e2a7df\"},\"plot\":{\"id\":\"595acf0b-a9ae-4013-c05d-28642b4958df\",\"type\":\"Plot\",\"subtype\":\"Figure\"},\"axis_label\":\"Episode Length Trained On\",\"id\":\"2f86fe8e-949c-4a13-caa9-3e5857977ae1\",\"doc\":null,\"tags\":[]}},{\"id\":\"09dfa364-055c-4f2d-cfeb-3c05cb99a532\",\"type\":\"Grid\",\"attributes\":{\"dimension\":0,\"plot\":{\"id\":\"595acf0b-a9ae-4013-c05d-28642b4958df\",\"type\":\"Plot\",\"subtype\":\"Figure\"},\"ticker\":{\"type\":\"BasicTicker\",\"id\":\"1ca17190-8551-4779-c7cb-80a9f4e2a7df\"},\"id\":\"09dfa364-055c-4f2d-cfeb-3c05cb99a532\",\"doc\":null,\"tags\":[]}},{\"id\":\"852ef399-86af-4f40-cff6-91572f09d876\",\"type\":\"BasicTickFormatter\",\"attributes\":{\"id\":\"852ef399-86af-4f40-cff6-91572f09d876\",\"tags\":[],\"doc\":null}},{\"id\":\"c7484057-4e31-4147-c105-8a831a95b851\",\"type\":\"BasicTicker\",\"attributes\":{\"num_minor_ticks\":5,\"id\":\"c7484057-4e31-4147-c105-8a831a95b851\",\"tags\":[],\"doc\":null}},{\"id\":\"7ca36d43-9f1c-4602-c6f8-e30d7fb8cc4f\",\"type\":\"LinearAxis\",\"attributes\":{\"formatter\":{\"type\":\"BasicTickFormatter\",\"id\":\"852ef399-86af-4f40-cff6-91572f09d876\"},\"ticker\":{\"type\":\"BasicTicker\",\"id\":\"c7484057-4e31-4147-c105-8a831a95b851\"},\"plot\":{\"id\":\"595acf0b-a9ae-4013-c05d-28642b4958df\",\"type\":\"Plot\",\"subtype\":\"Figure\"},\"axis_label\":\"Solve Percentage\",\"id\":\"7ca36d43-9f1c-4602-c6f8-e30d7fb8cc4f\",\"doc\":null,\"tags\":[]}},{\"id\":\"f6d71c74-7cfb-4362-c349-3a585482f586\",\"type\":\"Grid\",\"attributes\":{\"dimension\":1,\"plot\":{\"id\":\"595acf0b-a9ae-4013-c05d-28642b4958df\",\"type\":\"Plot\",\"subtype\":\"Figure\"},\"ticker\":{\"type\":\"BasicTicker\",\"id\":\"c7484057-4e31-4147-c105-8a831a95b851\"},\"id\":\"f6d71c74-7cfb-4362-c349-3a585482f586\",\"doc\":null,\"tags\":[]}},{\"id\":\"351ac447-c818-4f0b-cf4b-2ef056d2039a\",\"type\":\"PanTool\",\"attributes\":{\"plot\":{\"id\":\"595acf0b-a9ae-4013-c05d-28642b4958df\",\"type\":\"Plot\",\"subtype\":\"Figure\"},\"dimensions\":[\"width\",\"height\"],\"id\":\"351ac447-c818-4f0b-cf4b-2ef056d2039a\",\"doc\":null,\"tags\":[]}},{\"id\":\"68469f62-13e4-4d27-cda5-3d3e095dc96f\",\"type\":\"WheelZoomTool\",\"attributes\":{\"plot\":{\"id\":\"595acf0b-a9ae-4013-c05d-28642b4958df\",\"type\":\"Plot\",\"subtype\":\"Figure\"},\"dimensions\":[\"width\",\"height\"],\"id\":\"68469f62-13e4-4d27-cda5-3d3e095dc96f\",\"doc\":null,\"tags\":[]}},{\"id\":\"5555784c-21ae-4b1e-cbe6-692d6625e94c\",\"type\":\"BoxZoomTool\",\"attributes\":{\"plot\":{\"id\":\"595acf0b-a9ae-4013-c05d-28642b4958df\",\"type\":\"Plot\",\"subtype\":\"Figure\"},\"id\":\"5555784c-21ae-4b1e-cbe6-692d6625e94c\",\"tags\":[],\"doc\":null}},{\"id\":\"8e06e78b-290c-40ab-c0e2-f20a21239b49\",\"type\":\"PreviewSaveTool\",\"attributes\":{\"plot\":{\"id\":\"595acf0b-a9ae-4013-c05d-28642b4958df\",\"type\":\"Plot\",\"subtype\":\"Figure\"},\"id\":\"8e06e78b-290c-40ab-c0e2-f20a21239b49\",\"tags\":[],\"doc\":null}},{\"id\":\"889063d5-6197-4825-c801-0943a9477086\",\"type\":\"ResizeTool\",\"attributes\":{\"plot\":{\"id\":\"595acf0b-a9ae-4013-c05d-28642b4958df\",\"type\":\"Plot\",\"subtype\":\"Figure\"},\"id\":\"889063d5-6197-4825-c801-0943a9477086\",\"tags\":[],\"doc\":null}},{\"id\":\"003a2821-2281-4bb6-cb26-fed19c8bdf36\",\"type\":\"ResetTool\",\"attributes\":{\"plot\":{\"id\":\"595acf0b-a9ae-4013-c05d-28642b4958df\",\"type\":\"Plot\",\"subtype\":\"Figure\"},\"id\":\"003a2821-2281-4bb6-cb26-fed19c8bdf36\",\"tags\":[],\"doc\":null}},{\"id\":\"3b6f28be-87f8-41e7-c1f7-4faf32e3fce3\",\"type\":\"Legend\",\"attributes\":{\"plot\":{\"id\":\"595acf0b-a9ae-4013-c05d-28642b4958df\",\"type\":\"Plot\",\"subtype\":\"Figure\"},\"legends\":[[\"Fully Connected\",[{\"type\":\"GlyphRenderer\",\"id\":\"d912b050-9b49-47dd-c708-a95a55d6bb2b\"}]],[\"Fully Connected 2\",[{\"type\":\"GlyphRenderer\",\"id\":\"3b2ab9be-6086-4d96-cd0b-29e168a85086\"}]],[\"RNN\",[{\"type\":\"GlyphRenderer\",\"id\":\"dead1311-a44a-466b-c6df-2e448c3ddfb8\"}]],[\"LSTM\",[{\"type\":\"GlyphRenderer\",\"id\":\"e25517cd-3e4d-4ec9-ce13-b140731388c2\"}]]],\"id\":\"3b6f28be-87f8-41e7-c1f7-4faf32e3fce3\",\"doc\":null,\"tags\":[]}},{\"id\":\"595acf0b-a9ae-4013-c05d-28642b4958df\",\"type\":\"Plot\",\"attributes\":{\"x_range\":{\"type\":\"DataRange1d\",\"id\":\"621fe168-14ef-4273-c28b-8b87a11b42a0\"},\"tool_events\":{\"type\":\"ToolEvents\",\"id\":\"77dff367-a034-4c70-cc05-f6348dfc3182\"},\"below\":[{\"type\":\"LinearAxis\",\"id\":\"2f86fe8e-949c-4a13-caa9-3e5857977ae1\"}],\"renderers\":[{\"type\":\"GlyphRenderer\",\"id\":\"d912b050-9b49-47dd-c708-a95a55d6bb2b\"},{\"type\":\"GlyphRenderer\",\"id\":\"3b2ab9be-6086-4d96-cd0b-29e168a85086\"},{\"type\":\"GlyphRenderer\",\"id\":\"dead1311-a44a-466b-c6df-2e448c3ddfb8\"},{\"type\":\"GlyphRenderer\",\"id\":\"e25517cd-3e4d-4ec9-ce13-b140731388c2\"},{\"type\":\"LinearAxis\",\"id\":\"2f86fe8e-949c-4a13-caa9-3e5857977ae1\"},{\"type\":\"Grid\",\"id\":\"09dfa364-055c-4f2d-cfeb-3c05cb99a532\"},{\"type\":\"LinearAxis\",\"id\":\"7ca36d43-9f1c-4602-c6f8-e30d7fb8cc4f\"},{\"type\":\"Grid\",\"id\":\"f6d71c74-7cfb-4362-c349-3a585482f586\"},{\"type\":\"Legend\",\"id\":\"3b6f28be-87f8-41e7-c1f7-4faf32e3fce3\"}],\"above\":[],\"tools\":[{\"type\":\"PanTool\",\"id\":\"351ac447-c818-4f0b-cf4b-2ef056d2039a\"},{\"type\":\"WheelZoomTool\",\"id\":\"68469f62-13e4-4d27-cda5-3d3e095dc96f\"},{\"type\":\"BoxZoomTool\",\"id\":\"5555784c-21ae-4b1e-cbe6-692d6625e94c\"},{\"type\":\"PreviewSaveTool\",\"id\":\"8e06e78b-290c-40ab-c0e2-f20a21239b49\"},{\"type\":\"ResizeTool\",\"id\":\"889063d5-6197-4825-c801-0943a9477086\"},{\"type\":\"ResetTool\",\"id\":\"003a2821-2281-4bb6-cb26-fed19c8bdf36\"}],\"doc\":null,\"right\":[],\"title\":\"Solve Percentage in Real World Tests\",\"extra_x_ranges\":{},\"left\":[{\"type\":\"LinearAxis\",\"id\":\"7ca36d43-9f1c-4602-c6f8-e30d7fb8cc4f\"}],\"y_range\":{\"type\":\"DataRange1d\",\"id\":\"38328263-8a7c-46bb-c6f9-c44451eaef01\"},\"id\":\"595acf0b-a9ae-4013-c05d-28642b4958df\",\"extra_y_ranges\":{},\"tags\":[]}}];\n",
       "  Bokeh.load_models(all_models);\n",
       "  var model = Bokeh.Collections(modeltype).get(modelid);\n",
       "  $(\"#6f897ac0-ff26-4519-c5f3-08c00d0b87cd\").html(''); // clear any previous plot in window_id\n",
       "  var view = new model.default_view({model: model, el: \"#6f897ac0-ff26-4519-c5f3-08c00d0b87cd\"});\n",
       "    } else {\n",
       "  load_lib(bokehjs_url, function() {\n",
       "      console.log(\"Bokeh: BokehJS plotting callback run at\", new Date())\n",
       "      var modelid = \"595acf0b-a9ae-4013-c05d-28642b4958df\";\n",
       "      var modeltype = \"Plot\";\n",
       "      var all_models = [{\"id\":\"e9c556fc-44be-4b94-cb22-6242330a5b29\",\"type\":\"ColumnDataSource\",\"attributes\":{\"data\":{\"y\":[79.65,86.9,80.4,72.69,58.01,42.79,31.19,21.77],\"x\":[2,3,4,5,6,7,8,9]},\"column_names\":[\"y\",\"x\"],\"cont_ranges\":{},\"discrete_ranges\":{},\"selected\":[],\"id\":\"e9c556fc-44be-4b94-cb22-6242330a5b29\",\"doc\":null,\"tags\":[]}},{\"id\":\"63cdae29-d8e5-4d25-cd6f-c002c1bdd632\",\"type\":\"Line\",\"attributes\":{\"fill_alpha\":{\"units\":\"data\",\"value\":0.2},\"line_alpha\":{\"units\":\"data\",\"value\":1},\"doc\":null,\"size\":{\"units\":\"screen\",\"value\":10},\"fill_color\":{\"value\":\"red\"},\"line_color\":{\"value\":\"red\"},\"x\":{\"units\":\"data\",\"field\":\"x\"},\"id\":\"63cdae29-d8e5-4d25-cd6f-c002c1bdd632\",\"y\":{\"units\":\"data\",\"field\":\"y\"},\"tags\":[]}},{\"id\":\"879eedd4-3204-4e47-ce4f-e4eee7874098\",\"type\":\"Line\",\"attributes\":{\"fill_alpha\":{\"units\":\"data\",\"value\":0.2},\"line_alpha\":{\"units\":\"data\",\"value\":1},\"doc\":null,\"size\":{\"units\":\"screen\",\"value\":10},\"fill_color\":{\"value\":\"red\"},\"line_color\":{\"value\":\"red\"},\"x\":{\"units\":\"data\",\"field\":\"x\"},\"id\":\"879eedd4-3204-4e47-ce4f-e4eee7874098\",\"y\":{\"units\":\"data\",\"field\":\"y\"},\"tags\":[]}},{\"id\":\"d912b050-9b49-47dd-c708-a95a55d6bb2b\",\"type\":\"GlyphRenderer\",\"attributes\":{\"name\":null,\"nonselection_glyph\":{\"type\":\"Line\",\"id\":\"879eedd4-3204-4e47-ce4f-e4eee7874098\"},\"doc\":null,\"server_data_source\":null,\"data_source\":{\"type\":\"ColumnDataSource\",\"id\":\"e9c556fc-44be-4b94-cb22-6242330a5b29\"},\"glyph\":{\"type\":\"Line\",\"id\":\"63cdae29-d8e5-4d25-cd6f-c002c1bdd632\"},\"selection_glyph\":null,\"id\":\"d912b050-9b49-47dd-c708-a95a55d6bb2b\",\"tags\":[]}},{\"id\":\"83cf6174-83d8-4560-c54d-eeb4c0590d89\",\"type\":\"ColumnDataSource\",\"attributes\":{\"data\":{\"y\":[80.5,84.74,83.85,76.1,60.99,46.05,32.24,21.92],\"x\":[2,3,4,5,6,7,8,9]},\"column_names\":[\"y\",\"x\"],\"cont_ranges\":{},\"discrete_ranges\":{},\"selected\":[],\"id\":\"83cf6174-83d8-4560-c54d-eeb4c0590d89\",\"doc\":null,\"tags\":[]}},{\"id\":\"c3e338b3-6705-46a9-c67d-b37158e63e27\",\"type\":\"Line\",\"attributes\":{\"fill_alpha\":{\"units\":\"data\",\"value\":0.2},\"line_alpha\":{\"units\":\"data\",\"value\":1},\"doc\":null,\"size\":{\"units\":\"screen\",\"value\":10},\"fill_color\":{\"value\":\"pink\"},\"line_color\":{\"value\":\"pink\"},\"x\":{\"units\":\"data\",\"field\":\"x\"},\"id\":\"c3e338b3-6705-46a9-c67d-b37158e63e27\",\"y\":{\"units\":\"data\",\"field\":\"y\"},\"tags\":[]}},{\"id\":\"84082131-4e92-4dae-cd99-46d07a0861bd\",\"type\":\"Line\",\"attributes\":{\"fill_alpha\":{\"units\":\"data\",\"value\":0.2},\"line_alpha\":{\"units\":\"data\",\"value\":1},\"doc\":null,\"size\":{\"units\":\"screen\",\"value\":10},\"fill_color\":{\"value\":\"pink\"},\"line_color\":{\"value\":\"pink\"},\"x\":{\"units\":\"data\",\"field\":\"x\"},\"id\":\"84082131-4e92-4dae-cd99-46d07a0861bd\",\"y\":{\"units\":\"data\",\"field\":\"y\"},\"tags\":[]}},{\"id\":\"3b2ab9be-6086-4d96-cd0b-29e168a85086\",\"type\":\"GlyphRenderer\",\"attributes\":{\"name\":null,\"nonselection_glyph\":{\"type\":\"Line\",\"id\":\"84082131-4e92-4dae-cd99-46d07a0861bd\"},\"doc\":null,\"server_data_source\":null,\"data_source\":{\"type\":\"ColumnDataSource\",\"id\":\"83cf6174-83d8-4560-c54d-eeb4c0590d89\"},\"glyph\":{\"type\":\"Line\",\"id\":\"c3e338b3-6705-46a9-c67d-b37158e63e27\"},\"selection_glyph\":null,\"id\":\"3b2ab9be-6086-4d96-cd0b-29e168a85086\",\"tags\":[]}},{\"id\":\"d5b747fd-daeb-4556-c591-a030e515e25b\",\"type\":\"ColumnDataSource\",\"attributes\":{\"data\":{\"y\":[78.38,80.03,64.22,55.62,46.81,35.17,22.97,12.69],\"x\":[2,3,4,5,6,7,8,9]},\"column_names\":[\"y\",\"x\"],\"cont_ranges\":{},\"discrete_ranges\":{},\"selected\":[],\"id\":\"d5b747fd-daeb-4556-c591-a030e515e25b\",\"doc\":null,\"tags\":[]}},{\"id\":\"69164ef6-6c17-4715-c721-37c02b62bef0\",\"type\":\"Line\",\"attributes\":{\"fill_alpha\":{\"units\":\"data\",\"value\":0.2},\"line_alpha\":{\"units\":\"data\",\"value\":1},\"doc\":null,\"size\":{\"units\":\"screen\",\"value\":10},\"fill_color\":{\"value\":\"blue\"},\"line_color\":{\"value\":\"blue\"},\"x\":{\"units\":\"data\",\"field\":\"x\"},\"id\":\"69164ef6-6c17-4715-c721-37c02b62bef0\",\"y\":{\"units\":\"data\",\"field\":\"y\"},\"tags\":[]}},{\"id\":\"5ca795bb-e696-4f46-cf25-a9f5564f16c4\",\"type\":\"Line\",\"attributes\":{\"fill_alpha\":{\"units\":\"data\",\"value\":0.2},\"line_alpha\":{\"units\":\"data\",\"value\":1},\"doc\":null,\"size\":{\"units\":\"screen\",\"value\":10},\"fill_color\":{\"value\":\"blue\"},\"line_color\":{\"value\":\"blue\"},\"x\":{\"units\":\"data\",\"field\":\"x\"},\"id\":\"5ca795bb-e696-4f46-cf25-a9f5564f16c4\",\"y\":{\"units\":\"data\",\"field\":\"y\"},\"tags\":[]}},{\"id\":\"dead1311-a44a-466b-c6df-2e448c3ddfb8\",\"type\":\"GlyphRenderer\",\"attributes\":{\"name\":null,\"nonselection_glyph\":{\"type\":\"Line\",\"id\":\"5ca795bb-e696-4f46-cf25-a9f5564f16c4\"},\"doc\":null,\"server_data_source\":null,\"data_source\":{\"type\":\"ColumnDataSource\",\"id\":\"d5b747fd-daeb-4556-c591-a030e515e25b\"},\"glyph\":{\"type\":\"Line\",\"id\":\"69164ef6-6c17-4715-c721-37c02b62bef0\"},\"selection_glyph\":null,\"id\":\"dead1311-a44a-466b-c6df-2e448c3ddfb8\",\"tags\":[]}},{\"id\":\"68f2fcf8-32da-40e7-c0d0-7a2a27313279\",\"type\":\"ColumnDataSource\",\"attributes\":{\"data\":{\"y\":[78.93,81.66,77.42,71.87,63.33,53.13,41.61,30.57],\"x\":[2,3,4,5,6,7,8,9]},\"column_names\":[\"y\",\"x\"],\"cont_ranges\":{},\"discrete_ranges\":{},\"selected\":[],\"id\":\"68f2fcf8-32da-40e7-c0d0-7a2a27313279\",\"doc\":null,\"tags\":[]}},{\"id\":\"5a378944-7b3c-4520-c586-07b43985377b\",\"type\":\"Line\",\"attributes\":{\"fill_alpha\":{\"units\":\"data\",\"value\":0.2},\"line_alpha\":{\"units\":\"data\",\"value\":1},\"doc\":null,\"size\":{\"units\":\"screen\",\"value\":10},\"fill_color\":{\"value\":\"green\"},\"line_color\":{\"value\":\"green\"},\"x\":{\"units\":\"data\",\"field\":\"x\"},\"id\":\"5a378944-7b3c-4520-c586-07b43985377b\",\"y\":{\"units\":\"data\",\"field\":\"y\"},\"tags\":[]}},{\"id\":\"374867bb-f5ed-4c03-cc94-c879f6a8e7fd\",\"type\":\"Line\",\"attributes\":{\"fill_alpha\":{\"units\":\"data\",\"value\":0.2},\"line_alpha\":{\"units\":\"data\",\"value\":1},\"doc\":null,\"size\":{\"units\":\"screen\",\"value\":10},\"fill_color\":{\"value\":\"green\"},\"line_color\":{\"value\":\"green\"},\"x\":{\"units\":\"data\",\"field\":\"x\"},\"id\":\"374867bb-f5ed-4c03-cc94-c879f6a8e7fd\",\"y\":{\"units\":\"data\",\"field\":\"y\"},\"tags\":[]}},{\"id\":\"e25517cd-3e4d-4ec9-ce13-b140731388c2\",\"type\":\"GlyphRenderer\",\"attributes\":{\"name\":null,\"nonselection_glyph\":{\"type\":\"Line\",\"id\":\"374867bb-f5ed-4c03-cc94-c879f6a8e7fd\"},\"doc\":null,\"server_data_source\":null,\"data_source\":{\"type\":\"ColumnDataSource\",\"id\":\"68f2fcf8-32da-40e7-c0d0-7a2a27313279\"},\"glyph\":{\"type\":\"Line\",\"id\":\"5a378944-7b3c-4520-c586-07b43985377b\"},\"selection_glyph\":null,\"id\":\"e25517cd-3e4d-4ec9-ce13-b140731388c2\",\"tags\":[]}},{\"id\":\"621fe168-14ef-4273-c28b-8b87a11b42a0\",\"type\":\"DataRange1d\",\"attributes\":{\"sources\":[{\"columns\":[\"x\"],\"source\":{\"type\":\"ColumnDataSource\",\"id\":\"e9c556fc-44be-4b94-cb22-6242330a5b29\"}},{\"columns\":[\"x\"],\"source\":{\"type\":\"ColumnDataSource\",\"id\":\"83cf6174-83d8-4560-c54d-eeb4c0590d89\"}},{\"columns\":[\"x\"],\"source\":{\"type\":\"ColumnDataSource\",\"id\":\"d5b747fd-daeb-4556-c591-a030e515e25b\"}},{\"columns\":[\"x\"],\"source\":{\"type\":\"ColumnDataSource\",\"id\":\"68f2fcf8-32da-40e7-c0d0-7a2a27313279\"}}],\"id\":\"621fe168-14ef-4273-c28b-8b87a11b42a0\",\"tags\":[],\"doc\":null}},{\"id\":\"38328263-8a7c-46bb-c6f9-c44451eaef01\",\"type\":\"DataRange1d\",\"attributes\":{\"sources\":[{\"columns\":[\"y\"],\"source\":{\"type\":\"ColumnDataSource\",\"id\":\"e9c556fc-44be-4b94-cb22-6242330a5b29\"}},{\"columns\":[\"y\"],\"source\":{\"type\":\"ColumnDataSource\",\"id\":\"83cf6174-83d8-4560-c54d-eeb4c0590d89\"}},{\"columns\":[\"y\"],\"source\":{\"type\":\"ColumnDataSource\",\"id\":\"d5b747fd-daeb-4556-c591-a030e515e25b\"}},{\"columns\":[\"y\"],\"source\":{\"type\":\"ColumnDataSource\",\"id\":\"68f2fcf8-32da-40e7-c0d0-7a2a27313279\"}}],\"id\":\"38328263-8a7c-46bb-c6f9-c44451eaef01\",\"tags\":[],\"doc\":null}},{\"id\":\"77dff367-a034-4c70-cc05-f6348dfc3182\",\"type\":\"ToolEvents\",\"attributes\":{\"tags\":[],\"id\":\"77dff367-a034-4c70-cc05-f6348dfc3182\",\"geometries\":[],\"doc\":null}},{\"id\":\"720ce3f4-adbd-4759-c74d-6d1c03a579fa\",\"type\":\"BasicTickFormatter\",\"attributes\":{\"id\":\"720ce3f4-adbd-4759-c74d-6d1c03a579fa\",\"tags\":[],\"doc\":null}},{\"id\":\"1ca17190-8551-4779-c7cb-80a9f4e2a7df\",\"type\":\"BasicTicker\",\"attributes\":{\"num_minor_ticks\":5,\"id\":\"1ca17190-8551-4779-c7cb-80a9f4e2a7df\",\"tags\":[],\"doc\":null}},{\"id\":\"2f86fe8e-949c-4a13-caa9-3e5857977ae1\",\"type\":\"LinearAxis\",\"attributes\":{\"formatter\":{\"type\":\"BasicTickFormatter\",\"id\":\"720ce3f4-adbd-4759-c74d-6d1c03a579fa\"},\"ticker\":{\"type\":\"BasicTicker\",\"id\":\"1ca17190-8551-4779-c7cb-80a9f4e2a7df\"},\"plot\":{\"id\":\"595acf0b-a9ae-4013-c05d-28642b4958df\",\"type\":\"Plot\",\"subtype\":\"Figure\"},\"axis_label\":\"Episode Length Trained On\",\"id\":\"2f86fe8e-949c-4a13-caa9-3e5857977ae1\",\"doc\":null,\"tags\":[]}},{\"id\":\"09dfa364-055c-4f2d-cfeb-3c05cb99a532\",\"type\":\"Grid\",\"attributes\":{\"dimension\":0,\"plot\":{\"id\":\"595acf0b-a9ae-4013-c05d-28642b4958df\",\"type\":\"Plot\",\"subtype\":\"Figure\"},\"ticker\":{\"type\":\"BasicTicker\",\"id\":\"1ca17190-8551-4779-c7cb-80a9f4e2a7df\"},\"id\":\"09dfa364-055c-4f2d-cfeb-3c05cb99a532\",\"doc\":null,\"tags\":[]}},{\"id\":\"852ef399-86af-4f40-cff6-91572f09d876\",\"type\":\"BasicTickFormatter\",\"attributes\":{\"id\":\"852ef399-86af-4f40-cff6-91572f09d876\",\"tags\":[],\"doc\":null}},{\"id\":\"c7484057-4e31-4147-c105-8a831a95b851\",\"type\":\"BasicTicker\",\"attributes\":{\"num_minor_ticks\":5,\"id\":\"c7484057-4e31-4147-c105-8a831a95b851\",\"tags\":[],\"doc\":null}},{\"id\":\"7ca36d43-9f1c-4602-c6f8-e30d7fb8cc4f\",\"type\":\"LinearAxis\",\"attributes\":{\"formatter\":{\"type\":\"BasicTickFormatter\",\"id\":\"852ef399-86af-4f40-cff6-91572f09d876\"},\"ticker\":{\"type\":\"BasicTicker\",\"id\":\"c7484057-4e31-4147-c105-8a831a95b851\"},\"plot\":{\"id\":\"595acf0b-a9ae-4013-c05d-28642b4958df\",\"type\":\"Plot\",\"subtype\":\"Figure\"},\"axis_label\":\"Solve Percentage\",\"id\":\"7ca36d43-9f1c-4602-c6f8-e30d7fb8cc4f\",\"doc\":null,\"tags\":[]}},{\"id\":\"f6d71c74-7cfb-4362-c349-3a585482f586\",\"type\":\"Grid\",\"attributes\":{\"dimension\":1,\"plot\":{\"id\":\"595acf0b-a9ae-4013-c05d-28642b4958df\",\"type\":\"Plot\",\"subtype\":\"Figure\"},\"ticker\":{\"type\":\"BasicTicker\",\"id\":\"c7484057-4e31-4147-c105-8a831a95b851\"},\"id\":\"f6d71c74-7cfb-4362-c349-3a585482f586\",\"doc\":null,\"tags\":[]}},{\"id\":\"351ac447-c818-4f0b-cf4b-2ef056d2039a\",\"type\":\"PanTool\",\"attributes\":{\"plot\":{\"id\":\"595acf0b-a9ae-4013-c05d-28642b4958df\",\"type\":\"Plot\",\"subtype\":\"Figure\"},\"dimensions\":[\"width\",\"height\"],\"id\":\"351ac447-c818-4f0b-cf4b-2ef056d2039a\",\"doc\":null,\"tags\":[]}},{\"id\":\"68469f62-13e4-4d27-cda5-3d3e095dc96f\",\"type\":\"WheelZoomTool\",\"attributes\":{\"plot\":{\"id\":\"595acf0b-a9ae-4013-c05d-28642b4958df\",\"type\":\"Plot\",\"subtype\":\"Figure\"},\"dimensions\":[\"width\",\"height\"],\"id\":\"68469f62-13e4-4d27-cda5-3d3e095dc96f\",\"doc\":null,\"tags\":[]}},{\"id\":\"5555784c-21ae-4b1e-cbe6-692d6625e94c\",\"type\":\"BoxZoomTool\",\"attributes\":{\"plot\":{\"id\":\"595acf0b-a9ae-4013-c05d-28642b4958df\",\"type\":\"Plot\",\"subtype\":\"Figure\"},\"id\":\"5555784c-21ae-4b1e-cbe6-692d6625e94c\",\"tags\":[],\"doc\":null}},{\"id\":\"8e06e78b-290c-40ab-c0e2-f20a21239b49\",\"type\":\"PreviewSaveTool\",\"attributes\":{\"plot\":{\"id\":\"595acf0b-a9ae-4013-c05d-28642b4958df\",\"type\":\"Plot\",\"subtype\":\"Figure\"},\"id\":\"8e06e78b-290c-40ab-c0e2-f20a21239b49\",\"tags\":[],\"doc\":null}},{\"id\":\"889063d5-6197-4825-c801-0943a9477086\",\"type\":\"ResizeTool\",\"attributes\":{\"plot\":{\"id\":\"595acf0b-a9ae-4013-c05d-28642b4958df\",\"type\":\"Plot\",\"subtype\":\"Figure\"},\"id\":\"889063d5-6197-4825-c801-0943a9477086\",\"tags\":[],\"doc\":null}},{\"id\":\"003a2821-2281-4bb6-cb26-fed19c8bdf36\",\"type\":\"ResetTool\",\"attributes\":{\"plot\":{\"id\":\"595acf0b-a9ae-4013-c05d-28642b4958df\",\"type\":\"Plot\",\"subtype\":\"Figure\"},\"id\":\"003a2821-2281-4bb6-cb26-fed19c8bdf36\",\"tags\":[],\"doc\":null}},{\"id\":\"3b6f28be-87f8-41e7-c1f7-4faf32e3fce3\",\"type\":\"Legend\",\"attributes\":{\"plot\":{\"id\":\"595acf0b-a9ae-4013-c05d-28642b4958df\",\"type\":\"Plot\",\"subtype\":\"Figure\"},\"legends\":[[\"Fully Connected\",[{\"type\":\"GlyphRenderer\",\"id\":\"d912b050-9b49-47dd-c708-a95a55d6bb2b\"}]],[\"Fully Connected 2\",[{\"type\":\"GlyphRenderer\",\"id\":\"3b2ab9be-6086-4d96-cd0b-29e168a85086\"}]],[\"RNN\",[{\"type\":\"GlyphRenderer\",\"id\":\"dead1311-a44a-466b-c6df-2e448c3ddfb8\"}]],[\"LSTM\",[{\"type\":\"GlyphRenderer\",\"id\":\"e25517cd-3e4d-4ec9-ce13-b140731388c2\"}]]],\"id\":\"3b6f28be-87f8-41e7-c1f7-4faf32e3fce3\",\"doc\":null,\"tags\":[]}},{\"id\":\"595acf0b-a9ae-4013-c05d-28642b4958df\",\"type\":\"Plot\",\"attributes\":{\"x_range\":{\"type\":\"DataRange1d\",\"id\":\"621fe168-14ef-4273-c28b-8b87a11b42a0\"},\"tool_events\":{\"type\":\"ToolEvents\",\"id\":\"77dff367-a034-4c70-cc05-f6348dfc3182\"},\"below\":[{\"type\":\"LinearAxis\",\"id\":\"2f86fe8e-949c-4a13-caa9-3e5857977ae1\"}],\"renderers\":[{\"type\":\"GlyphRenderer\",\"id\":\"d912b050-9b49-47dd-c708-a95a55d6bb2b\"},{\"type\":\"GlyphRenderer\",\"id\":\"3b2ab9be-6086-4d96-cd0b-29e168a85086\"},{\"type\":\"GlyphRenderer\",\"id\":\"dead1311-a44a-466b-c6df-2e448c3ddfb8\"},{\"type\":\"GlyphRenderer\",\"id\":\"e25517cd-3e4d-4ec9-ce13-b140731388c2\"},{\"type\":\"LinearAxis\",\"id\":\"2f86fe8e-949c-4a13-caa9-3e5857977ae1\"},{\"type\":\"Grid\",\"id\":\"09dfa364-055c-4f2d-cfeb-3c05cb99a532\"},{\"type\":\"LinearAxis\",\"id\":\"7ca36d43-9f1c-4602-c6f8-e30d7fb8cc4f\"},{\"type\":\"Grid\",\"id\":\"f6d71c74-7cfb-4362-c349-3a585482f586\"},{\"type\":\"Legend\",\"id\":\"3b6f28be-87f8-41e7-c1f7-4faf32e3fce3\"}],\"above\":[],\"tools\":[{\"type\":\"PanTool\",\"id\":\"351ac447-c818-4f0b-cf4b-2ef056d2039a\"},{\"type\":\"WheelZoomTool\",\"id\":\"68469f62-13e4-4d27-cda5-3d3e095dc96f\"},{\"type\":\"BoxZoomTool\",\"id\":\"5555784c-21ae-4b1e-cbe6-692d6625e94c\"},{\"type\":\"PreviewSaveTool\",\"id\":\"8e06e78b-290c-40ab-c0e2-f20a21239b49\"},{\"type\":\"ResizeTool\",\"id\":\"889063d5-6197-4825-c801-0943a9477086\"},{\"type\":\"ResetTool\",\"id\":\"003a2821-2281-4bb6-cb26-fed19c8bdf36\"}],\"doc\":null,\"right\":[],\"title\":\"Solve Percentage in Real World Tests\",\"extra_x_ranges\":{},\"left\":[{\"type\":\"LinearAxis\",\"id\":\"7ca36d43-9f1c-4602-c6f8-e30d7fb8cc4f\"}],\"y_range\":{\"type\":\"DataRange1d\",\"id\":\"38328263-8a7c-46bb-c6f9-c44451eaef01\"},\"id\":\"595acf0b-a9ae-4013-c05d-28642b4958df\",\"extra_y_ranges\":{},\"tags\":[]}}];\n",
       "      Bokeh.load_models(all_models);\n",
       "      var model = Bokeh.Collections(modeltype).get(modelid);\n",
       "      $(\"#6f897ac0-ff26-4519-c5f3-08c00d0b87cd\").html(''); // clear any previous plot in window_id\n",
       "      var view = new model.default_view({model: model, el: \"#6f897ac0-ff26-4519-c5f3-08c00d0b87cd\"});\n",
       "  });\n",
       "    }\n",
       "});\n",
       "</script>\n",
       "<div class=\"plotdiv\" id=\"6f897ac0-ff26-4519-c5f3-08c00d0b87cd\"></div>\n"
      ]
     },
     "metadata": {},
     "output_type": "display_data"
    }
   ],
   "source": [
    "require 'csvigo'\n",
    "data = csvigo.load('test_results/scores.csv')\n",
    "-- Divide into the ones for each model type\n",
    "-- This assumes the model names are sorted by episode length, then by type\n",
    "-- in alphabetical order\n",
    "percents = torch.Tensor(data.percent)\n",
    "inds = torch.range(1, 4 * 8, 4):type('torch.LongTensor')\n",
    "\n",
    "x = torch.range(2,9)\n",
    "full_y = percents:index(1, inds)\n",
    "full2_y = percents:index(1, inds + 1)\n",
    "lstm_y = percents:index(1, inds + 2)\n",
    "rnn_y = percents:index(1, inds + 3)\n",
    "\n",
    "-- TODO describe this graph more\n",
    "-- for episode length i, tested on length i + 1.\n",
    "plot = itorch.Plot()\n",
    "plot:xaxis('Episode Length Trained On'):yaxis('Solve Percentage')\n",
    "plot:title('Solve Percentage in Real World Tests')\n",
    "plot:line(x, full_y, 'red', 'Fully Connected')\n",
    "plot:line(x, full2_y, 'pink', 'Fully Connected 2')\n",
    "plot:line(x, rnn_y, 'blue', 'RNN')\n",
    "plot:line(x, lstm_y, 'green', 'LSTM')\n",
    "plot:legend(true)\n",
    "plot:draw()"
   ]
  },
  {
   "cell_type": "code",
   "execution_count": null,
   "metadata": {
    "collapsed": true
   },
   "outputs": [],
   "source": []
  }
 ],
 "metadata": {
  "kernelspec": {
   "display_name": "iTorch",
   "language": "lua",
   "name": "itorch"
  },
  "language_info": {
   "name": "lua",
   "version": "20100"
  }
 },
 "nbformat": 4,
 "nbformat_minor": 0
}
